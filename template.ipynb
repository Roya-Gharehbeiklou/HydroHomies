{
 "cells": [
  {
   "cell_type": "markdown",
   "metadata": {},
   "source": [
    "# HydroHomies Plots\n",
    "In this notebook, the plots, figures and also some explanations or details about each of them are being presented.  \n",
    "\n",
    "To clarify plots, please follow this order:\n",
    "- Title for each plot is mandatory\n",
    "- Analysis must be written \n",
    "- legends are manedatory"
   ]
  },
  {
   "cell_type": "markdown",
   "metadata": {},
   "source": [
    "### Importing the needed modules"
   ]
  },
  {
   "cell_type": "code",
   "execution_count": 75,
   "metadata": {},
   "outputs": [
    {
     "data": {
      "text/html": [
       "<div class=\"bk-root\">\n",
       "        <a href=\"https://bokeh.org\" target=\"_blank\" class=\"bk-logo bk-logo-small bk-logo-notebook\"></a>\n",
       "        <span id=\"7298\">Loading BokehJS ...</span>\n",
       "    </div>\n"
      ]
     },
     "metadata": {},
     "output_type": "display_data"
    },
    {
     "data": {
      "application/javascript": "(function(root) {\n  function now() {\n    return new Date();\n  }\n\n  const force = true;\n\n  if (typeof root._bokeh_onload_callbacks === \"undefined\" || force === true) {\n    root._bokeh_onload_callbacks = [];\n    root._bokeh_is_loading = undefined;\n  }\n\nconst JS_MIME_TYPE = 'application/javascript';\n  const HTML_MIME_TYPE = 'text/html';\n  const EXEC_MIME_TYPE = 'application/vnd.bokehjs_exec.v0+json';\n  const CLASS_NAME = 'output_bokeh rendered_html';\n\n  /**\n   * Render data to the DOM node\n   */\n  function render(props, node) {\n    const script = document.createElement(\"script\");\n    node.appendChild(script);\n  }\n\n  /**\n   * Handle when an output is cleared or removed\n   */\n  function handleClearOutput(event, handle) {\n    const cell = handle.cell;\n\n    const id = cell.output_area._bokeh_element_id;\n    const server_id = cell.output_area._bokeh_server_id;\n    // Clean up Bokeh references\n    if (id != null && id in Bokeh.index) {\n      Bokeh.index[id].model.document.clear();\n      delete Bokeh.index[id];\n    }\n\n    if (server_id !== undefined) {\n      // Clean up Bokeh references\n      const cmd_clean = \"from bokeh.io.state import curstate; print(curstate().uuid_to_server['\" + server_id + \"'].get_sessions()[0].document.roots[0]._id)\";\n      cell.notebook.kernel.execute(cmd_clean, {\n        iopub: {\n          output: function(msg) {\n            const id = msg.content.text.trim();\n            if (id in Bokeh.index) {\n              Bokeh.index[id].model.document.clear();\n              delete Bokeh.index[id];\n            }\n          }\n        }\n      });\n      // Destroy server and session\n      const cmd_destroy = \"import bokeh.io.notebook as ion; ion.destroy_server('\" + server_id + \"')\";\n      cell.notebook.kernel.execute(cmd_destroy);\n    }\n  }\n\n  /**\n   * Handle when a new output is added\n   */\n  function handleAddOutput(event, handle) {\n    const output_area = handle.output_area;\n    const output = handle.output;\n\n    // limit handleAddOutput to display_data with EXEC_MIME_TYPE content only\n    if ((output.output_type != \"display_data\") || (!Object.prototype.hasOwnProperty.call(output.data, EXEC_MIME_TYPE))) {\n      return\n    }\n\n    const toinsert = output_area.element.find(\".\" + CLASS_NAME.split(' ')[0]);\n\n    if (output.metadata[EXEC_MIME_TYPE][\"id\"] !== undefined) {\n      toinsert[toinsert.length - 1].firstChild.textContent = output.data[JS_MIME_TYPE];\n      // store reference to embed id on output_area\n      output_area._bokeh_element_id = output.metadata[EXEC_MIME_TYPE][\"id\"];\n    }\n    if (output.metadata[EXEC_MIME_TYPE][\"server_id\"] !== undefined) {\n      const bk_div = document.createElement(\"div\");\n      bk_div.innerHTML = output.data[HTML_MIME_TYPE];\n      const script_attrs = bk_div.children[0].attributes;\n      for (let i = 0; i < script_attrs.length; i++) {\n        toinsert[toinsert.length - 1].firstChild.setAttribute(script_attrs[i].name, script_attrs[i].value);\n        toinsert[toinsert.length - 1].firstChild.textContent = bk_div.children[0].textContent\n      }\n      // store reference to server id on output_area\n      output_area._bokeh_server_id = output.metadata[EXEC_MIME_TYPE][\"server_id\"];\n    }\n  }\n\n  function register_renderer(events, OutputArea) {\n\n    function append_mime(data, metadata, element) {\n      // create a DOM node to render to\n      const toinsert = this.create_output_subarea(\n        metadata,\n        CLASS_NAME,\n        EXEC_MIME_TYPE\n      );\n      this.keyboard_manager.register_events(toinsert);\n      // Render to node\n      const props = {data: data, metadata: metadata[EXEC_MIME_TYPE]};\n      render(props, toinsert[toinsert.length - 1]);\n      element.append(toinsert);\n      return toinsert\n    }\n\n    /* Handle when an output is cleared or removed */\n    events.on('clear_output.CodeCell', handleClearOutput);\n    events.on('delete.Cell', handleClearOutput);\n\n    /* Handle when a new output is added */\n    events.on('output_added.OutputArea', handleAddOutput);\n\n    /**\n     * Register the mime type and append_mime function with output_area\n     */\n    OutputArea.prototype.register_mime_type(EXEC_MIME_TYPE, append_mime, {\n      /* Is output safe? */\n      safe: true,\n      /* Index of renderer in `output_area.display_order` */\n      index: 0\n    });\n  }\n\n  // register the mime type if in Jupyter Notebook environment and previously unregistered\n  if (root.Jupyter !== undefined) {\n    const events = require('base/js/events');\n    const OutputArea = require('notebook/js/outputarea').OutputArea;\n\n    if (OutputArea.prototype.mime_types().indexOf(EXEC_MIME_TYPE) == -1) {\n      register_renderer(events, OutputArea);\n    }\n  }\n  if (typeof (root._bokeh_timeout) === \"undefined\" || force === true) {\n    root._bokeh_timeout = Date.now() + 5000;\n    root._bokeh_failed_load = false;\n  }\n\n  const NB_LOAD_WARNING = {'data': {'text/html':\n     \"<div style='background-color: #fdd'>\\n\"+\n     \"<p>\\n\"+\n     \"BokehJS does not appear to have successfully loaded. If loading BokehJS from CDN, this \\n\"+\n     \"may be due to a slow or bad network connection. Possible fixes:\\n\"+\n     \"</p>\\n\"+\n     \"<ul>\\n\"+\n     \"<li>re-rerun `output_notebook()` to attempt to load from CDN again, or</li>\\n\"+\n     \"<li>use INLINE resources instead, as so:</li>\\n\"+\n     \"</ul>\\n\"+\n     \"<code>\\n\"+\n     \"from bokeh.resources import INLINE\\n\"+\n     \"output_notebook(resources=INLINE)\\n\"+\n     \"</code>\\n\"+\n     \"</div>\"}};\n\n  function display_loaded() {\n    const el = document.getElementById(\"7298\");\n    if (el != null) {\n      el.textContent = \"BokehJS is loading...\";\n    }\n    if (root.Bokeh !== undefined) {\n      if (el != null) {\n        el.textContent = \"BokehJS \" + root.Bokeh.version + \" successfully loaded.\";\n      }\n    } else if (Date.now() < root._bokeh_timeout) {\n      setTimeout(display_loaded, 100)\n    }\n  }\n\n  function run_callbacks() {\n    try {\n      root._bokeh_onload_callbacks.forEach(function(callback) {\n        if (callback != null)\n          callback();\n      });\n    } finally {\n      delete root._bokeh_onload_callbacks\n    }\n    console.debug(\"Bokeh: all callbacks have finished\");\n  }\n\n  function load_libs(css_urls, js_urls, callback) {\n    if (css_urls == null) css_urls = [];\n    if (js_urls == null) js_urls = [];\n\n    root._bokeh_onload_callbacks.push(callback);\n    if (root._bokeh_is_loading > 0) {\n      console.debug(\"Bokeh: BokehJS is being loaded, scheduling callback at\", now());\n      return null;\n    }\n    if (js_urls == null || js_urls.length === 0) {\n      run_callbacks();\n      return null;\n    }\n    console.debug(\"Bokeh: BokehJS not loaded, scheduling load and callback at\", now());\n    root._bokeh_is_loading = css_urls.length + js_urls.length;\n\n    function on_load() {\n      root._bokeh_is_loading--;\n      if (root._bokeh_is_loading === 0) {\n        console.debug(\"Bokeh: all BokehJS libraries/stylesheets loaded\");\n        run_callbacks()\n      }\n    }\n\n    function on_error(url) {\n      console.error(\"failed to load \" + url);\n    }\n\n    for (let i = 0; i < css_urls.length; i++) {\n      const url = css_urls[i];\n      const element = document.createElement(\"link\");\n      element.onload = on_load;\n      element.onerror = on_error.bind(null, url);\n      element.rel = \"stylesheet\";\n      element.type = \"text/css\";\n      element.href = url;\n      console.debug(\"Bokeh: injecting link tag for BokehJS stylesheet: \", url);\n      document.body.appendChild(element);\n    }\n\n    for (let i = 0; i < js_urls.length; i++) {\n      const url = js_urls[i];\n      const element = document.createElement('script');\n      element.onload = on_load;\n      element.onerror = on_error.bind(null, url);\n      element.async = false;\n      element.src = url;\n      console.debug(\"Bokeh: injecting script tag for BokehJS library: \", url);\n      document.head.appendChild(element);\n    }\n  };\n\n  function inject_raw_css(css) {\n    const element = document.createElement(\"style\");\n    element.appendChild(document.createTextNode(css));\n    document.body.appendChild(element);\n  }\n\n  const js_urls = [\"https://cdn.bokeh.org/bokeh/release/bokeh-2.4.3.min.js\", \"https://cdn.bokeh.org/bokeh/release/bokeh-gl-2.4.3.min.js\", \"https://cdn.bokeh.org/bokeh/release/bokeh-widgets-2.4.3.min.js\", \"https://cdn.bokeh.org/bokeh/release/bokeh-tables-2.4.3.min.js\", \"https://cdn.bokeh.org/bokeh/release/bokeh-mathjax-2.4.3.min.js\", \"https://unpkg.com/@holoviz/panel@0.13.1/dist/panel.min.js\"];\n  const css_urls = [];\n\n  const inline_js = [    function(Bokeh) {\n      Bokeh.set_log_level(\"info\");\n    },\nfunction(Bokeh) {\n    }\n  ];\n\n  function run_inline_js() {\n    if (root.Bokeh !== undefined || force === true) {\n          for (let i = 0; i < inline_js.length; i++) {\n      inline_js[i].call(root, root.Bokeh);\n    }\nif (force === true) {\n        display_loaded();\n      }} else if (Date.now() < root._bokeh_timeout) {\n      setTimeout(run_inline_js, 100);\n    } else if (!root._bokeh_failed_load) {\n      console.log(\"Bokeh: BokehJS failed to load within specified timeout.\");\n      root._bokeh_failed_load = true;\n    } else if (force !== true) {\n      const cell = $(document.getElementById(\"7298\")).parents('.cell').data().cell;\n      cell.output_area.append_execute_result(NB_LOAD_WARNING)\n    }\n  }\n\n  if (root._bokeh_is_loading === 0) {\n    console.debug(\"Bokeh: BokehJS loaded, going straight to plotting\");\n    run_inline_js();\n  } else {\n    load_libs(css_urls, js_urls, function() {\n      console.debug(\"Bokeh: BokehJS plotting callback run at\", now());\n      run_inline_js();\n    });\n  }\n}(window));",
      "application/vnd.bokehjs_load.v0+json": ""
     },
     "metadata": {},
     "output_type": "display_data"
    }
   ],
   "source": [
    "import yaml\n",
    "import pandas as pd\n",
    "import numpy as np\n",
    "\n",
    "from bokeh.plotting import figure, show\n",
    "from bokeh.io import show, output_notebook\n",
    "from bokeh.transform import dodge, factor_cmap\n",
    "from bokeh.models import ColumnDataSource, FactorRange, Whisker\n",
    "import panel as pn\n",
    "from scipy.stats import sem\n",
    "from bokeh.transform import factor_cmap\n",
    "from bokeh.layouts import gridplot\n",
    "\n",
    "\n",
    "output_notebook()\n",
    "pn.extension()\n",
    "\n",
    "import hvplot.pandas"
   ]
  },
  {
   "cell_type": "markdown",
   "metadata": {},
   "source": [
    "### Loading all data\n"
   ]
  },
  {
   "cell_type": "code",
   "execution_count": 76,
   "metadata": {},
   "outputs": [],
   "source": [
    "with open('config.yaml') as stream:\n",
    "    config = yaml.safe_load(stream)"
   ]
  },
  {
   "cell_type": "markdown",
   "metadata": {
    "tags": [
     "code1"
    ]
   },
   "source": [
    "### Cleaning (Digit Span Raw Data)"
   ]
  },
  {
   "cell_type": "code",
   "execution_count": 77,
   "metadata": {},
   "outputs": [],
   "source": [
    "def clean_digit_span(raw_df):\n",
    "    # Select the sequence length data from the raw data and create a dataframe\n",
    "    seq_length_df = raw_df[raw_df[1].astype(str).str.match(r'\\d+')]\n",
    "\n",
    "    # Get the value of the longest sequence remembered\n",
    "    longest = seq_length_df[2]\n",
    "    longest = longest.tolist()\n",
    "\n",
    "    # Get the number of errors made\n",
    "    error_number = seq_length_df[3]\n",
    "    error_number = error_number.tolist()\n",
    "\n",
    "    # Select the rows with the click stimulus data\n",
    "    click_stim_df = raw_df[raw_df[1]=='clickedStim']\n",
    "    click_stim_df.size\n",
    "\n",
    "    # Calculate the number of clicks made by the participant\n",
    "    clicks_observed = click_stim_df.count(axis=1) - 3 \n",
    "    clicks_observed = clicks_observed.tolist()\n",
    "\n",
    "    # Calculate the number of clicks that the participant should have made\n",
    "    clicks_expected =  pd.to_numeric(longest) + 1\n",
    "    clicks_expected = clicks_expected.tolist()\n",
    "\n",
    "    # Create a new dataframe with all the values calculated above\n",
    "    clean_data = pd.DataFrame(data ={'seq length':longest,\n",
    "                        'errors': error_number,\n",
    "                        'clicks expected': clicks_expected,\n",
    "                        'clicks observed':clicks_observed})\n",
    "\n",
    "    # Return the new dataframe\n",
    "    return clean_data\n"
   ]
  },
  {
   "cell_type": "markdown",
   "metadata": {},
   "source": [
    "### Data Integration For Each Test"
   ]
  },
  {
   "cell_type": "code",
   "execution_count": 78,
   "metadata": {},
   "outputs": [],
   "source": [
    "def create_merged_df(config_dict):\n",
    "    data_dict = {}\n",
    "\n",
    "    # read the files \n",
    "    for test, file in config_dict.items():\n",
    "        df_dict = pd.read_excel(file, sheet_name=None, header=None)\n",
    "\n",
    "        for session, df in df_dict.items():\n",
    "\n",
    "            # extracting the participant name and type name\n",
    "            participant = test.split('_')[-1]\n",
    "            test_name = test.split('_')[0]\n",
    "\n",
    "            #extracting repeat number and making its column except for personal\n",
    "            try:\n",
    "                type, repeat = session.split('_')\n",
    "                df.insert(0, 'repeat', repeat)\n",
    "\n",
    "            except ValueError:\n",
    "                type = session\n",
    "\n",
    "\n",
    "            # Running function to clean digit span data\n",
    "            if test_name == 'digit':\n",
    "                df = clean_digit_span(df.iloc[3:])\n",
    "                df.insert(0, 'repeat', repeat)\n",
    "            \n",
    "            # verbal fluency test contains header\n",
    "            elif test_name =='verbal':\n",
    "                df = df.iloc[1:]\n",
    "\n",
    "            # inserting the type and participant columns\n",
    "            df.insert(0, 'type', type)\n",
    "            df.insert(0, 'participant', participant)\n",
    " \n",
    "            # concatenating data frames of each test\n",
    "            if test_name not in data_dict:\n",
    "                data_dict[test_name] = df\n",
    "            else:\n",
    "                data_dict[test_name] = pd.concat([data_dict[test_name], df])\n",
    "    \n",
    "    return data_dict\n",
    "\n",
    "data_dict = create_merged_df(config)"
   ]
  },
  {
   "cell_type": "code",
   "execution_count": 79,
   "metadata": {},
   "outputs": [],
   "source": [
    "# Run the function\n",
    "df_dict = create_merged_df(config)"
   ]
  },
  {
   "cell_type": "markdown",
   "metadata": {},
   "source": [
    "---"
   ]
  },
  {
   "attachments": {},
   "cell_type": "markdown",
   "metadata": {},
   "source": [
    "### Personal health data plots"
   ]
  },
  {
   "cell_type": "code",
   "execution_count": 80,
   "metadata": {},
   "outputs": [],
   "source": [
    "# creating personal dataframe\n",
    "def create_personal_dataframe():\n",
    "    p_df = data_dict[\"personal\"].copy()\n",
    "    p_df.drop(0, inplace=True)\n",
    "    p_df.rename(columns={\n",
    "        0: \"session\",\n",
    "        1: \"time\",\n",
    "        2: \"heartrate\",\n",
    "        3: \"calories\",\n",
    "        4:\"temperature\",\n",
    "        5:\"body weight\",\n",
    "        6: \"muscle%\",\n",
    "        7: \"fat%\",\n",
    "    }, inplace=True)\n",
    "    p_df = p_df[[\n",
    "        \"participant\",\n",
    "        \"type\",\n",
    "        \"session\",\n",
    "        \"time\",\n",
    "        \"heartrate\",\n",
    "        \"calories\",\n",
    "        \"temperature\",\n",
    "        \"body weight\",\n",
    "        \"muscle%\",\n",
    "        \"fat%\"\n",
    "    ]]\n",
    "    \n",
    "    # fill missing and not correct values with the correct one.\n",
    "    p_df[\"heartrate\"] = pd.to_numeric(p_df[\"heartrate\"],errors='coerce')\n",
    "    p_df[\"heartrate\"] = p_df[\"heartrate\"].fillna(85)\n",
    "    p_df['session'] = p_df['session'].fillna(2)\n",
    "    p_df[\"calories\"] = p_df[\"calories\"].fillna(1118)\n",
    "    p_df[\"temperature\"] = p_df[\"temperature\"].fillna(36.4)\n",
    "    \n",
    "    p_df = p_df.astype({'heartrate': 'float', 'calories': 'float', 'temperature': 'float',\n",
    "                       'body weight': 'float', 'fat%': 'float', 'muscle%': 'float'})\n",
    "\n",
    "    return p_df\n",
    "\n",
    "personal_df = create_personal_dataframe()"
   ]
  },
  {
   "cell_type": "code",
   "execution_count": 81,
   "metadata": {},
   "outputs": [
    {
     "data": {},
     "metadata": {},
     "output_type": "display_data"
    },
    {
     "data": {
      "application/vnd.holoviews_exec.v0+json": "",
      "text/html": [
       "<div id='7413'>\n",
       "  <div class=\"bk-root\" id=\"c7e99189-d4f5-408f-a468-2a25aaa71392\" data-root-id=\"7413\"></div>\n",
       "</div>\n",
       "<script type=\"application/javascript\">(function(root) {\n",
       "  function embed_document(root) {\n",
       "    var docs_json = {\"29860204-f8e6-453c-9930-988c4268d03f\":{\"defs\":[{\"extends\":null,\"module\":null,\"name\":\"ReactiveHTML1\",\"overrides\":[],\"properties\":[]},{\"extends\":null,\"module\":null,\"name\":\"FlexBox1\",\"overrides\":[],\"properties\":[{\"default\":\"flex-start\",\"kind\":null,\"name\":\"align_content\"},{\"default\":\"flex-start\",\"kind\":null,\"name\":\"align_items\"},{\"default\":\"row\",\"kind\":null,\"name\":\"flex_direction\"},{\"default\":\"wrap\",\"kind\":null,\"name\":\"flex_wrap\"},{\"default\":\"flex-start\",\"kind\":null,\"name\":\"justify_content\"}]},{\"extends\":null,\"module\":null,\"name\":\"GridStack1\",\"overrides\":[],\"properties\":[{\"default\":\"warn\",\"kind\":null,\"name\":\"mode\"},{\"default\":null,\"kind\":null,\"name\":\"ncols\"},{\"default\":null,\"kind\":null,\"name\":\"nrows\"},{\"default\":true,\"kind\":null,\"name\":\"allow_resize\"},{\"default\":true,\"kind\":null,\"name\":\"allow_drag\"},{\"default\":[],\"kind\":null,\"name\":\"state\"}]},{\"extends\":null,\"module\":null,\"name\":\"click1\",\"overrides\":[],\"properties\":[{\"default\":\"\",\"kind\":null,\"name\":\"terminal_output\"},{\"default\":\"\",\"kind\":null,\"name\":\"debug_name\"},{\"default\":0,\"kind\":null,\"name\":\"clears\"}]},{\"extends\":null,\"module\":null,\"name\":\"NotificationAreaBase1\",\"overrides\":[],\"properties\":[{\"default\":\"bottom-right\",\"kind\":null,\"name\":\"position\"},{\"default\":0,\"kind\":null,\"name\":\"_clear\"}]},{\"extends\":null,\"module\":null,\"name\":\"NotificationArea1\",\"overrides\":[],\"properties\":[{\"default\":[],\"kind\":null,\"name\":\"notifications\"},{\"default\":\"bottom-right\",\"kind\":null,\"name\":\"position\"},{\"default\":0,\"kind\":null,\"name\":\"_clear\"},{\"default\":[{\"background\":\"#ffc107\",\"icon\":{\"className\":\"fas fa-exclamation-triangle\",\"color\":\"white\",\"tagName\":\"i\"},\"type\":\"warning\"},{\"background\":\"#007bff\",\"icon\":{\"className\":\"fas fa-info-circle\",\"color\":\"white\",\"tagName\":\"i\"},\"type\":\"info\"}],\"kind\":null,\"name\":\"types\"}]},{\"extends\":null,\"module\":null,\"name\":\"Notification\",\"overrides\":[],\"properties\":[{\"default\":null,\"kind\":null,\"name\":\"background\"},{\"default\":3000,\"kind\":null,\"name\":\"duration\"},{\"default\":null,\"kind\":null,\"name\":\"icon\"},{\"default\":\"\",\"kind\":null,\"name\":\"message\"},{\"default\":null,\"kind\":null,\"name\":\"notification_type\"},{\"default\":false,\"kind\":null,\"name\":\"_destroyed\"}]},{\"extends\":null,\"module\":null,\"name\":\"TemplateActions1\",\"overrides\":[],\"properties\":[{\"default\":0,\"kind\":null,\"name\":\"open_modal\"},{\"default\":0,\"kind\":null,\"name\":\"close_modal\"}]},{\"extends\":null,\"module\":null,\"name\":\"MaterialTemplateActions1\",\"overrides\":[],\"properties\":[{\"default\":0,\"kind\":null,\"name\":\"open_modal\"},{\"default\":0,\"kind\":null,\"name\":\"close_modal\"}]}],\"roots\":{\"references\":[{\"attributes\":{},\"id\":\"7315\",\"type\":\"BasicTicker\"},{\"attributes\":{},\"id\":\"7344\",\"type\":\"AllLabels\"},{\"attributes\":{},\"id\":\"7365\",\"type\":\"UnionRenderers\"},{\"attributes\":{\"coordinates\":null,\"data_source\":{\"id\":\"7332\"},\"glyph\":{\"id\":\"7333\"},\"group\":null,\"hover_glyph\":null,\"muted_glyph\":{\"id\":\"7335\"},\"nonselection_glyph\":{\"id\":\"7334\"},\"view\":{\"id\":\"7337\"}},\"id\":\"7336\",\"type\":\"GlyphRenderer\"},{\"attributes\":{\"axis\":{\"id\":\"7314\"},\"coordinates\":null,\"dimension\":1,\"group\":null,\"ticker\":null},\"id\":\"7317\",\"type\":\"Grid\"},{\"attributes\":{\"children\":[{\"id\":\"7415\"},{\"id\":\"7416\"}],\"margin\":[0,0,0,0],\"name\":\"Column02407\"},\"id\":\"7414\",\"type\":\"Column\"},{\"attributes\":{\"tools\":[{\"id\":\"7318\"},{\"id\":\"7319\"},{\"id\":\"7320\"},{\"id\":\"7321\"},{\"id\":\"7322\"},{\"id\":\"7323\"}]},\"id\":\"7325\",\"type\":\"Toolbar\"},{\"attributes\":{\"label\":{\"value\":\"dehydration1\"},\"renderers\":[{\"id\":\"7336\"}]},\"id\":\"7349\",\"type\":\"LegendItem\"},{\"attributes\":{\"line_alpha\":0.2,\"line_color\":\"green\",\"line_width\":2,\"x\":{\"field\":\"x\"},\"y\":{\"field\":\"y\"}},\"id\":\"7372\",\"type\":\"Line\"},{\"attributes\":{\"data\":{\"x\":[0,5,10,15,20,25,30,35,40],\"y\":[1460.0,1511.0,1544.0,1576.0,1618.0,1667.0,1720.0,1780.0,1820.0]},\"selected\":{\"id\":\"7346\"},\"selection_policy\":{\"id\":\"7345\"}},\"id\":\"7332\",\"type\":\"ColumnDataSource\"},{\"attributes\":{\"data\":{\"x\":[0,5,10,15,20,25,30,35,40],\"y\":[1313.0,1334.0,1363.0,1396.0,1437.0,1474.0,1522.0,1576.0,1622.0]},\"selected\":{\"id\":\"7410\"},\"selection_policy\":{\"id\":\"7409\"}},\"id\":\"7390\",\"type\":\"ColumnDataSource\"},{\"attributes\":{},\"id\":\"7340\",\"type\":\"BasicTickFormatter\"},{\"attributes\":{\"line_alpha\":0.1,\"line_color\":\"blue\",\"line_width\":2,\"x\":{\"field\":\"x\"},\"y\":{\"field\":\"y\"}},\"id\":\"7334\",\"type\":\"Line\"},{\"attributes\":{\"label\":{\"value\":\"control1\"},\"renderers\":[{\"id\":\"7373\"}]},\"id\":\"7389\",\"type\":\"LegendItem\"},{\"attributes\":{},\"id\":\"7386\",\"type\":\"UnionRenderers\"},{\"attributes\":{},\"id\":\"7319\",\"type\":\"WheelZoomTool\"},{\"attributes\":{\"axis\":{\"id\":\"7310\"},\"coordinates\":null,\"group\":null,\"ticker\":null},\"id\":\"7313\",\"type\":\"Grid\"},{\"attributes\":{\"line_alpha\":0.1,\"line_color\":\"green\",\"line_width\":2,\"x\":{\"field\":\"x\"},\"y\":{\"field\":\"y\"}},\"id\":\"7371\",\"type\":\"Line\"},{\"attributes\":{\"end\":2368.6,\"start\":656.5},\"id\":\"7304\",\"type\":\"Range1d\"},{\"attributes\":{\"below\":[{\"id\":\"7310\"}],\"center\":[{\"id\":\"7313\"},{\"id\":\"7317\"},{\"id\":\"7348\"}],\"left\":[{\"id\":\"7314\"}],\"renderers\":[{\"id\":\"7336\"},{\"id\":\"7354\"},{\"id\":\"7373\"},{\"id\":\"7394\"}],\"title\":{\"id\":\"7300\"},\"toolbar\":{\"id\":\"7325\"},\"x_range\":{\"id\":\"7302\"},\"x_scale\":{\"id\":\"7306\"},\"y_range\":{\"id\":\"7304\"},\"y_scale\":{\"id\":\"7308\"}},\"id\":\"7299\",\"subtype\":\"Figure\",\"type\":\"Plot\"},{\"attributes\":{},\"id\":\"7343\",\"type\":\"BasicTickFormatter\"},{\"attributes\":{\"line_alpha\":0.2,\"line_color\":\"orange\",\"line_width\":2,\"x\":{\"field\":\"x\"},\"y\":{\"field\":\"y\"}},\"id\":\"7393\",\"type\":\"Line\"},{\"attributes\":{},\"id\":\"7311\",\"type\":\"BasicTicker\"},{\"attributes\":{\"children\":[{\"id\":\"7299\"}],\"margin\":[0,0,0,0],\"name\":\"Row02406\"},\"id\":\"7417\",\"type\":\"Row\"},{\"attributes\":{},\"id\":\"7409\",\"type\":\"UnionRenderers\"},{\"attributes\":{\"end\":40.8},\"id\":\"7302\",\"type\":\"Range1d\"},{\"attributes\":{},\"id\":\"7345\",\"type\":\"UnionRenderers\"},{\"attributes\":{\"client_comm_id\":\"afcd72aaa4744f63a9a550ca3391b426\",\"comm_id\":\"a0bb61c528634887b298625dfb24a549\",\"plot_id\":\"7413\"},\"id\":\"7498\",\"type\":\"panel.models.comm_manager.CommManager\"},{\"attributes\":{\"children\":[{\"id\":\"7414\"},{\"id\":\"7417\"}],\"margin\":[0,0,0,0],\"name\":\"Column02401\"},\"id\":\"7413\",\"type\":\"Column\"},{\"attributes\":{},\"id\":\"7318\",\"type\":\"PanTool\"},{\"attributes\":{},\"id\":\"7366\",\"type\":\"Selection\"},{\"attributes\":{\"line_alpha\":0.2,\"line_color\":\"red\",\"line_width\":2,\"x\":{\"field\":\"x\"},\"y\":{\"field\":\"y\"}},\"id\":\"7353\",\"type\":\"Line\"},{\"attributes\":{},\"id\":\"7387\",\"type\":\"Selection\"},{\"attributes\":{\"line_color\":\"orange\",\"line_width\":2,\"x\":{\"field\":\"x\"},\"y\":{\"field\":\"y\"}},\"id\":\"7391\",\"type\":\"Line\"},{\"attributes\":{\"line_alpha\":0.1,\"line_color\":\"orange\",\"line_width\":2,\"x\":{\"field\":\"x\"},\"y\":{\"field\":\"y\"}},\"id\":\"7392\",\"type\":\"Line\"},{\"attributes\":{\"coordinates\":null,\"data_source\":{\"id\":\"7369\"},\"glyph\":{\"id\":\"7370\"},\"group\":null,\"hover_glyph\":null,\"muted_glyph\":{\"id\":\"7372\"},\"nonselection_glyph\":{\"id\":\"7371\"},\"view\":{\"id\":\"7374\"}},\"id\":\"7373\",\"type\":\"GlyphRenderer\"},{\"attributes\":{\"axis_label\":\"calories\",\"coordinates\":null,\"formatter\":{\"id\":\"7340\"},\"group\":null,\"major_label_policy\":{\"id\":\"7341\"},\"ticker\":{\"id\":\"7315\"}},\"id\":\"7314\",\"type\":\"LinearAxis\"},{\"attributes\":{},\"id\":\"7341\",\"type\":\"AllLabels\"},{\"attributes\":{\"source\":{\"id\":\"7369\"}},\"id\":\"7374\",\"type\":\"CDSView\"},{\"attributes\":{\"label\":{\"value\":\"control2\"},\"renderers\":[{\"id\":\"7394\"}]},\"id\":\"7412\",\"type\":\"LegendItem\"},{\"attributes\":{},\"id\":\"7410\",\"type\":\"Selection\"},{\"attributes\":{\"coordinates\":null,\"data_source\":{\"id\":\"7350\"},\"glyph\":{\"id\":\"7351\"},\"group\":null,\"hover_glyph\":null,\"muted_glyph\":{\"id\":\"7353\"},\"nonselection_glyph\":{\"id\":\"7352\"},\"view\":{\"id\":\"7355\"}},\"id\":\"7354\",\"type\":\"GlyphRenderer\"},{\"attributes\":{\"coordinates\":null,\"group\":null,\"items\":[{\"id\":\"7349\"},{\"id\":\"7368\"},{\"id\":\"7389\"},{\"id\":\"7412\"}]},\"id\":\"7348\",\"type\":\"Legend\"},{\"attributes\":{},\"id\":\"7323\",\"type\":\"HelpTool\"},{\"attributes\":{\"margin\":[5,10,5,10],\"options\":[\"heartrate\",\"calories\",\"temperature\"],\"title\":\"target\",\"value\":\"calories\"},\"id\":\"7416\",\"type\":\"panel.models.widgets.CustomSelect\"},{\"attributes\":{\"line_color\":\"green\",\"line_width\":2,\"x\":{\"field\":\"x\"},\"y\":{\"field\":\"y\"}},\"id\":\"7370\",\"type\":\"Line\"},{\"attributes\":{},\"id\":\"7321\",\"type\":\"SaveTool\"},{\"attributes\":{\"bottom_units\":\"screen\",\"coordinates\":null,\"fill_alpha\":0.5,\"fill_color\":\"lightgrey\",\"group\":null,\"left_units\":\"screen\",\"level\":\"overlay\",\"line_alpha\":1.0,\"line_color\":\"black\",\"line_dash\":[4,4],\"line_width\":2,\"right_units\":\"screen\",\"syncable\":false,\"top_units\":\"screen\"},\"id\":\"7324\",\"type\":\"BoxAnnotation\"},{\"attributes\":{\"coordinates\":null,\"group\":null,\"text\":\"calories\"},\"id\":\"7300\",\"type\":\"Title\"},{\"attributes\":{\"source\":{\"id\":\"7350\"}},\"id\":\"7355\",\"type\":\"CDSView\"},{\"attributes\":{\"data\":{\"x\":[0,5,10,15,20,25,30,35,40],\"y\":[1471.0,1523.0,1554.0,1598.0,1631.0,1677.0,1728.0,1774.0,1822.0]},\"selected\":{\"id\":\"7366\"},\"selection_policy\":{\"id\":\"7365\"}},\"id\":\"7350\",\"type\":\"ColumnDataSource\"},{\"attributes\":{\"axis_label\":\"time(minutes)\",\"coordinates\":null,\"formatter\":{\"id\":\"7343\"},\"group\":null,\"major_label_policy\":{\"id\":\"7344\"},\"ticker\":{\"id\":\"7311\"}},\"id\":\"7310\",\"type\":\"LinearAxis\"},{\"attributes\":{},\"id\":\"7306\",\"type\":\"LinearScale\"},{\"attributes\":{},\"id\":\"7346\",\"type\":\"Selection\"},{\"attributes\":{\"source\":{\"id\":\"7332\"}},\"id\":\"7337\",\"type\":\"CDSView\"},{\"attributes\":{\"line_alpha\":0.1,\"line_color\":\"red\",\"line_width\":2,\"x\":{\"field\":\"x\"},\"y\":{\"field\":\"y\"}},\"id\":\"7352\",\"type\":\"Line\"},{\"attributes\":{\"line_alpha\":0.2,\"line_color\":\"blue\",\"line_width\":2,\"x\":{\"field\":\"x\"},\"y\":{\"field\":\"y\"}},\"id\":\"7335\",\"type\":\"Line\"},{\"attributes\":{\"overlay\":{\"id\":\"7324\"}},\"id\":\"7320\",\"type\":\"BoxZoomTool\"},{\"attributes\":{\"line_color\":\"red\",\"line_width\":2,\"x\":{\"field\":\"x\"},\"y\":{\"field\":\"y\"}},\"id\":\"7351\",\"type\":\"Line\"},{\"attributes\":{\"line_color\":\"blue\",\"line_width\":2,\"x\":{\"field\":\"x\"},\"y\":{\"field\":\"y\"}},\"id\":\"7333\",\"type\":\"Line\"},{\"attributes\":{\"margin\":[5,10,5,10],\"options\":[\"green\",\"pink\",\"orange\",\"blue\",\"red\"],\"title\":\"participant\",\"value\":\"pink\"},\"id\":\"7415\",\"type\":\"panel.models.widgets.CustomSelect\"},{\"attributes\":{\"source\":{\"id\":\"7390\"}},\"id\":\"7395\",\"type\":\"CDSView\"},{\"attributes\":{},\"id\":\"7322\",\"type\":\"ResetTool\"},{\"attributes\":{\"label\":{\"value\":\"dehydration2\"},\"renderers\":[{\"id\":\"7354\"}]},\"id\":\"7368\",\"type\":\"LegendItem\"},{\"attributes\":{},\"id\":\"7308\",\"type\":\"LinearScale\"},{\"attributes\":{\"coordinates\":null,\"data_source\":{\"id\":\"7390\"},\"glyph\":{\"id\":\"7391\"},\"group\":null,\"hover_glyph\":null,\"muted_glyph\":{\"id\":\"7393\"},\"nonselection_glyph\":{\"id\":\"7392\"},\"view\":{\"id\":\"7395\"}},\"id\":\"7394\",\"type\":\"GlyphRenderer\"},{\"attributes\":{\"data\":{\"x\":[0,5,10,15,20,25,30,35,40],\"y\":[1498.0,1532.0,1567.0,1598.0,1638.0,1681.0,1727.0,1766.0,1799.0]},\"selected\":{\"id\":\"7387\"},\"selection_policy\":{\"id\":\"7386\"}},\"id\":\"7369\",\"type\":\"ColumnDataSource\"}],\"root_ids\":[\"7413\",\"7498\"]},\"title\":\"Bokeh Application\",\"version\":\"2.4.3\"}};\n",
       "    var render_items = [{\"docid\":\"29860204-f8e6-453c-9930-988c4268d03f\",\"root_ids\":[\"7413\"],\"roots\":{\"7413\":\"c7e99189-d4f5-408f-a468-2a25aaa71392\"}}];\n",
       "    root.Bokeh.embed.embed_items_notebook(docs_json, render_items);\n",
       "  }\n",
       "  if (root.Bokeh !== undefined && root.Bokeh.Panel !== undefined) {\n",
       "    embed_document(root);\n",
       "  } else {\n",
       "    var attempts = 0;\n",
       "    var timer = setInterval(function(root) {\n",
       "      if (root.Bokeh !== undefined && root.Bokeh.Panel !== undefined) {\n",
       "        clearInterval(timer);\n",
       "        embed_document(root);\n",
       "      } else if (document.readyState == \"complete\") {\n",
       "        attempts++;\n",
       "        if (attempts > 200) {\n",
       "          clearInterval(timer);\n",
       "          console.log(\"Bokeh: ERROR: Unable to run BokehJS code because BokehJS library is missing\");\n",
       "        }\n",
       "      }\n",
       "    }, 25, root)\n",
       "  }\n",
       "})(window);</script>"
      ],
      "text/plain": [
       "Column\n",
       "    [0] Column\n",
       "        [0] Select(name='participant', options=['green', 'pink', ...], value='pink')\n",
       "        [1] Select(name='target', options=['heartrate', ...], value='calories')\n",
       "    [1] Row\n",
       "        [0] Bokeh(Figure, name='interactive02400')"
      ]
     },
     "execution_count": 81,
     "metadata": {
      "application/vnd.holoviews_exec.v0+json": {
       "id": "7413"
      }
     },
     "output_type": "execute_result"
    }
   ],
   "source": [
    "def show_personal_plot(participant='pink', target = 'calories'):\n",
    "\n",
    "    personal_df = create_personal_dataframe()\n",
    "    personal_df = personal_df[personal_df[\"participant\"] == participant]\n",
    "\n",
    "    p = figure(x_range = [personal_df['time'].min(),personal_df['time'].max()*1.02], \n",
    "               y_range = [personal_df[target].min()*.5,personal_df[target].max()*1.3],\n",
    "               title=target, x_axis_label=\"time(minutes)\", y_axis_label=target)\n",
    "\n",
    "    x = personal_df[\"time\"].unique().tolist()\n",
    "    y1 = personal_df[(personal_df[\"type\"] == \"dehydration\") & (personal_df[\"session\"] == 1)][target].tolist()\n",
    "    y2 = personal_df[(personal_df[\"type\"] == \"dehydration\") & (personal_df[\"session\"] == 2)][target].tolist()\n",
    "    y3 = personal_df[(personal_df[\"type\"] == \"control\") & (personal_df[\"session\"] == 1)][target].tolist()\n",
    "    y4 = personal_df[(personal_df[\"type\"] == \"control\") & (personal_df[\"session\"] == 2)][target].tolist()\n",
    "    \n",
    "    # add multiple renderers\n",
    "    p.line(x, y1, legend_label=\"dehydration1\", color=\"blue\", line_width=2)\n",
    "    p.line(x, y2, legend_label=\"dehydration2\", color=\"red\", line_width=2)\n",
    "    p.line(x, y3, legend_label=\"control1\", color=\"green\", line_width=2)\n",
    "    p.line(x, y4, legend_label=\"control2\", color=\"orange\", line_width=2)\n",
    "    return p\n",
    "\n",
    "participants =['green','pink', 'orange','blue','red']\n",
    "targets = [\"heartrate\", \"calories\", \"temperature\"]\n",
    "personal_plot = pn.interact(show_personal_plot, participant=participants, target = targets)\n",
    "personal_plot"
   ]
  },
  {
   "cell_type": "code",
   "execution_count": 82,
   "metadata": {},
   "outputs": [
    {
     "data": {},
     "metadata": {},
     "output_type": "display_data"
    },
    {
     "data": {
      "application/vnd.holoviews_exec.v0+json": "",
      "text/html": [
       "<div id='7609'>\n",
       "  <div class=\"bk-root\" id=\"096bcb0a-8398-4b0f-8c85-1feef8381ae0\" data-root-id=\"7609\"></div>\n",
       "</div>\n",
       "<script type=\"application/javascript\">(function(root) {\n",
       "  function embed_document(root) {\n",
       "    var docs_json = {\"58f18c69-d440-46aa-a4e2-cf0ed7cfc40e\":{\"defs\":[{\"extends\":null,\"module\":null,\"name\":\"ReactiveHTML1\",\"overrides\":[],\"properties\":[]},{\"extends\":null,\"module\":null,\"name\":\"FlexBox1\",\"overrides\":[],\"properties\":[{\"default\":\"flex-start\",\"kind\":null,\"name\":\"align_content\"},{\"default\":\"flex-start\",\"kind\":null,\"name\":\"align_items\"},{\"default\":\"row\",\"kind\":null,\"name\":\"flex_direction\"},{\"default\":\"wrap\",\"kind\":null,\"name\":\"flex_wrap\"},{\"default\":\"flex-start\",\"kind\":null,\"name\":\"justify_content\"}]},{\"extends\":null,\"module\":null,\"name\":\"GridStack1\",\"overrides\":[],\"properties\":[{\"default\":\"warn\",\"kind\":null,\"name\":\"mode\"},{\"default\":null,\"kind\":null,\"name\":\"ncols\"},{\"default\":null,\"kind\":null,\"name\":\"nrows\"},{\"default\":true,\"kind\":null,\"name\":\"allow_resize\"},{\"default\":true,\"kind\":null,\"name\":\"allow_drag\"},{\"default\":[],\"kind\":null,\"name\":\"state\"}]},{\"extends\":null,\"module\":null,\"name\":\"click1\",\"overrides\":[],\"properties\":[{\"default\":\"\",\"kind\":null,\"name\":\"terminal_output\"},{\"default\":\"\",\"kind\":null,\"name\":\"debug_name\"},{\"default\":0,\"kind\":null,\"name\":\"clears\"}]},{\"extends\":null,\"module\":null,\"name\":\"NotificationAreaBase1\",\"overrides\":[],\"properties\":[{\"default\":\"bottom-right\",\"kind\":null,\"name\":\"position\"},{\"default\":0,\"kind\":null,\"name\":\"_clear\"}]},{\"extends\":null,\"module\":null,\"name\":\"NotificationArea1\",\"overrides\":[],\"properties\":[{\"default\":[],\"kind\":null,\"name\":\"notifications\"},{\"default\":\"bottom-right\",\"kind\":null,\"name\":\"position\"},{\"default\":0,\"kind\":null,\"name\":\"_clear\"},{\"default\":[{\"background\":\"#ffc107\",\"icon\":{\"className\":\"fas fa-exclamation-triangle\",\"color\":\"white\",\"tagName\":\"i\"},\"type\":\"warning\"},{\"background\":\"#007bff\",\"icon\":{\"className\":\"fas fa-info-circle\",\"color\":\"white\",\"tagName\":\"i\"},\"type\":\"info\"}],\"kind\":null,\"name\":\"types\"}]},{\"extends\":null,\"module\":null,\"name\":\"Notification\",\"overrides\":[],\"properties\":[{\"default\":null,\"kind\":null,\"name\":\"background\"},{\"default\":3000,\"kind\":null,\"name\":\"duration\"},{\"default\":null,\"kind\":null,\"name\":\"icon\"},{\"default\":\"\",\"kind\":null,\"name\":\"message\"},{\"default\":null,\"kind\":null,\"name\":\"notification_type\"},{\"default\":false,\"kind\":null,\"name\":\"_destroyed\"}]},{\"extends\":null,\"module\":null,\"name\":\"TemplateActions1\",\"overrides\":[],\"properties\":[{\"default\":0,\"kind\":null,\"name\":\"open_modal\"},{\"default\":0,\"kind\":null,\"name\":\"close_modal\"}]},{\"extends\":null,\"module\":null,\"name\":\"MaterialTemplateActions1\",\"overrides\":[],\"properties\":[{\"default\":0,\"kind\":null,\"name\":\"open_modal\"},{\"default\":0,\"kind\":null,\"name\":\"close_modal\"}]}],\"roots\":{\"references\":[{\"attributes\":{},\"id\":\"7616\",\"type\":\"AllLabels\"},{\"attributes\":{\"size\":{\"value\":20}},\"id\":\"7607\",\"type\":\"TeeHead\"},{\"attributes\":{\"coordinates\":null,\"formatter\":{\"id\":\"7615\"},\"group\":null,\"major_label_policy\":{\"id\":\"7616\"},\"ticker\":{\"id\":\"7595\"}},\"id\":\"7594\",\"type\":\"LinearAxis\"},{\"attributes\":{},\"id\":\"7619\",\"type\":\"AllLabels\"},{\"attributes\":{\"fill_alpha\":{\"value\":0.1},\"fill_color\":{\"value\":\"blue\"},\"hatch_alpha\":{\"value\":0.1},\"hatch_color\":{\"value\":\"blue\"},\"line_alpha\":{\"value\":0.1},\"line_color\":{\"value\":\"blue\"},\"line_width\":{\"value\":0.9},\"x\":{\"field\":\"participants_type\"},\"y\":{\"field\":\"required_mean\"}},\"id\":\"7601\",\"type\":\"Circle\"},{\"attributes\":{},\"id\":\"7618\",\"type\":\"CategoricalTickFormatter\"},{\"attributes\":{\"axis\":{\"id\":\"7594\"},\"coordinates\":null,\"dimension\":1,\"group\":null,\"ticker\":null},\"id\":\"7597\",\"type\":\"Grid\"},{\"attributes\":{\"factors\":[\"blue control\",\"blue dehydration\",\"green control\",\"green dehydration\",\"orange control\",\"orange dehydration\",\"pink control\",\"pink dehydration\",\"red control\",\"red dehydration\"]},\"id\":\"7583\",\"type\":\"FactorRange\"},{\"attributes\":{},\"id\":\"7615\",\"type\":\"BasicTickFormatter\"},{\"attributes\":{\"axis\":{\"id\":\"7591\"},\"coordinates\":null,\"group\":null,\"ticker\":null},\"id\":\"7593\",\"type\":\"Grid\"},{\"attributes\":{},\"id\":\"7598\",\"type\":\"Toolbar\"},{\"attributes\":{},\"id\":\"7622\",\"type\":\"UnionRenderers\"},{\"attributes\":{\"children\":[{\"id\":\"7580\"}],\"margin\":[0,0,0,0],\"name\":\"Row02415\"},\"id\":\"7612\",\"type\":\"Row\"},{\"attributes\":{\"fill_alpha\":{\"value\":0.2},\"fill_color\":{\"value\":\"blue\"},\"hatch_alpha\":{\"value\":0.2},\"hatch_color\":{\"value\":\"blue\"},\"line_alpha\":{\"value\":0.2},\"line_color\":{\"value\":\"blue\"},\"line_width\":{\"value\":0.9},\"x\":{\"field\":\"participants_type\"},\"y\":{\"field\":\"required_mean\"}},\"id\":\"7602\",\"type\":\"Circle\"},{\"attributes\":{\"data\":{\"SE\":{\"__ndarray__\":\"OYyiwIq8G0AsliQc5WMWQODJJsahzSFAL8eP8kymHkCKAGfIN0AhQCYnXsTmmBxAVMpLYxmbFEAetNViC68XQIvNWRrdghlAcJxe4TE/IkA=\",\"dtype\":\"float64\",\"order\":\"little\",\"shape\":[10]},\"index\":[0,1,2,3,4,5,6,7,8,9],\"lower\":{\"__ndarray__\":\"GY4j8jPUYEAbE/cbesRhQPQy2TaaMVpAJp07rn6pWUBYVWde6j5cQKuSnDLbyV1AC76AjndEXEAHhmjQf0deQDn2QvI0zmBA/2hkVMczYEA=\",\"dtype\":\"float64\",\"order\":\"little\",\"shape\":[10]},\"participants_type\":[\"blue control\",\"blue dehydration\",\"green control\",\"green dehydration\",\"orange control\",\"orange dehydration\",\"pink control\",\"pink dehydration\",\"red control\",\"red dehydration\"],\"required_mean\":{\"__ndarray__\":\"chzHcRyHYkA5juM4jiNjQOQ4juM4jl5Aq6qqqqpqXUDHcRzHcTxgQFVVVVVVpWBAq6qqqqrKXkByHMdxHJdgQOQ4juM4XmJAAAAAAABwYkA=\",\"dtype\":\"float64\",\"order\":\"little\",\"shape\":[10]},\"upper\":{\"__ndarray__\":\"y6pq8QQ6ZEBXCdBVooJkQGqfIchrdWFAGNyMU+uVYEDiOAVfblliQFRhXBG9ZWJApktq426oYEDh9Vn7eApiQI972dQ87mNAAZebqzisZEA=\",\"dtype\":\"float64\",\"order\":\"little\",\"shape\":[10]}},\"selected\":{\"id\":\"7623\"},\"selection_policy\":{\"id\":\"7622\"}},\"id\":\"7579\",\"type\":\"ColumnDataSource\"},{\"attributes\":{\"end\":170.34337529945662,\"start\":101.6218734003396},\"id\":\"7585\",\"type\":\"Range1d\"},{\"attributes\":{\"margin\":[5,10,5,10],\"options\":[\"heartrate\",\"calories\",\"temperature\",\"body weight\",\"fat%\",\"muscle%\"],\"title\":\"target\",\"value\":\"heartrate\"},\"id\":\"7611\",\"type\":\"panel.models.widgets.CustomSelect\"},{\"attributes\":{\"below\":[{\"id\":\"7591\"}],\"center\":[{\"id\":\"7593\"},{\"id\":\"7597\"},{\"id\":\"7605\"}],\"height\":500,\"left\":[{\"id\":\"7594\"}],\"renderers\":[{\"id\":\"7603\"}],\"title\":{\"id\":\"7581\"},\"toolbar\":{\"id\":\"7598\"},\"toolbar_location\":null,\"width\":900,\"x_range\":{\"id\":\"7583\"},\"x_scale\":{\"id\":\"7587\"},\"y_range\":{\"id\":\"7585\"},\"y_scale\":{\"id\":\"7589\"}},\"id\":\"7580\",\"subtype\":\"Figure\",\"type\":\"Plot\"},{\"attributes\":{\"coordinates\":null,\"formatter\":{\"id\":\"7618\"},\"group\":null,\"major_label_policy\":{\"id\":\"7619\"},\"ticker\":{\"id\":\"7592\"}},\"id\":\"7591\",\"type\":\"CategoricalAxis\"},{\"attributes\":{},\"id\":\"7595\",\"type\":\"BasicTicker\"},{\"attributes\":{\"size\":{\"value\":20}},\"id\":\"7608\",\"type\":\"TeeHead\"},{\"attributes\":{\"coordinates\":null,\"data_source\":{\"id\":\"7579\"},\"glyph\":{\"id\":\"7600\"},\"group\":null,\"hover_glyph\":null,\"muted_glyph\":{\"id\":\"7602\"},\"nonselection_glyph\":{\"id\":\"7601\"},\"view\":{\"id\":\"7604\"}},\"id\":\"7603\",\"type\":\"GlyphRenderer\"},{\"attributes\":{},\"id\":\"7623\",\"type\":\"Selection\"},{\"attributes\":{\"coordinates\":null,\"group\":null,\"text\":\"heartrate error bar\"},\"id\":\"7581\",\"type\":\"Title\"},{\"attributes\":{\"source\":{\"id\":\"7579\"}},\"id\":\"7604\",\"type\":\"CDSView\"},{\"attributes\":{\"children\":[{\"id\":\"7610\"},{\"id\":\"7612\"}],\"margin\":[0,0,0,0],\"name\":\"Column02411\"},\"id\":\"7609\",\"type\":\"Column\"},{\"attributes\":{\"fill_color\":{\"value\":\"blue\"},\"hatch_color\":{\"value\":\"blue\"},\"line_color\":{\"value\":\"blue\"},\"line_width\":{\"value\":0.9},\"x\":{\"field\":\"participants_type\"},\"y\":{\"field\":\"required_mean\"}},\"id\":\"7600\",\"type\":\"Circle\"},{\"attributes\":{\"children\":[{\"id\":\"7611\"}],\"margin\":[0,0,0,0],\"name\":\"Column02416\"},\"id\":\"7610\",\"type\":\"Column\"},{\"attributes\":{},\"id\":\"7592\",\"type\":\"CategoricalTicker\"},{\"attributes\":{},\"id\":\"7587\",\"type\":\"CategoricalScale\"},{\"attributes\":{\"client_comm_id\":\"eed2f31545044ab68ff5c0cee1725920\",\"comm_id\":\"466c3367763c45c2985ff33afa0f6380\",\"plot_id\":\"7609\"},\"id\":\"7668\",\"type\":\"panel.models.comm_manager.CommManager\"},{\"attributes\":{\"base\":{\"field\":\"participants_type\"},\"coordinates\":null,\"group\":null,\"lower\":{\"field\":\"lower\"},\"lower_head\":{\"id\":\"7608\"},\"source\":{\"id\":\"7579\"},\"upper\":{\"field\":\"upper\"},\"upper_head\":{\"id\":\"7607\"}},\"id\":\"7605\",\"type\":\"Whisker\"},{\"attributes\":{},\"id\":\"7589\",\"type\":\"LinearScale\"}],\"root_ids\":[\"7609\",\"7668\"]},\"title\":\"Bokeh Application\",\"version\":\"2.4.3\"}};\n",
       "    var render_items = [{\"docid\":\"58f18c69-d440-46aa-a4e2-cf0ed7cfc40e\",\"root_ids\":[\"7609\"],\"roots\":{\"7609\":\"096bcb0a-8398-4b0f-8c85-1feef8381ae0\"}}];\n",
       "    root.Bokeh.embed.embed_items_notebook(docs_json, render_items);\n",
       "  }\n",
       "  if (root.Bokeh !== undefined && root.Bokeh.Panel !== undefined) {\n",
       "    embed_document(root);\n",
       "  } else {\n",
       "    var attempts = 0;\n",
       "    var timer = setInterval(function(root) {\n",
       "      if (root.Bokeh !== undefined && root.Bokeh.Panel !== undefined) {\n",
       "        clearInterval(timer);\n",
       "        embed_document(root);\n",
       "      } else if (document.readyState == \"complete\") {\n",
       "        attempts++;\n",
       "        if (attempts > 200) {\n",
       "          clearInterval(timer);\n",
       "          console.log(\"Bokeh: ERROR: Unable to run BokehJS code because BokehJS library is missing\");\n",
       "        }\n",
       "      }\n",
       "    }, 25, root)\n",
       "  }\n",
       "})(window);</script>"
      ],
      "text/plain": [
       "Column\n",
       "    [0] Column\n",
       "        [0] Select(name='target', options=['heartrate', ...], value='heartrate')\n",
       "    [1] Row\n",
       "        [0] Bokeh(Figure, name='interactive02410')"
      ]
     },
     "execution_count": 82,
     "metadata": {
      "application/vnd.holoviews_exec.v0+json": {
       "id": "7609"
      }
     },
     "output_type": "execute_result"
    }
   ],
   "source": [
    "df = personal_df\n",
    "def error_bar(target):\n",
    "    \n",
    "    #create new column containing participant and the type of test\n",
    "    df['participant_type'] = df['participant']+' '+df['type']\n",
    "\n",
    "    # calculate SE\n",
    "    dff = df.groupby('participant_type').mean().reset_index()\n",
    "    std = df.groupby('participant_type').std().reset_index()\n",
    "    n = df.groupby('participant_type').count().reset_index()\n",
    "    \n",
    "    name_list = list(dff['participant_type'])\n",
    "    mean_list = list(dff[target])\n",
    "    std_list = list(std[target])\n",
    "    n_list = list(n[target])\n",
    "    se_list = std_list/np.sqrt(n_list)\n",
    "\n",
    "    #calculate upper and lower\n",
    "    upper = mean_list + se_list*1.96\n",
    "    lower = mean_list - se_list*1.96\n",
    "    \n",
    "    # create new dataframe\n",
    "    data = {'participants_type' : name_list,\n",
    "            'required_mean' : mean_list,\n",
    "            'SE' : se_list,\n",
    "            'upper' : upper,\n",
    "            'lower' : lower,\n",
    "            }\n",
    "    data = pd.DataFrame(data)\n",
    "\n",
    "    source = ColumnDataSource(data)\n",
    "\n",
    "    # plot\n",
    "\n",
    "    p = figure(x_range= name_list, y_range = [data['lower'].min()*.99,data['upper'].max()*1.03],  width=900, \n",
    "               height=500, title= target +\" error bar\", toolbar_location=None, tools=\"\")\n",
    "\n",
    "    p.circle(x='participants_type', y= 'required_mean', width=0.9, color='blue', source=source)\n",
    "\n",
    "    whisker = Whisker(base='participants_type', upper=\"upper\", lower=\"lower\", source=source)\n",
    "    whisker.upper_head.size = whisker.lower_head.size = 20\n",
    "    p.add_layout(whisker)\n",
    "    return p\n",
    "\n",
    "targets = [\"heartrate\", \"calories\", \"temperature\", \"body weight\", \"fat%\", \"muscle%\"]\n",
    "personal_error_plot = pn.interact(error_bar, target = targets)\n",
    "personal_error_plot"
   ]
  },
  {
   "cell_type": "markdown",
   "metadata": {},
   "source": [
    "### Flanker Test Analysis"
   ]
  },
  {
   "cell_type": "code",
   "execution_count": 83,
   "metadata": {},
   "outputs": [],
   "source": [
    "# creating Flanker dataframe\n",
    "def create_flanker_dataframe():\n",
    "    flanker_df = data_dict[\"flanker\"]\n",
    "    flanker_df.rename(columns={0: \"pattern\", 1: \"expression\", 2: \"correctness\", 3: \"response-time\"}, inplace=True)\n",
    "    flanker_df[\"correctness\"] = flanker_df[\"correctness\"].replace(1, \"correct\")\n",
    "    flanker_df[\"correctness\"] = flanker_df[\"correctness\"].replace(2, \"incorrect\")\n",
    "    flanker_df[\"correctness\"] = flanker_df[\"correctness\"].replace(3, \"not-answer\")\n",
    "    return flanker_df\n",
    "\n",
    "flanker_df = create_flanker_dataframe()"
   ]
  },
  {
   "cell_type": "code",
   "execution_count": 84,
   "metadata": {},
   "outputs": [
    {
     "data": {},
     "metadata": {},
     "output_type": "display_data"
    },
    {
     "data": {
      "application/vnd.holoviews_exec.v0+json": "",
      "text/html": [
       "<div id='7751'>\n",
       "  <div class=\"bk-root\" id=\"75ed2618-bad0-4047-9152-c2d2a139040e\" data-root-id=\"7751\"></div>\n",
       "</div>\n",
       "<script type=\"application/javascript\">(function(root) {\n",
       "  function embed_document(root) {\n",
       "    var docs_json = {\"a1a988ad-3558-48d6-b7e9-b1a856a3850d\":{\"defs\":[{\"extends\":null,\"module\":null,\"name\":\"ReactiveHTML1\",\"overrides\":[],\"properties\":[]},{\"extends\":null,\"module\":null,\"name\":\"FlexBox1\",\"overrides\":[],\"properties\":[{\"default\":\"flex-start\",\"kind\":null,\"name\":\"align_content\"},{\"default\":\"flex-start\",\"kind\":null,\"name\":\"align_items\"},{\"default\":\"row\",\"kind\":null,\"name\":\"flex_direction\"},{\"default\":\"wrap\",\"kind\":null,\"name\":\"flex_wrap\"},{\"default\":\"flex-start\",\"kind\":null,\"name\":\"justify_content\"}]},{\"extends\":null,\"module\":null,\"name\":\"GridStack1\",\"overrides\":[],\"properties\":[{\"default\":\"warn\",\"kind\":null,\"name\":\"mode\"},{\"default\":null,\"kind\":null,\"name\":\"ncols\"},{\"default\":null,\"kind\":null,\"name\":\"nrows\"},{\"default\":true,\"kind\":null,\"name\":\"allow_resize\"},{\"default\":true,\"kind\":null,\"name\":\"allow_drag\"},{\"default\":[],\"kind\":null,\"name\":\"state\"}]},{\"extends\":null,\"module\":null,\"name\":\"click1\",\"overrides\":[],\"properties\":[{\"default\":\"\",\"kind\":null,\"name\":\"terminal_output\"},{\"default\":\"\",\"kind\":null,\"name\":\"debug_name\"},{\"default\":0,\"kind\":null,\"name\":\"clears\"}]},{\"extends\":null,\"module\":null,\"name\":\"NotificationAreaBase1\",\"overrides\":[],\"properties\":[{\"default\":\"bottom-right\",\"kind\":null,\"name\":\"position\"},{\"default\":0,\"kind\":null,\"name\":\"_clear\"}]},{\"extends\":null,\"module\":null,\"name\":\"NotificationArea1\",\"overrides\":[],\"properties\":[{\"default\":[],\"kind\":null,\"name\":\"notifications\"},{\"default\":\"bottom-right\",\"kind\":null,\"name\":\"position\"},{\"default\":0,\"kind\":null,\"name\":\"_clear\"},{\"default\":[{\"background\":\"#ffc107\",\"icon\":{\"className\":\"fas fa-exclamation-triangle\",\"color\":\"white\",\"tagName\":\"i\"},\"type\":\"warning\"},{\"background\":\"#007bff\",\"icon\":{\"className\":\"fas fa-info-circle\",\"color\":\"white\",\"tagName\":\"i\"},\"type\":\"info\"}],\"kind\":null,\"name\":\"types\"}]},{\"extends\":null,\"module\":null,\"name\":\"Notification\",\"overrides\":[],\"properties\":[{\"default\":null,\"kind\":null,\"name\":\"background\"},{\"default\":3000,\"kind\":null,\"name\":\"duration\"},{\"default\":null,\"kind\":null,\"name\":\"icon\"},{\"default\":\"\",\"kind\":null,\"name\":\"message\"},{\"default\":null,\"kind\":null,\"name\":\"notification_type\"},{\"default\":false,\"kind\":null,\"name\":\"_destroyed\"}]},{\"extends\":null,\"module\":null,\"name\":\"TemplateActions1\",\"overrides\":[],\"properties\":[{\"default\":0,\"kind\":null,\"name\":\"open_modal\"},{\"default\":0,\"kind\":null,\"name\":\"close_modal\"}]},{\"extends\":null,\"module\":null,\"name\":\"MaterialTemplateActions1\",\"overrides\":[],\"properties\":[{\"default\":0,\"kind\":null,\"name\":\"open_modal\"},{\"default\":0,\"kind\":null,\"name\":\"close_modal\"}]}],\"roots\":{\"references\":[{\"attributes\":{},\"id\":\"7761\",\"type\":\"AllLabels\"},{\"attributes\":{},\"id\":\"7738\",\"type\":\"CategoricalTicker\"},{\"attributes\":{\"end\":2,\"factors\":[\"dehydration\",\"control\"],\"palette\":[\"salmon\",\"skyblue\"],\"start\":1},\"id\":\"7724\",\"type\":\"CategoricalColorMapper\"},{\"attributes\":{\"coordinates\":null,\"data_source\":{\"id\":\"7725\"},\"glyph\":{\"id\":\"7746\"},\"group\":null,\"hover_glyph\":null,\"muted_glyph\":{\"id\":\"7748\"},\"nonselection_glyph\":{\"id\":\"7747\"},\"view\":{\"id\":\"7750\"}},\"id\":\"7749\",\"type\":\"GlyphRenderer\"},{\"attributes\":{\"fill_alpha\":{\"value\":0.2},\"fill_color\":{\"field\":\"x\",\"transform\":{\"id\":\"7724\"}},\"hatch_alpha\":{\"value\":0.2},\"line_alpha\":{\"value\":0.2},\"line_color\":{\"value\":\"#1f77b4\"},\"top\":{\"field\":\"counts\"},\"width\":{\"value\":0.9},\"x\":{\"field\":\"x\"}},\"id\":\"7748\",\"type\":\"VBar\"},{\"attributes\":{},\"id\":\"7735\",\"type\":\"LinearScale\"},{\"attributes\":{},\"id\":\"7733\",\"type\":\"CategoricalScale\"},{\"attributes\":{\"margin\":[5,10,5,10],\"options\":[\"correct\",\"incorrect\"],\"title\":\"answer_type\",\"value\":\"correct\"},\"id\":\"7753\",\"type\":\"panel.models.widgets.CustomSelect\"},{\"attributes\":{\"axis\":{\"id\":\"7740\"},\"coordinates\":null,\"dimension\":1,\"group\":null,\"ticker\":null},\"id\":\"7743\",\"type\":\"Grid\"},{\"attributes\":{},\"id\":\"7758\",\"type\":\"AllLabels\"},{\"attributes\":{},\"id\":\"7757\",\"type\":\"BasicTickFormatter\"},{\"attributes\":{\"children\":[{\"id\":\"7752\"},{\"id\":\"7754\"}],\"margin\":[0,0,0,0],\"name\":\"Column02420\"},\"id\":\"7751\",\"type\":\"Column\"},{\"attributes\":{},\"id\":\"7762\",\"type\":\"UnionRenderers\"},{\"attributes\":{\"children\":[{\"id\":\"7753\"}],\"margin\":[0,0,0,0],\"name\":\"Column02425\"},\"id\":\"7752\",\"type\":\"Column\"},{\"attributes\":{\"fill_alpha\":{\"value\":0.1},\"fill_color\":{\"field\":\"x\",\"transform\":{\"id\":\"7724\"}},\"hatch_alpha\":{\"value\":0.1},\"line_alpha\":{\"value\":0.1},\"line_color\":{\"value\":\"#1f77b4\"},\"top\":{\"field\":\"counts\"},\"width\":{\"value\":0.9},\"x\":{\"field\":\"x\"}},\"id\":\"7747\",\"type\":\"VBar\"},{\"attributes\":{},\"id\":\"7760\",\"type\":\"CategoricalTickFormatter\"},{\"attributes\":{\"factors\":[[\"blue\",\"control\"],[\"blue\",\"dehydration\"],[\"green\",\"control\"],[\"green\",\"dehydration\"],[\"orange\",\"control\"],[\"orange\",\"dehydration\"],[\"pink\",\"control\"],[\"pink\",\"dehydration\"],[\"red\",\"control\"],[\"red\",\"dehydration\"]],\"range_padding\":0.1},\"id\":\"7726\",\"type\":\"FactorRange\"},{\"attributes\":{\"source\":{\"id\":\"7725\"}},\"id\":\"7750\",\"type\":\"CDSView\"},{\"attributes\":{\"client_comm_id\":\"0c8f336e13a44c2cb8ca35ab639854db\",\"comm_id\":\"ccb76d2a22b944fab5a3f1d2263fa123\",\"plot_id\":\"7751\"},\"id\":\"7800\",\"type\":\"panel.models.comm_manager.CommManager\"},{\"attributes\":{\"axis_label\":\"count\",\"coordinates\":null,\"formatter\":{\"id\":\"7757\"},\"group\":null,\"major_label_policy\":{\"id\":\"7758\"},\"ticker\":{\"id\":\"7741\"}},\"id\":\"7740\",\"type\":\"LinearAxis\"},{\"attributes\":{},\"id\":\"7744\",\"type\":\"Toolbar\"},{\"attributes\":{\"fill_color\":{\"field\":\"x\",\"transform\":{\"id\":\"7724\"}},\"line_color\":{\"value\":\"#1f77b4\"},\"top\":{\"field\":\"counts\"},\"width\":{\"value\":0.9},\"x\":{\"field\":\"x\"}},\"id\":\"7746\",\"type\":\"VBar\"},{\"attributes\":{\"end\":100},\"id\":\"7731\",\"type\":\"Range1d\"},{\"attributes\":{\"coordinates\":null,\"group\":null,\"text\":\"Average of correct answers\"},\"id\":\"7728\",\"type\":\"Title\"},{\"attributes\":{\"axis_label\":\"participant/session\",\"coordinates\":null,\"formatter\":{\"id\":\"7760\"},\"group\":null,\"major_label_orientation\":1,\"major_label_policy\":{\"id\":\"7761\"},\"ticker\":{\"id\":\"7738\"}},\"id\":\"7737\",\"type\":\"CategoricalAxis\"},{\"attributes\":{\"axis\":{\"id\":\"7737\"},\"coordinates\":null,\"grid_line_color\":null,\"group\":null,\"ticker\":null},\"id\":\"7739\",\"type\":\"Grid\"},{\"attributes\":{},\"id\":\"7741\",\"type\":\"BasicTicker\"},{\"attributes\":{},\"id\":\"7763\",\"type\":\"Selection\"},{\"attributes\":{\"below\":[{\"id\":\"7737\"}],\"center\":[{\"id\":\"7739\"},{\"id\":\"7743\"}],\"height\":400,\"left\":[{\"id\":\"7740\"}],\"renderers\":[{\"id\":\"7749\"}],\"title\":{\"id\":\"7728\"},\"toolbar\":{\"id\":\"7744\"},\"toolbar_location\":null,\"x_range\":{\"id\":\"7726\"},\"x_scale\":{\"id\":\"7733\"},\"y_range\":{\"id\":\"7731\"},\"y_scale\":{\"id\":\"7735\"}},\"id\":\"7727\",\"subtype\":\"Figure\",\"type\":\"Plot\"},{\"attributes\":{\"data\":{\"counts\":[44.0,48.0,45.5,47.5,47.5,46.5,42.5,43.0,49.0,48.5],\"x\":[[\"blue\",\"control\"],[\"blue\",\"dehydration\"],[\"green\",\"control\"],[\"green\",\"dehydration\"],[\"orange\",\"control\"],[\"orange\",\"dehydration\"],[\"pink\",\"control\"],[\"pink\",\"dehydration\"],[\"red\",\"control\"],[\"red\",\"dehydration\"]]},\"selected\":{\"id\":\"7763\"},\"selection_policy\":{\"id\":\"7762\"}},\"id\":\"7725\",\"type\":\"ColumnDataSource\"},{\"attributes\":{\"children\":[{\"id\":\"7727\"}],\"margin\":[0,0,0,0],\"name\":\"Row02424\"},\"id\":\"7754\",\"type\":\"Row\"}],\"root_ids\":[\"7751\",\"7800\"]},\"title\":\"Bokeh Application\",\"version\":\"2.4.3\"}};\n",
       "    var render_items = [{\"docid\":\"a1a988ad-3558-48d6-b7e9-b1a856a3850d\",\"root_ids\":[\"7751\"],\"roots\":{\"7751\":\"75ed2618-bad0-4047-9152-c2d2a139040e\"}}];\n",
       "    root.Bokeh.embed.embed_items_notebook(docs_json, render_items);\n",
       "  }\n",
       "  if (root.Bokeh !== undefined && root.Bokeh.Panel !== undefined) {\n",
       "    embed_document(root);\n",
       "  } else {\n",
       "    var attempts = 0;\n",
       "    var timer = setInterval(function(root) {\n",
       "      if (root.Bokeh !== undefined && root.Bokeh.Panel !== undefined) {\n",
       "        clearInterval(timer);\n",
       "        embed_document(root);\n",
       "      } else if (document.readyState == \"complete\") {\n",
       "        attempts++;\n",
       "        if (attempts > 200) {\n",
       "          clearInterval(timer);\n",
       "          console.log(\"Bokeh: ERROR: Unable to run BokehJS code because BokehJS library is missing\");\n",
       "        }\n",
       "      }\n",
       "    }, 25, root)\n",
       "  }\n",
       "})(window);</script>"
      ],
      "text/plain": [
       "Column\n",
       "    [0] Column\n",
       "        [0] Select(name='answer_type', options=['correct', 'incorrect'], value='correct')\n",
       "    [1] Row\n",
       "        [0] Bokeh(Figure, name='interactive02419')"
      ]
     },
     "execution_count": 84,
     "metadata": {
      "application/vnd.holoviews_exec.v0+json": {
       "id": "7751"
      }
     },
     "output_type": "execute_result"
    }
   ],
   "source": [
    "def show_plot(data, title, x_label=\"\", y_label=\"\", palette=[\"salmon\", \"skyblue\"], factors=[\"dehydration\", \"control\"]):\n",
    "    index_cmap = factor_cmap('x', palette=palette, factors=factors, start=1, end=2)\n",
    "    x = list(data.index.values)\n",
    "    data_map = {\n",
    "        'x': x,\n",
    "        'counts': data.tolist()\n",
    "        }\n",
    "\n",
    "    source = ColumnDataSource(data=data_map)\n",
    "    p = figure(x_range=FactorRange(*x), y_range=(0, 100), height=400, title=title,\n",
    "               toolbar_location=None, tools=\"\", x_axis_label=x_label, y_axis_label=y_label)\n",
    "\n",
    "    p.vbar(x='x', top='counts', width=0.9, source=source, fill_color=index_cmap)\n",
    "\n",
    "    p.y_range.start = 0\n",
    "    p.x_range.range_padding = 0.1\n",
    "    p.xaxis.major_label_orientation = 1\n",
    "    p.xgrid.grid_line_color = None\n",
    "    return p\n",
    "\n",
    "def flanker_calculate_counts(flanker_df, answer_type=\"correct\"):\n",
    "    flanker_df = flanker_df[flanker_df[\"correctness\"] == answer_type]\n",
    "    flanker_df = flanker_df.groupby([\"participant\", \"type\", \"repeat\"])[\"correctness\"].count().reset_index()\n",
    "    data = flanker_df.groupby(by=[\"participant\", \"type\"])[\"correctness\"].mean()\n",
    "    return data\n",
    "\n",
    "def flanker_plot_count(answer_type=\"correct\"):  # Roya\n",
    "    flanker_df = create_flanker_dataframe()\n",
    "    data = flanker_calculate_counts(flanker_df, answer_type)\n",
    "    return show_plot(data, f\"Average of {answer_type} answers\", \"participant/session\", \"count\" )\n",
    "\n",
    "answer_types =['correct','incorrect']\n",
    "flanker_counts = pn.interact(flanker_plot_count, answer_type = answer_types)\n",
    "flanker_counts"
   ]
  },
  {
   "cell_type": "code",
   "execution_count": 85,
   "metadata": {},
   "outputs": [
    {
     "data": {},
     "metadata": {},
     "output_type": "display_data"
    },
    {
     "data": {
      "application/vnd.holoviews_exec.v0+json": "",
      "text/html": [
       "<div id='7873'>\n",
       "  <div class=\"bk-root\" id=\"4bbb1dc0-8231-4309-97ee-276c5babd0f1\" data-root-id=\"7873\"></div>\n",
       "</div>\n",
       "<script type=\"application/javascript\">(function(root) {\n",
       "  function embed_document(root) {\n",
       "    var docs_json = {\"ad5dc33b-b524-4d70-aaa4-25603503db91\":{\"defs\":[{\"extends\":null,\"module\":null,\"name\":\"ReactiveHTML1\",\"overrides\":[],\"properties\":[]},{\"extends\":null,\"module\":null,\"name\":\"FlexBox1\",\"overrides\":[],\"properties\":[{\"default\":\"flex-start\",\"kind\":null,\"name\":\"align_content\"},{\"default\":\"flex-start\",\"kind\":null,\"name\":\"align_items\"},{\"default\":\"row\",\"kind\":null,\"name\":\"flex_direction\"},{\"default\":\"wrap\",\"kind\":null,\"name\":\"flex_wrap\"},{\"default\":\"flex-start\",\"kind\":null,\"name\":\"justify_content\"}]},{\"extends\":null,\"module\":null,\"name\":\"GridStack1\",\"overrides\":[],\"properties\":[{\"default\":\"warn\",\"kind\":null,\"name\":\"mode\"},{\"default\":null,\"kind\":null,\"name\":\"ncols\"},{\"default\":null,\"kind\":null,\"name\":\"nrows\"},{\"default\":true,\"kind\":null,\"name\":\"allow_resize\"},{\"default\":true,\"kind\":null,\"name\":\"allow_drag\"},{\"default\":[],\"kind\":null,\"name\":\"state\"}]},{\"extends\":null,\"module\":null,\"name\":\"click1\",\"overrides\":[],\"properties\":[{\"default\":\"\",\"kind\":null,\"name\":\"terminal_output\"},{\"default\":\"\",\"kind\":null,\"name\":\"debug_name\"},{\"default\":0,\"kind\":null,\"name\":\"clears\"}]},{\"extends\":null,\"module\":null,\"name\":\"NotificationAreaBase1\",\"overrides\":[],\"properties\":[{\"default\":\"bottom-right\",\"kind\":null,\"name\":\"position\"},{\"default\":0,\"kind\":null,\"name\":\"_clear\"}]},{\"extends\":null,\"module\":null,\"name\":\"NotificationArea1\",\"overrides\":[],\"properties\":[{\"default\":[],\"kind\":null,\"name\":\"notifications\"},{\"default\":\"bottom-right\",\"kind\":null,\"name\":\"position\"},{\"default\":0,\"kind\":null,\"name\":\"_clear\"},{\"default\":[{\"background\":\"#ffc107\",\"icon\":{\"className\":\"fas fa-exclamation-triangle\",\"color\":\"white\",\"tagName\":\"i\"},\"type\":\"warning\"},{\"background\":\"#007bff\",\"icon\":{\"className\":\"fas fa-info-circle\",\"color\":\"white\",\"tagName\":\"i\"},\"type\":\"info\"}],\"kind\":null,\"name\":\"types\"}]},{\"extends\":null,\"module\":null,\"name\":\"Notification\",\"overrides\":[],\"properties\":[{\"default\":null,\"kind\":null,\"name\":\"background\"},{\"default\":3000,\"kind\":null,\"name\":\"duration\"},{\"default\":null,\"kind\":null,\"name\":\"icon\"},{\"default\":\"\",\"kind\":null,\"name\":\"message\"},{\"default\":null,\"kind\":null,\"name\":\"notification_type\"},{\"default\":false,\"kind\":null,\"name\":\"_destroyed\"}]},{\"extends\":null,\"module\":null,\"name\":\"TemplateActions1\",\"overrides\":[],\"properties\":[{\"default\":0,\"kind\":null,\"name\":\"open_modal\"},{\"default\":0,\"kind\":null,\"name\":\"close_modal\"}]},{\"extends\":null,\"module\":null,\"name\":\"MaterialTemplateActions1\",\"overrides\":[],\"properties\":[{\"default\":0,\"kind\":null,\"name\":\"open_modal\"},{\"default\":0,\"kind\":null,\"name\":\"close_modal\"}]}],\"roots\":{\"references\":[{\"attributes\":{},\"id\":\"7882\",\"type\":\"CategoricalTickFormatter\"},{\"attributes\":{\"factors\":[[\"blue\",\"control\"],[\"blue\",\"dehydration\"],[\"green\",\"control\"],[\"green\",\"dehydration\"],[\"orange\",\"control\"],[\"orange\",\"dehydration\"],[\"pink\",\"control\"],[\"pink\",\"dehydration\"],[\"red\",\"control\"],[\"red\",\"dehydration\"]],\"range_padding\":0.1},\"id\":\"7848\",\"type\":\"FactorRange\"},{\"attributes\":{\"children\":[{\"id\":\"7874\"},{\"id\":\"7876\"}],\"margin\":[0,0,0,0],\"name\":\"Column02429\"},\"id\":\"7873\",\"type\":\"Column\"},{\"attributes\":{\"axis_label\":\"participant/session\",\"coordinates\":null,\"formatter\":{\"id\":\"7882\"},\"group\":null,\"major_label_orientation\":1,\"major_label_policy\":{\"id\":\"7883\"},\"ticker\":{\"id\":\"7860\"}},\"id\":\"7859\",\"type\":\"CategoricalAxis\"},{\"attributes\":{},\"id\":\"7863\",\"type\":\"BasicTicker\"},{\"attributes\":{},\"id\":\"7855\",\"type\":\"CategoricalScale\"},{\"attributes\":{\"children\":[{\"id\":\"7849\"}],\"margin\":[0,0,0,0],\"name\":\"Row02433\"},\"id\":\"7876\",\"type\":\"Row\"},{\"attributes\":{},\"id\":\"7866\",\"type\":\"Toolbar\"},{\"attributes\":{},\"id\":\"7880\",\"type\":\"AllLabels\"},{\"attributes\":{\"client_comm_id\":\"eeded6691a964c95b6973d453e539cae\",\"comm_id\":\"f90f2203ae554c14b9ea26064e71dc5c\",\"plot_id\":\"7873\"},\"id\":\"7922\",\"type\":\"panel.models.comm_manager.CommManager\"},{\"attributes\":{\"fill_alpha\":{\"value\":0.2},\"fill_color\":{\"field\":\"x\",\"transform\":{\"id\":\"7846\"}},\"hatch_alpha\":{\"value\":0.2},\"line_alpha\":{\"value\":0.2},\"line_color\":{\"value\":\"#1f77b4\"},\"top\":{\"field\":\"counts\"},\"width\":{\"value\":0.9},\"x\":{\"field\":\"x\"}},\"id\":\"7870\",\"type\":\"VBar\"},{\"attributes\":{\"data\":{\"counts\":[88.0,96.0,91.0,95.0,95.0,93.0,85.0,86.0,98.0,97.0],\"x\":[[\"blue\",\"control\"],[\"blue\",\"dehydration\"],[\"green\",\"control\"],[\"green\",\"dehydration\"],[\"orange\",\"control\"],[\"orange\",\"dehydration\"],[\"pink\",\"control\"],[\"pink\",\"dehydration\"],[\"red\",\"control\"],[\"red\",\"dehydration\"]]},\"selected\":{\"id\":\"7885\"},\"selection_policy\":{\"id\":\"7884\"}},\"id\":\"7847\",\"type\":\"ColumnDataSource\"},{\"attributes\":{\"end\":100},\"id\":\"7853\",\"type\":\"Range1d\"},{\"attributes\":{\"axis\":{\"id\":\"7862\"},\"coordinates\":null,\"dimension\":1,\"group\":null,\"ticker\":null},\"id\":\"7865\",\"type\":\"Grid\"},{\"attributes\":{\"fill_color\":{\"field\":\"x\",\"transform\":{\"id\":\"7846\"}},\"line_color\":{\"value\":\"#1f77b4\"},\"top\":{\"field\":\"counts\"},\"width\":{\"value\":0.9},\"x\":{\"field\":\"x\"}},\"id\":\"7868\",\"type\":\"VBar\"},{\"attributes\":{},\"id\":\"7857\",\"type\":\"LinearScale\"},{\"attributes\":{},\"id\":\"7883\",\"type\":\"AllLabels\"},{\"attributes\":{\"children\":[{\"id\":\"7875\"}],\"margin\":[0,0,0,0],\"name\":\"Column02434\"},\"id\":\"7874\",\"type\":\"Column\"},{\"attributes\":{\"fill_alpha\":{\"value\":0.1},\"fill_color\":{\"field\":\"x\",\"transform\":{\"id\":\"7846\"}},\"hatch_alpha\":{\"value\":0.1},\"line_alpha\":{\"value\":0.1},\"line_color\":{\"value\":\"#1f77b4\"},\"top\":{\"field\":\"counts\"},\"width\":{\"value\":0.9},\"x\":{\"field\":\"x\"}},\"id\":\"7869\",\"type\":\"VBar\"},{\"attributes\":{\"coordinates\":null,\"data_source\":{\"id\":\"7847\"},\"glyph\":{\"id\":\"7868\"},\"group\":null,\"hover_glyph\":null,\"muted_glyph\":{\"id\":\"7870\"},\"nonselection_glyph\":{\"id\":\"7869\"},\"view\":{\"id\":\"7872\"}},\"id\":\"7871\",\"type\":\"GlyphRenderer\"},{\"attributes\":{},\"id\":\"7885\",\"type\":\"Selection\"},{\"attributes\":{\"source\":{\"id\":\"7847\"}},\"id\":\"7872\",\"type\":\"CDSView\"},{\"attributes\":{\"axis\":{\"id\":\"7859\"},\"coordinates\":null,\"grid_line_color\":null,\"group\":null,\"ticker\":null},\"id\":\"7861\",\"type\":\"Grid\"},{\"attributes\":{},\"id\":\"7860\",\"type\":\"CategoricalTicker\"},{\"attributes\":{},\"id\":\"7879\",\"type\":\"BasicTickFormatter\"},{\"attributes\":{\"coordinates\":null,\"group\":null,\"text\":\"Percentage of correct answers\"},\"id\":\"7850\",\"type\":\"Title\"},{\"attributes\":{\"axis_label\":\"Percentage\",\"coordinates\":null,\"formatter\":{\"id\":\"7879\"},\"group\":null,\"major_label_policy\":{\"id\":\"7880\"},\"ticker\":{\"id\":\"7863\"}},\"id\":\"7862\",\"type\":\"LinearAxis\"},{\"attributes\":{\"below\":[{\"id\":\"7859\"}],\"center\":[{\"id\":\"7861\"},{\"id\":\"7865\"}],\"height\":400,\"left\":[{\"id\":\"7862\"}],\"renderers\":[{\"id\":\"7871\"}],\"title\":{\"id\":\"7850\"},\"toolbar\":{\"id\":\"7866\"},\"toolbar_location\":null,\"x_range\":{\"id\":\"7848\"},\"x_scale\":{\"id\":\"7855\"},\"y_range\":{\"id\":\"7853\"},\"y_scale\":{\"id\":\"7857\"}},\"id\":\"7849\",\"subtype\":\"Figure\",\"type\":\"Plot\"},{\"attributes\":{},\"id\":\"7884\",\"type\":\"UnionRenderers\"},{\"attributes\":{\"end\":2,\"factors\":[\"dehydration\",\"control\"],\"palette\":[\"salmon\",\"skyblue\"],\"start\":1},\"id\":\"7846\",\"type\":\"CategoricalColorMapper\"},{\"attributes\":{\"margin\":[5,10,5,10],\"options\":[\"correct\",\"incorrect\"],\"title\":\"answer_type\",\"value\":\"correct\"},\"id\":\"7875\",\"type\":\"panel.models.widgets.CustomSelect\"}],\"root_ids\":[\"7873\",\"7922\"]},\"title\":\"Bokeh Application\",\"version\":\"2.4.3\"}};\n",
       "    var render_items = [{\"docid\":\"ad5dc33b-b524-4d70-aaa4-25603503db91\",\"root_ids\":[\"7873\"],\"roots\":{\"7873\":\"4bbb1dc0-8231-4309-97ee-276c5babd0f1\"}}];\n",
       "    root.Bokeh.embed.embed_items_notebook(docs_json, render_items);\n",
       "  }\n",
       "  if (root.Bokeh !== undefined && root.Bokeh.Panel !== undefined) {\n",
       "    embed_document(root);\n",
       "  } else {\n",
       "    var attempts = 0;\n",
       "    var timer = setInterval(function(root) {\n",
       "      if (root.Bokeh !== undefined && root.Bokeh.Panel !== undefined) {\n",
       "        clearInterval(timer);\n",
       "        embed_document(root);\n",
       "      } else if (document.readyState == \"complete\") {\n",
       "        attempts++;\n",
       "        if (attempts > 200) {\n",
       "          clearInterval(timer);\n",
       "          console.log(\"Bokeh: ERROR: Unable to run BokehJS code because BokehJS library is missing\");\n",
       "        }\n",
       "      }\n",
       "    }, 25, root)\n",
       "  }\n",
       "})(window);</script>"
      ],
      "text/plain": [
       "Column\n",
       "    [0] Column\n",
       "        [0] Select(name='answer_type', options=['correct', 'incorrect'], value='correct')\n",
       "    [1] Row\n",
       "        [0] Bokeh(Figure, name='interactive02428')"
      ]
     },
     "execution_count": 85,
     "metadata": {
      "application/vnd.holoviews_exec.v0+json": {
       "id": "7873"
      }
     },
     "output_type": "execute_result"
    }
   ],
   "source": [
    "def calculate_percentage(flanker_df, answer_type=\"correct\"):\n",
    "    df_all = flanker_df.groupby([\"participant\", \"type\", \"repeat\"]).agg(count=(\"correctness\", \"count\"))\n",
    "    flanker_df = flanker_df[flanker_df[\"correctness\"] == answer_type]\n",
    "    df_correct = flanker_df.groupby([\"participant\", \"type\", \"repeat\"]).agg(count=(\"correctness\", \"count\"))\n",
    "\n",
    "    flanker_df = round(df_correct[\"count\"] * 100 / df_all[\"count\"], 2).rename(\"correctness\").reset_index().fillna(0)\n",
    "    data = flanker_df.groupby(by=[\"participant\", \"type\"])[\n",
    "        \"correctness\"].mean()\n",
    "    return data\n",
    "    \n",
    "def flanker_plot_percentage(answer_type=\"correct\"): \n",
    "    flanker_df = create_flanker_dataframe()\n",
    "    data = calculate_percentage(flanker_df, answer_type)\n",
    "    return show_plot(data, f\"Percentage of {answer_type} answers\", \"participant/session\", \"Percentage\" )\n",
    "\n",
    "\n",
    "\n",
    "answer_types =['correct','incorrect']\n",
    "flanker_percentage = pn.interact(flanker_plot_percentage, answer_type = answer_types)\n",
    "flanker_percentage"
   ]
  },
  {
   "cell_type": "code",
   "execution_count": 86,
   "metadata": {},
   "outputs": [
    {
     "data": {
      "text/html": [
       "<div>\n",
       "<style scoped>\n",
       "    .dataframe tbody tr th:only-of-type {\n",
       "        vertical-align: middle;\n",
       "    }\n",
       "\n",
       "    .dataframe tbody tr th {\n",
       "        vertical-align: top;\n",
       "    }\n",
       "\n",
       "    .dataframe thead th {\n",
       "        text-align: right;\n",
       "    }\n",
       "</style>\n",
       "<table border=\"1\" class=\"dataframe\">\n",
       "  <thead>\n",
       "    <tr style=\"text-align: right;\">\n",
       "      <th></th>\n",
       "      <th>participant</th>\n",
       "      <th>type</th>\n",
       "      <th>repeat</th>\n",
       "      <th>pattern</th>\n",
       "      <th>expression</th>\n",
       "      <th>correctness</th>\n",
       "      <th>response-time</th>\n",
       "      <th>4</th>\n",
       "      <th>5</th>\n",
       "      <th>6</th>\n",
       "      <th>7</th>\n",
       "      <th>8</th>\n",
       "    </tr>\n",
       "  </thead>\n",
       "  <tbody>\n",
       "    <tr>\n",
       "      <th>0</th>\n",
       "      <td>red</td>\n",
       "      <td>control</td>\n",
       "      <td>1</td>\n",
       "      <td>BBXBB</td>\n",
       "      <td>0.0</td>\n",
       "      <td>correct</td>\n",
       "      <td>1344.0</td>\n",
       "      <td>NaN</td>\n",
       "      <td>NaN</td>\n",
       "      <td>NaN</td>\n",
       "      <td>NaN</td>\n",
       "      <td>NaN</td>\n",
       "    </tr>\n",
       "    <tr>\n",
       "      <th>1</th>\n",
       "      <td>red</td>\n",
       "      <td>control</td>\n",
       "      <td>1</td>\n",
       "      <td>XXXXX</td>\n",
       "      <td>1.0</td>\n",
       "      <td>correct</td>\n",
       "      <td>818.0</td>\n",
       "      <td>NaN</td>\n",
       "      <td>NaN</td>\n",
       "      <td>NaN</td>\n",
       "      <td>NaN</td>\n",
       "      <td>NaN</td>\n",
       "    </tr>\n",
       "    <tr>\n",
       "      <th>2</th>\n",
       "      <td>red</td>\n",
       "      <td>control</td>\n",
       "      <td>1</td>\n",
       "      <td>VVXVV</td>\n",
       "      <td>0.0</td>\n",
       "      <td>correct</td>\n",
       "      <td>617.0</td>\n",
       "      <td>NaN</td>\n",
       "      <td>NaN</td>\n",
       "      <td>NaN</td>\n",
       "      <td>NaN</td>\n",
       "      <td>NaN</td>\n",
       "    </tr>\n",
       "    <tr>\n",
       "      <th>3</th>\n",
       "      <td>red</td>\n",
       "      <td>control</td>\n",
       "      <td>1</td>\n",
       "      <td>VVXVV</td>\n",
       "      <td>0.0</td>\n",
       "      <td>correct</td>\n",
       "      <td>602.0</td>\n",
       "      <td>NaN</td>\n",
       "      <td>NaN</td>\n",
       "      <td>NaN</td>\n",
       "      <td>NaN</td>\n",
       "      <td>NaN</td>\n",
       "    </tr>\n",
       "    <tr>\n",
       "      <th>4</th>\n",
       "      <td>red</td>\n",
       "      <td>control</td>\n",
       "      <td>1</td>\n",
       "      <td>CCCCC</td>\n",
       "      <td>1.0</td>\n",
       "      <td>correct</td>\n",
       "      <td>1084.0</td>\n",
       "      <td>NaN</td>\n",
       "      <td>NaN</td>\n",
       "      <td>NaN</td>\n",
       "      <td>NaN</td>\n",
       "      <td>NaN</td>\n",
       "    </tr>\n",
       "    <tr>\n",
       "      <th>...</th>\n",
       "      <td>...</td>\n",
       "      <td>...</td>\n",
       "      <td>...</td>\n",
       "      <td>...</td>\n",
       "      <td>...</td>\n",
       "      <td>...</td>\n",
       "      <td>...</td>\n",
       "      <td>...</td>\n",
       "      <td>...</td>\n",
       "      <td>...</td>\n",
       "      <td>...</td>\n",
       "      <td>...</td>\n",
       "    </tr>\n",
       "    <tr>\n",
       "      <th>45</th>\n",
       "      <td>red</td>\n",
       "      <td>dehydration</td>\n",
       "      <td>2</td>\n",
       "      <td>VVCVV</td>\n",
       "      <td>0.0</td>\n",
       "      <td>correct</td>\n",
       "      <td>1159.0</td>\n",
       "      <td>NaN</td>\n",
       "      <td>NaN</td>\n",
       "      <td>NaN</td>\n",
       "      <td>NaN</td>\n",
       "      <td>NaN</td>\n",
       "    </tr>\n",
       "    <tr>\n",
       "      <th>46</th>\n",
       "      <td>red</td>\n",
       "      <td>dehydration</td>\n",
       "      <td>2</td>\n",
       "      <td>XXXXX</td>\n",
       "      <td>1.0</td>\n",
       "      <td>correct</td>\n",
       "      <td>595.0</td>\n",
       "      <td>NaN</td>\n",
       "      <td>NaN</td>\n",
       "      <td>NaN</td>\n",
       "      <td>NaN</td>\n",
       "      <td>NaN</td>\n",
       "    </tr>\n",
       "    <tr>\n",
       "      <th>47</th>\n",
       "      <td>red</td>\n",
       "      <td>dehydration</td>\n",
       "      <td>2</td>\n",
       "      <td>BBVBB</td>\n",
       "      <td>1.0</td>\n",
       "      <td>correct</td>\n",
       "      <td>838.0</td>\n",
       "      <td>NaN</td>\n",
       "      <td>NaN</td>\n",
       "      <td>NaN</td>\n",
       "      <td>NaN</td>\n",
       "      <td>NaN</td>\n",
       "    </tr>\n",
       "    <tr>\n",
       "      <th>48</th>\n",
       "      <td>red</td>\n",
       "      <td>dehydration</td>\n",
       "      <td>2</td>\n",
       "      <td>BBVBB</td>\n",
       "      <td>1.0</td>\n",
       "      <td>correct</td>\n",
       "      <td>717.0</td>\n",
       "      <td>NaN</td>\n",
       "      <td>NaN</td>\n",
       "      <td>NaN</td>\n",
       "      <td>NaN</td>\n",
       "      <td>NaN</td>\n",
       "    </tr>\n",
       "    <tr>\n",
       "      <th>49</th>\n",
       "      <td>red</td>\n",
       "      <td>dehydration</td>\n",
       "      <td>2</td>\n",
       "      <td>BBBBB</td>\n",
       "      <td>1.0</td>\n",
       "      <td>correct</td>\n",
       "      <td>493.0</td>\n",
       "      <td>NaN</td>\n",
       "      <td>NaN</td>\n",
       "      <td>NaN</td>\n",
       "      <td>NaN</td>\n",
       "      <td>NaN</td>\n",
       "    </tr>\n",
       "  </tbody>\n",
       "</table>\n",
       "<p>195 rows × 12 columns</p>\n",
       "</div>"
      ],
      "text/plain": [
       "   participant         type repeat pattern  expression correctness  \\\n",
       "0          red      control      1   BBXBB         0.0     correct   \n",
       "1          red      control      1   XXXXX         1.0     correct   \n",
       "2          red      control      1   VVXVV         0.0     correct   \n",
       "3          red      control      1   VVXVV         0.0     correct   \n",
       "4          red      control      1   CCCCC         1.0     correct   \n",
       "..         ...          ...    ...     ...         ...         ...   \n",
       "45         red  dehydration      2   VVCVV         0.0     correct   \n",
       "46         red  dehydration      2   XXXXX         1.0     correct   \n",
       "47         red  dehydration      2   BBVBB         1.0     correct   \n",
       "48         red  dehydration      2   BBVBB         1.0     correct   \n",
       "49         red  dehydration      2   BBBBB         1.0     correct   \n",
       "\n",
       "    response-time   4    5   6   7   8  \n",
       "0          1344.0 NaN  NaN NaN NaN NaN  \n",
       "1           818.0 NaN  NaN NaN NaN NaN  \n",
       "2           617.0 NaN  NaN NaN NaN NaN  \n",
       "3           602.0 NaN  NaN NaN NaN NaN  \n",
       "4          1084.0 NaN  NaN NaN NaN NaN  \n",
       "..            ...  ..  ...  ..  ..  ..  \n",
       "45         1159.0 NaN  NaN NaN NaN NaN  \n",
       "46          595.0 NaN  NaN NaN NaN NaN  \n",
       "47          838.0 NaN  NaN NaN NaN NaN  \n",
       "48          717.0 NaN  NaN NaN NaN NaN  \n",
       "49          493.0 NaN  NaN NaN NaN NaN  \n",
       "\n",
       "[195 rows x 12 columns]"
      ]
     },
     "execution_count": 86,
     "metadata": {},
     "output_type": "execute_result"
    }
   ],
   "source": [
    "(flanker_df[(flanker_df['correctness'] == 'correct') & (flanker_df['participant'] == 'red')])"
   ]
  },
  {
   "cell_type": "code",
   "execution_count": 87,
   "metadata": {},
   "outputs": [
    {
     "name": "stderr",
     "output_type": "stream",
     "text": [
      "BokehUserWarning: ColumnDataSource's columns must be of the same length. Current lengths: ('index', 9), ('response-time', 9), ('response_hyphen_minus_time', 0)\n"
     ]
    },
    {
     "data": {},
     "metadata": {},
     "output_type": "display_data"
    },
    {
     "data": {
      "application/vnd.holoviews_exec.v0+json": "",
      "text/html": [
       "<div id='7968'>\n",
       "  <div class=\"bk-root\" id=\"c001dba1-e4ee-447d-8096-33609cd7fec8\" data-root-id=\"7968\"></div>\n",
       "</div>\n",
       "<script type=\"application/javascript\">(function(root) {\n",
       "  function embed_document(root) {\n",
       "    var docs_json = {\"36f5cd43-340f-4614-a8e5-3eb72d8cbe38\":{\"defs\":[{\"extends\":null,\"module\":null,\"name\":\"ReactiveHTML1\",\"overrides\":[],\"properties\":[]},{\"extends\":null,\"module\":null,\"name\":\"FlexBox1\",\"overrides\":[],\"properties\":[{\"default\":\"flex-start\",\"kind\":null,\"name\":\"align_content\"},{\"default\":\"flex-start\",\"kind\":null,\"name\":\"align_items\"},{\"default\":\"row\",\"kind\":null,\"name\":\"flex_direction\"},{\"default\":\"wrap\",\"kind\":null,\"name\":\"flex_wrap\"},{\"default\":\"flex-start\",\"kind\":null,\"name\":\"justify_content\"}]},{\"extends\":null,\"module\":null,\"name\":\"GridStack1\",\"overrides\":[],\"properties\":[{\"default\":\"warn\",\"kind\":null,\"name\":\"mode\"},{\"default\":null,\"kind\":null,\"name\":\"ncols\"},{\"default\":null,\"kind\":null,\"name\":\"nrows\"},{\"default\":true,\"kind\":null,\"name\":\"allow_resize\"},{\"default\":true,\"kind\":null,\"name\":\"allow_drag\"},{\"default\":[],\"kind\":null,\"name\":\"state\"}]},{\"extends\":null,\"module\":null,\"name\":\"click1\",\"overrides\":[],\"properties\":[{\"default\":\"\",\"kind\":null,\"name\":\"terminal_output\"},{\"default\":\"\",\"kind\":null,\"name\":\"debug_name\"},{\"default\":0,\"kind\":null,\"name\":\"clears\"}]},{\"extends\":null,\"module\":null,\"name\":\"NotificationAreaBase1\",\"overrides\":[],\"properties\":[{\"default\":\"bottom-right\",\"kind\":null,\"name\":\"position\"},{\"default\":0,\"kind\":null,\"name\":\"_clear\"}]},{\"extends\":null,\"module\":null,\"name\":\"NotificationArea1\",\"overrides\":[],\"properties\":[{\"default\":[],\"kind\":null,\"name\":\"notifications\"},{\"default\":\"bottom-right\",\"kind\":null,\"name\":\"position\"},{\"default\":0,\"kind\":null,\"name\":\"_clear\"},{\"default\":[{\"background\":\"#ffc107\",\"icon\":{\"className\":\"fas fa-exclamation-triangle\",\"color\":\"white\",\"tagName\":\"i\"},\"type\":\"warning\"},{\"background\":\"#007bff\",\"icon\":{\"className\":\"fas fa-info-circle\",\"color\":\"white\",\"tagName\":\"i\"},\"type\":\"info\"}],\"kind\":null,\"name\":\"types\"}]},{\"extends\":null,\"module\":null,\"name\":\"Notification\",\"overrides\":[],\"properties\":[{\"default\":null,\"kind\":null,\"name\":\"background\"},{\"default\":3000,\"kind\":null,\"name\":\"duration\"},{\"default\":null,\"kind\":null,\"name\":\"icon\"},{\"default\":\"\",\"kind\":null,\"name\":\"message\"},{\"default\":null,\"kind\":null,\"name\":\"notification_type\"},{\"default\":false,\"kind\":null,\"name\":\"_destroyed\"}]},{\"extends\":null,\"module\":null,\"name\":\"TemplateActions1\",\"overrides\":[],\"properties\":[{\"default\":0,\"kind\":null,\"name\":\"open_modal\"},{\"default\":0,\"kind\":null,\"name\":\"close_modal\"}]},{\"extends\":null,\"module\":null,\"name\":\"MaterialTemplateActions1\",\"overrides\":[],\"properties\":[{\"default\":0,\"kind\":null,\"name\":\"open_modal\"},{\"default\":0,\"kind\":null,\"name\":\"close_modal\"}]}],\"roots\":{\"references\":[{\"attributes\":{\"x0\":{\"field\":\"x0\"},\"x1\":{\"field\":\"x1\"},\"y0\":{\"field\":\"y0\"},\"y1\":{\"field\":\"y1\"}},\"id\":\"8034\",\"type\":\"Segment\"},{\"attributes\":{\"margin\":[5,5,5,5],\"name\":\"HSpacer02470\",\"sizing_mode\":\"stretch_width\"},\"id\":\"8112\",\"type\":\"Spacer\"},{\"attributes\":{\"bottom\":{\"field\":\"bottom\"},\"fill_alpha\":{\"value\":1.0},\"fill_color\":{\"value\":\"#30a2da\"},\"hatch_alpha\":{\"value\":1.0},\"hatch_color\":{\"value\":\"black\"},\"hatch_scale\":{\"value\":12.0},\"hatch_weight\":{\"value\":1.0},\"line_alpha\":{\"value\":1.0},\"line_cap\":{\"value\":\"butt\"},\"line_color\":{\"value\":\"black\"},\"line_dash\":{\"value\":[]},\"line_dash_offset\":{\"value\":0},\"line_join\":{\"value\":\"bevel\"},\"line_width\":{\"value\":1},\"top\":{\"field\":\"top\"},\"width\":{\"value\":0.7},\"x\":{\"field\":\"index\"}},\"id\":\"8069\",\"type\":\"VBar\"},{\"attributes\":{\"axis\":{\"id\":\"7984\"},\"coordinates\":null,\"dimension\":1,\"grid_line_color\":null,\"group\":null,\"ticker\":null},\"id\":\"7987\",\"type\":\"Grid\"},{\"attributes\":{\"below\":[{\"id\":\"7981\"}],\"center\":[{\"id\":\"7983\"},{\"id\":\"7987\"},{\"id\":\"8067\"}],\"height\":400,\"left\":[{\"id\":\"7984\"}],\"margin\":[5,5,5,5],\"min_border_bottom\":10,\"min_border_left\":10,\"min_border_right\":10,\"min_border_top\":10,\"renderers\":[{\"id\":\"8005\"},{\"id\":\"8013\"},{\"id\":\"8021\"},{\"id\":\"8029\"},{\"id\":\"8037\"},{\"id\":\"8045\"},{\"id\":\"8075\"}],\"sizing_mode\":\"fixed\",\"title\":{\"id\":\"7973\"},\"toolbar\":{\"id\":\"7994\"},\"width\":400,\"x_range\":{\"id\":\"7970\"},\"x_scale\":{\"id\":\"7977\"},\"y_range\":{\"id\":\"7971\"},\"y_scale\":{\"id\":\"7979\"}},\"id\":\"7972\",\"subtype\":\"Figure\",\"type\":\"Plot\"},{\"attributes\":{\"source\":{\"id\":\"8032\"}},\"id\":\"8038\",\"type\":\"CDSView\"},{\"attributes\":{\"bottom\":{\"field\":\"bottom\"},\"fill_alpha\":{\"value\":0.1},\"fill_color\":{\"value\":\"#30a2da\"},\"hatch_alpha\":{\"value\":0.1},\"line_alpha\":{\"value\":0.1},\"top\":{\"field\":\"top\"},\"width\":{\"value\":0.7},\"x\":{\"field\":\"index\"}},\"id\":\"8043\",\"type\":\"VBar\"},{\"attributes\":{\"x0\":{\"field\":\"x0\"},\"x1\":{\"field\":\"x1\"},\"y0\":{\"field\":\"y0\"},\"y1\":{\"field\":\"y1\"}},\"id\":\"8026\",\"type\":\"Segment\"},{\"attributes\":{\"line_alpha\":{\"value\":0.2},\"x0\":{\"field\":\"x0\"},\"x1\":{\"field\":\"x1\"},\"y0\":{\"field\":\"y0\"},\"y1\":{\"field\":\"y1\"}},\"id\":\"8028\",\"type\":\"Segment\"},{\"attributes\":{},\"id\":\"7988\",\"type\":\"SaveTool\"},{\"attributes\":{\"margin\":[5,5,5,5],\"name\":\"VSpacer02467\",\"sizing_mode\":\"stretch_height\"},\"id\":\"8117\",\"type\":\"Spacer\"},{\"attributes\":{},\"id\":\"8061\",\"type\":\"Selection\"},{\"attributes\":{},\"id\":\"7979\",\"type\":\"LinearScale\"},{\"attributes\":{\"fill_alpha\":{\"value\":0.2},\"fill_color\":{\"value\":\"black\"},\"hatch_alpha\":{\"value\":0.2},\"line_alpha\":{\"value\":0.2},\"x\":{\"field\":\"index\"},\"y\":{\"field\":\"response_hyphen_minus_time\"}},\"id\":\"8004\",\"type\":\"Circle\"},{\"attributes\":{\"bottom\":{\"field\":\"bottom\"},\"fill_color\":{\"value\":\"#30a2da\"},\"top\":{\"field\":\"top\"},\"width\":{\"value\":0.7},\"x\":{\"field\":\"index\"}},\"id\":\"8072\",\"type\":\"VBar\"},{\"attributes\":{},\"id\":\"8054\",\"type\":\"UnionRenderers\"},{\"attributes\":{\"data\":{\"x0\":[[\"control\",-0.2],[\"dehydration\",-0.2]],\"x1\":[[\"control\",0.2],[\"dehydration\",0.2]],\"y0\":[394.0,385.0],\"y1\":[394.0,385.0]},\"selected\":{\"id\":\"8061\"},\"selection_policy\":{\"id\":\"8060\"}},\"id\":\"8024\",\"type\":\"ColumnDataSource\"},{\"attributes\":{\"line_alpha\":{\"value\":1.0},\"line_cap\":{\"value\":\"butt\"},\"line_color\":{\"value\":\"black\"},\"line_dash\":{\"value\":[]},\"line_dash_offset\":{\"value\":0},\"line_join\":{\"value\":\"bevel\"},\"line_width\":{\"value\":1},\"x0\":{\"field\":\"x0\"},\"x1\":{\"field\":\"x1\"},\"y0\":{\"field\":\"y0\"},\"y1\":{\"field\":\"y1\"}},\"id\":\"8031\",\"type\":\"Segment\"},{\"attributes\":{\"bottom\":{\"field\":\"bottom\"},\"fill_alpha\":{\"value\":0.2},\"fill_color\":{\"value\":\"#30a2da\"},\"hatch_alpha\":{\"value\":0.2},\"line_alpha\":{\"value\":0.2},\"top\":{\"field\":\"top\"},\"width\":{\"value\":0.7},\"x\":{\"field\":\"index\"}},\"id\":\"8044\",\"type\":\"VBar\"},{\"attributes\":{\"line_alpha\":{\"value\":0.2},\"x0\":{\"field\":\"x0\"},\"x1\":{\"field\":\"x1\"},\"y0\":{\"field\":\"y0\"},\"y1\":{\"field\":\"y1\"}},\"id\":\"8036\",\"type\":\"Segment\"},{\"attributes\":{\"line_alpha\":{\"value\":0.2},\"x0\":{\"field\":\"x0\"},\"x1\":{\"field\":\"x1\"},\"y0\":{\"field\":\"y0\"},\"y1\":{\"field\":\"y1\"}},\"id\":\"8012\",\"type\":\"Segment\"},{\"attributes\":{\"data\":{\"bottom\":{\"__ndarray__\":\"AAAAAACIg0AAAAAAAGCDQA==\",\"dtype\":\"float64\",\"order\":\"little\",\"shape\":[2]},\"index\":[\"control\",\"dehydration\"],\"top\":{\"__ndarray__\":\"AAAAAAAUgEAAAAAAAFKAQA==\",\"dtype\":\"float64\",\"order\":\"little\",\"shape\":[2]}},\"selected\":{\"id\":\"8110\"},\"selection_policy\":{\"id\":\"8109\"}},\"id\":\"8070\",\"type\":\"ColumnDataSource\"},{\"attributes\":{},\"id\":\"7990\",\"type\":\"WheelZoomTool\"},{\"attributes\":{\"line_alpha\":{\"value\":0.1},\"x0\":{\"field\":\"x0\"},\"x1\":{\"field\":\"x1\"},\"y0\":{\"field\":\"y0\"},\"y1\":{\"field\":\"y1\"}},\"id\":\"8035\",\"type\":\"Segment\"},{\"attributes\":{\"angle\":{\"value\":0.0},\"fill_alpha\":{\"value\":1.0},\"fill_color\":{\"value\":\"black\"},\"hatch_alpha\":{\"value\":1.0},\"hatch_color\":{\"value\":\"black\"},\"hatch_scale\":{\"value\":12.0},\"hatch_weight\":{\"value\":1.0},\"line_alpha\":{\"value\":1.0},\"line_cap\":{\"value\":\"butt\"},\"line_color\":{\"value\":\"black\"},\"line_dash\":{\"value\":[]},\"line_dash_offset\":{\"value\":0},\"line_join\":{\"value\":\"bevel\"},\"line_width\":{\"value\":1},\"size\":{\"value\":4},\"x\":{\"field\":\"index\"},\"y\":{\"field\":\"response_hyphen_minus_time\"}},\"id\":\"8007\",\"type\":\"Circle\"},{\"attributes\":{},\"id\":\"8060\",\"type\":\"UnionRenderers\"},{\"attributes\":{\"data\":{\"x0\":[\"control\",\"dehydration\"],\"x1\":[\"control\",\"dehydration\"],\"y0\":{\"__ndarray__\":\"AAAAAACwj0AAAAAAABCPQA==\",\"dtype\":\"float64\",\"order\":\"little\",\"shape\":[2]},\"y1\":{\"__ndarray__\":\"AAAAAADEh0AAAAAAAIqGQA==\",\"dtype\":\"float64\",\"order\":\"little\",\"shape\":[2]}},\"selected\":{\"id\":\"8057\"},\"selection_policy\":{\"id\":\"8056\"}},\"id\":\"8008\",\"type\":\"ColumnDataSource\"},{\"attributes\":{},\"id\":\"7985\",\"type\":\"BasicTicker\"},{\"attributes\":{\"source\":{\"id\":\"8040\"}},\"id\":\"8046\",\"type\":\"CDSView\"},{\"attributes\":{},\"id\":\"8110\",\"type\":\"Selection\"},{\"attributes\":{\"bottom\":{\"field\":\"bottom\"},\"fill_alpha\":{\"value\":0.1},\"fill_color\":{\"value\":\"#30a2da\"},\"hatch_alpha\":{\"value\":0.1},\"line_alpha\":{\"value\":0.1},\"top\":{\"field\":\"top\"},\"width\":{\"value\":0.7},\"x\":{\"field\":\"index\"}},\"id\":\"8073\",\"type\":\"VBar\"},{\"attributes\":{},\"id\":\"8065\",\"type\":\"Selection\"},{\"attributes\":{\"line_alpha\":{\"value\":0.1},\"x0\":{\"field\":\"x0\"},\"x1\":{\"field\":\"x1\"},\"y0\":{\"field\":\"y0\"},\"y1\":{\"field\":\"y1\"}},\"id\":\"8027\",\"type\":\"Segment\"},{\"attributes\":{\"coordinates\":null,\"group\":null,\"text\":\"Reaction time for correct responses\",\"text_color\":\"black\",\"text_font_size\":\"12pt\"},\"id\":\"7973\",\"type\":\"Title\"},{\"attributes\":{\"bottom\":{\"field\":\"bottom\"},\"fill_alpha\":{\"value\":0.2},\"fill_color\":{\"value\":\"#30a2da\"},\"hatch_alpha\":{\"value\":0.2},\"line_alpha\":{\"value\":0.2},\"top\":{\"field\":\"top\"},\"width\":{\"value\":0.7},\"x\":{\"field\":\"index\"}},\"id\":\"8074\",\"type\":\"VBar\"},{\"attributes\":{},\"id\":\"7992\",\"type\":\"ResetTool\"},{\"attributes\":{},\"id\":\"8050\",\"type\":\"AllLabels\"},{\"attributes\":{},\"id\":\"8052\",\"type\":\"CategoricalTickFormatter\"},{\"attributes\":{\"line_alpha\":{\"value\":1.0},\"line_cap\":{\"value\":\"butt\"},\"line_color\":{\"value\":\"black\"},\"line_dash\":{\"value\":[]},\"line_dash_offset\":{\"value\":0},\"line_join\":{\"value\":\"bevel\"},\"line_width\":{\"value\":1},\"x0\":{\"field\":\"x0\"},\"x1\":{\"field\":\"x1\"},\"y0\":{\"field\":\"y0\"},\"y1\":{\"field\":\"y1\"}},\"id\":\"8015\",\"type\":\"Segment\"},{\"attributes\":{\"end\":1808.4,\"reset_end\":1808.4,\"reset_start\":255.6,\"start\":255.6,\"tags\":[[[\"response-time\",\"response-time\",null]]]},\"id\":\"7971\",\"type\":\"Range1d\"},{\"attributes\":{\"source\":{\"id\":\"8008\"}},\"id\":\"8014\",\"type\":\"CDSView\"},{\"attributes\":{\"factors\":[\"control\",\"dehydration\"],\"tags\":[[[\"type\",\"type\",null]]]},\"id\":\"7970\",\"type\":\"FactorRange\"},{\"attributes\":{\"coordinates\":null,\"data_source\":{\"id\":\"8032\"},\"glyph\":{\"id\":\"8034\"},\"group\":null,\"hover_glyph\":null,\"muted_glyph\":{\"id\":\"8036\"},\"nonselection_glyph\":{\"id\":\"8035\"},\"selection_glyph\":{\"id\":\"8039\"},\"view\":{\"id\":\"8038\"}},\"id\":\"8037\",\"type\":\"GlyphRenderer\"},{\"attributes\":{\"source\":{\"id\":\"8000\"}},\"id\":\"8006\",\"type\":\"CDSView\"},{\"attributes\":{\"bottom_units\":\"screen\",\"coordinates\":null,\"fill_alpha\":0.5,\"fill_color\":\"lightgrey\",\"group\":null,\"left_units\":\"screen\",\"level\":\"overlay\",\"line_alpha\":1.0,\"line_color\":\"black\",\"line_dash\":[4,4],\"line_width\":2,\"right_units\":\"screen\",\"syncable\":false,\"top_units\":\"screen\"},\"id\":\"7993\",\"type\":\"BoxAnnotation\"},{\"attributes\":{},\"id\":\"8062\",\"type\":\"UnionRenderers\"},{\"attributes\":{},\"id\":\"8064\",\"type\":\"UnionRenderers\"},{\"attributes\":{\"margin\":[5,5,5,5],\"name\":\"VSpacer02466\",\"sizing_mode\":\"stretch_height\"},\"id\":\"8114\",\"type\":\"Spacer\"},{\"attributes\":{},\"id\":\"7977\",\"type\":\"CategoricalScale\"},{\"attributes\":{\"tools\":[{\"id\":\"7988\"},{\"id\":\"7989\"},{\"id\":\"7990\"},{\"id\":\"7991\"},{\"id\":\"7992\"}]},\"id\":\"7994\",\"type\":\"Toolbar\"},{\"attributes\":{\"margin\":[20,20,20,20],\"min_width\":250,\"options\":[\"blue\",\"green\",\"red\",\"pink\",\"orange\"],\"title\":\"participant\",\"value\":\"blue\",\"width\":250},\"id\":\"8116\",\"type\":\"panel.models.widgets.CustomSelect\"},{\"attributes\":{\"x0\":{\"field\":\"x0\"},\"x1\":{\"field\":\"x1\"},\"y0\":{\"field\":\"y0\"},\"y1\":{\"field\":\"y1\"}},\"id\":\"8010\",\"type\":\"Segment\"},{\"attributes\":{\"data\":{\"x0\":[[\"control\",-0.2],[\"dehydration\",-0.2]],\"x1\":[[\"control\",0.2],[\"dehydration\",0.2]],\"y0\":[1014.0,994.0],\"y1\":[1014.0,994.0]},\"selected\":{\"id\":\"8063\"},\"selection_policy\":{\"id\":\"8062\"}},\"id\":\"8032\",\"type\":\"ColumnDataSource\"},{\"attributes\":{\"fill_alpha\":{\"value\":0.1},\"fill_color\":{\"value\":\"black\"},\"hatch_alpha\":{\"value\":0.1},\"line_alpha\":{\"value\":0.1},\"x\":{\"field\":\"index\"},\"y\":{\"field\":\"response_hyphen_minus_time\"}},\"id\":\"8003\",\"type\":\"Circle\"},{\"attributes\":{},\"id\":\"8055\",\"type\":\"Selection\"},{\"attributes\":{\"line_alpha\":{\"value\":1.0},\"line_cap\":{\"value\":\"butt\"},\"line_color\":{\"value\":\"black\"},\"line_dash\":{\"value\":[]},\"line_dash_offset\":{\"value\":0},\"line_join\":{\"value\":\"bevel\"},\"line_width\":{\"value\":1},\"x0\":{\"field\":\"x0\"},\"x1\":{\"field\":\"x1\"},\"y0\":{\"field\":\"y0\"},\"y1\":{\"field\":\"y1\"}},\"id\":\"8023\",\"type\":\"Segment\"},{\"attributes\":{\"line_alpha\":{\"value\":0.2},\"x0\":{\"field\":\"x0\"},\"x1\":{\"field\":\"x1\"},\"y0\":{\"field\":\"y0\"},\"y1\":{\"field\":\"y1\"}},\"id\":\"8020\",\"type\":\"Segment\"},{\"attributes\":{},\"id\":\"7989\",\"type\":\"PanTool\"},{\"attributes\":{},\"id\":\"8063\",\"type\":\"Selection\"},{\"attributes\":{\"data\":{\"index\":[\"control\",\"control\",\"control\",\"control\",\"control\",\"dehydration\",\"dehydration\",\"dehydration\",\"dehydration\"],\"response-time\":{\"__ndarray__\":\"AAAAAADglEAAAAAAABSWQAAAAAAAGJRAAAAAAABkk0AAAAAAAKCTQAAAAAAAwJJAAAAAAAAQkkAAAAAAABiYQAAAAAAAPJpA\",\"dtype\":\"float64\",\"order\":\"little\",\"shape\":[9]},\"response_hyphen_minus_time\":{\"__ndarray__\":\"\",\"dtype\":\"float64\",\"order\":\"little\",\"shape\":[0]}},\"selected\":{\"id\":\"8055\"},\"selection_policy\":{\"id\":\"8054\"}},\"id\":\"8000\",\"type\":\"ColumnDataSource\"},{\"attributes\":{\"line_alpha\":{\"value\":0.1},\"x0\":{\"field\":\"x0\"},\"x1\":{\"field\":\"x1\"},\"y0\":{\"field\":\"y0\"},\"y1\":{\"field\":\"y1\"}},\"id\":\"8019\",\"type\":\"Segment\"},{\"attributes\":{\"bottom\":{\"field\":\"bottom\"},\"fill_color\":{\"value\":\"#30a2da\"},\"top\":{\"field\":\"top\"},\"width\":{\"value\":0.7},\"x\":{\"field\":\"index\"}},\"id\":\"8042\",\"type\":\"VBar\"},{\"attributes\":{\"children\":[{\"id\":\"8116\"}],\"css_classes\":[\"panel-widget-box\"],\"margin\":[5,5,5,5],\"name\":\"WidgetBox02461\"},\"id\":\"8115\",\"type\":\"Column\"},{\"attributes\":{\"x0\":{\"field\":\"x0\"},\"x1\":{\"field\":\"x1\"},\"y0\":{\"field\":\"y0\"},\"y1\":{\"field\":\"y1\"}},\"id\":\"8018\",\"type\":\"Segment\"},{\"attributes\":{\"coordinates\":null,\"data_source\":{\"id\":\"8000\"},\"glyph\":{\"id\":\"8002\"},\"group\":null,\"hover_glyph\":null,\"muted_glyph\":{\"id\":\"8004\"},\"nonselection_glyph\":{\"id\":\"8003\"},\"selection_glyph\":{\"id\":\"8007\"},\"view\":{\"id\":\"8006\"}},\"id\":\"8005\",\"type\":\"GlyphRenderer\"},{\"attributes\":{},\"id\":\"8049\",\"type\":\"BasicTickFormatter\"},{\"attributes\":{},\"id\":\"8059\",\"type\":\"Selection\"},{\"attributes\":{\"overlay\":{\"id\":\"7993\"}},\"id\":\"7991\",\"type\":\"BoxZoomTool\"},{\"attributes\":{\"axis\":{\"id\":\"7981\"},\"coordinates\":null,\"grid_line_color\":null,\"group\":null,\"ticker\":null},\"id\":\"7983\",\"type\":\"Grid\"},{\"attributes\":{\"source\":{\"id\":\"8070\"}},\"id\":\"8076\",\"type\":\"CDSView\"},{\"attributes\":{\"margin\":[5,5,5,5],\"name\":\"HSpacer02469\",\"sizing_mode\":\"stretch_width\"},\"id\":\"7969\",\"type\":\"Spacer\"},{\"attributes\":{\"axis_label\":\"Session Type\",\"coordinates\":null,\"formatter\":{\"id\":\"8052\"},\"group\":null,\"major_label_policy\":{\"id\":\"8053\"},\"ticker\":{\"id\":\"7982\"}},\"id\":\"7981\",\"type\":\"CategoricalAxis\"},{\"attributes\":{\"coordinates\":null,\"data_source\":{\"id\":\"8008\"},\"glyph\":{\"id\":\"8010\"},\"group\":null,\"hover_glyph\":null,\"muted_glyph\":{\"id\":\"8012\"},\"nonselection_glyph\":{\"id\":\"8011\"},\"selection_glyph\":{\"id\":\"8015\"},\"view\":{\"id\":\"8014\"}},\"id\":\"8013\",\"type\":\"GlyphRenderer\"},{\"attributes\":{\"source\":{\"id\":\"8016\"}},\"id\":\"8022\",\"type\":\"CDSView\"},{\"attributes\":{\"bottom\":{\"field\":\"bottom\"},\"fill_alpha\":{\"value\":1.0},\"fill_color\":{\"value\":\"#30a2da\"},\"hatch_alpha\":{\"value\":1.0},\"hatch_color\":{\"value\":\"black\"},\"hatch_scale\":{\"value\":12.0},\"hatch_weight\":{\"value\":1.0},\"line_alpha\":{\"value\":1.0},\"line_cap\":{\"value\":\"butt\"},\"line_color\":{\"value\":\"black\"},\"line_dash\":{\"value\":[]},\"line_dash_offset\":{\"value\":0},\"line_join\":{\"value\":\"bevel\"},\"line_width\":{\"value\":1},\"top\":{\"field\":\"top\"},\"width\":{\"value\":0.7},\"x\":{\"field\":\"index\"}},\"id\":\"8077\",\"type\":\"VBar\"},{\"attributes\":{},\"id\":\"8109\",\"type\":\"UnionRenderers\"},{\"attributes\":{},\"id\":\"8053\",\"type\":\"AllLabels\"},{\"attributes\":{},\"id\":\"7982\",\"type\":\"CategoricalTicker\"},{\"attributes\":{},\"id\":\"8056\",\"type\":\"UnionRenderers\"},{\"attributes\":{\"children\":[{\"id\":\"8114\"},{\"id\":\"8115\"},{\"id\":\"8117\"}],\"margin\":[0,0,0,0],\"name\":\"Column02468\"},\"id\":\"8113\",\"type\":\"Column\"},{\"attributes\":{\"coordinates\":null,\"data_source\":{\"id\":\"8024\"},\"glyph\":{\"id\":\"8026\"},\"group\":null,\"hover_glyph\":null,\"muted_glyph\":{\"id\":\"8028\"},\"nonselection_glyph\":{\"id\":\"8027\"},\"selection_glyph\":{\"id\":\"8031\"},\"view\":{\"id\":\"8030\"}},\"id\":\"8029\",\"type\":\"GlyphRenderer\"},{\"attributes\":{\"coordinates\":null,\"data_source\":{\"id\":\"8040\"},\"glyph\":{\"id\":\"8042\"},\"group\":null,\"hover_glyph\":null,\"muted_glyph\":{\"id\":\"8044\"},\"nonselection_glyph\":{\"id\":\"8043\"},\"selection_glyph\":{\"id\":\"8069\"},\"view\":{\"id\":\"8046\"}},\"id\":\"8045\",\"type\":\"GlyphRenderer\"},{\"attributes\":{\"children\":[{\"id\":\"7969\"},{\"id\":\"7972\"},{\"id\":\"8112\"},{\"id\":\"8113\"}],\"margin\":[0,0,0,0],\"name\":\"Row02460\"},\"id\":\"7968\",\"type\":\"Row\"},{\"attributes\":{\"line_alpha\":{\"value\":0.1},\"x0\":{\"field\":\"x0\"},\"x1\":{\"field\":\"x1\"},\"y0\":{\"field\":\"y0\"},\"y1\":{\"field\":\"y1\"}},\"id\":\"8011\",\"type\":\"Segment\"},{\"attributes\":{\"data\":{\"bottom\":{\"__ndarray__\":\"AAAAAADEh0AAAAAAAIqGQA==\",\"dtype\":\"float64\",\"order\":\"little\",\"shape\":[2]},\"index\":[\"control\",\"dehydration\"],\"top\":{\"__ndarray__\":\"AAAAAACIg0AAAAAAAGCDQA==\",\"dtype\":\"float64\",\"order\":\"little\",\"shape\":[2]}},\"selected\":{\"id\":\"8065\"},\"selection_policy\":{\"id\":\"8064\"}},\"id\":\"8040\",\"type\":\"ColumnDataSource\"},{\"attributes\":{},\"id\":\"8057\",\"type\":\"Selection\"},{\"attributes\":{\"coordinates\":null,\"data_source\":{\"id\":\"8016\"},\"glyph\":{\"id\":\"8018\"},\"group\":null,\"hover_glyph\":null,\"muted_glyph\":{\"id\":\"8020\"},\"nonselection_glyph\":{\"id\":\"8019\"},\"selection_glyph\":{\"id\":\"8023\"},\"view\":{\"id\":\"8022\"}},\"id\":\"8021\",\"type\":\"GlyphRenderer\"},{\"attributes\":{\"coordinates\":null,\"group\":null,\"items\":[]},\"id\":\"8067\",\"type\":\"Legend\"},{\"attributes\":{\"line_alpha\":{\"value\":1.0},\"line_cap\":{\"value\":\"butt\"},\"line_color\":{\"value\":\"black\"},\"line_dash\":{\"value\":[]},\"line_dash_offset\":{\"value\":0},\"line_join\":{\"value\":\"bevel\"},\"line_width\":{\"value\":1},\"x0\":{\"field\":\"x0\"},\"x1\":{\"field\":\"x1\"},\"y0\":{\"field\":\"y0\"},\"y1\":{\"field\":\"y1\"}},\"id\":\"8039\",\"type\":\"Segment\"},{\"attributes\":{\"coordinates\":null,\"data_source\":{\"id\":\"8070\"},\"glyph\":{\"id\":\"8072\"},\"group\":null,\"hover_glyph\":null,\"muted_glyph\":{\"id\":\"8074\"},\"nonselection_glyph\":{\"id\":\"8073\"},\"selection_glyph\":{\"id\":\"8077\"},\"view\":{\"id\":\"8076\"}},\"id\":\"8075\",\"type\":\"GlyphRenderer\"},{\"attributes\":{\"fill_color\":{\"value\":\"black\"},\"x\":{\"field\":\"index\"},\"y\":{\"field\":\"response_hyphen_minus_time\"}},\"id\":\"8002\",\"type\":\"Circle\"},{\"attributes\":{\"client_comm_id\":\"11667b605a164527882b8841b3253662\",\"comm_id\":\"394a8feeaa2f4d0681d92e2eeb5372c8\",\"plot_id\":\"7968\"},\"id\":\"8184\",\"type\":\"panel.models.comm_manager.CommManager\"},{\"attributes\":{\"axis_label\":\"Resopnse Time (ms)\",\"coordinates\":null,\"formatter\":{\"id\":\"8049\"},\"group\":null,\"major_label_policy\":{\"id\":\"8050\"},\"ticker\":{\"id\":\"7985\"}},\"id\":\"7984\",\"type\":\"LinearAxis\"},{\"attributes\":{\"source\":{\"id\":\"8024\"}},\"id\":\"8030\",\"type\":\"CDSView\"},{\"attributes\":{\"data\":{\"x0\":[\"control\",\"dehydration\"],\"x1\":[\"control\",\"dehydration\"],\"y0\":{\"__ndarray__\":\"AAAAAACgeEAAAAAAABB4QA==\",\"dtype\":\"float64\",\"order\":\"little\",\"shape\":[2]},\"y1\":{\"__ndarray__\":\"AAAAAAAUgEAAAAAAAFKAQA==\",\"dtype\":\"float64\",\"order\":\"little\",\"shape\":[2]}},\"selected\":{\"id\":\"8059\"},\"selection_policy\":{\"id\":\"8058\"}},\"id\":\"8016\",\"type\":\"ColumnDataSource\"},{\"attributes\":{},\"id\":\"8058\",\"type\":\"UnionRenderers\"}],\"root_ids\":[\"7968\",\"8184\"]},\"title\":\"Bokeh Application\",\"version\":\"2.4.3\"}};\n",
       "    var render_items = [{\"docid\":\"36f5cd43-340f-4614-a8e5-3eb72d8cbe38\",\"root_ids\":[\"7968\"],\"roots\":{\"7968\":\"c001dba1-e4ee-447d-8096-33609cd7fec8\"}}];\n",
       "    root.Bokeh.embed.embed_items_notebook(docs_json, render_items);\n",
       "  }\n",
       "  if (root.Bokeh !== undefined && root.Bokeh.Panel !== undefined) {\n",
       "    embed_document(root);\n",
       "  } else {\n",
       "    var attempts = 0;\n",
       "    var timer = setInterval(function(root) {\n",
       "      if (root.Bokeh !== undefined && root.Bokeh.Panel !== undefined) {\n",
       "        clearInterval(timer);\n",
       "        embed_document(root);\n",
       "      } else if (document.readyState == \"complete\") {\n",
       "        attempts++;\n",
       "        if (attempts > 200) {\n",
       "          clearInterval(timer);\n",
       "          console.log(\"Bokeh: ERROR: Unable to run BokehJS code because BokehJS library is missing\");\n",
       "        }\n",
       "      }\n",
       "    }, 25, root)\n",
       "  }\n",
       "})(window);</script>"
      ],
      "text/plain": [
       ":DynamicMap   [participant]\n",
       "   :BoxWhisker   [type]   (response-time)"
      ]
     },
     "execution_count": 87,
     "metadata": {
      "application/vnd.holoviews_exec.v0+json": {
       "id": "7968"
      }
     },
     "output_type": "execute_result"
    }
   ],
   "source": [
    "flanker_df = create_flanker_dataframe()\n",
    "#dfi = flanker_df.interactive(loc='top').to_dataframe()\n",
    "Flanker_test_boxplot = flanker_df[flanker_df['correctness'] == 'correct'][\n",
    "    [\n",
    "        'response-time', \n",
    "        'participant', \n",
    "        'type'\n",
    "    ]].hvplot.box(\n",
    "        by='type', \n",
    "        groupby='participant',\n",
    "        title='Reaction time for correct responses',\n",
    "        xlabel='Session Type', \n",
    "        ylabel='Resopnse Time (ms)',height=400, width=400)\n",
    "    \n",
    "Flanker_test_boxplot"
   ]
  },
  {
   "cell_type": "markdown",
   "metadata": {},
   "source": [
    "## Error Plot"
   ]
  },
  {
   "cell_type": "code",
   "execution_count": 88,
   "metadata": {},
   "outputs": [
    {
     "data": {},
     "metadata": {},
     "output_type": "display_data"
    },
    {
     "data": {
      "application/vnd.holoviews_exec.v0+json": "",
      "text/html": [
       "<div id='8329'>\n",
       "  <div class=\"bk-root\" id=\"d6ee3ab9-d15e-4748-8592-4817f59109fb\" data-root-id=\"8329\"></div>\n",
       "</div>\n",
       "<script type=\"application/javascript\">(function(root) {\n",
       "  function embed_document(root) {\n",
       "    var docs_json = {\"d9ae7afe-66ab-4eaf-ab66-e00f61734bdd\":{\"defs\":[{\"extends\":null,\"module\":null,\"name\":\"ReactiveHTML1\",\"overrides\":[],\"properties\":[]},{\"extends\":null,\"module\":null,\"name\":\"FlexBox1\",\"overrides\":[],\"properties\":[{\"default\":\"flex-start\",\"kind\":null,\"name\":\"align_content\"},{\"default\":\"flex-start\",\"kind\":null,\"name\":\"align_items\"},{\"default\":\"row\",\"kind\":null,\"name\":\"flex_direction\"},{\"default\":\"wrap\",\"kind\":null,\"name\":\"flex_wrap\"},{\"default\":\"flex-start\",\"kind\":null,\"name\":\"justify_content\"}]},{\"extends\":null,\"module\":null,\"name\":\"GridStack1\",\"overrides\":[],\"properties\":[{\"default\":\"warn\",\"kind\":null,\"name\":\"mode\"},{\"default\":null,\"kind\":null,\"name\":\"ncols\"},{\"default\":null,\"kind\":null,\"name\":\"nrows\"},{\"default\":true,\"kind\":null,\"name\":\"allow_resize\"},{\"default\":true,\"kind\":null,\"name\":\"allow_drag\"},{\"default\":[],\"kind\":null,\"name\":\"state\"}]},{\"extends\":null,\"module\":null,\"name\":\"click1\",\"overrides\":[],\"properties\":[{\"default\":\"\",\"kind\":null,\"name\":\"terminal_output\"},{\"default\":\"\",\"kind\":null,\"name\":\"debug_name\"},{\"default\":0,\"kind\":null,\"name\":\"clears\"}]},{\"extends\":null,\"module\":null,\"name\":\"NotificationAreaBase1\",\"overrides\":[],\"properties\":[{\"default\":\"bottom-right\",\"kind\":null,\"name\":\"position\"},{\"default\":0,\"kind\":null,\"name\":\"_clear\"}]},{\"extends\":null,\"module\":null,\"name\":\"NotificationArea1\",\"overrides\":[],\"properties\":[{\"default\":[],\"kind\":null,\"name\":\"notifications\"},{\"default\":\"bottom-right\",\"kind\":null,\"name\":\"position\"},{\"default\":0,\"kind\":null,\"name\":\"_clear\"},{\"default\":[{\"background\":\"#ffc107\",\"icon\":{\"className\":\"fas fa-exclamation-triangle\",\"color\":\"white\",\"tagName\":\"i\"},\"type\":\"warning\"},{\"background\":\"#007bff\",\"icon\":{\"className\":\"fas fa-info-circle\",\"color\":\"white\",\"tagName\":\"i\"},\"type\":\"info\"}],\"kind\":null,\"name\":\"types\"}]},{\"extends\":null,\"module\":null,\"name\":\"Notification\",\"overrides\":[],\"properties\":[{\"default\":null,\"kind\":null,\"name\":\"background\"},{\"default\":3000,\"kind\":null,\"name\":\"duration\"},{\"default\":null,\"kind\":null,\"name\":\"icon\"},{\"default\":\"\",\"kind\":null,\"name\":\"message\"},{\"default\":null,\"kind\":null,\"name\":\"notification_type\"},{\"default\":false,\"kind\":null,\"name\":\"_destroyed\"}]},{\"extends\":null,\"module\":null,\"name\":\"TemplateActions1\",\"overrides\":[],\"properties\":[{\"default\":0,\"kind\":null,\"name\":\"open_modal\"},{\"default\":0,\"kind\":null,\"name\":\"close_modal\"}]},{\"extends\":null,\"module\":null,\"name\":\"MaterialTemplateActions1\",\"overrides\":[],\"properties\":[{\"default\":0,\"kind\":null,\"name\":\"open_modal\"},{\"default\":0,\"kind\":null,\"name\":\"close_modal\"}]}],\"roots\":{\"references\":[{\"attributes\":{\"fill_color\":{\"field\":\"x\",\"transform\":{\"id\":\"8295\"}},\"line_color\":{\"value\":\"#1f77b4\"},\"top\":{\"field\":\"counts\"},\"width\":{\"value\":0.9},\"x\":{\"field\":\"x\"}},\"id\":\"8317\",\"type\":\"VBar\"},{\"attributes\":{},\"id\":\"8315\",\"type\":\"Toolbar\"},{\"attributes\":{\"data\":{\"lower\":[40.08,46.04,42.56,46.52,46.52,43.56,37.6,43.0,47.04,47.52],\"upper\":[47.92,49.96,48.44,48.48,48.48,49.44,47.4,43.0,50.96,49.48],\"x\":[[\"blue\",\"control\"],[\"blue\",\"dehydration\"],[\"green\",\"control\"],[\"green\",\"dehydration\"],[\"orange\",\"control\"],[\"orange\",\"dehydration\"],[\"pink\",\"control\"],[\"pink\",\"dehydration\"],[\"red\",\"control\"],[\"red\",\"dehydration\"]]},\"selected\":{\"id\":\"8345\"},\"selection_policy\":{\"id\":\"8344\"}},\"id\":\"8322\",\"type\":\"ColumnDataSource\"},{\"attributes\":{},\"id\":\"8336\",\"type\":\"AllLabels\"},{\"attributes\":{\"client_comm_id\":\"cc5b9bb0fe754adca81b218b58edde75\",\"comm_id\":\"1944f04f32bc4a9698e25b929bf477d9\",\"plot_id\":\"8329\"},\"id\":\"8398\",\"type\":\"panel.models.comm_manager.CommManager\"},{\"attributes\":{\"end\":100},\"id\":\"8302\",\"type\":\"Range1d\"},{\"attributes\":{\"fill_alpha\":{\"value\":0.2},\"fill_color\":{\"field\":\"x\",\"transform\":{\"id\":\"8295\"}},\"hatch_alpha\":{\"value\":0.2},\"line_alpha\":{\"value\":0.2},\"line_color\":{\"value\":\"#1f77b4\"},\"top\":{\"field\":\"counts\"},\"width\":{\"value\":0.9},\"x\":{\"field\":\"x\"}},\"id\":\"8319\",\"type\":\"VBar\"},{\"attributes\":{\"axis_label\":\"participant/session\",\"coordinates\":null,\"formatter\":{\"id\":\"8338\"},\"group\":null,\"major_label_orientation\":1,\"major_label_policy\":{\"id\":\"8339\"},\"ticker\":{\"id\":\"8309\"}},\"id\":\"8308\",\"type\":\"CategoricalAxis\"},{\"attributes\":{},\"id\":\"8304\",\"type\":\"CategoricalScale\"},{\"attributes\":{\"data\":{\"counts\":[44.0,48.0,45.5,47.5,47.5,46.5,42.5,43.0,49.0,48.5],\"x\":[[\"blue\",\"control\"],[\"blue\",\"dehydration\"],[\"green\",\"control\"],[\"green\",\"dehydration\"],[\"orange\",\"control\"],[\"orange\",\"dehydration\"],[\"pink\",\"control\"],[\"pink\",\"dehydration\"],[\"red\",\"control\"],[\"red\",\"dehydration\"]]},\"selected\":{\"id\":\"8343\"},\"selection_policy\":{\"id\":\"8342\"}},\"id\":\"8296\",\"type\":\"ColumnDataSource\"},{\"attributes\":{\"below\":[{\"id\":\"8308\"}],\"center\":[{\"id\":\"8310\"},{\"id\":\"8314\"},{\"id\":\"8323\"}],\"height\":400,\"left\":[{\"id\":\"8311\"}],\"renderers\":[{\"id\":\"8320\"}],\"title\":{\"id\":\"8299\"},\"toolbar\":{\"id\":\"8315\"},\"toolbar_location\":null,\"x_range\":{\"id\":\"8297\"},\"x_scale\":{\"id\":\"8304\"},\"y_range\":{\"id\":\"8302\"},\"y_scale\":{\"id\":\"8306\"}},\"id\":\"8298\",\"subtype\":\"Figure\",\"type\":\"Plot\"},{\"attributes\":{\"base\":{\"field\":\"x\"},\"coordinates\":null,\"group\":null,\"level\":\"overlay\",\"line_color\":{\"value\":\"purple\"},\"lower\":{\"field\":\"lower\"},\"lower_head\":{\"id\":\"8326\"},\"source\":{\"id\":\"8322\"},\"upper\":{\"field\":\"upper\"},\"upper_head\":{\"id\":\"8325\"}},\"id\":\"8323\",\"type\":\"Whisker\"},{\"attributes\":{},\"id\":\"8338\",\"type\":\"CategoricalTickFormatter\"},{\"attributes\":{\"children\":[{\"id\":\"8330\"},{\"id\":\"8332\"}],\"margin\":[0,0,0,0],\"name\":\"Column02689\"},\"id\":\"8329\",\"type\":\"Column\"},{\"attributes\":{\"children\":[{\"id\":\"8331\"}],\"margin\":[0,0,0,0],\"name\":\"Column02694\"},\"id\":\"8330\",\"type\":\"Column\"},{\"attributes\":{\"line_color\":{\"value\":\"purple\"},\"size\":{\"value\":20}},\"id\":\"8325\",\"type\":\"TeeHead\"},{\"attributes\":{},\"id\":\"8335\",\"type\":\"BasicTickFormatter\"},{\"attributes\":{},\"id\":\"8312\",\"type\":\"BasicTicker\"},{\"attributes\":{\"coordinates\":null,\"data_source\":{\"id\":\"8296\"},\"glyph\":{\"id\":\"8317\"},\"group\":null,\"hover_glyph\":null,\"muted_glyph\":{\"id\":\"8319\"},\"nonselection_glyph\":{\"id\":\"8318\"},\"view\":{\"id\":\"8321\"}},\"id\":\"8320\",\"type\":\"GlyphRenderer\"},{\"attributes\":{\"coordinates\":null,\"group\":null,\"text\":\"Standard Error of correct answers\"},\"id\":\"8299\",\"type\":\"Title\"},{\"attributes\":{\"source\":{\"id\":\"8296\"}},\"id\":\"8321\",\"type\":\"CDSView\"},{\"attributes\":{},\"id\":\"8345\",\"type\":\"Selection\"},{\"attributes\":{\"line_color\":{\"value\":\"purple\"},\"size\":{\"value\":20}},\"id\":\"8326\",\"type\":\"TeeHead\"},{\"attributes\":{\"margin\":[5,10,5,10],\"options\":[\"correct\",\"incorrect\"],\"title\":\"answer_type\",\"value\":\"correct\"},\"id\":\"8331\",\"type\":\"panel.models.widgets.CustomSelect\"},{\"attributes\":{},\"id\":\"8344\",\"type\":\"UnionRenderers\"},{\"attributes\":{\"axis\":{\"id\":\"8308\"},\"coordinates\":null,\"grid_line_color\":null,\"group\":null,\"ticker\":null},\"id\":\"8310\",\"type\":\"Grid\"},{\"attributes\":{\"fill_alpha\":{\"value\":0.1},\"fill_color\":{\"field\":\"x\",\"transform\":{\"id\":\"8295\"}},\"hatch_alpha\":{\"value\":0.1},\"line_alpha\":{\"value\":0.1},\"line_color\":{\"value\":\"#1f77b4\"},\"top\":{\"field\":\"counts\"},\"width\":{\"value\":0.9},\"x\":{\"field\":\"x\"}},\"id\":\"8318\",\"type\":\"VBar\"},{\"attributes\":{\"axis_label\":\"SE\",\"coordinates\":null,\"formatter\":{\"id\":\"8335\"},\"group\":null,\"major_label_policy\":{\"id\":\"8336\"},\"ticker\":{\"id\":\"8312\"}},\"id\":\"8311\",\"type\":\"LinearAxis\"},{\"attributes\":{\"children\":[{\"id\":\"8298\"}],\"margin\":[0,0,0,0],\"name\":\"Row02693\"},\"id\":\"8332\",\"type\":\"Row\"},{\"attributes\":{\"end\":2,\"factors\":[\"dehydration\",\"control\"],\"palette\":[\"salmon\",\"skyblue\"],\"start\":1},\"id\":\"8295\",\"type\":\"CategoricalColorMapper\"},{\"attributes\":{\"factors\":[[\"blue\",\"control\"],[\"blue\",\"dehydration\"],[\"green\",\"control\"],[\"green\",\"dehydration\"],[\"orange\",\"control\"],[\"orange\",\"dehydration\"],[\"pink\",\"control\"],[\"pink\",\"dehydration\"],[\"red\",\"control\"],[\"red\",\"dehydration\"]],\"range_padding\":0.1},\"id\":\"8297\",\"type\":\"FactorRange\"},{\"attributes\":{},\"id\":\"8342\",\"type\":\"UnionRenderers\"},{\"attributes\":{},\"id\":\"8339\",\"type\":\"AllLabels\"},{\"attributes\":{},\"id\":\"8306\",\"type\":\"LinearScale\"},{\"attributes\":{},\"id\":\"8309\",\"type\":\"CategoricalTicker\"},{\"attributes\":{},\"id\":\"8343\",\"type\":\"Selection\"},{\"attributes\":{\"axis\":{\"id\":\"8311\"},\"coordinates\":null,\"dimension\":1,\"group\":null,\"ticker\":null},\"id\":\"8314\",\"type\":\"Grid\"}],\"root_ids\":[\"8329\",\"8398\"]},\"title\":\"Bokeh Application\",\"version\":\"2.4.3\"}};\n",
       "    var render_items = [{\"docid\":\"d9ae7afe-66ab-4eaf-ab66-e00f61734bdd\",\"root_ids\":[\"8329\"],\"roots\":{\"8329\":\"d6ee3ab9-d15e-4748-8592-4817f59109fb\"}}];\n",
       "    root.Bokeh.embed.embed_items_notebook(docs_json, render_items);\n",
       "  }\n",
       "  if (root.Bokeh !== undefined && root.Bokeh.Panel !== undefined) {\n",
       "    embed_document(root);\n",
       "  } else {\n",
       "    var attempts = 0;\n",
       "    var timer = setInterval(function(root) {\n",
       "      if (root.Bokeh !== undefined && root.Bokeh.Panel !== undefined) {\n",
       "        clearInterval(timer);\n",
       "        embed_document(root);\n",
       "      } else if (document.readyState == \"complete\") {\n",
       "        attempts++;\n",
       "        if (attempts > 200) {\n",
       "          clearInterval(timer);\n",
       "          console.log(\"Bokeh: ERROR: Unable to run BokehJS code because BokehJS library is missing\");\n",
       "        }\n",
       "      }\n",
       "    }, 25, root)\n",
       "  }\n",
       "})(window);</script>"
      ],
      "text/plain": [
       "Column\n",
       "    [0] Column\n",
       "        [0] Select(name='answer_type', options=['correct', 'incorrect'], value='correct')\n",
       "    [1] Row\n",
       "        [0] Bokeh(Figure, name='interactive02688')"
      ]
     },
     "execution_count": 88,
     "metadata": {
      "application/vnd.holoviews_exec.v0+json": {
       "id": "8329"
      }
     },
     "output_type": "execute_result"
    }
   ],
   "source": [
    "def calculate_standard_error(flanker_df, answer_type=\"correct\"):\n",
    "    flanker_df = flanker_df[flanker_df[\"correctness\"] == answer_type]\n",
    "    flanker_df = flanker_df.groupby([\"participant\", \"type\", \"repeat\"])[\"correctness\"].count().reset_index()\n",
    "    df_mean = flanker_df.groupby(by=[\"participant\", \"type\"]).agg(mean=(\"correctness\", \"mean\"))\n",
    "    df_se = flanker_df.groupby(by=[\"participant\", \"type\"]).agg(se=(\"correctness\", \"sem\"))\n",
    "    upper = df_mean[\"mean\"] + 1.96 * df_se[\"se\"]\n",
    "    lower = df_mean[\"mean\"] - 1.96 * df_se[\"se\"]\n",
    "    data = pd.concat([upper.rename(\"upper\"), lower.rename(\"lower\")], axis=1)\n",
    "    return data\n",
    "\n",
    "def plot_standard_error(plot, data):\n",
    "    x = list(data.index.values)\n",
    "    data_map = {\n",
    "        'x': x,\n",
    "        'upper': data[\"upper\"].tolist(),\n",
    "        'lower': data[\"lower\"].tolist()\n",
    "\n",
    "        }\n",
    "    source = ColumnDataSource(data=data_map)\n",
    "\n",
    "    w = Whisker(source=source, base=\"x\", upper=\"upper\", lower=\"lower\", \n",
    "            line_color='purple', level=\"overlay\")\n",
    "    w.upper_head.line_color = 'purple'\n",
    "    w.lower_head.line_color = 'purple'\n",
    "    w.upper_head.size = w.lower_head.size = 20\n",
    "    plot.add_layout(w)\n",
    "    return plot\n",
    "\n",
    "def flanker_plot_error(answer_type=\"correct\"):  # Roya\n",
    "    flanker_df = create_flanker_dataframe()\n",
    "    data = flanker_calculate_counts(flanker_df, answer_type)\n",
    "    data_se = calculate_standard_error(flanker_df, answer_type)\n",
    "    p = show_plot(data, f\"Standard Error of {answer_type} answers\", \"participant/session\", \"SE\" )\n",
    "    p = plot_standard_error(p, data_se)\n",
    "    return p\n",
    "\n",
    "\n",
    "answer_types =['correct','incorrect']\n",
    "inter_plot = pn.interact(flanker_plot_error, answer_type = answer_types)\n",
    "inter_plot"
   ]
  },
  {
   "cell_type": "markdown",
   "metadata": {},
   "source": [
    "### Stroop Test  Analysis"
   ]
  },
  {
   "cell_type": "code",
   "execution_count": 89,
   "metadata": {},
   "outputs": [],
   "source": [
    "def stroop_test(): # Mahdiye\n",
    "    total_dict = create_merged_df(config)\n",
    "    stroop_df = total_dict['stroop']\n",
    "    stroop_df.drop(stroop_df.columns[[3,7]], axis=1, inplace=True)\n",
    "    stroop_df = stroop_df.set_axis(['participant', 'type','repeat','word name','word color',\n",
    "                                    'name_color match','pressed _key','status','reaction_time'], axis=1)\n",
    "    return stroop_df\n",
    "\n",
    "stroop_df = stroop_test()"
   ]
  },
  {
   "cell_type": "code",
   "execution_count": 90,
   "metadata": {},
   "outputs": [
    {
     "data": {
      "text/html": [
       "<div class=\"bk-root\">\n",
       "        <a href=\"https://bokeh.org\" target=\"_blank\" class=\"bk-logo bk-logo-small bk-logo-notebook\"></a>\n",
       "        <span id=\"8464\">Loading BokehJS ...</span>\n",
       "    </div>\n"
      ]
     },
     "metadata": {},
     "output_type": "display_data"
    },
    {
     "data": {
      "application/javascript": "(function(root) {\n  function now() {\n    return new Date();\n  }\n\n  const force = true;\n\n  if (typeof root._bokeh_onload_callbacks === \"undefined\" || force === true) {\n    root._bokeh_onload_callbacks = [];\n    root._bokeh_is_loading = undefined;\n  }\n\nconst JS_MIME_TYPE = 'application/javascript';\n  const HTML_MIME_TYPE = 'text/html';\n  const EXEC_MIME_TYPE = 'application/vnd.bokehjs_exec.v0+json';\n  const CLASS_NAME = 'output_bokeh rendered_html';\n\n  /**\n   * Render data to the DOM node\n   */\n  function render(props, node) {\n    const script = document.createElement(\"script\");\n    node.appendChild(script);\n  }\n\n  /**\n   * Handle when an output is cleared or removed\n   */\n  function handleClearOutput(event, handle) {\n    const cell = handle.cell;\n\n    const id = cell.output_area._bokeh_element_id;\n    const server_id = cell.output_area._bokeh_server_id;\n    // Clean up Bokeh references\n    if (id != null && id in Bokeh.index) {\n      Bokeh.index[id].model.document.clear();\n      delete Bokeh.index[id];\n    }\n\n    if (server_id !== undefined) {\n      // Clean up Bokeh references\n      const cmd_clean = \"from bokeh.io.state import curstate; print(curstate().uuid_to_server['\" + server_id + \"'].get_sessions()[0].document.roots[0]._id)\";\n      cell.notebook.kernel.execute(cmd_clean, {\n        iopub: {\n          output: function(msg) {\n            const id = msg.content.text.trim();\n            if (id in Bokeh.index) {\n              Bokeh.index[id].model.document.clear();\n              delete Bokeh.index[id];\n            }\n          }\n        }\n      });\n      // Destroy server and session\n      const cmd_destroy = \"import bokeh.io.notebook as ion; ion.destroy_server('\" + server_id + \"')\";\n      cell.notebook.kernel.execute(cmd_destroy);\n    }\n  }\n\n  /**\n   * Handle when a new output is added\n   */\n  function handleAddOutput(event, handle) {\n    const output_area = handle.output_area;\n    const output = handle.output;\n\n    // limit handleAddOutput to display_data with EXEC_MIME_TYPE content only\n    if ((output.output_type != \"display_data\") || (!Object.prototype.hasOwnProperty.call(output.data, EXEC_MIME_TYPE))) {\n      return\n    }\n\n    const toinsert = output_area.element.find(\".\" + CLASS_NAME.split(' ')[0]);\n\n    if (output.metadata[EXEC_MIME_TYPE][\"id\"] !== undefined) {\n      toinsert[toinsert.length - 1].firstChild.textContent = output.data[JS_MIME_TYPE];\n      // store reference to embed id on output_area\n      output_area._bokeh_element_id = output.metadata[EXEC_MIME_TYPE][\"id\"];\n    }\n    if (output.metadata[EXEC_MIME_TYPE][\"server_id\"] !== undefined) {\n      const bk_div = document.createElement(\"div\");\n      bk_div.innerHTML = output.data[HTML_MIME_TYPE];\n      const script_attrs = bk_div.children[0].attributes;\n      for (let i = 0; i < script_attrs.length; i++) {\n        toinsert[toinsert.length - 1].firstChild.setAttribute(script_attrs[i].name, script_attrs[i].value);\n        toinsert[toinsert.length - 1].firstChild.textContent = bk_div.children[0].textContent\n      }\n      // store reference to server id on output_area\n      output_area._bokeh_server_id = output.metadata[EXEC_MIME_TYPE][\"server_id\"];\n    }\n  }\n\n  function register_renderer(events, OutputArea) {\n\n    function append_mime(data, metadata, element) {\n      // create a DOM node to render to\n      const toinsert = this.create_output_subarea(\n        metadata,\n        CLASS_NAME,\n        EXEC_MIME_TYPE\n      );\n      this.keyboard_manager.register_events(toinsert);\n      // Render to node\n      const props = {data: data, metadata: metadata[EXEC_MIME_TYPE]};\n      render(props, toinsert[toinsert.length - 1]);\n      element.append(toinsert);\n      return toinsert\n    }\n\n    /* Handle when an output is cleared or removed */\n    events.on('clear_output.CodeCell', handleClearOutput);\n    events.on('delete.Cell', handleClearOutput);\n\n    /* Handle when a new output is added */\n    events.on('output_added.OutputArea', handleAddOutput);\n\n    /**\n     * Register the mime type and append_mime function with output_area\n     */\n    OutputArea.prototype.register_mime_type(EXEC_MIME_TYPE, append_mime, {\n      /* Is output safe? */\n      safe: true,\n      /* Index of renderer in `output_area.display_order` */\n      index: 0\n    });\n  }\n\n  // register the mime type if in Jupyter Notebook environment and previously unregistered\n  if (root.Jupyter !== undefined) {\n    const events = require('base/js/events');\n    const OutputArea = require('notebook/js/outputarea').OutputArea;\n\n    if (OutputArea.prototype.mime_types().indexOf(EXEC_MIME_TYPE) == -1) {\n      register_renderer(events, OutputArea);\n    }\n  }\n  if (typeof (root._bokeh_timeout) === \"undefined\" || force === true) {\n    root._bokeh_timeout = Date.now() + 5000;\n    root._bokeh_failed_load = false;\n  }\n\n  const NB_LOAD_WARNING = {'data': {'text/html':\n     \"<div style='background-color: #fdd'>\\n\"+\n     \"<p>\\n\"+\n     \"BokehJS does not appear to have successfully loaded. If loading BokehJS from CDN, this \\n\"+\n     \"may be due to a slow or bad network connection. Possible fixes:\\n\"+\n     \"</p>\\n\"+\n     \"<ul>\\n\"+\n     \"<li>re-rerun `output_notebook()` to attempt to load from CDN again, or</li>\\n\"+\n     \"<li>use INLINE resources instead, as so:</li>\\n\"+\n     \"</ul>\\n\"+\n     \"<code>\\n\"+\n     \"from bokeh.resources import INLINE\\n\"+\n     \"output_notebook(resources=INLINE)\\n\"+\n     \"</code>\\n\"+\n     \"</div>\"}};\n\n  function display_loaded() {\n    const el = document.getElementById(\"8464\");\n    if (el != null) {\n      el.textContent = \"BokehJS is loading...\";\n    }\n    if (root.Bokeh !== undefined) {\n      if (el != null) {\n        el.textContent = \"BokehJS \" + root.Bokeh.version + \" successfully loaded.\";\n      }\n    } else if (Date.now() < root._bokeh_timeout) {\n      setTimeout(display_loaded, 100)\n    }\n  }\n\n  function run_callbacks() {\n    try {\n      root._bokeh_onload_callbacks.forEach(function(callback) {\n        if (callback != null)\n          callback();\n      });\n    } finally {\n      delete root._bokeh_onload_callbacks\n    }\n    console.debug(\"Bokeh: all callbacks have finished\");\n  }\n\n  function load_libs(css_urls, js_urls, callback) {\n    if (css_urls == null) css_urls = [];\n    if (js_urls == null) js_urls = [];\n\n    root._bokeh_onload_callbacks.push(callback);\n    if (root._bokeh_is_loading > 0) {\n      console.debug(\"Bokeh: BokehJS is being loaded, scheduling callback at\", now());\n      return null;\n    }\n    if (js_urls == null || js_urls.length === 0) {\n      run_callbacks();\n      return null;\n    }\n    console.debug(\"Bokeh: BokehJS not loaded, scheduling load and callback at\", now());\n    root._bokeh_is_loading = css_urls.length + js_urls.length;\n\n    function on_load() {\n      root._bokeh_is_loading--;\n      if (root._bokeh_is_loading === 0) {\n        console.debug(\"Bokeh: all BokehJS libraries/stylesheets loaded\");\n        run_callbacks()\n      }\n    }\n\n    function on_error(url) {\n      console.error(\"failed to load \" + url);\n    }\n\n    for (let i = 0; i < css_urls.length; i++) {\n      const url = css_urls[i];\n      const element = document.createElement(\"link\");\n      element.onload = on_load;\n      element.onerror = on_error.bind(null, url);\n      element.rel = \"stylesheet\";\n      element.type = \"text/css\";\n      element.href = url;\n      console.debug(\"Bokeh: injecting link tag for BokehJS stylesheet: \", url);\n      document.body.appendChild(element);\n    }\n\n    for (let i = 0; i < js_urls.length; i++) {\n      const url = js_urls[i];\n      const element = document.createElement('script');\n      element.onload = on_load;\n      element.onerror = on_error.bind(null, url);\n      element.async = false;\n      element.src = url;\n      console.debug(\"Bokeh: injecting script tag for BokehJS library: \", url);\n      document.head.appendChild(element);\n    }\n  };\n\n  function inject_raw_css(css) {\n    const element = document.createElement(\"style\");\n    element.appendChild(document.createTextNode(css));\n    document.body.appendChild(element);\n  }\n\n  const js_urls = [\"https://cdn.bokeh.org/bokeh/release/bokeh-2.4.3.min.js\", \"https://cdn.bokeh.org/bokeh/release/bokeh-gl-2.4.3.min.js\", \"https://cdn.bokeh.org/bokeh/release/bokeh-widgets-2.4.3.min.js\", \"https://cdn.bokeh.org/bokeh/release/bokeh-tables-2.4.3.min.js\", \"https://cdn.bokeh.org/bokeh/release/bokeh-mathjax-2.4.3.min.js\", \"https://unpkg.com/@holoviz/panel@0.13.1/dist/panel.min.js\"];\n  const css_urls = [];\n\n  const inline_js = [    function(Bokeh) {\n      Bokeh.set_log_level(\"info\");\n    },\nfunction(Bokeh) {\n    }\n  ];\n\n  function run_inline_js() {\n    if (root.Bokeh !== undefined || force === true) {\n          for (let i = 0; i < inline_js.length; i++) {\n      inline_js[i].call(root, root.Bokeh);\n    }\nif (force === true) {\n        display_loaded();\n      }} else if (Date.now() < root._bokeh_timeout) {\n      setTimeout(run_inline_js, 100);\n    } else if (!root._bokeh_failed_load) {\n      console.log(\"Bokeh: BokehJS failed to load within specified timeout.\");\n      root._bokeh_failed_load = true;\n    } else if (force !== true) {\n      const cell = $(document.getElementById(\"8464\")).parents('.cell').data().cell;\n      cell.output_area.append_execute_result(NB_LOAD_WARNING)\n    }\n  }\n\n  if (root._bokeh_is_loading === 0) {\n    console.debug(\"Bokeh: BokehJS loaded, going straight to plotting\");\n    run_inline_js();\n  } else {\n    load_libs(css_urls, js_urls, function() {\n      console.debug(\"Bokeh: BokehJS plotting callback run at\", now());\n      run_inline_js();\n    });\n  }\n}(window));",
      "application/vnd.bokehjs_load.v0+json": ""
     },
     "metadata": {},
     "output_type": "display_data"
    }
   ],
   "source": [
    "from bokeh.io import output_notebook\n",
    "from bokeh.plotting import figure, show\n",
    "from bokeh.models import ColumnDataSource, Whisker\n",
    "import panel as pn\n",
    "from bokeh.io import output_notebook\n",
    "\n",
    "output_notebook()\n",
    "pn.extension()"
   ]
  },
  {
   "cell_type": "code",
   "execution_count": 91,
   "metadata": {},
   "outputs": [
    {
     "data": {},
     "metadata": {},
     "output_type": "display_data"
    },
    {
     "data": {
      "application/vnd.holoviews_exec.v0+json": "",
      "text/html": [
       "<div id='8503'>\n",
       "  <div class=\"bk-root\" id=\"49787fc5-2d2c-43ad-91d0-0cd5edc34e10\" data-root-id=\"8503\"></div>\n",
       "</div>\n",
       "<script type=\"application/javascript\">(function(root) {\n",
       "  function embed_document(root) {\n",
       "    var docs_json = {\"8d3b0c58-630a-4643-8307-56e25cd6c5d3\":{\"defs\":[{\"extends\":null,\"module\":null,\"name\":\"ReactiveHTML1\",\"overrides\":[],\"properties\":[]},{\"extends\":null,\"module\":null,\"name\":\"FlexBox1\",\"overrides\":[],\"properties\":[{\"default\":\"flex-start\",\"kind\":null,\"name\":\"align_content\"},{\"default\":\"flex-start\",\"kind\":null,\"name\":\"align_items\"},{\"default\":\"row\",\"kind\":null,\"name\":\"flex_direction\"},{\"default\":\"wrap\",\"kind\":null,\"name\":\"flex_wrap\"},{\"default\":\"flex-start\",\"kind\":null,\"name\":\"justify_content\"}]},{\"extends\":null,\"module\":null,\"name\":\"GridStack1\",\"overrides\":[],\"properties\":[{\"default\":\"warn\",\"kind\":null,\"name\":\"mode\"},{\"default\":null,\"kind\":null,\"name\":\"ncols\"},{\"default\":null,\"kind\":null,\"name\":\"nrows\"},{\"default\":true,\"kind\":null,\"name\":\"allow_resize\"},{\"default\":true,\"kind\":null,\"name\":\"allow_drag\"},{\"default\":[],\"kind\":null,\"name\":\"state\"}]},{\"extends\":null,\"module\":null,\"name\":\"click1\",\"overrides\":[],\"properties\":[{\"default\":\"\",\"kind\":null,\"name\":\"terminal_output\"},{\"default\":\"\",\"kind\":null,\"name\":\"debug_name\"},{\"default\":0,\"kind\":null,\"name\":\"clears\"}]},{\"extends\":null,\"module\":null,\"name\":\"NotificationAreaBase1\",\"overrides\":[],\"properties\":[{\"default\":\"bottom-right\",\"kind\":null,\"name\":\"position\"},{\"default\":0,\"kind\":null,\"name\":\"_clear\"}]},{\"extends\":null,\"module\":null,\"name\":\"NotificationArea1\",\"overrides\":[],\"properties\":[{\"default\":[],\"kind\":null,\"name\":\"notifications\"},{\"default\":\"bottom-right\",\"kind\":null,\"name\":\"position\"},{\"default\":0,\"kind\":null,\"name\":\"_clear\"},{\"default\":[{\"background\":\"#ffc107\",\"icon\":{\"className\":\"fas fa-exclamation-triangle\",\"color\":\"white\",\"tagName\":\"i\"},\"type\":\"warning\"},{\"background\":\"#007bff\",\"icon\":{\"className\":\"fas fa-info-circle\",\"color\":\"white\",\"tagName\":\"i\"},\"type\":\"info\"}],\"kind\":null,\"name\":\"types\"}]},{\"extends\":null,\"module\":null,\"name\":\"Notification\",\"overrides\":[],\"properties\":[{\"default\":null,\"kind\":null,\"name\":\"background\"},{\"default\":3000,\"kind\":null,\"name\":\"duration\"},{\"default\":null,\"kind\":null,\"name\":\"icon\"},{\"default\":\"\",\"kind\":null,\"name\":\"message\"},{\"default\":null,\"kind\":null,\"name\":\"notification_type\"},{\"default\":false,\"kind\":null,\"name\":\"_destroyed\"}]},{\"extends\":null,\"module\":null,\"name\":\"TemplateActions1\",\"overrides\":[],\"properties\":[{\"default\":0,\"kind\":null,\"name\":\"open_modal\"},{\"default\":0,\"kind\":null,\"name\":\"close_modal\"}]},{\"extends\":null,\"module\":null,\"name\":\"MaterialTemplateActions1\",\"overrides\":[],\"properties\":[{\"default\":0,\"kind\":null,\"name\":\"open_modal\"},{\"default\":0,\"kind\":null,\"name\":\"close_modal\"}]}],\"roots\":{\"references\":[{\"attributes\":{\"fill_color\":{\"value\":\"blue\"},\"hatch_color\":{\"value\":\"blue\"},\"line_color\":{\"value\":\"white\"},\"top\":{\"field\":\"top\"},\"width\":{\"value\":0.5},\"x\":{\"field\":\"x\"}},\"id\":\"8498\",\"type\":\"VBar\"},{\"attributes\":{\"margin\":[5,10,5,10],\"options\":[\"blue\",\"red\",\"orange\",\"green\",\"pink\"],\"title\":\"participant\",\"value\":\"blue\"},\"id\":\"8505\",\"type\":\"panel.models.widgets.CustomSelect\"},{\"attributes\":{},\"id\":\"8477\",\"type\":\"CategoricalTicker\"},{\"attributes\":{},\"id\":\"8513\",\"type\":\"AllLabels\"},{\"attributes\":{},\"id\":\"8509\",\"type\":\"BasicTickFormatter\"},{\"attributes\":{\"tools\":[{\"id\":\"8483\"},{\"id\":\"8484\"},{\"id\":\"8485\"},{\"id\":\"8486\"},{\"id\":\"8487\"},{\"id\":\"8488\"}]},\"id\":\"8490\",\"type\":\"Toolbar\"},{\"attributes\":{\"coordinates\":null,\"data_source\":{\"id\":\"8497\"},\"glyph\":{\"id\":\"8498\"},\"group\":null,\"hover_glyph\":null,\"muted_glyph\":{\"id\":\"8500\"},\"nonselection_glyph\":{\"id\":\"8499\"},\"view\":{\"id\":\"8502\"}},\"id\":\"8501\",\"type\":\"GlyphRenderer\"},{\"attributes\":{},\"id\":\"8488\",\"type\":\"HelpTool\"},{\"attributes\":{},\"id\":\"8514\",\"type\":\"UnionRenderers\"},{\"attributes\":{\"children\":[{\"id\":\"8465\"}],\"margin\":[0,0,0,0],\"name\":\"Row02703\"},\"id\":\"8506\",\"type\":\"Row\"},{\"attributes\":{},\"id\":\"8474\",\"type\":\"LinearScale\"},{\"attributes\":{\"data\":{\"top\":[384,355],\"x\":[\"control\",\"dehydration\"]},\"selected\":{\"id\":\"8515\"},\"selection_policy\":{\"id\":\"8514\"}},\"id\":\"8497\",\"type\":\"ColumnDataSource\"},{\"attributes\":{\"source\":{\"id\":\"8497\"}},\"id\":\"8502\",\"type\":\"CDSView\"},{\"attributes\":{\"client_comm_id\":\"606a380367ad47ed9cada24362dc9203\",\"comm_id\":\"87f607e6d0894e41b9f66dad34a2dfaa\",\"plot_id\":\"8503\"},\"id\":\"8557\",\"type\":\"panel.models.comm_manager.CommManager\"},{\"attributes\":{\"children\":[{\"id\":\"8505\"}],\"margin\":[0,0,0,0],\"name\":\"Column02704\"},\"id\":\"8504\",\"type\":\"Column\"},{\"attributes\":{\"fill_alpha\":{\"value\":0.1},\"fill_color\":{\"value\":\"blue\"},\"hatch_alpha\":{\"value\":0.1},\"hatch_color\":{\"value\":\"blue\"},\"line_alpha\":{\"value\":0.1},\"line_color\":{\"value\":\"white\"},\"top\":{\"field\":\"top\"},\"width\":{\"value\":0.5},\"x\":{\"field\":\"x\"}},\"id\":\"8499\",\"type\":\"VBar\"},{\"attributes\":{},\"id\":\"8486\",\"type\":\"SaveTool\"},{\"attributes\":{},\"id\":\"8510\",\"type\":\"AllLabels\"},{\"attributes\":{},\"id\":\"8487\",\"type\":\"ResetTool\"},{\"attributes\":{\"axis_label\":\"Reaction time(milliseconds)\",\"coordinates\":null,\"formatter\":{\"id\":\"8509\"},\"group\":null,\"major_label_policy\":{\"id\":\"8510\"},\"ticker\":{\"id\":\"8480\"}},\"id\":\"8479\",\"type\":\"LinearAxis\"},{\"attributes\":{},\"id\":\"8480\",\"type\":\"BasicTicker\"},{\"attributes\":{\"children\":[{\"id\":\"8504\"},{\"id\":\"8506\"}],\"margin\":[0,0,0,0],\"name\":\"Column02699\"},\"id\":\"8503\",\"type\":\"Column\"},{\"attributes\":{},\"id\":\"8483\",\"type\":\"PanTool\"},{\"attributes\":{\"bottom_units\":\"screen\",\"coordinates\":null,\"fill_alpha\":0.5,\"fill_color\":\"lightgrey\",\"group\":null,\"left_units\":\"screen\",\"level\":\"overlay\",\"line_alpha\":1.0,\"line_color\":\"black\",\"line_dash\":[4,4],\"line_width\":2,\"right_units\":\"screen\",\"syncable\":false,\"top_units\":\"screen\"},\"id\":\"8489\",\"type\":\"BoxAnnotation\"},{\"attributes\":{\"factors\":[\"control\",\"dehydration\"]},\"id\":\"8468\",\"type\":\"FactorRange\"},{\"attributes\":{},\"id\":\"8515\",\"type\":\"Selection\"},{\"attributes\":{\"axis\":{\"id\":\"8476\"},\"coordinates\":null,\"group\":null,\"ticker\":null},\"id\":\"8478\",\"type\":\"Grid\"},{\"attributes\":{\"coordinates\":null,\"group\":null,\"text\":\"Stroop Test blue\"},\"id\":\"8466\",\"type\":\"Title\"},{\"attributes\":{\"coordinates\":null,\"formatter\":{\"id\":\"8512\"},\"group\":null,\"major_label_policy\":{\"id\":\"8513\"},\"ticker\":{\"id\":\"8477\"}},\"id\":\"8476\",\"type\":\"CategoricalAxis\"},{\"attributes\":{\"fill_alpha\":{\"value\":0.2},\"fill_color\":{\"value\":\"blue\"},\"hatch_alpha\":{\"value\":0.2},\"hatch_color\":{\"value\":\"blue\"},\"line_alpha\":{\"value\":0.2},\"line_color\":{\"value\":\"white\"},\"top\":{\"field\":\"top\"},\"width\":{\"value\":0.5},\"x\":{\"field\":\"x\"}},\"id\":\"8500\",\"type\":\"VBar\"},{\"attributes\":{},\"id\":\"8470\",\"type\":\"DataRange1d\"},{\"attributes\":{},\"id\":\"8484\",\"type\":\"WheelZoomTool\"},{\"attributes\":{},\"id\":\"8512\",\"type\":\"CategoricalTickFormatter\"},{\"attributes\":{},\"id\":\"8472\",\"type\":\"CategoricalScale\"},{\"attributes\":{\"overlay\":{\"id\":\"8489\"}},\"id\":\"8485\",\"type\":\"BoxZoomTool\"},{\"attributes\":{\"below\":[{\"id\":\"8476\"}],\"center\":[{\"id\":\"8478\"},{\"id\":\"8482\"}],\"height\":350,\"left\":[{\"id\":\"8479\"}],\"renderers\":[{\"id\":\"8501\"}],\"title\":{\"id\":\"8466\"},\"toolbar\":{\"id\":\"8490\"},\"toolbar_location\":null,\"x_range\":{\"id\":\"8468\"},\"x_scale\":{\"id\":\"8472\"},\"y_range\":{\"id\":\"8470\"},\"y_scale\":{\"id\":\"8474\"}},\"id\":\"8465\",\"subtype\":\"Figure\",\"type\":\"Plot\"},{\"attributes\":{\"axis\":{\"id\":\"8479\"},\"coordinates\":null,\"dimension\":1,\"group\":null,\"ticker\":null},\"id\":\"8482\",\"type\":\"Grid\"}],\"root_ids\":[\"8503\",\"8557\"]},\"title\":\"Bokeh Application\",\"version\":\"2.4.3\"}};\n",
       "    var render_items = [{\"docid\":\"8d3b0c58-630a-4643-8307-56e25cd6c5d3\",\"root_ids\":[\"8503\"],\"roots\":{\"8503\":\"49787fc5-2d2c-43ad-91d0-0cd5edc34e10\"}}];\n",
       "    root.Bokeh.embed.embed_items_notebook(docs_json, render_items);\n",
       "  }\n",
       "  if (root.Bokeh !== undefined && root.Bokeh.Panel !== undefined) {\n",
       "    embed_document(root);\n",
       "  } else {\n",
       "    var attempts = 0;\n",
       "    var timer = setInterval(function(root) {\n",
       "      if (root.Bokeh !== undefined && root.Bokeh.Panel !== undefined) {\n",
       "        clearInterval(timer);\n",
       "        embed_document(root);\n",
       "      } else if (document.readyState == \"complete\") {\n",
       "        attempts++;\n",
       "        if (attempts > 200) {\n",
       "          clearInterval(timer);\n",
       "          console.log(\"Bokeh: ERROR: Unable to run BokehJS code because BokehJS library is missing\");\n",
       "        }\n",
       "      }\n",
       "    }, 25, root)\n",
       "  }\n",
       "})(window);</script>"
      ],
      "text/plain": [
       "Column\n",
       "    [0] Column\n",
       "        [0] Select(name='participant', options=['blue', 'red', ...], value='blue')\n",
       "    [1] Row\n",
       "        [0] Bokeh(Figure, name='interactive02698')"
      ]
     },
     "execution_count": 91,
     "metadata": {
      "application/vnd.holoviews_exec.v0+json": {
       "id": "8503"
      }
     },
     "output_type": "execute_result"
    }
   ],
   "source": [
    "def individual_stroop_bar_plot(participant='blue'):\n",
    "    df = stroop_df[stroop_df['participant']==participant]\n",
    "    \n",
    "    dff= df.groupby('type').min().reset_index()\n",
    "    p = figure(x_range=dff['type'], height=350, toolbar_location=None, \n",
    "               title=f'Stroop Test {participant}', y_axis_label=\"Reaction time(milliseconds)\")\n",
    "    p.vbar(x=dff['type'], bottom=0,top=dff['reaction_time'], width=0.5, line_color='white', color=participant)\n",
    "    return p\n",
    "\n",
    "#interactive plots\n",
    "participants_color =['blue','red','orange','green','pink']\n",
    "inter_plot = pn.interact(individual_stroop_bar_plot, participant = participants_color)\n",
    "inter_plot"
   ]
  },
  {
   "cell_type": "code",
   "execution_count": 92,
   "metadata": {},
   "outputs": [
    {
     "data": {},
     "metadata": {},
     "output_type": "display_data"
    },
    {
     "data": {
      "application/vnd.holoviews_exec.v0+json": "",
      "text/html": [
       "<div id='8651'>\n",
       "  <div class=\"bk-root\" id=\"0a901b56-9cc5-43b8-8756-1c83df4d470a\" data-root-id=\"8651\"></div>\n",
       "</div>\n",
       "<script type=\"application/javascript\">(function(root) {\n",
       "  function embed_document(root) {\n",
       "    var docs_json = {\"7a52d45a-6c8a-4466-9731-b96b1b578556\":{\"defs\":[{\"extends\":null,\"module\":null,\"name\":\"ReactiveHTML1\",\"overrides\":[],\"properties\":[]},{\"extends\":null,\"module\":null,\"name\":\"FlexBox1\",\"overrides\":[],\"properties\":[{\"default\":\"flex-start\",\"kind\":null,\"name\":\"align_content\"},{\"default\":\"flex-start\",\"kind\":null,\"name\":\"align_items\"},{\"default\":\"row\",\"kind\":null,\"name\":\"flex_direction\"},{\"default\":\"wrap\",\"kind\":null,\"name\":\"flex_wrap\"},{\"default\":\"flex-start\",\"kind\":null,\"name\":\"justify_content\"}]},{\"extends\":null,\"module\":null,\"name\":\"GridStack1\",\"overrides\":[],\"properties\":[{\"default\":\"warn\",\"kind\":null,\"name\":\"mode\"},{\"default\":null,\"kind\":null,\"name\":\"ncols\"},{\"default\":null,\"kind\":null,\"name\":\"nrows\"},{\"default\":true,\"kind\":null,\"name\":\"allow_resize\"},{\"default\":true,\"kind\":null,\"name\":\"allow_drag\"},{\"default\":[],\"kind\":null,\"name\":\"state\"}]},{\"extends\":null,\"module\":null,\"name\":\"click1\",\"overrides\":[],\"properties\":[{\"default\":\"\",\"kind\":null,\"name\":\"terminal_output\"},{\"default\":\"\",\"kind\":null,\"name\":\"debug_name\"},{\"default\":0,\"kind\":null,\"name\":\"clears\"}]},{\"extends\":null,\"module\":null,\"name\":\"NotificationAreaBase1\",\"overrides\":[],\"properties\":[{\"default\":\"bottom-right\",\"kind\":null,\"name\":\"position\"},{\"default\":0,\"kind\":null,\"name\":\"_clear\"}]},{\"extends\":null,\"module\":null,\"name\":\"NotificationArea1\",\"overrides\":[],\"properties\":[{\"default\":[],\"kind\":null,\"name\":\"notifications\"},{\"default\":\"bottom-right\",\"kind\":null,\"name\":\"position\"},{\"default\":0,\"kind\":null,\"name\":\"_clear\"},{\"default\":[{\"background\":\"#ffc107\",\"icon\":{\"className\":\"fas fa-exclamation-triangle\",\"color\":\"white\",\"tagName\":\"i\"},\"type\":\"warning\"},{\"background\":\"#007bff\",\"icon\":{\"className\":\"fas fa-info-circle\",\"color\":\"white\",\"tagName\":\"i\"},\"type\":\"info\"}],\"kind\":null,\"name\":\"types\"}]},{\"extends\":null,\"module\":null,\"name\":\"Notification\",\"overrides\":[],\"properties\":[{\"default\":null,\"kind\":null,\"name\":\"background\"},{\"default\":3000,\"kind\":null,\"name\":\"duration\"},{\"default\":null,\"kind\":null,\"name\":\"icon\"},{\"default\":\"\",\"kind\":null,\"name\":\"message\"},{\"default\":null,\"kind\":null,\"name\":\"notification_type\"},{\"default\":false,\"kind\":null,\"name\":\"_destroyed\"}]},{\"extends\":null,\"module\":null,\"name\":\"TemplateActions1\",\"overrides\":[],\"properties\":[{\"default\":0,\"kind\":null,\"name\":\"open_modal\"},{\"default\":0,\"kind\":null,\"name\":\"close_modal\"}]},{\"extends\":null,\"module\":null,\"name\":\"MaterialTemplateActions1\",\"overrides\":[],\"properties\":[{\"default\":0,\"kind\":null,\"name\":\"open_modal\"},{\"default\":0,\"kind\":null,\"name\":\"close_modal\"}]}],\"roots\":{\"references\":[{\"attributes\":{\"base\":{\"field\":\"type\"},\"coordinates\":null,\"group\":null,\"lower\":{\"field\":\"lower\"},\"lower_head\":{\"id\":\"8631\"},\"source\":{\"id\":\"8608\"},\"upper\":{\"field\":\"upper\"},\"upper_head\":{\"id\":\"8630\"}},\"id\":\"8628\",\"type\":\"Whisker\"},{\"attributes\":{\"axis\":{\"id\":\"8623\"},\"coordinates\":null,\"dimension\":1,\"group\":null,\"ticker\":null},\"id\":\"8626\",\"type\":\"Grid\"},{\"attributes\":{\"source\":{\"id\":\"8644\"}},\"id\":\"8650\",\"type\":\"CDSView\"},{\"attributes\":{\"coordinates\":null,\"group\":null,\"text\":\"box plot of stroop test blue\"},\"id\":\"8610\",\"type\":\"Title\"},{\"attributes\":{\"bottom\":{\"field\":\"q3\"},\"fill_alpha\":{\"value\":0.1},\"fill_color\":{\"value\":\"blue\"},\"hatch_alpha\":{\"value\":0.1},\"hatch_color\":{\"value\":\"blue\"},\"line_alpha\":{\"value\":0.1},\"top\":{\"field\":\"q2\"},\"width\":{\"value\":0.5},\"x\":{\"field\":\"type\"}},\"id\":\"8634\",\"type\":\"VBar\"},{\"attributes\":{\"size\":{\"value\":20}},\"id\":\"8631\",\"type\":\"TeeHead\"},{\"attributes\":{},\"id\":\"8616\",\"type\":\"CategoricalScale\"},{\"attributes\":{},\"id\":\"8664\",\"type\":\"UnionRenderers\"},{\"attributes\":{\"axis_label\":\"Reaction time(milliseconds)\",\"axis_label_text_font_size\":\"12px\",\"coordinates\":null,\"formatter\":{\"id\":\"8657\"},\"group\":null,\"major_label_policy\":{\"id\":\"8658\"},\"major_label_text_font_size\":\"14px\",\"ticker\":{\"id\":\"8624\"}},\"id\":\"8623\",\"type\":\"LinearAxis\"},{\"attributes\":{\"coordinates\":null,\"data_source\":{\"id\":\"8608\"},\"glyph\":{\"id\":\"8633\"},\"group\":null,\"hover_glyph\":null,\"muted_glyph\":{\"id\":\"8635\"},\"nonselection_glyph\":{\"id\":\"8634\"},\"view\":{\"id\":\"8637\"}},\"id\":\"8636\",\"type\":\"GlyphRenderer\"},{\"attributes\":{\"bottom\":{\"field\":\"q3\"},\"fill_color\":{\"value\":\"blue\"},\"hatch_color\":{\"value\":\"blue\"},\"top\":{\"field\":\"q2\"},\"width\":{\"value\":0.5},\"x\":{\"field\":\"type\"}},\"id\":\"8633\",\"type\":\"VBar\"},{\"attributes\":{},\"id\":\"8618\",\"type\":\"LinearScale\"},{\"attributes\":{\"size\":{\"value\":20}},\"id\":\"8630\",\"type\":\"TeeHead\"},{\"attributes\":{},\"id\":\"8657\",\"type\":\"BasicTickFormatter\"},{\"attributes\":{\"axis\":{\"id\":\"8620\"},\"coordinates\":null,\"grid_line_color\":null,\"group\":null,\"ticker\":null},\"id\":\"8622\",\"type\":\"Grid\"},{\"attributes\":{\"bottom\":{\"field\":\"q3\"},\"fill_alpha\":{\"value\":0.2},\"fill_color\":{\"value\":\"blue\"},\"hatch_alpha\":{\"value\":0.2},\"hatch_color\":{\"value\":\"blue\"},\"line_alpha\":{\"value\":0.2},\"top\":{\"field\":\"q2\"},\"width\":{\"value\":0.5},\"x\":{\"field\":\"type\"}},\"id\":\"8635\",\"type\":\"VBar\"},{\"attributes\":{},\"id\":\"8665\",\"type\":\"Selection\"},{\"attributes\":{\"end\":2600.0,\"start\":-100},\"id\":\"8614\",\"type\":\"Range1d\"},{\"attributes\":{},\"id\":\"8666\",\"type\":\"UnionRenderers\"},{\"attributes\":{\"source\":{\"id\":\"8608\"}},\"id\":\"8637\",\"type\":\"CDSView\"},{\"attributes\":{\"bottom\":{\"field\":\"q2\"},\"fill_color\":{\"value\":\"blue\"},\"hatch_color\":{\"value\":\"blue\"},\"top\":{\"field\":\"q1\"},\"width\":{\"value\":0.5},\"x\":{\"field\":\"type\"}},\"id\":\"8639\",\"type\":\"VBar\"},{\"attributes\":{},\"id\":\"8658\",\"type\":\"AllLabels\"},{\"attributes\":{\"coordinates\":null,\"data_source\":{\"id\":\"8608\"},\"glyph\":{\"id\":\"8639\"},\"group\":null,\"hover_glyph\":null,\"muted_glyph\":{\"id\":\"8641\"},\"nonselection_glyph\":{\"id\":\"8640\"},\"view\":{\"id\":\"8643\"}},\"id\":\"8642\",\"type\":\"GlyphRenderer\"},{\"attributes\":{\"coordinates\":null,\"data_source\":{\"id\":\"8644\"},\"glyph\":{\"id\":\"8646\"},\"group\":null,\"hover_glyph\":null,\"muted_glyph\":{\"id\":\"8648\"},\"nonselection_glyph\":{\"id\":\"8647\"},\"view\":{\"id\":\"8650\"}},\"id\":\"8649\",\"type\":\"GlyphRenderer\"},{\"attributes\":{},\"id\":\"8661\",\"type\":\"AllLabels\"},{\"attributes\":{},\"id\":\"8660\",\"type\":\"CategoricalTickFormatter\"},{\"attributes\":{\"data\":{\"index\":[58,80,84,88,94,146,157,158],\"lower\":{\"__ndarray__\":\"AAAAAACgPcAAAAAAAJJ2QAAAAAAAknZAAAAAAACSdkAAAAAAAJJ2QAAAAAAAknZAAAAAAACSdkAAAAAAAJJ2QA==\",\"dtype\":\"float64\",\"order\":\"little\",\"shape\":[8]},\"name_color match\":[0,0,0,0,0,0,0,0],\"participant\":[\"blue\",\"blue\",\"blue\",\"blue\",\"blue\",\"blue\",\"blue\",\"blue\"],\"pressed _key\":[1,2,3,3,2,2,2,2],\"q1\":{\"__ndarray__\":\"AAAAAADCg0AAAAAAAHCEQAAAAAAAcIRAAAAAAABwhEAAAAAAAHCEQAAAAAAAcIRAAAAAAABwhEAAAAAAAHCEQA==\",\"dtype\":\"float64\",\"order\":\"little\",\"shape\":[8]},\"q2\":{\"__ndarray__\":\"AAAAAADoikAAAAAAABSIQAAAAAAAFIhAAAAAAAAUiEAAAAAAABSIQAAAAAAAFIhAAAAAAAAUiEAAAAAAABSIQA==\",\"dtype\":\"float64\",\"order\":\"little\",\"shape\":[8]},\"q3\":{\"__ndarray__\":\"AAAAAADGkEAAAAAAAIqKQAAAAAAAiopAAAAAAACKikAAAAAAAIqKQAAAAAAAiopAAAAAAACKikAAAAAAAIqKQA==\",\"dtype\":\"float64\",\"order\":\"little\",\"shape\":[8]},\"reaction_time\":[2000,1169,1249,1336,1523,1276,1173,355],\"repeat\":[\"2\",\"1\",\"1\",\"1\",\"1\",\"2\",\"2\",\"2\"],\"status\":[3,1,1,1,1,1,1,1],\"type\":[\"control\",\"dehydration\",\"dehydration\",\"dehydration\",\"dehydration\",\"dehydration\",\"dehydration\",\"dehydration\"],\"upper\":{\"__ndarray__\":\"AAAAAIAdm0AAAAAAgNiRQAAAAACA2JFAAAAAAIDYkUAAAAAAgNiRQAAAAACA2JFAAAAAAIDYkUAAAAAAgNiRQA==\",\"dtype\":\"float64\",\"order\":\"little\",\"shape\":[8]},\"word color\":[\"red\",\"green\",\"blue\",\"blue\",\"green\",\"green\",\"green\",\"green\"],\"word name\":[\"yellow\",\"yellow\",\"red\",\"red\",\"blue\",\"blue\",\"red\",\"blue\"]},\"selected\":{\"id\":\"8667\"},\"selection_policy\":{\"id\":\"8666\"}},\"id\":\"8644\",\"type\":\"ColumnDataSource\"},{\"attributes\":{},\"id\":\"8624\",\"type\":\"BasicTicker\"},{\"attributes\":{},\"id\":\"8667\",\"type\":\"Selection\"},{\"attributes\":{\"children\":[{\"id\":\"8652\"},{\"id\":\"8654\"}],\"margin\":[0,0,0,0],\"name\":\"Column02708\"},\"id\":\"8651\",\"type\":\"Column\"},{\"attributes\":{\"bottom\":{\"field\":\"q2\"},\"fill_alpha\":{\"value\":0.2},\"fill_color\":{\"value\":\"blue\"},\"hatch_alpha\":{\"value\":0.2},\"hatch_color\":{\"value\":\"blue\"},\"line_alpha\":{\"value\":0.2},\"top\":{\"field\":\"q1\"},\"width\":{\"value\":0.5},\"x\":{\"field\":\"type\"}},\"id\":\"8641\",\"type\":\"VBar\"},{\"attributes\":{\"source\":{\"id\":\"8608\"}},\"id\":\"8643\",\"type\":\"CDSView\"},{\"attributes\":{\"client_comm_id\":\"8c9b9c6dcbe24b72ac4df4a6a1af38c2\",\"comm_id\":\"ba4769c96491435486c572acee0b8d71\",\"plot_id\":\"8651\"},\"id\":\"8720\",\"type\":\"panel.models.comm_manager.CommManager\"},{\"attributes\":{\"fill_alpha\":{\"value\":0.2},\"fill_color\":{\"value\":\"black\"},\"hatch_alpha\":{\"value\":0.2},\"line_alpha\":{\"value\":0.2},\"size\":{\"value\":6},\"x\":{\"field\":\"type\"},\"y\":{\"field\":\"reaction_time\"}},\"id\":\"8648\",\"type\":\"Scatter\"},{\"attributes\":{\"data\":{\"index\":[0,1,2,3,4,5,6,7,8,9,10,11,12,13,14,15,16,17,18,19,20,21,22,23,24,25,26,27,28,29,30,31,32,33,34,35,36,37,38,39,40,41,42,43,44,45,46,47,48,49,50,51,52,53,54,55,56,57,58,59,60,61,62,63,64,65,66,67,68,69,70,71,72,73,74,75,76,77,78,79,80,81,82,83,84,85,86,87,88,89,90,91,92,93,94,95,96,97,98,99,100,101,102,103,104,105,106,107,108,109,110,111,112,113,114,115,116,117,118,119,120,121,122,123,124,125,126,127,128,129,130,131,132,133,134,135,136,137,138,139,140,141,142,143,144,145,146,147,148,149,150,151,152,153,154,155,156,157,158,159],\"lower\":{\"__ndarray__\":\"AAAAAACgPcAAAAAAAKA9wAAAAAAAoD3AAAAAAACgPcAAAAAAAKA9wAAAAAAAoD3AAAAAAACgPcAAAAAAAKA9wAAAAAAAoD3AAAAAAACgPcAAAAAAAKA9wAAAAAAAoD3AAAAAAACgPcAAAAAAAKA9wAAAAAAAoD3AAAAAAACgPcAAAAAAAKA9wAAAAAAAoD3AAAAAAACgPcAAAAAAAKA9wAAAAAAAoD3AAAAAAACgPcAAAAAAAKA9wAAAAAAAoD3AAAAAAACgPcAAAAAAAKA9wAAAAAAAoD3AAAAAAACgPcAAAAAAAKA9wAAAAAAAoD3AAAAAAACgPcAAAAAAAKA9wAAAAAAAoD3AAAAAAACgPcAAAAAAAKA9wAAAAAAAoD3AAAAAAACgPcAAAAAAAKA9wAAAAAAAoD3AAAAAAACgPcAAAAAAAKA9wAAAAAAAoD3AAAAAAACgPcAAAAAAAKA9wAAAAAAAoD3AAAAAAACgPcAAAAAAAKA9wAAAAAAAoD3AAAAAAACgPcAAAAAAAKA9wAAAAAAAoD3AAAAAAACgPcAAAAAAAKA9wAAAAAAAoD3AAAAAAACgPcAAAAAAAKA9wAAAAAAAoD3AAAAAAACgPcAAAAAAAKA9wAAAAAAAoD3AAAAAAACgPcAAAAAAAKA9wAAAAAAAoD3AAAAAAACgPcAAAAAAAKA9wAAAAAAAoD3AAAAAAACgPcAAAAAAAKA9wAAAAAAAoD3AAAAAAACgPcAAAAAAAKA9wAAAAAAAoD3AAAAAAACgPcAAAAAAAKA9wAAAAAAAoD3AAAAAAACgPcAAAAAAAKA9wAAAAAAAoD3AAAAAAACgPcAAAAAAAKA9wAAAAAAAknZAAAAAAACSdkAAAAAAAJJ2QAAAAAAAknZAAAAAAACSdkAAAAAAAJJ2QAAAAAAAknZAAAAAAACSdkAAAAAAAJJ2QAAAAAAAknZAAAAAAACSdkAAAAAAAJJ2QAAAAAAAknZAAAAAAACSdkAAAAAAAJJ2QAAAAAAAknZAAAAAAACSdkAAAAAAAJJ2QAAAAAAAknZAAAAAAACSdkAAAAAAAJJ2QAAAAAAAknZAAAAAAACSdkAAAAAAAJJ2QAAAAAAAknZAAAAAAACSdkAAAAAAAJJ2QAAAAAAAknZAAAAAAACSdkAAAAAAAJJ2QAAAAAAAknZAAAAAAACSdkAAAAAAAJJ2QAAAAAAAknZAAAAAAACSdkAAAAAAAJJ2QAAAAAAAknZAAAAAAACSdkAAAAAAAJJ2QAAAAAAAknZAAAAAAACSdkAAAAAAAJJ2QAAAAAAAknZAAAAAAACSdkAAAAAAAJJ2QAAAAAAAknZAAAAAAACSdkAAAAAAAJJ2QAAAAAAAknZAAAAAAACSdkAAAAAAAJJ2QAAAAAAAknZAAAAAAACSdkAAAAAAAJJ2QAAAAAAAknZAAAAAAACSdkAAAAAAAJJ2QAAAAAAAknZAAAAAAACSdkAAAAAAAJJ2QAAAAAAAknZAAAAAAACSdkAAAAAAAJJ2QAAAAAAAknZAAAAAAACSdkAAAAAAAJJ2QAAAAAAAknZAAAAAAACSdkAAAAAAAJJ2QAAAAAAAknZAAAAAAACSdkAAAAAAAJJ2QAAAAAAAknZAAAAAAACSdkAAAAAAAJJ2QAAAAAAAknZAAAAAAACSdkAAAAAAAJJ2QAAAAAAAknZAAAAAAACSdkA=\",\"dtype\":\"float64\",\"order\":\"little\",\"shape\":[160]},\"name_color match\":[0,0,0,0,0,0,0,0,0,0,0,0,0,1,1,1,0,0,0,0,0,1,0,0,0,0,0,0,1,1,0,1,1,0,0,1,0,0,0,0,0,0,0,1,0,1,0,1,0,0,0,1,1,0,0,0,1,0,0,0,0,1,0,0,0,1,0,0,0,0,0,0,0,0,0,0,0,1,0,1,0,0,0,0,0,1,1,1,0,0,0,0,0,1,0,0,0,0,1,0,0,1,1,1,0,0,1,0,0,0,1,0,1,0,0,0,0,0,0,0,0,0,1,0,0,1,0,0,0,1,1,0,1,0,0,0,0,1,0,1,0,0,0,0,0,0,0,1,0,0,0,0,1,0,0,0,0,0,0,0],\"participant\":[\"blue\",\"blue\",\"blue\",\"blue\",\"blue\",\"blue\",\"blue\",\"blue\",\"blue\",\"blue\",\"blue\",\"blue\",\"blue\",\"blue\",\"blue\",\"blue\",\"blue\",\"blue\",\"blue\",\"blue\",\"blue\",\"blue\",\"blue\",\"blue\",\"blue\",\"blue\",\"blue\",\"blue\",\"blue\",\"blue\",\"blue\",\"blue\",\"blue\",\"blue\",\"blue\",\"blue\",\"blue\",\"blue\",\"blue\",\"blue\",\"blue\",\"blue\",\"blue\",\"blue\",\"blue\",\"blue\",\"blue\",\"blue\",\"blue\",\"blue\",\"blue\",\"blue\",\"blue\",\"blue\",\"blue\",\"blue\",\"blue\",\"blue\",\"blue\",\"blue\",\"blue\",\"blue\",\"blue\",\"blue\",\"blue\",\"blue\",\"blue\",\"blue\",\"blue\",\"blue\",\"blue\",\"blue\",\"blue\",\"blue\",\"blue\",\"blue\",\"blue\",\"blue\",\"blue\",\"blue\",\"blue\",\"blue\",\"blue\",\"blue\",\"blue\",\"blue\",\"blue\",\"blue\",\"blue\",\"blue\",\"blue\",\"blue\",\"blue\",\"blue\",\"blue\",\"blue\",\"blue\",\"blue\",\"blue\",\"blue\",\"blue\",\"blue\",\"blue\",\"blue\",\"blue\",\"blue\",\"blue\",\"blue\",\"blue\",\"blue\",\"blue\",\"blue\",\"blue\",\"blue\",\"blue\",\"blue\",\"blue\",\"blue\",\"blue\",\"blue\",\"blue\",\"blue\",\"blue\",\"blue\",\"blue\",\"blue\",\"blue\",\"blue\",\"blue\",\"blue\",\"blue\",\"blue\",\"blue\",\"blue\",\"blue\",\"blue\",\"blue\",\"blue\",\"blue\",\"blue\",\"blue\",\"blue\",\"blue\",\"blue\",\"blue\",\"blue\",\"blue\",\"blue\",\"blue\",\"blue\",\"blue\",\"blue\",\"blue\",\"blue\",\"blue\",\"blue\",\"blue\",\"blue\",\"blue\",\"blue\"],\"pressed _key\":[4,1,3,4,3,2,1,1,1,1,4,1,3,3,2,4,2,4,4,2,2,1,1,3,1,3,3,4,3,2,1,4,2,2,3,3,3,4,2,3,4,3,2,2,4,4,3,4,1,1,4,3,3,4,1,4,2,2,1,3,2,1,2,3,2,2,1,4,4,1,2,4,4,3,2,1,1,3,3,1,2,1,1,1,3,3,2,2,3,1,3,1,3,1,2,3,1,2,2,2,4,1,4,1,2,2,4,2,4,3,4,4,3,4,4,1,4,4,3,4,3,3,4,3,2,1,4,3,1,2,2,2,3,2,3,3,4,2,1,3,4,3,4,3,2,1,2,4,1,3,4,1,4,1,1,4,4,2,2,1],\"q1\":{\"__ndarray__\":\"AAAAAADCg0AAAAAAAMKDQAAAAAAAwoNAAAAAAADCg0AAAAAAAMKDQAAAAAAAwoNAAAAAAADCg0AAAAAAAMKDQAAAAAAAwoNAAAAAAADCg0AAAAAAAMKDQAAAAAAAwoNAAAAAAADCg0AAAAAAAMKDQAAAAAAAwoNAAAAAAADCg0AAAAAAAMKDQAAAAAAAwoNAAAAAAADCg0AAAAAAAMKDQAAAAAAAwoNAAAAAAADCg0AAAAAAAMKDQAAAAAAAwoNAAAAAAADCg0AAAAAAAMKDQAAAAAAAwoNAAAAAAADCg0AAAAAAAMKDQAAAAAAAwoNAAAAAAADCg0AAAAAAAMKDQAAAAAAAwoNAAAAAAADCg0AAAAAAAMKDQAAAAAAAwoNAAAAAAADCg0AAAAAAAMKDQAAAAAAAwoNAAAAAAADCg0AAAAAAAMKDQAAAAAAAwoNAAAAAAADCg0AAAAAAAMKDQAAAAAAAwoNAAAAAAADCg0AAAAAAAMKDQAAAAAAAwoNAAAAAAADCg0AAAAAAAMKDQAAAAAAAwoNAAAAAAADCg0AAAAAAAMKDQAAAAAAAwoNAAAAAAADCg0AAAAAAAMKDQAAAAAAAwoNAAAAAAADCg0AAAAAAAMKDQAAAAAAAwoNAAAAAAADCg0AAAAAAAMKDQAAAAAAAwoNAAAAAAADCg0AAAAAAAMKDQAAAAAAAwoNAAAAAAADCg0AAAAAAAMKDQAAAAAAAwoNAAAAAAADCg0AAAAAAAMKDQAAAAAAAwoNAAAAAAADCg0AAAAAAAMKDQAAAAAAAwoNAAAAAAADCg0AAAAAAAMKDQAAAAAAAwoNAAAAAAADCg0AAAAAAAMKDQAAAAAAAcIRAAAAAAABwhEAAAAAAAHCEQAAAAAAAcIRAAAAAAABwhEAAAAAAAHCEQAAAAAAAcIRAAAAAAABwhEAAAAAAAHCEQAAAAAAAcIRAAAAAAABwhEAAAAAAAHCEQAAAAAAAcIRAAAAAAABwhEAAAAAAAHCEQAAAAAAAcIRAAAAAAABwhEAAAAAAAHCEQAAAAAAAcIRAAAAAAABwhEAAAAAAAHCEQAAAAAAAcIRAAAAAAABwhEAAAAAAAHCEQAAAAAAAcIRAAAAAAABwhEAAAAAAAHCEQAAAAAAAcIRAAAAAAABwhEAAAAAAAHCEQAAAAAAAcIRAAAAAAABwhEAAAAAAAHCEQAAAAAAAcIRAAAAAAABwhEAAAAAAAHCEQAAAAAAAcIRAAAAAAABwhEAAAAAAAHCEQAAAAAAAcIRAAAAAAABwhEAAAAAAAHCEQAAAAAAAcIRAAAAAAABwhEAAAAAAAHCEQAAAAAAAcIRAAAAAAABwhEAAAAAAAHCEQAAAAAAAcIRAAAAAAABwhEAAAAAAAHCEQAAAAAAAcIRAAAAAAABwhEAAAAAAAHCEQAAAAAAAcIRAAAAAAABwhEAAAAAAAHCEQAAAAAAAcIRAAAAAAABwhEAAAAAAAHCEQAAAAAAAcIRAAAAAAABwhEAAAAAAAHCEQAAAAAAAcIRAAAAAAABwhEAAAAAAAHCEQAAAAAAAcIRAAAAAAABwhEAAAAAAAHCEQAAAAAAAcIRAAAAAAABwhEAAAAAAAHCEQAAAAAAAcIRAAAAAAABwhEAAAAAAAHCEQAAAAAAAcIRAAAAAAABwhEAAAAAAAHCEQAAAAAAAcIRAAAAAAABwhEA=\",\"dtype\":\"float64\",\"order\":\"little\",\"shape\":[160]},\"q2\":{\"__ndarray__\":\"AAAAAADoikAAAAAAAOiKQAAAAAAA6IpAAAAAAADoikAAAAAAAOiKQAAAAAAA6IpAAAAAAADoikAAAAAAAOiKQAAAAAAA6IpAAAAAAADoikAAAAAAAOiKQAAAAAAA6IpAAAAAAADoikAAAAAAAOiKQAAAAAAA6IpAAAAAAADoikAAAAAAAOiKQAAAAAAA6IpAAAAAAADoikAAAAAAAOiKQAAAAAAA6IpAAAAAAADoikAAAAAAAOiKQAAAAAAA6IpAAAAAAADoikAAAAAAAOiKQAAAAAAA6IpAAAAAAADoikAAAAAAAOiKQAAAAAAA6IpAAAAAAADoikAAAAAAAOiKQAAAAAAA6IpAAAAAAADoikAAAAAAAOiKQAAAAAAA6IpAAAAAAADoikAAAAAAAOiKQAAAAAAA6IpAAAAAAADoikAAAAAAAOiKQAAAAAAA6IpAAAAAAADoikAAAAAAAOiKQAAAAAAA6IpAAAAAAADoikAAAAAAAOiKQAAAAAAA6IpAAAAAAADoikAAAAAAAOiKQAAAAAAA6IpAAAAAAADoikAAAAAAAOiKQAAAAAAA6IpAAAAAAADoikAAAAAAAOiKQAAAAAAA6IpAAAAAAADoikAAAAAAAOiKQAAAAAAA6IpAAAAAAADoikAAAAAAAOiKQAAAAAAA6IpAAAAAAADoikAAAAAAAOiKQAAAAAAA6IpAAAAAAADoikAAAAAAAOiKQAAAAAAA6IpAAAAAAADoikAAAAAAAOiKQAAAAAAA6IpAAAAAAADoikAAAAAAAOiKQAAAAAAA6IpAAAAAAADoikAAAAAAAOiKQAAAAAAA6IpAAAAAAADoikAAAAAAAOiKQAAAAAAAFIhAAAAAAAAUiEAAAAAAABSIQAAAAAAAFIhAAAAAAAAUiEAAAAAAABSIQAAAAAAAFIhAAAAAAAAUiEAAAAAAABSIQAAAAAAAFIhAAAAAAAAUiEAAAAAAABSIQAAAAAAAFIhAAAAAAAAUiEAAAAAAABSIQAAAAAAAFIhAAAAAAAAUiEAAAAAAABSIQAAAAAAAFIhAAAAAAAAUiEAAAAAAABSIQAAAAAAAFIhAAAAAAAAUiEAAAAAAABSIQAAAAAAAFIhAAAAAAAAUiEAAAAAAABSIQAAAAAAAFIhAAAAAAAAUiEAAAAAAABSIQAAAAAAAFIhAAAAAAAAUiEAAAAAAABSIQAAAAAAAFIhAAAAAAAAUiEAAAAAAABSIQAAAAAAAFIhAAAAAAAAUiEAAAAAAABSIQAAAAAAAFIhAAAAAAAAUiEAAAAAAABSIQAAAAAAAFIhAAAAAAAAUiEAAAAAAABSIQAAAAAAAFIhAAAAAAAAUiEAAAAAAABSIQAAAAAAAFIhAAAAAAAAUiEAAAAAAABSIQAAAAAAAFIhAAAAAAAAUiEAAAAAAABSIQAAAAAAAFIhAAAAAAAAUiEAAAAAAABSIQAAAAAAAFIhAAAAAAAAUiEAAAAAAABSIQAAAAAAAFIhAAAAAAAAUiEAAAAAAABSIQAAAAAAAFIhAAAAAAAAUiEAAAAAAABSIQAAAAAAAFIhAAAAAAAAUiEAAAAAAABSIQAAAAAAAFIhAAAAAAAAUiEAAAAAAABSIQAAAAAAAFIhAAAAAAAAUiEAAAAAAABSIQAAAAAAAFIhAAAAAAAAUiEAAAAAAABSIQAAAAAAAFIhAAAAAAAAUiEA=\",\"dtype\":\"float64\",\"order\":\"little\",\"shape\":[160]},\"q3\":{\"__ndarray__\":\"AAAAAADGkEAAAAAAAMaQQAAAAAAAxpBAAAAAAADGkEAAAAAAAMaQQAAAAAAAxpBAAAAAAADGkEAAAAAAAMaQQAAAAAAAxpBAAAAAAADGkEAAAAAAAMaQQAAAAAAAxpBAAAAAAADGkEAAAAAAAMaQQAAAAAAAxpBAAAAAAADGkEAAAAAAAMaQQAAAAAAAxpBAAAAAAADGkEAAAAAAAMaQQAAAAAAAxpBAAAAAAADGkEAAAAAAAMaQQAAAAAAAxpBAAAAAAADGkEAAAAAAAMaQQAAAAAAAxpBAAAAAAADGkEAAAAAAAMaQQAAAAAAAxpBAAAAAAADGkEAAAAAAAMaQQAAAAAAAxpBAAAAAAADGkEAAAAAAAMaQQAAAAAAAxpBAAAAAAADGkEAAAAAAAMaQQAAAAAAAxpBAAAAAAADGkEAAAAAAAMaQQAAAAAAAxpBAAAAAAADGkEAAAAAAAMaQQAAAAAAAxpBAAAAAAADGkEAAAAAAAMaQQAAAAAAAxpBAAAAAAADGkEAAAAAAAMaQQAAAAAAAxpBAAAAAAADGkEAAAAAAAMaQQAAAAAAAxpBAAAAAAADGkEAAAAAAAMaQQAAAAAAAxpBAAAAAAADGkEAAAAAAAMaQQAAAAAAAxpBAAAAAAADGkEAAAAAAAMaQQAAAAAAAxpBAAAAAAADGkEAAAAAAAMaQQAAAAAAAxpBAAAAAAADGkEAAAAAAAMaQQAAAAAAAxpBAAAAAAADGkEAAAAAAAMaQQAAAAAAAxpBAAAAAAADGkEAAAAAAAMaQQAAAAAAAxpBAAAAAAADGkEAAAAAAAMaQQAAAAAAAxpBAAAAAAADGkEAAAAAAAMaQQAAAAAAAiopAAAAAAACKikAAAAAAAIqKQAAAAAAAiopAAAAAAACKikAAAAAAAIqKQAAAAAAAiopAAAAAAACKikAAAAAAAIqKQAAAAAAAiopAAAAAAACKikAAAAAAAIqKQAAAAAAAiopAAAAAAACKikAAAAAAAIqKQAAAAAAAiopAAAAAAACKikAAAAAAAIqKQAAAAAAAiopAAAAAAACKikAAAAAAAIqKQAAAAAAAiopAAAAAAACKikAAAAAAAIqKQAAAAAAAiopAAAAAAACKikAAAAAAAIqKQAAAAAAAiopAAAAAAACKikAAAAAAAIqKQAAAAAAAiopAAAAAAACKikAAAAAAAIqKQAAAAAAAiopAAAAAAACKikAAAAAAAIqKQAAAAAAAiopAAAAAAACKikAAAAAAAIqKQAAAAAAAiopAAAAAAACKikAAAAAAAIqKQAAAAAAAiopAAAAAAACKikAAAAAAAIqKQAAAAAAAiopAAAAAAACKikAAAAAAAIqKQAAAAAAAiopAAAAAAACKikAAAAAAAIqKQAAAAAAAiopAAAAAAACKikAAAAAAAIqKQAAAAAAAiopAAAAAAACKikAAAAAAAIqKQAAAAAAAiopAAAAAAACKikAAAAAAAIqKQAAAAAAAiopAAAAAAACKikAAAAAAAIqKQAAAAAAAiopAAAAAAACKikAAAAAAAIqKQAAAAAAAiopAAAAAAACKikAAAAAAAIqKQAAAAAAAiopAAAAAAACKikAAAAAAAIqKQAAAAAAAiopAAAAAAACKikAAAAAAAIqKQAAAAAAAiopAAAAAAACKikAAAAAAAIqKQAAAAAAAiopAAAAAAACKikA=\",\"dtype\":\"float64\",\"order\":\"little\",\"shape\":[160]},\"reaction_time\":[879,1163,923,1730,992,1186,689,843,660,797,1115,744,891,1246,954,686,1133,1177,492,1135,517,498,636,942,1233,1207,1035,1082,1104,970,981,709,889,563,952,450,499,813,949,1497,1012,1071,924,433,1186,384,699,733,596,414,786,593,428,1549,777,774,904,488,2000,841,767,1024,1472,700,508,415,621,477,761,1081,1110,837,597,912,980,957,791,1469,420,620,1169,1061,887,534,1249,451,837,451,1336,898,1091,823,847,607,1523,780,799,911,457,442,845,573,783,605,797,677,694,419,825,853,1009,671,834,1040,722,802,741,606,733,805,1140,878,726,827,893,761,820,796,840,836,477,697,664,745,756,896,660,636,710,1121,698,601,581,690,608,511,1276,745,1007,841,802,697,557,625,406,848,662,1173,355,740],\"repeat\":[\"1\",\"1\",\"1\",\"1\",\"1\",\"1\",\"1\",\"1\",\"1\",\"1\",\"1\",\"1\",\"1\",\"1\",\"1\",\"1\",\"1\",\"1\",\"1\",\"1\",\"1\",\"1\",\"1\",\"1\",\"1\",\"1\",\"1\",\"1\",\"1\",\"1\",\"1\",\"1\",\"1\",\"1\",\"1\",\"1\",\"1\",\"1\",\"1\",\"1\",\"2\",\"2\",\"2\",\"2\",\"2\",\"2\",\"2\",\"2\",\"2\",\"2\",\"2\",\"2\",\"2\",\"2\",\"2\",\"2\",\"2\",\"2\",\"2\",\"2\",\"2\",\"2\",\"2\",\"2\",\"2\",\"2\",\"2\",\"2\",\"2\",\"2\",\"2\",\"2\",\"2\",\"2\",\"2\",\"2\",\"2\",\"2\",\"2\",\"2\",\"1\",\"1\",\"1\",\"1\",\"1\",\"1\",\"1\",\"1\",\"1\",\"1\",\"1\",\"1\",\"1\",\"1\",\"1\",\"1\",\"1\",\"1\",\"1\",\"1\",\"1\",\"1\",\"1\",\"1\",\"1\",\"1\",\"1\",\"1\",\"1\",\"1\",\"1\",\"1\",\"1\",\"1\",\"1\",\"1\",\"1\",\"1\",\"1\",\"1\",\"2\",\"2\",\"2\",\"2\",\"2\",\"2\",\"2\",\"2\",\"2\",\"2\",\"2\",\"2\",\"2\",\"2\",\"2\",\"2\",\"2\",\"2\",\"2\",\"2\",\"2\",\"2\",\"2\",\"2\",\"2\",\"2\",\"2\",\"2\",\"2\",\"2\",\"2\",\"2\",\"2\",\"2\",\"2\",\"2\",\"2\",\"2\",\"2\",\"2\"],\"status\":[1,1,1,1,1,1,1,1,1,1,1,1,1,1,1,1,1,1,1,1,1,1,1,2,1,1,1,1,1,1,1,1,1,1,1,1,1,1,1,1,1,1,1,1,1,1,1,1,1,1,1,1,2,1,1,1,1,1,3,1,1,1,1,1,1,1,1,2,1,1,1,1,1,1,1,2,1,1,1,1,1,1,1,1,1,1,1,1,1,1,1,1,1,1,1,1,1,1,1,1,1,1,1,1,1,1,1,1,1,1,1,1,1,1,1,1,1,1,1,1,1,1,1,1,1,1,1,1,1,1,1,1,1,1,1,1,1,1,1,1,1,1,1,1,1,1,1,1,1,1,1,1,1,1,1,1,1,1,1,1],\"type\":[\"control\",\"control\",\"control\",\"control\",\"control\",\"control\",\"control\",\"control\",\"control\",\"control\",\"control\",\"control\",\"control\",\"control\",\"control\",\"control\",\"control\",\"control\",\"control\",\"control\",\"control\",\"control\",\"control\",\"control\",\"control\",\"control\",\"control\",\"control\",\"control\",\"control\",\"control\",\"control\",\"control\",\"control\",\"control\",\"control\",\"control\",\"control\",\"control\",\"control\",\"control\",\"control\",\"control\",\"control\",\"control\",\"control\",\"control\",\"control\",\"control\",\"control\",\"control\",\"control\",\"control\",\"control\",\"control\",\"control\",\"control\",\"control\",\"control\",\"control\",\"control\",\"control\",\"control\",\"control\",\"control\",\"control\",\"control\",\"control\",\"control\",\"control\",\"control\",\"control\",\"control\",\"control\",\"control\",\"control\",\"control\",\"control\",\"control\",\"control\",\"dehydration\",\"dehydration\",\"dehydration\",\"dehydration\",\"dehydration\",\"dehydration\",\"dehydration\",\"dehydration\",\"dehydration\",\"dehydration\",\"dehydration\",\"dehydration\",\"dehydration\",\"dehydration\",\"dehydration\",\"dehydration\",\"dehydration\",\"dehydration\",\"dehydration\",\"dehydration\",\"dehydration\",\"dehydration\",\"dehydration\",\"dehydration\",\"dehydration\",\"dehydration\",\"dehydration\",\"dehydration\",\"dehydration\",\"dehydration\",\"dehydration\",\"dehydration\",\"dehydration\",\"dehydration\",\"dehydration\",\"dehydration\",\"dehydration\",\"dehydration\",\"dehydration\",\"dehydration\",\"dehydration\",\"dehydration\",\"dehydration\",\"dehydration\",\"dehydration\",\"dehydration\",\"dehydration\",\"dehydration\",\"dehydration\",\"dehydration\",\"dehydration\",\"dehydration\",\"dehydration\",\"dehydration\",\"dehydration\",\"dehydration\",\"dehydration\",\"dehydration\",\"dehydration\",\"dehydration\",\"dehydration\",\"dehydration\",\"dehydration\",\"dehydration\",\"dehydration\",\"dehydration\",\"dehydration\",\"dehydration\",\"dehydration\",\"dehydration\",\"dehydration\",\"dehydration\",\"dehydration\",\"dehydration\",\"dehydration\",\"dehydration\",\"dehydration\",\"dehydration\",\"dehydration\",\"dehydration\"],\"upper\":{\"__ndarray__\":\"AAAAAIAdm0AAAAAAgB2bQAAAAACAHZtAAAAAAIAdm0AAAAAAgB2bQAAAAACAHZtAAAAAAIAdm0AAAAAAgB2bQAAAAACAHZtAAAAAAIAdm0AAAAAAgB2bQAAAAACAHZtAAAAAAIAdm0AAAAAAgB2bQAAAAACAHZtAAAAAAIAdm0AAAAAAgB2bQAAAAACAHZtAAAAAAIAdm0AAAAAAgB2bQAAAAACAHZtAAAAAAIAdm0AAAAAAgB2bQAAAAACAHZtAAAAAAIAdm0AAAAAAgB2bQAAAAACAHZtAAAAAAIAdm0AAAAAAgB2bQAAAAACAHZtAAAAAAIAdm0AAAAAAgB2bQAAAAACAHZtAAAAAAIAdm0AAAAAAgB2bQAAAAACAHZtAAAAAAIAdm0AAAAAAgB2bQAAAAACAHZtAAAAAAIAdm0AAAAAAgB2bQAAAAACAHZtAAAAAAIAdm0AAAAAAgB2bQAAAAACAHZtAAAAAAIAdm0AAAAAAgB2bQAAAAACAHZtAAAAAAIAdm0AAAAAAgB2bQAAAAACAHZtAAAAAAIAdm0AAAAAAgB2bQAAAAACAHZtAAAAAAIAdm0AAAAAAgB2bQAAAAACAHZtAAAAAAIAdm0AAAAAAgB2bQAAAAACAHZtAAAAAAIAdm0AAAAAAgB2bQAAAAACAHZtAAAAAAIAdm0AAAAAAgB2bQAAAAACAHZtAAAAAAIAdm0AAAAAAgB2bQAAAAACAHZtAAAAAAIAdm0AAAAAAgB2bQAAAAACAHZtAAAAAAIAdm0AAAAAAgB2bQAAAAACAHZtAAAAAAIAdm0AAAAAAgB2bQAAAAACAHZtAAAAAAIAdm0AAAAAAgB2bQAAAAACA2JFAAAAAAIDYkUAAAAAAgNiRQAAAAACA2JFAAAAAAIDYkUAAAAAAgNiRQAAAAACA2JFAAAAAAIDYkUAAAAAAgNiRQAAAAACA2JFAAAAAAIDYkUAAAAAAgNiRQAAAAACA2JFAAAAAAIDYkUAAAAAAgNiRQAAAAACA2JFAAAAAAIDYkUAAAAAAgNiRQAAAAACA2JFAAAAAAIDYkUAAAAAAgNiRQAAAAACA2JFAAAAAAIDYkUAAAAAAgNiRQAAAAACA2JFAAAAAAIDYkUAAAAAAgNiRQAAAAACA2JFAAAAAAIDYkUAAAAAAgNiRQAAAAACA2JFAAAAAAIDYkUAAAAAAgNiRQAAAAACA2JFAAAAAAIDYkUAAAAAAgNiRQAAAAACA2JFAAAAAAIDYkUAAAAAAgNiRQAAAAACA2JFAAAAAAIDYkUAAAAAAgNiRQAAAAACA2JFAAAAAAIDYkUAAAAAAgNiRQAAAAACA2JFAAAAAAIDYkUAAAAAAgNiRQAAAAACA2JFAAAAAAIDYkUAAAAAAgNiRQAAAAACA2JFAAAAAAIDYkUAAAAAAgNiRQAAAAACA2JFAAAAAAIDYkUAAAAAAgNiRQAAAAACA2JFAAAAAAIDYkUAAAAAAgNiRQAAAAACA2JFAAAAAAIDYkUAAAAAAgNiRQAAAAACA2JFAAAAAAIDYkUAAAAAAgNiRQAAAAACA2JFAAAAAAIDYkUAAAAAAgNiRQAAAAACA2JFAAAAAAIDYkUAAAAAAgNiRQAAAAACA2JFAAAAAAIDYkUAAAAAAgNiRQAAAAACA2JFAAAAAAIDYkUAAAAAAgNiRQAAAAACA2JFAAAAAAIDYkUA=\",\"dtype\":\"float64\",\"order\":\"little\",\"shape\":[160]},\"word color\":[\"yellow\",\"red\",\"blue\",\"yellow\",\"blue\",\"green\",\"red\",\"red\",\"red\",\"red\",\"yellow\",\"red\",\"blue\",\"blue\",\"green\",\"yellow\",\"green\",\"yellow\",\"yellow\",\"green\",\"green\",\"red\",\"red\",\"yellow\",\"red\",\"blue\",\"blue\",\"yellow\",\"blue\",\"green\",\"red\",\"yellow\",\"green\",\"green\",\"blue\",\"blue\",\"blue\",\"yellow\",\"green\",\"blue\",\"yellow\",\"blue\",\"green\",\"green\",\"yellow\",\"yellow\",\"blue\",\"yellow\",\"red\",\"red\",\"yellow\",\"blue\",\"yellow\",\"yellow\",\"red\",\"yellow\",\"green\",\"green\",\"red\",\"blue\",\"green\",\"red\",\"green\",\"blue\",\"green\",\"green\",\"red\",\"red\",\"yellow\",\"red\",\"green\",\"yellow\",\"yellow\",\"blue\",\"green\",\"blue\",\"red\",\"blue\",\"blue\",\"red\",\"green\",\"red\",\"red\",\"red\",\"blue\",\"blue\",\"green\",\"green\",\"blue\",\"red\",\"blue\",\"red\",\"blue\",\"red\",\"green\",\"blue\",\"red\",\"green\",\"green\",\"green\",\"yellow\",\"red\",\"yellow\",\"red\",\"green\",\"green\",\"yellow\",\"green\",\"yellow\",\"blue\",\"yellow\",\"yellow\",\"blue\",\"yellow\",\"yellow\",\"red\",\"yellow\",\"yellow\",\"blue\",\"yellow\",\"blue\",\"blue\",\"yellow\",\"blue\",\"green\",\"red\",\"yellow\",\"blue\",\"red\",\"green\",\"green\",\"green\",\"blue\",\"green\",\"blue\",\"blue\",\"yellow\",\"green\",\"red\",\"blue\",\"yellow\",\"blue\",\"yellow\",\"blue\",\"green\",\"red\",\"green\",\"yellow\",\"red\",\"blue\",\"yellow\",\"red\",\"yellow\",\"red\",\"red\",\"yellow\",\"yellow\",\"green\",\"green\",\"red\"],\"word name\":[\"red\",\"yellow\",\"yellow\",\"green\",\"green\",\"yellow\",\"yellow\",\"green\",\"blue\",\"blue\",\"blue\",\"blue\",\"yellow\",\"blue\",\"green\",\"yellow\",\"blue\",\"green\",\"blue\",\"red\",\"blue\",\"red\",\"green\",\"blue\",\"green\",\"green\",\"yellow\",\"green\",\"blue\",\"green\",\"yellow\",\"yellow\",\"green\",\"red\",\"green\",\"blue\",\"red\",\"red\",\"blue\",\"red\",\"red\",\"yellow\",\"yellow\",\"green\",\"blue\",\"yellow\",\"yellow\",\"yellow\",\"blue\",\"blue\",\"green\",\"blue\",\"yellow\",\"green\",\"yellow\",\"green\",\"green\",\"red\",\"yellow\",\"red\",\"blue\",\"red\",\"blue\",\"green\",\"red\",\"green\",\"green\",\"yellow\",\"blue\",\"green\",\"blue\",\"blue\",\"red\",\"red\",\"yellow\",\"red\",\"blue\",\"blue\",\"green\",\"red\",\"yellow\",\"blue\",\"yellow\",\"green\",\"red\",\"blue\",\"green\",\"green\",\"red\",\"blue\",\"yellow\",\"yellow\",\"green\",\"red\",\"blue\",\"green\",\"green\",\"yellow\",\"green\",\"red\",\"green\",\"red\",\"yellow\",\"red\",\"yellow\",\"red\",\"yellow\",\"red\",\"red\",\"yellow\",\"yellow\",\"red\",\"blue\",\"blue\",\"blue\",\"yellow\",\"red\",\"green\",\"green\",\"blue\",\"red\",\"yellow\",\"yellow\",\"red\",\"blue\",\"red\",\"blue\",\"yellow\",\"green\",\"green\",\"green\",\"red\",\"blue\",\"red\",\"green\",\"yellow\",\"red\",\"green\",\"blue\",\"blue\",\"green\",\"green\",\"blue\",\"green\",\"yellow\",\"blue\",\"blue\",\"yellow\",\"green\",\"red\",\"red\",\"blue\",\"yellow\",\"yellow\",\"yellow\",\"red\",\"green\",\"red\",\"blue\",\"yellow\"]},\"selected\":{\"id\":\"8665\"},\"selection_policy\":{\"id\":\"8664\"}},\"id\":\"8608\",\"type\":\"ColumnDataSource\"},{\"attributes\":{},\"id\":\"8627\",\"type\":\"Toolbar\"},{\"attributes\":{\"bottom\":{\"field\":\"q2\"},\"fill_alpha\":{\"value\":0.1},\"fill_color\":{\"value\":\"blue\"},\"hatch_alpha\":{\"value\":0.1},\"hatch_color\":{\"value\":\"blue\"},\"line_alpha\":{\"value\":0.1},\"top\":{\"field\":\"q1\"},\"width\":{\"value\":0.5},\"x\":{\"field\":\"type\"}},\"id\":\"8640\",\"type\":\"VBar\"},{\"attributes\":{\"fill_alpha\":{\"value\":0.1},\"fill_color\":{\"value\":\"black\"},\"hatch_alpha\":{\"value\":0.1},\"line_alpha\":{\"value\":0.1},\"size\":{\"value\":6},\"x\":{\"field\":\"type\"},\"y\":{\"field\":\"reaction_time\"}},\"id\":\"8647\",\"type\":\"Scatter\"},{\"attributes\":{\"margin\":[5,10,5,10],\"options\":[\"blue\",\"red\",\"orange\",\"green\",\"pink\"],\"title\":\"participant\",\"value\":\"blue\"},\"id\":\"8653\",\"type\":\"panel.models.widgets.CustomSelect\"},{\"attributes\":{\"children\":[{\"id\":\"8609\"}],\"margin\":[0,0,0,0],\"name\":\"Row02712\"},\"id\":\"8654\",\"type\":\"Row\"},{\"attributes\":{\"children\":[{\"id\":\"8653\"}],\"margin\":[0,0,0,0],\"name\":\"Column02713\"},\"id\":\"8652\",\"type\":\"Column\"},{\"attributes\":{\"fill_alpha\":{\"value\":0.5},\"fill_color\":{\"value\":\"black\"},\"hatch_alpha\":{\"value\":0.5},\"line_alpha\":{\"value\":0.5},\"size\":{\"value\":6},\"x\":{\"field\":\"type\"},\"y\":{\"field\":\"reaction_time\"}},\"id\":\"8646\",\"type\":\"Scatter\"},{\"attributes\":{\"axis_label_text_font_size\":\"12px\",\"coordinates\":null,\"formatter\":{\"id\":\"8660\"},\"group\":null,\"major_label_policy\":{\"id\":\"8661\"},\"major_label_text_font_size\":\"14px\",\"ticker\":{\"id\":\"8621\"}},\"id\":\"8620\",\"type\":\"CategoricalAxis\"},{\"attributes\":{\"background_fill_color\":\"#eaefef\",\"below\":[{\"id\":\"8620\"}],\"center\":[{\"id\":\"8622\"},{\"id\":\"8626\"},{\"id\":\"8628\"}],\"left\":[{\"id\":\"8623\"}],\"renderers\":[{\"id\":\"8636\"},{\"id\":\"8642\"},{\"id\":\"8649\"}],\"title\":{\"id\":\"8610\"},\"toolbar\":{\"id\":\"8627\"},\"toolbar_location\":null,\"x_range\":{\"id\":\"8612\"},\"x_scale\":{\"id\":\"8616\"},\"y_range\":{\"id\":\"8614\"},\"y_scale\":{\"id\":\"8618\"}},\"id\":\"8609\",\"subtype\":\"Figure\",\"type\":\"Plot\"},{\"attributes\":{\"factors\":[\"control\",\"dehydration\"]},\"id\":\"8612\",\"type\":\"FactorRange\"},{\"attributes\":{},\"id\":\"8621\",\"type\":\"CategoricalTicker\"}],\"root_ids\":[\"8651\",\"8720\"]},\"title\":\"Bokeh Application\",\"version\":\"2.4.3\"}};\n",
       "    var render_items = [{\"docid\":\"7a52d45a-6c8a-4466-9731-b96b1b578556\",\"root_ids\":[\"8651\"],\"roots\":{\"8651\":\"0a901b56-9cc5-43b8-8756-1c83df4d470a\"}}];\n",
       "    root.Bokeh.embed.embed_items_notebook(docs_json, render_items);\n",
       "  }\n",
       "  if (root.Bokeh !== undefined && root.Bokeh.Panel !== undefined) {\n",
       "    embed_document(root);\n",
       "  } else {\n",
       "    var attempts = 0;\n",
       "    var timer = setInterval(function(root) {\n",
       "      if (root.Bokeh !== undefined && root.Bokeh.Panel !== undefined) {\n",
       "        clearInterval(timer);\n",
       "        embed_document(root);\n",
       "      } else if (document.readyState == \"complete\") {\n",
       "        attempts++;\n",
       "        if (attempts > 200) {\n",
       "          clearInterval(timer);\n",
       "          console.log(\"Bokeh: ERROR: Unable to run BokehJS code because BokehJS library is missing\");\n",
       "        }\n",
       "      }\n",
       "    }, 25, root)\n",
       "  }\n",
       "})(window);</script>"
      ],
      "text/plain": [
       "Column\n",
       "    [0] Column\n",
       "        [0] Select(name='participant', options=['blue', 'red', ...], value='blue')\n",
       "    [1] Row\n",
       "        [0] Bokeh(Figure, name='interactive02707')"
      ]
     },
     "execution_count": 92,
     "metadata": {
      "application/vnd.holoviews_exec.v0+json": {
       "id": "8651"
      }
     },
     "output_type": "execute_result"
    }
   ],
   "source": [
    "def individual_stroop_box_plot(participant):\n",
    "    \n",
    "    df = stroop_df[stroop_df['participant']==participant]\n",
    "    kinds = df['type'].unique()\n",
    "    \n",
    "    # compute quantiles\n",
    "    qs = df.groupby('type').reaction_time.quantile([0.25, 0.5, 0.75])\n",
    "    qs = qs.unstack().reset_index()\n",
    "    qs.columns = ['type', \"q1\", \"q2\", \"q3\"]\n",
    "    df = pd.merge(df, qs, on='type', how=\"left\")\n",
    "\n",
    "    # compute IQR outlier bounds\n",
    "    iqr = df.q3 - df.q1\n",
    "    df[\"upper\"] = df.q3 + 1.5*iqr\n",
    "    df[\"lower\"] = df.q1 - 1.5*iqr\n",
    "\n",
    "    source = ColumnDataSource(df)\n",
    "\n",
    "    p = figure(x_range=kinds,y_range=[-100,stroop_df['reaction_time'].max() * 1.3],tools=\"\", toolbar_location=None,\n",
    "                title=\"box plot of stroop test \"+participant,\n",
    "               background_fill_color=\"#eaefef\", y_axis_label=\"Reaction time(milliseconds)\")\n",
    "\n",
    "\n",
    "    # outlier range\n",
    "    whisker = Whisker(base='type', upper=\"upper\", lower=\"lower\", source=source)\n",
    "    whisker.upper_head.size = whisker.lower_head.size = 20\n",
    "    p.add_layout(whisker)\n",
    "\n",
    "    # quantile boxes\n",
    "    p.vbar('type', 0.5, \"q2\", \"q3\", color = participant,bottom=0, source=source, line_color=\"black\")\n",
    "    p.vbar('type', 0.5, \"q1\", \"q2\", color=participant, bottom=0, source=source, line_color=\"black\")\n",
    "    \n",
    "    # outliers\n",
    "    outliers = df[~df.reaction_time.between(df.lower, df.upper)]\n",
    "    p.scatter('type', 'reaction_time', source=outliers, size=6, color=\"black\", alpha=0.5)\n",
    "\n",
    "    p.xgrid.grid_line_color = None\n",
    "    p.axis.major_label_text_font_size=\"14px\"\n",
    "    p.axis.axis_label_text_font_size=\"12px\"\n",
    "\n",
    "    return p\n",
    "    \n",
    "#interactive plots\n",
    "participants_color =['blue','red','orange','green','pink']\n",
    "stroop_boxplot = pn.interact(individual_stroop_box_plot, participant = participants_color)\n",
    "stroop_boxplot"
   ]
  },
  {
   "cell_type": "code",
   "execution_count": 93,
   "metadata": {},
   "outputs": [
    {
     "data": {},
     "metadata": {},
     "output_type": "display_data"
    },
    {
     "data": {
      "application/vnd.holoviews_exec.v0+json": "",
      "text/html": [
       "<div id='8826'>\n",
       "  <div class=\"bk-root\" id=\"5ddf0938-0f1a-4a74-ab91-40ac223d65ac\" data-root-id=\"8826\"></div>\n",
       "</div>\n",
       "<script type=\"application/javascript\">(function(root) {\n",
       "  function embed_document(root) {\n",
       "    var docs_json = {\"a3ecdff9-4064-443d-9afd-813b03ce0b1e\":{\"defs\":[{\"extends\":null,\"module\":null,\"name\":\"ReactiveHTML1\",\"overrides\":[],\"properties\":[]},{\"extends\":null,\"module\":null,\"name\":\"FlexBox1\",\"overrides\":[],\"properties\":[{\"default\":\"flex-start\",\"kind\":null,\"name\":\"align_content\"},{\"default\":\"flex-start\",\"kind\":null,\"name\":\"align_items\"},{\"default\":\"row\",\"kind\":null,\"name\":\"flex_direction\"},{\"default\":\"wrap\",\"kind\":null,\"name\":\"flex_wrap\"},{\"default\":\"flex-start\",\"kind\":null,\"name\":\"justify_content\"}]},{\"extends\":null,\"module\":null,\"name\":\"GridStack1\",\"overrides\":[],\"properties\":[{\"default\":\"warn\",\"kind\":null,\"name\":\"mode\"},{\"default\":null,\"kind\":null,\"name\":\"ncols\"},{\"default\":null,\"kind\":null,\"name\":\"nrows\"},{\"default\":true,\"kind\":null,\"name\":\"allow_resize\"},{\"default\":true,\"kind\":null,\"name\":\"allow_drag\"},{\"default\":[],\"kind\":null,\"name\":\"state\"}]},{\"extends\":null,\"module\":null,\"name\":\"click1\",\"overrides\":[],\"properties\":[{\"default\":\"\",\"kind\":null,\"name\":\"terminal_output\"},{\"default\":\"\",\"kind\":null,\"name\":\"debug_name\"},{\"default\":0,\"kind\":null,\"name\":\"clears\"}]},{\"extends\":null,\"module\":null,\"name\":\"NotificationAreaBase1\",\"overrides\":[],\"properties\":[{\"default\":\"bottom-right\",\"kind\":null,\"name\":\"position\"},{\"default\":0,\"kind\":null,\"name\":\"_clear\"}]},{\"extends\":null,\"module\":null,\"name\":\"NotificationArea1\",\"overrides\":[],\"properties\":[{\"default\":[],\"kind\":null,\"name\":\"notifications\"},{\"default\":\"bottom-right\",\"kind\":null,\"name\":\"position\"},{\"default\":0,\"kind\":null,\"name\":\"_clear\"},{\"default\":[{\"background\":\"#ffc107\",\"icon\":{\"className\":\"fas fa-exclamation-triangle\",\"color\":\"white\",\"tagName\":\"i\"},\"type\":\"warning\"},{\"background\":\"#007bff\",\"icon\":{\"className\":\"fas fa-info-circle\",\"color\":\"white\",\"tagName\":\"i\"},\"type\":\"info\"}],\"kind\":null,\"name\":\"types\"}]},{\"extends\":null,\"module\":null,\"name\":\"Notification\",\"overrides\":[],\"properties\":[{\"default\":null,\"kind\":null,\"name\":\"background\"},{\"default\":3000,\"kind\":null,\"name\":\"duration\"},{\"default\":null,\"kind\":null,\"name\":\"icon\"},{\"default\":\"\",\"kind\":null,\"name\":\"message\"},{\"default\":null,\"kind\":null,\"name\":\"notification_type\"},{\"default\":false,\"kind\":null,\"name\":\"_destroyed\"}]},{\"extends\":null,\"module\":null,\"name\":\"TemplateActions1\",\"overrides\":[],\"properties\":[{\"default\":0,\"kind\":null,\"name\":\"open_modal\"},{\"default\":0,\"kind\":null,\"name\":\"close_modal\"}]},{\"extends\":null,\"module\":null,\"name\":\"MaterialTemplateActions1\",\"overrides\":[],\"properties\":[{\"default\":0,\"kind\":null,\"name\":\"open_modal\"},{\"default\":0,\"kind\":null,\"name\":\"close_modal\"}]}],\"roots\":{\"references\":[{\"attributes\":{},\"id\":\"8809\",\"type\":\"ResetTool\"},{\"attributes\":{\"tools\":[{\"id\":\"8805\"},{\"id\":\"8806\"},{\"id\":\"8807\"},{\"id\":\"8808\"},{\"id\":\"8809\"},{\"id\":\"8810\"}]},\"id\":\"8812\",\"type\":\"Toolbar\"},{\"attributes\":{},\"id\":\"8836\",\"type\":\"AllLabels\"},{\"attributes\":{},\"id\":\"8794\",\"type\":\"CategoricalScale\"},{\"attributes\":{\"axis_label\":\"participant, session type\",\"coordinates\":null,\"formatter\":{\"id\":\"8835\"},\"group\":null,\"major_label_orientation\":1,\"major_label_policy\":{\"id\":\"8836\"},\"ticker\":{\"id\":\"8799\"}},\"id\":\"8798\",\"type\":\"CategoricalAxis\"},{\"attributes\":{\"children\":[{\"id\":\"8827\"},{\"id\":\"8829\"}],\"margin\":[0,0,0,0],\"name\":\"Column02717\"},\"id\":\"8826\",\"type\":\"Column\"},{\"attributes\":{},\"id\":\"8799\",\"type\":\"CategoricalTicker\"},{\"attributes\":{\"fill_color\":{\"field\":\"x\",\"transform\":{\"id\":\"8819\"}},\"line_color\":{\"value\":\"white\"},\"top\":{\"field\":\"counts\"},\"x\":{\"field\":\"x\"}},\"id\":\"8821\",\"type\":\"VBar\"},{\"attributes\":{},\"id\":\"8806\",\"type\":\"WheelZoomTool\"},{\"attributes\":{\"data\":{\"counts\":[75,80,75,78,76,71,72,69,76,74],\"x\":[[\"blue\",\"control\"],[\"blue\",\"dehydration\"],[\"green\",\"control\"],[\"green\",\"dehydration\"],[\"red\",\"control\"],[\"red\",\"dehydration\"],[\"pink\",\"control\"],[\"pink\",\"dehydration\"],[\"orange\",\"control\"],[\"orange\",\"dehydration\"]]},\"selected\":{\"id\":\"8838\"},\"selection_policy\":{\"id\":\"8837\"}},\"id\":\"8786\",\"type\":\"ColumnDataSource\"},{\"attributes\":{},\"id\":\"8808\",\"type\":\"SaveTool\"},{\"attributes\":{\"fill_alpha\":{\"value\":0.1},\"fill_color\":{\"field\":\"x\",\"transform\":{\"id\":\"8819\"}},\"hatch_alpha\":{\"value\":0.1},\"line_alpha\":{\"value\":0.1},\"line_color\":{\"value\":\"white\"},\"top\":{\"field\":\"counts\"},\"x\":{\"field\":\"x\"}},\"id\":\"8822\",\"type\":\"VBar\"},{\"attributes\":{},\"id\":\"8835\",\"type\":\"CategoricalTickFormatter\"},{\"attributes\":{\"axis\":{\"id\":\"8801\"},\"coordinates\":null,\"dimension\":1,\"group\":null,\"ticker\":null},\"id\":\"8804\",\"type\":\"Grid\"},{\"attributes\":{\"client_comm_id\":\"67aebfd1980f467091d25d2a669a030f\",\"comm_id\":\"1c2cf9e7529e456b9187745e59c9f823\",\"plot_id\":\"8826\"},\"id\":\"8880\",\"type\":\"panel.models.comm_manager.CommManager\"},{\"attributes\":{\"margin\":[5,10,5,10],\"options\":[\"correct\",\"not correct\",\"not answer\"],\"title\":\"ans\",\"value\":\"correct\"},\"id\":\"8828\",\"type\":\"panel.models.widgets.CustomSelect\"},{\"attributes\":{\"overlay\":{\"id\":\"8811\"}},\"id\":\"8807\",\"type\":\"BoxZoomTool\"},{\"attributes\":{\"children\":[{\"id\":\"8828\"}],\"margin\":[0,0,0,0],\"name\":\"Column02722\"},\"id\":\"8827\",\"type\":\"Column\"},{\"attributes\":{\"bottom_units\":\"screen\",\"coordinates\":null,\"fill_alpha\":0.5,\"fill_color\":\"lightgrey\",\"group\":null,\"left_units\":\"screen\",\"level\":\"overlay\",\"line_alpha\":1.0,\"line_color\":\"black\",\"line_dash\":[4,4],\"line_width\":2,\"right_units\":\"screen\",\"syncable\":false,\"top_units\":\"screen\"},\"id\":\"8811\",\"type\":\"BoxAnnotation\"},{\"attributes\":{},\"id\":\"8796\",\"type\":\"LinearScale\"},{\"attributes\":{},\"id\":\"8838\",\"type\":\"Selection\"},{\"attributes\":{\"axis\":{\"id\":\"8798\"},\"coordinates\":null,\"grid_line_color\":null,\"group\":null,\"ticker\":null},\"id\":\"8800\",\"type\":\"Grid\"},{\"attributes\":{\"factors\":[[\"blue\",\"control\"],[\"blue\",\"dehydration\"],[\"green\",\"control\"],[\"green\",\"dehydration\"],[\"red\",\"control\"],[\"red\",\"dehydration\"],[\"pink\",\"control\"],[\"pink\",\"dehydration\"],[\"orange\",\"control\"],[\"orange\",\"dehydration\"]],\"range_padding\":0.1},\"id\":\"8787\",\"type\":\"FactorRange\"},{\"attributes\":{},\"id\":\"8837\",\"type\":\"UnionRenderers\"},{\"attributes\":{},\"id\":\"8832\",\"type\":\"BasicTickFormatter\"},{\"attributes\":{\"children\":[{\"id\":\"8788\"}],\"margin\":[0,0,0,0],\"name\":\"Row02721\"},\"id\":\"8829\",\"type\":\"Row\"},{\"attributes\":{\"coordinates\":null,\"group\":null,\"text\":\"The number ofcorrectof stroop test\"},\"id\":\"8789\",\"type\":\"Title\"},{\"attributes\":{\"fill_alpha\":{\"value\":0.2},\"fill_color\":{\"field\":\"x\",\"transform\":{\"id\":\"8819\"}},\"hatch_alpha\":{\"value\":0.2},\"line_alpha\":{\"value\":0.2},\"line_color\":{\"value\":\"white\"},\"top\":{\"field\":\"counts\"},\"x\":{\"field\":\"x\"}},\"id\":\"8823\",\"type\":\"VBar\"},{\"attributes\":{\"coordinates\":null,\"data_source\":{\"id\":\"8786\"},\"glyph\":{\"id\":\"8821\"},\"group\":null,\"hover_glyph\":null,\"muted_glyph\":{\"id\":\"8823\"},\"nonselection_glyph\":{\"id\":\"8822\"},\"view\":{\"id\":\"8825\"}},\"id\":\"8824\",\"type\":\"GlyphRenderer\"},{\"attributes\":{},\"id\":\"8802\",\"type\":\"BasicTicker\"},{\"attributes\":{},\"id\":\"8833\",\"type\":\"AllLabels\"},{\"attributes\":{},\"id\":\"8805\",\"type\":\"PanTool\"},{\"attributes\":{\"source\":{\"id\":\"8786\"}},\"id\":\"8825\",\"type\":\"CDSView\"},{\"attributes\":{\"end\":2,\"factors\":[\"control\",\"dehydration\"],\"palette\":[\"skyblue\",\"salmon\"],\"start\":1},\"id\":\"8819\",\"type\":\"CategoricalColorMapper\"},{\"attributes\":{\"below\":[{\"id\":\"8798\"}],\"center\":[{\"id\":\"8800\"},{\"id\":\"8804\"}],\"height\":500,\"left\":[{\"id\":\"8801\"}],\"renderers\":[{\"id\":\"8824\"}],\"title\":{\"id\":\"8789\"},\"toolbar\":{\"id\":\"8812\"},\"toolbar_location\":null,\"width\":900,\"x_range\":{\"id\":\"8787\"},\"x_scale\":{\"id\":\"8794\"},\"y_range\":{\"id\":\"8792\"},\"y_scale\":{\"id\":\"8796\"}},\"id\":\"8788\",\"subtype\":\"Figure\",\"type\":\"Plot\"},{\"attributes\":{},\"id\":\"8810\",\"type\":\"HelpTool\"},{\"attributes\":{\"start\":0},\"id\":\"8792\",\"type\":\"DataRange1d\"},{\"attributes\":{\"axis_label\":\"correct count\",\"coordinates\":null,\"formatter\":{\"id\":\"8832\"},\"group\":null,\"major_label_policy\":{\"id\":\"8833\"},\"ticker\":{\"id\":\"8802\"}},\"id\":\"8801\",\"type\":\"LinearAxis\"}],\"root_ids\":[\"8826\",\"8880\"]},\"title\":\"Bokeh Application\",\"version\":\"2.4.3\"}};\n",
       "    var render_items = [{\"docid\":\"a3ecdff9-4064-443d-9afd-813b03ce0b1e\",\"root_ids\":[\"8826\"],\"roots\":{\"8826\":\"5ddf0938-0f1a-4a74-ab91-40ac223d65ac\"}}];\n",
       "    root.Bokeh.embed.embed_items_notebook(docs_json, render_items);\n",
       "  }\n",
       "  if (root.Bokeh !== undefined && root.Bokeh.Panel !== undefined) {\n",
       "    embed_document(root);\n",
       "  } else {\n",
       "    var attempts = 0;\n",
       "    var timer = setInterval(function(root) {\n",
       "      if (root.Bokeh !== undefined && root.Bokeh.Panel !== undefined) {\n",
       "        clearInterval(timer);\n",
       "        embed_document(root);\n",
       "      } else if (document.readyState == \"complete\") {\n",
       "        attempts++;\n",
       "        if (attempts > 200) {\n",
       "          clearInterval(timer);\n",
       "          console.log(\"Bokeh: ERROR: Unable to run BokehJS code because BokehJS library is missing\");\n",
       "        }\n",
       "      }\n",
       "    }, 25, root)\n",
       "  }\n",
       "})(window);</script>"
      ],
      "text/plain": [
       "Column\n",
       "    [0] Column\n",
       "        [0] Select(name='ans', options=['correct', 'not correct',...], value='correct')\n",
       "    [1] Row\n",
       "        [0] Bokeh(Figure, name='interactive02716')"
      ]
     },
     "execution_count": 93,
     "metadata": {
      "application/vnd.holoviews_exec.v0+json": {
       "id": "8826"
      }
     },
     "output_type": "execute_result"
    }
   ],
   "source": [
    "def status_bar_stroop(ans = 'correct'):\n",
    "    \n",
    "    types = list(stroop_df['type'].unique())\n",
    "    participants = list(stroop_df['participant'].unique())\n",
    "    de_list = []\n",
    "    co_list = []\n",
    "    for participant in participants:\n",
    "        df = stroop_df[stroop_df['participant'] ==participant]\n",
    "        dff = df[df['type'] =='dehydration']\n",
    "        if ans =='correct':\n",
    "            de_list.append(len(dff[dff['status']==1]))\n",
    "            \n",
    "        if ans == 'not correct':\n",
    "            de_list.append(len(dff[dff['status']==2]))\n",
    "            \n",
    "        if ans == 'not answer':\n",
    "            de_list.append(len(dff[dff['status']==3]))\n",
    "            \n",
    "        dff2 = df[df['type'] =='control']\n",
    "        if ans =='correct':\n",
    "            co_list.append(len(dff2[dff2['status']==1]))\n",
    "            \n",
    "        if ans == 'not correct':\n",
    "            co_list.append(len(dff2[dff2['status']==2]))\n",
    "            \n",
    "        if ans == 'not answer':\n",
    "            co_list.append(len(dff2[dff2['status']==3]))\n",
    "    \n",
    "    data = {'participants' : participants,\n",
    "            'control'   : co_list,\n",
    "            'dehydration'   : de_list,\n",
    "            }\n",
    "    data = pd.DataFrame(data)\n",
    "\n",
    "    palette =  [\"skyblue\", \"salmon\"] #colors\n",
    "    x = [ (participant, test) for participant in participants for test in types ]\n",
    "    counts = sum(zip(data['control'], data['dehydration']), ()) # like an hstack\n",
    "\n",
    "    source = ColumnDataSource(data=dict(x=x, counts=counts))\n",
    "    # plot\n",
    "    p = figure(x_range=FactorRange(*x), width=900, height=500, title='The number of' +ans+ 'of stroop test',\n",
    "               toolbar_location=None,y_axis_label= ans+ ' count', x_axis_label=\"participant, session type\")\n",
    "\n",
    "    p.vbar(x='x', top='counts', width=1, source=source, line_color=\"white\",\n",
    "           fill_color=factor_cmap('x', palette=palette, factors=types, start=1, end=2))\n",
    "\n",
    "    p.y_range.start = 0\n",
    "    p.x_range.range_padding = 0.1\n",
    "    p.xaxis.major_label_orientation = 1\n",
    "    p.xgrid.grid_line_color = None\n",
    "    return p\n",
    "\n",
    "answers =['correct','not correct','not answer']\n",
    "stroop_bar_status = pn.interact(status_bar_stroop, ans = answers)\n",
    "stroop_bar_status"
   ]
  },
  {
   "cell_type": "code",
   "execution_count": 94,
   "metadata": {},
   "outputs": [],
   "source": [
    "def total_bar_stroop():\n",
    "\n",
    "    df = stroop_df\n",
    "\n",
    "    #create a list of different session types\n",
    "    types = list(df['type'].unique())\n",
    "    \n",
    "    dff = df.groupby(['participant','type']).mean().reset_index()\n",
    "    \n",
    "    # create a list of participants\n",
    "    participants = list(dff['participant'].unique())\n",
    "\n",
    "    #create two list of reaction time regarding session types\n",
    "    control_mean = list(dff[dff['type'] =='control'].reaction_time)\n",
    "    dehydration_mean = list(dff[dff['type'] =='dehydration'].reaction_time)\n",
    "\n",
    "    #create a dictionary of 3 keys and values and then convert into a dataframe\n",
    "    data = {'participants' : participants,\n",
    "            'control'   : control_mean,\n",
    "            'dehydration'   : dehydration_mean,\n",
    "            }\n",
    "    data = pd.DataFrame(data)\n",
    "\n",
    "    palette =  [\"skyblue\", \"salmon\"] #colors\n",
    "\n",
    "    # create a list like:\n",
    "    # [ (\"blue\", \"control\"), (\"Ablue\", \"dehydration\"), (\"red\", \"control\"), (\"red\", \"dehydration\"), ... ]\n",
    "    x = [ (participant, test) for participant in participants for test in types ]\n",
    "    counts = sum(zip(data['control'], data['dehydration']), ()) # like an hstack\n",
    "\n",
    "    source = ColumnDataSource(data=dict(x=x, counts=counts))\n",
    "    # plot\n",
    "    p = figure(x_range=FactorRange(*x), y_range=[0, data['dehydration'].max()+200], width=900, height=500, \n",
    "                title='Average of reaction time stroop test',\n",
    "                toolbar_location=None,y_axis_label=\"Reaction time(milliseconds)\",\n",
    "                x_axis_label=\"participant, session type\")\n",
    "\n",
    "    p.vbar(x='x', top='counts', width=1, source=source, line_color=\"white\",\n",
    "           fill_color=factor_cmap('x', palette=palette, factors=types, start=1, end=2))\n",
    "\n",
    "    p.y_range.start = 0\n",
    "    p.x_range.range_padding = 0.1\n",
    "    p.xaxis.major_label_orientation = 1\n",
    "    p.xgrid.grid_line_color = None\n",
    "\n",
    "    return p"
   ]
  },
  {
   "cell_type": "markdown",
   "metadata": {},
   "source": [
    "#### Stroop error bar"
   ]
  },
  {
   "cell_type": "code",
   "execution_count": 95,
   "metadata": {},
   "outputs": [
    {
     "data": {
      "text/html": [
       "\n",
       "  <div class=\"bk-root\" id=\"4195b215-aec3-45c9-b475-87d85fa89bf1\" data-root-id=\"8933\"></div>\n"
      ]
     },
     "metadata": {},
     "output_type": "display_data"
    },
    {
     "data": {
      "application/javascript": "(function(root) {\n  function embed_document(root) {\n  const docs_json = {\"1e93ecd1-6f7f-4d84-99b3-1f7d6feb1f62\":{\"defs\":[{\"extends\":null,\"module\":null,\"name\":\"ReactiveHTML1\",\"overrides\":[],\"properties\":[]},{\"extends\":null,\"module\":null,\"name\":\"FlexBox1\",\"overrides\":[],\"properties\":[{\"default\":\"flex-start\",\"kind\":null,\"name\":\"align_content\"},{\"default\":\"flex-start\",\"kind\":null,\"name\":\"align_items\"},{\"default\":\"row\",\"kind\":null,\"name\":\"flex_direction\"},{\"default\":\"wrap\",\"kind\":null,\"name\":\"flex_wrap\"},{\"default\":\"flex-start\",\"kind\":null,\"name\":\"justify_content\"}]},{\"extends\":null,\"module\":null,\"name\":\"GridStack1\",\"overrides\":[],\"properties\":[{\"default\":\"warn\",\"kind\":null,\"name\":\"mode\"},{\"default\":null,\"kind\":null,\"name\":\"ncols\"},{\"default\":null,\"kind\":null,\"name\":\"nrows\"},{\"default\":true,\"kind\":null,\"name\":\"allow_resize\"},{\"default\":true,\"kind\":null,\"name\":\"allow_drag\"},{\"default\":[],\"kind\":null,\"name\":\"state\"}]},{\"extends\":null,\"module\":null,\"name\":\"click1\",\"overrides\":[],\"properties\":[{\"default\":\"\",\"kind\":null,\"name\":\"terminal_output\"},{\"default\":\"\",\"kind\":null,\"name\":\"debug_name\"},{\"default\":0,\"kind\":null,\"name\":\"clears\"}]},{\"extends\":null,\"module\":null,\"name\":\"NotificationAreaBase1\",\"overrides\":[],\"properties\":[{\"default\":\"bottom-right\",\"kind\":null,\"name\":\"position\"},{\"default\":0,\"kind\":null,\"name\":\"_clear\"}]},{\"extends\":null,\"module\":null,\"name\":\"NotificationArea1\",\"overrides\":[],\"properties\":[{\"default\":[],\"kind\":null,\"name\":\"notifications\"},{\"default\":\"bottom-right\",\"kind\":null,\"name\":\"position\"},{\"default\":0,\"kind\":null,\"name\":\"_clear\"},{\"default\":[{\"background\":\"#ffc107\",\"icon\":{\"className\":\"fas fa-exclamation-triangle\",\"color\":\"white\",\"tagName\":\"i\"},\"type\":\"warning\"},{\"background\":\"#007bff\",\"icon\":{\"className\":\"fas fa-info-circle\",\"color\":\"white\",\"tagName\":\"i\"},\"type\":\"info\"}],\"kind\":null,\"name\":\"types\"}]},{\"extends\":null,\"module\":null,\"name\":\"Notification\",\"overrides\":[],\"properties\":[{\"default\":null,\"kind\":null,\"name\":\"background\"},{\"default\":3000,\"kind\":null,\"name\":\"duration\"},{\"default\":null,\"kind\":null,\"name\":\"icon\"},{\"default\":\"\",\"kind\":null,\"name\":\"message\"},{\"default\":null,\"kind\":null,\"name\":\"notification_type\"},{\"default\":false,\"kind\":null,\"name\":\"_destroyed\"}]},{\"extends\":null,\"module\":null,\"name\":\"TemplateActions1\",\"overrides\":[],\"properties\":[{\"default\":0,\"kind\":null,\"name\":\"open_modal\"},{\"default\":0,\"kind\":null,\"name\":\"close_modal\"}]},{\"extends\":null,\"module\":null,\"name\":\"MaterialTemplateActions1\",\"overrides\":[],\"properties\":[{\"default\":0,\"kind\":null,\"name\":\"open_modal\"},{\"default\":0,\"kind\":null,\"name\":\"close_modal\"}]}],\"roots\":{\"references\":[{\"attributes\":{\"below\":[{\"id\":\"8943\"}],\"center\":[{\"id\":\"8945\"},{\"id\":\"8949\"},{\"id\":\"8972\"}],\"height\":500,\"left\":[{\"id\":\"8946\"}],\"renderers\":[{\"id\":\"8969\"}],\"title\":{\"id\":\"8934\"},\"toolbar\":{\"id\":\"8957\"},\"toolbar_location\":null,\"width\":900,\"x_range\":{\"id\":\"8932\"},\"x_scale\":{\"id\":\"8939\"},\"y_range\":{\"id\":\"8937\"},\"y_scale\":{\"id\":\"8941\"}},\"id\":\"8933\",\"subtype\":\"Figure\",\"type\":\"Plot\"},{\"attributes\":{},\"id\":\"9133\",\"type\":\"UnionRenderers\"},{\"attributes\":{},\"id\":\"8954\",\"type\":\"ResetTool\"},{\"attributes\":{\"overlay\":{\"id\":\"8956\"}},\"id\":\"8952\",\"type\":\"BoxZoomTool\"},{\"attributes\":{\"coordinates\":null,\"data_source\":{\"id\":\"8931\"},\"glyph\":{\"id\":\"8966\"},\"group\":null,\"hover_glyph\":null,\"muted_glyph\":{\"id\":\"8968\"},\"nonselection_glyph\":{\"id\":\"8967\"},\"view\":{\"id\":\"8970\"}},\"id\":\"8969\",\"type\":\"GlyphRenderer\"},{\"attributes\":{\"base\":{\"field\":\"x\"},\"coordinates\":null,\"group\":null,\"level\":\"overlay\",\"line_color\":{\"value\":\"purple\"},\"lower\":{\"field\":\"lower\"},\"lower_head\":{\"id\":\"8975\"},\"source\":{\"id\":\"8971\"},\"upper\":{\"field\":\"upper\"},\"upper_head\":{\"id\":\"8974\"}},\"id\":\"8972\",\"type\":\"Whisker\"},{\"attributes\":{},\"id\":\"9126\",\"type\":\"BasicTickFormatter\"},{\"attributes\":{\"end\":1499.6125},\"id\":\"8937\",\"type\":\"Range1d\"},{\"attributes\":{},\"id\":\"8953\",\"type\":\"SaveTool\"},{\"attributes\":{\"coordinates\":null,\"group\":null,\"text\":\"Average of reaction time stroop test\"},\"id\":\"8934\",\"type\":\"Title\"},{\"attributes\":{\"line_color\":{\"value\":\"purple\"},\"size\":{\"value\":20}},\"id\":\"8974\",\"type\":\"TeeHead\"},{\"attributes\":{\"bottom_units\":\"screen\",\"coordinates\":null,\"fill_alpha\":0.5,\"fill_color\":\"lightgrey\",\"group\":null,\"left_units\":\"screen\",\"level\":\"overlay\",\"line_alpha\":1.0,\"line_color\":\"black\",\"line_dash\":[4,4],\"line_width\":2,\"right_units\":\"screen\",\"syncable\":false,\"top_units\":\"screen\"},\"id\":\"8956\",\"type\":\"BoxAnnotation\"},{\"attributes\":{\"tools\":[{\"id\":\"8950\"},{\"id\":\"8951\"},{\"id\":\"8952\"},{\"id\":\"8953\"},{\"id\":\"8954\"},{\"id\":\"8955\"}]},\"id\":\"8957\",\"type\":\"Toolbar\"},{\"attributes\":{\"data\":{\"counts\":[875.9,781.1125,1010.1375,983.1625,754.325,750.7625,761.5875,709.075,1154.125,1299.6125],\"x\":[[\"blue\",\"control\"],[\"blue\",\"dehydration\"],[\"green\",\"control\"],[\"green\",\"dehydration\"],[\"orange\",\"control\"],[\"orange\",\"dehydration\"],[\"pink\",\"control\"],[\"pink\",\"dehydration\"],[\"red\",\"control\"],[\"red\",\"dehydration\"]]},\"selected\":{\"id\":\"9134\"},\"selection_policy\":{\"id\":\"9133\"}},\"id\":\"8931\",\"type\":\"ColumnDataSource\"},{\"attributes\":{},\"id\":\"9127\",\"type\":\"AllLabels\"},{\"attributes\":{\"axis\":{\"id\":\"8943\"},\"coordinates\":null,\"grid_line_color\":null,\"group\":null,\"ticker\":null},\"id\":\"8945\",\"type\":\"Grid\"},{\"attributes\":{},\"id\":\"9136\",\"type\":\"UnionRenderers\"},{\"attributes\":{},\"id\":\"8939\",\"type\":\"CategoricalScale\"},{\"attributes\":{\"axis_label\":\"participant, session type\",\"coordinates\":null,\"formatter\":{\"id\":\"9129\"},\"group\":null,\"major_label_orientation\":1,\"major_label_policy\":{\"id\":\"9130\"},\"ticker\":{\"id\":\"8944\"}},\"id\":\"8943\",\"type\":\"CategoricalAxis\"},{\"attributes\":{},\"id\":\"8947\",\"type\":\"BasicTicker\"},{\"attributes\":{\"end\":2,\"factors\":[\"control\",\"dehydration\"],\"palette\":[\"skyblue\",\"salmon\"],\"start\":1},\"id\":\"8964\",\"type\":\"CategoricalColorMapper\"},{\"attributes\":{\"data\":{\"lower\":[805.5352829979057,732.3616565746768,942.7667190377373,919.049401172714,715.256796250789,698.7996698267206,704.8460699742778,660.0490582658115,1092.4454661423358,1230.6722709716753],\"upper\":[946.2647170020942,829.8633434253231,1077.508280962263,1047.275598827286,793.3932037492111,802.7253301732795,818.3289300257221,758.1009417341886,1215.8045338576642,1368.5527290283246],\"x\":[[\"blue\",\"control\"],[\"blue\",\"dehydration\"],[\"green\",\"control\"],[\"green\",\"dehydration\"],[\"orange\",\"control\"],[\"orange\",\"dehydration\"],[\"pink\",\"control\"],[\"pink\",\"dehydration\"],[\"red\",\"control\"],[\"red\",\"dehydration\"]]},\"selected\":{\"id\":\"9137\"},\"selection_policy\":{\"id\":\"9136\"}},\"id\":\"8971\",\"type\":\"ColumnDataSource\"},{\"attributes\":{},\"id\":\"8944\",\"type\":\"CategoricalTicker\"},{\"attributes\":{},\"id\":\"9137\",\"type\":\"Selection\"},{\"attributes\":{\"factors\":[[\"blue\",\"control\"],[\"blue\",\"dehydration\"],[\"green\",\"control\"],[\"green\",\"dehydration\"],[\"orange\",\"control\"],[\"orange\",\"dehydration\"],[\"pink\",\"control\"],[\"pink\",\"dehydration\"],[\"red\",\"control\"],[\"red\",\"dehydration\"]],\"range_padding\":0.1},\"id\":\"8932\",\"type\":\"FactorRange\"},{\"attributes\":{\"fill_alpha\":{\"value\":0.1},\"fill_color\":{\"field\":\"x\",\"transform\":{\"id\":\"8964\"}},\"hatch_alpha\":{\"value\":0.1},\"line_alpha\":{\"value\":0.1},\"line_color\":{\"value\":\"white\"},\"top\":{\"field\":\"counts\"},\"x\":{\"field\":\"x\"}},\"id\":\"8967\",\"type\":\"VBar\"},{\"attributes\":{},\"id\":\"9129\",\"type\":\"CategoricalTickFormatter\"},{\"attributes\":{},\"id\":\"8941\",\"type\":\"LinearScale\"},{\"attributes\":{\"axis\":{\"id\":\"8946\"},\"coordinates\":null,\"dimension\":1,\"group\":null,\"ticker\":null},\"id\":\"8949\",\"type\":\"Grid\"},{\"attributes\":{},\"id\":\"8950\",\"type\":\"PanTool\"},{\"attributes\":{\"axis_label\":\"Reaction time(milliseconds)\",\"coordinates\":null,\"formatter\":{\"id\":\"9126\"},\"group\":null,\"major_label_policy\":{\"id\":\"9127\"},\"ticker\":{\"id\":\"8947\"}},\"id\":\"8946\",\"type\":\"LinearAxis\"},{\"attributes\":{\"fill_color\":{\"field\":\"x\",\"transform\":{\"id\":\"8964\"}},\"line_color\":{\"value\":\"white\"},\"top\":{\"field\":\"counts\"},\"x\":{\"field\":\"x\"}},\"id\":\"8966\",\"type\":\"VBar\"},{\"attributes\":{},\"id\":\"8951\",\"type\":\"WheelZoomTool\"},{\"attributes\":{},\"id\":\"8955\",\"type\":\"HelpTool\"},{\"attributes\":{},\"id\":\"9130\",\"type\":\"AllLabels\"},{\"attributes\":{\"line_color\":{\"value\":\"purple\"},\"size\":{\"value\":20}},\"id\":\"8975\",\"type\":\"TeeHead\"},{\"attributes\":{},\"id\":\"9134\",\"type\":\"Selection\"},{\"attributes\":{\"fill_alpha\":{\"value\":0.2},\"fill_color\":{\"field\":\"x\",\"transform\":{\"id\":\"8964\"}},\"hatch_alpha\":{\"value\":0.2},\"line_alpha\":{\"value\":0.2},\"line_color\":{\"value\":\"white\"},\"top\":{\"field\":\"counts\"},\"x\":{\"field\":\"x\"}},\"id\":\"8968\",\"type\":\"VBar\"},{\"attributes\":{\"source\":{\"id\":\"8931\"}},\"id\":\"8970\",\"type\":\"CDSView\"}],\"root_ids\":[\"8933\"]},\"title\":\"Bokeh Application\",\"version\":\"2.4.3\"}};\n  const render_items = [{\"docid\":\"1e93ecd1-6f7f-4d84-99b3-1f7d6feb1f62\",\"root_ids\":[\"8933\"],\"roots\":{\"8933\":\"4195b215-aec3-45c9-b475-87d85fa89bf1\"}}];\n  root.Bokeh.embed.embed_items_notebook(docs_json, render_items);\n  }\n  if (root.Bokeh !== undefined) {\n    embed_document(root);\n  } else {\n    let attempts = 0;\n    const timer = setInterval(function(root) {\n      if (root.Bokeh !== undefined) {\n        clearInterval(timer);\n        embed_document(root);\n      } else {\n        attempts++;\n        if (attempts > 100) {\n          clearInterval(timer);\n          console.log(\"Bokeh: ERROR: Unable to run BokehJS code because BokehJS library is missing\");\n        }\n      }\n    }, 10, root)\n  }\n})(window);",
      "application/vnd.bokehjs_exec.v0+json": ""
     },
     "metadata": {
      "application/vnd.bokehjs_exec.v0+json": {
       "id": "8933"
      }
     },
     "output_type": "display_data"
    }
   ],
   "source": [
    "def calculate_standard_error(stroop_df):\n",
    "    \n",
    "    df_mean = stroop_df.groupby(by=[\"participant\", \"type\"]).agg(mean=(\"reaction_time\", \"mean\"))\n",
    "    df_se = stroop_df.groupby(by=[\"participant\", \"type\"]).agg(se=(\"reaction_time\", \"sem\"))\n",
    "    upper = df_mean[\"mean\"] + 1.96 * df_se[\"se\"]\n",
    "    lower = df_mean[\"mean\"] - 1.96 * df_se[\"se\"]\n",
    "    data = pd.concat([upper.rename(\"upper\"), lower.rename(\"lower\")], axis=1)\n",
    "    return data\n",
    "\n",
    "\n",
    "\n",
    "def plot_standard_error(plot, data):\n",
    "    x = list(data.index.values)\n",
    "    data_map = {\n",
    "        'x': x,\n",
    "        'upper': data[\"upper\"].tolist(),\n",
    "        'lower': data[\"lower\"].tolist()\n",
    "\n",
    "        }\n",
    "    source = ColumnDataSource(data=data_map)\n",
    "\n",
    "    w = Whisker(source=source, base=\"x\", upper=\"upper\", lower=\"lower\", \n",
    "            line_color='purple', level=\"overlay\")\n",
    "    w.upper_head.line_color = 'purple'\n",
    "    w.lower_head.line_color = 'purple'\n",
    "    w.upper_head.size = w.lower_head.size = 20\n",
    "    plot.add_layout(w)\n",
    "    return plot\n",
    "\n",
    "def stroop_plot_error_bar():\n",
    "    data_se = calculate_standard_error(stroop_df)\n",
    "    p = total_bar_stroop()\n",
    "    p = plot_standard_error(p, data_se)\n",
    "    return p\n",
    "\n",
    "stroop_barplot = stroop_plot_error_bar()\n",
    "show(stroop_barplot)"
   ]
  },
  {
   "cell_type": "code",
   "execution_count": 96,
   "metadata": {},
   "outputs": [
    {
     "data": {
      "text/html": [
       "\n",
       "  <div class=\"bk-root\" id=\"fbdd5dcb-0147-433d-b67b-39bda2728119\" data-root-id=\"9209\"></div>\n"
      ]
     },
     "metadata": {},
     "output_type": "display_data"
    },
    {
     "data": {
      "application/javascript": "(function(root) {\n  function embed_document(root) {\n  const docs_json = {\"d06717c2-ee65-4053-849c-809aec2e424d\":{\"defs\":[{\"extends\":null,\"module\":null,\"name\":\"ReactiveHTML1\",\"overrides\":[],\"properties\":[]},{\"extends\":null,\"module\":null,\"name\":\"FlexBox1\",\"overrides\":[],\"properties\":[{\"default\":\"flex-start\",\"kind\":null,\"name\":\"align_content\"},{\"default\":\"flex-start\",\"kind\":null,\"name\":\"align_items\"},{\"default\":\"row\",\"kind\":null,\"name\":\"flex_direction\"},{\"default\":\"wrap\",\"kind\":null,\"name\":\"flex_wrap\"},{\"default\":\"flex-start\",\"kind\":null,\"name\":\"justify_content\"}]},{\"extends\":null,\"module\":null,\"name\":\"GridStack1\",\"overrides\":[],\"properties\":[{\"default\":\"warn\",\"kind\":null,\"name\":\"mode\"},{\"default\":null,\"kind\":null,\"name\":\"ncols\"},{\"default\":null,\"kind\":null,\"name\":\"nrows\"},{\"default\":true,\"kind\":null,\"name\":\"allow_resize\"},{\"default\":true,\"kind\":null,\"name\":\"allow_drag\"},{\"default\":[],\"kind\":null,\"name\":\"state\"}]},{\"extends\":null,\"module\":null,\"name\":\"click1\",\"overrides\":[],\"properties\":[{\"default\":\"\",\"kind\":null,\"name\":\"terminal_output\"},{\"default\":\"\",\"kind\":null,\"name\":\"debug_name\"},{\"default\":0,\"kind\":null,\"name\":\"clears\"}]},{\"extends\":null,\"module\":null,\"name\":\"NotificationAreaBase1\",\"overrides\":[],\"properties\":[{\"default\":\"bottom-right\",\"kind\":null,\"name\":\"position\"},{\"default\":0,\"kind\":null,\"name\":\"_clear\"}]},{\"extends\":null,\"module\":null,\"name\":\"NotificationArea1\",\"overrides\":[],\"properties\":[{\"default\":[],\"kind\":null,\"name\":\"notifications\"},{\"default\":\"bottom-right\",\"kind\":null,\"name\":\"position\"},{\"default\":0,\"kind\":null,\"name\":\"_clear\"},{\"default\":[{\"background\":\"#ffc107\",\"icon\":{\"className\":\"fas fa-exclamation-triangle\",\"color\":\"white\",\"tagName\":\"i\"},\"type\":\"warning\"},{\"background\":\"#007bff\",\"icon\":{\"className\":\"fas fa-info-circle\",\"color\":\"white\",\"tagName\":\"i\"},\"type\":\"info\"}],\"kind\":null,\"name\":\"types\"}]},{\"extends\":null,\"module\":null,\"name\":\"Notification\",\"overrides\":[],\"properties\":[{\"default\":null,\"kind\":null,\"name\":\"background\"},{\"default\":3000,\"kind\":null,\"name\":\"duration\"},{\"default\":null,\"kind\":null,\"name\":\"icon\"},{\"default\":\"\",\"kind\":null,\"name\":\"message\"},{\"default\":null,\"kind\":null,\"name\":\"notification_type\"},{\"default\":false,\"kind\":null,\"name\":\"_destroyed\"}]},{\"extends\":null,\"module\":null,\"name\":\"TemplateActions1\",\"overrides\":[],\"properties\":[{\"default\":0,\"kind\":null,\"name\":\"open_modal\"},{\"default\":0,\"kind\":null,\"name\":\"close_modal\"}]},{\"extends\":null,\"module\":null,\"name\":\"MaterialTemplateActions1\",\"overrides\":[],\"properties\":[{\"default\":0,\"kind\":null,\"name\":\"open_modal\"},{\"default\":0,\"kind\":null,\"name\":\"close_modal\"}]}],\"roots\":{\"references\":[{\"attributes\":{\"below\":[{\"id\":\"9220\"}],\"center\":[{\"id\":\"9222\"},{\"id\":\"9226\"},{\"id\":\"9234\"}],\"height\":500,\"left\":[{\"id\":\"9223\"}],\"renderers\":[{\"id\":\"9232\"}],\"title\":{\"id\":\"9210\"},\"toolbar\":{\"id\":\"9227\"},\"toolbar_location\":null,\"width\":900,\"x_range\":{\"id\":\"9212\"},\"x_scale\":{\"id\":\"9216\"},\"y_range\":{\"id\":\"9214\"},\"y_scale\":{\"id\":\"9218\"}},\"id\":\"9209\",\"subtype\":\"Figure\",\"type\":\"Plot\"},{\"attributes\":{},\"id\":\"9404\",\"type\":\"AllLabels\"},{\"attributes\":{},\"id\":\"9401\",\"type\":\"AllLabels\"},{\"attributes\":{\"data\":{\"SE\":{\"__ndarray__\":\"7xLmLz/zQUBe/YgEdd84QAWJ7na5L0FA5JKDVvpaQEAsIOopye4zQNd3z137gjpAIvRUJCDzPEBmhSloYwM5QC8EqzUaeD9A1aTpEjiWQUA=\",\"dtype\":\"float64\",\"order\":\"little\",\"shape\":[10]},\"index\":[0,1,2,3,4,5,6,7,8,9],\"lower\":{\"__ndarray__\":\"4dBzQkgsiUD2xDOs5OKGQGtClz0ido1AhylxLGW4jED+VjHrDVqGQOdKS7ll1oVANa1VwMQGhkAS+qh4ZKCEQDvDRijIEZFAlTXNZ7A6k0A=\",\"dtype\":\"float64\",\"order\":\"little\",\"shape\":[10]},\"participants_type\":[\"blue control\",\"blue dehydration\",\"green control\",\"green dehydration\",\"orange control\",\"orange dehydration\",\"pink control\",\"pink dehydration\",\"red control\",\"red dehydration\"],\"required_mean\":{\"__ndarray__\":\"MzMzMzNfi0BmZmZm5miIQJqZmZkZkY9AzczMzEy5jkCamZmZmZKHQJqZmZkZdodAMzMzM7PMh0CamZmZmSiGQAAAAACACJJAMzMzM3NOlEA=\",\"dtype\":\"float64\",\"order\":\"little\",\"shape\":[10]},\"upper\":{\"__ndarray__\":\"hZXyIx6SjUDWB5kg6O6JQGX4zXoI1pBACjiUNhpdkEA23AFIJcuIQE3o53nNFYlAMbkQpqGSiUAiOYq6zrCHQMU8udc3/5JA0TCZ/jVilUA=\",\"dtype\":\"float64\",\"order\":\"little\",\"shape\":[10]}},\"selected\":{\"id\":\"9408\"},\"selection_policy\":{\"id\":\"9407\"}},\"id\":\"9208\",\"type\":\"ColumnDataSource\"},{\"attributes\":{\"fill_alpha\":{\"value\":0.2},\"fill_color\":{\"value\":\"blue\"},\"hatch_alpha\":{\"value\":0.2},\"hatch_color\":{\"value\":\"blue\"},\"line_alpha\":{\"value\":0.2},\"line_color\":{\"value\":\"blue\"},\"line_width\":{\"value\":0.9},\"x\":{\"field\":\"participants_type\"},\"y\":{\"field\":\"required_mean\"}},\"id\":\"9231\",\"type\":\"Circle\"},{\"attributes\":{\"size\":{\"value\":20}},\"id\":\"9237\",\"type\":\"TeeHead\"},{\"attributes\":{},\"id\":\"9407\",\"type\":\"UnionRenderers\"},{\"attributes\":{},\"id\":\"9221\",\"type\":\"CategoricalTicker\"},{\"attributes\":{},\"id\":\"9400\",\"type\":\"BasicTickFormatter\"},{\"attributes\":{\"fill_color\":{\"value\":\"blue\"},\"hatch_color\":{\"value\":\"blue\"},\"line_color\":{\"value\":\"blue\"},\"line_width\":{\"value\":0.9},\"x\":{\"field\":\"participants_type\"},\"y\":{\"field\":\"required_mean\"}},\"id\":\"9229\",\"type\":\"Circle\"},{\"attributes\":{\"axis\":{\"id\":\"9223\"},\"coordinates\":null,\"dimension\":1,\"group\":null,\"ticker\":null},\"id\":\"9226\",\"type\":\"Grid\"},{\"attributes\":{},\"id\":\"9403\",\"type\":\"CategoricalTickFormatter\"},{\"attributes\":{\"factors\":[\"blue control\",\"blue dehydration\",\"green control\",\"green dehydration\",\"orange control\",\"orange dehydration\",\"pink control\",\"pink dehydration\",\"red control\",\"red dehydration\"]},\"id\":\"9212\",\"type\":\"FactorRange\"},{\"attributes\":{},\"id\":\"9216\",\"type\":\"CategoricalScale\"},{\"attributes\":{\"coordinates\":null,\"formatter\":{\"id\":\"9400\"},\"group\":null,\"major_label_policy\":{\"id\":\"9401\"},\"ticker\":{\"id\":\"9224\"}},\"id\":\"9223\",\"type\":\"LinearAxis\"},{\"attributes\":{\"end\":1468.5527290283246,\"start\":560.0490582658115},\"id\":\"9214\",\"type\":\"Range1d\"},{\"attributes\":{},\"id\":\"9224\",\"type\":\"BasicTicker\"},{\"attributes\":{\"axis\":{\"id\":\"9220\"},\"coordinates\":null,\"group\":null,\"ticker\":null},\"id\":\"9222\",\"type\":\"Grid\"},{\"attributes\":{\"size\":{\"value\":20}},\"id\":\"9236\",\"type\":\"TeeHead\"},{\"attributes\":{},\"id\":\"9218\",\"type\":\"LinearScale\"},{\"attributes\":{\"coordinates\":null,\"formatter\":{\"id\":\"9403\"},\"group\":null,\"major_label_policy\":{\"id\":\"9404\"},\"ticker\":{\"id\":\"9221\"}},\"id\":\"9220\",\"type\":\"CategoricalAxis\"},{\"attributes\":{\"coordinates\":null,\"group\":null,\"text\":\"Error bar stroop_test\"},\"id\":\"9210\",\"type\":\"Title\"},{\"attributes\":{\"base\":{\"field\":\"participants_type\"},\"coordinates\":null,\"group\":null,\"lower\":{\"field\":\"lower\"},\"lower_head\":{\"id\":\"9237\"},\"source\":{\"id\":\"9208\"},\"upper\":{\"field\":\"upper\"},\"upper_head\":{\"id\":\"9236\"}},\"id\":\"9234\",\"type\":\"Whisker\"},{\"attributes\":{\"fill_alpha\":{\"value\":0.1},\"fill_color\":{\"value\":\"blue\"},\"hatch_alpha\":{\"value\":0.1},\"hatch_color\":{\"value\":\"blue\"},\"line_alpha\":{\"value\":0.1},\"line_color\":{\"value\":\"blue\"},\"line_width\":{\"value\":0.9},\"x\":{\"field\":\"participants_type\"},\"y\":{\"field\":\"required_mean\"}},\"id\":\"9230\",\"type\":\"Circle\"},{\"attributes\":{},\"id\":\"9408\",\"type\":\"Selection\"},{\"attributes\":{\"source\":{\"id\":\"9208\"}},\"id\":\"9233\",\"type\":\"CDSView\"},{\"attributes\":{\"coordinates\":null,\"data_source\":{\"id\":\"9208\"},\"glyph\":{\"id\":\"9229\"},\"group\":null,\"hover_glyph\":null,\"muted_glyph\":{\"id\":\"9231\"},\"nonselection_glyph\":{\"id\":\"9230\"},\"view\":{\"id\":\"9233\"}},\"id\":\"9232\",\"type\":\"GlyphRenderer\"},{\"attributes\":{},\"id\":\"9227\",\"type\":\"Toolbar\"}],\"root_ids\":[\"9209\"]},\"title\":\"Bokeh Application\",\"version\":\"2.4.3\"}};\n  const render_items = [{\"docid\":\"d06717c2-ee65-4053-849c-809aec2e424d\",\"root_ids\":[\"9209\"],\"roots\":{\"9209\":\"fbdd5dcb-0147-433d-b67b-39bda2728119\"}}];\n  root.Bokeh.embed.embed_items_notebook(docs_json, render_items);\n  }\n  if (root.Bokeh !== undefined) {\n    embed_document(root);\n  } else {\n    let attempts = 0;\n    const timer = setInterval(function(root) {\n      if (root.Bokeh !== undefined) {\n        clearInterval(timer);\n        embed_document(root);\n      } else {\n        attempts++;\n        if (attempts > 100) {\n          clearInterval(timer);\n          console.log(\"Bokeh: ERROR: Unable to run BokehJS code because BokehJS library is missing\");\n        }\n      }\n    }, 10, root)\n  }\n})(window);",
      "application/vnd.bokehjs_exec.v0+json": ""
     },
     "metadata": {
      "application/vnd.bokehjs_exec.v0+json": {
       "id": "9209"
      }
     },
     "output_type": "display_data"
    }
   ],
   "source": [
    "def error_bar(df = stroop_df, required = 'reaction_time',test_name = 'stroop_test'):\n",
    "    \n",
    "    #create new column containing participant and the type of test\n",
    "    df['participant_type'] = df['participant']+' '+df['type']\n",
    "\n",
    "    # calculate SE\n",
    "    dff = df.groupby('participant_type').mean().reset_index()\n",
    "    std = df.groupby('participant_type').std().reset_index()\n",
    "    n = df.groupby('participant_type').count().reset_index()\n",
    "\n",
    "    name_list = list(dff['participant_type'])\n",
    "    mean_list = list(dff[required])\n",
    "    std_list = list(std[required])\n",
    "    n_list = list(n[required])\n",
    "    se_list = std_list/np.sqrt(n_list)\n",
    "\n",
    "    #calculate upper and lower\n",
    "    upper = mean_list + se_list*1.96\n",
    "    lower = mean_list - se_list*1.96\n",
    "    \n",
    "    # create new dataframe\n",
    "    data = {'participants_type' : name_list,\n",
    "            'required_mean' : mean_list,\n",
    "            'SE' : se_list,\n",
    "            'upper' : upper,\n",
    "            'lower' : lower,\n",
    "            }\n",
    "    data = pd.DataFrame(data)\n",
    "\n",
    "    source = ColumnDataSource(data)\n",
    "\n",
    "    # plot\n",
    "\n",
    "    p = figure(x_range= name_list, y_range = [data['lower'].min()-100,data['upper'].max()+100],  width=900, \n",
    "               height=500, title=\"Error bar \"+ test_name, toolbar_location=None, tools=\"\")\n",
    "\n",
    "    p.circle(x='participants_type', y= 'required_mean', width=0.9, color='blue', source=source)\n",
    "\n",
    "    whisker = Whisker(base='participants_type', upper=\"upper\", lower=\"lower\", source=source)\n",
    "    whisker.upper_head.size = whisker.lower_head.size = 20\n",
    "    p.add_layout(whisker)\n",
    "    return p\n",
    "\n",
    "show(error_bar(df = stroop_df, required = 'reaction_time',test_name = 'stroop_test'))\n"
   ]
  },
  {
   "cell_type": "markdown",
   "metadata": {},
   "source": [
    "### Stop Signal Analysis"
   ]
  },
  {
   "cell_type": "code",
   "execution_count": 97,
   "metadata": {},
   "outputs": [
    {
     "data": {
      "text/html": [
       "<div>\n",
       "<style scoped>\n",
       "    .dataframe tbody tr th:only-of-type {\n",
       "        vertical-align: middle;\n",
       "    }\n",
       "\n",
       "    .dataframe tbody tr th {\n",
       "        vertical-align: top;\n",
       "    }\n",
       "\n",
       "    .dataframe thead th {\n",
       "        text-align: right;\n",
       "    }\n",
       "</style>\n",
       "<table border=\"1\" class=\"dataframe\">\n",
       "  <thead>\n",
       "    <tr style=\"text-align: right;\">\n",
       "      <th></th>\n",
       "      <th>Meaning</th>\n",
       "    </tr>\n",
       "    <tr>\n",
       "      <th>Column</th>\n",
       "      <th></th>\n",
       "    </tr>\n",
       "  </thead>\n",
       "  <tbody>\n",
       "    <tr>\n",
       "      <th>0</th>\n",
       "      <td>trial type (go or nogo)</td>\n",
       "    </tr>\n",
       "    <tr>\n",
       "      <th>1</th>\n",
       "      <td>required response (left or right)</td>\n",
       "    </tr>\n",
       "    <tr>\n",
       "      <th>2</th>\n",
       "      <td>when the stop signal is shown (or 0 if not)</td>\n",
       "    </tr>\n",
       "    <tr>\n",
       "      <th>3</th>\n",
       "      <td>response time 1</td>\n",
       "    </tr>\n",
       "    <tr>\n",
       "      <th>4</th>\n",
       "      <td>status 1 (1=correct, 2=wrong, 3=timeout)</td>\n",
       "    </tr>\n",
       "    <tr>\n",
       "      <th>5</th>\n",
       "      <td>response time 2 (only in no go trials)</td>\n",
       "    </tr>\n",
       "    <tr>\n",
       "      <th>6</th>\n",
       "      <td>status 2 (only in no go trials; 1=correct, 2=w...</td>\n",
       "    </tr>\n",
       "    <tr>\n",
       "      <th>7</th>\n",
       "      <td>1=trial is correct ; 0=trial is not correct</td>\n",
       "    </tr>\n",
       "  </tbody>\n",
       "</table>\n",
       "</div>"
      ],
      "text/plain": [
       "                                                  Meaning\n",
       "Column                                                   \n",
       "0                                 trial type (go or nogo)\n",
       "1                       required response (left or right)\n",
       "2             when the stop signal is shown (or 0 if not)\n",
       "3                                         response time 1\n",
       "4                status 1 (1=correct, 2=wrong, 3=timeout)\n",
       "5                  response time 2 (only in no go trials)\n",
       "6       status 2 (only in no go trials; 1=correct, 2=w...\n",
       "7             1=trial is correct ; 0=trial is not correct"
      ]
     },
     "execution_count": 97,
     "metadata": {},
     "output_type": "execute_result"
    }
   ],
   "source": [
    "\n",
    "column_meanings = {'Column':[0,1,2,3,4,5,6,7],\n",
    "                   'Meaning':['trial type (go or nogo)', \n",
    "                              'required response (left or right)', \n",
    "                              'when the stop signal is shown (or 0 if not)', \n",
    "                              'response time 1', \n",
    "                              'status 1 (1=correct, 2=wrong, 3=timeout)',\n",
    "                              'response time 2 (only in no go trials)',\n",
    "                              'status 2 (only in no go trials; 1=correct, 2=wrong, 3=timeout)',\n",
    "                              '1=trial is correct ; 0=trial is not correct']} \n",
    "\n",
    "column_meanings = pd.DataFrame(column_meanings)\n",
    "column_meanings.set_index('Column', inplace=True)\n",
    "column_meanings\n"
   ]
  },
  {
   "cell_type": "code",
   "execution_count": 98,
   "metadata": {},
   "outputs": [],
   "source": [
    "def stop_test(stop_df): # Jacob\n",
    "    \n",
    "    # renaming and reordering columns\n",
    "    stop_df.rename(columns = {0:'trial_type', 1:'correct_resp.', \n",
    "                            2:'stop_signal_delay', 3:'response_time',\n",
    "                            4:'status', 5:'resonse_time_nogo',\n",
    "                            6:'status_nogo', 7:'correct'}, inplace = True)\n",
    "\n",
    "    stop_df = stop_df[['participant', 'type', 'repeat', 'trial_type',\n",
    "                    'correct_resp.', 'correct', 'response_time',\n",
    "                    'status', 'stop_signal_delay', 'resonse_time_nogo',\n",
    "                    'status_nogo']]\n",
    "\n",
    "    # The average resonse time for go trials per trial type\n",
    "    avg_go_resp_time = stop_df[stop_df['trial_type'] == 'go'].groupby([\n",
    "        'participant', 'type','status']).mean()['response_time']\n",
    "\n",
    "\n",
    "    # The average resonse time for no-go trials per correct/incorrect trial\n",
    "    avg_nogo_resp_time = stop_df[stop_df['trial_type'] == 'nogo'].groupby([\n",
    "        'participant', 'type','status_nogo']).mean()['response_time']\n",
    "\n",
    "    # Good to keep in mind that here, status three corresponds with a correct trail\n",
    "    # Since there was no press in a no-go trial.\n",
    "\n",
    "    # Number of errors and time-outs in go trials\n",
    "    errors_timeout_go = stop_df[(stop_df['trial_type'] == 'go') & \n",
    "                                (stop_df['status'] != 1.0)].groupby([\n",
    "                                    'participant', 'type', 'repeat','status']).count()['trial_type']\n",
    "\n",
    "    # Number of errors and time-outs in no-go trials\n",
    "    errors_timeout_nogo = stop_df[stop_df['trial_type'] == 'nogo'].groupby([\n",
    "        'participant', 'type', 'repeat','status_nogo']).count()['trial_type']\n",
    "    \n",
    "    return avg_go_resp_time, avg_nogo_resp_time, errors_timeout_go, errors_timeout_nogo\n",
    "\n",
    "# callig the function\n",
    "avg_go_resp_time, avg_nogo_resp_time, errors_timeout_go, errors_timeout_nogo = stop_test(data_dict['stop'])\n"
   ]
  },
  {
   "cell_type": "code",
   "execution_count": 99,
   "metadata": {
    "scrolled": true
   },
   "outputs": [
    {
     "data": {},
     "metadata": {},
     "output_type": "display_data"
    },
    {
     "data": {
      "application/vnd.holoviews_exec.v0+json": "",
      "text/html": [
       "<div id='9464'>\n",
       "  <div class=\"bk-root\" id=\"f4d5c15c-7923-4433-8fc8-9e3304fbbab5\" data-root-id=\"9464\"></div>\n",
       "</div>\n",
       "<script type=\"application/javascript\">(function(root) {\n",
       "  function embed_document(root) {\n",
       "    var docs_json = {\"8aeefd16-7c92-4f1d-b694-04bc5874b4bf\":{\"defs\":[{\"extends\":null,\"module\":null,\"name\":\"ReactiveHTML1\",\"overrides\":[],\"properties\":[]},{\"extends\":null,\"module\":null,\"name\":\"FlexBox1\",\"overrides\":[],\"properties\":[{\"default\":\"flex-start\",\"kind\":null,\"name\":\"align_content\"},{\"default\":\"flex-start\",\"kind\":null,\"name\":\"align_items\"},{\"default\":\"row\",\"kind\":null,\"name\":\"flex_direction\"},{\"default\":\"wrap\",\"kind\":null,\"name\":\"flex_wrap\"},{\"default\":\"flex-start\",\"kind\":null,\"name\":\"justify_content\"}]},{\"extends\":null,\"module\":null,\"name\":\"GridStack1\",\"overrides\":[],\"properties\":[{\"default\":\"warn\",\"kind\":null,\"name\":\"mode\"},{\"default\":null,\"kind\":null,\"name\":\"ncols\"},{\"default\":null,\"kind\":null,\"name\":\"nrows\"},{\"default\":true,\"kind\":null,\"name\":\"allow_resize\"},{\"default\":true,\"kind\":null,\"name\":\"allow_drag\"},{\"default\":[],\"kind\":null,\"name\":\"state\"}]},{\"extends\":null,\"module\":null,\"name\":\"click1\",\"overrides\":[],\"properties\":[{\"default\":\"\",\"kind\":null,\"name\":\"terminal_output\"},{\"default\":\"\",\"kind\":null,\"name\":\"debug_name\"},{\"default\":0,\"kind\":null,\"name\":\"clears\"}]},{\"extends\":null,\"module\":null,\"name\":\"NotificationAreaBase1\",\"overrides\":[],\"properties\":[{\"default\":\"bottom-right\",\"kind\":null,\"name\":\"position\"},{\"default\":0,\"kind\":null,\"name\":\"_clear\"}]},{\"extends\":null,\"module\":null,\"name\":\"NotificationArea1\",\"overrides\":[],\"properties\":[{\"default\":[],\"kind\":null,\"name\":\"notifications\"},{\"default\":\"bottom-right\",\"kind\":null,\"name\":\"position\"},{\"default\":0,\"kind\":null,\"name\":\"_clear\"},{\"default\":[{\"background\":\"#ffc107\",\"icon\":{\"className\":\"fas fa-exclamation-triangle\",\"color\":\"white\",\"tagName\":\"i\"},\"type\":\"warning\"},{\"background\":\"#007bff\",\"icon\":{\"className\":\"fas fa-info-circle\",\"color\":\"white\",\"tagName\":\"i\"},\"type\":\"info\"}],\"kind\":null,\"name\":\"types\"}]},{\"extends\":null,\"module\":null,\"name\":\"Notification\",\"overrides\":[],\"properties\":[{\"default\":null,\"kind\":null,\"name\":\"background\"},{\"default\":3000,\"kind\":null,\"name\":\"duration\"},{\"default\":null,\"kind\":null,\"name\":\"icon\"},{\"default\":\"\",\"kind\":null,\"name\":\"message\"},{\"default\":null,\"kind\":null,\"name\":\"notification_type\"},{\"default\":false,\"kind\":null,\"name\":\"_destroyed\"}]},{\"extends\":null,\"module\":null,\"name\":\"TemplateActions1\",\"overrides\":[],\"properties\":[{\"default\":0,\"kind\":null,\"name\":\"open_modal\"},{\"default\":0,\"kind\":null,\"name\":\"close_modal\"}]},{\"extends\":null,\"module\":null,\"name\":\"MaterialTemplateActions1\",\"overrides\":[],\"properties\":[{\"default\":0,\"kind\":null,\"name\":\"open_modal\"},{\"default\":0,\"kind\":null,\"name\":\"close_modal\"}]}],\"roots\":{\"references\":[{\"attributes\":{},\"id\":\"9473\",\"type\":\"CategoricalScale\"},{\"attributes\":{\"coordinates\":null,\"data_source\":{\"id\":\"9566\"},\"glyph\":{\"id\":\"9568\"},\"group\":null,\"hover_glyph\":null,\"muted_glyph\":{\"id\":\"9570\"},\"nonselection_glyph\":{\"id\":\"9569\"},\"selection_glyph\":{\"id\":\"9573\"},\"view\":{\"id\":\"9572\"}},\"id\":\"9571\",\"type\":\"GlyphRenderer\"},{\"attributes\":{\"source\":{\"id\":\"9536\"}},\"id\":\"9542\",\"type\":\"CDSView\"},{\"attributes\":{\"data\":{\"x0\":[[\"blue\",\"control\"],[\"blue\",\"dehydration\"],[\"green\",\"control\"],[\"green\",\"dehydration\"],[\"red\",\"control\"],[\"red\",\"dehydration\"],[\"pink\",\"control\"],[\"pink\",\"dehydration\"],[\"orange\",\"control\"],[\"orange\",\"dehydration\"]],\"x1\":[[\"blue\",\"control\"],[\"blue\",\"dehydration\"],[\"green\",\"control\"],[\"green\",\"dehydration\"],[\"red\",\"control\"],[\"red\",\"dehydration\"],[\"pink\",\"control\"],[\"pink\",\"dehydration\"],[\"orange\",\"control\"],[\"orange\",\"dehydration\"]],\"y0\":[261,262,308,266,302,285,243,246,256,257],\"y1\":{\"__ndarray__\":\"AAAAAADgc0AAAAAAAJBzQAAAAAAAMHZAAAAAAABcdUAAAAAAAKx2QAAAAAAAIHdAAAAAAABAdUAAAAAAAHB0QAAAAAAA0HRAAAAAAAAAdEA=\",\"dtype\":\"float64\",\"order\":\"little\",\"shape\":[10]}},\"selected\":{\"id\":\"9555\"},\"selection_policy\":{\"id\":\"9554\"}},\"id\":\"9512\",\"type\":\"ColumnDataSource\"},{\"attributes\":{\"end\":561.6,\"reset_end\":561.6,\"reset_start\":-33.6,\"start\":-33.6,\"tags\":[[[\"response_time\",\"response_time\",null]]]},\"id\":\"9467\",\"type\":\"Range1d\"},{\"attributes\":{\"below\":[{\"id\":\"9477\"}],\"center\":[{\"id\":\"9479\"},{\"id\":\"9483\"},{\"id\":\"9563\"}],\"height\":300,\"left\":[{\"id\":\"9480\"}],\"margin\":[5,5,5,5],\"min_border_bottom\":10,\"min_border_left\":10,\"min_border_right\":10,\"min_border_top\":10,\"renderers\":[{\"id\":\"9501\"},{\"id\":\"9509\"},{\"id\":\"9517\"},{\"id\":\"9525\"},{\"id\":\"9533\"},{\"id\":\"9541\"},{\"id\":\"9571\"}],\"sizing_mode\":\"fixed\",\"title\":{\"id\":\"9469\"},\"toolbar\":{\"id\":\"9490\"},\"width\":700,\"x_range\":{\"id\":\"9466\"},\"x_scale\":{\"id\":\"9473\"},\"y_range\":{\"id\":\"9467\"},\"y_scale\":{\"id\":\"9475\"}},\"id\":\"9468\",\"subtype\":\"Figure\",\"type\":\"Plot\"},{\"attributes\":{\"tools\":[{\"id\":\"9484\"},{\"id\":\"9485\"},{\"id\":\"9486\"},{\"id\":\"9487\"},{\"id\":\"9488\"}]},\"id\":\"9490\",\"type\":\"Toolbar\"},{\"attributes\":{},\"id\":\"9599\",\"type\":\"UnionRenderers\"},{\"attributes\":{\"source\":{\"id\":\"9504\"}},\"id\":\"9510\",\"type\":\"CDSView\"},{\"attributes\":{},\"id\":\"9551\",\"type\":\"Selection\"},{\"attributes\":{},\"id\":\"9555\",\"type\":\"Selection\"},{\"attributes\":{\"coordinates\":null,\"data_source\":{\"id\":\"9520\"},\"glyph\":{\"id\":\"9522\"},\"group\":null,\"hover_glyph\":null,\"muted_glyph\":{\"id\":\"9524\"},\"nonselection_glyph\":{\"id\":\"9523\"},\"selection_glyph\":{\"id\":\"9527\"},\"view\":{\"id\":\"9526\"}},\"id\":\"9525\",\"type\":\"GlyphRenderer\"},{\"attributes\":{\"margin\":[5,5,5,5],\"name\":\"HSpacer02789\",\"sizing_mode\":\"stretch_width\"},\"id\":\"9602\",\"type\":\"Spacer\"},{\"attributes\":{\"coordinates\":null,\"group\":null,\"text\":\"Reaction time for correct responses\",\"text_color\":\"black\",\"text_font_size\":\"12pt\"},\"id\":\"9469\",\"type\":\"Title\"},{\"attributes\":{},\"id\":\"9550\",\"type\":\"UnionRenderers\"},{\"attributes\":{\"line_alpha\":{\"value\":1.0},\"line_cap\":{\"value\":\"butt\"},\"line_color\":{\"value\":\"black\"},\"line_dash\":{\"value\":[]},\"line_dash_offset\":{\"value\":0},\"line_join\":{\"value\":\"bevel\"},\"line_width\":{\"value\":1},\"x0\":{\"field\":\"x0\"},\"x1\":{\"field\":\"x1\"},\"y0\":{\"field\":\"y0\"},\"y1\":{\"field\":\"y1\"}},\"id\":\"9535\",\"type\":\"Segment\"},{\"attributes\":{\"bottom\":{\"field\":\"bottom\"},\"fill_alpha\":{\"value\":0.2},\"fill_color\":{\"value\":\"#30a2da\"},\"hatch_alpha\":{\"value\":0.2},\"line_alpha\":{\"value\":0.2},\"top\":{\"field\":\"top\"},\"width\":{\"value\":0.7},\"x\":{\"field\":\"index\"}},\"id\":\"9570\",\"type\":\"VBar\"},{\"attributes\":{\"data\":{\"bottom\":{\"__ndarray__\":\"AAAAAABgdkAAAAAAALx1QAAAAAAACHlAAAAAAAD4eEAAAAAAAHB5QAAAAAAAAHtAAAAAAACweUAAAAAAAPh3QAAAAAAAsHhAAAAAAAA8d0A=\",\"dtype\":\"float64\",\"order\":\"little\",\"shape\":[10]},\"index\":[[\"blue\",\"control\"],[\"blue\",\"dehydration\"],[\"green\",\"control\"],[\"green\",\"dehydration\"],[\"red\",\"control\"],[\"red\",\"dehydration\"],[\"pink\",\"control\"],[\"pink\",\"dehydration\"],[\"orange\",\"control\"],[\"orange\",\"dehydration\"]],\"top\":{\"__ndarray__\":\"AAAAAAAYdUAAAAAAAJh0QAAAAAAAkHdAAAAAAAA4d0AAAAAAAHh4QAAAAAAAEHlAAAAAAABQd0AAAAAAAOB1QAAAAAAAYHZAAAAAAAC4dUA=\",\"dtype\":\"float64\",\"order\":\"little\",\"shape\":[10]}},\"selected\":{\"id\":\"9561\"},\"selection_policy\":{\"id\":\"9560\"}},\"id\":\"9536\",\"type\":\"ColumnDataSource\"},{\"attributes\":{},\"id\":\"9546\",\"type\":\"AllLabels\"},{\"attributes\":{},\"id\":\"9481\",\"type\":\"BasicTicker\"},{\"attributes\":{\"line_alpha\":{\"value\":0.1},\"x0\":{\"field\":\"x0\"},\"x1\":{\"field\":\"x1\"},\"y0\":{\"field\":\"y0\"},\"y1\":{\"field\":\"y1\"}},\"id\":\"9507\",\"type\":\"Segment\"},{\"attributes\":{\"coordinates\":null,\"data_source\":{\"id\":\"9536\"},\"glyph\":{\"id\":\"9538\"},\"group\":null,\"hover_glyph\":null,\"muted_glyph\":{\"id\":\"9540\"},\"nonselection_glyph\":{\"id\":\"9539\"},\"selection_glyph\":{\"id\":\"9565\"},\"view\":{\"id\":\"9542\"}},\"id\":\"9541\",\"type\":\"GlyphRenderer\"},{\"attributes\":{},\"id\":\"9484\",\"type\":\"SaveTool\"},{\"attributes\":{\"coordinates\":null,\"data_source\":{\"id\":\"9504\"},\"glyph\":{\"id\":\"9506\"},\"group\":null,\"hover_glyph\":null,\"muted_glyph\":{\"id\":\"9508\"},\"nonselection_glyph\":{\"id\":\"9507\"},\"selection_glyph\":{\"id\":\"9511\"},\"view\":{\"id\":\"9510\"}},\"id\":\"9509\",\"type\":\"GlyphRenderer\"},{\"attributes\":{\"x0\":{\"field\":\"x0\"},\"x1\":{\"field\":\"x1\"},\"y0\":{\"field\":\"y0\"},\"y1\":{\"field\":\"y1\"}},\"id\":\"9514\",\"type\":\"Segment\"},{\"attributes\":{\"coordinates\":null,\"data_source\":{\"id\":\"9528\"},\"glyph\":{\"id\":\"9530\"},\"group\":null,\"hover_glyph\":null,\"muted_glyph\":{\"id\":\"9532\"},\"nonselection_glyph\":{\"id\":\"9531\"},\"selection_glyph\":{\"id\":\"9535\"},\"view\":{\"id\":\"9534\"}},\"id\":\"9533\",\"type\":\"GlyphRenderer\"},{\"attributes\":{},\"id\":\"9475\",\"type\":\"LinearScale\"},{\"attributes\":{},\"id\":\"9561\",\"type\":\"Selection\"},{\"attributes\":{\"bottom\":{\"field\":\"bottom\"},\"fill_alpha\":{\"value\":0.1},\"fill_color\":{\"value\":\"#30a2da\"},\"hatch_alpha\":{\"value\":0.1},\"line_alpha\":{\"value\":0.1},\"top\":{\"field\":\"top\"},\"width\":{\"value\":0.7},\"x\":{\"field\":\"index\"}},\"id\":\"9569\",\"type\":\"VBar\"},{\"attributes\":{\"line_alpha\":{\"value\":1.0},\"line_cap\":{\"value\":\"butt\"},\"line_color\":{\"value\":\"black\"},\"line_dash\":{\"value\":[]},\"line_dash_offset\":{\"value\":0},\"line_join\":{\"value\":\"bevel\"},\"line_width\":{\"value\":1},\"x0\":{\"field\":\"x0\"},\"x1\":{\"field\":\"x1\"},\"y0\":{\"field\":\"y0\"},\"y1\":{\"field\":\"y1\"}},\"id\":\"9511\",\"type\":\"Segment\"},{\"attributes\":{},\"id\":\"9548\",\"type\":\"CategoricalTickFormatter\"},{\"attributes\":{\"fill_alpha\":{\"value\":0.2},\"fill_color\":{\"value\":\"black\"},\"hatch_alpha\":{\"value\":0.2},\"line_alpha\":{\"value\":0.2},\"x\":{\"field\":\"index\"},\"y\":{\"field\":\"response_time\"}},\"id\":\"9500\",\"type\":\"Circle\"},{\"attributes\":{},\"id\":\"9552\",\"type\":\"UnionRenderers\"},{\"attributes\":{\"fill_color\":{\"value\":\"black\"},\"x\":{\"field\":\"index\"},\"y\":{\"field\":\"response_time\"}},\"id\":\"9498\",\"type\":\"Circle\"},{\"attributes\":{\"data\":{\"x0\":[[\"blue\",\"control\"],[\"blue\",\"dehydration\"],[\"green\",\"control\"],[\"green\",\"dehydration\"],[\"red\",\"control\"],[\"red\",\"dehydration\"],[\"pink\",\"control\"],[\"pink\",\"dehydration\"],[\"orange\",\"control\"],[\"orange\",\"dehydration\"]],\"x1\":[[\"blue\",\"control\"],[\"blue\",\"dehydration\"],[\"green\",\"control\"],[\"green\",\"dehydration\"],[\"red\",\"control\"],[\"red\",\"dehydration\"],[\"pink\",\"control\"],[\"pink\",\"dehydration\"],[\"orange\",\"control\"],[\"orange\",\"dehydration\"]],\"y0\":[415,399,460,478,455,512,504,467,472,445],\"y1\":{\"__ndarray__\":\"AAAAAABgdkAAAAAAALx1QAAAAAAACHlAAAAAAAD4eEAAAAAAAHB5QAAAAAAAAHtAAAAAAACweUAAAAAAAPh3QAAAAAAAsHhAAAAAAAA8d0A=\",\"dtype\":\"float64\",\"order\":\"little\",\"shape\":[10]}},\"selected\":{\"id\":\"9553\"},\"selection_policy\":{\"id\":\"9552\"}},\"id\":\"9504\",\"type\":\"ColumnDataSource\"},{\"attributes\":{},\"id\":\"9557\",\"type\":\"Selection\"},{\"attributes\":{\"x0\":{\"field\":\"x0\"},\"x1\":{\"field\":\"x1\"},\"y0\":{\"field\":\"y0\"},\"y1\":{\"field\":\"y1\"}},\"id\":\"9522\",\"type\":\"Segment\"},{\"attributes\":{\"coordinates\":null,\"group\":null,\"items\":[]},\"id\":\"9563\",\"type\":\"Legend\"},{\"attributes\":{\"line_alpha\":{\"value\":0.2},\"x0\":{\"field\":\"x0\"},\"x1\":{\"field\":\"x1\"},\"y0\":{\"field\":\"y0\"},\"y1\":{\"field\":\"y1\"}},\"id\":\"9524\",\"type\":\"Segment\"},{\"attributes\":{\"bottom\":{\"field\":\"bottom\"},\"fill_alpha\":{\"value\":0.2},\"fill_color\":{\"value\":\"#30a2da\"},\"hatch_alpha\":{\"value\":0.2},\"line_alpha\":{\"value\":0.2},\"top\":{\"field\":\"top\"},\"width\":{\"value\":0.7},\"x\":{\"field\":\"index\"}},\"id\":\"9540\",\"type\":\"VBar\"},{\"attributes\":{\"line_alpha\":{\"value\":0.1},\"x0\":{\"field\":\"x0\"},\"x1\":{\"field\":\"x1\"},\"y0\":{\"field\":\"y0\"},\"y1\":{\"field\":\"y1\"}},\"id\":\"9515\",\"type\":\"Segment\"},{\"attributes\":{\"bottom\":{\"field\":\"bottom\"},\"fill_alpha\":{\"value\":1.0},\"fill_color\":{\"value\":\"#30a2da\"},\"hatch_alpha\":{\"value\":1.0},\"hatch_color\":{\"value\":\"black\"},\"hatch_scale\":{\"value\":12.0},\"hatch_weight\":{\"value\":1.0},\"line_alpha\":{\"value\":1.0},\"line_cap\":{\"value\":\"butt\"},\"line_color\":{\"value\":\"black\"},\"line_dash\":{\"value\":[]},\"line_dash_offset\":{\"value\":0},\"line_join\":{\"value\":\"bevel\"},\"line_width\":{\"value\":1},\"top\":{\"field\":\"top\"},\"width\":{\"value\":0.7},\"x\":{\"field\":\"index\"}},\"id\":\"9573\",\"type\":\"VBar\"},{\"attributes\":{\"fill_alpha\":{\"value\":0.1},\"fill_color\":{\"value\":\"black\"},\"hatch_alpha\":{\"value\":0.1},\"line_alpha\":{\"value\":0.1},\"x\":{\"field\":\"index\"},\"y\":{\"field\":\"response_time\"}},\"id\":\"9499\",\"type\":\"Circle\"},{\"attributes\":{},\"id\":\"9545\",\"type\":\"BasicTickFormatter\"},{\"attributes\":{},\"id\":\"9553\",\"type\":\"Selection\"},{\"attributes\":{\"x0\":{\"field\":\"x0\"},\"x1\":{\"field\":\"x1\"},\"y0\":{\"field\":\"y0\"},\"y1\":{\"field\":\"y1\"}},\"id\":\"9530\",\"type\":\"Segment\"},{\"attributes\":{\"source\":{\"id\":\"9496\"}},\"id\":\"9502\",\"type\":\"CDSView\"},{\"attributes\":{\"x0\":{\"field\":\"x0\"},\"x1\":{\"field\":\"x1\"},\"y0\":{\"field\":\"y0\"},\"y1\":{\"field\":\"y1\"}},\"id\":\"9506\",\"type\":\"Segment\"},{\"attributes\":{},\"id\":\"9488\",\"type\":\"ResetTool\"},{\"attributes\":{},\"id\":\"9478\",\"type\":\"CategoricalTicker\"},{\"attributes\":{\"axis_label\":\"Resopnse Time (ms)\",\"coordinates\":null,\"formatter\":{\"id\":\"9545\"},\"group\":null,\"major_label_policy\":{\"id\":\"9546\"},\"ticker\":{\"id\":\"9481\"}},\"id\":\"9480\",\"type\":\"LinearAxis\"},{\"attributes\":{\"overlay\":{\"id\":\"9489\"}},\"id\":\"9487\",\"type\":\"BoxZoomTool\"},{\"attributes\":{},\"id\":\"9549\",\"type\":\"AllLabels\"},{\"attributes\":{\"source\":{\"id\":\"9528\"}},\"id\":\"9534\",\"type\":\"CDSView\"},{\"attributes\":{},\"id\":\"9600\",\"type\":\"Selection\"},{\"attributes\":{\"axis\":{\"id\":\"9480\"},\"coordinates\":null,\"dimension\":1,\"grid_line_color\":null,\"group\":null,\"ticker\":null},\"id\":\"9483\",\"type\":\"Grid\"},{\"attributes\":{\"line_alpha\":{\"value\":1.0},\"line_cap\":{\"value\":\"butt\"},\"line_color\":{\"value\":\"black\"},\"line_dash\":{\"value\":[]},\"line_dash_offset\":{\"value\":0},\"line_join\":{\"value\":\"bevel\"},\"line_width\":{\"value\":1},\"x0\":{\"field\":\"x0\"},\"x1\":{\"field\":\"x1\"},\"y0\":{\"field\":\"y0\"},\"y1\":{\"field\":\"y1\"}},\"id\":\"9527\",\"type\":\"Segment\"},{\"attributes\":{\"coordinates\":null,\"data_source\":{\"id\":\"9496\"},\"glyph\":{\"id\":\"9498\"},\"group\":null,\"hover_glyph\":null,\"muted_glyph\":{\"id\":\"9500\"},\"nonselection_glyph\":{\"id\":\"9499\"},\"selection_glyph\":{\"id\":\"9503\"},\"view\":{\"id\":\"9502\"}},\"id\":\"9501\",\"type\":\"GlyphRenderer\"},{\"attributes\":{\"line_alpha\":{\"value\":0.1},\"x0\":{\"field\":\"x0\"},\"x1\":{\"field\":\"x1\"},\"y0\":{\"field\":\"y0\"},\"y1\":{\"field\":\"y1\"}},\"id\":\"9523\",\"type\":\"Segment\"},{\"attributes\":{\"data\":{\"index\":[[\"blue\",\"control\"],[\"blue\",\"control\"],[\"blue\",\"control\"],[\"blue\",\"control\"],[\"blue\",\"control\"],[\"blue\",\"dehydration\"],[\"blue\",\"dehydration\"],[\"blue\",\"dehydration\"],[\"blue\",\"dehydration\"],[\"blue\",\"dehydration\"],[\"blue\",\"dehydration\"],[\"green\",\"control\"],[\"green\",\"control\"],[\"green\",\"dehydration\"],[\"red\",\"control\"],[\"red\",\"control\"],[\"red\",\"control\"],[\"pink\",\"dehydration\"],[\"pink\",\"dehydration\"],[\"pink\",\"dehydration\"],[\"pink\",\"dehydration\"],[\"pink\",\"dehydration\"],[\"orange\",\"control\"],[\"orange\",\"control\"],[\"orange\",\"control\"],[\"orange\",\"dehydration\"],[\"orange\",\"dehydration\"],[\"orange\",\"dehydration\"],[\"orange\",\"dehydration\"],[\"orange\",\"dehydration\"],[\"orange\",\"dehydration\"],[\"orange\",\"dehydration\"],[\"orange\",\"dehydration\"],[\"orange\",\"dehydration\"],[\"orange\",\"dehydration\"],[\"orange\",\"dehydration\"],[\"orange\",\"dehydration\"],[\"orange\",\"dehydration\"]],\"response_time\":[239,453,450,466,432,220,252,427,238,408,440,261,486,495,479,478,474,501,229,230,237,494,506,493,502,201,218,454,486,454,450,16,100,143,234,170,500,507]},\"selected\":{\"id\":\"9551\"},\"selection_policy\":{\"id\":\"9550\"}},\"id\":\"9496\",\"type\":\"ColumnDataSource\"},{\"attributes\":{\"source\":{\"id\":\"9566\"}},\"id\":\"9572\",\"type\":\"CDSView\"},{\"attributes\":{\"line_alpha\":{\"value\":0.2},\"x0\":{\"field\":\"x0\"},\"x1\":{\"field\":\"x1\"},\"y0\":{\"field\":\"y0\"},\"y1\":{\"field\":\"y1\"}},\"id\":\"9532\",\"type\":\"Segment\"},{\"attributes\":{},\"id\":\"9486\",\"type\":\"WheelZoomTool\"},{\"attributes\":{\"coordinates\":null,\"data_source\":{\"id\":\"9512\"},\"glyph\":{\"id\":\"9514\"},\"group\":null,\"hover_glyph\":null,\"muted_glyph\":{\"id\":\"9516\"},\"nonselection_glyph\":{\"id\":\"9515\"},\"selection_glyph\":{\"id\":\"9519\"},\"view\":{\"id\":\"9518\"}},\"id\":\"9517\",\"type\":\"GlyphRenderer\"},{\"attributes\":{\"bottom\":{\"field\":\"bottom\"},\"fill_alpha\":{\"value\":0.1},\"fill_color\":{\"value\":\"#30a2da\"},\"hatch_alpha\":{\"value\":0.1},\"line_alpha\":{\"value\":0.1},\"top\":{\"field\":\"top\"},\"width\":{\"value\":0.7},\"x\":{\"field\":\"index\"}},\"id\":\"9539\",\"type\":\"VBar\"},{\"attributes\":{\"line_alpha\":{\"value\":0.2},\"x0\":{\"field\":\"x0\"},\"x1\":{\"field\":\"x1\"},\"y0\":{\"field\":\"y0\"},\"y1\":{\"field\":\"y1\"}},\"id\":\"9516\",\"type\":\"Segment\"},{\"attributes\":{\"line_alpha\":{\"value\":0.1},\"x0\":{\"field\":\"x0\"},\"x1\":{\"field\":\"x1\"},\"y0\":{\"field\":\"y0\"},\"y1\":{\"field\":\"y1\"}},\"id\":\"9531\",\"type\":\"Segment\"},{\"attributes\":{},\"id\":\"9558\",\"type\":\"UnionRenderers\"},{\"attributes\":{\"bottom\":{\"field\":\"bottom\"},\"fill_color\":{\"value\":\"#30a2da\"},\"top\":{\"field\":\"top\"},\"width\":{\"value\":0.7},\"x\":{\"field\":\"index\"}},\"id\":\"9568\",\"type\":\"VBar\"},{\"attributes\":{},\"id\":\"9560\",\"type\":\"UnionRenderers\"},{\"attributes\":{},\"id\":\"9559\",\"type\":\"Selection\"},{\"attributes\":{\"margin\":[5,5,5,5],\"name\":\"HSpacer02788\",\"sizing_mode\":\"stretch_width\"},\"id\":\"9465\",\"type\":\"Spacer\"},{\"attributes\":{\"line_alpha\":{\"value\":0.2},\"x0\":{\"field\":\"x0\"},\"x1\":{\"field\":\"x1\"},\"y0\":{\"field\":\"y0\"},\"y1\":{\"field\":\"y1\"}},\"id\":\"9508\",\"type\":\"Segment\"},{\"attributes\":{\"factors\":[[\"blue\",\"control\"],[\"blue\",\"dehydration\"],[\"green\",\"control\"],[\"green\",\"dehydration\"],[\"orange\",\"control\"],[\"orange\",\"dehydration\"],[\"pink\",\"control\"],[\"pink\",\"dehydration\"],[\"red\",\"control\"],[\"red\",\"dehydration\"]],\"tags\":[[[\"participant\",\"participant\",null],[\"type\",\"type\",null]]]},\"id\":\"9466\",\"type\":\"FactorRange\"},{\"attributes\":{\"bottom\":{\"field\":\"bottom\"},\"fill_alpha\":{\"value\":1.0},\"fill_color\":{\"value\":\"#30a2da\"},\"hatch_alpha\":{\"value\":1.0},\"hatch_color\":{\"value\":\"black\"},\"hatch_scale\":{\"value\":12.0},\"hatch_weight\":{\"value\":1.0},\"line_alpha\":{\"value\":1.0},\"line_cap\":{\"value\":\"butt\"},\"line_color\":{\"value\":\"black\"},\"line_dash\":{\"value\":[]},\"line_dash_offset\":{\"value\":0},\"line_join\":{\"value\":\"bevel\"},\"line_width\":{\"value\":1},\"top\":{\"field\":\"top\"},\"width\":{\"value\":0.7},\"x\":{\"field\":\"index\"}},\"id\":\"9565\",\"type\":\"VBar\"},{\"attributes\":{},\"id\":\"9556\",\"type\":\"UnionRenderers\"},{\"attributes\":{\"bottom\":{\"field\":\"bottom\"},\"fill_color\":{\"value\":\"#30a2da\"},\"top\":{\"field\":\"top\"},\"width\":{\"value\":0.7},\"x\":{\"field\":\"index\"}},\"id\":\"9538\",\"type\":\"VBar\"},{\"attributes\":{\"bottom_units\":\"screen\",\"coordinates\":null,\"fill_alpha\":0.5,\"fill_color\":\"lightgrey\",\"group\":null,\"left_units\":\"screen\",\"level\":\"overlay\",\"line_alpha\":1.0,\"line_color\":\"black\",\"line_dash\":[4,4],\"line_width\":2,\"right_units\":\"screen\",\"syncable\":false,\"top_units\":\"screen\"},\"id\":\"9489\",\"type\":\"BoxAnnotation\"},{\"attributes\":{\"source\":{\"id\":\"9520\"}},\"id\":\"9526\",\"type\":\"CDSView\"},{\"attributes\":{\"data\":{\"x0\":[[\"blue\",\"control\",-0.2],[\"blue\",\"dehydration\",-0.2],[\"green\",\"control\",-0.2],[\"green\",\"dehydration\",-0.2],[\"red\",\"control\",-0.2],[\"red\",\"dehydration\",-0.2],[\"pink\",\"control\",-0.2],[\"pink\",\"dehydration\",-0.2],[\"orange\",\"control\",-0.2],[\"orange\",\"dehydration\",-0.2]],\"x1\":[[\"blue\",\"control\",0.2],[\"blue\",\"dehydration\",0.2],[\"green\",\"control\",0.2],[\"green\",\"dehydration\",0.2],[\"red\",\"control\",0.2],[\"red\",\"dehydration\",0.2],[\"pink\",\"control\",0.2],[\"pink\",\"dehydration\",0.2],[\"orange\",\"control\",0.2],[\"orange\",\"dehydration\",0.2]],\"y0\":[261,262,308,266,302,285,243,246,256,257],\"y1\":[261,262,308,266,302,285,243,246,256,257]},\"selected\":{\"id\":\"9557\"},\"selection_policy\":{\"id\":\"9556\"}},\"id\":\"9520\",\"type\":\"ColumnDataSource\"},{\"attributes\":{\"source\":{\"id\":\"9512\"}},\"id\":\"9518\",\"type\":\"CDSView\"},{\"attributes\":{\"data\":{\"bottom\":{\"__ndarray__\":\"AAAAAAAYdUAAAAAAAJh0QAAAAAAAkHdAAAAAAAA4d0AAAAAAAHh4QAAAAAAAEHlAAAAAAABQd0AAAAAAAOB1QAAAAAAAYHZAAAAAAAC4dUA=\",\"dtype\":\"float64\",\"order\":\"little\",\"shape\":[10]},\"index\":[[\"blue\",\"control\"],[\"blue\",\"dehydration\"],[\"green\",\"control\"],[\"green\",\"dehydration\"],[\"red\",\"control\"],[\"red\",\"dehydration\"],[\"pink\",\"control\"],[\"pink\",\"dehydration\"],[\"orange\",\"control\"],[\"orange\",\"dehydration\"]],\"top\":{\"__ndarray__\":\"AAAAAADgc0AAAAAAAJBzQAAAAAAAMHZAAAAAAABcdUAAAAAAAKx2QAAAAAAAIHdAAAAAAABAdUAAAAAAAHB0QAAAAAAA0HRAAAAAAAAAdEA=\",\"dtype\":\"float64\",\"order\":\"little\",\"shape\":[10]}},\"selected\":{\"id\":\"9600\"},\"selection_policy\":{\"id\":\"9599\"}},\"id\":\"9566\",\"type\":\"ColumnDataSource\"},{\"attributes\":{\"children\":[{\"id\":\"9465\"},{\"id\":\"9468\"},{\"id\":\"9602\"}],\"margin\":[0,0,0,0],\"name\":\"Row02784\",\"tags\":[\"embedded\"]},\"id\":\"9464\",\"type\":\"Row\"},{\"attributes\":{\"axis\":{\"id\":\"9477\"},\"coordinates\":null,\"grid_line_color\":null,\"group\":null,\"ticker\":null},\"id\":\"9479\",\"type\":\"Grid\"},{\"attributes\":{},\"id\":\"9485\",\"type\":\"PanTool\"},{\"attributes\":{},\"id\":\"9554\",\"type\":\"UnionRenderers\"},{\"attributes\":{\"data\":{\"x0\":[[\"blue\",\"control\",-0.2],[\"blue\",\"dehydration\",-0.2],[\"green\",\"control\",-0.2],[\"green\",\"dehydration\",-0.2],[\"red\",\"control\",-0.2],[\"red\",\"dehydration\",-0.2],[\"pink\",\"control\",-0.2],[\"pink\",\"dehydration\",-0.2],[\"orange\",\"control\",-0.2],[\"orange\",\"dehydration\",-0.2]],\"x1\":[[\"blue\",\"control\",0.2],[\"blue\",\"dehydration\",0.2],[\"green\",\"control\",0.2],[\"green\",\"dehydration\",0.2],[\"red\",\"control\",0.2],[\"red\",\"dehydration\",0.2],[\"pink\",\"control\",0.2],[\"pink\",\"dehydration\",0.2],[\"orange\",\"control\",0.2],[\"orange\",\"dehydration\",0.2]],\"y0\":[415,399,460,478,455,512,504,467,472,445],\"y1\":[415,399,460,478,455,512,504,467,472,445]},\"selected\":{\"id\":\"9559\"},\"selection_policy\":{\"id\":\"9558\"}},\"id\":\"9528\",\"type\":\"ColumnDataSource\"},{\"attributes\":{\"line_alpha\":{\"value\":1.0},\"line_cap\":{\"value\":\"butt\"},\"line_color\":{\"value\":\"black\"},\"line_dash\":{\"value\":[]},\"line_dash_offset\":{\"value\":0},\"line_join\":{\"value\":\"bevel\"},\"line_width\":{\"value\":1},\"x0\":{\"field\":\"x0\"},\"x1\":{\"field\":\"x1\"},\"y0\":{\"field\":\"y0\"},\"y1\":{\"field\":\"y1\"}},\"id\":\"9519\",\"type\":\"Segment\"},{\"attributes\":{\"angle\":{\"value\":0.0},\"fill_alpha\":{\"value\":1.0},\"fill_color\":{\"value\":\"black\"},\"hatch_alpha\":{\"value\":1.0},\"hatch_color\":{\"value\":\"black\"},\"hatch_scale\":{\"value\":12.0},\"hatch_weight\":{\"value\":1.0},\"line_alpha\":{\"value\":1.0},\"line_cap\":{\"value\":\"butt\"},\"line_color\":{\"value\":\"black\"},\"line_dash\":{\"value\":[]},\"line_dash_offset\":{\"value\":0},\"line_join\":{\"value\":\"bevel\"},\"line_width\":{\"value\":1},\"size\":{\"value\":4},\"x\":{\"field\":\"index\"},\"y\":{\"field\":\"response_time\"}},\"id\":\"9503\",\"type\":\"Circle\"},{\"attributes\":{\"axis_label\":\"Session Type\",\"coordinates\":null,\"formatter\":{\"id\":\"9548\"},\"group\":null,\"major_label_orientation\":0.6981317007977318,\"major_label_policy\":{\"id\":\"9549\"},\"ticker\":{\"id\":\"9478\"}},\"id\":\"9477\",\"type\":\"CategoricalAxis\"}],\"root_ids\":[\"9464\"]},\"title\":\"Bokeh Application\",\"version\":\"2.4.3\"}};\n",
       "    var render_items = [{\"docid\":\"8aeefd16-7c92-4f1d-b694-04bc5874b4bf\",\"root_ids\":[\"9464\"],\"roots\":{\"9464\":\"f4d5c15c-7923-4433-8fc8-9e3304fbbab5\"}}];\n",
       "    root.Bokeh.embed.embed_items_notebook(docs_json, render_items);\n",
       "  }\n",
       "  if (root.Bokeh !== undefined && root.Bokeh.Panel !== undefined) {\n",
       "    embed_document(root);\n",
       "  } else {\n",
       "    var attempts = 0;\n",
       "    var timer = setInterval(function(root) {\n",
       "      if (root.Bokeh !== undefined && root.Bokeh.Panel !== undefined) {\n",
       "        clearInterval(timer);\n",
       "        embed_document(root);\n",
       "      } else if (document.readyState == \"complete\") {\n",
       "        attempts++;\n",
       "        if (attempts > 200) {\n",
       "          clearInterval(timer);\n",
       "          console.log(\"Bokeh: ERROR: Unable to run BokehJS code because BokehJS library is missing\");\n",
       "        }\n",
       "      }\n",
       "    }, 25, root)\n",
       "  }\n",
       "})(window);</script>"
      ],
      "text/plain": [
       ":BoxWhisker   [participant,type]   (response_time)"
      ]
     },
     "execution_count": 99,
     "metadata": {
      "application/vnd.holoviews_exec.v0+json": {
       "id": "9464"
      }
     },
     "output_type": "execute_result"
    }
   ],
   "source": [
    "stop_signal_boxplot = data_dict['stop'][(data_dict['stop']['trial_type'] == 'go') & \n",
    "                                     (data_dict['stop']['correct'] == 1)][['response_time', 'participant', 'type']\n",
    "                                                      ].hvplot.box(by=['participant', 'type'], \n",
    "                                                                   #groupby='participant',\n",
    "                                                                   title='Reaction time for correct responses',\n",
    "                                                                   xlabel='Session Type', \n",
    "                                                                   ylabel='Resopnse Time (ms)',\n",
    "                                                                   rot=40)\n",
    "\n",
    "stop_signal_boxplot"
   ]
  },
  {
   "cell_type": "markdown",
   "metadata": {},
   "source": [
    "### Verbal Fluency Analysis"
   ]
  },
  {
   "cell_type": "code",
   "execution_count": 111,
   "metadata": {},
   "outputs": [],
   "source": [
    "def barplot(df):\n",
    "    \"\"\"\n",
    "    This function plots a barplot based on a dataframe from within the data_dict\n",
    "\n",
    "    Args:\n",
    "        df (DataFrame): a dataframe\n",
    "\n",
    "    Returns:\n",
    "        p: a barplot\n",
    "        \n",
    "    By:\n",
    "        Mahdiye\n",
    "        Jacob Menzinga\n",
    "    \"\"\"\n",
    "  \n",
    "    # create a list of different session types\n",
    "    types = list(df['type'].unique())\n",
    "    \n",
    "    dff = df.groupby(['participant','type']).mean().reset_index()\n",
    "    \n",
    "    # create a list of participants\n",
    "    participants = list(dff['participant'].unique())\n",
    "\n",
    "    #create two list of reaction time regarding session types\n",
    "    control_mean = list(dff[dff['type'] =='control'].n)\n",
    "    dehydration_mean = list(dff[dff['type'] =='dehydration'].n)\n",
    "\n",
    "    #create a dictionary of 3 keys and values and then convert into a dataframe\n",
    "    data = {'participants' : participants,\n",
    "            'control'   : control_mean,\n",
    "            'dehydration'   : dehydration_mean,\n",
    "            }\n",
    "    data = pd.DataFrame(data)\n",
    "\n",
    "    palette =  [\"skyblue\", \"salmon\"] #colors\n",
    "\n",
    "    # create a list like:\n",
    "    # [ (\"blue\", \"control\"), (\"Ablue\", \"dehydration\"), (\"red\", \"control\"), (\"red\", \"dehydration\"), ... ]\n",
    "    x = [ (participant, test) for participant in participants for test in types ]\n",
    "    counts = sum(zip(data['control'], data['dehydration']), ()) # like an hstack\n",
    "\n",
    "    source = ColumnDataSource(data=dict(x=x, counts=counts))\n",
    "    # plot\n",
    "    p = figure(x_range=FactorRange(*x), y_range=[0, 23], width=900, height=500, \n",
    "                title='Title', y_axis_label=\"Y\", x_axis_label=\"X\")\n",
    "\n",
    "    p.vbar(x='x', top='counts', width=1, source=source, line_color=\"white\",\n",
    "           fill_color=factor_cmap('x', palette=palette, factors=types, start=1, end=2))\n",
    "\n",
    "    p.y_range.start = 0\n",
    "    p.x_range.range_padding = 0.1\n",
    "    p.xaxis.major_label_orientation = 1\n",
    "    p.xgrid.grid_line_color = None\n",
    "\n",
    "    return p\n",
    "\n",
    "def calculate_standard_error(df, datacol):\n",
    "    \"\"\"\n",
    "    A function to calculate the standard error of one column within a dataframe\n",
    "    \n",
    "    Args:\n",
    "        df: one of the dataframes returned in the data_dict\n",
    "        datacol: the column of wich you want the SE\n",
    "    \n",
    "    Returns:\n",
    "        data: returns the standard error\n",
    "        \n",
    "    By:\n",
    "        Mahdiye\n",
    "        Jacob Menzinga\n",
    "    \"\"\"\n",
    "    \n",
    "    df_mean = df.groupby(by=[\"participant\", \"type\"]).agg(mean=(datacol, \"mean\"))\n",
    "    df_se = df.groupby(by=[\"participant\", \"type\"]).agg(se=(datacol, \"sem\"))\n",
    "    upper = df_mean[\"mean\"] + 1.96 * df_se[\"se\"]\n",
    "    lower = df_mean[\"mean\"] - 1.96 * df_se[\"se\"]\n",
    "    data = pd.concat([upper.rename(\"upper\"), lower.rename(\"lower\")], axis=1)\n",
    "    return data\n",
    "\n",
    "\n",
    "def plot_standard_error(plot, data):\n",
    "    \"\"\"\n",
    "    A function to add the SE as wiskers to an already existing plot\n",
    "    The data is derived form the 'calculate_standard_error' function.\n",
    "    \n",
    "    Args:\n",
    "        plot: an alredy existing bokeh plot object\n",
    "        data: the standard error data\n",
    "        \n",
    "    Returns:\n",
    "        p: the plot given as argument with added whiskers\n",
    "    \"\"\"\n",
    "    \n",
    "    x = list(data.index.values)\n",
    "    data_map = {\n",
    "        'x': x,\n",
    "        'upper': data[\"upper\"].tolist(),\n",
    "        'lower': data[\"lower\"].tolist()\n",
    "\n",
    "        }\n",
    "    source = ColumnDataSource(data=data_map)\n",
    "\n",
    "    w = Whisker(source=source, base=\"x\", upper=\"upper\", lower=\"lower\", \n",
    "            line_color='purple', level=\"overlay\")\n",
    "    w.upper_head.line_color = 'purple'\n",
    "    w.lower_head.line_color = 'purple'\n",
    "    w.upper_head.size = w.lower_head.size = 20\n",
    "    plot.add_layout(w)\n",
    "    return plot\n",
    "\n",
    "def plot_error_bar(df, datacol):\n",
    "    \"\"\"\n",
    "    Plots a barplot with error whiskers \n",
    "\n",
    "    Args:\n",
    "        df (DataFrame): a dataframe from the data_dict\n",
    "        datacol (string): the column name of the y-variable you want to plot\n",
    "\n",
    "    Returns:\n",
    "        _type_: _description_\n",
    "        \n",
    "    By:\n",
    "        Mahdiye\n",
    "        Jacob Menzinga\n",
    "    \"\"\"\n",
    "    data_se = calculate_standard_error(df, datacol)\n",
    "    p = barplot(df)\n",
    "    p = plot_standard_error(p, data_se)\n",
    "    return p"
   ]
  },
  {
   "cell_type": "code",
   "execution_count": null,
   "metadata": {},
   "outputs": [],
   "source": [
    "plot_error_bar()"
   ]
  },
  {
   "cell_type": "code",
   "execution_count": 110,
   "metadata": {
    "scrolled": true
   },
   "outputs": [
    {
     "data": {
      "text/html": [
       "\n",
       "  <div class=\"bk-root\" id=\"f101643e-5481-4cea-97b9-a5aa9a117182\" data-root-id=\"10704\"></div>\n"
      ]
     },
     "metadata": {},
     "output_type": "display_data"
    },
    {
     "data": {
      "application/javascript": "(function(root) {\n  function embed_document(root) {\n  const docs_json = {\"ee2449fe-ce27-4b72-b12a-cc530c1db6cd\":{\"defs\":[{\"extends\":null,\"module\":null,\"name\":\"ReactiveHTML1\",\"overrides\":[],\"properties\":[]},{\"extends\":null,\"module\":null,\"name\":\"FlexBox1\",\"overrides\":[],\"properties\":[{\"default\":\"flex-start\",\"kind\":null,\"name\":\"align_content\"},{\"default\":\"flex-start\",\"kind\":null,\"name\":\"align_items\"},{\"default\":\"row\",\"kind\":null,\"name\":\"flex_direction\"},{\"default\":\"wrap\",\"kind\":null,\"name\":\"flex_wrap\"},{\"default\":\"flex-start\",\"kind\":null,\"name\":\"justify_content\"}]},{\"extends\":null,\"module\":null,\"name\":\"GridStack1\",\"overrides\":[],\"properties\":[{\"default\":\"warn\",\"kind\":null,\"name\":\"mode\"},{\"default\":null,\"kind\":null,\"name\":\"ncols\"},{\"default\":null,\"kind\":null,\"name\":\"nrows\"},{\"default\":true,\"kind\":null,\"name\":\"allow_resize\"},{\"default\":true,\"kind\":null,\"name\":\"allow_drag\"},{\"default\":[],\"kind\":null,\"name\":\"state\"}]},{\"extends\":null,\"module\":null,\"name\":\"click1\",\"overrides\":[],\"properties\":[{\"default\":\"\",\"kind\":null,\"name\":\"terminal_output\"},{\"default\":\"\",\"kind\":null,\"name\":\"debug_name\"},{\"default\":0,\"kind\":null,\"name\":\"clears\"}]},{\"extends\":null,\"module\":null,\"name\":\"NotificationAreaBase1\",\"overrides\":[],\"properties\":[{\"default\":\"bottom-right\",\"kind\":null,\"name\":\"position\"},{\"default\":0,\"kind\":null,\"name\":\"_clear\"}]},{\"extends\":null,\"module\":null,\"name\":\"NotificationArea1\",\"overrides\":[],\"properties\":[{\"default\":[],\"kind\":null,\"name\":\"notifications\"},{\"default\":\"bottom-right\",\"kind\":null,\"name\":\"position\"},{\"default\":0,\"kind\":null,\"name\":\"_clear\"},{\"default\":[{\"background\":\"#ffc107\",\"icon\":{\"className\":\"fas fa-exclamation-triangle\",\"color\":\"white\",\"tagName\":\"i\"},\"type\":\"warning\"},{\"background\":\"#007bff\",\"icon\":{\"className\":\"fas fa-info-circle\",\"color\":\"white\",\"tagName\":\"i\"},\"type\":\"info\"}],\"kind\":null,\"name\":\"types\"}]},{\"extends\":null,\"module\":null,\"name\":\"Notification\",\"overrides\":[],\"properties\":[{\"default\":null,\"kind\":null,\"name\":\"background\"},{\"default\":3000,\"kind\":null,\"name\":\"duration\"},{\"default\":null,\"kind\":null,\"name\":\"icon\"},{\"default\":\"\",\"kind\":null,\"name\":\"message\"},{\"default\":null,\"kind\":null,\"name\":\"notification_type\"},{\"default\":false,\"kind\":null,\"name\":\"_destroyed\"}]},{\"extends\":null,\"module\":null,\"name\":\"TemplateActions1\",\"overrides\":[],\"properties\":[{\"default\":0,\"kind\":null,\"name\":\"open_modal\"},{\"default\":0,\"kind\":null,\"name\":\"close_modal\"}]},{\"extends\":null,\"module\":null,\"name\":\"MaterialTemplateActions1\",\"overrides\":[],\"properties\":[{\"default\":0,\"kind\":null,\"name\":\"open_modal\"},{\"default\":0,\"kind\":null,\"name\":\"close_modal\"}]}],\"roots\":{\"references\":[{\"attributes\":{\"below\":[{\"id\":\"10714\"}],\"center\":[{\"id\":\"10716\"},{\"id\":\"10720\"},{\"id\":\"10743\"}],\"height\":500,\"left\":[{\"id\":\"10717\"}],\"renderers\":[{\"id\":\"10740\"}],\"title\":{\"id\":\"10705\"},\"toolbar\":{\"id\":\"10728\"},\"width\":900,\"x_range\":{\"id\":\"10703\"},\"x_scale\":{\"id\":\"10710\"},\"y_range\":{\"id\":\"10708\"},\"y_scale\":{\"id\":\"10712\"}},\"id\":\"10704\",\"subtype\":\"Figure\",\"type\":\"Plot\"},{\"attributes\":{},\"id\":\"10965\",\"type\":\"AllLabels\"},{\"attributes\":{},\"id\":\"10726\",\"type\":\"HelpTool\"},{\"attributes\":{},\"id\":\"10975\",\"type\":\"Selection\"},{\"attributes\":{\"line_color\":{\"value\":\"purple\"},\"size\":{\"value\":20}},\"id\":\"10746\",\"type\":\"TeeHead\"},{\"attributes\":{},\"id\":\"10968\",\"type\":\"AllLabels\"},{\"attributes\":{\"overlay\":{\"id\":\"10727\"}},\"id\":\"10723\",\"type\":\"BoxZoomTool\"},{\"attributes\":{},\"id\":\"10971\",\"type\":\"UnionRenderers\"},{\"attributes\":{},\"id\":\"10974\",\"type\":\"UnionRenderers\"},{\"attributes\":{\"axis_label\":\"Participant, Session type\",\"coordinates\":null,\"formatter\":{\"id\":\"10967\"},\"group\":null,\"major_label_orientation\":1,\"major_label_policy\":{\"id\":\"10968\"},\"ticker\":{\"id\":\"10715\"}},\"id\":\"10714\",\"type\":\"CategoricalAxis\"},{\"attributes\":{\"source\":{\"id\":\"10702\"}},\"id\":\"10741\",\"type\":\"CDSView\"},{\"attributes\":{\"base\":{\"field\":\"x\"},\"coordinates\":null,\"group\":null,\"level\":\"overlay\",\"line_color\":{\"value\":\"purple\"},\"lower\":{\"field\":\"lower\"},\"lower_head\":{\"id\":\"10746\"},\"source\":{\"id\":\"10742\"},\"upper\":{\"field\":\"upper\"},\"upper_head\":{\"id\":\"10745\"}},\"id\":\"10743\",\"type\":\"Whisker\"},{\"attributes\":{\"axis\":{\"id\":\"10714\"},\"coordinates\":null,\"grid_line_color\":null,\"group\":null,\"ticker\":null},\"id\":\"10716\",\"type\":\"Grid\"},{\"attributes\":{\"axis_label\":\"Average words repoduced\",\"coordinates\":null,\"formatter\":{\"id\":\"10964\"},\"group\":null,\"major_label_policy\":{\"id\":\"10965\"},\"ticker\":{\"id\":\"10718\"}},\"id\":\"10717\",\"type\":\"LinearAxis\"},{\"attributes\":{},\"id\":\"10722\",\"type\":\"WheelZoomTool\"},{\"attributes\":{},\"id\":\"10725\",\"type\":\"ResetTool\"},{\"attributes\":{\"end\":2,\"factors\":[\"control\",\"dehydration\"],\"palette\":[\"skyblue\",\"salmon\"],\"start\":1},\"id\":\"10735\",\"type\":\"CategoricalColorMapper\"},{\"attributes\":{},\"id\":\"10715\",\"type\":\"CategoricalTicker\"},{\"attributes\":{},\"id\":\"10964\",\"type\":\"BasicTickFormatter\"},{\"attributes\":{},\"id\":\"10718\",\"type\":\"BasicTicker\"},{\"attributes\":{},\"id\":\"10967\",\"type\":\"CategoricalTickFormatter\"},{\"attributes\":{},\"id\":\"10724\",\"type\":\"SaveTool\"},{\"attributes\":{\"axis\":{\"id\":\"10717\"},\"coordinates\":null,\"dimension\":1,\"group\":null,\"ticker\":null},\"id\":\"10720\",\"type\":\"Grid\"},{\"attributes\":{\"data\":{\"counts\":[14.166666666666666,17.166666666666668,12.833333333333334,12.5,12.166666666666666,12.0,17.166666666666668,14.0,14.0,10.833333333333334],\"x\":[[\"blue\",\"control\"],[\"blue\",\"dehydration\"],[\"green\",\"control\"],[\"green\",\"dehydration\"],[\"orange\",\"control\"],[\"orange\",\"dehydration\"],[\"pink\",\"control\"],[\"pink\",\"dehydration\"],[\"red\",\"control\"],[\"red\",\"dehydration\"]]},\"selected\":{\"id\":\"10972\"},\"selection_policy\":{\"id\":\"10971\"}},\"id\":\"10702\",\"type\":\"ColumnDataSource\"},{\"attributes\":{},\"id\":\"10721\",\"type\":\"PanTool\"},{\"attributes\":{\"data\":{\"lower\":[10.467968997966986,14.71775579763847,7.736914547122329,10.692969286370595,9.516838160685362,9.274730594357077,14.285325929363209,11.370384058460246,12.04,9.200000000000001],\"upper\":[17.865364335366344,19.615577535694868,17.92975211954434,14.307030713629405,14.81649517264797,14.725269405642923,20.04800740397013,16.629615941539754,15.96,12.466666666666667],\"x\":[[\"blue\",\"control\"],[\"blue\",\"dehydration\"],[\"green\",\"control\"],[\"green\",\"dehydration\"],[\"orange\",\"control\"],[\"orange\",\"dehydration\"],[\"pink\",\"control\"],[\"pink\",\"dehydration\"],[\"red\",\"control\"],[\"red\",\"dehydration\"]]},\"selected\":{\"id\":\"10975\"},\"selection_policy\":{\"id\":\"10974\"}},\"id\":\"10742\",\"type\":\"ColumnDataSource\"},{\"attributes\":{\"fill_alpha\":{\"value\":0.2},\"fill_color\":{\"field\":\"x\",\"transform\":{\"id\":\"10735\"}},\"hatch_alpha\":{\"value\":0.2},\"line_alpha\":{\"value\":0.2},\"line_color\":{\"value\":\"white\"},\"top\":{\"field\":\"counts\"},\"x\":{\"field\":\"x\"}},\"id\":\"10739\",\"type\":\"VBar\"},{\"attributes\":{\"factors\":[[\"blue\",\"control\"],[\"blue\",\"dehydration\"],[\"green\",\"control\"],[\"green\",\"dehydration\"],[\"orange\",\"control\"],[\"orange\",\"dehydration\"],[\"pink\",\"control\"],[\"pink\",\"dehydration\"],[\"red\",\"control\"],[\"red\",\"dehydration\"]],\"range_padding\":0.1},\"id\":\"10703\",\"type\":\"FactorRange\"},{\"attributes\":{},\"id\":\"10710\",\"type\":\"CategoricalScale\"},{\"attributes\":{\"fill_alpha\":{\"value\":0.1},\"fill_color\":{\"field\":\"x\",\"transform\":{\"id\":\"10735\"}},\"hatch_alpha\":{\"value\":0.1},\"line_alpha\":{\"value\":0.1},\"line_color\":{\"value\":\"white\"},\"top\":{\"field\":\"counts\"},\"x\":{\"field\":\"x\"}},\"id\":\"10738\",\"type\":\"VBar\"},{\"attributes\":{\"bottom_units\":\"screen\",\"coordinates\":null,\"fill_alpha\":0.5,\"fill_color\":\"lightgrey\",\"group\":null,\"left_units\":\"screen\",\"level\":\"overlay\",\"line_alpha\":1.0,\"line_color\":\"black\",\"line_dash\":[4,4],\"line_width\":2,\"right_units\":\"screen\",\"syncable\":false,\"top_units\":\"screen\"},\"id\":\"10727\",\"type\":\"BoxAnnotation\"},{\"attributes\":{},\"id\":\"10712\",\"type\":\"LinearScale\"},{\"attributes\":{\"fill_color\":{\"field\":\"x\",\"transform\":{\"id\":\"10735\"}},\"line_color\":{\"value\":\"white\"},\"top\":{\"field\":\"counts\"},\"x\":{\"field\":\"x\"}},\"id\":\"10737\",\"type\":\"VBar\"},{\"attributes\":{\"end\":23},\"id\":\"10708\",\"type\":\"Range1d\"},{\"attributes\":{\"line_color\":{\"value\":\"purple\"},\"size\":{\"value\":20}},\"id\":\"10745\",\"type\":\"TeeHead\"},{\"attributes\":{\"coordinates\":null,\"data_source\":{\"id\":\"10702\"},\"glyph\":{\"id\":\"10737\"},\"group\":null,\"hover_glyph\":null,\"muted_glyph\":{\"id\":\"10739\"},\"nonselection_glyph\":{\"id\":\"10738\"},\"view\":{\"id\":\"10741\"}},\"id\":\"10740\",\"type\":\"GlyphRenderer\"},{\"attributes\":{\"coordinates\":null,\"group\":null,\"text\":\"Average word count per participant, per session type\"},\"id\":\"10705\",\"type\":\"Title\"},{\"attributes\":{\"tools\":[{\"id\":\"10721\"},{\"id\":\"10722\"},{\"id\":\"10723\"},{\"id\":\"10724\"},{\"id\":\"10725\"},{\"id\":\"10726\"}]},\"id\":\"10728\",\"type\":\"Toolbar\"},{\"attributes\":{},\"id\":\"10972\",\"type\":\"Selection\"}],\"root_ids\":[\"10704\"]},\"title\":\"Bokeh Application\",\"version\":\"2.4.3\"}};\n  const render_items = [{\"docid\":\"ee2449fe-ce27-4b72-b12a-cc530c1db6cd\",\"root_ids\":[\"10704\"],\"roots\":{\"10704\":\"f101643e-5481-4cea-97b9-a5aa9a117182\"}}];\n  root.Bokeh.embed.embed_items_notebook(docs_json, render_items);\n  }\n  if (root.Bokeh !== undefined) {\n    embed_document(root);\n  } else {\n    let attempts = 0;\n    const timer = setInterval(function(root) {\n      if (root.Bokeh !== undefined) {\n        clearInterval(timer);\n        embed_document(root);\n      } else {\n        attempts++;\n        if (attempts > 100) {\n          clearInterval(timer);\n          console.log(\"Bokeh: ERROR: Unable to run BokehJS code because BokehJS library is missing\");\n        }\n      }\n    }, 10, root)\n  }\n})(window);",
      "application/vnd.bokehjs_exec.v0+json": ""
     },
     "metadata": {
      "application/vnd.bokehjs_exec.v0+json": {
       "id": "10704"
      }
     },
     "output_type": "display_data"
    }
   ],
   "source": [
    "def verbal_test(verbal_df): # Jacob\n",
    "    \"\"\"\n",
    "    This function takes the verbal dataframe from the data_dict, turns it into\n",
    "    its own df, calculates average words produced per participant and plots this\n",
    "    \n",
    "    Parameters\n",
    "        verbal_df: The data_dict with verbal as key\n",
    "        \n",
    "    Returns\n",
    "        verbal_df: The verbal task DataFrame\n",
    "        verbal_avg: A dataframe with the average words produced per participant\n",
    "                    and session type\n",
    "        verbal_barplot: A barplot displaying the verbal_avg data.\n",
    "    \"\"\"\n",
    "    \n",
    "    verbal_df = data_dict['verbal'].copy()\n",
    "    verbal_df = verbal_df[verbal_df[1] != 'word count'] # to remove silly headers\n",
    "    verbal_df.rename(columns={0:'word_type', 1:'n'}, inplace=True)\n",
    "    verbal_df['n'] = verbal_df['n'].astype(int)\n",
    "\n",
    "    verbal_avg = verbal_df.groupby(['participant', 'type']).mean().round(2)\n",
    "    \n",
    "    verbal_barplot = plot_error_bar(verbal_df, 'n')\n",
    "    \n",
    "    return verbal_df, verbal_avg, verbal_barplot\n",
    "\n",
    "verbal_df, verbal_avg, verbal_barplot = verbal_test(data_dict['verbal'])\n",
    "\n",
    "\n",
    "# Customizing barplot a little\n",
    "verbal_barplot.title.text = 'Average word count per participant, per session type'\n",
    "verbal_barplot.xaxis.axis_label = 'Participant, Session type'\n",
    "verbal_barplot.yaxis.axis_label = 'Average words repoduced'\n",
    "\n",
    "show(verbal_barplot)"
   ]
  },
  {
   "cell_type": "markdown",
   "metadata": {},
   "source": [
    "### Digit Span Analysis"
   ]
  },
  {
   "cell_type": "code",
   "execution_count": null,
   "metadata": {},
   "outputs": [
    {
     "data": {
      "text/html": [
       "\n",
       "  <div class=\"bk-root\" id=\"13840836-df37-41e7-9f91-bebf9df892f2\" data-root-id=\"5922\"></div>\n"
      ]
     },
     "metadata": {},
     "output_type": "display_data"
    },
    {
     "data": {
      "application/javascript": "(function(root) {\n  function embed_document(root) {\n  const docs_json = {\"0efc5eda-5519-4b09-84a4-dea1ffe22865\":{\"defs\":[{\"extends\":null,\"module\":null,\"name\":\"ReactiveHTML1\",\"overrides\":[],\"properties\":[]},{\"extends\":null,\"module\":null,\"name\":\"FlexBox1\",\"overrides\":[],\"properties\":[{\"default\":\"flex-start\",\"kind\":null,\"name\":\"align_content\"},{\"default\":\"flex-start\",\"kind\":null,\"name\":\"align_items\"},{\"default\":\"row\",\"kind\":null,\"name\":\"flex_direction\"},{\"default\":\"wrap\",\"kind\":null,\"name\":\"flex_wrap\"},{\"default\":\"flex-start\",\"kind\":null,\"name\":\"justify_content\"}]},{\"extends\":null,\"module\":null,\"name\":\"GridStack1\",\"overrides\":[],\"properties\":[{\"default\":\"warn\",\"kind\":null,\"name\":\"mode\"},{\"default\":null,\"kind\":null,\"name\":\"ncols\"},{\"default\":null,\"kind\":null,\"name\":\"nrows\"},{\"default\":true,\"kind\":null,\"name\":\"allow_resize\"},{\"default\":true,\"kind\":null,\"name\":\"allow_drag\"},{\"default\":[],\"kind\":null,\"name\":\"state\"}]},{\"extends\":null,\"module\":null,\"name\":\"click1\",\"overrides\":[],\"properties\":[{\"default\":\"\",\"kind\":null,\"name\":\"terminal_output\"},{\"default\":\"\",\"kind\":null,\"name\":\"debug_name\"},{\"default\":0,\"kind\":null,\"name\":\"clears\"}]},{\"extends\":null,\"module\":null,\"name\":\"NotificationAreaBase1\",\"overrides\":[],\"properties\":[{\"default\":\"bottom-right\",\"kind\":null,\"name\":\"position\"},{\"default\":0,\"kind\":null,\"name\":\"_clear\"}]},{\"extends\":null,\"module\":null,\"name\":\"NotificationArea1\",\"overrides\":[],\"properties\":[{\"default\":[],\"kind\":null,\"name\":\"notifications\"},{\"default\":\"bottom-right\",\"kind\":null,\"name\":\"position\"},{\"default\":0,\"kind\":null,\"name\":\"_clear\"},{\"default\":[{\"background\":\"#ffc107\",\"icon\":{\"className\":\"fas fa-exclamation-triangle\",\"color\":\"white\",\"tagName\":\"i\"},\"type\":\"warning\"},{\"background\":\"#007bff\",\"icon\":{\"className\":\"fas fa-info-circle\",\"color\":\"white\",\"tagName\":\"i\"},\"type\":\"info\"}],\"kind\":null,\"name\":\"types\"}]},{\"extends\":null,\"module\":null,\"name\":\"Notification\",\"overrides\":[],\"properties\":[{\"default\":null,\"kind\":null,\"name\":\"background\"},{\"default\":3000,\"kind\":null,\"name\":\"duration\"},{\"default\":null,\"kind\":null,\"name\":\"icon\"},{\"default\":\"\",\"kind\":null,\"name\":\"message\"},{\"default\":null,\"kind\":null,\"name\":\"notification_type\"},{\"default\":false,\"kind\":null,\"name\":\"_destroyed\"}]},{\"extends\":null,\"module\":null,\"name\":\"TemplateActions1\",\"overrides\":[],\"properties\":[{\"default\":0,\"kind\":null,\"name\":\"open_modal\"},{\"default\":0,\"kind\":null,\"name\":\"close_modal\"}]},{\"extends\":null,\"module\":null,\"name\":\"MaterialTemplateActions1\",\"overrides\":[],\"properties\":[{\"default\":0,\"kind\":null,\"name\":\"open_modal\"},{\"default\":0,\"kind\":null,\"name\":\"close_modal\"}]}],\"roots\":{\"references\":[{\"attributes\":{\"below\":[{\"id\":\"5932\"}],\"center\":[{\"id\":\"5934\"},{\"id\":\"5938\"},{\"id\":\"5948\"}],\"height\":450,\"left\":[{\"id\":\"5935\"}],\"renderers\":[{\"id\":\"5945\"}],\"title\":{\"id\":\"5923\"},\"toolbar\":{\"id\":\"5939\"},\"toolbar_location\":null,\"x_range\":{\"id\":\"5921\"},\"x_scale\":{\"id\":\"5928\"},\"y_range\":{\"id\":\"5926\"},\"y_scale\":{\"id\":\"5930\"}},\"id\":\"5922\",\"subtype\":\"Figure\",\"type\":\"Plot\"},{\"attributes\":{},\"id\":\"5933\",\"type\":\"CategoricalTicker\"},{\"attributes\":{\"fill_alpha\":{\"value\":0.2},\"fill_color\":{\"field\":\"x\",\"transform\":{\"id\":\"5940\"}},\"hatch_alpha\":{\"value\":0.2},\"line_alpha\":{\"value\":0.2},\"line_color\":{\"value\":\"white\"},\"top\":{\"field\":\"counts\"},\"width\":{\"value\":0.9},\"x\":{\"field\":\"x\"}},\"id\":\"5944\",\"type\":\"VBar\"},{\"attributes\":{},\"id\":\"6043\",\"type\":\"UnionRenderers\"},{\"attributes\":{},\"id\":\"6038\",\"type\":\"AllLabels\"},{\"attributes\":{},\"id\":\"6034\",\"type\":\"BasicTickFormatter\"},{\"attributes\":{},\"id\":\"5936\",\"type\":\"BasicTicker\"},{\"attributes\":{},\"id\":\"6037\",\"type\":\"CategoricalTickFormatter\"},{\"attributes\":{},\"id\":\"6042\",\"type\":\"Selection\"},{\"attributes\":{\"axis\":{\"id\":\"5935\"},\"coordinates\":null,\"dimension\":1,\"group\":null,\"ticker\":null},\"id\":\"5938\",\"type\":\"Grid\"},{\"attributes\":{\"range_padding\":1,\"start\":0},\"id\":\"5926\",\"type\":\"DataRange1d\"},{\"attributes\":{},\"id\":\"5939\",\"type\":\"Toolbar\"},{\"attributes\":{\"source\":{\"id\":\"5920\"}},\"id\":\"5946\",\"type\":\"CDSView\"},{\"attributes\":{\"coordinates\":null,\"data_source\":{\"id\":\"5920\"},\"glyph\":{\"id\":\"5942\"},\"group\":null,\"hover_glyph\":null,\"muted_glyph\":{\"id\":\"5944\"},\"nonselection_glyph\":{\"id\":\"5943\"},\"view\":{\"id\":\"5946\"}},\"id\":\"5945\",\"type\":\"GlyphRenderer\"},{\"attributes\":{\"factors\":[[\"blue\",\"control\"],[\"blue\",\"dehydration\"],[\"green\",\"control\"],[\"green\",\"dehydration\"],[\"orange\",\"control\"],[\"orange\",\"dehydration\"],[\"pink\",\"control\"],[\"pink\",\"dehydration\"],[\"red\",\"control\"],[\"red\",\"dehydration\"]],\"range_padding\":0.1},\"id\":\"5921\",\"type\":\"FactorRange\"},{\"attributes\":{\"line_color\":{\"value\":\"purple\"},\"size\":{\"value\":20}},\"id\":\"5950\",\"type\":\"TeeHead\"},{\"attributes\":{},\"id\":\"5930\",\"type\":\"LinearScale\"},{\"attributes\":{\"data\":{\"lower\":[6.0,4.04,6.0,4.52,4.52,4.52,5.52,4.52,6.52,5.52],\"upper\":[6.0,7.96,6.0,6.48,6.48,6.48,7.48,6.48,8.48,7.48],\"x\":[[\"blue\",\"control\"],[\"blue\",\"dehydration\"],[\"green\",\"control\"],[\"green\",\"dehydration\"],[\"orange\",\"control\"],[\"orange\",\"dehydration\"],[\"pink\",\"control\"],[\"pink\",\"dehydration\"],[\"red\",\"control\"],[\"red\",\"dehydration\"]]},\"selected\":{\"id\":\"6044\"},\"selection_policy\":{\"id\":\"6043\"}},\"id\":\"5947\",\"type\":\"ColumnDataSource\"},{\"attributes\":{\"axis_label\":\"Participant\",\"coordinates\":null,\"formatter\":{\"id\":\"6037\"},\"group\":null,\"major_label_orientation\":1,\"major_label_policy\":{\"id\":\"6038\"},\"ticker\":{\"id\":\"5933\"}},\"id\":\"5932\",\"type\":\"CategoricalAxis\"},{\"attributes\":{\"line_color\":{\"value\":\"purple\"},\"size\":{\"value\":20}},\"id\":\"5951\",\"type\":\"TeeHead\"},{\"attributes\":{\"fill_color\":{\"field\":\"x\",\"transform\":{\"id\":\"5940\"}},\"line_color\":{\"value\":\"white\"},\"top\":{\"field\":\"counts\"},\"width\":{\"value\":0.9},\"x\":{\"field\":\"x\"}},\"id\":\"5942\",\"type\":\"VBar\"},{\"attributes\":{\"axis\":{\"id\":\"5932\"},\"coordinates\":null,\"grid_line_color\":null,\"group\":null,\"ticker\":null},\"id\":\"5934\",\"type\":\"Grid\"},{\"attributes\":{},\"id\":\"6035\",\"type\":\"AllLabels\"},{\"attributes\":{},\"id\":\"6041\",\"type\":\"UnionRenderers\"},{\"attributes\":{\"coordinates\":null,\"group\":null,\"text\":\"Digit Span - Longest sequence remembered\"},\"id\":\"5923\",\"type\":\"Title\"},{\"attributes\":{},\"id\":\"6044\",\"type\":\"Selection\"},{\"attributes\":{\"end\":2,\"factors\":[\"control\",\"dehydration\"],\"palette\":[\"skyblue\",\"salmon\"],\"start\":1},\"id\":\"5940\",\"type\":\"CategoricalColorMapper\"},{\"attributes\":{\"data\":{\"counts\":[6.0,6.0,6.0,5.5,5.5,5.5,6.5,5.5,7.5,6.5],\"x\":[[\"blue\",\"control\"],[\"blue\",\"dehydration\"],[\"green\",\"control\"],[\"green\",\"dehydration\"],[\"orange\",\"control\"],[\"orange\",\"dehydration\"],[\"pink\",\"control\"],[\"pink\",\"dehydration\"],[\"red\",\"control\"],[\"red\",\"dehydration\"]]},\"selected\":{\"id\":\"6042\"},\"selection_policy\":{\"id\":\"6041\"}},\"id\":\"5920\",\"type\":\"ColumnDataSource\"},{\"attributes\":{\"base\":{\"field\":\"x\"},\"coordinates\":null,\"group\":null,\"level\":\"overlay\",\"line_color\":{\"value\":\"purple\"},\"lower\":{\"field\":\"lower\"},\"lower_head\":{\"id\":\"5951\"},\"source\":{\"id\":\"5947\"},\"upper\":{\"field\":\"upper\"},\"upper_head\":{\"id\":\"5950\"}},\"id\":\"5948\",\"type\":\"Whisker\"},{\"attributes\":{\"axis_label\":\"Number of digits (mean)\",\"coordinates\":null,\"formatter\":{\"id\":\"6034\"},\"group\":null,\"major_label_orientation\":\"vertical\",\"major_label_policy\":{\"id\":\"6035\"},\"ticker\":{\"id\":\"5936\"}},\"id\":\"5935\",\"type\":\"LinearAxis\"},{\"attributes\":{\"fill_alpha\":{\"value\":0.1},\"fill_color\":{\"field\":\"x\",\"transform\":{\"id\":\"5940\"}},\"hatch_alpha\":{\"value\":0.1},\"line_alpha\":{\"value\":0.1},\"line_color\":{\"value\":\"white\"},\"top\":{\"field\":\"counts\"},\"width\":{\"value\":0.9},\"x\":{\"field\":\"x\"}},\"id\":\"5943\",\"type\":\"VBar\"},{\"attributes\":{},\"id\":\"5928\",\"type\":\"CategoricalScale\"}],\"root_ids\":[\"5922\"]},\"title\":\"Bokeh Application\",\"version\":\"2.4.3\"}};\n  const render_items = [{\"docid\":\"0efc5eda-5519-4b09-84a4-dea1ffe22865\",\"root_ids\":[\"5922\"],\"roots\":{\"5922\":\"13840836-df37-41e7-9f91-bebf9df892f2\"}}];\n  root.Bokeh.embed.embed_items_notebook(docs_json, render_items);\n  }\n  if (root.Bokeh !== undefined) {\n    embed_document(root);\n  } else {\n    let attempts = 0;\n    const timer = setInterval(function(root) {\n      if (root.Bokeh !== undefined) {\n        clearInterval(timer);\n        embed_document(root);\n      } else {\n        attempts++;\n        if (attempts > 100) {\n          clearInterval(timer);\n          console.log(\"Bokeh: ERROR: Unable to run BokehJS code because BokehJS library is missing\");\n        }\n      }\n    }, 10, root)\n  }\n})(window);",
      "application/vnd.bokehjs_exec.v0+json": ""
     },
     "metadata": {
      "application/vnd.bokehjs_exec.v0+json": {
       "id": "5922"
      }
     },
     "output_type": "display_data"
    },
    {
     "data": {
      "text/html": [
       "\n",
       "  <div class=\"bk-root\" id=\"944686d5-17f9-4442-a3a9-42b589eabbc7\" data-root-id=\"6112\"></div>\n"
      ]
     },
     "metadata": {},
     "output_type": "display_data"
    },
    {
     "data": {
      "application/javascript": "(function(root) {\n  function embed_document(root) {\n  const docs_json = {\"26e01486-4c9d-486f-8b25-8c052d1aaa2e\":{\"defs\":[{\"extends\":null,\"module\":null,\"name\":\"ReactiveHTML1\",\"overrides\":[],\"properties\":[]},{\"extends\":null,\"module\":null,\"name\":\"FlexBox1\",\"overrides\":[],\"properties\":[{\"default\":\"flex-start\",\"kind\":null,\"name\":\"align_content\"},{\"default\":\"flex-start\",\"kind\":null,\"name\":\"align_items\"},{\"default\":\"row\",\"kind\":null,\"name\":\"flex_direction\"},{\"default\":\"wrap\",\"kind\":null,\"name\":\"flex_wrap\"},{\"default\":\"flex-start\",\"kind\":null,\"name\":\"justify_content\"}]},{\"extends\":null,\"module\":null,\"name\":\"GridStack1\",\"overrides\":[],\"properties\":[{\"default\":\"warn\",\"kind\":null,\"name\":\"mode\"},{\"default\":null,\"kind\":null,\"name\":\"ncols\"},{\"default\":null,\"kind\":null,\"name\":\"nrows\"},{\"default\":true,\"kind\":null,\"name\":\"allow_resize\"},{\"default\":true,\"kind\":null,\"name\":\"allow_drag\"},{\"default\":[],\"kind\":null,\"name\":\"state\"}]},{\"extends\":null,\"module\":null,\"name\":\"click1\",\"overrides\":[],\"properties\":[{\"default\":\"\",\"kind\":null,\"name\":\"terminal_output\"},{\"default\":\"\",\"kind\":null,\"name\":\"debug_name\"},{\"default\":0,\"kind\":null,\"name\":\"clears\"}]},{\"extends\":null,\"module\":null,\"name\":\"NotificationAreaBase1\",\"overrides\":[],\"properties\":[{\"default\":\"bottom-right\",\"kind\":null,\"name\":\"position\"},{\"default\":0,\"kind\":null,\"name\":\"_clear\"}]},{\"extends\":null,\"module\":null,\"name\":\"NotificationArea1\",\"overrides\":[],\"properties\":[{\"default\":[],\"kind\":null,\"name\":\"notifications\"},{\"default\":\"bottom-right\",\"kind\":null,\"name\":\"position\"},{\"default\":0,\"kind\":null,\"name\":\"_clear\"},{\"default\":[{\"background\":\"#ffc107\",\"icon\":{\"className\":\"fas fa-exclamation-triangle\",\"color\":\"white\",\"tagName\":\"i\"},\"type\":\"warning\"},{\"background\":\"#007bff\",\"icon\":{\"className\":\"fas fa-info-circle\",\"color\":\"white\",\"tagName\":\"i\"},\"type\":\"info\"}],\"kind\":null,\"name\":\"types\"}]},{\"extends\":null,\"module\":null,\"name\":\"Notification\",\"overrides\":[],\"properties\":[{\"default\":null,\"kind\":null,\"name\":\"background\"},{\"default\":3000,\"kind\":null,\"name\":\"duration\"},{\"default\":null,\"kind\":null,\"name\":\"icon\"},{\"default\":\"\",\"kind\":null,\"name\":\"message\"},{\"default\":null,\"kind\":null,\"name\":\"notification_type\"},{\"default\":false,\"kind\":null,\"name\":\"_destroyed\"}]},{\"extends\":null,\"module\":null,\"name\":\"TemplateActions1\",\"overrides\":[],\"properties\":[{\"default\":0,\"kind\":null,\"name\":\"open_modal\"},{\"default\":0,\"kind\":null,\"name\":\"close_modal\"}]},{\"extends\":null,\"module\":null,\"name\":\"MaterialTemplateActions1\",\"overrides\":[],\"properties\":[{\"default\":0,\"kind\":null,\"name\":\"open_modal\"},{\"default\":0,\"kind\":null,\"name\":\"close_modal\"}]}],\"roots\":{\"references\":[{\"attributes\":{\"below\":[{\"id\":\"6122\"}],\"center\":[{\"id\":\"6124\"},{\"id\":\"6128\"},{\"id\":\"6138\"}],\"height\":450,\"left\":[{\"id\":\"6125\"}],\"renderers\":[{\"id\":\"6135\"}],\"title\":{\"id\":\"6113\"},\"toolbar\":{\"id\":\"6129\"},\"toolbar_location\":null,\"x_range\":{\"id\":\"6111\"},\"x_scale\":{\"id\":\"6118\"},\"y_range\":{\"id\":\"6116\"},\"y_scale\":{\"id\":\"6120\"}},\"id\":\"6112\",\"subtype\":\"Figure\",\"type\":\"Plot\"},{\"attributes\":{},\"id\":\"6120\",\"type\":\"LinearScale\"},{\"attributes\":{\"fill_color\":{\"field\":\"x\",\"transform\":{\"id\":\"6130\"}},\"line_color\":{\"value\":\"white\"},\"top\":{\"field\":\"counts\"},\"width\":{\"value\":0.9},\"x\":{\"field\":\"x\"}},\"id\":\"6132\",\"type\":\"VBar\"},{\"attributes\":{\"end\":2,\"factors\":[\"control\",\"dehydration\"],\"palette\":[\"skyblue\",\"salmon\"],\"start\":1},\"id\":\"6130\",\"type\":\"CategoricalColorMapper\"},{\"attributes\":{\"fill_alpha\":{\"value\":0.2},\"fill_color\":{\"field\":\"x\",\"transform\":{\"id\":\"6130\"}},\"hatch_alpha\":{\"value\":0.2},\"line_alpha\":{\"value\":0.2},\"line_color\":{\"value\":\"white\"},\"top\":{\"field\":\"counts\"},\"width\":{\"value\":0.9},\"x\":{\"field\":\"x\"}},\"id\":\"6134\",\"type\":\"VBar\"},{\"attributes\":{},\"id\":\"6241\",\"type\":\"AllLabels\"},{\"attributes\":{\"coordinates\":null,\"group\":null,\"text\":\"Digit Span - Erorrs\"},\"id\":\"6113\",\"type\":\"Title\"},{\"attributes\":{\"data\":{\"lower\":[0.15384615384615385,0.16509090909090912,0.13589743589743591,0.15066666666666667,0.15066666666666667,0.15832167832167832,0.12666666666666665,0.16623376623376626,0.1651764705882353,0.11733333333333335],\"upper\":[0.15384615384615385,0.3076363636363636,0.26153846153846155,0.21600000000000003,0.21600000000000003,0.2542657342657343,0.29,0.2298701298701298,0.2112941176470588,0.18266666666666664],\"x\":[[\"blue\",\"control\"],[\"blue\",\"dehydration\"],[\"green\",\"control\"],[\"green\",\"dehydration\"],[\"orange\",\"control\"],[\"orange\",\"dehydration\"],[\"pink\",\"control\"],[\"pink\",\"dehydration\"],[\"red\",\"control\"],[\"red\",\"dehydration\"]]},\"selected\":{\"id\":\"6247\"},\"selection_policy\":{\"id\":\"6246\"}},\"id\":\"6137\",\"type\":\"ColumnDataSource\"},{\"attributes\":{},\"id\":\"6129\",\"type\":\"Toolbar\"},{\"attributes\":{},\"id\":\"6240\",\"type\":\"CategoricalTickFormatter\"},{\"attributes\":{},\"id\":\"6123\",\"type\":\"CategoricalTicker\"},{\"attributes\":{\"range_padding\":1,\"start\":0},\"id\":\"6116\",\"type\":\"DataRange1d\"},{\"attributes\":{},\"id\":\"6245\",\"type\":\"Selection\"},{\"attributes\":{},\"id\":\"6247\",\"type\":\"Selection\"},{\"attributes\":{},\"id\":\"6126\",\"type\":\"BasicTicker\"},{\"attributes\":{},\"id\":\"6246\",\"type\":\"UnionRenderers\"},{\"attributes\":{\"factors\":[[\"blue\",\"control\"],[\"blue\",\"dehydration\"],[\"green\",\"control\"],[\"green\",\"dehydration\"],[\"orange\",\"control\"],[\"orange\",\"dehydration\"],[\"pink\",\"control\"],[\"pink\",\"dehydration\"],[\"red\",\"control\"],[\"red\",\"dehydration\"]],\"range_padding\":0.1},\"id\":\"6111\",\"type\":\"FactorRange\"},{\"attributes\":{\"fill_alpha\":{\"value\":0.1},\"fill_color\":{\"field\":\"x\",\"transform\":{\"id\":\"6130\"}},\"hatch_alpha\":{\"value\":0.1},\"line_alpha\":{\"value\":0.1},\"line_color\":{\"value\":\"white\"},\"top\":{\"field\":\"counts\"},\"width\":{\"value\":0.9},\"x\":{\"field\":\"x\"}},\"id\":\"6133\",\"type\":\"VBar\"},{\"attributes\":{\"line_color\":{\"value\":\"purple\"},\"size\":{\"value\":20}},\"id\":\"6140\",\"type\":\"TeeHead\"},{\"attributes\":{\"base\":{\"field\":\"x\"},\"coordinates\":null,\"group\":null,\"level\":\"overlay\",\"line_color\":{\"value\":\"purple\"},\"lower\":{\"field\":\"lower\"},\"lower_head\":{\"id\":\"6141\"},\"source\":{\"id\":\"6137\"},\"upper\":{\"field\":\"upper\"},\"upper_head\":{\"id\":\"6140\"}},\"id\":\"6138\",\"type\":\"Whisker\"},{\"attributes\":{\"axis\":{\"id\":\"6125\"},\"coordinates\":null,\"dimension\":1,\"group\":null,\"ticker\":null},\"id\":\"6128\",\"type\":\"Grid\"},{\"attributes\":{\"source\":{\"id\":\"6110\"}},\"id\":\"6136\",\"type\":\"CDSView\"},{\"attributes\":{},\"id\":\"6237\",\"type\":\"BasicTickFormatter\"},{\"attributes\":{\"axis\":{\"id\":\"6122\"},\"coordinates\":null,\"grid_line_color\":null,\"group\":null,\"ticker\":null},\"id\":\"6124\",\"type\":\"Grid\"},{\"attributes\":{\"line_color\":{\"value\":\"purple\"},\"size\":{\"value\":20}},\"id\":\"6141\",\"type\":\"TeeHead\"},{\"attributes\":{},\"id\":\"6238\",\"type\":\"AllLabels\"},{\"attributes\":{\"axis_label\":\"Participant\",\"coordinates\":null,\"formatter\":{\"id\":\"6240\"},\"group\":null,\"major_label_orientation\":1,\"major_label_policy\":{\"id\":\"6241\"},\"ticker\":{\"id\":\"6123\"}},\"id\":\"6122\",\"type\":\"CategoricalAxis\"},{\"attributes\":{},\"id\":\"6244\",\"type\":\"UnionRenderers\"},{\"attributes\":{},\"id\":\"6118\",\"type\":\"CategoricalScale\"},{\"attributes\":{\"axis_label\":\"Number of errors made (mean)\",\"coordinates\":null,\"formatter\":{\"id\":\"6237\"},\"group\":null,\"major_label_orientation\":\"vertical\",\"major_label_policy\":{\"id\":\"6238\"},\"ticker\":{\"id\":\"6126\"}},\"id\":\"6125\",\"type\":\"LinearAxis\"},{\"attributes\":{\"coordinates\":null,\"data_source\":{\"id\":\"6110\"},\"glyph\":{\"id\":\"6132\"},\"group\":null,\"hover_glyph\":null,\"muted_glyph\":{\"id\":\"6134\"},\"nonselection_glyph\":{\"id\":\"6133\"},\"view\":{\"id\":\"6136\"}},\"id\":\"6135\",\"type\":\"GlyphRenderer\"},{\"attributes\":{\"data\":{\"counts\":[0.15384615384615385,0.23636363636363636,0.19871794871794873,0.18333333333333335,0.18333333333333335,0.2062937062937063,0.20833333333333331,0.19805194805194803,0.18823529411764706,0.15],\"x\":[[\"blue\",\"control\"],[\"blue\",\"dehydration\"],[\"green\",\"control\"],[\"green\",\"dehydration\"],[\"orange\",\"control\"],[\"orange\",\"dehydration\"],[\"pink\",\"control\"],[\"pink\",\"dehydration\"],[\"red\",\"control\"],[\"red\",\"dehydration\"]]},\"selected\":{\"id\":\"6245\"},\"selection_policy\":{\"id\":\"6244\"}},\"id\":\"6110\",\"type\":\"ColumnDataSource\"}],\"root_ids\":[\"6112\"]},\"title\":\"Bokeh Application\",\"version\":\"2.4.3\"}};\n  const render_items = [{\"docid\":\"26e01486-4c9d-486f-8b25-8c052d1aaa2e\",\"root_ids\":[\"6112\"],\"roots\":{\"6112\":\"944686d5-17f9-4442-a3a9-42b589eabbc7\"}}];\n  root.Bokeh.embed.embed_items_notebook(docs_json, render_items);\n  }\n  if (root.Bokeh !== undefined) {\n    embed_document(root);\n  } else {\n    let attempts = 0;\n    const timer = setInterval(function(root) {\n      if (root.Bokeh !== undefined) {\n        clearInterval(timer);\n        embed_document(root);\n      } else {\n        attempts++;\n        if (attempts > 100) {\n          clearInterval(timer);\n          console.log(\"Bokeh: ERROR: Unable to run BokehJS code because BokehJS library is missing\");\n        }\n      }\n    }, 10, root)\n  }\n})(window);",
      "application/vnd.bokehjs_exec.v0+json": ""
     },
     "metadata": {
      "application/vnd.bokehjs_exec.v0+json": {
       "id": "6112"
      }
     },
     "output_type": "display_data"
    }
   ],
   "source": [
    "def digit_test(digit_df): # Karina\n",
    "    '''Function to analyse the Digit Span data and to create a dataframe with the information needed to plot'''\n",
    "    # Change data types\n",
    "    digit_df = digit_df.astype({'participant': 'string',\n",
    "                                'type': 'string',\n",
    "                                'repeat': 'int',\n",
    "                                'seq length':'float',\n",
    "                                'errors': 'float',\n",
    "                                'clicks expected': 'float',\n",
    "                                'clicks observed': 'float'})\n",
    "\n",
    "    digit_df['clicks difference'] = digit_df['clicks observed'] - digit_df['clicks expected']\n",
    "    # Make calculations by column taking the groups into account               \n",
    "    digit_grouped = digit_df.groupby(['participant','type', 'repeat']).agg({'seq length': 'max','errors': 'mean', 'clicks difference':'mean'} )\n",
    "\n",
    "    # Calculte values needed for the analysis\n",
    "    digit_grouped['seq length'] = digit_grouped['seq length'] - 1\n",
    "\n",
    "    # Obtain mean and estandar error\n",
    "    digit_mean_sem = digit_grouped.groupby(['participant', 'type']).agg(['mean','sem'])\n",
    "\n",
    "    return digit_mean_sem\n",
    "\n",
    "#Running function\n",
    "digit_mean_sem = digit_test(digit_df = df_dict[\"digit\"])\n",
    "\n",
    "\n",
    "def digit_barplots(analysis):\n",
    "    '''Function to plot the digit span data with error bars'''\n",
    "\n",
    "    df = digit_mean_sem\n",
    "    # Data for the barplots\n",
    "    participants = df.reset_index().participant.unique().tolist()\n",
    "    sessions_type = df.reset_index().type.unique().tolist()\n",
    "    values = df[analysis]['mean'].tolist()\n",
    "\n",
    "    # Data for the error bars\n",
    "    upper = df[analysis]['mean'] + 1.96 * df[analysis]['sem']\n",
    "    lower = df[analysis]['mean'] - 1.96 * df[analysis]['sem']\n",
    "    data = pd.concat([upper.rename(\"upper\"), lower.rename(\"lower\")], axis=1)\n",
    "\n",
    "    palette=['skyblue', 'salmon']\n",
    "    # Dictionary to change the y labels\n",
    "    y_label = {'seq length': 'Number of digits (mean)',\n",
    "              'errors':'Number of errors made (mean)',\n",
    "              'clicks difference': 'Diference in errors made (mean)'}\n",
    "    # Dictionary to change the plot titles\n",
    "    title = {'seq length': 'Digit Span - Longest sequence remembered',\n",
    "              'errors':'Digit Span - Erorrs',\n",
    "              'clicks difference': 'Digit Span - Diference in errors made (mean)'}\n",
    "\n",
    "    x = [(participant, session) for participant in participants for session in sessions_type]\n",
    "    source = ColumnDataSource(data=dict(x=x, counts=values))\n",
    "    \n",
    "    # Create the barplots\n",
    "    p = figure(x_range=FactorRange(*x), height=450, title=title[analysis],\n",
    "            toolbar_location=None, tools=\"\")\n",
    "\n",
    "    p.vbar(x='x', top='counts', width=0.9, source=source, line_color=\"white\",\n",
    "        fill_color=factor_cmap('x', palette=palette, factors=sessions_type, start=1, end=2))\n",
    "\n",
    "    # customise x-axis\n",
    "    p.xaxis.axis_label = \"Participant\"\n",
    "    p.x_range.range_padding = 0.1\n",
    "    p.xaxis.major_label_orientation = 1\n",
    "    p.xgrid.grid_line_color = None\n",
    "\n",
    "    #  customise y-axis\n",
    "    p.yaxis.axis_label = y_label[analysis]\n",
    "    p.y_range.start = 0\n",
    "    p.yaxis.major_label_orientation = \"vertical\"\n",
    "    p.y_range.range_padding = 1\n",
    "    \n",
    "    # Run the function to add the error bars\n",
    "    p = plot_standard_error(plot=p, data=data)\n",
    "    return (p)\n",
    "\n",
    "p_seq_len = digit_barplots('seq length')\n",
    "show(p_seq_len )\n",
    "\n",
    "p_error = digit_barplots('errors')\n",
    "show(p_error)\n",
    "\n",
    "# # Making interactive the plots \n",
    "#analyses = ['seq length', 'errors']\n",
    "#inter_plot = pn.interact(digit_barplots, analysis=analyses)\n",
    "#inter_plot\n",
    "\n",
    "# # Creating a dashboard\n",
    "# dashboard = pn.template.BootstrapTemplate(title='Title', sidebar_with = 400)\n",
    "# dashboard.sidebar.append(inter_plot[0])\n",
    "# dashboard.main.append(inter_plot[1])\n",
    "# dashboard.show()\n"
   ]
  },
  {
   "cell_type": "markdown",
   "metadata": {},
   "source": [
    "### Dehydration percentage"
   ]
  },
  {
   "cell_type": "code",
   "execution_count": null,
   "metadata": {},
   "outputs": [],
   "source": [
    "# Obtain personal data\n",
    "df_health = df_dict['personal']\n",
    "# Theres one missing value in the green session. Fill it with the correct value\n",
    "df_health[0] = df_health[0].fillna(2)\n",
    "\n",
    "def dehydration_percentage():\n",
    "    '''Function to obtain the % of dehydration per participant per session'''\n",
    "    # Keep only the body weight data and drop NaN\n",
    "    body_weight = df_health[['participant','type', 0, 5]].dropna()\n",
    "    # drop the rows with strings on them (the ones with index ==0 )\n",
    "    body_weight = body_weight[body_weight.index!=0]\n",
    "    # Rename the columns\n",
    "    body_weight.rename(columns={0:'session', 5:'body weight'}, inplace=True)\n",
    "\n",
    "    body_weight = body_weight.astype({'body weight':'float'})\n",
    "    # calculate percentage of dehydration\n",
    "    body_weight['dehydration %'] = (body_weight.groupby(['participant','type','session'])['body weight'].pct_change()) * 100\n",
    "    return body_weight\n",
    "\n"
   ]
  },
  {
   "cell_type": "code",
   "execution_count": null,
   "metadata": {},
   "outputs": [
    {
     "ename": "AttributeError",
     "evalue": "'function' object has no attribute 'dropna'",
     "output_type": "error",
     "traceback": [
      "\u001b[0;31m---------------------------------------------------------------------------\u001b[0m",
      "\u001b[0;31mAttributeError\u001b[0m                            Traceback (most recent call last)",
      "\u001b[1;32m/homes/jjmenzinga/Documents/GitHub/HydroHomies/template.ipynb Cell 49\u001b[0m in \u001b[0;36m<cell line: 1>\u001b[0;34m()\u001b[0m\n\u001b[0;32m----> <a href='vscode-notebook-cell://ssh-remote%2Bbioinf.nl/homes/jjmenzinga/Documents/GitHub/HydroHomies/template.ipynb#X65sdnNjb2RlLXJlbW90ZQ%3D%3D?line=0'>1</a>\u001b[0m dehydration_percentage \u001b[39m=\u001b[39m \u001b[39mround\u001b[39m(dehydration_percentage\u001b[39m.\u001b[39;49mdropna(),\u001b[39m2\u001b[39m)\n\u001b[1;32m      <a href='vscode-notebook-cell://ssh-remote%2Bbioinf.nl/homes/jjmenzinga/Documents/GitHub/HydroHomies/template.ipynb#X65sdnNjb2RlLXJlbW90ZQ%3D%3D?line=1'>2</a>\u001b[0m dehydration_percentage\u001b[39m.\u001b[39mdrop(dehydration_percentage\u001b[39m.\u001b[39mcolumns[\u001b[39m3\u001b[39m], axis\u001b[39m=\u001b[39m\u001b[39m1\u001b[39m, inplace\u001b[39m=\u001b[39m\u001b[39mTrue\u001b[39;00m)\n\u001b[1;32m      <a href='vscode-notebook-cell://ssh-remote%2Bbioinf.nl/homes/jjmenzinga/Documents/GitHub/HydroHomies/template.ipynb#X65sdnNjb2RlLXJlbW90ZQ%3D%3D?line=2'>3</a>\u001b[0m dehydration_percentage \u001b[39m=\u001b[39m dehydration_percentage[dehydration_percentage[\u001b[39m'\u001b[39m\u001b[39mtype\u001b[39m\u001b[39m'\u001b[39m]\u001b[39m==\u001b[39m\u001b[39m'\u001b[39m\u001b[39mdehydration\u001b[39m\u001b[39m'\u001b[39m]\n",
      "\u001b[0;31mAttributeError\u001b[0m: 'function' object has no attribute 'dropna'"
     ]
    }
   ],
   "source": [
    "dehydration_percentage = round(dehydration_percentage.dropna(),2)\n",
    "dehydration_percentage.drop(dehydration_percentage.columns[3], axis=1, inplace=True)\n",
    "dehydration_percentage = dehydration_percentage[dehydration_percentage['type']=='dehydration']\n",
    "dehydration_percentage = dehydration_percentage.T\n",
    "dehydration_percentage.columns = dehydration_percentage.iloc[0] # consider the first row as header\n",
    "dehydration_percentage = dehydration_percentage[1:]\n",
    "dehydration_percentage"
   ]
  },
  {
   "cell_type": "markdown",
   "metadata": {},
   "source": [
    "## Panel"
   ]
  },
  {
   "cell_type": "code",
   "execution_count": null,
   "metadata": {},
   "outputs": [],
   "source": []
  },
  {
   "cell_type": "code",
   "execution_count": null,
   "metadata": {},
   "outputs": [],
   "source": [
    "sample_text = '''\n",
    "Lorem ipsum dolor sit amet, consectetur adipiscing elit. Pellentesque augue eros, tristique ut eros et, bibendum mattis tellus. Integer dui sapien, pulvinar nec ante nec, rutrum feugiat massa. Fusce tristique viverra nunc, sed commodo orci rhoncus sed. Aliquam pellentesque dui lectus, vel gravida eros volutpat vitae. Aliquam faucibus nulla id dolor suscipit elementum. Donec sed ante hendrerit, porta ligula faucibus, venenatis mi. Donec id imperdiet neque. Ut vel blandit urna. Fusce convallis, eros at suscipit aliquam, quam tellus pharetra est, ultrices ultrices dolor mi eu enim. Integer sed rutrum tellus.\n",
    "\n",
    "Etiam non commodo sem. Fusce faucibus tristique mauris, et fermentum quam euismod et. Vestibulum tempor mi neque, et consectetur odio tincidunt ut. Nunc scelerisque sed neque vitae efficitur. Nulla rutrum purus hendrerit, posuere massa ut, pharetra mi. Pellentesque nisi ipsum, pretium ut interdum eget, tempor at dui. Vestibulum a lectus est. Curabitur faucibus id neque ut pharetra. Proin rutrum aliquet scelerisque. Vestibulum id felis at eros accumsan commodo. Vestibulum nec sem felis. Aenean in ullamcorper diam.\n",
    "\n",
    "In commodo nisl turpis, id laoreet elit suscipit eu. Mauris ut interdum odio. Vivamus ultricies lorem ligula, ut consequat sapien tempor non. Aenean pellentesque nulla sit amet sem fermentum auctor. Nulla facilisi. Sed iaculis vehicula neque, sit amet tempor libero fringilla quis. Phasellus malesuada placerat elit nec vestibulum. Etiam eu odio imperdiet, ornare leo sed, suscipit magna. Proin diam ante, imperdiet eu odio ac, consectetur euismod ipsum. Vivamus non odio aliquet, dapibus elit sit amet, viverra diam. Proin posuere orci eget orci tempus, ut eleifend ipsum mattis. Fusce ultrices est vitae nibh aliquet sollicitudin. Duis vehicula erat turpis, ac efficitur turpis sagittis eget.\n",
    "\n",
    "Proin eros sapien, vestibulum at congue a, hendrerit sed lacus. Mauris aliquet egestas mauris, sit amet mattis velit faucibus convallis. Phasellus aliquam sapien eros, quis volutpat velit faucibus ut. Vestibulum pulvinar mollis orci vel fringilla. In dapibus, mi iaculis ornare tincidunt, lacus risus sollicitudin tortor, blandit eleifend tellus arcu id tortor. Cras nec fringilla nunc, a fermentum urna. Vivamus urna ligula, tempus nec dolor sed, fermentum faucibus velit. Nulla convallis vitae turpis in tempor.\n",
    "\n",
    "Integer non faucibus mi, vel gravida felis. Suspendisse vel mi felis. Curabitur dapibus enim ullamcorper consequat vulputate. Suspendisse scelerisque nibh ut luctus iaculis. Sed nunc urna, hendrerit vel sapien nec, imperdiet posuere felis. Cras varius nibh sed tortor congue, et egestas velit lacinia. Mauris purus magna, posuere vel metus non, tempus mattis lacus. Vestibulum turpis justo, posuere nec ante at, facilisis tristique dui. Aenean gravida, eros in luctus lobortis, ipsum lorem ornare felis, vel volutpat ipsum metus vitae erat. Aliquam condimentum aliquam ipsum, at aliquet quam congue quis. Phasellus eu metus velit.\n",
    "'''"
   ]
  },
  {
   "cell_type": "code",
   "execution_count": null,
   "metadata": {},
   "outputs": [],
   "source": [
    "# CSS styling\n",
    "css = '''\n",
    ".sidebar_button .bk-btn-group button {\n",
    "  font-size: 10pt;\n",
    "}\n",
    ".bk-root .bk-btn-default{\n",
    "  border-radius: 25px;\n",
    "}\n",
    "\n",
    ".red_button .bk-btn-default.bk-active {\n",
    "  background-color: #ff5447;\n",
    "  color: white;\n",
    "  border-radius: 25px;\n",
    "}\n",
    ".orange_button .bk-btn-default.bk-active {\n",
    "  background-color: #ff8d54;\n",
    "  color: white;\n",
    "  border-radius: 25px;\n",
    "}\n",
    ".green_button .bk-btn-default.bk-active {\n",
    "  background-color: #67ba65;\n",
    "  color: white;\n",
    "  border-radius: 25px;\n",
    "}\n",
    ".blue_button .bk-btn-default.bk-active {\n",
    "  background-color: #5fc6fa;\n",
    "  color: white;\n",
    "  border-radius: 25px;\n",
    "}\n",
    ".pink_button .bk-btn-default.bk-active {\n",
    "  background-color: #f06ed6;\n",
    "  color: white;\n",
    "  border-radius: 25px;\n",
    "}\n",
    "'''\n",
    "\n",
    "pn.extension(raw_css=[css])\n",
    "\n",
    "dashboard = pn.template.BootstrapTemplate(header_background='#00C9FF',\n",
    "                                        #  theme=DarkTheme,\n",
    "                                          sidebar_width=200)\n",
    "\n",
    "\n",
    "def show_homepage(event):\n",
    "    title.object = f'##{event.obj.name}'\n",
    "    \n",
    "def update_page(event):\n",
    "    print(event)\n",
    "    name = event.name\n",
    "    figure1.clear()\n",
    "    figure1.append(flanker_counts)\n",
    "    title.object = f'##{event.obj.name}'\n",
    "    figures = pn.Row(pn.Column('test2'), pn.Column('test3'))\n",
    "    \n",
    "    \n",
    "\n",
    "# Create sidebar buttons:\n",
    "homepage_btn       = pn.widgets.Button(name='Homepage', width=150, css_classes=['sidebar_button'])\n",
    "stroop_btn         = pn.widgets.Button(name='Stroop test', width=150, css_classes=['sidebar_button'])\n",
    "stop_signal_btn    = pn.widgets.Button(name='Stop Signal test', width=150, css_classes=['sidebar_button'])\n",
    "flanker_btn        = pn.widgets.Button(name='Flanker test', width=150, css_classes=['sidebar_button'])\n",
    "digit_span_btn     = pn.widgets.Button(name='Digit span test', width=150, css_classes=['sidebar_button'])\n",
    "verbal_fluency_btn = pn.widgets.Button(name='Verbal fluency test', width=150, css_classes=['sidebar_button'])\n",
    "\n",
    "# append buttons to sidebar\n",
    "dashboard.sidebar.append(homepage_btn)\n",
    "dashboard.sidebar.append(stroop_btn)\n",
    "dashboard.sidebar.append(stop_signal_btn)\n",
    "dashboard.sidebar.append(flanker_btn)\n",
    "dashboard.sidebar.append(digit_span_btn)\n",
    "dashboard.sidebar.append(verbal_fluency_btn)\n",
    "\n",
    "# create participant options buttons\n",
    "red_btn = pn.widgets.Toggle(name='Red', value=True, width=100, css_classes=['red_button'])\n",
    "orange_btn = pn.widgets.Toggle(name='Orange', value=True, width=100, css_classes=['orange_button'])\n",
    "green_btn = pn.widgets.Toggle(name='Green', value=True, width=100, css_classes=['green_button'])\n",
    "blue_btn = pn.widgets.Toggle(name='Blue', value=True, width=100, css_classes=['blue_button'])\n",
    "pink_btn = pn.widgets.Toggle(name='Pink', value=True, width=100, css_classes=['pink_button'])\n",
    "\n",
    "# make buttons interactive\n",
    "homepage_btn.on_click(show_homepage)\n",
    "stroop_btn.on_click(update_page)\n",
    "# stop_signal_btn.on_click(update_page)\n",
    "# flanker_btn.on_click(update_page)\n",
    "# digit_span_btn.on_click(update_page)\n",
    "# verbal_fluency_btn.on_click(update_page)\n",
    "\n",
    "# fig = figure(height=400, width=400)\n",
    "# fig.circle(x=range(10), y=range(10))\n",
    "\n",
    "# create dashboard objects\n",
    "title = pn.pane.Markdown('##Homepage', width=500)\n",
    "options = pn.Row(red_btn, orange_btn, green_btn, blue_btn, pink_btn)\n",
    "figure1 = pn.Column(stroop_barplot)\n",
    "figure1_text = pn.Row(pn.pane.Markdown('\\n'.join(sample_text.split('\\n')[:4]), width=800))\n",
    "figure2 = pn.Column(stroop_boxplot)\n",
    "figure2_text = pn.Row(pn.pane.Markdown('\\n'.join(sample_text.split('\\n')[:4]), width=800))\n",
    "\n",
    "# append dashboard objects to main dashboard\n",
    "dashboard.main.append(title)\n",
    "dashboard.main.append(options)\n",
    "dashboard.main.append(figure1)\n",
    "dashboard.main.append(figure1_text)\n",
    "dashboard.main.append(figure2)\n",
    "dashboard.main.append(figure2_text)\n",
    "\n",
    "# show dashboard \n",
    "dashboard.show()"
   ]
  },
  {
   "cell_type": "markdown",
   "metadata": {},
   "source": [
    "---"
   ]
  }
 ],
 "metadata": {
  "kernelspec": {
   "display_name": "Python 3",
   "language": "python",
   "name": "python3"
  },
  "language_info": {
   "codemirror_mode": {
    "name": "ipython",
    "version": 3
   },
   "file_extension": ".py",
   "mimetype": "text/x-python",
   "name": "python",
   "nbconvert_exporter": "python",
   "pygments_lexer": "ipython3",
   "version": "3.10.8"
  },
  "vscode": {
   "interpreter": {
    "hash": "6b91fa5cffef32cb10787a50fea9666676a7951181e01280b4644cd70c964bf4"
   }
  }
 },
 "nbformat": 4,
 "nbformat_minor": 4
}
