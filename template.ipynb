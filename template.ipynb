{
 "cells": [
  {
   "cell_type": "markdown",
   "metadata": {},
   "source": [
    "# HydroHomies Plots\n",
    "In this notebook, the plots, figures and also some explanations or details about each of them are being presented.  \n",
    "\n",
    "To clarify, plaase fallow this order:\n",
    "- Title for each plot is mandatory\n",
    "- Analysis must be written \n",
    "- Address of data should be mentioned"
   ]
  },
  {
   "attachments": {},
   "cell_type": "markdown",
   "metadata": {},
   "source": [
    "Loading in all our data"
   ]
  },
  {
   "cell_type": "code",
   "execution_count": 25,
   "metadata": {},
   "outputs": [],
   "source": [
    "import yaml\n",
    "import pandas as pd\n",
    "with open('config.yaml') as stream:\n",
    "    config = yaml.safe_load(stream)\n",
    "\n",
    "# Data blue    \n",
    "personal_data_blue_df = pd.read_excel(config['personal_data_blue'], sheet_name = None)\n",
    "verbal_fluency_blue_df = pd.read_excel(config['verbal_fluency_test_blue'], sheet_name = None)\n",
    "stroop_test_blue_df = pd.read_excel(config['stroop_test_blue'], sheet_name = None)\n",
    "stop_signal_test_blue_df = pd.read_excel(config['stop_signal_test_blue'], sheet_name = None)\n",
    "flanker_test_blue_df = pd.read_excel(config['flanker_test_blue'], sheet_name = None)\n",
    "digit_span_test_blue_df = pd.read_excel(config['digit_span_test_blue'], sheet_name = None)\n",
    "\n",
    "# Data green\n",
    "personal_data_green_df = pd.read_excel(config['personal_data_green'], sheet_name = None)\n",
    "verbal_fluency_green_df = pd.read_excel(config['verbal_fluency_test_green'], sheet_name = None)\n",
    "stroop_test_green_df = pd.read_excel(config['stroop_test_green'], sheet_name = None)\n",
    "stop_signal_test_green_df = pd.read_excel(config['stop_signal_test_green'], sheet_name = None)\n",
    "flanker_test_green_df = pd.read_excel(config['flanker_test_green'], sheet_name = None)\n",
    "digit_span_test_green_df = pd.read_excel(config['digit_span_test_green'], sheet_name = None)\n",
    "\n",
    "#Data red\n",
    "personal_data_red_df = pd.read_excel(config['personal_data_red'], sheet_name = None)\n",
    "verbal_fluency_red_df = pd.read_excel(config['verbal_fluency_test_red'], sheet_name = None)\n",
    "stroop_test_red_df = pd.read_excel(config['stroop_test_red'], sheet_name = None)\n",
    "stop_signal_test_red_df = pd.read_excel(config['stop_signal_test_red'], sheet_name = None)\n",
    "flanker_test_red_df = pd.read_excel(config['flanker_test_red'], sheet_name = None)\n",
    "digit_span_test_red_df = pd.read_excel(config['digit_span_test_red'], sheet_name = None)\n",
    "\n",
    "# Data purple\n",
    "personal_data_purple_df = pd.read_excel(config['personal_data_purple'], sheet_name = None)\n",
    "verbal_fluency_purple_df = pd.read_excel(config['verbal_fluency_test_purple'], sheet_name = None)\n",
    "stroop_test_purple_df = pd.read_excel(config['stroop_test_purple'], sheet_name = None)\n",
    "stop_signal_test_purple_df = pd.read_excel(config['stop_signal_test_purple'], sheet_name = None)\n",
    "flanker_test_purple_df = pd.read_excel(config['flanker_test_purple'], sheet_name = None)\n",
    "digit_span_test_purple_df = pd.read_excel(config['digit_span_test_purple'], sheet_name = None)\n",
    "\n",
    "# Data pink\n",
    "personal_data_pink_df = pd.read_excel(config['personal_data_pink'], sheet_name = None)\n",
    "verbal_fluency_pink_df = pd.read_excel(config['verbal_fluency_test_pink'], sheet_name = None)\n",
    "stroop_test_pink_df = pd.read_excel(config['stroop_test_pink'], sheet_name = None)\n",
    "stop_signal_test_pink_df = pd.read_excel(config['stop_signal_test_pink'], sheet_name = None)\n",
    "flanker_test_pink_df = pd.read_excel(config['flanker_test_pink'], sheet_name = None)\n",
    "digit_span_test_pink_df = pd.read_excel(config['digit_span_test_pink'], sheet_name = None)\n",
    "\n",
    "# Data orange\n",
    "personal_data_orange_df = pd.read_excel(config['personal_data_orange'], sheet_name = None)\n",
    "verbal_fluency_orange_df = pd.read_excel(config['verbal_fluency_test_orange'], sheet_name = None)\n",
    "stroop_test_orange_df = pd.read_excel(config['stroop_test_orange'], sheet_name = None)\n",
    "stop_signal_test_orange_df = pd.read_excel(config['stop_signal_test_orange'], sheet_name = None)\n",
    "flanker_test_orange_df = pd.read_excel(config['flanker_test_orange'], sheet_name = None)\n",
    "digit_span_test_orange_df = pd.read_excel(config['digit_span_test_orange'], sheet_name = None)"
   ]
  },
  {
   "cell_type": "markdown",
   "metadata": {},
   "source": [
    "# Figures\n",
    "\n"
   ]
  },
  {
   "cell_type": "markdown",
   "metadata": {},
   "source": [
    "### **Comparison of Dehydration and control of one person**"
   ]
  },
  {
   "cell_type": "markdown",
   "metadata": {},
   "source": [
    "### Explanations: "
   ]
  },
  {
   "cell_type": "markdown",
   "metadata": {
    "tags": [
     "code1"
    ]
   },
   "source": [
    "### Data: "
   ]
  },
  {
   "cell_type": "code",
   "execution_count": 6,
   "metadata": {},
   "outputs": [],
   "source": [
    "# the code\n",
    "pass"
   ]
  },
  {
   "cell_type": "markdown",
   "metadata": {},
   "source": [
    "### Analysis: "
   ]
  },
  {
   "cell_type": "markdown",
   "metadata": {},
   "source": [
    "---"
   ]
  },
  {
   "cell_type": "markdown",
   "metadata": {},
   "source": [
    "### **Comparison of Dehydration of all participants**"
   ]
  },
  {
   "cell_type": "markdown",
   "metadata": {},
   "source": [
    "### Explanations: "
   ]
  },
  {
   "cell_type": "markdown",
   "metadata": {},
   "source": [
    "#### Data: "
   ]
  },
  {
   "cell_type": "code",
   "execution_count": 7,
   "metadata": {},
   "outputs": [],
   "source": [
    "#code"
   ]
  },
  {
   "cell_type": "markdown",
   "metadata": {},
   "source": [
    "### Analysis: "
   ]
  },
  {
   "cell_type": "markdown",
   "metadata": {},
   "source": [
    "---"
   ]
  },
  {
   "cell_type": "markdown",
   "metadata": {},
   "source": [
    "### **Comparison of Rehydration of all participants**"
   ]
  },
  {
   "cell_type": "markdown",
   "metadata": {},
   "source": [
    "### Explanations: "
   ]
  },
  {
   "cell_type": "markdown",
   "metadata": {},
   "source": [
    "### Data: "
   ]
  },
  {
   "cell_type": "code",
   "execution_count": 8,
   "metadata": {},
   "outputs": [],
   "source": [
    "#code"
   ]
  },
  {
   "cell_type": "markdown",
   "metadata": {},
   "source": [
    "### Analysis: "
   ]
  },
  {
   "cell_type": "markdown",
   "metadata": {},
   "source": [
    "---"
   ]
  }
 ],
 "metadata": {
  "kernelspec": {
   "display_name": "Python 3",
   "language": "python",
   "name": "python3"
  },
  "language_info": {
   "codemirror_mode": {
    "name": "ipython",
    "version": 3
   },
   "file_extension": ".py",
   "mimetype": "text/x-python",
   "name": "python",
   "nbconvert_exporter": "python",
   "pygments_lexer": "ipython3",
   "version": "3.10.8"
  },
  "vscode": {
   "interpreter": {
    "hash": "6b91fa5cffef32cb10787a50fea9666676a7951181e01280b4644cd70c964bf4"
   }
  }
 },
 "nbformat": 4,
 "nbformat_minor": 4
}
