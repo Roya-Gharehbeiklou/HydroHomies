{
 "cells": [
  {
   "cell_type": "markdown",
   "metadata": {},
   "source": [
    "# HydroHomies Plots\n",
    "In this notebook, the plots, figures and also some explanations or details about each of them are being presented.  \n",
    "\n",
    "To clarify plots, please follow this order:\n",
    "- Title for each plot is mandatory\n",
    "- Analysis must be written \n",
    "- legends are manedatory"
   ]
  },
  {
   "cell_type": "markdown",
   "metadata": {},
   "source": [
    "### Importing the needed modules"
   ]
  },
  {
   "cell_type": "code",
   "execution_count": 5,
   "metadata": {},
   "outputs": [
    {
     "data": {
      "text/html": [
       "<div class=\"bk-root\">\n",
       "        <a href=\"https://bokeh.org\" target=\"_blank\" class=\"bk-logo bk-logo-small bk-logo-notebook\"></a>\n",
       "        <span id=\"1003\">Loading BokehJS ...</span>\n",
       "    </div>\n"
      ]
     },
     "metadata": {},
     "output_type": "display_data"
    },
    {
     "data": {
      "application/javascript": "(function(root) {\n  function now() {\n    return new Date();\n  }\n\n  const force = true;\n\n  if (typeof root._bokeh_onload_callbacks === \"undefined\" || force === true) {\n    root._bokeh_onload_callbacks = [];\n    root._bokeh_is_loading = undefined;\n  }\n\nconst JS_MIME_TYPE = 'application/javascript';\n  const HTML_MIME_TYPE = 'text/html';\n  const EXEC_MIME_TYPE = 'application/vnd.bokehjs_exec.v0+json';\n  const CLASS_NAME = 'output_bokeh rendered_html';\n\n  /**\n   * Render data to the DOM node\n   */\n  function render(props, node) {\n    const script = document.createElement(\"script\");\n    node.appendChild(script);\n  }\n\n  /**\n   * Handle when an output is cleared or removed\n   */\n  function handleClearOutput(event, handle) {\n    const cell = handle.cell;\n\n    const id = cell.output_area._bokeh_element_id;\n    const server_id = cell.output_area._bokeh_server_id;\n    // Clean up Bokeh references\n    if (id != null && id in Bokeh.index) {\n      Bokeh.index[id].model.document.clear();\n      delete Bokeh.index[id];\n    }\n\n    if (server_id !== undefined) {\n      // Clean up Bokeh references\n      const cmd_clean = \"from bokeh.io.state import curstate; print(curstate().uuid_to_server['\" + server_id + \"'].get_sessions()[0].document.roots[0]._id)\";\n      cell.notebook.kernel.execute(cmd_clean, {\n        iopub: {\n          output: function(msg) {\n            const id = msg.content.text.trim();\n            if (id in Bokeh.index) {\n              Bokeh.index[id].model.document.clear();\n              delete Bokeh.index[id];\n            }\n          }\n        }\n      });\n      // Destroy server and session\n      const cmd_destroy = \"import bokeh.io.notebook as ion; ion.destroy_server('\" + server_id + \"')\";\n      cell.notebook.kernel.execute(cmd_destroy);\n    }\n  }\n\n  /**\n   * Handle when a new output is added\n   */\n  function handleAddOutput(event, handle) {\n    const output_area = handle.output_area;\n    const output = handle.output;\n\n    // limit handleAddOutput to display_data with EXEC_MIME_TYPE content only\n    if ((output.output_type != \"display_data\") || (!Object.prototype.hasOwnProperty.call(output.data, EXEC_MIME_TYPE))) {\n      return\n    }\n\n    const toinsert = output_area.element.find(\".\" + CLASS_NAME.split(' ')[0]);\n\n    if (output.metadata[EXEC_MIME_TYPE][\"id\"] !== undefined) {\n      toinsert[toinsert.length - 1].firstChild.textContent = output.data[JS_MIME_TYPE];\n      // store reference to embed id on output_area\n      output_area._bokeh_element_id = output.metadata[EXEC_MIME_TYPE][\"id\"];\n    }\n    if (output.metadata[EXEC_MIME_TYPE][\"server_id\"] !== undefined) {\n      const bk_div = document.createElement(\"div\");\n      bk_div.innerHTML = output.data[HTML_MIME_TYPE];\n      const script_attrs = bk_div.children[0].attributes;\n      for (let i = 0; i < script_attrs.length; i++) {\n        toinsert[toinsert.length - 1].firstChild.setAttribute(script_attrs[i].name, script_attrs[i].value);\n        toinsert[toinsert.length - 1].firstChild.textContent = bk_div.children[0].textContent\n      }\n      // store reference to server id on output_area\n      output_area._bokeh_server_id = output.metadata[EXEC_MIME_TYPE][\"server_id\"];\n    }\n  }\n\n  function register_renderer(events, OutputArea) {\n\n    function append_mime(data, metadata, element) {\n      // create a DOM node to render to\n      const toinsert = this.create_output_subarea(\n        metadata,\n        CLASS_NAME,\n        EXEC_MIME_TYPE\n      );\n      this.keyboard_manager.register_events(toinsert);\n      // Render to node\n      const props = {data: data, metadata: metadata[EXEC_MIME_TYPE]};\n      render(props, toinsert[toinsert.length - 1]);\n      element.append(toinsert);\n      return toinsert\n    }\n\n    /* Handle when an output is cleared or removed */\n    events.on('clear_output.CodeCell', handleClearOutput);\n    events.on('delete.Cell', handleClearOutput);\n\n    /* Handle when a new output is added */\n    events.on('output_added.OutputArea', handleAddOutput);\n\n    /**\n     * Register the mime type and append_mime function with output_area\n     */\n    OutputArea.prototype.register_mime_type(EXEC_MIME_TYPE, append_mime, {\n      /* Is output safe? */\n      safe: true,\n      /* Index of renderer in `output_area.display_order` */\n      index: 0\n    });\n  }\n\n  // register the mime type if in Jupyter Notebook environment and previously unregistered\n  if (root.Jupyter !== undefined) {\n    const events = require('base/js/events');\n    const OutputArea = require('notebook/js/outputarea').OutputArea;\n\n    if (OutputArea.prototype.mime_types().indexOf(EXEC_MIME_TYPE) == -1) {\n      register_renderer(events, OutputArea);\n    }\n  }\n  if (typeof (root._bokeh_timeout) === \"undefined\" || force === true) {\n    root._bokeh_timeout = Date.now() + 5000;\n    root._bokeh_failed_load = false;\n  }\n\n  const NB_LOAD_WARNING = {'data': {'text/html':\n     \"<div style='background-color: #fdd'>\\n\"+\n     \"<p>\\n\"+\n     \"BokehJS does not appear to have successfully loaded. If loading BokehJS from CDN, this \\n\"+\n     \"may be due to a slow or bad network connection. Possible fixes:\\n\"+\n     \"</p>\\n\"+\n     \"<ul>\\n\"+\n     \"<li>re-rerun `output_notebook()` to attempt to load from CDN again, or</li>\\n\"+\n     \"<li>use INLINE resources instead, as so:</li>\\n\"+\n     \"</ul>\\n\"+\n     \"<code>\\n\"+\n     \"from bokeh.resources import INLINE\\n\"+\n     \"output_notebook(resources=INLINE)\\n\"+\n     \"</code>\\n\"+\n     \"</div>\"}};\n\n  function display_loaded() {\n    const el = document.getElementById(\"1003\");\n    if (el != null) {\n      el.textContent = \"BokehJS is loading...\";\n    }\n    if (root.Bokeh !== undefined) {\n      if (el != null) {\n        el.textContent = \"BokehJS \" + root.Bokeh.version + \" successfully loaded.\";\n      }\n    } else if (Date.now() < root._bokeh_timeout) {\n      setTimeout(display_loaded, 100)\n    }\n  }\n\n  function run_callbacks() {\n    try {\n      root._bokeh_onload_callbacks.forEach(function(callback) {\n        if (callback != null)\n          callback();\n      });\n    } finally {\n      delete root._bokeh_onload_callbacks\n    }\n    console.debug(\"Bokeh: all callbacks have finished\");\n  }\n\n  function load_libs(css_urls, js_urls, callback) {\n    if (css_urls == null) css_urls = [];\n    if (js_urls == null) js_urls = [];\n\n    root._bokeh_onload_callbacks.push(callback);\n    if (root._bokeh_is_loading > 0) {\n      console.debug(\"Bokeh: BokehJS is being loaded, scheduling callback at\", now());\n      return null;\n    }\n    if (js_urls == null || js_urls.length === 0) {\n      run_callbacks();\n      return null;\n    }\n    console.debug(\"Bokeh: BokehJS not loaded, scheduling load and callback at\", now());\n    root._bokeh_is_loading = css_urls.length + js_urls.length;\n\n    function on_load() {\n      root._bokeh_is_loading--;\n      if (root._bokeh_is_loading === 0) {\n        console.debug(\"Bokeh: all BokehJS libraries/stylesheets loaded\");\n        run_callbacks()\n      }\n    }\n\n    function on_error(url) {\n      console.error(\"failed to load \" + url);\n    }\n\n    for (let i = 0; i < css_urls.length; i++) {\n      const url = css_urls[i];\n      const element = document.createElement(\"link\");\n      element.onload = on_load;\n      element.onerror = on_error.bind(null, url);\n      element.rel = \"stylesheet\";\n      element.type = \"text/css\";\n      element.href = url;\n      console.debug(\"Bokeh: injecting link tag for BokehJS stylesheet: \", url);\n      document.body.appendChild(element);\n    }\n\n    for (let i = 0; i < js_urls.length; i++) {\n      const url = js_urls[i];\n      const element = document.createElement('script');\n      element.onload = on_load;\n      element.onerror = on_error.bind(null, url);\n      element.async = false;\n      element.src = url;\n      console.debug(\"Bokeh: injecting script tag for BokehJS library: \", url);\n      document.head.appendChild(element);\n    }\n  };\n\n  function inject_raw_css(css) {\n    const element = document.createElement(\"style\");\n    element.appendChild(document.createTextNode(css));\n    document.body.appendChild(element);\n  }\n\n  const js_urls = [\"https://cdn.bokeh.org/bokeh/release/bokeh-2.4.3.min.js\", \"https://cdn.bokeh.org/bokeh/release/bokeh-gl-2.4.3.min.js\", \"https://cdn.bokeh.org/bokeh/release/bokeh-widgets-2.4.3.min.js\", \"https://cdn.bokeh.org/bokeh/release/bokeh-tables-2.4.3.min.js\", \"https://cdn.bokeh.org/bokeh/release/bokeh-mathjax-2.4.3.min.js\", \"https://unpkg.com/@holoviz/panel@0.14.2/dist/panel.min.js\"];\n  const css_urls = [];\n\n  const inline_js = [    function(Bokeh) {\n      Bokeh.set_log_level(\"info\");\n    },\nfunction(Bokeh) {\n    }\n  ];\n\n  function run_inline_js() {\n    if (root.Bokeh !== undefined || force === true) {\n          for (let i = 0; i < inline_js.length; i++) {\n      inline_js[i].call(root, root.Bokeh);\n    }\nif (force === true) {\n        display_loaded();\n      }} else if (Date.now() < root._bokeh_timeout) {\n      setTimeout(run_inline_js, 100);\n    } else if (!root._bokeh_failed_load) {\n      console.log(\"Bokeh: BokehJS failed to load within specified timeout.\");\n      root._bokeh_failed_load = true;\n    } else if (force !== true) {\n      const cell = $(document.getElementById(\"1003\")).parents('.cell').data().cell;\n      cell.output_area.append_execute_result(NB_LOAD_WARNING)\n    }\n  }\n\n  if (root._bokeh_is_loading === 0) {\n    console.debug(\"Bokeh: BokehJS loaded, going straight to plotting\");\n    run_inline_js();\n  } else {\n    load_libs(css_urls, js_urls, function() {\n      console.debug(\"Bokeh: BokehJS plotting callback run at\", now());\n      run_inline_js();\n    });\n  }\n}(window));",
      "application/vnd.bokehjs_load.v0+json": ""
     },
     "metadata": {},
     "output_type": "display_data"
    }
   ],
   "source": [
    "import yaml\n",
    "import pandas as pd\n",
    "import numpy as np\n",
    "\n",
    "from bokeh.plotting import figure, show\n",
    "from bokeh.io import show, output_notebook\n",
    "from bokeh.transform import dodge, factor_cmap\n",
    "from bokeh.models import ColumnDataSource, FactorRange, Whisker\n",
    "import panel as pn\n",
    "from scipy.stats import sem\n",
    "from bokeh.transform import factor_cmap\n",
    "from bokeh.layouts import gridplot\n",
    "\n",
    "\n",
    "output_notebook()\n",
    "pn.extension()\n",
    "\n",
    "import hvplot.pandas"
   ]
  },
  {
   "cell_type": "markdown",
   "metadata": {},
   "source": [
    "### Loading all data\n"
   ]
  },
  {
   "cell_type": "code",
   "execution_count": 6,
   "metadata": {},
   "outputs": [],
   "source": [
    "with open('config.yaml') as stream:\n",
    "    config = yaml.safe_load(stream)"
   ]
  },
  {
   "cell_type": "markdown",
   "metadata": {
    "tags": [
     "code1"
    ]
   },
   "source": [
    "### Cleaning (Digit Span Raw Data)"
   ]
  },
  {
   "cell_type": "code",
   "execution_count": 7,
   "metadata": {},
   "outputs": [],
   "source": [
    "def clean_digit_span(raw_df):\n",
    "    # Select the sequence length data from the raw data and create a dataframe\n",
    "    seq_length_df = raw_df[raw_df[1].astype(str).str.match(r'\\d+')]\n",
    "\n",
    "    # Get the value of the longest sequence remembered\n",
    "    longest = seq_length_df[2]\n",
    "    longest = longest.tolist()\n",
    "\n",
    "    # Get the number of errors made\n",
    "    error_number = seq_length_df[3]\n",
    "    error_number = error_number.tolist()\n",
    "\n",
    "    # Select the rows with the click stimulus data\n",
    "    click_stim_df = raw_df[raw_df[1]=='clickedStim']\n",
    "    click_stim_df.size\n",
    "\n",
    "    # Calculate the number of clicks made by the participant\n",
    "    clicks_observed = click_stim_df.count(axis=1) - 2 \n",
    "    clicks_observed = clicks_observed.tolist()\n",
    "\n",
    "    # Calculate the number of clicks that the participant should have made\n",
    "    clicks_expected =  pd.to_numeric(longest) + 1\n",
    "    clicks_expected = clicks_expected.tolist()\n",
    "\n",
    "    # Create a new dataframe with all the values calculated above\n",
    "    clean_data = pd.DataFrame(data ={'seq length':longest,\n",
    "                        'errors': error_number,\n",
    "                        'clicks expected': clicks_expected,\n",
    "                        'clicks observed':clicks_observed})\n",
    "\n",
    "    # Return the new dataframe\n",
    "    return clean_data\n"
   ]
  },
  {
   "cell_type": "markdown",
   "metadata": {},
   "source": [
    "### Data Integration For Each Test"
   ]
  },
  {
   "cell_type": "code",
   "execution_count": 8,
   "metadata": {},
   "outputs": [],
   "source": [
    "def create_merged_df(config_dict):\n",
    "    data_dict = {}\n",
    "\n",
    "    # read the files \n",
    "    for test, file in config_dict.items():\n",
    "        df_dict = pd.read_excel(file, sheet_name=None, header=None)\n",
    "\n",
    "        for session, df in df_dict.items():\n",
    "\n",
    "            # extracting the participant name and type name\n",
    "            participant = test.split('_')[-1]\n",
    "            test_name = test.split('_')[0]\n",
    "\n",
    "            #extracting repeat number and making its column except for personal\n",
    "            try:\n",
    "                type, repeat = session.split('_')\n",
    "                df.insert(0, 'repeat', repeat)\n",
    "\n",
    "            except ValueError:\n",
    "                type = session\n",
    "\n",
    "\n",
    "            # Running function to clean digit span data\n",
    "            if test_name == 'digit':\n",
    "                df = clean_digit_span(df.iloc[3:])\n",
    "                df.insert(0, 'repeat', repeat)\n",
    "            \n",
    "            # verbal fluency test contains header\n",
    "            elif test_name =='verbal':\n",
    "                df = df.iloc[1:]\n",
    "\n",
    "            # inserting the type and participant columns\n",
    "            df.insert(0, 'type', type)\n",
    "            df.insert(0, 'participant', participant)\n",
    " \n",
    "            # concatenating data frames of each test\n",
    "            if test_name not in data_dict:\n",
    "                data_dict[test_name] = df\n",
    "            else:\n",
    "                data_dict[test_name] = pd.concat([data_dict[test_name], df])\n",
    "    \n",
    "    return data_dict\n",
    "\n",
    "data_dict = create_merged_df(config)"
   ]
  },
  {
   "cell_type": "code",
   "execution_count": 9,
   "metadata": {},
   "outputs": [],
   "source": [
    "# Run the function\n",
    "df_dict = create_merged_df(config)"
   ]
  },
  {
   "cell_type": "markdown",
   "metadata": {},
   "source": [
    "---"
   ]
  },
  {
   "cell_type": "markdown",
   "metadata": {},
   "source": [
    "### Flanker Test Analysis"
   ]
  },
  {
   "cell_type": "code",
   "execution_count": 10,
   "metadata": {},
   "outputs": [],
   "source": [
    "# creating Flanker dataframe\n",
    "def create_flanker_dataframe():\n",
    "    flanker_df = data_dict[\"flanker\"]\n",
    "    flanker_df.rename(columns={0: \"pattern\", 1: \"expression\", 2: \"correctness\", 3: \"response-time\"}, inplace=True)\n",
    "    flanker_df[\"correctness\"] = flanker_df[\"correctness\"].replace(1, \"correct\")\n",
    "    flanker_df[\"correctness\"] = flanker_df[\"correctness\"].replace(2, \"incorrect\")\n",
    "    flanker_df[\"correctness\"] = flanker_df[\"correctness\"].replace(3, \"not-answer\")\n",
    "    return flanker_df\n",
    "\n",
    "flanker_df = create_flanker_dataframe()"
   ]
  },
  {
   "cell_type": "code",
   "execution_count": 11,
   "metadata": {},
   "outputs": [
    {
     "data": {
      "application/vnd.jupyter.widget-view+json": {
       "model_id": "2a1e67b9caa34a13b3490ae0233ed782",
       "version_major": 2,
       "version_minor": 0
      },
      "text/plain": [
       "BokehModel(combine_events=True, render_bundle={'docs_json': {'eeb8c1a2-e070-49c9-bcc5-0c6f97120d9e': {'defs': …"
      ]
     },
     "execution_count": 11,
     "metadata": {},
     "output_type": "execute_result"
    }
   ],
   "source": [
    "def show_plot(data, title, x_label=\"\", y_label=\"\", palette=[\"salmon\", \"skyblue\"], factors=[\"dehydration\", \"control\"]):\n",
    "    index_cmap = factor_cmap('x', palette=palette, factors=factors, start=1, end=2)\n",
    "    x = list(data.index.values)\n",
    "    data_map = {\n",
    "        'x': x,\n",
    "        'counts': data.tolist()\n",
    "        }\n",
    "\n",
    "    source = ColumnDataSource(data=data_map)\n",
    "    p = figure(x_range=FactorRange(*x), y_range=(0, 100), height=400, title=title,\n",
    "               toolbar_location=None, tools=\"\", x_axis_label=x_label, y_axis_label=y_label)\n",
    "\n",
    "    p.vbar(x='x', top='counts', width=0.9, source=source, fill_color=index_cmap)\n",
    "\n",
    "    p.y_range.start = 0\n",
    "    p.x_range.range_padding = 0.1\n",
    "    p.xaxis.major_label_orientation = 1\n",
    "    p.xgrid.grid_line_color = None\n",
    "    return p\n",
    "\n",
    "def flanker_calculate_counts(flanker_df, answer_type=\"correct\"):\n",
    "    flanker_df = flanker_df[flanker_df[\"correctness\"] == answer_type]\n",
    "    flanker_df = flanker_df.groupby([\"participant\", \"type\", \"repeat\"])[\"correctness\"].count().reset_index()\n",
    "    data = flanker_df.groupby(by=[\"participant\", \"type\"])[\"correctness\"].mean()\n",
    "    return data\n",
    "\n",
    "def flanker_plot_count(answer_type=\"correct\"):  # Roya\n",
    "    flanker_df = create_flanker_dataframe()\n",
    "    data = flanker_calculate_counts(flanker_df, answer_type)\n",
    "    return show_plot(data, f\"Average of {answer_type} answers\", \"participant/session\", \"count\" )\n",
    "\n",
    "answer_types =['correct','incorrect']\n",
    "flanker_counts = pn.interact(flanker_plot_count, answer_type = answer_types)\n",
    "flanker_counts"
   ]
  },
  {
   "cell_type": "code",
   "execution_count": 40,
   "metadata": {},
   "outputs": [
    {
     "data": {
      "application/vnd.jupyter.widget-view+json": {
       "model_id": "352ac606745342dbae3def08eeff515f",
       "version_major": 2,
       "version_minor": 0
      },
      "text/plain": [
       "BokehModel(combine_events=True, render_bundle={'docs_json': {'4e90a303-488b-48b9-bc48-c5ecb5c46cf0': {'defs': …"
      ]
     },
     "execution_count": 40,
     "metadata": {},
     "output_type": "execute_result"
    }
   ],
   "source": [
    "def calculate_percentage(flanker_df, answer_type=\"correct\"):\n",
    "    df_all = flanker_df.groupby([\"participant\", \"type\", \"repeat\"]).agg(count=(\"correctness\", \"count\"))\n",
    "    flanker_df = flanker_df[flanker_df[\"correctness\"] == answer_type]\n",
    "    df_correct = flanker_df.groupby([\"participant\", \"type\", \"repeat\"]).agg(count=(\"correctness\", \"count\"))\n",
    "\n",
    "    flanker_df = round(df_correct[\"count\"] * 100 / df_all[\"count\"], 2).rename(\"correctness\").reset_index().fillna(0)\n",
    "    data = flanker_df.groupby(by=[\"participant\", \"type\"])[\n",
    "        \"correctness\"].mean()\n",
    "    return data\n",
    "    \n",
    "def flanker_plot_percentage(answer_type=\"correct\"): \n",
    "    flanker_df = create_flanker_dataframe()\n",
    "    data = calculate_percentage(flanker_df, answer_type)\n",
    "    return show_plot(data, f\"Percentage of {answer_type} answers\", \"participant/session\", \"Percentage\" )\n",
    "\n",
    "\n",
    "\n",
    "answer_types =['correct','incorrect']\n",
    "flanker_percentage = pn.interact(flanker_plot_percentage, answer_type = answer_types)\n",
    "flanker_percentage"
   ]
  },
  {
   "cell_type": "code",
   "execution_count": 39,
   "metadata": {},
   "outputs": [
    {
     "name": "stderr",
     "output_type": "stream",
     "text": [
      "BokehUserWarning: ColumnDataSource's columns must be of the same length. Current lengths: ('index', 9), ('response-time', 9), ('response_hyphen_minus_time', 0)\n"
     ]
    },
    {
     "data": {
      "application/vnd.jupyter.widget-view+json": {
       "model_id": "b30c5fe0e17d44a193eccf7b98d1aae3",
       "version_major": 2,
       "version_minor": 0
      },
      "text/plain": [
       "BokehModel(combine_events=True, render_bundle={'docs_json': {'49f186f9-2d8b-4926-a21f-1bf1a474c6d3': {'defs': …"
      ]
     },
     "execution_count": 39,
     "metadata": {},
     "output_type": "execute_result"
    },
    {
     "name": "stderr",
     "output_type": "stream",
     "text": [
      "BokehUserWarning: ColumnDataSource's columns must be of the same length. Current lengths: ('index', 10), ('response-time', 10), ('response_hyphen_minus_time', 0)\n",
      "BokehUserWarning: ColumnDataSource's columns must be of the same length. Current lengths: ('index', 13), ('response-time', 13), ('response_hyphen_minus_time', 0)\n",
      "BokehUserWarning: ColumnDataSource's columns must be of the same length. Current lengths: ('index', 9), ('response-time', 9), ('response_hyphen_minus_time', 0)\n",
      "BokehUserWarning: ColumnDataSource's columns must be of the same length. Current lengths: ('index', 11), ('response-time', 11), ('response_hyphen_minus_time', 0)\n",
      "BokehUserWarning: ColumnDataSource's columns must be of the same length. Current lengths: ('index', 13), ('response-time', 13), ('response_hyphen_minus_time', 0)\n"
     ]
    }
   ],
   "source": [
    "flanker_df = create_flanker_dataframe()\n",
    "#dfi = flanker_df.interactive(loc='top').to_dataframe()\n",
    "Flanker_test_boxplot = flanker_df[flanker_df['correctness'] == 'correct'][\n",
    "    [\n",
    "        'response-time', \n",
    "        'participant', \n",
    "        'type'\n",
    "    ]].hvplot.box(\n",
    "        by='type', \n",
    "        groupby='participant',\n",
    "        title='Reaction time for correct responses',\n",
    "        xlabel='Session Type', \n",
    "        ylabel='Resopnse Time (ms)',height=400, width=400)\n",
    "    \n",
    "Flanker_test_boxplot"
   ]
  },
  {
   "cell_type": "markdown",
   "metadata": {},
   "source": [
    "## Error Plot"
   ]
  },
  {
   "cell_type": "code",
   "execution_count": 13,
   "metadata": {},
   "outputs": [
    {
     "data": {
      "application/vnd.jupyter.widget-view+json": {
       "model_id": "6bc0e91ce47b4613a506f9161d417f60",
       "version_major": 2,
       "version_minor": 0
      },
      "text/plain": [
       "BokehModel(combine_events=True, render_bundle={'docs_json': {'6a9261ff-c1e7-4521-a6cd-224a21d26c8f': {'defs': …"
      ]
     },
     "execution_count": 13,
     "metadata": {},
     "output_type": "execute_result"
    }
   ],
   "source": [
    "def calculate_standard_error(flanker_df, answer_type=\"correct\"):\n",
    "    flanker_df = flanker_df[flanker_df[\"correctness\"] == answer_type]\n",
    "    flanker_df = flanker_df.groupby([\"participant\", \"type\", \"repeat\"])[\"correctness\"].count().reset_index()\n",
    "    df_mean = flanker_df.groupby(by=[\"participant\", \"type\"]).agg(mean=(\"correctness\", \"mean\"))\n",
    "    df_se = flanker_df.groupby(by=[\"participant\", \"type\"]).agg(se=(\"correctness\", \"sem\"))\n",
    "    upper = df_mean[\"mean\"] + 1.96 * df_se[\"se\"]\n",
    "    lower = df_mean[\"mean\"] - 1.96 * df_se[\"se\"]\n",
    "    data = pd.concat([upper.rename(\"upper\"), lower.rename(\"lower\")], axis=1)\n",
    "    return data\n",
    "\n",
    "def plot_standard_error(plot, data):\n",
    "    x = list(data.index.values)\n",
    "    data_map = {\n",
    "        'x': x,\n",
    "        'upper': data[\"upper\"].tolist(),\n",
    "        'lower': data[\"lower\"].tolist()\n",
    "\n",
    "        }\n",
    "    source = ColumnDataSource(data=data_map)\n",
    "\n",
    "    w = Whisker(source=source, base=\"x\", upper=\"upper\", lower=\"lower\", \n",
    "            line_color='purple', level=\"overlay\")\n",
    "    w.upper_head.line_color = 'purple'\n",
    "    w.lower_head.line_color = 'purple'\n",
    "    w.upper_head.size = w.lower_head.size = 20\n",
    "    plot.add_layout(w)\n",
    "    return plot\n",
    "\n",
    "def flanker_plot_error(answer_type=\"correct\"):  # Roya\n",
    "    flanker_df = create_flanker_dataframe()\n",
    "    data = flanker_calculate_counts(flanker_df, answer_type)\n",
    "    data_se = calculate_standard_error(flanker_df, answer_type)\n",
    "    p = show_plot(data, f\"Standard Error of {answer_type} answers\", \"participant/session\", \"SE\" )\n",
    "    p = plot_standard_error(p, data_se)\n",
    "    return p\n",
    "\n",
    "\n",
    "answer_types =['correct','incorrect']\n",
    "inter_plot = pn.interact(flanker_plot_error, answer_type = answer_types)\n",
    "inter_plot"
   ]
  },
  {
   "cell_type": "markdown",
   "metadata": {},
   "source": [
    "### Stroop Test  Analysis"
   ]
  },
  {
   "cell_type": "code",
   "execution_count": 14,
   "metadata": {},
   "outputs": [],
   "source": [
    "def stroop_test(): # Mahdiye\n",
    "    total_dict = create_merged_df(config)\n",
    "    stroop_df = total_dict['stroop']\n",
    "    stroop_df.drop(stroop_df.columns[[3,7]], axis=1, inplace=True)\n",
    "    stroop_df = stroop_df.set_axis(['participant', 'type','repeat','word name','word color',\n",
    "                                    'name_color match','pressed _key','status','reaction_time'], axis=1)\n",
    "    return stroop_df\n",
    "\n",
    "stroop_df = stroop_test()"
   ]
  },
  {
   "cell_type": "code",
   "execution_count": 11,
   "metadata": {},
   "outputs": [
    {
     "data": {
      "text/html": [
       "<div class=\"bk-root\">\n",
       "        <a href=\"https://bokeh.org\" target=\"_blank\" class=\"bk-logo bk-logo-small bk-logo-notebook\"></a>\n",
       "        <span id=\"1258\">Loading BokehJS ...</span>\n",
       "    </div>\n"
      ]
     },
     "metadata": {},
     "output_type": "display_data"
    },
    {
     "data": {
      "application/javascript": "(function(root) {\n  function now() {\n    return new Date();\n  }\n\n  const force = true;\n\n  if (typeof root._bokeh_onload_callbacks === \"undefined\" || force === true) {\n    root._bokeh_onload_callbacks = [];\n    root._bokeh_is_loading = undefined;\n  }\n\nconst JS_MIME_TYPE = 'application/javascript';\n  const HTML_MIME_TYPE = 'text/html';\n  const EXEC_MIME_TYPE = 'application/vnd.bokehjs_exec.v0+json';\n  const CLASS_NAME = 'output_bokeh rendered_html';\n\n  /**\n   * Render data to the DOM node\n   */\n  function render(props, node) {\n    const script = document.createElement(\"script\");\n    node.appendChild(script);\n  }\n\n  /**\n   * Handle when an output is cleared or removed\n   */\n  function handleClearOutput(event, handle) {\n    const cell = handle.cell;\n\n    const id = cell.output_area._bokeh_element_id;\n    const server_id = cell.output_area._bokeh_server_id;\n    // Clean up Bokeh references\n    if (id != null && id in Bokeh.index) {\n      Bokeh.index[id].model.document.clear();\n      delete Bokeh.index[id];\n    }\n\n    if (server_id !== undefined) {\n      // Clean up Bokeh references\n      const cmd_clean = \"from bokeh.io.state import curstate; print(curstate().uuid_to_server['\" + server_id + \"'].get_sessions()[0].document.roots[0]._id)\";\n      cell.notebook.kernel.execute(cmd_clean, {\n        iopub: {\n          output: function(msg) {\n            const id = msg.content.text.trim();\n            if (id in Bokeh.index) {\n              Bokeh.index[id].model.document.clear();\n              delete Bokeh.index[id];\n            }\n          }\n        }\n      });\n      // Destroy server and session\n      const cmd_destroy = \"import bokeh.io.notebook as ion; ion.destroy_server('\" + server_id + \"')\";\n      cell.notebook.kernel.execute(cmd_destroy);\n    }\n  }\n\n  /**\n   * Handle when a new output is added\n   */\n  function handleAddOutput(event, handle) {\n    const output_area = handle.output_area;\n    const output = handle.output;\n\n    // limit handleAddOutput to display_data with EXEC_MIME_TYPE content only\n    if ((output.output_type != \"display_data\") || (!Object.prototype.hasOwnProperty.call(output.data, EXEC_MIME_TYPE))) {\n      return\n    }\n\n    const toinsert = output_area.element.find(\".\" + CLASS_NAME.split(' ')[0]);\n\n    if (output.metadata[EXEC_MIME_TYPE][\"id\"] !== undefined) {\n      toinsert[toinsert.length - 1].firstChild.textContent = output.data[JS_MIME_TYPE];\n      // store reference to embed id on output_area\n      output_area._bokeh_element_id = output.metadata[EXEC_MIME_TYPE][\"id\"];\n    }\n    if (output.metadata[EXEC_MIME_TYPE][\"server_id\"] !== undefined) {\n      const bk_div = document.createElement(\"div\");\n      bk_div.innerHTML = output.data[HTML_MIME_TYPE];\n      const script_attrs = bk_div.children[0].attributes;\n      for (let i = 0; i < script_attrs.length; i++) {\n        toinsert[toinsert.length - 1].firstChild.setAttribute(script_attrs[i].name, script_attrs[i].value);\n        toinsert[toinsert.length - 1].firstChild.textContent = bk_div.children[0].textContent\n      }\n      // store reference to server id on output_area\n      output_area._bokeh_server_id = output.metadata[EXEC_MIME_TYPE][\"server_id\"];\n    }\n  }\n\n  function register_renderer(events, OutputArea) {\n\n    function append_mime(data, metadata, element) {\n      // create a DOM node to render to\n      const toinsert = this.create_output_subarea(\n        metadata,\n        CLASS_NAME,\n        EXEC_MIME_TYPE\n      );\n      this.keyboard_manager.register_events(toinsert);\n      // Render to node\n      const props = {data: data, metadata: metadata[EXEC_MIME_TYPE]};\n      render(props, toinsert[toinsert.length - 1]);\n      element.append(toinsert);\n      return toinsert\n    }\n\n    /* Handle when an output is cleared or removed */\n    events.on('clear_output.CodeCell', handleClearOutput);\n    events.on('delete.Cell', handleClearOutput);\n\n    /* Handle when a new output is added */\n    events.on('output_added.OutputArea', handleAddOutput);\n\n    /**\n     * Register the mime type and append_mime function with output_area\n     */\n    OutputArea.prototype.register_mime_type(EXEC_MIME_TYPE, append_mime, {\n      /* Is output safe? */\n      safe: true,\n      /* Index of renderer in `output_area.display_order` */\n      index: 0\n    });\n  }\n\n  // register the mime type if in Jupyter Notebook environment and previously unregistered\n  if (root.Jupyter !== undefined) {\n    const events = require('base/js/events');\n    const OutputArea = require('notebook/js/outputarea').OutputArea;\n\n    if (OutputArea.prototype.mime_types().indexOf(EXEC_MIME_TYPE) == -1) {\n      register_renderer(events, OutputArea);\n    }\n  }\n  if (typeof (root._bokeh_timeout) === \"undefined\" || force === true) {\n    root._bokeh_timeout = Date.now() + 5000;\n    root._bokeh_failed_load = false;\n  }\n\n  const NB_LOAD_WARNING = {'data': {'text/html':\n     \"<div style='background-color: #fdd'>\\n\"+\n     \"<p>\\n\"+\n     \"BokehJS does not appear to have successfully loaded. If loading BokehJS from CDN, this \\n\"+\n     \"may be due to a slow or bad network connection. Possible fixes:\\n\"+\n     \"</p>\\n\"+\n     \"<ul>\\n\"+\n     \"<li>re-rerun `output_notebook()` to attempt to load from CDN again, or</li>\\n\"+\n     \"<li>use INLINE resources instead, as so:</li>\\n\"+\n     \"</ul>\\n\"+\n     \"<code>\\n\"+\n     \"from bokeh.resources import INLINE\\n\"+\n     \"output_notebook(resources=INLINE)\\n\"+\n     \"</code>\\n\"+\n     \"</div>\"}};\n\n  function display_loaded() {\n    const el = document.getElementById(\"1258\");\n    if (el != null) {\n      el.textContent = \"BokehJS is loading...\";\n    }\n    if (root.Bokeh !== undefined) {\n      if (el != null) {\n        el.textContent = \"BokehJS \" + root.Bokeh.version + \" successfully loaded.\";\n      }\n    } else if (Date.now() < root._bokeh_timeout) {\n      setTimeout(display_loaded, 100)\n    }\n  }\n\n  function run_callbacks() {\n    try {\n      root._bokeh_onload_callbacks.forEach(function(callback) {\n        if (callback != null)\n          callback();\n      });\n    } finally {\n      delete root._bokeh_onload_callbacks\n    }\n    console.debug(\"Bokeh: all callbacks have finished\");\n  }\n\n  function load_libs(css_urls, js_urls, callback) {\n    if (css_urls == null) css_urls = [];\n    if (js_urls == null) js_urls = [];\n\n    root._bokeh_onload_callbacks.push(callback);\n    if (root._bokeh_is_loading > 0) {\n      console.debug(\"Bokeh: BokehJS is being loaded, scheduling callback at\", now());\n      return null;\n    }\n    if (js_urls == null || js_urls.length === 0) {\n      run_callbacks();\n      return null;\n    }\n    console.debug(\"Bokeh: BokehJS not loaded, scheduling load and callback at\", now());\n    root._bokeh_is_loading = css_urls.length + js_urls.length;\n\n    function on_load() {\n      root._bokeh_is_loading--;\n      if (root._bokeh_is_loading === 0) {\n        console.debug(\"Bokeh: all BokehJS libraries/stylesheets loaded\");\n        run_callbacks()\n      }\n    }\n\n    function on_error(url) {\n      console.error(\"failed to load \" + url);\n    }\n\n    for (let i = 0; i < css_urls.length; i++) {\n      const url = css_urls[i];\n      const element = document.createElement(\"link\");\n      element.onload = on_load;\n      element.onerror = on_error.bind(null, url);\n      element.rel = \"stylesheet\";\n      element.type = \"text/css\";\n      element.href = url;\n      console.debug(\"Bokeh: injecting link tag for BokehJS stylesheet: \", url);\n      document.body.appendChild(element);\n    }\n\n    for (let i = 0; i < js_urls.length; i++) {\n      const url = js_urls[i];\n      const element = document.createElement('script');\n      element.onload = on_load;\n      element.onerror = on_error.bind(null, url);\n      element.async = false;\n      element.src = url;\n      console.debug(\"Bokeh: injecting script tag for BokehJS library: \", url);\n      document.head.appendChild(element);\n    }\n  };\n\n  function inject_raw_css(css) {\n    const element = document.createElement(\"style\");\n    element.appendChild(document.createTextNode(css));\n    document.body.appendChild(element);\n  }\n\n  const js_urls = [\"https://cdn.bokeh.org/bokeh/release/bokeh-2.4.3.min.js\", \"https://cdn.bokeh.org/bokeh/release/bokeh-gl-2.4.3.min.js\", \"https://cdn.bokeh.org/bokeh/release/bokeh-widgets-2.4.3.min.js\", \"https://cdn.bokeh.org/bokeh/release/bokeh-tables-2.4.3.min.js\", \"https://cdn.bokeh.org/bokeh/release/bokeh-mathjax-2.4.3.min.js\", \"https://unpkg.com/@holoviz/panel@0.13.1/dist/panel.min.js\"];\n  const css_urls = [];\n\n  const inline_js = [    function(Bokeh) {\n      Bokeh.set_log_level(\"info\");\n    },\nfunction(Bokeh) {\n    }\n  ];\n\n  function run_inline_js() {\n    if (root.Bokeh !== undefined || force === true) {\n          for (let i = 0; i < inline_js.length; i++) {\n      inline_js[i].call(root, root.Bokeh);\n    }\nif (force === true) {\n        display_loaded();\n      }} else if (Date.now() < root._bokeh_timeout) {\n      setTimeout(run_inline_js, 100);\n    } else if (!root._bokeh_failed_load) {\n      console.log(\"Bokeh: BokehJS failed to load within specified timeout.\");\n      root._bokeh_failed_load = true;\n    } else if (force !== true) {\n      const cell = $(document.getElementById(\"1258\")).parents('.cell').data().cell;\n      cell.output_area.append_execute_result(NB_LOAD_WARNING)\n    }\n  }\n\n  if (root._bokeh_is_loading === 0) {\n    console.debug(\"Bokeh: BokehJS loaded, going straight to plotting\");\n    run_inline_js();\n  } else {\n    load_libs(css_urls, js_urls, function() {\n      console.debug(\"Bokeh: BokehJS plotting callback run at\", now());\n      run_inline_js();\n    });\n  }\n}(window));",
      "application/vnd.bokehjs_load.v0+json": ""
     },
     "metadata": {},
     "output_type": "display_data"
    }
   ],
   "source": [
    "from bokeh.io import output_notebook\n",
    "from bokeh.plotting import figure, show\n",
    "from bokeh.models import ColumnDataSource, Whisker\n",
    "import panel as pn\n",
    "from bokeh.io import output_notebook\n",
    "\n",
    "output_notebook()\n",
    "pn.extension()"
   ]
  },
  {
   "cell_type": "code",
   "execution_count": 15,
   "metadata": {},
   "outputs": [
    {
     "data": {
      "application/vnd.jupyter.widget-view+json": {
       "model_id": "b702f2d8a49e48d19d26c49a7dfa2b2d",
       "version_major": 2,
       "version_minor": 0
      },
      "text/plain": [
       "BokehModel(combine_events=True, render_bundle={'docs_json': {'854349e5-1ed8-4321-a20b-76b4ebe90a46': {'defs': …"
      ]
     },
     "execution_count": 15,
     "metadata": {},
     "output_type": "execute_result"
    },
    {
     "ename": "AttributeError",
     "evalue": "'NoneType' object has no attribute 'lookup'",
     "output_type": "error",
     "traceback": [
      "\u001b[0;31m---------------------------------------------------------------------------\u001b[0m",
      "\u001b[0;31mAttributeError\u001b[0m                            Traceback (most recent call last)",
      "File \u001b[0;32m/Library/Frameworks/Python.framework/Versions/3.11/lib/python3.11/site-packages/jupyter_bokeh/widgets.py:128\u001b[0m, in \u001b[0;36mBokehModel._sync_model\u001b[0;34m(self, _, content, _buffers)\u001b[0m\n\u001b[1;32m    126\u001b[0m new, old, attr \u001b[39m=\u001b[39m content[\u001b[39m\"\u001b[39m\u001b[39mnew\u001b[39m\u001b[39m\"\u001b[39m], content[\u001b[39m\"\u001b[39m\u001b[39mold\u001b[39m\u001b[39m\"\u001b[39m], content[\u001b[39m\"\u001b[39m\u001b[39mattr\u001b[39m\u001b[39m\"\u001b[39m]\n\u001b[1;32m    127\u001b[0m submodel \u001b[39m=\u001b[39m \u001b[39mself\u001b[39m\u001b[39m.\u001b[39m_model\u001b[39m.\u001b[39mselect_one({\u001b[39m\"\u001b[39m\u001b[39mid\u001b[39m\u001b[39m\"\u001b[39m: content[\u001b[39m\"\u001b[39m\u001b[39mid\u001b[39m\u001b[39m\"\u001b[39m]})\n\u001b[0;32m--> 128\u001b[0m descriptor \u001b[39m=\u001b[39m submodel\u001b[39m.\u001b[39;49mlookup(content[\u001b[39m'\u001b[39m\u001b[39mattr\u001b[39m\u001b[39m'\u001b[39m])\n\u001b[1;32m    129\u001b[0m \u001b[39mtry\u001b[39;00m:\n\u001b[1;32m    130\u001b[0m     descriptor\u001b[39m.\u001b[39m_set(submodel, old, new, hint\u001b[39m=\u001b[39mhint, setter\u001b[39m=\u001b[39m\u001b[39mself\u001b[39m)\n",
      "\u001b[0;31mAttributeError\u001b[0m: 'NoneType' object has no attribute 'lookup'"
     ]
    },
    {
     "ename": "AttributeError",
     "evalue": "'NoneType' object has no attribute 'lookup'",
     "output_type": "error",
     "traceback": [
      "\u001b[0;31m---------------------------------------------------------------------------\u001b[0m",
      "\u001b[0;31mAttributeError\u001b[0m                            Traceback (most recent call last)",
      "File \u001b[0;32m/Library/Frameworks/Python.framework/Versions/3.11/lib/python3.11/site-packages/jupyter_bokeh/widgets.py:128\u001b[0m, in \u001b[0;36mBokehModel._sync_model\u001b[0;34m(self, _, content, _buffers)\u001b[0m\n\u001b[1;32m    126\u001b[0m new, old, attr \u001b[39m=\u001b[39m content[\u001b[39m\"\u001b[39m\u001b[39mnew\u001b[39m\u001b[39m\"\u001b[39m], content[\u001b[39m\"\u001b[39m\u001b[39mold\u001b[39m\u001b[39m\"\u001b[39m], content[\u001b[39m\"\u001b[39m\u001b[39mattr\u001b[39m\u001b[39m\"\u001b[39m]\n\u001b[1;32m    127\u001b[0m submodel \u001b[39m=\u001b[39m \u001b[39mself\u001b[39m\u001b[39m.\u001b[39m_model\u001b[39m.\u001b[39mselect_one({\u001b[39m\"\u001b[39m\u001b[39mid\u001b[39m\u001b[39m\"\u001b[39m: content[\u001b[39m\"\u001b[39m\u001b[39mid\u001b[39m\u001b[39m\"\u001b[39m]})\n\u001b[0;32m--> 128\u001b[0m descriptor \u001b[39m=\u001b[39m submodel\u001b[39m.\u001b[39;49mlookup(content[\u001b[39m'\u001b[39m\u001b[39mattr\u001b[39m\u001b[39m'\u001b[39m])\n\u001b[1;32m    129\u001b[0m \u001b[39mtry\u001b[39;00m:\n\u001b[1;32m    130\u001b[0m     descriptor\u001b[39m.\u001b[39m_set(submodel, old, new, hint\u001b[39m=\u001b[39mhint, setter\u001b[39m=\u001b[39m\u001b[39mself\u001b[39m)\n",
      "\u001b[0;31mAttributeError\u001b[0m: 'NoneType' object has no attribute 'lookup'"
     ]
    },
    {
     "ename": "AttributeError",
     "evalue": "'NoneType' object has no attribute 'lookup'",
     "output_type": "error",
     "traceback": [
      "\u001b[0;31m---------------------------------------------------------------------------\u001b[0m",
      "\u001b[0;31mAttributeError\u001b[0m                            Traceback (most recent call last)",
      "File \u001b[0;32m/Library/Frameworks/Python.framework/Versions/3.11/lib/python3.11/site-packages/jupyter_bokeh/widgets.py:128\u001b[0m, in \u001b[0;36mBokehModel._sync_model\u001b[0;34m(self, _, content, _buffers)\u001b[0m\n\u001b[1;32m    126\u001b[0m new, old, attr \u001b[39m=\u001b[39m content[\u001b[39m\"\u001b[39m\u001b[39mnew\u001b[39m\u001b[39m\"\u001b[39m], content[\u001b[39m\"\u001b[39m\u001b[39mold\u001b[39m\u001b[39m\"\u001b[39m], content[\u001b[39m\"\u001b[39m\u001b[39mattr\u001b[39m\u001b[39m\"\u001b[39m]\n\u001b[1;32m    127\u001b[0m submodel \u001b[39m=\u001b[39m \u001b[39mself\u001b[39m\u001b[39m.\u001b[39m_model\u001b[39m.\u001b[39mselect_one({\u001b[39m\"\u001b[39m\u001b[39mid\u001b[39m\u001b[39m\"\u001b[39m: content[\u001b[39m\"\u001b[39m\u001b[39mid\u001b[39m\u001b[39m\"\u001b[39m]})\n\u001b[0;32m--> 128\u001b[0m descriptor \u001b[39m=\u001b[39m submodel\u001b[39m.\u001b[39;49mlookup(content[\u001b[39m'\u001b[39m\u001b[39mattr\u001b[39m\u001b[39m'\u001b[39m])\n\u001b[1;32m    129\u001b[0m \u001b[39mtry\u001b[39;00m:\n\u001b[1;32m    130\u001b[0m     descriptor\u001b[39m.\u001b[39m_set(submodel, old, new, hint\u001b[39m=\u001b[39mhint, setter\u001b[39m=\u001b[39m\u001b[39mself\u001b[39m)\n",
      "\u001b[0;31mAttributeError\u001b[0m: 'NoneType' object has no attribute 'lookup'"
     ]
    },
    {
     "ename": "AttributeError",
     "evalue": "'NoneType' object has no attribute 'lookup'",
     "output_type": "error",
     "traceback": [
      "\u001b[0;31m---------------------------------------------------------------------------\u001b[0m",
      "\u001b[0;31mAttributeError\u001b[0m                            Traceback (most recent call last)",
      "File \u001b[0;32m/Library/Frameworks/Python.framework/Versions/3.11/lib/python3.11/site-packages/jupyter_bokeh/widgets.py:128\u001b[0m, in \u001b[0;36mBokehModel._sync_model\u001b[0;34m(self, _, content, _buffers)\u001b[0m\n\u001b[1;32m    126\u001b[0m new, old, attr \u001b[39m=\u001b[39m content[\u001b[39m\"\u001b[39m\u001b[39mnew\u001b[39m\u001b[39m\"\u001b[39m], content[\u001b[39m\"\u001b[39m\u001b[39mold\u001b[39m\u001b[39m\"\u001b[39m], content[\u001b[39m\"\u001b[39m\u001b[39mattr\u001b[39m\u001b[39m\"\u001b[39m]\n\u001b[1;32m    127\u001b[0m submodel \u001b[39m=\u001b[39m \u001b[39mself\u001b[39m\u001b[39m.\u001b[39m_model\u001b[39m.\u001b[39mselect_one({\u001b[39m\"\u001b[39m\u001b[39mid\u001b[39m\u001b[39m\"\u001b[39m: content[\u001b[39m\"\u001b[39m\u001b[39mid\u001b[39m\u001b[39m\"\u001b[39m]})\n\u001b[0;32m--> 128\u001b[0m descriptor \u001b[39m=\u001b[39m submodel\u001b[39m.\u001b[39;49mlookup(content[\u001b[39m'\u001b[39m\u001b[39mattr\u001b[39m\u001b[39m'\u001b[39m])\n\u001b[1;32m    129\u001b[0m \u001b[39mtry\u001b[39;00m:\n\u001b[1;32m    130\u001b[0m     descriptor\u001b[39m.\u001b[39m_set(submodel, old, new, hint\u001b[39m=\u001b[39mhint, setter\u001b[39m=\u001b[39m\u001b[39mself\u001b[39m)\n",
      "\u001b[0;31mAttributeError\u001b[0m: 'NoneType' object has no attribute 'lookup'"
     ]
    },
    {
     "ename": "AttributeError",
     "evalue": "'NoneType' object has no attribute 'lookup'",
     "output_type": "error",
     "traceback": [
      "\u001b[0;31m---------------------------------------------------------------------------\u001b[0m",
      "\u001b[0;31mAttributeError\u001b[0m                            Traceback (most recent call last)",
      "File \u001b[0;32m/Library/Frameworks/Python.framework/Versions/3.11/lib/python3.11/site-packages/jupyter_bokeh/widgets.py:128\u001b[0m, in \u001b[0;36mBokehModel._sync_model\u001b[0;34m(self, _, content, _buffers)\u001b[0m\n\u001b[1;32m    126\u001b[0m new, old, attr \u001b[39m=\u001b[39m content[\u001b[39m\"\u001b[39m\u001b[39mnew\u001b[39m\u001b[39m\"\u001b[39m], content[\u001b[39m\"\u001b[39m\u001b[39mold\u001b[39m\u001b[39m\"\u001b[39m], content[\u001b[39m\"\u001b[39m\u001b[39mattr\u001b[39m\u001b[39m\"\u001b[39m]\n\u001b[1;32m    127\u001b[0m submodel \u001b[39m=\u001b[39m \u001b[39mself\u001b[39m\u001b[39m.\u001b[39m_model\u001b[39m.\u001b[39mselect_one({\u001b[39m\"\u001b[39m\u001b[39mid\u001b[39m\u001b[39m\"\u001b[39m: content[\u001b[39m\"\u001b[39m\u001b[39mid\u001b[39m\u001b[39m\"\u001b[39m]})\n\u001b[0;32m--> 128\u001b[0m descriptor \u001b[39m=\u001b[39m submodel\u001b[39m.\u001b[39;49mlookup(content[\u001b[39m'\u001b[39m\u001b[39mattr\u001b[39m\u001b[39m'\u001b[39m])\n\u001b[1;32m    129\u001b[0m \u001b[39mtry\u001b[39;00m:\n\u001b[1;32m    130\u001b[0m     descriptor\u001b[39m.\u001b[39m_set(submodel, old, new, hint\u001b[39m=\u001b[39mhint, setter\u001b[39m=\u001b[39m\u001b[39mself\u001b[39m)\n",
      "\u001b[0;31mAttributeError\u001b[0m: 'NoneType' object has no attribute 'lookup'"
     ]
    },
    {
     "ename": "AttributeError",
     "evalue": "'NoneType' object has no attribute 'lookup'",
     "output_type": "error",
     "traceback": [
      "\u001b[0;31m---------------------------------------------------------------------------\u001b[0m",
      "\u001b[0;31mAttributeError\u001b[0m                            Traceback (most recent call last)",
      "File \u001b[0;32m/Library/Frameworks/Python.framework/Versions/3.11/lib/python3.11/site-packages/jupyter_bokeh/widgets.py:128\u001b[0m, in \u001b[0;36mBokehModel._sync_model\u001b[0;34m(self, _, content, _buffers)\u001b[0m\n\u001b[1;32m    126\u001b[0m new, old, attr \u001b[39m=\u001b[39m content[\u001b[39m\"\u001b[39m\u001b[39mnew\u001b[39m\u001b[39m\"\u001b[39m], content[\u001b[39m\"\u001b[39m\u001b[39mold\u001b[39m\u001b[39m\"\u001b[39m], content[\u001b[39m\"\u001b[39m\u001b[39mattr\u001b[39m\u001b[39m\"\u001b[39m]\n\u001b[1;32m    127\u001b[0m submodel \u001b[39m=\u001b[39m \u001b[39mself\u001b[39m\u001b[39m.\u001b[39m_model\u001b[39m.\u001b[39mselect_one({\u001b[39m\"\u001b[39m\u001b[39mid\u001b[39m\u001b[39m\"\u001b[39m: content[\u001b[39m\"\u001b[39m\u001b[39mid\u001b[39m\u001b[39m\"\u001b[39m]})\n\u001b[0;32m--> 128\u001b[0m descriptor \u001b[39m=\u001b[39m submodel\u001b[39m.\u001b[39;49mlookup(content[\u001b[39m'\u001b[39m\u001b[39mattr\u001b[39m\u001b[39m'\u001b[39m])\n\u001b[1;32m    129\u001b[0m \u001b[39mtry\u001b[39;00m:\n\u001b[1;32m    130\u001b[0m     descriptor\u001b[39m.\u001b[39m_set(submodel, old, new, hint\u001b[39m=\u001b[39mhint, setter\u001b[39m=\u001b[39m\u001b[39mself\u001b[39m)\n",
      "\u001b[0;31mAttributeError\u001b[0m: 'NoneType' object has no attribute 'lookup'"
     ]
    },
    {
     "ename": "AttributeError",
     "evalue": "'NoneType' object has no attribute 'lookup'",
     "output_type": "error",
     "traceback": [
      "\u001b[0;31m---------------------------------------------------------------------------\u001b[0m",
      "\u001b[0;31mAttributeError\u001b[0m                            Traceback (most recent call last)",
      "File \u001b[0;32m/Library/Frameworks/Python.framework/Versions/3.11/lib/python3.11/site-packages/jupyter_bokeh/widgets.py:128\u001b[0m, in \u001b[0;36mBokehModel._sync_model\u001b[0;34m(self, _, content, _buffers)\u001b[0m\n\u001b[1;32m    126\u001b[0m new, old, attr \u001b[39m=\u001b[39m content[\u001b[39m\"\u001b[39m\u001b[39mnew\u001b[39m\u001b[39m\"\u001b[39m], content[\u001b[39m\"\u001b[39m\u001b[39mold\u001b[39m\u001b[39m\"\u001b[39m], content[\u001b[39m\"\u001b[39m\u001b[39mattr\u001b[39m\u001b[39m\"\u001b[39m]\n\u001b[1;32m    127\u001b[0m submodel \u001b[39m=\u001b[39m \u001b[39mself\u001b[39m\u001b[39m.\u001b[39m_model\u001b[39m.\u001b[39mselect_one({\u001b[39m\"\u001b[39m\u001b[39mid\u001b[39m\u001b[39m\"\u001b[39m: content[\u001b[39m\"\u001b[39m\u001b[39mid\u001b[39m\u001b[39m\"\u001b[39m]})\n\u001b[0;32m--> 128\u001b[0m descriptor \u001b[39m=\u001b[39m submodel\u001b[39m.\u001b[39;49mlookup(content[\u001b[39m'\u001b[39m\u001b[39mattr\u001b[39m\u001b[39m'\u001b[39m])\n\u001b[1;32m    129\u001b[0m \u001b[39mtry\u001b[39;00m:\n\u001b[1;32m    130\u001b[0m     descriptor\u001b[39m.\u001b[39m_set(submodel, old, new, hint\u001b[39m=\u001b[39mhint, setter\u001b[39m=\u001b[39m\u001b[39mself\u001b[39m)\n",
      "\u001b[0;31mAttributeError\u001b[0m: 'NoneType' object has no attribute 'lookup'"
     ]
    },
    {
     "ename": "AttributeError",
     "evalue": "'NoneType' object has no attribute 'lookup'",
     "output_type": "error",
     "traceback": [
      "\u001b[0;31m---------------------------------------------------------------------------\u001b[0m",
      "\u001b[0;31mAttributeError\u001b[0m                            Traceback (most recent call last)",
      "File \u001b[0;32m/Library/Frameworks/Python.framework/Versions/3.11/lib/python3.11/site-packages/jupyter_bokeh/widgets.py:128\u001b[0m, in \u001b[0;36mBokehModel._sync_model\u001b[0;34m(self, _, content, _buffers)\u001b[0m\n\u001b[1;32m    126\u001b[0m new, old, attr \u001b[39m=\u001b[39m content[\u001b[39m\"\u001b[39m\u001b[39mnew\u001b[39m\u001b[39m\"\u001b[39m], content[\u001b[39m\"\u001b[39m\u001b[39mold\u001b[39m\u001b[39m\"\u001b[39m], content[\u001b[39m\"\u001b[39m\u001b[39mattr\u001b[39m\u001b[39m\"\u001b[39m]\n\u001b[1;32m    127\u001b[0m submodel \u001b[39m=\u001b[39m \u001b[39mself\u001b[39m\u001b[39m.\u001b[39m_model\u001b[39m.\u001b[39mselect_one({\u001b[39m\"\u001b[39m\u001b[39mid\u001b[39m\u001b[39m\"\u001b[39m: content[\u001b[39m\"\u001b[39m\u001b[39mid\u001b[39m\u001b[39m\"\u001b[39m]})\n\u001b[0;32m--> 128\u001b[0m descriptor \u001b[39m=\u001b[39m submodel\u001b[39m.\u001b[39;49mlookup(content[\u001b[39m'\u001b[39m\u001b[39mattr\u001b[39m\u001b[39m'\u001b[39m])\n\u001b[1;32m    129\u001b[0m \u001b[39mtry\u001b[39;00m:\n\u001b[1;32m    130\u001b[0m     descriptor\u001b[39m.\u001b[39m_set(submodel, old, new, hint\u001b[39m=\u001b[39mhint, setter\u001b[39m=\u001b[39m\u001b[39mself\u001b[39m)\n",
      "\u001b[0;31mAttributeError\u001b[0m: 'NoneType' object has no attribute 'lookup'"
     ]
    },
    {
     "ename": "AttributeError",
     "evalue": "'NoneType' object has no attribute 'lookup'",
     "output_type": "error",
     "traceback": [
      "\u001b[0;31m---------------------------------------------------------------------------\u001b[0m",
      "\u001b[0;31mAttributeError\u001b[0m                            Traceback (most recent call last)",
      "File \u001b[0;32m/Library/Frameworks/Python.framework/Versions/3.11/lib/python3.11/site-packages/jupyter_bokeh/widgets.py:128\u001b[0m, in \u001b[0;36mBokehModel._sync_model\u001b[0;34m(self, _, content, _buffers)\u001b[0m\n\u001b[1;32m    126\u001b[0m new, old, attr \u001b[39m=\u001b[39m content[\u001b[39m\"\u001b[39m\u001b[39mnew\u001b[39m\u001b[39m\"\u001b[39m], content[\u001b[39m\"\u001b[39m\u001b[39mold\u001b[39m\u001b[39m\"\u001b[39m], content[\u001b[39m\"\u001b[39m\u001b[39mattr\u001b[39m\u001b[39m\"\u001b[39m]\n\u001b[1;32m    127\u001b[0m submodel \u001b[39m=\u001b[39m \u001b[39mself\u001b[39m\u001b[39m.\u001b[39m_model\u001b[39m.\u001b[39mselect_one({\u001b[39m\"\u001b[39m\u001b[39mid\u001b[39m\u001b[39m\"\u001b[39m: content[\u001b[39m\"\u001b[39m\u001b[39mid\u001b[39m\u001b[39m\"\u001b[39m]})\n\u001b[0;32m--> 128\u001b[0m descriptor \u001b[39m=\u001b[39m submodel\u001b[39m.\u001b[39;49mlookup(content[\u001b[39m'\u001b[39m\u001b[39mattr\u001b[39m\u001b[39m'\u001b[39m])\n\u001b[1;32m    129\u001b[0m \u001b[39mtry\u001b[39;00m:\n\u001b[1;32m    130\u001b[0m     descriptor\u001b[39m.\u001b[39m_set(submodel, old, new, hint\u001b[39m=\u001b[39mhint, setter\u001b[39m=\u001b[39m\u001b[39mself\u001b[39m)\n",
      "\u001b[0;31mAttributeError\u001b[0m: 'NoneType' object has no attribute 'lookup'"
     ]
    },
    {
     "ename": "AttributeError",
     "evalue": "'NoneType' object has no attribute 'lookup'",
     "output_type": "error",
     "traceback": [
      "\u001b[0;31m---------------------------------------------------------------------------\u001b[0m",
      "\u001b[0;31mAttributeError\u001b[0m                            Traceback (most recent call last)",
      "File \u001b[0;32m/Library/Frameworks/Python.framework/Versions/3.11/lib/python3.11/site-packages/jupyter_bokeh/widgets.py:128\u001b[0m, in \u001b[0;36mBokehModel._sync_model\u001b[0;34m(self, _, content, _buffers)\u001b[0m\n\u001b[1;32m    126\u001b[0m new, old, attr \u001b[39m=\u001b[39m content[\u001b[39m\"\u001b[39m\u001b[39mnew\u001b[39m\u001b[39m\"\u001b[39m], content[\u001b[39m\"\u001b[39m\u001b[39mold\u001b[39m\u001b[39m\"\u001b[39m], content[\u001b[39m\"\u001b[39m\u001b[39mattr\u001b[39m\u001b[39m\"\u001b[39m]\n\u001b[1;32m    127\u001b[0m submodel \u001b[39m=\u001b[39m \u001b[39mself\u001b[39m\u001b[39m.\u001b[39m_model\u001b[39m.\u001b[39mselect_one({\u001b[39m\"\u001b[39m\u001b[39mid\u001b[39m\u001b[39m\"\u001b[39m: content[\u001b[39m\"\u001b[39m\u001b[39mid\u001b[39m\u001b[39m\"\u001b[39m]})\n\u001b[0;32m--> 128\u001b[0m descriptor \u001b[39m=\u001b[39m submodel\u001b[39m.\u001b[39;49mlookup(content[\u001b[39m'\u001b[39m\u001b[39mattr\u001b[39m\u001b[39m'\u001b[39m])\n\u001b[1;32m    129\u001b[0m \u001b[39mtry\u001b[39;00m:\n\u001b[1;32m    130\u001b[0m     descriptor\u001b[39m.\u001b[39m_set(submodel, old, new, hint\u001b[39m=\u001b[39mhint, setter\u001b[39m=\u001b[39m\u001b[39mself\u001b[39m)\n",
      "\u001b[0;31mAttributeError\u001b[0m: 'NoneType' object has no attribute 'lookup'"
     ]
    },
    {
     "ename": "AttributeError",
     "evalue": "'NoneType' object has no attribute 'lookup'",
     "output_type": "error",
     "traceback": [
      "\u001b[0;31m---------------------------------------------------------------------------\u001b[0m",
      "\u001b[0;31mAttributeError\u001b[0m                            Traceback (most recent call last)",
      "File \u001b[0;32m/Library/Frameworks/Python.framework/Versions/3.11/lib/python3.11/site-packages/jupyter_bokeh/widgets.py:128\u001b[0m, in \u001b[0;36mBokehModel._sync_model\u001b[0;34m(self, _, content, _buffers)\u001b[0m\n\u001b[1;32m    126\u001b[0m new, old, attr \u001b[39m=\u001b[39m content[\u001b[39m\"\u001b[39m\u001b[39mnew\u001b[39m\u001b[39m\"\u001b[39m], content[\u001b[39m\"\u001b[39m\u001b[39mold\u001b[39m\u001b[39m\"\u001b[39m], content[\u001b[39m\"\u001b[39m\u001b[39mattr\u001b[39m\u001b[39m\"\u001b[39m]\n\u001b[1;32m    127\u001b[0m submodel \u001b[39m=\u001b[39m \u001b[39mself\u001b[39m\u001b[39m.\u001b[39m_model\u001b[39m.\u001b[39mselect_one({\u001b[39m\"\u001b[39m\u001b[39mid\u001b[39m\u001b[39m\"\u001b[39m: content[\u001b[39m\"\u001b[39m\u001b[39mid\u001b[39m\u001b[39m\"\u001b[39m]})\n\u001b[0;32m--> 128\u001b[0m descriptor \u001b[39m=\u001b[39m submodel\u001b[39m.\u001b[39;49mlookup(content[\u001b[39m'\u001b[39m\u001b[39mattr\u001b[39m\u001b[39m'\u001b[39m])\n\u001b[1;32m    129\u001b[0m \u001b[39mtry\u001b[39;00m:\n\u001b[1;32m    130\u001b[0m     descriptor\u001b[39m.\u001b[39m_set(submodel, old, new, hint\u001b[39m=\u001b[39mhint, setter\u001b[39m=\u001b[39m\u001b[39mself\u001b[39m)\n",
      "\u001b[0;31mAttributeError\u001b[0m: 'NoneType' object has no attribute 'lookup'"
     ]
    },
    {
     "ename": "AttributeError",
     "evalue": "'NoneType' object has no attribute 'lookup'",
     "output_type": "error",
     "traceback": [
      "\u001b[0;31m---------------------------------------------------------------------------\u001b[0m",
      "\u001b[0;31mAttributeError\u001b[0m                            Traceback (most recent call last)",
      "File \u001b[0;32m/Library/Frameworks/Python.framework/Versions/3.11/lib/python3.11/site-packages/jupyter_bokeh/widgets.py:128\u001b[0m, in \u001b[0;36mBokehModel._sync_model\u001b[0;34m(self, _, content, _buffers)\u001b[0m\n\u001b[1;32m    126\u001b[0m new, old, attr \u001b[39m=\u001b[39m content[\u001b[39m\"\u001b[39m\u001b[39mnew\u001b[39m\u001b[39m\"\u001b[39m], content[\u001b[39m\"\u001b[39m\u001b[39mold\u001b[39m\u001b[39m\"\u001b[39m], content[\u001b[39m\"\u001b[39m\u001b[39mattr\u001b[39m\u001b[39m\"\u001b[39m]\n\u001b[1;32m    127\u001b[0m submodel \u001b[39m=\u001b[39m \u001b[39mself\u001b[39m\u001b[39m.\u001b[39m_model\u001b[39m.\u001b[39mselect_one({\u001b[39m\"\u001b[39m\u001b[39mid\u001b[39m\u001b[39m\"\u001b[39m: content[\u001b[39m\"\u001b[39m\u001b[39mid\u001b[39m\u001b[39m\"\u001b[39m]})\n\u001b[0;32m--> 128\u001b[0m descriptor \u001b[39m=\u001b[39m submodel\u001b[39m.\u001b[39;49mlookup(content[\u001b[39m'\u001b[39m\u001b[39mattr\u001b[39m\u001b[39m'\u001b[39m])\n\u001b[1;32m    129\u001b[0m \u001b[39mtry\u001b[39;00m:\n\u001b[1;32m    130\u001b[0m     descriptor\u001b[39m.\u001b[39m_set(submodel, old, new, hint\u001b[39m=\u001b[39mhint, setter\u001b[39m=\u001b[39m\u001b[39mself\u001b[39m)\n",
      "\u001b[0;31mAttributeError\u001b[0m: 'NoneType' object has no attribute 'lookup'"
     ]
    }
   ],
   "source": [
    "def individual_stroop_bar_plot(participant='blue'):\n",
    "    df = stroop_df[stroop_df['participant']==participant]\n",
    "    \n",
    "    dff= df.groupby('type').min().reset_index()\n",
    "    p = figure(x_range=dff['type'], height=350, toolbar_location=None, \n",
    "               title=f'Stroop Test {participant}', y_axis_label=\"Reaction time(milliseconds)\")\n",
    "    p.vbar(x=dff['type'], bottom=0,top=dff['reaction_time'], width=0.5, line_color='white', color=participant)\n",
    "    return p\n",
    "\n",
    "#interactive plots\n",
    "participants_color =['blue','red','orange','green','pink']\n",
    "inter_plot = pn.interact(individual_stroop_bar_plot, participant = participants_color)\n",
    "inter_plot"
   ]
  },
  {
   "cell_type": "code",
   "execution_count": 19,
   "metadata": {},
   "outputs": [
    {
     "data": {
      "application/vnd.jupyter.widget-view+json": {
       "model_id": "699652aab6194987865e7a65813193e0",
       "version_major": 2,
       "version_minor": 0
      },
      "text/plain": [
       "BokehModel(combine_events=True, render_bundle={'docs_json': {'fba5be76-81e9-4165-bad7-1ef23a915db7': {'defs': …"
      ]
     },
     "execution_count": 19,
     "metadata": {},
     "output_type": "execute_result"
    }
   ],
   "source": [
    "def individual_stroop_box_plot(participant):\n",
    "    \n",
    "    df = stroop_df[stroop_df['participant']==participant]\n",
    "    kinds = df['type'].unique()\n",
    "    \n",
    "    # compute quantiles\n",
    "    qs = df.groupby('type').reaction_time.quantile([0.25, 0.5, 0.75])\n",
    "    qs = qs.unstack().reset_index()\n",
    "    qs.columns = ['type', \"q1\", \"q2\", \"q3\"]\n",
    "    df = pd.merge(df, qs, on='type', how=\"left\")\n",
    "\n",
    "    # compute IQR outlier bounds\n",
    "    iqr = df.q3 - df.q1\n",
    "    df[\"upper\"] = df.q3 + 1.5*iqr\n",
    "    df[\"lower\"] = df.q1 - 1.5*iqr\n",
    "\n",
    "    source = ColumnDataSource(df)\n",
    "\n",
    "    p = figure(x_range=kinds,y_range=[-100,stroop_df['reaction_time'].max() * 1.3],tools=\"\", toolbar_location=None,\n",
    "                title=\"box plot of stroop test \"+participant,\n",
    "               background_fill_color=\"#eaefef\", y_axis_label=\"Reaction time(milliseconds)\")\n",
    "\n",
    "\n",
    "    # outlier range\n",
    "    whisker = Whisker(base='type', upper=\"upper\", lower=\"lower\", source=source)\n",
    "    whisker.upper_head.size = whisker.lower_head.size = 20\n",
    "    p.add_layout(whisker)\n",
    "\n",
    "    # quantile boxes\n",
    "    p.vbar('type', 0.5, \"q2\", \"q3\", color = participant,bottom=0, source=source, line_color=\"black\")\n",
    "    p.vbar('type', 0.5, \"q1\", \"q2\", color=participant, bottom=0, source=source, line_color=\"black\")\n",
    "    \n",
    "    # outliers\n",
    "    outliers = df[~df.reaction_time.between(df.lower, df.upper)]\n",
    "    p.scatter('type', 'reaction_time', source=outliers, size=6, color=\"black\", alpha=0.5)\n",
    "\n",
    "    p.xgrid.grid_line_color = None\n",
    "    p.axis.major_label_text_font_size=\"14px\"\n",
    "    p.axis.axis_label_text_font_size=\"12px\"\n",
    "\n",
    "    return p\n",
    "    \n",
    "#interactive plots\n",
    "participants_color =['blue','red','orange','green','pink']\n",
    "stroop_boxplot = pn.interact(individual_stroop_box_plot, participant = participants_color)\n",
    "stroop_boxplot"
   ]
  },
  {
   "cell_type": "code",
   "execution_count": 16,
   "metadata": {},
   "outputs": [],
   "source": [
    "def total_bar_stroop():\n",
    "\n",
    "    df = stroop_df\n",
    "\n",
    "    #create a list of different session types\n",
    "    types = list(df['type'].unique())\n",
    "    \n",
    "    dff = df.groupby(['participant','type']).mean().reset_index()\n",
    "    \n",
    "    # create a list of participants\n",
    "    participants = list(dff['participant'].unique())\n",
    "\n",
    "    #create two list of reaction time regarding session types\n",
    "    control_mean = list(dff[dff['type'] =='control'].reaction_time)\n",
    "    dehydration_mean = list(dff[dff['type'] =='dehydration'].reaction_time)\n",
    "\n",
    "    #create a dictionary of 3 keys and values and then convert into a dataframe\n",
    "    data = {'participants' : participants,\n",
    "            'control'   : control_mean,\n",
    "            'dehydration'   : dehydration_mean,\n",
    "            }\n",
    "    data = pd.DataFrame(data)\n",
    "\n",
    "    palette =  [\"#718dbf\", \"#e84d60\"] #colors\n",
    "\n",
    "    # create a list like:\n",
    "    # [ (\"blue\", \"control\"), (\"Ablue\", \"dehydration\"), (\"red\", \"control\"), (\"red\", \"dehydration\"), ... ]\n",
    "    x = [ (participant, test) for participant in participants for test in types ]\n",
    "    counts = sum(zip(data['control'], data['dehydration']), ()) # like an hstack\n",
    "\n",
    "    source = ColumnDataSource(data=dict(x=x, counts=counts))\n",
    "    # plot\n",
    "    p = figure(x_range=FactorRange(*x), width=900, height=500, title='Average of reaction time stroop test',\n",
    "               toolbar_location=None,y_axis_label=\"Reaction time(milliseconds)\", x_axis_label=\"participant, session type\")\n",
    "\n",
    "    p.vbar(x='x', top='counts', width=1, source=source, line_color=\"white\",\n",
    "           fill_color=factor_cmap('x', palette=palette, factors=types, start=1, end=2))\n",
    "\n",
    "    p.y_range.start = 0\n",
    "    p.x_range.range_padding = 0.1\n",
    "    p.xaxis.major_label_orientation = 1\n",
    "    p.xgrid.grid_line_color = None\n",
    "\n",
    "    return p"
   ]
  },
  {
   "cell_type": "markdown",
   "metadata": {},
   "source": [
    "#### Stroop error bar"
   ]
  },
  {
   "cell_type": "code",
   "execution_count": 17,
   "metadata": {},
   "outputs": [
    {
     "name": "stderr",
     "output_type": "stream",
     "text": [
      "/var/folders/2g/j1xm7z8s2x3g6pdyfyyp1_d00000gn/T/ipykernel_15043/991632209.py:8: FutureWarning: The default value of numeric_only in DataFrameGroupBy.mean is deprecated. In a future version, numeric_only will default to False. Either specify numeric_only or select only columns which should be valid for the function.\n",
      "  dff = df.groupby(['participant','type']).mean().reset_index()\n"
     ]
    },
    {
     "data": {
      "text/html": [
       "\n",
       "  <div class=\"bk-root\" id=\"f2910d2c-b27b-4741-be3e-4d7ed232e048\" data-root-id=\"3121\"></div>\n"
      ]
     },
     "metadata": {},
     "output_type": "display_data"
    },
    {
     "data": {
      "application/javascript": "(function(root) {\n  function embed_document(root) {\n  const docs_json = {\"9ee60681-42ed-40bb-b7fd-bb79c17f14ee\":{\"defs\":[{\"extends\":null,\"module\":null,\"name\":\"ReactiveHTML1\",\"overrides\":[],\"properties\":[]},{\"extends\":null,\"module\":null,\"name\":\"FlexBox1\",\"overrides\":[],\"properties\":[{\"default\":\"flex-start\",\"kind\":null,\"name\":\"align_content\"},{\"default\":\"flex-start\",\"kind\":null,\"name\":\"align_items\"},{\"default\":\"row\",\"kind\":null,\"name\":\"flex_direction\"},{\"default\":\"wrap\",\"kind\":null,\"name\":\"flex_wrap\"},{\"default\":\"flex-start\",\"kind\":null,\"name\":\"justify_content\"}]},{\"extends\":null,\"module\":null,\"name\":\"GridStack1\",\"overrides\":[],\"properties\":[{\"default\":\"warn\",\"kind\":null,\"name\":\"mode\"},{\"default\":null,\"kind\":null,\"name\":\"ncols\"},{\"default\":null,\"kind\":null,\"name\":\"nrows\"},{\"default\":true,\"kind\":null,\"name\":\"allow_resize\"},{\"default\":true,\"kind\":null,\"name\":\"allow_drag\"},{\"default\":[],\"kind\":null,\"name\":\"state\"}]},{\"extends\":null,\"module\":null,\"name\":\"click1\",\"overrides\":[],\"properties\":[{\"default\":\"\",\"kind\":null,\"name\":\"terminal_output\"},{\"default\":\"\",\"kind\":null,\"name\":\"debug_name\"},{\"default\":0,\"kind\":null,\"name\":\"clears\"}]},{\"extends\":null,\"module\":null,\"name\":\"NotificationAreaBase1\",\"overrides\":[],\"properties\":[{\"default\":\"bottom-right\",\"kind\":null,\"name\":\"position\"},{\"default\":0,\"kind\":null,\"name\":\"_clear\"}]},{\"extends\":null,\"module\":null,\"name\":\"NotificationArea1\",\"overrides\":[],\"properties\":[{\"default\":[],\"kind\":null,\"name\":\"notifications\"},{\"default\":\"bottom-right\",\"kind\":null,\"name\":\"position\"},{\"default\":0,\"kind\":null,\"name\":\"_clear\"},{\"default\":[{\"background\":\"#ffc107\",\"icon\":{\"className\":\"fas fa-exclamation-triangle\",\"color\":\"white\",\"tagName\":\"i\"},\"type\":\"warning\"},{\"background\":\"#007bff\",\"icon\":{\"className\":\"fas fa-info-circle\",\"color\":\"white\",\"tagName\":\"i\"},\"type\":\"info\"}],\"kind\":null,\"name\":\"types\"}]},{\"extends\":null,\"module\":null,\"name\":\"Notification\",\"overrides\":[],\"properties\":[{\"default\":null,\"kind\":null,\"name\":\"background\"},{\"default\":3000,\"kind\":null,\"name\":\"duration\"},{\"default\":null,\"kind\":null,\"name\":\"icon\"},{\"default\":\"\",\"kind\":null,\"name\":\"message\"},{\"default\":null,\"kind\":null,\"name\":\"notification_type\"},{\"default\":false,\"kind\":null,\"name\":\"_destroyed\"}]},{\"extends\":null,\"module\":null,\"name\":\"TemplateActions1\",\"overrides\":[],\"properties\":[{\"default\":0,\"kind\":null,\"name\":\"open_modal\"},{\"default\":0,\"kind\":null,\"name\":\"close_modal\"}]},{\"extends\":null,\"module\":null,\"name\":\"MaterialTemplateActions1\",\"overrides\":[],\"properties\":[{\"default\":0,\"kind\":null,\"name\":\"open_modal\"},{\"default\":0,\"kind\":null,\"name\":\"close_modal\"}]}],\"roots\":{\"references\":[{\"attributes\":{\"below\":[{\"id\":\"3131\"}],\"center\":[{\"id\":\"3133\"},{\"id\":\"3137\"},{\"id\":\"3160\"}],\"height\":500,\"left\":[{\"id\":\"3134\"}],\"renderers\":[{\"id\":\"3157\"}],\"title\":{\"id\":\"3122\"},\"toolbar\":{\"id\":\"3145\"},\"toolbar_location\":null,\"width\":900,\"x_range\":{\"id\":\"3120\"},\"x_scale\":{\"id\":\"3127\"},\"y_range\":{\"id\":\"3125\"},\"y_scale\":{\"id\":\"3129\"}},\"id\":\"3121\",\"subtype\":\"Figure\",\"type\":\"Plot\"},{\"attributes\":{},\"id\":\"3141\",\"type\":\"SaveTool\"},{\"attributes\":{\"start\":0},\"id\":\"3125\",\"type\":\"DataRange1d\"},{\"attributes\":{\"factors\":[[\"blue\",\"control\"],[\"blue\",\"dehydration\"],[\"green\",\"control\"],[\"green\",\"dehydration\"],[\"orange\",\"control\"],[\"orange\",\"dehydration\"],[\"pink\",\"control\"],[\"pink\",\"dehydration\"],[\"red\",\"control\"],[\"red\",\"dehydration\"]],\"range_padding\":0.1},\"id\":\"3120\",\"type\":\"FactorRange\"},{\"attributes\":{\"fill_alpha\":{\"value\":0.1},\"fill_color\":{\"field\":\"x\",\"transform\":{\"id\":\"3152\"}},\"hatch_alpha\":{\"value\":0.1},\"line_alpha\":{\"value\":0.1},\"line_color\":{\"value\":\"white\"},\"top\":{\"field\":\"counts\"},\"x\":{\"field\":\"x\"}},\"id\":\"3155\",\"type\":\"VBar\"},{\"attributes\":{},\"id\":\"3135\",\"type\":\"BasicTicker\"},{\"attributes\":{\"bottom_units\":\"screen\",\"coordinates\":null,\"fill_alpha\":0.5,\"fill_color\":\"lightgrey\",\"group\":null,\"left_units\":\"screen\",\"level\":\"overlay\",\"line_alpha\":1.0,\"line_color\":\"black\",\"line_dash\":[4,4],\"line_width\":2,\"right_units\":\"screen\",\"syncable\":false,\"top_units\":\"screen\"},\"id\":\"3144\",\"type\":\"BoxAnnotation\"},{\"attributes\":{},\"id\":\"3132\",\"type\":\"CategoricalTicker\"},{\"attributes\":{\"line_color\":{\"value\":\"purple\"},\"size\":{\"value\":20}},\"id\":\"3163\",\"type\":\"TeeHead\"},{\"attributes\":{},\"id\":\"3129\",\"type\":\"LinearScale\"},{\"attributes\":{},\"id\":\"3176\",\"type\":\"Selection\"},{\"attributes\":{},\"id\":\"3127\",\"type\":\"CategoricalScale\"},{\"attributes\":{\"axis\":{\"id\":\"3131\"},\"coordinates\":null,\"grid_line_color\":null,\"group\":null,\"ticker\":null},\"id\":\"3133\",\"type\":\"Grid\"},{\"attributes\":{},\"id\":\"3169\",\"type\":\"AllLabels\"},{\"attributes\":{},\"id\":\"3175\",\"type\":\"UnionRenderers\"},{\"attributes\":{\"fill_color\":{\"field\":\"x\",\"transform\":{\"id\":\"3152\"}},\"line_color\":{\"value\":\"white\"},\"top\":{\"field\":\"counts\"},\"x\":{\"field\":\"x\"}},\"id\":\"3154\",\"type\":\"VBar\"},{\"attributes\":{\"data\":{\"counts\":[875.9,781.1125,1010.1375,983.1625,754.325,750.7625,761.5875,709.075,1154.125,1299.6125],\"x\":[[\"blue\",\"control\"],[\"blue\",\"dehydration\"],[\"green\",\"control\"],[\"green\",\"dehydration\"],[\"orange\",\"control\"],[\"orange\",\"dehydration\"],[\"pink\",\"control\"],[\"pink\",\"dehydration\"],[\"red\",\"control\"],[\"red\",\"dehydration\"]]},\"selected\":{\"id\":\"3176\"},\"selection_policy\":{\"id\":\"3175\"}},\"id\":\"3119\",\"type\":\"ColumnDataSource\"},{\"attributes\":{},\"id\":\"3138\",\"type\":\"PanTool\"},{\"attributes\":{\"fill_alpha\":{\"value\":0.2},\"fill_color\":{\"field\":\"x\",\"transform\":{\"id\":\"3152\"}},\"hatch_alpha\":{\"value\":0.2},\"line_alpha\":{\"value\":0.2},\"line_color\":{\"value\":\"white\"},\"top\":{\"field\":\"counts\"},\"x\":{\"field\":\"x\"}},\"id\":\"3156\",\"type\":\"VBar\"},{\"attributes\":{\"axis_label\":\"Reaction time(milliseconds)\",\"coordinates\":null,\"formatter\":{\"id\":\"3168\"},\"group\":null,\"major_label_policy\":{\"id\":\"3169\"},\"ticker\":{\"id\":\"3135\"}},\"id\":\"3134\",\"type\":\"LinearAxis\"},{\"attributes\":{\"source\":{\"id\":\"3119\"}},\"id\":\"3158\",\"type\":\"CDSView\"},{\"attributes\":{},\"id\":\"3143\",\"type\":\"HelpTool\"},{\"attributes\":{},\"id\":\"3178\",\"type\":\"UnionRenderers\"},{\"attributes\":{\"base\":{\"field\":\"x\"},\"coordinates\":null,\"group\":null,\"level\":\"overlay\",\"line_color\":{\"value\":\"purple\"},\"lower\":{\"field\":\"lower\"},\"lower_head\":{\"id\":\"3163\"},\"source\":{\"id\":\"3159\"},\"upper\":{\"field\":\"upper\"},\"upper_head\":{\"id\":\"3162\"}},\"id\":\"3160\",\"type\":\"Whisker\"},{\"attributes\":{},\"id\":\"3179\",\"type\":\"Selection\"},{\"attributes\":{\"axis_label\":\"participant, session type\",\"coordinates\":null,\"formatter\":{\"id\":\"3171\"},\"group\":null,\"major_label_orientation\":1,\"major_label_policy\":{\"id\":\"3172\"},\"ticker\":{\"id\":\"3132\"}},\"id\":\"3131\",\"type\":\"CategoricalAxis\"},{\"attributes\":{\"coordinates\":null,\"data_source\":{\"id\":\"3119\"},\"glyph\":{\"id\":\"3154\"},\"group\":null,\"hover_glyph\":null,\"muted_glyph\":{\"id\":\"3156\"},\"nonselection_glyph\":{\"id\":\"3155\"},\"view\":{\"id\":\"3158\"}},\"id\":\"3157\",\"type\":\"GlyphRenderer\"},{\"attributes\":{},\"id\":\"3139\",\"type\":\"WheelZoomTool\"},{\"attributes\":{\"overlay\":{\"id\":\"3144\"}},\"id\":\"3140\",\"type\":\"BoxZoomTool\"},{\"attributes\":{},\"id\":\"3172\",\"type\":\"AllLabels\"},{\"attributes\":{\"axis\":{\"id\":\"3134\"},\"coordinates\":null,\"dimension\":1,\"group\":null,\"ticker\":null},\"id\":\"3137\",\"type\":\"Grid\"},{\"attributes\":{},\"id\":\"3142\",\"type\":\"ResetTool\"},{\"attributes\":{},\"id\":\"3168\",\"type\":\"BasicTickFormatter\"},{\"attributes\":{\"line_color\":{\"value\":\"purple\"},\"size\":{\"value\":20}},\"id\":\"3162\",\"type\":\"TeeHead\"},{\"attributes\":{},\"id\":\"3171\",\"type\":\"CategoricalTickFormatter\"},{\"attributes\":{\"coordinates\":null,\"group\":null,\"text\":\"Average of reaction time stroop test\"},\"id\":\"3122\",\"type\":\"Title\"},{\"attributes\":{\"tools\":[{\"id\":\"3138\"},{\"id\":\"3139\"},{\"id\":\"3140\"},{\"id\":\"3141\"},{\"id\":\"3142\"},{\"id\":\"3143\"}]},\"id\":\"3145\",\"type\":\"Toolbar\"},{\"attributes\":{\"data\":{\"lower\":[805.5352829979057,732.3616565746768,942.7667190377373,919.049401172714,715.256796250789,698.7996698267206,704.8460699742778,660.0490582658115,1092.4454661423358,1230.6722709716753],\"upper\":[946.2647170020942,829.8633434253231,1077.508280962263,1047.275598827286,793.3932037492111,802.7253301732795,818.3289300257221,758.1009417341886,1215.8045338576642,1368.5527290283246],\"x\":[[\"blue\",\"control\"],[\"blue\",\"dehydration\"],[\"green\",\"control\"],[\"green\",\"dehydration\"],[\"orange\",\"control\"],[\"orange\",\"dehydration\"],[\"pink\",\"control\"],[\"pink\",\"dehydration\"],[\"red\",\"control\"],[\"red\",\"dehydration\"]]},\"selected\":{\"id\":\"3179\"},\"selection_policy\":{\"id\":\"3178\"}},\"id\":\"3159\",\"type\":\"ColumnDataSource\"},{\"attributes\":{\"end\":2,\"factors\":[\"control\",\"dehydration\"],\"palette\":[\"#718dbf\",\"#e84d60\"],\"start\":1},\"id\":\"3152\",\"type\":\"CategoricalColorMapper\"}],\"root_ids\":[\"3121\"]},\"title\":\"Bokeh Application\",\"version\":\"2.4.3\"}};\n  const render_items = [{\"docid\":\"9ee60681-42ed-40bb-b7fd-bb79c17f14ee\",\"root_ids\":[\"3121\"],\"roots\":{\"3121\":\"f2910d2c-b27b-4741-be3e-4d7ed232e048\"}}];\n  root.Bokeh.embed.embed_items_notebook(docs_json, render_items);\n  }\n  if (root.Bokeh !== undefined) {\n    embed_document(root);\n  } else {\n    let attempts = 0;\n    const timer = setInterval(function(root) {\n      if (root.Bokeh !== undefined) {\n        clearInterval(timer);\n        embed_document(root);\n      } else {\n        attempts++;\n        if (attempts > 100) {\n          clearInterval(timer);\n          console.log(\"Bokeh: ERROR: Unable to run BokehJS code because BokehJS library is missing\");\n        }\n      }\n    }, 10, root)\n  }\n})(window);",
      "application/vnd.bokehjs_exec.v0+json": ""
     },
     "metadata": {
      "application/vnd.bokehjs_exec.v0+json": {
       "id": "3121"
      }
     },
     "output_type": "display_data"
    }
   ],
   "source": [
    "def calculate_standard_error(stroop_df):\n",
    "    \n",
    "    df_mean = stroop_df.groupby(by=[\"participant\", \"type\"]).agg(mean=(\"reaction_time\", \"mean\"))\n",
    "    df_se = stroop_df.groupby(by=[\"participant\", \"type\"]).agg(se=(\"reaction_time\", \"sem\"))\n",
    "    upper = df_mean[\"mean\"] + 1.96 * df_se[\"se\"]\n",
    "    lower = df_mean[\"mean\"] - 1.96 * df_se[\"se\"]\n",
    "    data = pd.concat([upper.rename(\"upper\"), lower.rename(\"lower\")], axis=1)\n",
    "    return data\n",
    "\n",
    "\n",
    "\n",
    "def plot_standard_error(plot, data):\n",
    "    x = list(data.index.values)\n",
    "    data_map = {\n",
    "        'x': x,\n",
    "        'upper': data[\"upper\"].tolist(),\n",
    "        'lower': data[\"lower\"].tolist()\n",
    "\n",
    "        }\n",
    "    source = ColumnDataSource(data=data_map)\n",
    "\n",
    "    w = Whisker(source=source, base=\"x\", upper=\"upper\", lower=\"lower\", \n",
    "            line_color='purple', level=\"overlay\")\n",
    "    w.upper_head.line_color = 'purple'\n",
    "    w.lower_head.line_color = 'purple'\n",
    "    w.upper_head.size = w.lower_head.size = 20\n",
    "    plot.add_layout(w)\n",
    "    return plot\n",
    "\n",
    "def stroop_plot_error_bar():\n",
    "    data_se = calculate_standard_error(stroop_df)\n",
    "    p = total_bar_stroop()\n",
    "    p = plot_standard_error(p, data_se)\n",
    "    return p\n",
    "\n",
    "stroop_barplot = stroop_plot_error_bar()\n",
    "show(stroop_barplot)"
   ]
  },
  {
   "cell_type": "code",
   "execution_count": 18,
   "metadata": {},
   "outputs": [
    {
     "name": "stderr",
     "output_type": "stream",
     "text": [
      "/var/folders/2g/j1xm7z8s2x3g6pdyfyyp1_d00000gn/T/ipykernel_15043/3065010340.py:7: FutureWarning: The default value of numeric_only in DataFrameGroupBy.mean is deprecated. In a future version, numeric_only will default to False. Either specify numeric_only or select only columns which should be valid for the function.\n",
      "  dff = df.groupby('participant_type').mean().reset_index()\n",
      "/var/folders/2g/j1xm7z8s2x3g6pdyfyyp1_d00000gn/T/ipykernel_15043/3065010340.py:8: FutureWarning: The default value of numeric_only in DataFrameGroupBy.std is deprecated. In a future version, numeric_only will default to False. Either specify numeric_only or select only columns which should be valid for the function.\n",
      "  std = df.groupby('participant_type').std().reset_index()\n"
     ]
    },
    {
     "data": {
      "text/html": [
       "\n",
       "  <div class=\"bk-root\" id=\"0d9090a9-12a3-41ca-8707-499c19bcf2a0\" data-root-id=\"3579\"></div>\n"
      ]
     },
     "metadata": {},
     "output_type": "display_data"
    },
    {
     "data": {
      "application/javascript": "(function(root) {\n  function embed_document(root) {\n  const docs_json = {\"d27f6a97-e411-447b-96c9-65ec1352bae6\":{\"defs\":[{\"extends\":null,\"module\":null,\"name\":\"ReactiveHTML1\",\"overrides\":[],\"properties\":[]},{\"extends\":null,\"module\":null,\"name\":\"FlexBox1\",\"overrides\":[],\"properties\":[{\"default\":\"flex-start\",\"kind\":null,\"name\":\"align_content\"},{\"default\":\"flex-start\",\"kind\":null,\"name\":\"align_items\"},{\"default\":\"row\",\"kind\":null,\"name\":\"flex_direction\"},{\"default\":\"wrap\",\"kind\":null,\"name\":\"flex_wrap\"},{\"default\":\"flex-start\",\"kind\":null,\"name\":\"justify_content\"}]},{\"extends\":null,\"module\":null,\"name\":\"GridStack1\",\"overrides\":[],\"properties\":[{\"default\":\"warn\",\"kind\":null,\"name\":\"mode\"},{\"default\":null,\"kind\":null,\"name\":\"ncols\"},{\"default\":null,\"kind\":null,\"name\":\"nrows\"},{\"default\":true,\"kind\":null,\"name\":\"allow_resize\"},{\"default\":true,\"kind\":null,\"name\":\"allow_drag\"},{\"default\":[],\"kind\":null,\"name\":\"state\"}]},{\"extends\":null,\"module\":null,\"name\":\"click1\",\"overrides\":[],\"properties\":[{\"default\":\"\",\"kind\":null,\"name\":\"terminal_output\"},{\"default\":\"\",\"kind\":null,\"name\":\"debug_name\"},{\"default\":0,\"kind\":null,\"name\":\"clears\"}]},{\"extends\":null,\"module\":null,\"name\":\"NotificationAreaBase1\",\"overrides\":[],\"properties\":[{\"default\":\"bottom-right\",\"kind\":null,\"name\":\"position\"},{\"default\":0,\"kind\":null,\"name\":\"_clear\"}]},{\"extends\":null,\"module\":null,\"name\":\"NotificationArea1\",\"overrides\":[],\"properties\":[{\"default\":[],\"kind\":null,\"name\":\"notifications\"},{\"default\":\"bottom-right\",\"kind\":null,\"name\":\"position\"},{\"default\":0,\"kind\":null,\"name\":\"_clear\"},{\"default\":[{\"background\":\"#ffc107\",\"icon\":{\"className\":\"fas fa-exclamation-triangle\",\"color\":\"white\",\"tagName\":\"i\"},\"type\":\"warning\"},{\"background\":\"#007bff\",\"icon\":{\"className\":\"fas fa-info-circle\",\"color\":\"white\",\"tagName\":\"i\"},\"type\":\"info\"}],\"kind\":null,\"name\":\"types\"}]},{\"extends\":null,\"module\":null,\"name\":\"Notification\",\"overrides\":[],\"properties\":[{\"default\":null,\"kind\":null,\"name\":\"background\"},{\"default\":3000,\"kind\":null,\"name\":\"duration\"},{\"default\":null,\"kind\":null,\"name\":\"icon\"},{\"default\":\"\",\"kind\":null,\"name\":\"message\"},{\"default\":null,\"kind\":null,\"name\":\"notification_type\"},{\"default\":false,\"kind\":null,\"name\":\"_destroyed\"}]},{\"extends\":null,\"module\":null,\"name\":\"TemplateActions1\",\"overrides\":[],\"properties\":[{\"default\":0,\"kind\":null,\"name\":\"open_modal\"},{\"default\":0,\"kind\":null,\"name\":\"close_modal\"}]},{\"extends\":null,\"module\":null,\"name\":\"MaterialTemplateActions1\",\"overrides\":[],\"properties\":[{\"default\":0,\"kind\":null,\"name\":\"open_modal\"},{\"default\":0,\"kind\":null,\"name\":\"close_modal\"}]}],\"roots\":{\"references\":[{\"attributes\":{\"below\":[{\"id\":\"3590\"}],\"center\":[{\"id\":\"3592\"},{\"id\":\"3596\"},{\"id\":\"3604\"}],\"height\":500,\"left\":[{\"id\":\"3593\"}],\"renderers\":[{\"id\":\"3602\"}],\"title\":{\"id\":\"3580\"},\"toolbar\":{\"id\":\"3597\"},\"toolbar_location\":null,\"width\":900,\"x_range\":{\"id\":\"3582\"},\"x_scale\":{\"id\":\"3586\"},\"y_range\":{\"id\":\"3584\"},\"y_scale\":{\"id\":\"3588\"}},\"id\":\"3579\",\"subtype\":\"Figure\",\"type\":\"Plot\"},{\"attributes\":{\"coordinates\":null,\"group\":null,\"text\":\"Error bar stroop_test\"},\"id\":\"3580\",\"type\":\"Title\"},{\"attributes\":{\"fill_alpha\":{\"value\":0.2},\"fill_color\":{\"value\":\"blue\"},\"hatch_alpha\":{\"value\":0.2},\"hatch_color\":{\"value\":\"blue\"},\"line_alpha\":{\"value\":0.2},\"line_color\":{\"value\":\"blue\"},\"line_width\":{\"value\":0.9},\"x\":{\"field\":\"participants_type\"},\"y\":{\"field\":\"required_mean\"}},\"id\":\"3601\",\"type\":\"Circle\"},{\"attributes\":{},\"id\":\"3591\",\"type\":\"CategoricalTicker\"},{\"attributes\":{},\"id\":\"3588\",\"type\":\"LinearScale\"},{\"attributes\":{\"fill_alpha\":{\"value\":0.1},\"fill_color\":{\"value\":\"blue\"},\"hatch_alpha\":{\"value\":0.1},\"hatch_color\":{\"value\":\"blue\"},\"line_alpha\":{\"value\":0.1},\"line_color\":{\"value\":\"blue\"},\"line_width\":{\"value\":0.9},\"x\":{\"field\":\"participants_type\"},\"y\":{\"field\":\"required_mean\"}},\"id\":\"3600\",\"type\":\"Circle\"},{\"attributes\":{},\"id\":\"3594\",\"type\":\"BasicTicker\"},{\"attributes\":{\"source\":{\"id\":\"3578\"}},\"id\":\"3603\",\"type\":\"CDSView\"},{\"attributes\":{},\"id\":\"3597\",\"type\":\"Toolbar\"},{\"attributes\":{\"data\":{\"SE\":{\"__ndarray__\":\"7xLmLz/zQUBe/YgEdd84QAWJ7na5L0FA5JKDVvpaQEAsIOopye4zQNd3z137gjpAIvRUJCDzPEBmhSloYwM5QC8EqzUaeD9A1aTpEjiWQUA=\",\"dtype\":\"float64\",\"order\":\"little\",\"shape\":[10]},\"index\":[0,1,2,3,4,5,6,7,8,9],\"lower\":{\"__ndarray__\":\"4dBzQkgsiUD2xDOs5OKGQGtClz0ido1AhylxLGW4jED+VjHrDVqGQOdKS7ll1oVANa1VwMQGhkAS+qh4ZKCEQDvDRijIEZFAlTXNZ7A6k0A=\",\"dtype\":\"float64\",\"order\":\"little\",\"shape\":[10]},\"participants_type\":[\"blue control\",\"blue dehydration\",\"green control\",\"green dehydration\",\"orange control\",\"orange dehydration\",\"pink control\",\"pink dehydration\",\"red control\",\"red dehydration\"],\"required_mean\":{\"__ndarray__\":\"MzMzMzNfi0BmZmZm5miIQJqZmZkZkY9AzczMzEy5jkCamZmZmZKHQJqZmZkZdodAMzMzM7PMh0CamZmZmSiGQAAAAACACJJAMzMzM3NOlEA=\",\"dtype\":\"float64\",\"order\":\"little\",\"shape\":[10]},\"upper\":{\"__ndarray__\":\"hZXyIx6SjUDWB5kg6O6JQGX4zXoI1pBACjiUNhpdkEA23AFIJcuIQE3o53nNFYlAMbkQpqGSiUAiOYq6zrCHQMU8udc3/5JA0TCZ/jVilUA=\",\"dtype\":\"float64\",\"order\":\"little\",\"shape\":[10]}},\"selected\":{\"id\":\"3632\"},\"selection_policy\":{\"id\":\"3631\"}},\"id\":\"3578\",\"type\":\"ColumnDataSource\"},{\"attributes\":{},\"id\":\"3627\",\"type\":\"CategoricalTickFormatter\"},{\"attributes\":{},\"id\":\"3586\",\"type\":\"CategoricalScale\"},{\"attributes\":{\"coordinates\":null,\"data_source\":{\"id\":\"3578\"},\"glyph\":{\"id\":\"3599\"},\"group\":null,\"hover_glyph\":null,\"muted_glyph\":{\"id\":\"3601\"},\"nonselection_glyph\":{\"id\":\"3600\"},\"view\":{\"id\":\"3603\"}},\"id\":\"3602\",\"type\":\"GlyphRenderer\"},{\"attributes\":{},\"id\":\"3628\",\"type\":\"AllLabels\"},{\"attributes\":{\"axis\":{\"id\":\"3590\"},\"coordinates\":null,\"group\":null,\"ticker\":null},\"id\":\"3592\",\"type\":\"Grid\"},{\"attributes\":{},\"id\":\"3632\",\"type\":\"Selection\"},{\"attributes\":{\"axis\":{\"id\":\"3593\"},\"coordinates\":null,\"dimension\":1,\"group\":null,\"ticker\":null},\"id\":\"3596\",\"type\":\"Grid\"},{\"attributes\":{\"base\":{\"field\":\"participants_type\"},\"coordinates\":null,\"group\":null,\"lower\":{\"field\":\"lower\"},\"lower_head\":{\"id\":\"3607\"},\"source\":{\"id\":\"3578\"},\"upper\":{\"field\":\"upper\"},\"upper_head\":{\"id\":\"3606\"}},\"id\":\"3604\",\"type\":\"Whisker\"},{\"attributes\":{},\"id\":\"3631\",\"type\":\"UnionRenderers\"},{\"attributes\":{},\"id\":\"3624\",\"type\":\"BasicTickFormatter\"},{\"attributes\":{\"coordinates\":null,\"formatter\":{\"id\":\"3627\"},\"group\":null,\"major_label_policy\":{\"id\":\"3628\"},\"ticker\":{\"id\":\"3591\"}},\"id\":\"3590\",\"type\":\"CategoricalAxis\"},{\"attributes\":{\"factors\":[\"blue control\",\"blue dehydration\",\"green control\",\"green dehydration\",\"orange control\",\"orange dehydration\",\"pink control\",\"pink dehydration\",\"red control\",\"red dehydration\"]},\"id\":\"3582\",\"type\":\"FactorRange\"},{\"attributes\":{\"end\":1468.5527290283246,\"start\":560.0490582658115},\"id\":\"3584\",\"type\":\"Range1d\"},{\"attributes\":{\"fill_color\":{\"value\":\"blue\"},\"hatch_color\":{\"value\":\"blue\"},\"line_color\":{\"value\":\"blue\"},\"line_width\":{\"value\":0.9},\"x\":{\"field\":\"participants_type\"},\"y\":{\"field\":\"required_mean\"}},\"id\":\"3599\",\"type\":\"Circle\"},{\"attributes\":{},\"id\":\"3625\",\"type\":\"AllLabels\"},{\"attributes\":{\"size\":{\"value\":20}},\"id\":\"3607\",\"type\":\"TeeHead\"},{\"attributes\":{\"size\":{\"value\":20}},\"id\":\"3606\",\"type\":\"TeeHead\"},{\"attributes\":{\"coordinates\":null,\"formatter\":{\"id\":\"3624\"},\"group\":null,\"major_label_policy\":{\"id\":\"3625\"},\"ticker\":{\"id\":\"3594\"}},\"id\":\"3593\",\"type\":\"LinearAxis\"}],\"root_ids\":[\"3579\"]},\"title\":\"Bokeh Application\",\"version\":\"2.4.3\"}};\n  const render_items = [{\"docid\":\"d27f6a97-e411-447b-96c9-65ec1352bae6\",\"root_ids\":[\"3579\"],\"roots\":{\"3579\":\"0d9090a9-12a3-41ca-8707-499c19bcf2a0\"}}];\n  root.Bokeh.embed.embed_items_notebook(docs_json, render_items);\n  }\n  if (root.Bokeh !== undefined) {\n    embed_document(root);\n  } else {\n    let attempts = 0;\n    const timer = setInterval(function(root) {\n      if (root.Bokeh !== undefined) {\n        clearInterval(timer);\n        embed_document(root);\n      } else {\n        attempts++;\n        if (attempts > 100) {\n          clearInterval(timer);\n          console.log(\"Bokeh: ERROR: Unable to run BokehJS code because BokehJS library is missing\");\n        }\n      }\n    }, 10, root)\n  }\n})(window);",
      "application/vnd.bokehjs_exec.v0+json": ""
     },
     "metadata": {
      "application/vnd.bokehjs_exec.v0+json": {
       "id": "3579"
      }
     },
     "output_type": "display_data"
    }
   ],
   "source": [
    "def error_bar(df = stroop_df, required = 'reaction_time',test_name = 'stroop_test'):\n",
    "    \n",
    "    #create new column containing participant and the type of test\n",
    "    df['participant_type'] = df['participant']+' '+df['type']\n",
    "\n",
    "    # calculate SE\n",
    "    dff = df.groupby('participant_type').mean().reset_index()\n",
    "    std = df.groupby('participant_type').std().reset_index()\n",
    "    n = df.groupby('participant_type').count().reset_index()\n",
    "\n",
    "    name_list = list(dff['participant_type'])\n",
    "    mean_list = list(dff[required])\n",
    "    std_list = list(std[required])\n",
    "    n_list = list(n[required])\n",
    "    se_list = std_list/np.sqrt(n_list)\n",
    "\n",
    "    #calculate upper and lower\n",
    "    upper = mean_list + se_list*1.96\n",
    "    lower = mean_list - se_list*1.96\n",
    "    \n",
    "    # create new dataframe\n",
    "    data = {'participants_type' : name_list,\n",
    "            'required_mean' : mean_list,\n",
    "            'SE' : se_list,\n",
    "            'upper' : upper,\n",
    "            'lower' : lower,\n",
    "            }\n",
    "    data = pd.DataFrame(data)\n",
    "\n",
    "    source = ColumnDataSource(data)\n",
    "\n",
    "    # plot\n",
    "\n",
    "    p = figure(x_range= name_list, y_range = [data['lower'].min()-100,data['upper'].max()+100],  width=900, \n",
    "               height=500, title=\"Error bar \"+ test_name, toolbar_location=None, tools=\"\")\n",
    "\n",
    "    p.circle(x='participants_type', y= 'required_mean', width=0.9, color='blue', source=source)\n",
    "\n",
    "    whisker = Whisker(base='participants_type', upper=\"upper\", lower=\"lower\", source=source)\n",
    "    whisker.upper_head.size = whisker.lower_head.size = 20\n",
    "    p.add_layout(whisker)\n",
    "    return p\n",
    "\n",
    "show(error_bar(df = stroop_df, required = 'reaction_time',test_name = 'stroop_test'))\n"
   ]
  },
  {
   "cell_type": "markdown",
   "metadata": {},
   "source": [
    "### Stop Signal Analysis"
   ]
  },
  {
   "cell_type": "code",
   "execution_count": 20,
   "metadata": {},
   "outputs": [
    {
     "data": {
      "text/html": [
       "<div>\n",
       "<style scoped>\n",
       "    .dataframe tbody tr th:only-of-type {\n",
       "        vertical-align: middle;\n",
       "    }\n",
       "\n",
       "    .dataframe tbody tr th {\n",
       "        vertical-align: top;\n",
       "    }\n",
       "\n",
       "    .dataframe thead th {\n",
       "        text-align: right;\n",
       "    }\n",
       "</style>\n",
       "<table border=\"1\" class=\"dataframe\">\n",
       "  <thead>\n",
       "    <tr style=\"text-align: right;\">\n",
       "      <th></th>\n",
       "      <th>Meaning</th>\n",
       "    </tr>\n",
       "    <tr>\n",
       "      <th>Column</th>\n",
       "      <th></th>\n",
       "    </tr>\n",
       "  </thead>\n",
       "  <tbody>\n",
       "    <tr>\n",
       "      <th>0</th>\n",
       "      <td>trial type (go or nogo)</td>\n",
       "    </tr>\n",
       "    <tr>\n",
       "      <th>1</th>\n",
       "      <td>required response (left or right)</td>\n",
       "    </tr>\n",
       "    <tr>\n",
       "      <th>2</th>\n",
       "      <td>when the stop signal is shown (or 0 if not)</td>\n",
       "    </tr>\n",
       "    <tr>\n",
       "      <th>3</th>\n",
       "      <td>response time 1</td>\n",
       "    </tr>\n",
       "    <tr>\n",
       "      <th>4</th>\n",
       "      <td>status 1 (1=correct, 2=wrong, 3=timeout)</td>\n",
       "    </tr>\n",
       "    <tr>\n",
       "      <th>5</th>\n",
       "      <td>response time 2 (only in no go trials)</td>\n",
       "    </tr>\n",
       "    <tr>\n",
       "      <th>6</th>\n",
       "      <td>status 2 (only in no go trials; 1=correct, 2=w...</td>\n",
       "    </tr>\n",
       "    <tr>\n",
       "      <th>7</th>\n",
       "      <td>1=trial is correct ; 0=trial is not correct</td>\n",
       "    </tr>\n",
       "  </tbody>\n",
       "</table>\n",
       "</div>"
      ],
      "text/plain": [
       "                                                  Meaning\n",
       "Column                                                   \n",
       "0                                 trial type (go or nogo)\n",
       "1                       required response (left or right)\n",
       "2             when the stop signal is shown (or 0 if not)\n",
       "3                                         response time 1\n",
       "4                status 1 (1=correct, 2=wrong, 3=timeout)\n",
       "5                  response time 2 (only in no go trials)\n",
       "6       status 2 (only in no go trials; 1=correct, 2=w...\n",
       "7             1=trial is correct ; 0=trial is not correct"
      ]
     },
     "execution_count": 20,
     "metadata": {},
     "output_type": "execute_result"
    }
   ],
   "source": [
    "\n",
    "column_meanings = {'Column':[0,1,2,3,4,5,6,7],\n",
    "                   'Meaning':['trial type (go or nogo)', \n",
    "                              'required response (left or right)', \n",
    "                              'when the stop signal is shown (or 0 if not)', \n",
    "                              'response time 1', \n",
    "                              'status 1 (1=correct, 2=wrong, 3=timeout)',\n",
    "                              'response time 2 (only in no go trials)',\n",
    "                              'status 2 (only in no go trials; 1=correct, 2=wrong, 3=timeout)',\n",
    "                              '1=trial is correct ; 0=trial is not correct']} \n",
    "\n",
    "column_meanings = pd.DataFrame(column_meanings)\n",
    "column_meanings.set_index('Column', inplace=True)\n",
    "column_meanings\n"
   ]
  },
  {
   "cell_type": "code",
   "execution_count": 21,
   "metadata": {},
   "outputs": [
    {
     "name": "stderr",
     "output_type": "stream",
     "text": [
      "/var/folders/2g/j1xm7z8s2x3g6pdyfyyp1_d00000gn/T/ipykernel_15043/1200528670.py:16: FutureWarning: The default value of numeric_only in DataFrameGroupBy.mean is deprecated. In a future version, numeric_only will default to False. Either specify numeric_only or select only columns which should be valid for the function.\n",
      "  'participant', 'type','status']).mean()['response_time']\n",
      "/var/folders/2g/j1xm7z8s2x3g6pdyfyyp1_d00000gn/T/ipykernel_15043/1200528670.py:21: FutureWarning: The default value of numeric_only in DataFrameGroupBy.mean is deprecated. In a future version, numeric_only will default to False. Either specify numeric_only or select only columns which should be valid for the function.\n",
      "  'participant', 'type','status_nogo']).mean()['response_time']\n"
     ]
    }
   ],
   "source": [
    "def stop_test(stop_df): # Jacob\n",
    "    \n",
    "    # renaming and reordering columns\n",
    "    stop_df.rename(columns = {0:'trial_type', 1:'correct_resp.', \n",
    "                            2:'stop_signal_delay', 3:'response_time',\n",
    "                            4:'status', 5:'resonse_time_nogo',\n",
    "                            6:'status_nogo', 7:'correct'}, inplace = True)\n",
    "\n",
    "    stop_df = stop_df[['participant', 'type', 'repeat', 'trial_type',\n",
    "                    'correct_resp.', 'correct', 'response_time',\n",
    "                    'status', 'stop_signal_delay', 'resonse_time_nogo',\n",
    "                    'status_nogo']]\n",
    "\n",
    "    # The average resonse time for go trials per trial type\n",
    "    avg_go_resp_time = stop_df[stop_df['trial_type'] == 'go'].groupby([\n",
    "        'participant', 'type','status']).mean()['response_time']\n",
    "\n",
    "\n",
    "    # The average resonse time for no-go trials per correct/incorrect trial\n",
    "    avg_nogo_resp_time = stop_df[stop_df['trial_type'] == 'nogo'].groupby([\n",
    "        'participant', 'type','status_nogo']).mean()['response_time']\n",
    "\n",
    "    # Good to keep in mind that here, status three corresponds with a correct trail\n",
    "    # Since there was no press in a no-go trial.\n",
    "\n",
    "    # Number of errors and time-outs in go trials\n",
    "    errors_timeout_go = stop_df[(stop_df['trial_type'] == 'go') & \n",
    "                                (stop_df['status'] != 1.0)].groupby([\n",
    "                                    'participant', 'type', 'repeat','status']).count()['trial_type']\n",
    "\n",
    "    # Number of errors and time-outs in no-go trials\n",
    "    errors_timeout_nogo = stop_df[stop_df['trial_type'] == 'nogo'].groupby([\n",
    "        'participant', 'type', 'repeat','status_nogo']).count()['trial_type']\n",
    "    \n",
    "    return avg_go_resp_time, avg_nogo_resp_time, errors_timeout_go, errors_timeout_nogo\n",
    "\n",
    "# callig the function\n",
    "avg_go_resp_time, avg_nogo_resp_time, errors_timeout_go, errors_timeout_nogo = stop_test(data_dict['stop'])\n"
   ]
  },
  {
   "cell_type": "code",
   "execution_count": 22,
   "metadata": {
    "scrolled": true
   },
   "outputs": [
    {
     "data": {
      "application/vnd.jupyter.widget-view+json": {
       "model_id": "3c4d22bbdc3d469d8faadf0d6815344b",
       "version_major": 2,
       "version_minor": 0
      },
      "text/plain": [
       "BokehModel(combine_events=True, render_bundle={'docs_json': {'d888fb5d-7717-4a69-b174-624a9ef6a6e9': {'defs': …"
      ]
     },
     "execution_count": 22,
     "metadata": {},
     "output_type": "execute_result"
    }
   ],
   "source": [
    "stop_signal_boxplot = data_dict['stop'][(data_dict['stop']['trial_type'] == 'go') & \n",
    "                                     (data_dict['stop']['correct'] == 1)][['response_time', 'participant', 'type']\n",
    "                                                      ].hvplot.box(by='type', \n",
    "                                                                   groupby='participant',\n",
    "                                                                   title='Reaction time for correct responses',\n",
    "                                                                   xlabel='Session Type', \n",
    "                                                                   ylabel='Resopnse Time (ms)')\n",
    "\n",
    "stop_signal_boxplot"
   ]
  },
  {
   "cell_type": "code",
   "execution_count": 23,
   "metadata": {},
   "outputs": [],
   "source": [
    "# TODO: calculate percentage of errors/correct\n",
    "\n",
    "participants = ['blue', 'green', 'red', 'pink', 'orange']\n",
    "session_type = ['control', 'dehydratation']\n",
    "\n",
    "perc_correct = pd.DataFrame(index=[participants])\n"
   ]
  },
  {
   "cell_type": "code",
   "execution_count": null,
   "metadata": {},
   "outputs": [
    {
     "data": {
      "text/plain": [
       "86.42857142857143"
      ]
     },
     "execution_count": 24,
     "metadata": {},
     "output_type": "execute_result"
    }
   ],
   "source": [
    "df = data_dict['stop']\n",
    "correct = len(df[(df['participant'] == 'blue') &\n",
    "    (df['type'] == 'dehydration') &\n",
    "    (df['correct'] == 1)])\n",
    "total = len(df[(df['participant'] == 'blue') &\n",
    "    (df['type'] == 'dehydration')])\n",
    "\n",
    "perc_correct = (correct/total) * 100\n",
    "perc_correct"
   ]
  },
  {
   "cell_type": "markdown",
   "metadata": {},
   "source": [
    "### Verbal Fluency Analysis"
   ]
  },
  {
   "cell_type": "code",
   "execution_count": null,
   "metadata": {},
   "outputs": [
    {
     "name": "stderr",
     "output_type": "stream",
     "text": [
      "/var/folders/2g/j1xm7z8s2x3g6pdyfyyp1_d00000gn/T/ipykernel_15043/2460606938.py:6: FutureWarning: The default value of numeric_only in DataFrameGroupBy.mean is deprecated. In a future version, numeric_only will default to False. Either specify numeric_only or select only columns which should be valid for the function.\n",
      "  verbal_avg = verbal_df.groupby(['participant', 'type']).mean().round(2)\n"
     ]
    }
   ],
   "source": [
    "verbal_df = data_dict['verbal'].copy()\n",
    "verbal_df = verbal_df[verbal_df[1] != 'word count'] # to remove silly headers\n",
    "verbal_df.rename(columns={0:'word_type', 1:'n'}, inplace=True)\n",
    "verbal_df['n'] = verbal_df['n'].astype(int)\n",
    "\n",
    "verbal_avg = verbal_df.groupby(['participant', 'type']).mean().round(2)\n",
    "error_data = verbal_df.describe().transpose()\n",
    "\n",
    "verbal_avg_bar = verbal_avg.hvplot.bar(title='Average number of words produced per session type',\n",
    "                                        xlabel='Participant, Session Type', \n",
    "                                        ylabel ='Number of words').opts(xrotation=25)# * error_data.hvplot.errorbars(y='max', yerr1='std')"
   ]
  },
  {
   "cell_type": "code",
   "execution_count": null,
   "metadata": {
    "scrolled": true
   },
   "outputs": [
    {
     "name": "stderr",
     "output_type": "stream",
     "text": [
      "/var/folders/2g/j1xm7z8s2x3g6pdyfyyp1_d00000gn/T/ipykernel_15043/2567688535.py:7: FutureWarning: The default value of numeric_only in DataFrameGroupBy.mean is deprecated. In a future version, numeric_only will default to False. Either specify numeric_only or select only columns which should be valid for the function.\n",
      "  verbal_avg = verbal_df.groupby(['participant', 'type']).mean().round(2)\n"
     ]
    },
    {
     "data": {
      "application/vnd.holoviews_exec.v0+json": "",
      "text/html": [
       "<div id='7942'>\n",
       "  <div class=\"bk-root\" id=\"05848e67-c0a7-4795-91a9-378827752a51\" data-root-id=\"7942\"></div>\n",
       "</div>\n",
       "<script type=\"application/javascript\">(function(root) {\n",
       "  function embed_document(root) {\n",
       "    var docs_json = {\"c7443630-06f6-47bc-bb19-7e77165b9228\":{\"defs\":[{\"extends\":null,\"module\":null,\"name\":\"ReactiveHTML1\",\"overrides\":[],\"properties\":[]},{\"extends\":null,\"module\":null,\"name\":\"FlexBox1\",\"overrides\":[],\"properties\":[{\"default\":\"flex-start\",\"kind\":null,\"name\":\"align_content\"},{\"default\":\"flex-start\",\"kind\":null,\"name\":\"align_items\"},{\"default\":\"row\",\"kind\":null,\"name\":\"flex_direction\"},{\"default\":\"wrap\",\"kind\":null,\"name\":\"flex_wrap\"},{\"default\":\"flex-start\",\"kind\":null,\"name\":\"justify_content\"}]},{\"extends\":null,\"module\":null,\"name\":\"GridStack1\",\"overrides\":[],\"properties\":[{\"default\":\"warn\",\"kind\":null,\"name\":\"mode\"},{\"default\":null,\"kind\":null,\"name\":\"ncols\"},{\"default\":null,\"kind\":null,\"name\":\"nrows\"},{\"default\":true,\"kind\":null,\"name\":\"allow_resize\"},{\"default\":true,\"kind\":null,\"name\":\"allow_drag\"},{\"default\":[],\"kind\":null,\"name\":\"state\"}]},{\"extends\":null,\"module\":null,\"name\":\"click1\",\"overrides\":[],\"properties\":[{\"default\":\"\",\"kind\":null,\"name\":\"terminal_output\"},{\"default\":\"\",\"kind\":null,\"name\":\"debug_name\"},{\"default\":0,\"kind\":null,\"name\":\"clears\"}]},{\"extends\":null,\"module\":null,\"name\":\"NotificationAreaBase1\",\"overrides\":[],\"properties\":[{\"default\":\"bottom-right\",\"kind\":null,\"name\":\"position\"},{\"default\":0,\"kind\":null,\"name\":\"_clear\"}]},{\"extends\":null,\"module\":null,\"name\":\"NotificationArea1\",\"overrides\":[],\"properties\":[{\"default\":[],\"kind\":null,\"name\":\"notifications\"},{\"default\":\"bottom-right\",\"kind\":null,\"name\":\"position\"},{\"default\":0,\"kind\":null,\"name\":\"_clear\"},{\"default\":[{\"background\":\"#ffc107\",\"icon\":{\"className\":\"fas fa-exclamation-triangle\",\"color\":\"white\",\"tagName\":\"i\"},\"type\":\"warning\"},{\"background\":\"#007bff\",\"icon\":{\"className\":\"fas fa-info-circle\",\"color\":\"white\",\"tagName\":\"i\"},\"type\":\"info\"}],\"kind\":null,\"name\":\"types\"}]},{\"extends\":null,\"module\":null,\"name\":\"Notification\",\"overrides\":[],\"properties\":[{\"default\":null,\"kind\":null,\"name\":\"background\"},{\"default\":3000,\"kind\":null,\"name\":\"duration\"},{\"default\":null,\"kind\":null,\"name\":\"icon\"},{\"default\":\"\",\"kind\":null,\"name\":\"message\"},{\"default\":null,\"kind\":null,\"name\":\"notification_type\"},{\"default\":false,\"kind\":null,\"name\":\"_destroyed\"}]},{\"extends\":null,\"module\":null,\"name\":\"TemplateActions1\",\"overrides\":[],\"properties\":[{\"default\":0,\"kind\":null,\"name\":\"open_modal\"},{\"default\":0,\"kind\":null,\"name\":\"close_modal\"}]},{\"extends\":null,\"module\":null,\"name\":\"MaterialTemplateActions1\",\"overrides\":[],\"properties\":[{\"default\":0,\"kind\":null,\"name\":\"open_modal\"},{\"default\":0,\"kind\":null,\"name\":\"close_modal\"}]}],\"roots\":{\"references\":[{\"attributes\":{\"source\":{\"id\":\"7977\"}},\"id\":\"7984\",\"type\":\"CDSView\"},{\"attributes\":{\"data\":{\"n\":{\"__ndarray__\":\"16NwPQpXLEApXI/C9agpQNejcD0KVyhA7FG4HoUrMUAAAAAAAAAsQOxRuB6FKzFAAAAAAAAAKUAAAAAAAAAoQAAAAAAAACxAKVyPwvWoJUA=\",\"dtype\":\"float64\",\"order\":\"little\",\"shape\":[10]},\"participant\":[\"blue\",\"green\",\"orange\",\"pink\",\"red\",\"blue\",\"green\",\"orange\",\"pink\",\"red\"],\"type\":[\"control\",\"control\",\"control\",\"control\",\"control\",\"dehydration\",\"dehydration\",\"dehydration\",\"dehydration\",\"dehydration\"],\"xoffsets\":[[\"blue\",\"control\"],[\"green\",\"control\"],[\"orange\",\"control\"],[\"pink\",\"control\"],[\"red\",\"control\"],[\"blue\",\"dehydration\"],[\"green\",\"dehydration\"],[\"orange\",\"dehydration\"],[\"pink\",\"dehydration\"],[\"red\",\"dehydration\"]]},\"selected\":{\"id\":\"7978\"},\"selection_policy\":{\"id\":\"7999\"}},\"id\":\"7977\",\"type\":\"ColumnDataSource\"},{\"attributes\":{\"overlay\":{\"id\":\"7968\"}},\"id\":\"7966\",\"type\":\"BoxZoomTool\"},{\"attributes\":{\"bottom_units\":\"screen\",\"coordinates\":null,\"fill_alpha\":0.5,\"fill_color\":\"lightgrey\",\"group\":null,\"left_units\":\"screen\",\"level\":\"overlay\",\"line_alpha\":1.0,\"line_color\":\"black\",\"line_dash\":[4,4],\"line_width\":2,\"right_units\":\"screen\",\"syncable\":false,\"top_units\":\"screen\"},\"id\":\"7968\",\"type\":\"BoxAnnotation\"},{\"attributes\":{\"fill_alpha\":{\"value\":0.2},\"fill_color\":{\"field\":\"type\",\"transform\":{\"id\":\"7976\"}},\"hatch_alpha\":{\"value\":0.2},\"hatch_color\":{\"field\":\"type\",\"transform\":{\"id\":\"7976\"}},\"line_alpha\":{\"value\":0.2},\"top\":{\"field\":\"n\"},\"width\":{\"value\":0.8},\"x\":{\"field\":\"xoffsets\"}},\"id\":\"7982\",\"type\":\"VBar\"},{\"attributes\":{\"factors\":[[\"blue\",\"control\"],[\"blue\",\"dehydration\"],[\"green\",\"control\"],[\"green\",\"dehydration\"],[\"orange\",\"control\"],[\"orange\",\"dehydration\"],[\"pink\",\"control\"],[\"pink\",\"dehydration\"],[\"red\",\"control\"],[\"red\",\"dehydration\"]],\"tags\":[[[\"participant\",\"participant\",null],[\"type\",\"type\",null]]]},\"id\":\"7944\",\"type\":\"FactorRange\"},{\"attributes\":{\"tools\":[{\"id\":\"7946\"},{\"id\":\"7963\"},{\"id\":\"7964\"},{\"id\":\"7965\"},{\"id\":\"7966\"},{\"id\":\"7967\"}]},\"id\":\"7969\",\"type\":\"Toolbar\"},{\"attributes\":{\"axis_label\":\"Number of words\",\"coordinates\":null,\"formatter\":{\"id\":\"7990\"},\"group\":null,\"major_label_policy\":{\"id\":\"7991\"},\"ticker\":{\"id\":\"7960\"}},\"id\":\"7959\",\"type\":\"LinearAxis\"},{\"attributes\":{\"callback\":null,\"renderers\":[{\"id\":\"7983\"}],\"tags\":[\"hv_created\"],\"tooltips\":[[\"participant\",\"@{participant}\"],[\"type\",\"@{type}\"],[\"n\",\"@{n}\"]]},\"id\":\"7946\",\"type\":\"HoverTool\"},{\"attributes\":{\"end\":17.804000000000002,\"reset_end\":17.804000000000002,\"reset_start\":0.0,\"tags\":[[[\"n\",\"n\",null]]]},\"id\":\"7945\",\"type\":\"Range1d\"},{\"attributes\":{},\"id\":\"7965\",\"type\":\"WheelZoomTool\"},{\"attributes\":{},\"id\":\"7987\",\"type\":\"CategoricalTickFormatter\"},{\"attributes\":{\"factors\":[\"control\",\"dehydration\"],\"palette\":[\"#30a2da\",\"#fc4f30\"]},\"id\":\"7976\",\"type\":\"CategoricalColorMapper\"},{\"attributes\":{\"fill_alpha\":{\"value\":0.1},\"fill_color\":{\"field\":\"type\",\"transform\":{\"id\":\"7976\"}},\"hatch_alpha\":{\"value\":0.1},\"hatch_color\":{\"field\":\"type\",\"transform\":{\"id\":\"7976\"}},\"line_alpha\":{\"value\":0.1},\"top\":{\"field\":\"n\"},\"width\":{\"value\":0.8},\"x\":{\"field\":\"xoffsets\"}},\"id\":\"7981\",\"type\":\"VBar\"},{\"attributes\":{},\"id\":\"7957\",\"type\":\"CategoricalTicker\"},{\"attributes\":{},\"id\":\"7952\",\"type\":\"CategoricalScale\"},{\"attributes\":{\"axis\":{\"id\":\"7959\"},\"coordinates\":null,\"dimension\":1,\"grid_line_color\":null,\"group\":null,\"ticker\":null},\"id\":\"7962\",\"type\":\"Grid\"},{\"attributes\":{\"axis\":{\"id\":\"7956\"},\"coordinates\":null,\"grid_line_color\":null,\"group\":null,\"ticker\":null},\"id\":\"7958\",\"type\":\"Grid\"},{\"attributes\":{\"bottom\":{\"value\":0},\"fill_alpha\":{\"value\":1.0},\"fill_color\":{\"field\":\"type\",\"transform\":{\"id\":\"7976\"}},\"hatch_alpha\":{\"value\":1.0},\"hatch_color\":{\"field\":\"type\",\"transform\":{\"id\":\"7976\"}},\"hatch_scale\":{\"value\":12.0},\"hatch_weight\":{\"value\":1.0},\"line_alpha\":{\"value\":1.0},\"line_cap\":{\"value\":\"butt\"},\"line_color\":{\"value\":\"black\"},\"line_dash\":{\"value\":[]},\"line_dash_offset\":{\"value\":0},\"line_join\":{\"value\":\"bevel\"},\"line_width\":{\"value\":1},\"top\":{\"field\":\"n\"},\"width\":{\"value\":0.8},\"x\":{\"field\":\"xoffsets\"}},\"id\":\"7985\",\"type\":\"VBar\"},{\"attributes\":{\"below\":[{\"id\":\"7956\"}],\"center\":[{\"id\":\"7958\"},{\"id\":\"7962\"}],\"height\":300,\"left\":[{\"id\":\"7959\"}],\"margin\":[5,5,5,5],\"min_border_bottom\":10,\"min_border_left\":10,\"min_border_right\":10,\"min_border_top\":10,\"renderers\":[{\"id\":\"7983\"}],\"sizing_mode\":\"fixed\",\"title\":{\"id\":\"7948\"},\"toolbar\":{\"id\":\"7969\"},\"width\":700,\"x_range\":{\"id\":\"7944\"},\"x_scale\":{\"id\":\"7952\"},\"y_range\":{\"id\":\"7945\"},\"y_scale\":{\"id\":\"7954\"}},\"id\":\"7947\",\"subtype\":\"Figure\",\"type\":\"Plot\"},{\"attributes\":{\"fill_color\":{\"field\":\"type\",\"transform\":{\"id\":\"7976\"}},\"hatch_color\":{\"field\":\"type\",\"transform\":{\"id\":\"7976\"}},\"top\":{\"field\":\"n\"},\"width\":{\"value\":0.8},\"x\":{\"field\":\"xoffsets\"}},\"id\":\"7980\",\"type\":\"VBar\"},{\"attributes\":{},\"id\":\"7990\",\"type\":\"BasicTickFormatter\"},{\"attributes\":{\"margin\":[5,5,5,5],\"name\":\"HSpacer01276\",\"sizing_mode\":\"stretch_width\"},\"id\":\"7943\",\"type\":\"Spacer\"},{\"attributes\":{\"children\":[{\"id\":\"7943\"},{\"id\":\"7947\"},{\"id\":\"8002\"}],\"margin\":[0,0,0,0],\"name\":\"Row01272\",\"tags\":[\"embedded\"]},\"id\":\"7942\",\"type\":\"Row\"},{\"attributes\":{},\"id\":\"7978\",\"type\":\"Selection\"},{\"attributes\":{\"axis_label\":\"Participant, Session Type\",\"coordinates\":null,\"formatter\":{\"id\":\"7987\"},\"group\":null,\"major_label_orientation\":0.4363323129985824,\"major_label_policy\":{\"id\":\"7988\"},\"ticker\":{\"id\":\"7957\"}},\"id\":\"7956\",\"type\":\"CategoricalAxis\"},{\"attributes\":{\"coordinates\":null,\"group\":null,\"text\":\"Average number of words produced per session type\",\"text_color\":\"black\",\"text_font_size\":\"12pt\"},\"id\":\"7948\",\"type\":\"Title\"},{\"attributes\":{},\"id\":\"7988\",\"type\":\"AllLabels\"},{\"attributes\":{\"coordinates\":null,\"data_source\":{\"id\":\"7977\"},\"glyph\":{\"id\":\"7980\"},\"group\":null,\"hover_glyph\":null,\"muted_glyph\":{\"id\":\"7982\"},\"nonselection_glyph\":{\"id\":\"7981\"},\"selection_glyph\":{\"id\":\"7985\"},\"view\":{\"id\":\"7984\"}},\"id\":\"7983\",\"type\":\"GlyphRenderer\"},{\"attributes\":{\"margin\":[5,5,5,5],\"name\":\"HSpacer01277\",\"sizing_mode\":\"stretch_width\"},\"id\":\"8002\",\"type\":\"Spacer\"},{\"attributes\":{},\"id\":\"7954\",\"type\":\"LinearScale\"},{\"attributes\":{},\"id\":\"7963\",\"type\":\"SaveTool\"},{\"attributes\":{},\"id\":\"7967\",\"type\":\"ResetTool\"},{\"attributes\":{},\"id\":\"7960\",\"type\":\"BasicTicker\"},{\"attributes\":{},\"id\":\"7991\",\"type\":\"AllLabels\"},{\"attributes\":{},\"id\":\"7964\",\"type\":\"PanTool\"},{\"attributes\":{},\"id\":\"7999\",\"type\":\"UnionRenderers\"}],\"root_ids\":[\"7942\"]},\"title\":\"Bokeh Application\",\"version\":\"2.4.3\"}};\n",
       "    var render_items = [{\"docid\":\"c7443630-06f6-47bc-bb19-7e77165b9228\",\"root_ids\":[\"7942\"],\"roots\":{\"7942\":\"05848e67-c0a7-4795-91a9-378827752a51\"}}];\n",
       "    root.Bokeh.embed.embed_items_notebook(docs_json, render_items);\n",
       "    for (const render_item of render_items) {\n",
       "      for (const root_id of render_item.root_ids) {\n",
       "\tconst id_el = document.getElementById(root_id)\n",
       "\tif (id_el.children.length && (id_el.children[0].className === 'bk-root')) {\n",
       "\t  const root_el = id_el.children[0]\n",
       "\t  root_el.id = root_el.id + '-rendered'\n",
       "\t}\n",
       "      }\n",
       "    }\n",
       "  }\n",
       "  if (root.Bokeh !== undefined && root.Bokeh.Panel !== undefined) {\n",
       "    embed_document(root);\n",
       "  } else {\n",
       "    var attempts = 0;\n",
       "    var timer = setInterval(function(root) {\n",
       "      if (root.Bokeh !== undefined && root.Bokeh.Panel !== undefined) {\n",
       "        clearInterval(timer);\n",
       "        embed_document(root);\n",
       "      } else if (document.readyState == \"complete\") {\n",
       "        attempts++;\n",
       "        if (attempts > 200) {\n",
       "          clearInterval(timer);\n",
       "          console.log(\"Bokeh: ERROR: Unable to run BokehJS code because BokehJS library is missing\");\n",
       "        }\n",
       "      }\n",
       "    }, 25, root)\n",
       "  }\n",
       "})(window);</script>"
      ],
      "text/plain": [
       ":Bars   [participant,type]   (n)"
      ]
     },
     "execution_count": 26,
     "metadata": {
      "application/vnd.holoviews_exec.v0+json": {
       "id": "7942"
      }
     },
     "output_type": "execute_result"
    }
   ],
   "source": [
    "def verbal_test(verbal_df): # Jacob\n",
    "    verbal_df = data_dict['verbal'].copy()\n",
    "    verbal_df = verbal_df[verbal_df[1] != 'word count'] # to remove silly headers\n",
    "    verbal_df.rename(columns={0:'word_type', 1:'n'}, inplace=True)\n",
    "    verbal_df['n'] = verbal_df['n'].astype(int)\n",
    "\n",
    "    verbal_avg = verbal_df.groupby(['participant', 'type']).mean().round(2)\n",
    "    \n",
    "    verbal_avg_bar = verbal_avg.hvplot.bar(title='Average number of words produced per session type',\n",
    "                                           xlabel='Participant, Session Type', \n",
    "                                           ylabel ='Number of words').opts(xrotation=25)# * verbal_avg.hvplot.errorbars(x=)\n",
    "\n",
    "    return verbal_df, verbal_avg, verbal_avg_bar\n",
    "\n",
    "verbal_df, verbal_avg, verbal_barplot = verbal_test(data_dict['verbal'])\n",
    "verbal_barplot"
   ]
  },
  {
   "cell_type": "markdown",
   "metadata": {},
   "source": [
    "### Digit Span Analysis"
   ]
  },
  {
   "cell_type": "code",
   "execution_count": null,
   "metadata": {},
   "outputs": [],
   "source": [
    "def digit_test(digit_df): # Karina\n",
    "    '''Function to analyse the Digit Span data and to create a dataframe with the information needed to plot'''\n",
    "    # Change data types\n",
    "    digit_df = digit_df.astype({'participant': 'string',\n",
    "                                'type': 'string',\n",
    "                                'repeat': 'int',\n",
    "                                'seq length':'float',\n",
    "                                'errors': 'float',\n",
    "                                'clicks expected': 'float',\n",
    "                                'clicks observed': 'float'})\n",
    "\n",
    "    # Make calculations by column taking the groups into account               \n",
    "    digit_grouped = digit_df.groupby(['participant','type', 'repeat']).agg({'seq length': 'max','errors': 'sum', 'clicks expected':'max','clicks observed':'max'} )\n",
    "\n",
    "    # Calculte values needed for the analysis\n",
    "    digit_grouped['clicks difference'] = digit_grouped['clicks observed'] - digit_grouped['clicks expected']\n",
    "    digit_grouped['seq length'] = digit_grouped['seq length'] - 1\n",
    "\n",
    "    # Obtain mean and estandar error\n",
    "    digit_mean_sem = digit_grouped.groupby(['participant', 'type']).agg(['mean','sem'])\n",
    "    digit_mean_sem\n",
    "\n",
    "    return digit_mean_sem\n",
    "\n",
    "#Running function\n",
    "digit_mean_sem = digit_test(digit_df = df_dict[\"digit\"])\n",
    "digit_mean_sem\n",
    "\n",
    "def digit_barplots(participant, analysis):\n",
    "    '''Function to plot the digit span data'''\n",
    "\n",
    "    df = digit_mean_sem.loc[participant]\n",
    "    sessions_type = df.reset_index().type.unique().tolist()\n",
    "    values = df[analysis]['mean'].tolist()\n",
    "    palette=[participant, 'grey']\n",
    "    y_label = {'seq length': 'Longest sequence remembered (mean)',\n",
    "              'errors':'Number of errors made (mean)'}\n",
    "\n",
    "    x = [(participant, session) for session in sessions_type]\n",
    "    source = ColumnDataSource(data=dict(x=x, counts=values))\n",
    "\n",
    "    p = figure(x_range=FactorRange(*x), height=550, title=\"Digit Span\",\n",
    "            toolbar_location=None, tools=\"\")\n",
    "\n",
    "    p.vbar(x='x', top='counts', width=0.9, source=source, line_color=\"white\",\n",
    "        fill_color=factor_cmap('x', palette=palette, factors=sessions_type, start=1, end=2))\n",
    "\n",
    "    # x-axis\n",
    "    p.xaxis.axis_label = \"Participant\"\n",
    "    p.x_range.range_padding = 0.1\n",
    "    p.xaxis.major_label_orientation = 0\n",
    "    p.xgrid.grid_line_color = None\n",
    "\n",
    "    #  y-axis\n",
    "    p.yaxis.axis_label = y_label[analysis]\n",
    "    p.y_range.start = 0\n",
    "    p.yaxis.major_label_orientation = \"vertical\"\n",
    "    p.y_range.range_padding = 0.3\n",
    "    \n",
    "    return (p)\n",
    "\n",
    "p1 = digit_barplots('blue', 'seq length')\n",
    "p2 = digit_barplots('green', 'seq length')\n",
    "p3 = digit_barplots('orange', 'seq length')\n",
    "p4 = digit_barplots('pink', 'seq length')\n",
    "p5 = digit_barplots('red', 'seq length')\n",
    "\n",
    "p6 = digit_barplots('blue', 'errors')\n",
    "p7 = digit_barplots('green', 'errors')\n",
    "p8 = digit_barplots('orange', 'errors')\n",
    "p9 = digit_barplots('pink', 'errors')\n",
    "p10 = digit_barplots('red', 'errors')\n",
    "\n",
    "#show(gridplot([p1,p2, p3, p4, p5], ncols=2, width=500, height=500))\n",
    "#show(gridplot([p6,p7, p8, p9, p10], ncols=2, width=500, height=500))\n",
    "\n",
    "# Making interactive the plots \n",
    "# participants_colour = ['blue', 'green', 'orange', 'pink', 'red']\n",
    "# analyses = ['seq length', 'errors']\n",
    "# inter_plot = pn.interact(digit_barplots, participant=participants_colour, analysis=analyses)\n",
    "# inter_plot\n",
    "\n",
    "# Creating a dashboard\n",
    "# dashboard = pn.template.BootstrapTemplate(title='Title', sidebar_with = 400)\n",
    "# dashboard.sidebar.append(inter_plot[0])\n",
    "# dashboard.main.append(inter_plot[1])\n",
    "# dashboard.show()\n"
   ]
  },
  {
   "cell_type": "markdown",
   "metadata": {},
   "source": [
    "### Dehydration percentage"
   ]
  },
  {
   "cell_type": "code",
   "execution_count": null,
   "metadata": {},
   "outputs": [
    {
     "data": {
      "text/html": [
       "<div>\n",
       "<style scoped>\n",
       "    .dataframe tbody tr th:only-of-type {\n",
       "        vertical-align: middle;\n",
       "    }\n",
       "\n",
       "    .dataframe tbody tr th {\n",
       "        vertical-align: top;\n",
       "    }\n",
       "\n",
       "    .dataframe thead th {\n",
       "        text-align: right;\n",
       "    }\n",
       "</style>\n",
       "<table border=\"1\" class=\"dataframe\">\n",
       "  <thead>\n",
       "    <tr style=\"text-align: right;\">\n",
       "      <th></th>\n",
       "      <th>participant</th>\n",
       "      <th>type</th>\n",
       "      <th>session</th>\n",
       "      <th>body weight</th>\n",
       "      <th>dehydration %</th>\n",
       "    </tr>\n",
       "  </thead>\n",
       "  <tbody>\n",
       "    <tr>\n",
       "      <th>1</th>\n",
       "      <td>blue</td>\n",
       "      <td>control</td>\n",
       "      <td>1</td>\n",
       "      <td>73.7</td>\n",
       "      <td>NaN</td>\n",
       "    </tr>\n",
       "    <tr>\n",
       "      <th>9</th>\n",
       "      <td>blue</td>\n",
       "      <td>control</td>\n",
       "      <td>1</td>\n",
       "      <td>74.0</td>\n",
       "      <td>0.407056</td>\n",
       "    </tr>\n",
       "    <tr>\n",
       "      <th>10</th>\n",
       "      <td>blue</td>\n",
       "      <td>control</td>\n",
       "      <td>2</td>\n",
       "      <td>72.3</td>\n",
       "      <td>NaN</td>\n",
       "    </tr>\n",
       "    <tr>\n",
       "      <th>18</th>\n",
       "      <td>blue</td>\n",
       "      <td>control</td>\n",
       "      <td>2</td>\n",
       "      <td>72.2</td>\n",
       "      <td>-0.138313</td>\n",
       "    </tr>\n",
       "    <tr>\n",
       "      <th>1</th>\n",
       "      <td>blue</td>\n",
       "      <td>dehydration</td>\n",
       "      <td>1</td>\n",
       "      <td>72.6</td>\n",
       "      <td>NaN</td>\n",
       "    </tr>\n",
       "    <tr>\n",
       "      <th>9</th>\n",
       "      <td>blue</td>\n",
       "      <td>dehydration</td>\n",
       "      <td>1</td>\n",
       "      <td>72.8</td>\n",
       "      <td>0.275482</td>\n",
       "    </tr>\n",
       "    <tr>\n",
       "      <th>10</th>\n",
       "      <td>blue</td>\n",
       "      <td>dehydration</td>\n",
       "      <td>2</td>\n",
       "      <td>73.3</td>\n",
       "      <td>NaN</td>\n",
       "    </tr>\n",
       "    <tr>\n",
       "      <th>18</th>\n",
       "      <td>blue</td>\n",
       "      <td>dehydration</td>\n",
       "      <td>2</td>\n",
       "      <td>72.8</td>\n",
       "      <td>-0.682128</td>\n",
       "    </tr>\n",
       "    <tr>\n",
       "      <th>1</th>\n",
       "      <td>green</td>\n",
       "      <td>control</td>\n",
       "      <td>1</td>\n",
       "      <td>61.5</td>\n",
       "      <td>NaN</td>\n",
       "    </tr>\n",
       "    <tr>\n",
       "      <th>9</th>\n",
       "      <td>green</td>\n",
       "      <td>control</td>\n",
       "      <td>1</td>\n",
       "      <td>61.3</td>\n",
       "      <td>-0.325203</td>\n",
       "    </tr>\n",
       "    <tr>\n",
       "      <th>10</th>\n",
       "      <td>green</td>\n",
       "      <td>control</td>\n",
       "      <td>2</td>\n",
       "      <td>59.4</td>\n",
       "      <td>NaN</td>\n",
       "    </tr>\n",
       "    <tr>\n",
       "      <th>18</th>\n",
       "      <td>green</td>\n",
       "      <td>control</td>\n",
       "      <td>2</td>\n",
       "      <td>59.6</td>\n",
       "      <td>0.336700</td>\n",
       "    </tr>\n",
       "    <tr>\n",
       "      <th>1</th>\n",
       "      <td>green</td>\n",
       "      <td>dehydration</td>\n",
       "      <td>1</td>\n",
       "      <td>61.7</td>\n",
       "      <td>NaN</td>\n",
       "    </tr>\n",
       "    <tr>\n",
       "      <th>9</th>\n",
       "      <td>green</td>\n",
       "      <td>dehydration</td>\n",
       "      <td>1</td>\n",
       "      <td>61.1</td>\n",
       "      <td>-0.972447</td>\n",
       "    </tr>\n",
       "    <tr>\n",
       "      <th>10</th>\n",
       "      <td>green</td>\n",
       "      <td>dehydration</td>\n",
       "      <td>2</td>\n",
       "      <td>60.5</td>\n",
       "      <td>NaN</td>\n",
       "    </tr>\n",
       "    <tr>\n",
       "      <th>18</th>\n",
       "      <td>green</td>\n",
       "      <td>dehydration</td>\n",
       "      <td>2</td>\n",
       "      <td>60.1</td>\n",
       "      <td>-0.661157</td>\n",
       "    </tr>\n",
       "    <tr>\n",
       "      <th>1</th>\n",
       "      <td>red</td>\n",
       "      <td>control</td>\n",
       "      <td>1</td>\n",
       "      <td>79.9</td>\n",
       "      <td>NaN</td>\n",
       "    </tr>\n",
       "    <tr>\n",
       "      <th>9</th>\n",
       "      <td>red</td>\n",
       "      <td>control</td>\n",
       "      <td>1</td>\n",
       "      <td>79.9</td>\n",
       "      <td>0.000000</td>\n",
       "    </tr>\n",
       "    <tr>\n",
       "      <th>10</th>\n",
       "      <td>red</td>\n",
       "      <td>control</td>\n",
       "      <td>2</td>\n",
       "      <td>79.9</td>\n",
       "      <td>NaN</td>\n",
       "    </tr>\n",
       "    <tr>\n",
       "      <th>18</th>\n",
       "      <td>red</td>\n",
       "      <td>control</td>\n",
       "      <td>2</td>\n",
       "      <td>80.0</td>\n",
       "      <td>0.125156</td>\n",
       "    </tr>\n",
       "    <tr>\n",
       "      <th>1</th>\n",
       "      <td>red</td>\n",
       "      <td>dehydration</td>\n",
       "      <td>1</td>\n",
       "      <td>79.5</td>\n",
       "      <td>NaN</td>\n",
       "    </tr>\n",
       "    <tr>\n",
       "      <th>9</th>\n",
       "      <td>red</td>\n",
       "      <td>dehydration</td>\n",
       "      <td>1</td>\n",
       "      <td>79.0</td>\n",
       "      <td>-0.628931</td>\n",
       "    </tr>\n",
       "    <tr>\n",
       "      <th>10</th>\n",
       "      <td>red</td>\n",
       "      <td>dehydration</td>\n",
       "      <td>2</td>\n",
       "      <td>79.8</td>\n",
       "      <td>NaN</td>\n",
       "    </tr>\n",
       "    <tr>\n",
       "      <th>18</th>\n",
       "      <td>red</td>\n",
       "      <td>dehydration</td>\n",
       "      <td>2</td>\n",
       "      <td>79.3</td>\n",
       "      <td>-0.626566</td>\n",
       "    </tr>\n",
       "    <tr>\n",
       "      <th>1</th>\n",
       "      <td>pink</td>\n",
       "      <td>control</td>\n",
       "      <td>1</td>\n",
       "      <td>77.4</td>\n",
       "      <td>NaN</td>\n",
       "    </tr>\n",
       "    <tr>\n",
       "      <th>9</th>\n",
       "      <td>pink</td>\n",
       "      <td>control</td>\n",
       "      <td>1</td>\n",
       "      <td>77.2</td>\n",
       "      <td>-0.258398</td>\n",
       "    </tr>\n",
       "    <tr>\n",
       "      <th>10</th>\n",
       "      <td>pink</td>\n",
       "      <td>control</td>\n",
       "      <td>2</td>\n",
       "      <td>79.2</td>\n",
       "      <td>NaN</td>\n",
       "    </tr>\n",
       "    <tr>\n",
       "      <th>18</th>\n",
       "      <td>pink</td>\n",
       "      <td>control</td>\n",
       "      <td>2</td>\n",
       "      <td>77.6</td>\n",
       "      <td>-2.020202</td>\n",
       "    </tr>\n",
       "    <tr>\n",
       "      <th>1</th>\n",
       "      <td>pink</td>\n",
       "      <td>dehydration</td>\n",
       "      <td>1</td>\n",
       "      <td>77.1</td>\n",
       "      <td>NaN</td>\n",
       "    </tr>\n",
       "    <tr>\n",
       "      <th>9</th>\n",
       "      <td>pink</td>\n",
       "      <td>dehydration</td>\n",
       "      <td>1</td>\n",
       "      <td>76.4</td>\n",
       "      <td>-0.907912</td>\n",
       "    </tr>\n",
       "    <tr>\n",
       "      <th>10</th>\n",
       "      <td>pink</td>\n",
       "      <td>dehydration</td>\n",
       "      <td>2</td>\n",
       "      <td>76.9</td>\n",
       "      <td>NaN</td>\n",
       "    </tr>\n",
       "    <tr>\n",
       "      <th>18</th>\n",
       "      <td>pink</td>\n",
       "      <td>dehydration</td>\n",
       "      <td>2</td>\n",
       "      <td>76.0</td>\n",
       "      <td>-1.170351</td>\n",
       "    </tr>\n",
       "    <tr>\n",
       "      <th>1</th>\n",
       "      <td>orange</td>\n",
       "      <td>control</td>\n",
       "      <td>1</td>\n",
       "      <td>57.0</td>\n",
       "      <td>NaN</td>\n",
       "    </tr>\n",
       "    <tr>\n",
       "      <th>9</th>\n",
       "      <td>orange</td>\n",
       "      <td>control</td>\n",
       "      <td>1</td>\n",
       "      <td>56.9</td>\n",
       "      <td>-0.175439</td>\n",
       "    </tr>\n",
       "    <tr>\n",
       "      <th>10</th>\n",
       "      <td>orange</td>\n",
       "      <td>control</td>\n",
       "      <td>2</td>\n",
       "      <td>57.0</td>\n",
       "      <td>NaN</td>\n",
       "    </tr>\n",
       "    <tr>\n",
       "      <th>18</th>\n",
       "      <td>orange</td>\n",
       "      <td>control</td>\n",
       "      <td>2</td>\n",
       "      <td>56.9</td>\n",
       "      <td>-0.175439</td>\n",
       "    </tr>\n",
       "    <tr>\n",
       "      <th>1</th>\n",
       "      <td>orange</td>\n",
       "      <td>dehydration</td>\n",
       "      <td>1</td>\n",
       "      <td>57.3</td>\n",
       "      <td>NaN</td>\n",
       "    </tr>\n",
       "    <tr>\n",
       "      <th>9</th>\n",
       "      <td>orange</td>\n",
       "      <td>dehydration</td>\n",
       "      <td>1</td>\n",
       "      <td>56.6</td>\n",
       "      <td>-1.221640</td>\n",
       "    </tr>\n",
       "    <tr>\n",
       "      <th>10</th>\n",
       "      <td>orange</td>\n",
       "      <td>dehydration</td>\n",
       "      <td>2</td>\n",
       "      <td>56.9</td>\n",
       "      <td>NaN</td>\n",
       "    </tr>\n",
       "    <tr>\n",
       "      <th>18</th>\n",
       "      <td>orange</td>\n",
       "      <td>dehydration</td>\n",
       "      <td>2</td>\n",
       "      <td>56.2</td>\n",
       "      <td>-1.230228</td>\n",
       "    </tr>\n",
       "  </tbody>\n",
       "</table>\n",
       "</div>"
      ],
      "text/plain": [
       "   participant         type session  body weight  dehydration %\n",
       "1         blue      control       1         73.7            NaN\n",
       "9         blue      control       1         74.0       0.407056\n",
       "10        blue      control       2         72.3            NaN\n",
       "18        blue      control       2         72.2      -0.138313\n",
       "1         blue  dehydration       1         72.6            NaN\n",
       "9         blue  dehydration       1         72.8       0.275482\n",
       "10        blue  dehydration       2         73.3            NaN\n",
       "18        blue  dehydration       2         72.8      -0.682128\n",
       "1        green      control       1         61.5            NaN\n",
       "9        green      control       1         61.3      -0.325203\n",
       "10       green      control       2         59.4            NaN\n",
       "18       green      control       2         59.6       0.336700\n",
       "1        green  dehydration       1         61.7            NaN\n",
       "9        green  dehydration       1         61.1      -0.972447\n",
       "10       green  dehydration       2         60.5            NaN\n",
       "18       green  dehydration       2         60.1      -0.661157\n",
       "1          red      control       1         79.9            NaN\n",
       "9          red      control       1         79.9       0.000000\n",
       "10         red      control       2         79.9            NaN\n",
       "18         red      control       2         80.0       0.125156\n",
       "1          red  dehydration       1         79.5            NaN\n",
       "9          red  dehydration       1         79.0      -0.628931\n",
       "10         red  dehydration       2         79.8            NaN\n",
       "18         red  dehydration       2         79.3      -0.626566\n",
       "1         pink      control       1         77.4            NaN\n",
       "9         pink      control       1         77.2      -0.258398\n",
       "10        pink      control       2         79.2            NaN\n",
       "18        pink      control       2         77.6      -2.020202\n",
       "1         pink  dehydration       1         77.1            NaN\n",
       "9         pink  dehydration       1         76.4      -0.907912\n",
       "10        pink  dehydration       2         76.9            NaN\n",
       "18        pink  dehydration       2         76.0      -1.170351\n",
       "1       orange      control       1         57.0            NaN\n",
       "9       orange      control       1         56.9      -0.175439\n",
       "10      orange      control       2         57.0            NaN\n",
       "18      orange      control       2         56.9      -0.175439\n",
       "1       orange  dehydration       1         57.3            NaN\n",
       "9       orange  dehydration       1         56.6      -1.221640\n",
       "10      orange  dehydration       2         56.9            NaN\n",
       "18      orange  dehydration       2         56.2      -1.230228"
      ]
     },
     "execution_count": 24,
     "metadata": {},
     "output_type": "execute_result"
    }
   ],
   "source": [
    "# Obtain personal data\n",
    "df_health = df_dict['personal']\n",
    "# Theres one missing value in the green session. Fill it with the correct value\n",
    "df_health[0] = df_health[0].fillna(2)\n",
    "\n",
    "def dehydration_percentage():\n",
    "    '''Function to obtain the % of dehydration per participant per session'''\n",
    "    # Keep only the body weight data and drop NaN\n",
    "    body_weight = df_health[['participant','type', 0, 5]].dropna()\n",
    "    # drop the rows with strings on them (the ones with index ==0 )\n",
    "    body_weight = body_weight[body_weight.index!=0]\n",
    "    # Rename the columns\n",
    "    body_weight.rename(columns={0:'session', 5:'body weight'}, inplace=True)\n",
    "\n",
    "    body_weight = body_weight.astype({'body weight':'float'})\n",
    "    # calculate percentage of dehydration\n",
    "    body_weight['dehydration %'] = (body_weight.groupby(['participant','type','session'])['body weight'].pct_change()) * 100\n",
    "    return body_weight\n",
    "\n",
    "dehydration_percentage()"
   ]
  },
  {
   "cell_type": "markdown",
   "metadata": {},
   "source": [
    "## Panel"
   ]
  },
  {
   "cell_type": "code",
   "execution_count": null,
   "metadata": {},
   "outputs": [],
   "source": []
  },
  {
   "cell_type": "code",
   "execution_count": 25,
   "metadata": {},
   "outputs": [],
   "source": [
    "sample_text = '''\n",
    "Lorem ipsum dolor sit amet, consectetur adipiscing elit. Pellentesque augue eros, tristique ut eros et, bibendum mattis tellus. Integer dui sapien, pulvinar nec ante nec, rutrum feugiat massa. Fusce tristique viverra nunc, sed commodo orci rhoncus sed. Aliquam pellentesque dui lectus, vel gravida eros volutpat vitae. Aliquam faucibus nulla id dolor suscipit elementum. Donec sed ante hendrerit, porta ligula faucibus, venenatis mi. Donec id imperdiet neque. Ut vel blandit urna. Fusce convallis, eros at suscipit aliquam, quam tellus pharetra est, ultrices ultrices dolor mi eu enim. Integer sed rutrum tellus.\n",
    "\n",
    "Etiam non commodo sem. Fusce faucibus tristique mauris, et fermentum quam euismod et. Vestibulum tempor mi neque, et consectetur odio tincidunt ut. Nunc scelerisque sed neque vitae efficitur. Nulla rutrum purus hendrerit, posuere massa ut, pharetra mi. Pellentesque nisi ipsum, pretium ut interdum eget, tempor at dui. Vestibulum a lectus est. Curabitur faucibus id neque ut pharetra. Proin rutrum aliquet scelerisque. Vestibulum id felis at eros accumsan commodo. Vestibulum nec sem felis. Aenean in ullamcorper diam.\n",
    "\n",
    "In commodo nisl turpis, id laoreet elit suscipit eu. Mauris ut interdum odio. Vivamus ultricies lorem ligula, ut consequat sapien tempor non. Aenean pellentesque nulla sit amet sem fermentum auctor. Nulla facilisi. Sed iaculis vehicula neque, sit amet tempor libero fringilla quis. Phasellus malesuada placerat elit nec vestibulum. Etiam eu odio imperdiet, ornare leo sed, suscipit magna. Proin diam ante, imperdiet eu odio ac, consectetur euismod ipsum. Vivamus non odio aliquet, dapibus elit sit amet, viverra diam. Proin posuere orci eget orci tempus, ut eleifend ipsum mattis. Fusce ultrices est vitae nibh aliquet sollicitudin. Duis vehicula erat turpis, ac efficitur turpis sagittis eget.\n",
    "\n",
    "Proin eros sapien, vestibulum at congue a, hendrerit sed lacus. Mauris aliquet egestas mauris, sit amet mattis velit faucibus convallis. Phasellus aliquam sapien eros, quis volutpat velit faucibus ut. Vestibulum pulvinar mollis orci vel fringilla. In dapibus, mi iaculis ornare tincidunt, lacus risus sollicitudin tortor, blandit eleifend tellus arcu id tortor. Cras nec fringilla nunc, a fermentum urna. Vivamus urna ligula, tempus nec dolor sed, fermentum faucibus velit. Nulla convallis vitae turpis in tempor.\n",
    "\n",
    "Integer non faucibus mi, vel gravida felis. Suspendisse vel mi felis. Curabitur dapibus enim ullamcorper consequat vulputate. Suspendisse scelerisque nibh ut luctus iaculis. Sed nunc urna, hendrerit vel sapien nec, imperdiet posuere felis. Cras varius nibh sed tortor congue, et egestas velit lacinia. Mauris purus magna, posuere vel metus non, tempus mattis lacus. Vestibulum turpis justo, posuere nec ante at, facilisis tristique dui. Aenean gravida, eros in luctus lobortis, ipsum lorem ornare felis, vel volutpat ipsum metus vitae erat. Aliquam condimentum aliquam ipsum, at aliquet quam congue quis. Phasellus eu metus velit.\n",
    "'''"
   ]
  },
  {
   "cell_type": "code",
   "execution_count": 35,
   "metadata": {},
   "outputs": [
    {
     "name": "stdout",
     "output_type": "stream",
     "text": [
      "Launching server at http://localhost:40563\n"
     ]
    },
    {
     "data": {
      "text/plain": [
       "<bokeh.server.server.Server at 0x7fc8439c4790>"
      ]
     },
     "execution_count": 35,
     "metadata": {},
     "output_type": "execute_result"
    }
   ],
   "source": [
    "# CSS styling\n",
    "css = '''\n",
    ".sidebar_button .bk-btn-group button {\n",
    "  font-size: 10pt;\n",
    "}\n",
    ".bk-root .bk-btn-default{\n",
    "  border-radius: 25px;\n",
    "}\n",
    "\n",
    ".red_button .bk-btn-default.bk-active {\n",
    "  background-color: #ff5447;\n",
    "  color: white;\n",
    "  border-radius: 25px;\n",
    "}\n",
    ".orange_button .bk-btn-default.bk-active {\n",
    "  background-color: #ff8d54;\n",
    "  color: white;\n",
    "  border-radius: 25px;\n",
    "}\n",
    ".green_button .bk-btn-default.bk-active {\n",
    "  background-color: #67ba65;\n",
    "  color: white;\n",
    "  border-radius: 25px;\n",
    "}\n",
    ".blue_button .bk-btn-default.bk-active {\n",
    "  background-color: #5fc6fa;\n",
    "  color: white;\n",
    "  border-radius: 25px;\n",
    "}\n",
    ".pink_button .bk-btn-default.bk-active {\n",
    "  background-color: #f06ed6;\n",
    "  color: white;\n",
    "  border-radius: 25px;\n",
    "}\n",
    "'''\n",
    "\n",
    "pn.extension(raw_css=[css])\n",
    "\n",
    "dashboard = pn.template.BootstrapTemplate(header_background='#00C9FF',\n",
    "                                        #  theme=DarkTheme,\n",
    "                                          sidebar_width=200)\n",
    "\n",
    "\n",
    "def show_homepage(event):\n",
    "    title.object = f'##{event.obj.name}'\n",
    "    \n",
    "def update_page(event):\n",
    "    print(event)\n",
    "    name = event.name\n",
    "    figure1.clear()\n",
    "    figure1.append(flanker_counts)\n",
    "    title.object = f'##{event.obj.name}'\n",
    "    figures = pn.Row(pn.Column('test2'), pn.Column('test3'))\n",
    "    \n",
    "    \n",
    "\n",
    "# Create sidebar buttons:\n",
    "homepage_btn       = pn.widgets.Button(name='Homepage', width=150, css_classes=['sidebar_button'])\n",
    "stroop_btn         = pn.widgets.Button(name='Stroop test', width=150, css_classes=['sidebar_button'])\n",
    "stop_signal_btn    = pn.widgets.Button(name='Stop Signal test', width=150, css_classes=['sidebar_button'])\n",
    "flanker_btn        = pn.widgets.Button(name='Flanker test', width=150, css_classes=['sidebar_button'])\n",
    "digit_span_btn     = pn.widgets.Button(name='Digit span test', width=150, css_classes=['sidebar_button'])\n",
    "verbal_fluency_btn = pn.widgets.Button(name='Verbal fluency test', width=150, css_classes=['sidebar_button'])\n",
    "\n",
    "# append buttons to sidebar\n",
    "dashboard.sidebar.append(homepage_btn)\n",
    "dashboard.sidebar.append(stroop_btn)\n",
    "dashboard.sidebar.append(stop_signal_btn)\n",
    "dashboard.sidebar.append(flanker_btn)\n",
    "dashboard.sidebar.append(digit_span_btn)\n",
    "dashboard.sidebar.append(verbal_fluency_btn)\n",
    "\n",
    "# create participant options buttons\n",
    "red_btn = pn.widgets.Toggle(name='Red', value=True, width=100, css_classes=['red_button'])\n",
    "orange_btn = pn.widgets.Toggle(name='Orange', value=True, width=100, css_classes=['orange_button'])\n",
    "green_btn = pn.widgets.Toggle(name='Green', value=True, width=100, css_classes=['green_button'])\n",
    "blue_btn = pn.widgets.Toggle(name='Blue', value=True, width=100, css_classes=['blue_button'])\n",
    "pink_btn = pn.widgets.Toggle(name='Pink', value=True, width=100, css_classes=['pink_button'])\n",
    "\n",
    "# make buttons interactive\n",
    "homepage_btn.on_click(show_homepage)\n",
    "stroop_btn.on_click(update_page)\n",
    "# stop_signal_btn.on_click(update_page)\n",
    "# flanker_btn.on_click(update_page)\n",
    "# digit_span_btn.on_click(update_page)\n",
    "# verbal_fluency_btn.on_click(update_page)\n",
    "\n",
    "# fig = figure(height=400, width=400)\n",
    "# fig.circle(x=range(10), y=range(10))\n",
    "\n",
    "# create dashboard objects\n",
    "title = pn.pane.Markdown('##Homepage', width=500)\n",
    "options = pn.Row(red_btn, orange_btn, green_btn, blue_btn, pink_btn)\n",
    "figure1 = pn.Column(stroop_barplot)\n",
    "figure1_text = pn.Row(pn.pane.Markdown('\\n'.join(sample_text.split('\\n')[:4]), width=800))\n",
    "figure2 = pn.Column(stroop_boxplot)\n",
    "figure2_text = pn.Row(pn.pane.Markdown('\\n'.join(sample_text.split('\\n')[:4]), width=800))\n",
    "\n",
    "# append dashboard objects to main dashboard\n",
    "dashboard.main.append(title)\n",
    "dashboard.main.append(options)\n",
    "dashboard.main.append(figure1)\n",
    "dashboard.main.append(figure1_text)\n",
    "dashboard.main.append(figure2)\n",
    "dashboard.main.append(figure2_text)\n",
    "\n",
    "# show dashboard \n",
    "dashboard.show()"
   ]
  },
  {
   "cell_type": "markdown",
   "metadata": {},
   "source": [
    "---"
   ]
  }
 ],
 "metadata": {
  "kernelspec": {
   "display_name": "Python 3 (ipykernel)",
   "language": "python",
   "name": "python3"
  },
  "language_info": {
   "codemirror_mode": {
    "name": "ipython",
    "version": 3
   },
   "file_extension": ".py",
   "mimetype": "text/x-python",
   "name": "python",
   "nbconvert_exporter": "python",
   "pygments_lexer": "ipython3",
   "version": "3.9.13"
  },
  "vscode": {
   "interpreter": {
    "hash": "b9850060741fb6670ae6524130334be9c6a0cea15ecf2e2a17fe1e0ef01a0203"
   }
  }
 },
 "nbformat": 4,
 "nbformat_minor": 4
}
