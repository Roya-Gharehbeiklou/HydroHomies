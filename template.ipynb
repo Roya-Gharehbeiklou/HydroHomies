{
 "cells": [
  {
   "cell_type": "markdown",
   "metadata": {},
   "source": [
    "# HydroHomies Plots\n",
    "In this notebook, the plots, figures and also some explanations or details about each of them are being presented.  \n",
    "\n",
    "To clarify plots, please follow this order:\n",
    "- Title for each plot is mandatory\n",
    "- Analysis must be written \n",
    "- legends are manedatory"
   ]
  },
  {
   "cell_type": "markdown",
   "metadata": {},
   "source": [
    "### Importing the needed modules"
   ]
  },
  {
   "cell_type": "code",
   "execution_count": 21,
   "metadata": {},
   "outputs": [
    {
     "data": {
      "text/html": [
       "<div class=\"bk-root\">\n",
       "        <a href=\"https://bokeh.org\" target=\"_blank\" class=\"bk-logo bk-logo-small bk-logo-notebook\"></a>\n",
       "        <span id=\"2889\">Loading BokehJS ...</span>\n",
       "    </div>\n"
      ]
     },
     "metadata": {},
     "output_type": "display_data"
    },
    {
     "data": {
      "application/javascript": "(function(root) {\n  function now() {\n    return new Date();\n  }\n\n  const force = true;\n\n  if (typeof root._bokeh_onload_callbacks === \"undefined\" || force === true) {\n    root._bokeh_onload_callbacks = [];\n    root._bokeh_is_loading = undefined;\n  }\n\nconst JS_MIME_TYPE = 'application/javascript';\n  const HTML_MIME_TYPE = 'text/html';\n  const EXEC_MIME_TYPE = 'application/vnd.bokehjs_exec.v0+json';\n  const CLASS_NAME = 'output_bokeh rendered_html';\n\n  /**\n   * Render data to the DOM node\n   */\n  function render(props, node) {\n    const script = document.createElement(\"script\");\n    node.appendChild(script);\n  }\n\n  /**\n   * Handle when an output is cleared or removed\n   */\n  function handleClearOutput(event, handle) {\n    const cell = handle.cell;\n\n    const id = cell.output_area._bokeh_element_id;\n    const server_id = cell.output_area._bokeh_server_id;\n    // Clean up Bokeh references\n    if (id != null && id in Bokeh.index) {\n      Bokeh.index[id].model.document.clear();\n      delete Bokeh.index[id];\n    }\n\n    if (server_id !== undefined) {\n      // Clean up Bokeh references\n      const cmd_clean = \"from bokeh.io.state import curstate; print(curstate().uuid_to_server['\" + server_id + \"'].get_sessions()[0].document.roots[0]._id)\";\n      cell.notebook.kernel.execute(cmd_clean, {\n        iopub: {\n          output: function(msg) {\n            const id = msg.content.text.trim();\n            if (id in Bokeh.index) {\n              Bokeh.index[id].model.document.clear();\n              delete Bokeh.index[id];\n            }\n          }\n        }\n      });\n      // Destroy server and session\n      const cmd_destroy = \"import bokeh.io.notebook as ion; ion.destroy_server('\" + server_id + \"')\";\n      cell.notebook.kernel.execute(cmd_destroy);\n    }\n  }\n\n  /**\n   * Handle when a new output is added\n   */\n  function handleAddOutput(event, handle) {\n    const output_area = handle.output_area;\n    const output = handle.output;\n\n    // limit handleAddOutput to display_data with EXEC_MIME_TYPE content only\n    if ((output.output_type != \"display_data\") || (!Object.prototype.hasOwnProperty.call(output.data, EXEC_MIME_TYPE))) {\n      return\n    }\n\n    const toinsert = output_area.element.find(\".\" + CLASS_NAME.split(' ')[0]);\n\n    if (output.metadata[EXEC_MIME_TYPE][\"id\"] !== undefined) {\n      toinsert[toinsert.length - 1].firstChild.textContent = output.data[JS_MIME_TYPE];\n      // store reference to embed id on output_area\n      output_area._bokeh_element_id = output.metadata[EXEC_MIME_TYPE][\"id\"];\n    }\n    if (output.metadata[EXEC_MIME_TYPE][\"server_id\"] !== undefined) {\n      const bk_div = document.createElement(\"div\");\n      bk_div.innerHTML = output.data[HTML_MIME_TYPE];\n      const script_attrs = bk_div.children[0].attributes;\n      for (let i = 0; i < script_attrs.length; i++) {\n        toinsert[toinsert.length - 1].firstChild.setAttribute(script_attrs[i].name, script_attrs[i].value);\n        toinsert[toinsert.length - 1].firstChild.textContent = bk_div.children[0].textContent\n      }\n      // store reference to server id on output_area\n      output_area._bokeh_server_id = output.metadata[EXEC_MIME_TYPE][\"server_id\"];\n    }\n  }\n\n  function register_renderer(events, OutputArea) {\n\n    function append_mime(data, metadata, element) {\n      // create a DOM node to render to\n      const toinsert = this.create_output_subarea(\n        metadata,\n        CLASS_NAME,\n        EXEC_MIME_TYPE\n      );\n      this.keyboard_manager.register_events(toinsert);\n      // Render to node\n      const props = {data: data, metadata: metadata[EXEC_MIME_TYPE]};\n      render(props, toinsert[toinsert.length - 1]);\n      element.append(toinsert);\n      return toinsert\n    }\n\n    /* Handle when an output is cleared or removed */\n    events.on('clear_output.CodeCell', handleClearOutput);\n    events.on('delete.Cell', handleClearOutput);\n\n    /* Handle when a new output is added */\n    events.on('output_added.OutputArea', handleAddOutput);\n\n    /**\n     * Register the mime type and append_mime function with output_area\n     */\n    OutputArea.prototype.register_mime_type(EXEC_MIME_TYPE, append_mime, {\n      /* Is output safe? */\n      safe: true,\n      /* Index of renderer in `output_area.display_order` */\n      index: 0\n    });\n  }\n\n  // register the mime type if in Jupyter Notebook environment and previously unregistered\n  if (root.Jupyter !== undefined) {\n    const events = require('base/js/events');\n    const OutputArea = require('notebook/js/outputarea').OutputArea;\n\n    if (OutputArea.prototype.mime_types().indexOf(EXEC_MIME_TYPE) == -1) {\n      register_renderer(events, OutputArea);\n    }\n  }\n  if (typeof (root._bokeh_timeout) === \"undefined\" || force === true) {\n    root._bokeh_timeout = Date.now() + 5000;\n    root._bokeh_failed_load = false;\n  }\n\n  const NB_LOAD_WARNING = {'data': {'text/html':\n     \"<div style='background-color: #fdd'>\\n\"+\n     \"<p>\\n\"+\n     \"BokehJS does not appear to have successfully loaded. If loading BokehJS from CDN, this \\n\"+\n     \"may be due to a slow or bad network connection. Possible fixes:\\n\"+\n     \"</p>\\n\"+\n     \"<ul>\\n\"+\n     \"<li>re-rerun `output_notebook()` to attempt to load from CDN again, or</li>\\n\"+\n     \"<li>use INLINE resources instead, as so:</li>\\n\"+\n     \"</ul>\\n\"+\n     \"<code>\\n\"+\n     \"from bokeh.resources import INLINE\\n\"+\n     \"output_notebook(resources=INLINE)\\n\"+\n     \"</code>\\n\"+\n     \"</div>\"}};\n\n  function display_loaded() {\n    const el = document.getElementById(\"2889\");\n    if (el != null) {\n      el.textContent = \"BokehJS is loading...\";\n    }\n    if (root.Bokeh !== undefined) {\n      if (el != null) {\n        el.textContent = \"BokehJS \" + root.Bokeh.version + \" successfully loaded.\";\n      }\n    } else if (Date.now() < root._bokeh_timeout) {\n      setTimeout(display_loaded, 100)\n    }\n  }\n\n  function run_callbacks() {\n    try {\n      root._bokeh_onload_callbacks.forEach(function(callback) {\n        if (callback != null)\n          callback();\n      });\n    } finally {\n      delete root._bokeh_onload_callbacks\n    }\n    console.debug(\"Bokeh: all callbacks have finished\");\n  }\n\n  function load_libs(css_urls, js_urls, callback) {\n    if (css_urls == null) css_urls = [];\n    if (js_urls == null) js_urls = [];\n\n    root._bokeh_onload_callbacks.push(callback);\n    if (root._bokeh_is_loading > 0) {\n      console.debug(\"Bokeh: BokehJS is being loaded, scheduling callback at\", now());\n      return null;\n    }\n    if (js_urls == null || js_urls.length === 0) {\n      run_callbacks();\n      return null;\n    }\n    console.debug(\"Bokeh: BokehJS not loaded, scheduling load and callback at\", now());\n    root._bokeh_is_loading = css_urls.length + js_urls.length;\n\n    function on_load() {\n      root._bokeh_is_loading--;\n      if (root._bokeh_is_loading === 0) {\n        console.debug(\"Bokeh: all BokehJS libraries/stylesheets loaded\");\n        run_callbacks()\n      }\n    }\n\n    function on_error(url) {\n      console.error(\"failed to load \" + url);\n    }\n\n    for (let i = 0; i < css_urls.length; i++) {\n      const url = css_urls[i];\n      const element = document.createElement(\"link\");\n      element.onload = on_load;\n      element.onerror = on_error.bind(null, url);\n      element.rel = \"stylesheet\";\n      element.type = \"text/css\";\n      element.href = url;\n      console.debug(\"Bokeh: injecting link tag for BokehJS stylesheet: \", url);\n      document.body.appendChild(element);\n    }\n\n    for (let i = 0; i < js_urls.length; i++) {\n      const url = js_urls[i];\n      const element = document.createElement('script');\n      element.onload = on_load;\n      element.onerror = on_error.bind(null, url);\n      element.async = false;\n      element.src = url;\n      console.debug(\"Bokeh: injecting script tag for BokehJS library: \", url);\n      document.head.appendChild(element);\n    }\n  };\n\n  function inject_raw_css(css) {\n    const element = document.createElement(\"style\");\n    element.appendChild(document.createTextNode(css));\n    document.body.appendChild(element);\n  }\n\n  const js_urls = [\"https://cdn.bokeh.org/bokeh/release/bokeh-2.4.3.min.js\", \"https://cdn.bokeh.org/bokeh/release/bokeh-gl-2.4.3.min.js\", \"https://cdn.bokeh.org/bokeh/release/bokeh-widgets-2.4.3.min.js\", \"https://cdn.bokeh.org/bokeh/release/bokeh-tables-2.4.3.min.js\", \"https://cdn.bokeh.org/bokeh/release/bokeh-mathjax-2.4.3.min.js\", \"https://unpkg.com/@holoviz/panel@0.13.1/dist/panel.min.js\"];\n  const css_urls = [];\n\n  const inline_js = [    function(Bokeh) {\n      Bokeh.set_log_level(\"info\");\n    },\nfunction(Bokeh) {\n    }\n  ];\n\n  function run_inline_js() {\n    if (root.Bokeh !== undefined || force === true) {\n          for (let i = 0; i < inline_js.length; i++) {\n      inline_js[i].call(root, root.Bokeh);\n    }\nif (force === true) {\n        display_loaded();\n      }} else if (Date.now() < root._bokeh_timeout) {\n      setTimeout(run_inline_js, 100);\n    } else if (!root._bokeh_failed_load) {\n      console.log(\"Bokeh: BokehJS failed to load within specified timeout.\");\n      root._bokeh_failed_load = true;\n    } else if (force !== true) {\n      const cell = $(document.getElementById(\"2889\")).parents('.cell').data().cell;\n      cell.output_area.append_execute_result(NB_LOAD_WARNING)\n    }\n  }\n\n  if (root._bokeh_is_loading === 0) {\n    console.debug(\"Bokeh: BokehJS loaded, going straight to plotting\");\n    run_inline_js();\n  } else {\n    load_libs(css_urls, js_urls, function() {\n      console.debug(\"Bokeh: BokehJS plotting callback run at\", now());\n      run_inline_js();\n    });\n  }\n}(window));",
      "application/vnd.bokehjs_load.v0+json": ""
     },
     "metadata": {},
     "output_type": "display_data"
    }
   ],
   "source": [
    "import yaml\n",
    "import pandas as pd\n",
    "import numpy as np\n",
    "\n",
    "from bokeh.plotting import figure, show\n",
    "from bokeh.io import show, output_notebook\n",
    "from bokeh.transform import dodge, factor_cmap\n",
    "from bokeh.models import ColumnDataSource, FactorRange, Whisker\n",
    "import panel as pn\n",
    "from scipy.stats import sem\n",
    "from bokeh.transform import factor_cmap\n",
    "from bokeh.layouts import gridplot\n",
    "\n",
    "\n",
    "output_notebook()\n",
    "pn.extension()\n",
    "\n",
    "import hvplot.pandas"
   ]
  },
  {
   "cell_type": "markdown",
   "metadata": {},
   "source": [
    "### Loading all data\n"
   ]
  },
  {
   "cell_type": "code",
   "execution_count": 22,
   "metadata": {},
   "outputs": [],
   "source": [
    "with open('config.yaml') as stream:\n",
    "    config = yaml.safe_load(stream)"
   ]
  },
  {
   "cell_type": "markdown",
   "metadata": {
    "tags": [
     "code1"
    ]
   },
   "source": [
    "### Cleaning (Digit Span Raw Data)"
   ]
  },
  {
   "cell_type": "code",
   "execution_count": 23,
   "metadata": {},
   "outputs": [],
   "source": [
    "def clean_digit_span(raw_df):\n",
    "    # Select the sequence length data from the raw data and create a dataframe\n",
    "    seq_length_df = raw_df[raw_df[1].astype(str).str.match(r'\\d+')]\n",
    "\n",
    "    # Get the value of the longest sequence remembered\n",
    "    longest = seq_length_df[2]\n",
    "    longest = longest.tolist()\n",
    "\n",
    "    # Get the number of errors made\n",
    "    error_number = seq_length_df[3]\n",
    "    error_number = error_number.tolist()\n",
    "\n",
    "    # Select the rows with the click stimulus data\n",
    "    click_stim_df = raw_df[raw_df[1]=='clickedStim']\n",
    "    click_stim_df.size\n",
    "\n",
    "    # Calculate the number of clicks made by the participant\n",
    "    clicks_observed = click_stim_df.count(axis=1) - 3 \n",
    "    clicks_observed = clicks_observed.tolist()\n",
    "\n",
    "    # Calculate the number of clicks that the participant should have made\n",
    "    clicks_expected =  pd.to_numeric(longest) + 1\n",
    "    clicks_expected = clicks_expected.tolist()\n",
    "\n",
    "    # Create a new dataframe with all the values calculated above\n",
    "    clean_data = pd.DataFrame(data ={'seq length':longest,\n",
    "                        'errors': error_number,\n",
    "                        'clicks expected': clicks_expected,\n",
    "                        'clicks observed':clicks_observed})\n",
    "\n",
    "    # Return the new dataframe\n",
    "    return clean_data\n"
   ]
  },
  {
   "cell_type": "markdown",
   "metadata": {},
   "source": [
    "### Data Integration For Each Test"
   ]
  },
  {
   "cell_type": "code",
   "execution_count": 24,
   "metadata": {},
   "outputs": [],
   "source": [
    "def create_merged_df(config_dict):\n",
    "    data_dict = {}\n",
    "\n",
    "    # read the files \n",
    "    for test, file in config_dict.items():\n",
    "        df_dict = pd.read_excel(file, sheet_name=None, header=None)\n",
    "\n",
    "        for session, df in df_dict.items():\n",
    "\n",
    "            # extracting the participant name and type name\n",
    "            participant = test.split('_')[-1]\n",
    "            test_name = test.split('_')[0]\n",
    "\n",
    "            #extracting repeat number and making its column except for personal\n",
    "            try:\n",
    "                type, repeat = session.split('_')\n",
    "                df.insert(0, 'repeat', repeat)\n",
    "\n",
    "            except ValueError:\n",
    "                type = session\n",
    "\n",
    "\n",
    "            # Running function to clean digit span data\n",
    "            if test_name == 'digit':\n",
    "                df = clean_digit_span(df.iloc[3:])\n",
    "                df.insert(0, 'repeat', repeat)\n",
    "            \n",
    "            # verbal fluency test contains header\n",
    "            elif test_name =='verbal':\n",
    "                df = df.iloc[1:]\n",
    "\n",
    "            # inserting the type and participant columns\n",
    "            df.insert(0, 'type', type)\n",
    "            df.insert(0, 'participant', participant)\n",
    " \n",
    "            # concatenating data frames of each test\n",
    "            if test_name not in data_dict:\n",
    "                data_dict[test_name] = df\n",
    "            else:\n",
    "                data_dict[test_name] = pd.concat([data_dict[test_name], df])\n",
    "    \n",
    "    return data_dict\n",
    "\n",
    "data_dict = create_merged_df(config)"
   ]
  },
  {
   "cell_type": "code",
   "execution_count": 25,
   "metadata": {},
   "outputs": [],
   "source": [
    "# Run the function\n",
    "df_dict = create_merged_df(config)"
   ]
  },
  {
   "cell_type": "markdown",
   "metadata": {},
   "source": [
    "---"
   ]
  },
  {
   "attachments": {},
   "cell_type": "markdown",
   "metadata": {},
   "source": [
    "### Personal health data plots"
   ]
  },
  {
   "cell_type": "code",
   "execution_count": 6,
   "metadata": {},
   "outputs": [],
   "source": [
    "# creating personal dataframe\n",
    "def create_personal_dataframe():\n",
    "    p_df = data_dict[\"personal\"].copy()\n",
    "    p_df.drop(0, inplace=True)\n",
    "    p_df.rename(columns={\n",
    "        0: \"session\",\n",
    "        1: \"time\",\n",
    "        2: \"heartrate\",\n",
    "        3: \"calories\",\n",
    "        4:\"temperature\",\n",
    "        5:\"body weight\",\n",
    "        6: \"muscle%\",\n",
    "        7: \"fat%\",\n",
    "    }, inplace=True)\n",
    "    p_df = p_df[[\n",
    "        \"participant\",\n",
    "        \"type\",\n",
    "        \"session\",\n",
    "        \"time\",\n",
    "        \"heartrate\",\n",
    "        \"calories\",\n",
    "        \"temperature\",\n",
    "        \"body weight\",\n",
    "        \"muscle%\",\n",
    "        \"fat%\"\n",
    "    ]]\n",
    "    \n",
    "    # fill missing and not correct values with the correct one.\n",
    "    p_df[\"heartrate\"] = pd.to_numeric(p_df[\"heartrate\"],errors='coerce')\n",
    "    p_df[\"heartrate\"] = p_df[\"heartrate\"].fillna(85)\n",
    "    p_df['session'] = p_df['session'].fillna(2)\n",
    "    p_df[\"calories\"] = p_df[\"calories\"].fillna(1118)\n",
    "    p_df[\"temperature\"] = p_df[\"temperature\"].fillna(36.4)\n",
    "    \n",
    "    p_df = p_df.astype({'heartrate': 'float', 'calories': 'float', 'temperature': 'float',\n",
    "                       'body weight': 'float', 'fat%': 'float', 'muscle%': 'float'})\n",
    "\n",
    "    return p_df\n",
    "\n",
    "personal_df = create_personal_dataframe()"
   ]
  },
  {
   "cell_type": "code",
   "execution_count": 7,
   "metadata": {},
   "outputs": [
    {
     "data": {},
     "metadata": {},
     "output_type": "display_data"
    },
    {
     "data": {
      "application/vnd.holoviews_exec.v0+json": "",
      "text/html": [
       "<div id='1117'>\n",
       "  <div class=\"bk-root\" id=\"ddc62cb2-d11d-4726-8213-75e76f5e6dfa\" data-root-id=\"1117\"></div>\n",
       "</div>\n",
       "<script type=\"application/javascript\">(function(root) {\n",
       "  function embed_document(root) {\n",
       "    var docs_json = {\"de2789ab-4e18-455b-866a-5f364826b7ba\":{\"defs\":[{\"extends\":null,\"module\":null,\"name\":\"ReactiveHTML1\",\"overrides\":[],\"properties\":[]},{\"extends\":null,\"module\":null,\"name\":\"FlexBox1\",\"overrides\":[],\"properties\":[{\"default\":\"flex-start\",\"kind\":null,\"name\":\"align_content\"},{\"default\":\"flex-start\",\"kind\":null,\"name\":\"align_items\"},{\"default\":\"row\",\"kind\":null,\"name\":\"flex_direction\"},{\"default\":\"wrap\",\"kind\":null,\"name\":\"flex_wrap\"},{\"default\":\"flex-start\",\"kind\":null,\"name\":\"justify_content\"}]},{\"extends\":null,\"module\":null,\"name\":\"GridStack1\",\"overrides\":[],\"properties\":[{\"default\":\"warn\",\"kind\":null,\"name\":\"mode\"},{\"default\":null,\"kind\":null,\"name\":\"ncols\"},{\"default\":null,\"kind\":null,\"name\":\"nrows\"},{\"default\":true,\"kind\":null,\"name\":\"allow_resize\"},{\"default\":true,\"kind\":null,\"name\":\"allow_drag\"},{\"default\":[],\"kind\":null,\"name\":\"state\"}]},{\"extends\":null,\"module\":null,\"name\":\"click1\",\"overrides\":[],\"properties\":[{\"default\":\"\",\"kind\":null,\"name\":\"terminal_output\"},{\"default\":\"\",\"kind\":null,\"name\":\"debug_name\"},{\"default\":0,\"kind\":null,\"name\":\"clears\"}]},{\"extends\":null,\"module\":null,\"name\":\"NotificationAreaBase1\",\"overrides\":[],\"properties\":[{\"default\":\"bottom-right\",\"kind\":null,\"name\":\"position\"},{\"default\":0,\"kind\":null,\"name\":\"_clear\"}]},{\"extends\":null,\"module\":null,\"name\":\"NotificationArea1\",\"overrides\":[],\"properties\":[{\"default\":[],\"kind\":null,\"name\":\"notifications\"},{\"default\":\"bottom-right\",\"kind\":null,\"name\":\"position\"},{\"default\":0,\"kind\":null,\"name\":\"_clear\"},{\"default\":[{\"background\":\"#ffc107\",\"icon\":{\"className\":\"fas fa-exclamation-triangle\",\"color\":\"white\",\"tagName\":\"i\"},\"type\":\"warning\"},{\"background\":\"#007bff\",\"icon\":{\"className\":\"fas fa-info-circle\",\"color\":\"white\",\"tagName\":\"i\"},\"type\":\"info\"}],\"kind\":null,\"name\":\"types\"}]},{\"extends\":null,\"module\":null,\"name\":\"Notification\",\"overrides\":[],\"properties\":[{\"default\":null,\"kind\":null,\"name\":\"background\"},{\"default\":3000,\"kind\":null,\"name\":\"duration\"},{\"default\":null,\"kind\":null,\"name\":\"icon\"},{\"default\":\"\",\"kind\":null,\"name\":\"message\"},{\"default\":null,\"kind\":null,\"name\":\"notification_type\"},{\"default\":false,\"kind\":null,\"name\":\"_destroyed\"}]},{\"extends\":null,\"module\":null,\"name\":\"TemplateActions1\",\"overrides\":[],\"properties\":[{\"default\":0,\"kind\":null,\"name\":\"open_modal\"},{\"default\":0,\"kind\":null,\"name\":\"close_modal\"}]},{\"extends\":null,\"module\":null,\"name\":\"MaterialTemplateActions1\",\"overrides\":[],\"properties\":[{\"default\":0,\"kind\":null,\"name\":\"open_modal\"},{\"default\":0,\"kind\":null,\"name\":\"close_modal\"}]}],\"roots\":{\"references\":[{\"attributes\":{},\"id\":\"1025\",\"type\":\"SaveTool\"},{\"attributes\":{},\"id\":\"1023\",\"type\":\"WheelZoomTool\"},{\"attributes\":{\"line_alpha\":0.1,\"line_color\":\"red\",\"line_width\":2,\"x\":{\"field\":\"x\"},\"y\":{\"field\":\"y\"}},\"id\":\"1056\",\"type\":\"Line\"},{\"attributes\":{\"reload\":false},\"id\":\"1251\",\"type\":\"panel.models.location.Location\"},{\"attributes\":{},\"id\":\"1050\",\"type\":\"Selection\"},{\"attributes\":{},\"id\":\"1010\",\"type\":\"LinearScale\"},{\"attributes\":{\"line_alpha\":0.2,\"line_color\":\"blue\",\"line_width\":2,\"x\":{\"field\":\"x\"},\"y\":{\"field\":\"y\"}},\"id\":\"1039\",\"type\":\"Line\"},{\"attributes\":{\"data\":{\"x\":[0,5,10,15,20,25,30,35,40],\"y\":[1471.0,1523.0,1554.0,1598.0,1631.0,1677.0,1728.0,1774.0,1822.0]},\"selected\":{\"id\":\"1070\"},\"selection_policy\":{\"id\":\"1069\"}},\"id\":\"1054\",\"type\":\"ColumnDataSource\"},{\"attributes\":{},\"id\":\"1113\",\"type\":\"UnionRenderers\"},{\"attributes\":{},\"id\":\"1047\",\"type\":\"BasicTickFormatter\"},{\"attributes\":{\"source\":{\"id\":\"1094\"}},\"id\":\"1099\",\"type\":\"CDSView\"},{\"attributes\":{\"line_alpha\":0.1,\"line_color\":\"orange\",\"line_width\":2,\"x\":{\"field\":\"x\"},\"y\":{\"field\":\"y\"}},\"id\":\"1096\",\"type\":\"Line\"},{\"attributes\":{\"end\":40.8},\"id\":\"1006\",\"type\":\"Range1d\"},{\"attributes\":{},\"id\":\"1090\",\"type\":\"UnionRenderers\"},{\"attributes\":{},\"id\":\"1022\",\"type\":\"PanTool\"},{\"attributes\":{\"coordinates\":null,\"data_source\":{\"id\":\"1036\"},\"glyph\":{\"id\":\"1037\"},\"group\":null,\"hover_glyph\":null,\"muted_glyph\":{\"id\":\"1039\"},\"nonselection_glyph\":{\"id\":\"1038\"},\"view\":{\"id\":\"1041\"}},\"id\":\"1040\",\"type\":\"GlyphRenderer\"},{\"attributes\":{\"children\":[{\"id\":\"1003\"}],\"margin\":[0,0,0,0],\"name\":\"Row00787\"},\"id\":\"1121\",\"type\":\"Row\"},{\"attributes\":{},\"id\":\"1048\",\"type\":\"AllLabels\"},{\"attributes\":{\"line_alpha\":0.2,\"line_color\":\"green\",\"line_width\":2,\"x\":{\"field\":\"x\"},\"y\":{\"field\":\"y\"}},\"id\":\"1076\",\"type\":\"Line\"},{\"attributes\":{},\"id\":\"1044\",\"type\":\"BasicTickFormatter\"},{\"attributes\":{\"data\":{\"x\":[0,5,10,15,20,25,30,35,40],\"y\":[1313.0,1334.0,1363.0,1396.0,1437.0,1474.0,1522.0,1576.0,1622.0]},\"selected\":{\"id\":\"1114\"},\"selection_policy\":{\"id\":\"1113\"}},\"id\":\"1094\",\"type\":\"ColumnDataSource\"},{\"attributes\":{\"axis_label\":\"time(minutes)\",\"coordinates\":null,\"formatter\":{\"id\":\"1047\"},\"group\":null,\"major_label_policy\":{\"id\":\"1048\"},\"ticker\":{\"id\":\"1015\"}},\"id\":\"1014\",\"type\":\"LinearAxis\"},{\"attributes\":{\"below\":[{\"id\":\"1014\"}],\"center\":[{\"id\":\"1017\"},{\"id\":\"1021\"},{\"id\":\"1052\"}],\"left\":[{\"id\":\"1018\"}],\"renderers\":[{\"id\":\"1040\"},{\"id\":\"1058\"},{\"id\":\"1077\"},{\"id\":\"1098\"}],\"title\":{\"id\":\"1004\"},\"toolbar\":{\"id\":\"1029\"},\"x_range\":{\"id\":\"1006\"},\"x_scale\":{\"id\":\"1010\"},\"y_range\":{\"id\":\"1008\"},\"y_scale\":{\"id\":\"1012\"}},\"id\":\"1003\",\"subtype\":\"Figure\",\"type\":\"Plot\"},{\"attributes\":{\"coordinates\":null,\"data_source\":{\"id\":\"1073\"},\"glyph\":{\"id\":\"1074\"},\"group\":null,\"hover_glyph\":null,\"muted_glyph\":{\"id\":\"1076\"},\"nonselection_glyph\":{\"id\":\"1075\"},\"view\":{\"id\":\"1078\"}},\"id\":\"1077\",\"type\":\"GlyphRenderer\"},{\"attributes\":{},\"id\":\"1027\",\"type\":\"HelpTool\"},{\"attributes\":{},\"id\":\"1015\",\"type\":\"BasicTicker\"},{\"attributes\":{\"label\":{\"value\":\"control1\"},\"renderers\":[{\"id\":\"1077\"}]},\"id\":\"1093\",\"type\":\"LegendItem\"},{\"attributes\":{},\"id\":\"1019\",\"type\":\"BasicTicker\"},{\"attributes\":{\"line_color\":\"orange\",\"line_width\":2,\"x\":{\"field\":\"x\"},\"y\":{\"field\":\"y\"}},\"id\":\"1095\",\"type\":\"Line\"},{\"attributes\":{},\"id\":\"1091\",\"type\":\"Selection\"},{\"attributes\":{\"label\":{\"value\":\"dehydration2\"},\"renderers\":[{\"id\":\"1058\"}]},\"id\":\"1072\",\"type\":\"LegendItem\"},{\"attributes\":{\"children\":[{\"id\":\"1118\"},{\"id\":\"1121\"}],\"margin\":[0,0,0,0],\"name\":\"Column00782\"},\"id\":\"1117\",\"type\":\"Column\"},{\"attributes\":{},\"id\":\"1012\",\"type\":\"LinearScale\"},{\"attributes\":{\"coordinates\":null,\"group\":null,\"text\":\"calories\"},\"id\":\"1004\",\"type\":\"Title\"},{\"attributes\":{\"line_alpha\":0.2,\"line_color\":\"orange\",\"line_width\":2,\"x\":{\"field\":\"x\"},\"y\":{\"field\":\"y\"}},\"id\":\"1097\",\"type\":\"Line\"},{\"attributes\":{},\"id\":\"1114\",\"type\":\"Selection\"},{\"attributes\":{\"line_color\":\"red\",\"line_width\":2,\"x\":{\"field\":\"x\"},\"y\":{\"field\":\"y\"}},\"id\":\"1055\",\"type\":\"Line\"},{\"attributes\":{\"data\":{\"x\":[0,5,10,15,20,25,30,35,40],\"y\":[1460.0,1511.0,1544.0,1576.0,1618.0,1667.0,1720.0,1780.0,1820.0]},\"selected\":{\"id\":\"1050\"},\"selection_policy\":{\"id\":\"1049\"}},\"id\":\"1036\",\"type\":\"ColumnDataSource\"},{\"attributes\":{\"overlay\":{\"id\":\"1028\"}},\"id\":\"1024\",\"type\":\"BoxZoomTool\"},{\"attributes\":{\"source\":{\"id\":\"1036\"}},\"id\":\"1041\",\"type\":\"CDSView\"},{\"attributes\":{\"data\":{\"x\":[0,5,10,15,20,25,30,35,40],\"y\":[1498.0,1532.0,1567.0,1598.0,1638.0,1681.0,1727.0,1766.0,1799.0]},\"selected\":{\"id\":\"1091\"},\"selection_policy\":{\"id\":\"1090\"}},\"id\":\"1073\",\"type\":\"ColumnDataSource\"},{\"attributes\":{\"axis\":{\"id\":\"1014\"},\"coordinates\":null,\"group\":null,\"ticker\":null},\"id\":\"1017\",\"type\":\"Grid\"},{\"attributes\":{\"line_color\":\"green\",\"line_width\":2,\"x\":{\"field\":\"x\"},\"y\":{\"field\":\"y\"}},\"id\":\"1074\",\"type\":\"Line\"},{\"attributes\":{\"label\":{\"value\":\"control2\"},\"renderers\":[{\"id\":\"1098\"}]},\"id\":\"1116\",\"type\":\"LegendItem\"},{\"attributes\":{\"source\":{\"id\":\"1054\"}},\"id\":\"1059\",\"type\":\"CDSView\"},{\"attributes\":{\"line_alpha\":0.1,\"line_color\":\"blue\",\"line_width\":2,\"x\":{\"field\":\"x\"},\"y\":{\"field\":\"y\"}},\"id\":\"1038\",\"type\":\"Line\"},{\"attributes\":{\"end\":2368.6,\"start\":656.5},\"id\":\"1008\",\"type\":\"Range1d\"},{\"attributes\":{\"coordinates\":null,\"group\":null,\"items\":[{\"id\":\"1053\"},{\"id\":\"1072\"},{\"id\":\"1093\"},{\"id\":\"1116\"}]},\"id\":\"1052\",\"type\":\"Legend\"},{\"attributes\":{},\"id\":\"1049\",\"type\":\"UnionRenderers\"},{\"attributes\":{},\"id\":\"1070\",\"type\":\"Selection\"},{\"attributes\":{\"source\":{\"id\":\"1073\"}},\"id\":\"1078\",\"type\":\"CDSView\"},{\"attributes\":{\"line_alpha\":0.2,\"line_color\":\"red\",\"line_width\":2,\"x\":{\"field\":\"x\"},\"y\":{\"field\":\"y\"}},\"id\":\"1057\",\"type\":\"Line\"},{\"attributes\":{\"label\":{\"value\":\"dehydration1\"},\"renderers\":[{\"id\":\"1040\"}]},\"id\":\"1053\",\"type\":\"LegendItem\"},{\"attributes\":{},\"id\":\"1026\",\"type\":\"ResetTool\"},{\"attributes\":{\"line_color\":\"blue\",\"line_width\":2,\"x\":{\"field\":\"x\"},\"y\":{\"field\":\"y\"}},\"id\":\"1037\",\"type\":\"Line\"},{\"attributes\":{},\"id\":\"1045\",\"type\":\"AllLabels\"},{\"attributes\":{\"bottom_units\":\"screen\",\"coordinates\":null,\"fill_alpha\":0.5,\"fill_color\":\"lightgrey\",\"group\":null,\"left_units\":\"screen\",\"level\":\"overlay\",\"line_alpha\":1.0,\"line_color\":\"black\",\"line_dash\":[4,4],\"line_width\":2,\"right_units\":\"screen\",\"syncable\":false,\"top_units\":\"screen\"},\"id\":\"1028\",\"type\":\"BoxAnnotation\"},{\"attributes\":{\"tools\":[{\"id\":\"1022\"},{\"id\":\"1023\"},{\"id\":\"1024\"},{\"id\":\"1025\"},{\"id\":\"1026\"},{\"id\":\"1027\"}]},\"id\":\"1029\",\"type\":\"Toolbar\"},{\"attributes\":{\"coordinates\":null,\"data_source\":{\"id\":\"1094\"},\"glyph\":{\"id\":\"1095\"},\"group\":null,\"hover_glyph\":null,\"muted_glyph\":{\"id\":\"1097\"},\"nonselection_glyph\":{\"id\":\"1096\"},\"view\":{\"id\":\"1099\"}},\"id\":\"1098\",\"type\":\"GlyphRenderer\"},{\"attributes\":{\"axis\":{\"id\":\"1018\"},\"coordinates\":null,\"dimension\":1,\"group\":null,\"ticker\":null},\"id\":\"1021\",\"type\":\"Grid\"},{\"attributes\":{\"axis_label\":\"calories\",\"coordinates\":null,\"formatter\":{\"id\":\"1044\"},\"group\":null,\"major_label_policy\":{\"id\":\"1045\"},\"ticker\":{\"id\":\"1019\"}},\"id\":\"1018\",\"type\":\"LinearAxis\"},{\"attributes\":{\"coordinates\":null,\"data_source\":{\"id\":\"1054\"},\"glyph\":{\"id\":\"1055\"},\"group\":null,\"hover_glyph\":null,\"muted_glyph\":{\"id\":\"1057\"},\"nonselection_glyph\":{\"id\":\"1056\"},\"view\":{\"id\":\"1059\"}},\"id\":\"1058\",\"type\":\"GlyphRenderer\"},{\"attributes\":{\"client_comm_id\":\"1c64817e267243c49e226ffffd6aeda6\",\"comm_id\":\"c4c7725c8ba94c26bb8490b1a6f5361f\",\"plot_id\":\"1117\"},\"id\":\"1202\",\"type\":\"panel.models.comm_manager.CommManager\"},{\"attributes\":{\"margin\":[5,10,5,10],\"options\":[\"heartrate\",\"calories\",\"temperature\"],\"title\":\"target\",\"value\":\"calories\"},\"id\":\"1120\",\"type\":\"panel.models.widgets.CustomSelect\"},{\"attributes\":{\"line_alpha\":0.1,\"line_color\":\"green\",\"line_width\":2,\"x\":{\"field\":\"x\"},\"y\":{\"field\":\"y\"}},\"id\":\"1075\",\"type\":\"Line\"},{\"attributes\":{\"margin\":[5,10,5,10],\"options\":[\"green\",\"pink\",\"orange\",\"blue\",\"red\"],\"title\":\"participant\",\"value\":\"pink\"},\"id\":\"1119\",\"type\":\"panel.models.widgets.CustomSelect\"},{\"attributes\":{},\"id\":\"1069\",\"type\":\"UnionRenderers\"},{\"attributes\":{\"children\":[{\"id\":\"1119\"},{\"id\":\"1120\"}],\"margin\":[0,0,0,0],\"name\":\"Column00788\"},\"id\":\"1118\",\"type\":\"Column\"}],\"root_ids\":[\"1117\",\"1202\",\"1251\"]},\"title\":\"Bokeh Application\",\"version\":\"2.4.3\"}};\n",
       "    var render_items = [{\"docid\":\"de2789ab-4e18-455b-866a-5f364826b7ba\",\"root_ids\":[\"1117\"],\"roots\":{\"1117\":\"ddc62cb2-d11d-4726-8213-75e76f5e6dfa\"}}];\n",
       "    root.Bokeh.embed.embed_items_notebook(docs_json, render_items);\n",
       "  }\n",
       "  if (root.Bokeh !== undefined && root.Bokeh.Panel !== undefined) {\n",
       "    embed_document(root);\n",
       "  } else {\n",
       "    var attempts = 0;\n",
       "    var timer = setInterval(function(root) {\n",
       "      if (root.Bokeh !== undefined && root.Bokeh.Panel !== undefined) {\n",
       "        clearInterval(timer);\n",
       "        embed_document(root);\n",
       "      } else if (document.readyState == \"complete\") {\n",
       "        attempts++;\n",
       "        if (attempts > 200) {\n",
       "          clearInterval(timer);\n",
       "          console.log(\"Bokeh: ERROR: Unable to run BokehJS code because BokehJS library is missing\");\n",
       "        }\n",
       "      }\n",
       "    }, 25, root)\n",
       "  }\n",
       "})(window);</script>"
      ],
      "text/plain": [
       "Column\n",
       "    [0] Column\n",
       "        [0] Select(name='participant', options=['green', 'pink', ...], value='pink')\n",
       "        [1] Select(name='target', options=['heartrate', ...], value='calories')\n",
       "    [1] Row\n",
       "        [0] Bokeh(Figure, name='interactive00781')"
      ]
     },
     "execution_count": 7,
     "metadata": {
      "application/vnd.holoviews_exec.v0+json": {
       "id": "1117"
      }
     },
     "output_type": "execute_result"
    }
   ],
   "source": [
    "def show_personal_plot(participant='pink', target = 'calories'):\n",
    "\n",
    "    personal_df = create_personal_dataframe()\n",
    "    personal_df = personal_df[personal_df[\"participant\"] == participant]\n",
    "\n",
    "    p = figure(x_range = [personal_df['time'].min(),personal_df['time'].max()*1.02], \n",
    "               y_range = [personal_df[target].min()*.5,personal_df[target].max()*1.3],\n",
    "               title=target, x_axis_label=\"time(minutes)\", y_axis_label=target)\n",
    "\n",
    "    x = personal_df[\"time\"].unique().tolist()\n",
    "    y1 = personal_df[(personal_df[\"type\"] == \"dehydration\") & (personal_df[\"session\"] == 1)][target].tolist()\n",
    "    y2 = personal_df[(personal_df[\"type\"] == \"dehydration\") & (personal_df[\"session\"] == 2)][target].tolist()\n",
    "    y3 = personal_df[(personal_df[\"type\"] == \"control\") & (personal_df[\"session\"] == 1)][target].tolist()\n",
    "    y4 = personal_df[(personal_df[\"type\"] == \"control\") & (personal_df[\"session\"] == 2)][target].tolist()\n",
    "    \n",
    "    # add multiple renderers\n",
    "    p.line(x, y1, legend_label=\"dehydration1\", color=\"blue\", line_width=2)\n",
    "    p.line(x, y2, legend_label=\"dehydration2\", color=\"red\", line_width=2)\n",
    "    p.line(x, y3, legend_label=\"control1\", color=\"green\", line_width=2)\n",
    "    p.line(x, y4, legend_label=\"control2\", color=\"orange\", line_width=2)\n",
    "    return p\n",
    "\n",
    "participants =['green','pink', 'orange','blue','red']\n",
    "targets = [\"heartrate\", \"calories\", \"temperature\"]\n",
    "personal_plot = pn.interact(show_personal_plot, participant=participants, target = targets)\n",
    "personal_plot"
   ]
  },
  {
   "cell_type": "code",
   "execution_count": 8,
   "metadata": {},
   "outputs": [
    {
     "data": {},
     "metadata": {},
     "output_type": "display_data"
    },
    {
     "data": {
      "application/vnd.holoviews_exec.v0+json": "",
      "text/html": [
       "<div id='1330'>\n",
       "  <div class=\"bk-root\" id=\"5a1aee0f-a825-416f-8642-83b0666537ec\" data-root-id=\"1330\"></div>\n",
       "</div>\n",
       "<script type=\"application/javascript\">(function(root) {\n",
       "  function embed_document(root) {\n",
       "    var docs_json = {\"6c0168f1-ba36-46c6-8ebb-61390c2f835d\":{\"defs\":[{\"extends\":null,\"module\":null,\"name\":\"ReactiveHTML1\",\"overrides\":[],\"properties\":[]},{\"extends\":null,\"module\":null,\"name\":\"FlexBox1\",\"overrides\":[],\"properties\":[{\"default\":\"flex-start\",\"kind\":null,\"name\":\"align_content\"},{\"default\":\"flex-start\",\"kind\":null,\"name\":\"align_items\"},{\"default\":\"row\",\"kind\":null,\"name\":\"flex_direction\"},{\"default\":\"wrap\",\"kind\":null,\"name\":\"flex_wrap\"},{\"default\":\"flex-start\",\"kind\":null,\"name\":\"justify_content\"}]},{\"extends\":null,\"module\":null,\"name\":\"GridStack1\",\"overrides\":[],\"properties\":[{\"default\":\"warn\",\"kind\":null,\"name\":\"mode\"},{\"default\":null,\"kind\":null,\"name\":\"ncols\"},{\"default\":null,\"kind\":null,\"name\":\"nrows\"},{\"default\":true,\"kind\":null,\"name\":\"allow_resize\"},{\"default\":true,\"kind\":null,\"name\":\"allow_drag\"},{\"default\":[],\"kind\":null,\"name\":\"state\"}]},{\"extends\":null,\"module\":null,\"name\":\"click1\",\"overrides\":[],\"properties\":[{\"default\":\"\",\"kind\":null,\"name\":\"terminal_output\"},{\"default\":\"\",\"kind\":null,\"name\":\"debug_name\"},{\"default\":0,\"kind\":null,\"name\":\"clears\"}]},{\"extends\":null,\"module\":null,\"name\":\"NotificationAreaBase1\",\"overrides\":[],\"properties\":[{\"default\":\"bottom-right\",\"kind\":null,\"name\":\"position\"},{\"default\":0,\"kind\":null,\"name\":\"_clear\"}]},{\"extends\":null,\"module\":null,\"name\":\"NotificationArea1\",\"overrides\":[],\"properties\":[{\"default\":[],\"kind\":null,\"name\":\"notifications\"},{\"default\":\"bottom-right\",\"kind\":null,\"name\":\"position\"},{\"default\":0,\"kind\":null,\"name\":\"_clear\"},{\"default\":[{\"background\":\"#ffc107\",\"icon\":{\"className\":\"fas fa-exclamation-triangle\",\"color\":\"white\",\"tagName\":\"i\"},\"type\":\"warning\"},{\"background\":\"#007bff\",\"icon\":{\"className\":\"fas fa-info-circle\",\"color\":\"white\",\"tagName\":\"i\"},\"type\":\"info\"}],\"kind\":null,\"name\":\"types\"}]},{\"extends\":null,\"module\":null,\"name\":\"Notification\",\"overrides\":[],\"properties\":[{\"default\":null,\"kind\":null,\"name\":\"background\"},{\"default\":3000,\"kind\":null,\"name\":\"duration\"},{\"default\":null,\"kind\":null,\"name\":\"icon\"},{\"default\":\"\",\"kind\":null,\"name\":\"message\"},{\"default\":null,\"kind\":null,\"name\":\"notification_type\"},{\"default\":false,\"kind\":null,\"name\":\"_destroyed\"}]},{\"extends\":null,\"module\":null,\"name\":\"TemplateActions1\",\"overrides\":[],\"properties\":[{\"default\":0,\"kind\":null,\"name\":\"open_modal\"},{\"default\":0,\"kind\":null,\"name\":\"close_modal\"}]},{\"extends\":null,\"module\":null,\"name\":\"MaterialTemplateActions1\",\"overrides\":[],\"properties\":[{\"default\":0,\"kind\":null,\"name\":\"open_modal\"},{\"default\":0,\"kind\":null,\"name\":\"close_modal\"}]}],\"roots\":{\"references\":[{\"attributes\":{},\"id\":\"1310\",\"type\":\"LinearScale\"},{\"attributes\":{\"coordinates\":null,\"formatter\":{\"id\":\"1339\"},\"group\":null,\"major_label_policy\":{\"id\":\"1340\"},\"ticker\":{\"id\":\"1313\"}},\"id\":\"1312\",\"type\":\"CategoricalAxis\"},{\"attributes\":{\"data\":{\"SE\":{\"__ndarray__\":\"OYyiwIq8G0AsliQc5WMWQODJJsahzSFAL8eP8kymHkCKAGfIN0AhQCYnXsTmmBxAVMpLYxmbFEAetNViC68XQIvNWRrdghlAcJxe4TE/IkA=\",\"dtype\":\"float64\",\"order\":\"little\",\"shape\":[10]},\"index\":[0,1,2,3,4,5,6,7,8,9],\"lower\":{\"__ndarray__\":\"GY4j8jPUYEAbE/cbesRhQPQy2TaaMVpAJp07rn6pWUBYVWde6j5cQKuSnDLbyV1AC76AjndEXEAHhmjQf0deQDn2QvI0zmBA/2hkVMczYEA=\",\"dtype\":\"float64\",\"order\":\"little\",\"shape\":[10]},\"participants_type\":[\"blue control\",\"blue dehydration\",\"green control\",\"green dehydration\",\"orange control\",\"orange dehydration\",\"pink control\",\"pink dehydration\",\"red control\",\"red dehydration\"],\"required_mean\":{\"__ndarray__\":\"chzHcRyHYkA5juM4jiNjQOQ4juM4jl5Aq6qqqqpqXUDHcRzHcTxgQFVVVVVVpWBAq6qqqqrKXkByHMdxHJdgQOQ4juM4XmJAAAAAAABwYkA=\",\"dtype\":\"float64\",\"order\":\"little\",\"shape\":[10]},\"upper\":{\"__ndarray__\":\"y6pq8QQ6ZEBXCdBVooJkQGqfIchrdWFAGNyMU+uVYEDiOAVfblliQFRhXBG9ZWJApktq426oYEDh9Vn7eApiQI972dQ87mNAAZebqzisZEA=\",\"dtype\":\"float64\",\"order\":\"little\",\"shape\":[10]}},\"selected\":{\"id\":\"1344\"},\"selection_policy\":{\"id\":\"1343\"}},\"id\":\"1300\",\"type\":\"ColumnDataSource\"},{\"attributes\":{\"base\":{\"field\":\"participants_type\"},\"coordinates\":null,\"group\":null,\"lower\":{\"field\":\"lower\"},\"lower_head\":{\"id\":\"1329\"},\"source\":{\"id\":\"1300\"},\"upper\":{\"field\":\"upper\"},\"upper_head\":{\"id\":\"1328\"}},\"id\":\"1326\",\"type\":\"Whisker\"},{\"attributes\":{},\"id\":\"1336\",\"type\":\"BasicTickFormatter\"},{\"attributes\":{\"size\":{\"value\":20}},\"id\":\"1329\",\"type\":\"TeeHead\"},{\"attributes\":{\"fill_alpha\":{\"value\":0.1},\"fill_color\":{\"value\":\"blue\"},\"hatch_alpha\":{\"value\":0.1},\"hatch_color\":{\"value\":\"blue\"},\"line_alpha\":{\"value\":0.1},\"line_color\":{\"value\":\"blue\"},\"line_width\":{\"value\":0.9},\"x\":{\"field\":\"participants_type\"},\"y\":{\"field\":\"required_mean\"}},\"id\":\"1322\",\"type\":\"Circle\"},{\"attributes\":{},\"id\":\"1337\",\"type\":\"AllLabels\"},{\"attributes\":{\"fill_color\":{\"value\":\"blue\"},\"hatch_color\":{\"value\":\"blue\"},\"line_color\":{\"value\":\"blue\"},\"line_width\":{\"value\":0.9},\"x\":{\"field\":\"participants_type\"},\"y\":{\"field\":\"required_mean\"}},\"id\":\"1321\",\"type\":\"Circle\"},{\"attributes\":{\"children\":[{\"id\":\"1331\"},{\"id\":\"1333\"}],\"margin\":[0,0,0,0],\"name\":\"Column00793\"},\"id\":\"1330\",\"type\":\"Column\"},{\"attributes\":{},\"id\":\"1340\",\"type\":\"AllLabels\"},{\"attributes\":{\"coordinates\":null,\"data_source\":{\"id\":\"1300\"},\"glyph\":{\"id\":\"1321\"},\"group\":null,\"hover_glyph\":null,\"muted_glyph\":{\"id\":\"1323\"},\"nonselection_glyph\":{\"id\":\"1322\"},\"view\":{\"id\":\"1325\"}},\"id\":\"1324\",\"type\":\"GlyphRenderer\"},{\"attributes\":{\"axis\":{\"id\":\"1315\"},\"coordinates\":null,\"dimension\":1,\"group\":null,\"ticker\":null},\"id\":\"1318\",\"type\":\"Grid\"},{\"attributes\":{},\"id\":\"1313\",\"type\":\"CategoricalTicker\"},{\"attributes\":{},\"id\":\"1319\",\"type\":\"Toolbar\"},{\"attributes\":{\"coordinates\":null,\"formatter\":{\"id\":\"1336\"},\"group\":null,\"major_label_policy\":{\"id\":\"1337\"},\"ticker\":{\"id\":\"1316\"}},\"id\":\"1315\",\"type\":\"LinearAxis\"},{\"attributes\":{\"end\":170.34337529945662,\"start\":101.6218734003396},\"id\":\"1306\",\"type\":\"Range1d\"},{\"attributes\":{\"client_comm_id\":\"288eb982fe244b029e8265c9f1ad0079\",\"comm_id\":\"378e255e8039427a8b7002b7cb4e2ea5\",\"plot_id\":\"1330\"},\"id\":\"1389\",\"type\":\"panel.models.comm_manager.CommManager\"},{\"attributes\":{},\"id\":\"1308\",\"type\":\"CategoricalScale\"},{\"attributes\":{},\"id\":\"1344\",\"type\":\"Selection\"},{\"attributes\":{\"children\":[{\"id\":\"1332\"}],\"margin\":[0,0,0,0],\"name\":\"Column00798\"},\"id\":\"1331\",\"type\":\"Column\"},{\"attributes\":{\"margin\":[5,10,5,10],\"options\":[\"heartrate\",\"calories\",\"temperature\",\"body weight\",\"fat%\",\"muscle%\"],\"title\":\"target\",\"value\":\"heartrate\"},\"id\":\"1332\",\"type\":\"panel.models.widgets.CustomSelect\"},{\"attributes\":{},\"id\":\"1339\",\"type\":\"CategoricalTickFormatter\"},{\"attributes\":{\"source\":{\"id\":\"1300\"}},\"id\":\"1325\",\"type\":\"CDSView\"},{\"attributes\":{\"axis\":{\"id\":\"1312\"},\"coordinates\":null,\"group\":null,\"ticker\":null},\"id\":\"1314\",\"type\":\"Grid\"},{\"attributes\":{\"below\":[{\"id\":\"1312\"}],\"center\":[{\"id\":\"1314\"},{\"id\":\"1318\"},{\"id\":\"1326\"}],\"height\":500,\"left\":[{\"id\":\"1315\"}],\"renderers\":[{\"id\":\"1324\"}],\"title\":{\"id\":\"1302\"},\"toolbar\":{\"id\":\"1319\"},\"toolbar_location\":null,\"width\":900,\"x_range\":{\"id\":\"1304\"},\"x_scale\":{\"id\":\"1308\"},\"y_range\":{\"id\":\"1306\"},\"y_scale\":{\"id\":\"1310\"}},\"id\":\"1301\",\"subtype\":\"Figure\",\"type\":\"Plot\"},{\"attributes\":{\"fill_alpha\":{\"value\":0.2},\"fill_color\":{\"value\":\"blue\"},\"hatch_alpha\":{\"value\":0.2},\"hatch_color\":{\"value\":\"blue\"},\"line_alpha\":{\"value\":0.2},\"line_color\":{\"value\":\"blue\"},\"line_width\":{\"value\":0.9},\"x\":{\"field\":\"participants_type\"},\"y\":{\"field\":\"required_mean\"}},\"id\":\"1323\",\"type\":\"Circle\"},{\"attributes\":{\"size\":{\"value\":20}},\"id\":\"1328\",\"type\":\"TeeHead\"},{\"attributes\":{},\"id\":\"1343\",\"type\":\"UnionRenderers\"},{\"attributes\":{\"children\":[{\"id\":\"1301\"}],\"margin\":[0,0,0,0],\"name\":\"Row00797\"},\"id\":\"1333\",\"type\":\"Row\"},{\"attributes\":{\"factors\":[\"blue control\",\"blue dehydration\",\"green control\",\"green dehydration\",\"orange control\",\"orange dehydration\",\"pink control\",\"pink dehydration\",\"red control\",\"red dehydration\"]},\"id\":\"1304\",\"type\":\"FactorRange\"},{\"attributes\":{\"coordinates\":null,\"group\":null,\"text\":\"heartrate error bar\"},\"id\":\"1302\",\"type\":\"Title\"},{\"attributes\":{},\"id\":\"1316\",\"type\":\"BasicTicker\"}],\"root_ids\":[\"1330\",\"1389\"]},\"title\":\"Bokeh Application\",\"version\":\"2.4.3\"}};\n",
       "    var render_items = [{\"docid\":\"6c0168f1-ba36-46c6-8ebb-61390c2f835d\",\"root_ids\":[\"1330\"],\"roots\":{\"1330\":\"5a1aee0f-a825-416f-8642-83b0666537ec\"}}];\n",
       "    root.Bokeh.embed.embed_items_notebook(docs_json, render_items);\n",
       "  }\n",
       "  if (root.Bokeh !== undefined && root.Bokeh.Panel !== undefined) {\n",
       "    embed_document(root);\n",
       "  } else {\n",
       "    var attempts = 0;\n",
       "    var timer = setInterval(function(root) {\n",
       "      if (root.Bokeh !== undefined && root.Bokeh.Panel !== undefined) {\n",
       "        clearInterval(timer);\n",
       "        embed_document(root);\n",
       "      } else if (document.readyState == \"complete\") {\n",
       "        attempts++;\n",
       "        if (attempts > 200) {\n",
       "          clearInterval(timer);\n",
       "          console.log(\"Bokeh: ERROR: Unable to run BokehJS code because BokehJS library is missing\");\n",
       "        }\n",
       "      }\n",
       "    }, 25, root)\n",
       "  }\n",
       "})(window);</script>"
      ],
      "text/plain": [
       "Column\n",
       "    [0] Column\n",
       "        [0] Select(name='target', options=['heartrate', ...], value='heartrate')\n",
       "    [1] Row\n",
       "        [0] Bokeh(Figure, name='interactive00792')"
      ]
     },
     "execution_count": 8,
     "metadata": {
      "application/vnd.holoviews_exec.v0+json": {
       "id": "1330"
      }
     },
     "output_type": "execute_result"
    }
   ],
   "source": [
    "df = personal_df\n",
    "def error_bar(target):\n",
    "    \n",
    "    #create new column containing participant and the type of test\n",
    "    df['participant_type'] = df['participant']+' '+df['type']\n",
    "\n",
    "    # calculate SE\n",
    "    dff = df.groupby('participant_type').mean().reset_index()\n",
    "    std = df.groupby('participant_type').std().reset_index()\n",
    "    n = df.groupby('participant_type').count().reset_index()\n",
    "    \n",
    "    name_list = list(dff['participant_type'])\n",
    "    mean_list = list(dff[target])\n",
    "    std_list = list(std[target])\n",
    "    n_list = list(n[target])\n",
    "    se_list = std_list/np.sqrt(n_list)\n",
    "\n",
    "    #calculate upper and lower\n",
    "    upper = mean_list + se_list*1.96\n",
    "    lower = mean_list - se_list*1.96\n",
    "    \n",
    "    # create new dataframe\n",
    "    data = {'participants_type' : name_list,\n",
    "            'required_mean' : mean_list,\n",
    "            'SE' : se_list,\n",
    "            'upper' : upper,\n",
    "            'lower' : lower,\n",
    "            }\n",
    "    data = pd.DataFrame(data)\n",
    "\n",
    "    source = ColumnDataSource(data)\n",
    "\n",
    "    # plot\n",
    "\n",
    "    p = figure(x_range= name_list, y_range = [data['lower'].min()*.99,data['upper'].max()*1.03],  width=900, \n",
    "               height=500, title= target +\" error bar\", toolbar_location=None, tools=\"\")\n",
    "\n",
    "    p.circle(x='participants_type', y= 'required_mean', width=0.9, color='blue', source=source)\n",
    "\n",
    "    whisker = Whisker(base='participants_type', upper=\"upper\", lower=\"lower\", source=source)\n",
    "    whisker.upper_head.size = whisker.lower_head.size = 20\n",
    "    p.add_layout(whisker)\n",
    "    return p\n",
    "\n",
    "targets = [\"heartrate\", \"calories\", \"temperature\", \"body weight\", \"fat%\", \"muscle%\"]\n",
    "personal_error_plot = pn.interact(error_bar, target = targets)\n",
    "personal_error_plot"
   ]
  },
  {
   "cell_type": "markdown",
   "metadata": {},
   "source": [
    "### Flanker Test Analysis"
   ]
  },
  {
   "cell_type": "code",
   "execution_count": 9,
   "metadata": {},
   "outputs": [],
   "source": [
    "# creating Flanker dataframe\n",
    "def create_flanker_dataframe():\n",
    "    flanker_df = data_dict[\"flanker\"]\n",
    "    flanker_df.rename(columns={0: \"pattern\", 1: \"expression\", 2: \"correctness\", 3: \"response-time\"}, inplace=True)\n",
    "    flanker_df[\"correctness\"] = flanker_df[\"correctness\"].replace(1, \"correct\")\n",
    "    flanker_df[\"correctness\"] = flanker_df[\"correctness\"].replace(2, \"incorrect\")\n",
    "    flanker_df[\"correctness\"] = flanker_df[\"correctness\"].replace(3, \"not-answer\")\n",
    "    return flanker_df\n",
    "\n",
    "flanker_df = create_flanker_dataframe()"
   ]
  },
  {
   "cell_type": "code",
   "execution_count": 10,
   "metadata": {},
   "outputs": [
    {
     "data": {},
     "metadata": {},
     "output_type": "display_data"
    },
    {
     "data": {
      "application/vnd.holoviews_exec.v0+json": "",
      "text/html": [
       "<div id='1472'>\n",
       "  <div class=\"bk-root\" id=\"827602f3-a306-40c2-a649-d9499b6002fe\" data-root-id=\"1472\"></div>\n",
       "</div>\n",
       "<script type=\"application/javascript\">(function(root) {\n",
       "  function embed_document(root) {\n",
       "    var docs_json = {\"881eb8cb-9c32-419b-b776-0e52195e6a81\":{\"defs\":[{\"extends\":null,\"module\":null,\"name\":\"ReactiveHTML1\",\"overrides\":[],\"properties\":[]},{\"extends\":null,\"module\":null,\"name\":\"FlexBox1\",\"overrides\":[],\"properties\":[{\"default\":\"flex-start\",\"kind\":null,\"name\":\"align_content\"},{\"default\":\"flex-start\",\"kind\":null,\"name\":\"align_items\"},{\"default\":\"row\",\"kind\":null,\"name\":\"flex_direction\"},{\"default\":\"wrap\",\"kind\":null,\"name\":\"flex_wrap\"},{\"default\":\"flex-start\",\"kind\":null,\"name\":\"justify_content\"}]},{\"extends\":null,\"module\":null,\"name\":\"GridStack1\",\"overrides\":[],\"properties\":[{\"default\":\"warn\",\"kind\":null,\"name\":\"mode\"},{\"default\":null,\"kind\":null,\"name\":\"ncols\"},{\"default\":null,\"kind\":null,\"name\":\"nrows\"},{\"default\":true,\"kind\":null,\"name\":\"allow_resize\"},{\"default\":true,\"kind\":null,\"name\":\"allow_drag\"},{\"default\":[],\"kind\":null,\"name\":\"state\"}]},{\"extends\":null,\"module\":null,\"name\":\"click1\",\"overrides\":[],\"properties\":[{\"default\":\"\",\"kind\":null,\"name\":\"terminal_output\"},{\"default\":\"\",\"kind\":null,\"name\":\"debug_name\"},{\"default\":0,\"kind\":null,\"name\":\"clears\"}]},{\"extends\":null,\"module\":null,\"name\":\"NotificationAreaBase1\",\"overrides\":[],\"properties\":[{\"default\":\"bottom-right\",\"kind\":null,\"name\":\"position\"},{\"default\":0,\"kind\":null,\"name\":\"_clear\"}]},{\"extends\":null,\"module\":null,\"name\":\"NotificationArea1\",\"overrides\":[],\"properties\":[{\"default\":[],\"kind\":null,\"name\":\"notifications\"},{\"default\":\"bottom-right\",\"kind\":null,\"name\":\"position\"},{\"default\":0,\"kind\":null,\"name\":\"_clear\"},{\"default\":[{\"background\":\"#ffc107\",\"icon\":{\"className\":\"fas fa-exclamation-triangle\",\"color\":\"white\",\"tagName\":\"i\"},\"type\":\"warning\"},{\"background\":\"#007bff\",\"icon\":{\"className\":\"fas fa-info-circle\",\"color\":\"white\",\"tagName\":\"i\"},\"type\":\"info\"}],\"kind\":null,\"name\":\"types\"}]},{\"extends\":null,\"module\":null,\"name\":\"Notification\",\"overrides\":[],\"properties\":[{\"default\":null,\"kind\":null,\"name\":\"background\"},{\"default\":3000,\"kind\":null,\"name\":\"duration\"},{\"default\":null,\"kind\":null,\"name\":\"icon\"},{\"default\":\"\",\"kind\":null,\"name\":\"message\"},{\"default\":null,\"kind\":null,\"name\":\"notification_type\"},{\"default\":false,\"kind\":null,\"name\":\"_destroyed\"}]},{\"extends\":null,\"module\":null,\"name\":\"TemplateActions1\",\"overrides\":[],\"properties\":[{\"default\":0,\"kind\":null,\"name\":\"open_modal\"},{\"default\":0,\"kind\":null,\"name\":\"close_modal\"}]},{\"extends\":null,\"module\":null,\"name\":\"MaterialTemplateActions1\",\"overrides\":[],\"properties\":[{\"default\":0,\"kind\":null,\"name\":\"open_modal\"},{\"default\":0,\"kind\":null,\"name\":\"close_modal\"}]}],\"roots\":{\"references\":[{\"attributes\":{},\"id\":\"1482\",\"type\":\"AllLabels\"},{\"attributes\":{\"below\":[{\"id\":\"1458\"}],\"center\":[{\"id\":\"1460\"},{\"id\":\"1464\"}],\"height\":400,\"left\":[{\"id\":\"1461\"}],\"renderers\":[{\"id\":\"1470\"}],\"title\":{\"id\":\"1449\"},\"toolbar\":{\"id\":\"1465\"},\"toolbar_location\":null,\"x_range\":{\"id\":\"1447\"},\"x_scale\":{\"id\":\"1454\"},\"y_range\":{\"id\":\"1452\"},\"y_scale\":{\"id\":\"1456\"}},\"id\":\"1448\",\"subtype\":\"Figure\",\"type\":\"Plot\"},{\"attributes\":{\"children\":[{\"id\":\"1448\"}],\"margin\":[0,0,0,0],\"name\":\"Row00806\"},\"id\":\"1475\",\"type\":\"Row\"},{\"attributes\":{},\"id\":\"1454\",\"type\":\"CategoricalScale\"},{\"attributes\":{},\"id\":\"1481\",\"type\":\"CategoricalTickFormatter\"},{\"attributes\":{\"fill_color\":{\"field\":\"x\",\"transform\":{\"id\":\"1445\"}},\"line_color\":{\"value\":\"#1f77b4\"},\"top\":{\"field\":\"counts\"},\"width\":{\"value\":0.9},\"x\":{\"field\":\"x\"}},\"id\":\"1467\",\"type\":\"VBar\"},{\"attributes\":{\"axis_label\":\"participant/session\",\"coordinates\":null,\"formatter\":{\"id\":\"1481\"},\"group\":null,\"major_label_orientation\":1,\"major_label_policy\":{\"id\":\"1482\"},\"ticker\":{\"id\":\"1459\"}},\"id\":\"1458\",\"type\":\"CategoricalAxis\"},{\"attributes\":{\"coordinates\":null,\"data_source\":{\"id\":\"1446\"},\"glyph\":{\"id\":\"1467\"},\"group\":null,\"hover_glyph\":null,\"muted_glyph\":{\"id\":\"1469\"},\"nonselection_glyph\":{\"id\":\"1468\"},\"view\":{\"id\":\"1471\"}},\"id\":\"1470\",\"type\":\"GlyphRenderer\"},{\"attributes\":{\"coordinates\":null,\"group\":null,\"text\":\"Average of correct answers\"},\"id\":\"1449\",\"type\":\"Title\"},{\"attributes\":{\"children\":[{\"id\":\"1474\"}],\"margin\":[0,0,0,0],\"name\":\"Column00807\"},\"id\":\"1473\",\"type\":\"Column\"},{\"attributes\":{\"axis\":{\"id\":\"1461\"},\"coordinates\":null,\"dimension\":1,\"group\":null,\"ticker\":null},\"id\":\"1464\",\"type\":\"Grid\"},{\"attributes\":{},\"id\":\"1462\",\"type\":\"BasicTicker\"},{\"attributes\":{},\"id\":\"1479\",\"type\":\"AllLabels\"},{\"attributes\":{\"source\":{\"id\":\"1446\"}},\"id\":\"1471\",\"type\":\"CDSView\"},{\"attributes\":{\"factors\":[[\"blue\",\"control\"],[\"blue\",\"dehydration\"],[\"green\",\"control\"],[\"green\",\"dehydration\"],[\"orange\",\"control\"],[\"orange\",\"dehydration\"],[\"pink\",\"control\"],[\"pink\",\"dehydration\"],[\"red\",\"control\"],[\"red\",\"dehydration\"]],\"range_padding\":0.1},\"id\":\"1447\",\"type\":\"FactorRange\"},{\"attributes\":{\"fill_alpha\":{\"value\":0.1},\"fill_color\":{\"field\":\"x\",\"transform\":{\"id\":\"1445\"}},\"hatch_alpha\":{\"value\":0.1},\"line_alpha\":{\"value\":0.1},\"line_color\":{\"value\":\"#1f77b4\"},\"top\":{\"field\":\"counts\"},\"width\":{\"value\":0.9},\"x\":{\"field\":\"x\"}},\"id\":\"1468\",\"type\":\"VBar\"},{\"attributes\":{\"axis_label\":\"count\",\"coordinates\":null,\"formatter\":{\"id\":\"1478\"},\"group\":null,\"major_label_policy\":{\"id\":\"1479\"},\"ticker\":{\"id\":\"1462\"}},\"id\":\"1461\",\"type\":\"LinearAxis\"},{\"attributes\":{\"axis\":{\"id\":\"1458\"},\"coordinates\":null,\"grid_line_color\":null,\"group\":null,\"ticker\":null},\"id\":\"1460\",\"type\":\"Grid\"},{\"attributes\":{\"data\":{\"counts\":[44.0,48.0,45.5,47.5,47.5,46.5,42.5,43.0,49.0,48.5],\"x\":[[\"blue\",\"control\"],[\"blue\",\"dehydration\"],[\"green\",\"control\"],[\"green\",\"dehydration\"],[\"orange\",\"control\"],[\"orange\",\"dehydration\"],[\"pink\",\"control\"],[\"pink\",\"dehydration\"],[\"red\",\"control\"],[\"red\",\"dehydration\"]]},\"selected\":{\"id\":\"1484\"},\"selection_policy\":{\"id\":\"1483\"}},\"id\":\"1446\",\"type\":\"ColumnDataSource\"},{\"attributes\":{\"end\":100},\"id\":\"1452\",\"type\":\"Range1d\"},{\"attributes\":{},\"id\":\"1484\",\"type\":\"Selection\"},{\"attributes\":{\"end\":2,\"factors\":[\"dehydration\",\"control\"],\"palette\":[\"salmon\",\"skyblue\"],\"start\":1},\"id\":\"1445\",\"type\":\"CategoricalColorMapper\"},{\"attributes\":{\"client_comm_id\":\"31dd1cb28fea4681bbb53a76bed78fd3\",\"comm_id\":\"d5d8df8e3f7c4e6d889eaaab5278ec49\",\"plot_id\":\"1472\"},\"id\":\"1521\",\"type\":\"panel.models.comm_manager.CommManager\"},{\"attributes\":{},\"id\":\"1465\",\"type\":\"Toolbar\"},{\"attributes\":{},\"id\":\"1478\",\"type\":\"BasicTickFormatter\"},{\"attributes\":{},\"id\":\"1483\",\"type\":\"UnionRenderers\"},{\"attributes\":{\"children\":[{\"id\":\"1473\"},{\"id\":\"1475\"}],\"margin\":[0,0,0,0],\"name\":\"Column00802\"},\"id\":\"1472\",\"type\":\"Column\"},{\"attributes\":{\"margin\":[5,10,5,10],\"options\":[\"correct\",\"incorrect\"],\"title\":\"answer_type\",\"value\":\"correct\"},\"id\":\"1474\",\"type\":\"panel.models.widgets.CustomSelect\"},{\"attributes\":{},\"id\":\"1456\",\"type\":\"LinearScale\"},{\"attributes\":{},\"id\":\"1459\",\"type\":\"CategoricalTicker\"},{\"attributes\":{\"fill_alpha\":{\"value\":0.2},\"fill_color\":{\"field\":\"x\",\"transform\":{\"id\":\"1445\"}},\"hatch_alpha\":{\"value\":0.2},\"line_alpha\":{\"value\":0.2},\"line_color\":{\"value\":\"#1f77b4\"},\"top\":{\"field\":\"counts\"},\"width\":{\"value\":0.9},\"x\":{\"field\":\"x\"}},\"id\":\"1469\",\"type\":\"VBar\"}],\"root_ids\":[\"1472\",\"1521\"]},\"title\":\"Bokeh Application\",\"version\":\"2.4.3\"}};\n",
       "    var render_items = [{\"docid\":\"881eb8cb-9c32-419b-b776-0e52195e6a81\",\"root_ids\":[\"1472\"],\"roots\":{\"1472\":\"827602f3-a306-40c2-a649-d9499b6002fe\"}}];\n",
       "    root.Bokeh.embed.embed_items_notebook(docs_json, render_items);\n",
       "  }\n",
       "  if (root.Bokeh !== undefined && root.Bokeh.Panel !== undefined) {\n",
       "    embed_document(root);\n",
       "  } else {\n",
       "    var attempts = 0;\n",
       "    var timer = setInterval(function(root) {\n",
       "      if (root.Bokeh !== undefined && root.Bokeh.Panel !== undefined) {\n",
       "        clearInterval(timer);\n",
       "        embed_document(root);\n",
       "      } else if (document.readyState == \"complete\") {\n",
       "        attempts++;\n",
       "        if (attempts > 200) {\n",
       "          clearInterval(timer);\n",
       "          console.log(\"Bokeh: ERROR: Unable to run BokehJS code because BokehJS library is missing\");\n",
       "        }\n",
       "      }\n",
       "    }, 25, root)\n",
       "  }\n",
       "})(window);</script>"
      ],
      "text/plain": [
       "Column\n",
       "    [0] Column\n",
       "        [0] Select(name='answer_type', options=['correct', 'incorrect'], value='correct')\n",
       "    [1] Row\n",
       "        [0] Bokeh(Figure, name='interactive00801')"
      ]
     },
     "execution_count": 10,
     "metadata": {
      "application/vnd.holoviews_exec.v0+json": {
       "id": "1472"
      }
     },
     "output_type": "execute_result"
    }
   ],
   "source": [
    "def show_plot(data, title, x_label=\"\", y_label=\"\", palette=[\"salmon\", \"skyblue\"], factors=[\"dehydration\", \"control\"]):\n",
    "    index_cmap = factor_cmap('x', palette=palette, factors=factors, start=1, end=2)\n",
    "    x = list(data.index.values)\n",
    "    data_map = {\n",
    "        'x': x,\n",
    "        'counts': data.tolist()\n",
    "        }\n",
    "\n",
    "    source = ColumnDataSource(data=data_map)\n",
    "    p = figure(x_range=FactorRange(*x), y_range=(0, 100), height=400, title=title,\n",
    "               toolbar_location=None, tools=\"\", x_axis_label=x_label, y_axis_label=y_label)\n",
    "\n",
    "    p.vbar(x='x', top='counts', width=0.9, source=source, fill_color=index_cmap)\n",
    "\n",
    "    p.y_range.start = 0\n",
    "    p.x_range.range_padding = 0.1\n",
    "    p.xaxis.major_label_orientation = 1\n",
    "    p.xgrid.grid_line_color = None\n",
    "    return p\n",
    "\n",
    "def flanker_calculate_counts(flanker_df, answer_type=\"correct\"):\n",
    "    flanker_df = flanker_df[flanker_df[\"correctness\"] == answer_type]\n",
    "    flanker_df = flanker_df.groupby([\"participant\", \"type\", \"repeat\"])[\"correctness\"].count().reset_index()\n",
    "    data = flanker_df.groupby(by=[\"participant\", \"type\"])[\"correctness\"].mean()\n",
    "    return data\n",
    "\n",
    "def flanker_plot_count(answer_type=\"correct\"):  # Roya\n",
    "    flanker_df = create_flanker_dataframe()\n",
    "    data = flanker_calculate_counts(flanker_df, answer_type)\n",
    "    return show_plot(data, f\"Average of {answer_type} answers\", \"participant/session\", \"count\" )\n",
    "\n",
    "answer_types =['correct','incorrect']\n",
    "flanker_counts = pn.interact(flanker_plot_count, answer_type = answer_types)\n",
    "flanker_counts"
   ]
  },
  {
   "cell_type": "code",
   "execution_count": 11,
   "metadata": {},
   "outputs": [
    {
     "data": {},
     "metadata": {},
     "output_type": "display_data"
    },
    {
     "data": {
      "application/vnd.holoviews_exec.v0+json": "",
      "text/html": [
       "<div id='1594'>\n",
       "  <div class=\"bk-root\" id=\"39e7ae77-1ce8-4dac-a401-8347c5742df4\" data-root-id=\"1594\"></div>\n",
       "</div>\n",
       "<script type=\"application/javascript\">(function(root) {\n",
       "  function embed_document(root) {\n",
       "    var docs_json = {\"c6c6551e-0805-4b61-93b6-6f2ef201486f\":{\"defs\":[{\"extends\":null,\"module\":null,\"name\":\"ReactiveHTML1\",\"overrides\":[],\"properties\":[]},{\"extends\":null,\"module\":null,\"name\":\"FlexBox1\",\"overrides\":[],\"properties\":[{\"default\":\"flex-start\",\"kind\":null,\"name\":\"align_content\"},{\"default\":\"flex-start\",\"kind\":null,\"name\":\"align_items\"},{\"default\":\"row\",\"kind\":null,\"name\":\"flex_direction\"},{\"default\":\"wrap\",\"kind\":null,\"name\":\"flex_wrap\"},{\"default\":\"flex-start\",\"kind\":null,\"name\":\"justify_content\"}]},{\"extends\":null,\"module\":null,\"name\":\"GridStack1\",\"overrides\":[],\"properties\":[{\"default\":\"warn\",\"kind\":null,\"name\":\"mode\"},{\"default\":null,\"kind\":null,\"name\":\"ncols\"},{\"default\":null,\"kind\":null,\"name\":\"nrows\"},{\"default\":true,\"kind\":null,\"name\":\"allow_resize\"},{\"default\":true,\"kind\":null,\"name\":\"allow_drag\"},{\"default\":[],\"kind\":null,\"name\":\"state\"}]},{\"extends\":null,\"module\":null,\"name\":\"click1\",\"overrides\":[],\"properties\":[{\"default\":\"\",\"kind\":null,\"name\":\"terminal_output\"},{\"default\":\"\",\"kind\":null,\"name\":\"debug_name\"},{\"default\":0,\"kind\":null,\"name\":\"clears\"}]},{\"extends\":null,\"module\":null,\"name\":\"NotificationAreaBase1\",\"overrides\":[],\"properties\":[{\"default\":\"bottom-right\",\"kind\":null,\"name\":\"position\"},{\"default\":0,\"kind\":null,\"name\":\"_clear\"}]},{\"extends\":null,\"module\":null,\"name\":\"NotificationArea1\",\"overrides\":[],\"properties\":[{\"default\":[],\"kind\":null,\"name\":\"notifications\"},{\"default\":\"bottom-right\",\"kind\":null,\"name\":\"position\"},{\"default\":0,\"kind\":null,\"name\":\"_clear\"},{\"default\":[{\"background\":\"#ffc107\",\"icon\":{\"className\":\"fas fa-exclamation-triangle\",\"color\":\"white\",\"tagName\":\"i\"},\"type\":\"warning\"},{\"background\":\"#007bff\",\"icon\":{\"className\":\"fas fa-info-circle\",\"color\":\"white\",\"tagName\":\"i\"},\"type\":\"info\"}],\"kind\":null,\"name\":\"types\"}]},{\"extends\":null,\"module\":null,\"name\":\"Notification\",\"overrides\":[],\"properties\":[{\"default\":null,\"kind\":null,\"name\":\"background\"},{\"default\":3000,\"kind\":null,\"name\":\"duration\"},{\"default\":null,\"kind\":null,\"name\":\"icon\"},{\"default\":\"\",\"kind\":null,\"name\":\"message\"},{\"default\":null,\"kind\":null,\"name\":\"notification_type\"},{\"default\":false,\"kind\":null,\"name\":\"_destroyed\"}]},{\"extends\":null,\"module\":null,\"name\":\"TemplateActions1\",\"overrides\":[],\"properties\":[{\"default\":0,\"kind\":null,\"name\":\"open_modal\"},{\"default\":0,\"kind\":null,\"name\":\"close_modal\"}]},{\"extends\":null,\"module\":null,\"name\":\"MaterialTemplateActions1\",\"overrides\":[],\"properties\":[{\"default\":0,\"kind\":null,\"name\":\"open_modal\"},{\"default\":0,\"kind\":null,\"name\":\"close_modal\"}]}],\"roots\":{\"references\":[{\"attributes\":{},\"id\":\"1606\",\"type\":\"Selection\"},{\"attributes\":{\"below\":[{\"id\":\"1580\"}],\"center\":[{\"id\":\"1582\"},{\"id\":\"1586\"}],\"height\":400,\"left\":[{\"id\":\"1583\"}],\"renderers\":[{\"id\":\"1592\"}],\"title\":{\"id\":\"1571\"},\"toolbar\":{\"id\":\"1587\"},\"toolbar_location\":null,\"x_range\":{\"id\":\"1569\"},\"x_scale\":{\"id\":\"1576\"},\"y_range\":{\"id\":\"1574\"},\"y_scale\":{\"id\":\"1578\"}},\"id\":\"1570\",\"subtype\":\"Figure\",\"type\":\"Plot\"},{\"attributes\":{\"data\":{\"counts\":[88.0,96.0,91.0,95.0,95.0,93.0,85.0,86.0,98.0,97.0],\"x\":[[\"blue\",\"control\"],[\"blue\",\"dehydration\"],[\"green\",\"control\"],[\"green\",\"dehydration\"],[\"orange\",\"control\"],[\"orange\",\"dehydration\"],[\"pink\",\"control\"],[\"pink\",\"dehydration\"],[\"red\",\"control\"],[\"red\",\"dehydration\"]]},\"selected\":{\"id\":\"1606\"},\"selection_policy\":{\"id\":\"1605\"}},\"id\":\"1568\",\"type\":\"ColumnDataSource\"},{\"attributes\":{},\"id\":\"1576\",\"type\":\"CategoricalScale\"},{\"attributes\":{},\"id\":\"1578\",\"type\":\"LinearScale\"},{\"attributes\":{\"children\":[{\"id\":\"1595\"},{\"id\":\"1597\"}],\"margin\":[0,0,0,0],\"name\":\"Column00811\"},\"id\":\"1594\",\"type\":\"Column\"},{\"attributes\":{\"fill_color\":{\"field\":\"x\",\"transform\":{\"id\":\"1567\"}},\"line_color\":{\"value\":\"#1f77b4\"},\"top\":{\"field\":\"counts\"},\"width\":{\"value\":0.9},\"x\":{\"field\":\"x\"}},\"id\":\"1589\",\"type\":\"VBar\"},{\"attributes\":{\"children\":[{\"id\":\"1570\"}],\"margin\":[0,0,0,0],\"name\":\"Row00815\"},\"id\":\"1597\",\"type\":\"Row\"},{\"attributes\":{\"margin\":[5,10,5,10],\"options\":[\"correct\",\"incorrect\"],\"title\":\"answer_type\",\"value\":\"correct\"},\"id\":\"1596\",\"type\":\"panel.models.widgets.CustomSelect\"},{\"attributes\":{\"children\":[{\"id\":\"1596\"}],\"margin\":[0,0,0,0],\"name\":\"Column00816\"},\"id\":\"1595\",\"type\":\"Column\"},{\"attributes\":{\"fill_alpha\":{\"value\":0.2},\"fill_color\":{\"field\":\"x\",\"transform\":{\"id\":\"1567\"}},\"hatch_alpha\":{\"value\":0.2},\"line_alpha\":{\"value\":0.2},\"line_color\":{\"value\":\"#1f77b4\"},\"top\":{\"field\":\"counts\"},\"width\":{\"value\":0.9},\"x\":{\"field\":\"x\"}},\"id\":\"1591\",\"type\":\"VBar\"},{\"attributes\":{\"coordinates\":null,\"data_source\":{\"id\":\"1568\"},\"glyph\":{\"id\":\"1589\"},\"group\":null,\"hover_glyph\":null,\"muted_glyph\":{\"id\":\"1591\"},\"nonselection_glyph\":{\"id\":\"1590\"},\"view\":{\"id\":\"1593\"}},\"id\":\"1592\",\"type\":\"GlyphRenderer\"},{\"attributes\":{\"factors\":[[\"blue\",\"control\"],[\"blue\",\"dehydration\"],[\"green\",\"control\"],[\"green\",\"dehydration\"],[\"orange\",\"control\"],[\"orange\",\"dehydration\"],[\"pink\",\"control\"],[\"pink\",\"dehydration\"],[\"red\",\"control\"],[\"red\",\"dehydration\"]],\"range_padding\":0.1},\"id\":\"1569\",\"type\":\"FactorRange\"},{\"attributes\":{\"axis_label\":\"Percentage\",\"coordinates\":null,\"formatter\":{\"id\":\"1600\"},\"group\":null,\"major_label_policy\":{\"id\":\"1601\"},\"ticker\":{\"id\":\"1584\"}},\"id\":\"1583\",\"type\":\"LinearAxis\"},{\"attributes\":{\"axis\":{\"id\":\"1583\"},\"coordinates\":null,\"dimension\":1,\"group\":null,\"ticker\":null},\"id\":\"1586\",\"type\":\"Grid\"},{\"attributes\":{},\"id\":\"1605\",\"type\":\"UnionRenderers\"},{\"attributes\":{},\"id\":\"1604\",\"type\":\"AllLabels\"},{\"attributes\":{\"axis\":{\"id\":\"1580\"},\"coordinates\":null,\"grid_line_color\":null,\"group\":null,\"ticker\":null},\"id\":\"1582\",\"type\":\"Grid\"},{\"attributes\":{\"coordinates\":null,\"group\":null,\"text\":\"Percentage of correct answers\"},\"id\":\"1571\",\"type\":\"Title\"},{\"attributes\":{\"source\":{\"id\":\"1568\"}},\"id\":\"1593\",\"type\":\"CDSView\"},{\"attributes\":{},\"id\":\"1581\",\"type\":\"CategoricalTicker\"},{\"attributes\":{},\"id\":\"1601\",\"type\":\"AllLabels\"},{\"attributes\":{},\"id\":\"1584\",\"type\":\"BasicTicker\"},{\"attributes\":{},\"id\":\"1587\",\"type\":\"Toolbar\"},{\"attributes\":{},\"id\":\"1600\",\"type\":\"BasicTickFormatter\"},{\"attributes\":{\"fill_alpha\":{\"value\":0.1},\"fill_color\":{\"field\":\"x\",\"transform\":{\"id\":\"1567\"}},\"hatch_alpha\":{\"value\":0.1},\"line_alpha\":{\"value\":0.1},\"line_color\":{\"value\":\"#1f77b4\"},\"top\":{\"field\":\"counts\"},\"width\":{\"value\":0.9},\"x\":{\"field\":\"x\"}},\"id\":\"1590\",\"type\":\"VBar\"},{\"attributes\":{\"axis_label\":\"participant/session\",\"coordinates\":null,\"formatter\":{\"id\":\"1603\"},\"group\":null,\"major_label_orientation\":1,\"major_label_policy\":{\"id\":\"1604\"},\"ticker\":{\"id\":\"1581\"}},\"id\":\"1580\",\"type\":\"CategoricalAxis\"},{\"attributes\":{\"end\":100},\"id\":\"1574\",\"type\":\"Range1d\"},{\"attributes\":{\"end\":2,\"factors\":[\"dehydration\",\"control\"],\"palette\":[\"salmon\",\"skyblue\"],\"start\":1},\"id\":\"1567\",\"type\":\"CategoricalColorMapper\"},{\"attributes\":{\"client_comm_id\":\"f85fb63ed30b47f1ad9a622ab9e78f05\",\"comm_id\":\"27138f29d54841449f05122c7fe3305e\",\"plot_id\":\"1594\"},\"id\":\"1643\",\"type\":\"panel.models.comm_manager.CommManager\"},{\"attributes\":{},\"id\":\"1603\",\"type\":\"CategoricalTickFormatter\"}],\"root_ids\":[\"1594\",\"1643\"]},\"title\":\"Bokeh Application\",\"version\":\"2.4.3\"}};\n",
       "    var render_items = [{\"docid\":\"c6c6551e-0805-4b61-93b6-6f2ef201486f\",\"root_ids\":[\"1594\"],\"roots\":{\"1594\":\"39e7ae77-1ce8-4dac-a401-8347c5742df4\"}}];\n",
       "    root.Bokeh.embed.embed_items_notebook(docs_json, render_items);\n",
       "  }\n",
       "  if (root.Bokeh !== undefined && root.Bokeh.Panel !== undefined) {\n",
       "    embed_document(root);\n",
       "  } else {\n",
       "    var attempts = 0;\n",
       "    var timer = setInterval(function(root) {\n",
       "      if (root.Bokeh !== undefined && root.Bokeh.Panel !== undefined) {\n",
       "        clearInterval(timer);\n",
       "        embed_document(root);\n",
       "      } else if (document.readyState == \"complete\") {\n",
       "        attempts++;\n",
       "        if (attempts > 200) {\n",
       "          clearInterval(timer);\n",
       "          console.log(\"Bokeh: ERROR: Unable to run BokehJS code because BokehJS library is missing\");\n",
       "        }\n",
       "      }\n",
       "    }, 25, root)\n",
       "  }\n",
       "})(window);</script>"
      ],
      "text/plain": [
       "Column\n",
       "    [0] Column\n",
       "        [0] Select(name='answer_type', options=['correct', 'incorrect'], value='correct')\n",
       "    [1] Row\n",
       "        [0] Bokeh(Figure, name='interactive00810')"
      ]
     },
     "execution_count": 11,
     "metadata": {
      "application/vnd.holoviews_exec.v0+json": {
       "id": "1594"
      }
     },
     "output_type": "execute_result"
    }
   ],
   "source": [
    "def calculate_percentage(flanker_df, answer_type=\"correct\"):\n",
    "    df_all = flanker_df.groupby([\"participant\", \"type\", \"repeat\"]).agg(count=(\"correctness\", \"count\"))\n",
    "    flanker_df = flanker_df[flanker_df[\"correctness\"] == answer_type]\n",
    "    df_correct = flanker_df.groupby([\"participant\", \"type\", \"repeat\"]).agg(count=(\"correctness\", \"count\"))\n",
    "\n",
    "    flanker_df = round(df_correct[\"count\"] * 100 / df_all[\"count\"], 2).rename(\"correctness\").reset_index().fillna(0)\n",
    "    data = flanker_df.groupby(by=[\"participant\", \"type\"])[\n",
    "        \"correctness\"].mean()\n",
    "    return data\n",
    "    \n",
    "def flanker_plot_percentage(answer_type=\"correct\"): \n",
    "    flanker_df = create_flanker_dataframe()\n",
    "    data = calculate_percentage(flanker_df, answer_type)\n",
    "    return show_plot(data, f\"Percentage of {answer_type} answers\", \"participant/session\", \"Percentage\" )\n",
    "\n",
    "\n",
    "\n",
    "answer_types =['correct','incorrect']\n",
    "flanker_percentage = pn.interact(flanker_plot_percentage, answer_type = answer_types)\n",
    "flanker_percentage"
   ]
  },
  {
   "cell_type": "code",
   "execution_count": 12,
   "metadata": {},
   "outputs": [
    {
     "name": "stderr",
     "output_type": "stream",
     "text": [
      "BokehUserWarning: ColumnDataSource's columns must be of the same length. Current lengths: ('index', 9), ('response-time', 9), ('response_hyphen_minus_time', 0)\n"
     ]
    },
    {
     "data": {},
     "metadata": {},
     "output_type": "display_data"
    },
    {
     "data": {
      "application/vnd.holoviews_exec.v0+json": "",
      "text/html": [
       "<div id='1689'>\n",
       "  <div class=\"bk-root\" id=\"c1c24637-640a-4700-851e-baefc25e9aa9\" data-root-id=\"1689\"></div>\n",
       "</div>\n",
       "<script type=\"application/javascript\">(function(root) {\n",
       "  function embed_document(root) {\n",
       "    var docs_json = {\"e6b79147-20e1-47d0-a316-72314d21fdff\":{\"defs\":[{\"extends\":null,\"module\":null,\"name\":\"ReactiveHTML1\",\"overrides\":[],\"properties\":[]},{\"extends\":null,\"module\":null,\"name\":\"FlexBox1\",\"overrides\":[],\"properties\":[{\"default\":\"flex-start\",\"kind\":null,\"name\":\"align_content\"},{\"default\":\"flex-start\",\"kind\":null,\"name\":\"align_items\"},{\"default\":\"row\",\"kind\":null,\"name\":\"flex_direction\"},{\"default\":\"wrap\",\"kind\":null,\"name\":\"flex_wrap\"},{\"default\":\"flex-start\",\"kind\":null,\"name\":\"justify_content\"}]},{\"extends\":null,\"module\":null,\"name\":\"GridStack1\",\"overrides\":[],\"properties\":[{\"default\":\"warn\",\"kind\":null,\"name\":\"mode\"},{\"default\":null,\"kind\":null,\"name\":\"ncols\"},{\"default\":null,\"kind\":null,\"name\":\"nrows\"},{\"default\":true,\"kind\":null,\"name\":\"allow_resize\"},{\"default\":true,\"kind\":null,\"name\":\"allow_drag\"},{\"default\":[],\"kind\":null,\"name\":\"state\"}]},{\"extends\":null,\"module\":null,\"name\":\"click1\",\"overrides\":[],\"properties\":[{\"default\":\"\",\"kind\":null,\"name\":\"terminal_output\"},{\"default\":\"\",\"kind\":null,\"name\":\"debug_name\"},{\"default\":0,\"kind\":null,\"name\":\"clears\"}]},{\"extends\":null,\"module\":null,\"name\":\"NotificationAreaBase1\",\"overrides\":[],\"properties\":[{\"default\":\"bottom-right\",\"kind\":null,\"name\":\"position\"},{\"default\":0,\"kind\":null,\"name\":\"_clear\"}]},{\"extends\":null,\"module\":null,\"name\":\"NotificationArea1\",\"overrides\":[],\"properties\":[{\"default\":[],\"kind\":null,\"name\":\"notifications\"},{\"default\":\"bottom-right\",\"kind\":null,\"name\":\"position\"},{\"default\":0,\"kind\":null,\"name\":\"_clear\"},{\"default\":[{\"background\":\"#ffc107\",\"icon\":{\"className\":\"fas fa-exclamation-triangle\",\"color\":\"white\",\"tagName\":\"i\"},\"type\":\"warning\"},{\"background\":\"#007bff\",\"icon\":{\"className\":\"fas fa-info-circle\",\"color\":\"white\",\"tagName\":\"i\"},\"type\":\"info\"}],\"kind\":null,\"name\":\"types\"}]},{\"extends\":null,\"module\":null,\"name\":\"Notification\",\"overrides\":[],\"properties\":[{\"default\":null,\"kind\":null,\"name\":\"background\"},{\"default\":3000,\"kind\":null,\"name\":\"duration\"},{\"default\":null,\"kind\":null,\"name\":\"icon\"},{\"default\":\"\",\"kind\":null,\"name\":\"message\"},{\"default\":null,\"kind\":null,\"name\":\"notification_type\"},{\"default\":false,\"kind\":null,\"name\":\"_destroyed\"}]},{\"extends\":null,\"module\":null,\"name\":\"TemplateActions1\",\"overrides\":[],\"properties\":[{\"default\":0,\"kind\":null,\"name\":\"open_modal\"},{\"default\":0,\"kind\":null,\"name\":\"close_modal\"}]},{\"extends\":null,\"module\":null,\"name\":\"MaterialTemplateActions1\",\"overrides\":[],\"properties\":[{\"default\":0,\"kind\":null,\"name\":\"open_modal\"},{\"default\":0,\"kind\":null,\"name\":\"close_modal\"}]}],\"roots\":{\"references\":[{\"attributes\":{\"factors\":[\"control\",\"dehydration\"],\"tags\":[[[\"type\",\"type\",null]]]},\"id\":\"1691\",\"type\":\"FactorRange\"},{\"attributes\":{\"line_alpha\":{\"value\":1.0},\"line_cap\":{\"value\":\"butt\"},\"line_color\":{\"value\":\"black\"},\"line_dash\":{\"value\":[]},\"line_dash_offset\":{\"value\":0},\"line_join\":{\"value\":\"bevel\"},\"line_width\":{\"value\":1},\"x0\":{\"field\":\"x0\"},\"x1\":{\"field\":\"x1\"},\"y0\":{\"field\":\"y0\"},\"y1\":{\"field\":\"y1\"}},\"id\":\"1744\",\"type\":\"Segment\"},{\"attributes\":{},\"id\":\"1776\",\"type\":\"Selection\"},{\"attributes\":{\"margin\":[5,5,5,5],\"name\":\"VSpacer00849\",\"sizing_mode\":\"stretch_height\"},\"id\":\"1838\",\"type\":\"Spacer\"},{\"attributes\":{\"x0\":{\"field\":\"x0\"},\"x1\":{\"field\":\"x1\"},\"y0\":{\"field\":\"y0\"},\"y1\":{\"field\":\"y1\"}},\"id\":\"1755\",\"type\":\"Segment\"},{\"attributes\":{},\"id\":\"1703\",\"type\":\"CategoricalTicker\"},{\"attributes\":{},\"id\":\"1711\",\"type\":\"WheelZoomTool\"},{\"attributes\":{\"coordinates\":null,\"data_source\":{\"id\":\"1721\"},\"glyph\":{\"id\":\"1723\"},\"group\":null,\"hover_glyph\":null,\"muted_glyph\":{\"id\":\"1725\"},\"nonselection_glyph\":{\"id\":\"1724\"},\"selection_glyph\":{\"id\":\"1728\"},\"view\":{\"id\":\"1727\"}},\"id\":\"1726\",\"type\":\"GlyphRenderer\"},{\"attributes\":{\"coordinates\":null,\"data_source\":{\"id\":\"1753\"},\"glyph\":{\"id\":\"1755\"},\"group\":null,\"hover_glyph\":null,\"muted_glyph\":{\"id\":\"1757\"},\"nonselection_glyph\":{\"id\":\"1756\"},\"selection_glyph\":{\"id\":\"1760\"},\"view\":{\"id\":\"1759\"}},\"id\":\"1758\",\"type\":\"GlyphRenderer\"},{\"attributes\":{\"bottom\":{\"field\":\"bottom\"},\"fill_alpha\":{\"value\":0.1},\"fill_color\":{\"value\":\"#30a2da\"},\"hatch_alpha\":{\"value\":0.1},\"line_alpha\":{\"value\":0.1},\"top\":{\"field\":\"top\"},\"width\":{\"value\":0.7},\"x\":{\"field\":\"index\"}},\"id\":\"1794\",\"type\":\"VBar\"},{\"attributes\":{},\"id\":\"1710\",\"type\":\"PanTool\"},{\"attributes\":{\"source\":{\"id\":\"1745\"}},\"id\":\"1751\",\"type\":\"CDSView\"},{\"attributes\":{\"line_alpha\":{\"value\":1.0},\"line_cap\":{\"value\":\"butt\"},\"line_color\":{\"value\":\"black\"},\"line_dash\":{\"value\":[]},\"line_dash_offset\":{\"value\":0},\"line_join\":{\"value\":\"bevel\"},\"line_width\":{\"value\":1},\"x0\":{\"field\":\"x0\"},\"x1\":{\"field\":\"x1\"},\"y0\":{\"field\":\"y0\"},\"y1\":{\"field\":\"y1\"}},\"id\":\"1736\",\"type\":\"Segment\"},{\"attributes\":{},\"id\":\"1830\",\"type\":\"UnionRenderers\"},{\"attributes\":{},\"id\":\"1774\",\"type\":\"AllLabels\"},{\"attributes\":{\"line_alpha\":{\"value\":0.1},\"x0\":{\"field\":\"x0\"},\"x1\":{\"field\":\"x1\"},\"y0\":{\"field\":\"y0\"},\"y1\":{\"field\":\"y1\"}},\"id\":\"1748\",\"type\":\"Segment\"},{\"attributes\":{},\"id\":\"1785\",\"type\":\"UnionRenderers\"},{\"attributes\":{},\"id\":\"1773\",\"type\":\"CategoricalTickFormatter\"},{\"attributes\":{\"line_alpha\":{\"value\":0.2},\"x0\":{\"field\":\"x0\"},\"x1\":{\"field\":\"x1\"},\"y0\":{\"field\":\"y0\"},\"y1\":{\"field\":\"y1\"}},\"id\":\"1757\",\"type\":\"Segment\"},{\"attributes\":{\"data\":{\"x0\":[[\"control\",-0.2],[\"dehydration\",-0.2]],\"x1\":[[\"control\",0.2],[\"dehydration\",0.2]],\"y0\":[394.0,385.0],\"y1\":[394.0,385.0]},\"selected\":{\"id\":\"1782\"},\"selection_policy\":{\"id\":\"1781\"}},\"id\":\"1745\",\"type\":\"ColumnDataSource\"},{\"attributes\":{\"source\":{\"id\":\"1721\"}},\"id\":\"1727\",\"type\":\"CDSView\"},{\"attributes\":{\"bottom\":{\"field\":\"bottom\"},\"fill_color\":{\"value\":\"#30a2da\"},\"top\":{\"field\":\"top\"},\"width\":{\"value\":0.7},\"x\":{\"field\":\"index\"}},\"id\":\"1763\",\"type\":\"VBar\"},{\"attributes\":{\"line_alpha\":{\"value\":1.0},\"line_cap\":{\"value\":\"butt\"},\"line_color\":{\"value\":\"black\"},\"line_dash\":{\"value\":[]},\"line_dash_offset\":{\"value\":0},\"line_join\":{\"value\":\"bevel\"},\"line_width\":{\"value\":1},\"x0\":{\"field\":\"x0\"},\"x1\":{\"field\":\"x1\"},\"y0\":{\"field\":\"y0\"},\"y1\":{\"field\":\"y1\"}},\"id\":\"1752\",\"type\":\"Segment\"},{\"attributes\":{\"x0\":{\"field\":\"x0\"},\"x1\":{\"field\":\"x1\"},\"y0\":{\"field\":\"y0\"},\"y1\":{\"field\":\"y1\"}},\"id\":\"1739\",\"type\":\"Segment\"},{\"attributes\":{\"coordinates\":null,\"group\":null,\"items\":[]},\"id\":\"1788\",\"type\":\"Legend\"},{\"attributes\":{},\"id\":\"1781\",\"type\":\"UnionRenderers\"},{\"attributes\":{\"bottom\":{\"field\":\"bottom\"},\"fill_color\":{\"value\":\"#30a2da\"},\"top\":{\"field\":\"top\"},\"width\":{\"value\":0.7},\"x\":{\"field\":\"index\"}},\"id\":\"1793\",\"type\":\"VBar\"},{\"attributes\":{\"line_alpha\":{\"value\":0.1},\"x0\":{\"field\":\"x0\"},\"x1\":{\"field\":\"x1\"},\"y0\":{\"field\":\"y0\"},\"y1\":{\"field\":\"y1\"}},\"id\":\"1732\",\"type\":\"Segment\"},{\"attributes\":{\"line_alpha\":{\"value\":0.1},\"x0\":{\"field\":\"x0\"},\"x1\":{\"field\":\"x1\"},\"y0\":{\"field\":\"y0\"},\"y1\":{\"field\":\"y1\"}},\"id\":\"1756\",\"type\":\"Segment\"},{\"attributes\":{\"fill_alpha\":{\"value\":0.2},\"fill_color\":{\"value\":\"black\"},\"hatch_alpha\":{\"value\":0.2},\"line_alpha\":{\"value\":0.2},\"x\":{\"field\":\"index\"},\"y\":{\"field\":\"response_hyphen_minus_time\"}},\"id\":\"1725\",\"type\":\"Circle\"},{\"attributes\":{\"bottom\":{\"field\":\"bottom\"},\"fill_alpha\":{\"value\":0.2},\"fill_color\":{\"value\":\"#30a2da\"},\"hatch_alpha\":{\"value\":0.2},\"line_alpha\":{\"value\":0.2},\"top\":{\"field\":\"top\"},\"width\":{\"value\":0.7},\"x\":{\"field\":\"index\"}},\"id\":\"1765\",\"type\":\"VBar\"},{\"attributes\":{\"source\":{\"id\":\"1753\"}},\"id\":\"1759\",\"type\":\"CDSView\"},{\"attributes\":{},\"id\":\"1771\",\"type\":\"AllLabels\"},{\"attributes\":{\"children\":[{\"id\":\"1690\"},{\"id\":\"1693\"},{\"id\":\"1833\"},{\"id\":\"1834\"}],\"margin\":[0,0,0,0],\"name\":\"Row00842\"},\"id\":\"1689\",\"type\":\"Row\"},{\"attributes\":{\"coordinates\":null,\"data_source\":{\"id\":\"1761\"},\"glyph\":{\"id\":\"1763\"},\"group\":null,\"hover_glyph\":null,\"muted_glyph\":{\"id\":\"1765\"},\"nonselection_glyph\":{\"id\":\"1764\"},\"selection_glyph\":{\"id\":\"1790\"},\"view\":{\"id\":\"1767\"}},\"id\":\"1766\",\"type\":\"GlyphRenderer\"},{\"attributes\":{\"data\":{\"x0\":[\"control\",\"dehydration\"],\"x1\":[\"control\",\"dehydration\"],\"y0\":{\"__ndarray__\":\"AAAAAACwj0AAAAAAABCPQA==\",\"dtype\":\"float64\",\"order\":\"little\",\"shape\":[2]},\"y1\":{\"__ndarray__\":\"AAAAAADEh0AAAAAAAIqGQA==\",\"dtype\":\"float64\",\"order\":\"little\",\"shape\":[2]}},\"selected\":{\"id\":\"1778\"},\"selection_policy\":{\"id\":\"1777\"}},\"id\":\"1729\",\"type\":\"ColumnDataSource\"},{\"attributes\":{},\"id\":\"1782\",\"type\":\"Selection\"},{\"attributes\":{},\"id\":\"1698\",\"type\":\"CategoricalScale\"},{\"attributes\":{\"axis\":{\"id\":\"1705\"},\"coordinates\":null,\"dimension\":1,\"grid_line_color\":null,\"group\":null,\"ticker\":null},\"id\":\"1708\",\"type\":\"Grid\"},{\"attributes\":{\"margin\":[5,5,5,5],\"name\":\"VSpacer00848\",\"sizing_mode\":\"stretch_height\"},\"id\":\"1835\",\"type\":\"Spacer\"},{\"attributes\":{\"source\":{\"id\":\"1729\"}},\"id\":\"1735\",\"type\":\"CDSView\"},{\"attributes\":{},\"id\":\"1770\",\"type\":\"BasicTickFormatter\"},{\"attributes\":{\"fill_alpha\":{\"value\":0.1},\"fill_color\":{\"value\":\"black\"},\"hatch_alpha\":{\"value\":0.1},\"line_alpha\":{\"value\":0.1},\"x\":{\"field\":\"index\"},\"y\":{\"field\":\"response_hyphen_minus_time\"}},\"id\":\"1724\",\"type\":\"Circle\"},{\"attributes\":{\"axis\":{\"id\":\"1702\"},\"coordinates\":null,\"grid_line_color\":null,\"group\":null,\"ticker\":null},\"id\":\"1704\",\"type\":\"Grid\"},{\"attributes\":{\"bottom\":{\"field\":\"bottom\"},\"fill_alpha\":{\"value\":0.1},\"fill_color\":{\"value\":\"#30a2da\"},\"hatch_alpha\":{\"value\":0.1},\"line_alpha\":{\"value\":0.1},\"top\":{\"field\":\"top\"},\"width\":{\"value\":0.7},\"x\":{\"field\":\"index\"}},\"id\":\"1764\",\"type\":\"VBar\"},{\"attributes\":{\"below\":[{\"id\":\"1702\"}],\"center\":[{\"id\":\"1704\"},{\"id\":\"1708\"},{\"id\":\"1788\"}],\"height\":400,\"left\":[{\"id\":\"1705\"}],\"margin\":[5,5,5,5],\"min_border_bottom\":10,\"min_border_left\":10,\"min_border_right\":10,\"min_border_top\":10,\"renderers\":[{\"id\":\"1726\"},{\"id\":\"1734\"},{\"id\":\"1742\"},{\"id\":\"1750\"},{\"id\":\"1758\"},{\"id\":\"1766\"},{\"id\":\"1796\"}],\"sizing_mode\":\"fixed\",\"title\":{\"id\":\"1694\"},\"toolbar\":{\"id\":\"1715\"},\"width\":400,\"x_range\":{\"id\":\"1691\"},\"x_scale\":{\"id\":\"1698\"},\"y_range\":{\"id\":\"1692\"},\"y_scale\":{\"id\":\"1700\"}},\"id\":\"1693\",\"subtype\":\"Figure\",\"type\":\"Plot\"},{\"attributes\":{\"source\":{\"id\":\"1761\"}},\"id\":\"1767\",\"type\":\"CDSView\"},{\"attributes\":{\"data\":{\"x0\":[\"control\",\"dehydration\"],\"x1\":[\"control\",\"dehydration\"],\"y0\":{\"__ndarray__\":\"AAAAAACgeEAAAAAAABB4QA==\",\"dtype\":\"float64\",\"order\":\"little\",\"shape\":[2]},\"y1\":{\"__ndarray__\":\"AAAAAAAUgEAAAAAAAFKAQA==\",\"dtype\":\"float64\",\"order\":\"little\",\"shape\":[2]}},\"selected\":{\"id\":\"1780\"},\"selection_policy\":{\"id\":\"1779\"}},\"id\":\"1737\",\"type\":\"ColumnDataSource\"},{\"attributes\":{},\"id\":\"1779\",\"type\":\"UnionRenderers\"},{\"attributes\":{},\"id\":\"1783\",\"type\":\"UnionRenderers\"},{\"attributes\":{\"data\":{\"index\":[\"control\",\"control\",\"control\",\"control\",\"control\",\"dehydration\",\"dehydration\",\"dehydration\",\"dehydration\"],\"response-time\":{\"__ndarray__\":\"AAAAAADglEAAAAAAABSWQAAAAAAAGJRAAAAAAABkk0AAAAAAAKCTQAAAAAAAwJJAAAAAAAAQkkAAAAAAABiYQAAAAAAAPJpA\",\"dtype\":\"float64\",\"order\":\"little\",\"shape\":[9]},\"response_hyphen_minus_time\":{\"__ndarray__\":\"\",\"dtype\":\"float64\",\"order\":\"little\",\"shape\":[0]}},\"selected\":{\"id\":\"1776\"},\"selection_policy\":{\"id\":\"1775\"}},\"id\":\"1721\",\"type\":\"ColumnDataSource\"},{\"attributes\":{\"bottom\":{\"field\":\"bottom\"},\"fill_alpha\":{\"value\":1.0},\"fill_color\":{\"value\":\"#30a2da\"},\"hatch_alpha\":{\"value\":1.0},\"hatch_color\":{\"value\":\"black\"},\"hatch_scale\":{\"value\":12.0},\"hatch_weight\":{\"value\":1.0},\"line_alpha\":{\"value\":1.0},\"line_cap\":{\"value\":\"butt\"},\"line_color\":{\"value\":\"black\"},\"line_dash\":{\"value\":[]},\"line_dash_offset\":{\"value\":0},\"line_join\":{\"value\":\"bevel\"},\"line_width\":{\"value\":1},\"top\":{\"field\":\"top\"},\"width\":{\"value\":0.7},\"x\":{\"field\":\"index\"}},\"id\":\"1798\",\"type\":\"VBar\"},{\"attributes\":{\"coordinates\":null,\"data_source\":{\"id\":\"1729\"},\"glyph\":{\"id\":\"1731\"},\"group\":null,\"hover_glyph\":null,\"muted_glyph\":{\"id\":\"1733\"},\"nonselection_glyph\":{\"id\":\"1732\"},\"selection_glyph\":{\"id\":\"1736\"},\"view\":{\"id\":\"1735\"}},\"id\":\"1734\",\"type\":\"GlyphRenderer\"},{\"attributes\":{\"angle\":{\"value\":0.0},\"fill_alpha\":{\"value\":1.0},\"fill_color\":{\"value\":\"black\"},\"hatch_alpha\":{\"value\":1.0},\"hatch_color\":{\"value\":\"black\"},\"hatch_scale\":{\"value\":12.0},\"hatch_weight\":{\"value\":1.0},\"line_alpha\":{\"value\":1.0},\"line_cap\":{\"value\":\"butt\"},\"line_color\":{\"value\":\"black\"},\"line_dash\":{\"value\":[]},\"line_dash_offset\":{\"value\":0},\"line_join\":{\"value\":\"bevel\"},\"line_width\":{\"value\":1},\"size\":{\"value\":4},\"x\":{\"field\":\"index\"},\"y\":{\"field\":\"response_hyphen_minus_time\"}},\"id\":\"1728\",\"type\":\"Circle\"},{\"attributes\":{},\"id\":\"1775\",\"type\":\"UnionRenderers\"},{\"attributes\":{\"bottom\":{\"field\":\"bottom\"},\"fill_alpha\":{\"value\":0.2},\"fill_color\":{\"value\":\"#30a2da\"},\"hatch_alpha\":{\"value\":0.2},\"line_alpha\":{\"value\":0.2},\"top\":{\"field\":\"top\"},\"width\":{\"value\":0.7},\"x\":{\"field\":\"index\"}},\"id\":\"1795\",\"type\":\"VBar\"},{\"attributes\":{},\"id\":\"1784\",\"type\":\"Selection\"},{\"attributes\":{\"margin\":[5,5,5,5],\"name\":\"HSpacer00851\",\"sizing_mode\":\"stretch_width\"},\"id\":\"1690\",\"type\":\"Spacer\"},{\"attributes\":{\"coordinates\":null,\"data_source\":{\"id\":\"1737\"},\"glyph\":{\"id\":\"1739\"},\"group\":null,\"hover_glyph\":null,\"muted_glyph\":{\"id\":\"1741\"},\"nonselection_glyph\":{\"id\":\"1740\"},\"selection_glyph\":{\"id\":\"1744\"},\"view\":{\"id\":\"1743\"}},\"id\":\"1742\",\"type\":\"GlyphRenderer\"},{\"attributes\":{\"client_comm_id\":\"d0daff7e2cae4a258e7b3c349eb29e60\",\"comm_id\":\"fbd269a70991415e96ede6a546401850\",\"plot_id\":\"1689\"},\"id\":\"1905\",\"type\":\"panel.models.comm_manager.CommManager\"},{\"attributes\":{\"coordinates\":null,\"data_source\":{\"id\":\"1745\"},\"glyph\":{\"id\":\"1747\"},\"group\":null,\"hover_glyph\":null,\"muted_glyph\":{\"id\":\"1749\"},\"nonselection_glyph\":{\"id\":\"1748\"},\"selection_glyph\":{\"id\":\"1752\"},\"view\":{\"id\":\"1751\"}},\"id\":\"1750\",\"type\":\"GlyphRenderer\"},{\"attributes\":{\"axis_label\":\"Session Type\",\"coordinates\":null,\"formatter\":{\"id\":\"1773\"},\"group\":null,\"major_label_policy\":{\"id\":\"1774\"},\"ticker\":{\"id\":\"1703\"}},\"id\":\"1702\",\"type\":\"CategoricalAxis\"},{\"attributes\":{\"data\":{\"bottom\":{\"__ndarray__\":\"AAAAAADEh0AAAAAAAIqGQA==\",\"dtype\":\"float64\",\"order\":\"little\",\"shape\":[2]},\"index\":[\"control\",\"dehydration\"],\"top\":{\"__ndarray__\":\"AAAAAACIg0AAAAAAAGCDQA==\",\"dtype\":\"float64\",\"order\":\"little\",\"shape\":[2]}},\"selected\":{\"id\":\"1786\"},\"selection_policy\":{\"id\":\"1785\"}},\"id\":\"1761\",\"type\":\"ColumnDataSource\"},{\"attributes\":{\"data\":{\"x0\":[[\"control\",-0.2],[\"dehydration\",-0.2]],\"x1\":[[\"control\",0.2],[\"dehydration\",0.2]],\"y0\":[1014.0,994.0],\"y1\":[1014.0,994.0]},\"selected\":{\"id\":\"1784\"},\"selection_policy\":{\"id\":\"1783\"}},\"id\":\"1753\",\"type\":\"ColumnDataSource\"},{\"attributes\":{\"children\":[{\"id\":\"1837\"}],\"css_classes\":[\"panel-widget-box\"],\"margin\":[5,5,5,5],\"name\":\"WidgetBox00843\"},\"id\":\"1836\",\"type\":\"Column\"},{\"attributes\":{},\"id\":\"1780\",\"type\":\"Selection\"},{\"attributes\":{\"tools\":[{\"id\":\"1709\"},{\"id\":\"1710\"},{\"id\":\"1711\"},{\"id\":\"1712\"},{\"id\":\"1713\"}]},\"id\":\"1715\",\"type\":\"Toolbar\"},{\"attributes\":{\"x0\":{\"field\":\"x0\"},\"x1\":{\"field\":\"x1\"},\"y0\":{\"field\":\"y0\"},\"y1\":{\"field\":\"y1\"}},\"id\":\"1731\",\"type\":\"Segment\"},{\"attributes\":{\"line_alpha\":{\"value\":0.1},\"x0\":{\"field\":\"x0\"},\"x1\":{\"field\":\"x1\"},\"y0\":{\"field\":\"y0\"},\"y1\":{\"field\":\"y1\"}},\"id\":\"1740\",\"type\":\"Segment\"},{\"attributes\":{\"coordinates\":null,\"group\":null,\"text\":\"Reaction time for correct responses\",\"text_color\":\"black\",\"text_font_size\":\"12pt\"},\"id\":\"1694\",\"type\":\"Title\"},{\"attributes\":{\"line_alpha\":{\"value\":0.2},\"x0\":{\"field\":\"x0\"},\"x1\":{\"field\":\"x1\"},\"y0\":{\"field\":\"y0\"},\"y1\":{\"field\":\"y1\"}},\"id\":\"1733\",\"type\":\"Segment\"},{\"attributes\":{\"line_alpha\":{\"value\":0.2},\"x0\":{\"field\":\"x0\"},\"x1\":{\"field\":\"x1\"},\"y0\":{\"field\":\"y0\"},\"y1\":{\"field\":\"y1\"}},\"id\":\"1749\",\"type\":\"Segment\"},{\"attributes\":{\"end\":1808.4,\"reset_end\":1808.4,\"reset_start\":255.6,\"start\":255.6,\"tags\":[[[\"response-time\",\"response-time\",null]]]},\"id\":\"1692\",\"type\":\"Range1d\"},{\"attributes\":{\"data\":{\"bottom\":{\"__ndarray__\":\"AAAAAACIg0AAAAAAAGCDQA==\",\"dtype\":\"float64\",\"order\":\"little\",\"shape\":[2]},\"index\":[\"control\",\"dehydration\"],\"top\":{\"__ndarray__\":\"AAAAAAAUgEAAAAAAAFKAQA==\",\"dtype\":\"float64\",\"order\":\"little\",\"shape\":[2]}},\"selected\":{\"id\":\"1831\"},\"selection_policy\":{\"id\":\"1830\"}},\"id\":\"1791\",\"type\":\"ColumnDataSource\"},{\"attributes\":{\"source\":{\"id\":\"1791\"}},\"id\":\"1797\",\"type\":\"CDSView\"},{\"attributes\":{\"line_alpha\":{\"value\":0.2},\"x0\":{\"field\":\"x0\"},\"x1\":{\"field\":\"x1\"},\"y0\":{\"field\":\"y0\"},\"y1\":{\"field\":\"y1\"}},\"id\":\"1741\",\"type\":\"Segment\"},{\"attributes\":{\"line_alpha\":{\"value\":1.0},\"line_cap\":{\"value\":\"butt\"},\"line_color\":{\"value\":\"black\"},\"line_dash\":{\"value\":[]},\"line_dash_offset\":{\"value\":0},\"line_join\":{\"value\":\"bevel\"},\"line_width\":{\"value\":1},\"x0\":{\"field\":\"x0\"},\"x1\":{\"field\":\"x1\"},\"y0\":{\"field\":\"y0\"},\"y1\":{\"field\":\"y1\"}},\"id\":\"1760\",\"type\":\"Segment\"},{\"attributes\":{},\"id\":\"1713\",\"type\":\"ResetTool\"},{\"attributes\":{\"source\":{\"id\":\"1737\"}},\"id\":\"1743\",\"type\":\"CDSView\"},{\"attributes\":{},\"id\":\"1778\",\"type\":\"Selection\"},{\"attributes\":{},\"id\":\"1700\",\"type\":\"LinearScale\"},{\"attributes\":{},\"id\":\"1706\",\"type\":\"BasicTicker\"},{\"attributes\":{\"bottom_units\":\"screen\",\"coordinates\":null,\"fill_alpha\":0.5,\"fill_color\":\"lightgrey\",\"group\":null,\"left_units\":\"screen\",\"level\":\"overlay\",\"line_alpha\":1.0,\"line_color\":\"black\",\"line_dash\":[4,4],\"line_width\":2,\"right_units\":\"screen\",\"syncable\":false,\"top_units\":\"screen\"},\"id\":\"1714\",\"type\":\"BoxAnnotation\"},{\"attributes\":{},\"id\":\"1777\",\"type\":\"UnionRenderers\"},{\"attributes\":{\"children\":[{\"id\":\"1835\"},{\"id\":\"1836\"},{\"id\":\"1838\"}],\"margin\":[0,0,0,0],\"name\":\"Column00850\"},\"id\":\"1834\",\"type\":\"Column\"},{\"attributes\":{\"overlay\":{\"id\":\"1714\"}},\"id\":\"1712\",\"type\":\"BoxZoomTool\"},{\"attributes\":{\"x0\":{\"field\":\"x0\"},\"x1\":{\"field\":\"x1\"},\"y0\":{\"field\":\"y0\"},\"y1\":{\"field\":\"y1\"}},\"id\":\"1747\",\"type\":\"Segment\"},{\"attributes\":{\"bottom\":{\"field\":\"bottom\"},\"fill_alpha\":{\"value\":1.0},\"fill_color\":{\"value\":\"#30a2da\"},\"hatch_alpha\":{\"value\":1.0},\"hatch_color\":{\"value\":\"black\"},\"hatch_scale\":{\"value\":12.0},\"hatch_weight\":{\"value\":1.0},\"line_alpha\":{\"value\":1.0},\"line_cap\":{\"value\":\"butt\"},\"line_color\":{\"value\":\"black\"},\"line_dash\":{\"value\":[]},\"line_dash_offset\":{\"value\":0},\"line_join\":{\"value\":\"bevel\"},\"line_width\":{\"value\":1},\"top\":{\"field\":\"top\"},\"width\":{\"value\":0.7},\"x\":{\"field\":\"index\"}},\"id\":\"1790\",\"type\":\"VBar\"},{\"attributes\":{},\"id\":\"1786\",\"type\":\"Selection\"},{\"attributes\":{\"axis_label\":\"Resopnse Time (ms)\",\"coordinates\":null,\"formatter\":{\"id\":\"1770\"},\"group\":null,\"major_label_policy\":{\"id\":\"1771\"},\"ticker\":{\"id\":\"1706\"}},\"id\":\"1705\",\"type\":\"LinearAxis\"},{\"attributes\":{\"coordinates\":null,\"data_source\":{\"id\":\"1791\"},\"glyph\":{\"id\":\"1793\"},\"group\":null,\"hover_glyph\":null,\"muted_glyph\":{\"id\":\"1795\"},\"nonselection_glyph\":{\"id\":\"1794\"},\"selection_glyph\":{\"id\":\"1798\"},\"view\":{\"id\":\"1797\"}},\"id\":\"1796\",\"type\":\"GlyphRenderer\"},{\"attributes\":{\"margin\":[5,5,5,5],\"name\":\"HSpacer00852\",\"sizing_mode\":\"stretch_width\"},\"id\":\"1833\",\"type\":\"Spacer\"},{\"attributes\":{\"margin\":[20,20,20,20],\"min_width\":250,\"options\":[\"blue\",\"green\",\"red\",\"pink\",\"orange\"],\"title\":\"participant\",\"value\":\"blue\",\"width\":250},\"id\":\"1837\",\"type\":\"panel.models.widgets.CustomSelect\"},{\"attributes\":{},\"id\":\"1709\",\"type\":\"SaveTool\"},{\"attributes\":{},\"id\":\"1831\",\"type\":\"Selection\"},{\"attributes\":{\"fill_color\":{\"value\":\"black\"},\"x\":{\"field\":\"index\"},\"y\":{\"field\":\"response_hyphen_minus_time\"}},\"id\":\"1723\",\"type\":\"Circle\"}],\"root_ids\":[\"1689\",\"1905\"]},\"title\":\"Bokeh Application\",\"version\":\"2.4.3\"}};\n",
       "    var render_items = [{\"docid\":\"e6b79147-20e1-47d0-a316-72314d21fdff\",\"root_ids\":[\"1689\"],\"roots\":{\"1689\":\"c1c24637-640a-4700-851e-baefc25e9aa9\"}}];\n",
       "    root.Bokeh.embed.embed_items_notebook(docs_json, render_items);\n",
       "  }\n",
       "  if (root.Bokeh !== undefined && root.Bokeh.Panel !== undefined) {\n",
       "    embed_document(root);\n",
       "  } else {\n",
       "    var attempts = 0;\n",
       "    var timer = setInterval(function(root) {\n",
       "      if (root.Bokeh !== undefined && root.Bokeh.Panel !== undefined) {\n",
       "        clearInterval(timer);\n",
       "        embed_document(root);\n",
       "      } else if (document.readyState == \"complete\") {\n",
       "        attempts++;\n",
       "        if (attempts > 200) {\n",
       "          clearInterval(timer);\n",
       "          console.log(\"Bokeh: ERROR: Unable to run BokehJS code because BokehJS library is missing\");\n",
       "        }\n",
       "      }\n",
       "    }, 25, root)\n",
       "  }\n",
       "})(window);</script>"
      ],
      "text/plain": [
       ":DynamicMap   [participant]\n",
       "   :BoxWhisker   [type]   (response-time)"
      ]
     },
     "execution_count": 12,
     "metadata": {
      "application/vnd.holoviews_exec.v0+json": {
       "id": "1689"
      }
     },
     "output_type": "execute_result"
    }
   ],
   "source": [
    "flanker_df = create_flanker_dataframe()\n",
    "#dfi = flanker_df.interactive(loc='top').to_dataframe()\n",
    "Flanker_test_boxplot = flanker_df[flanker_df['correctness'] == 'correct'][\n",
    "    [\n",
    "        'response-time', \n",
    "        'participant', \n",
    "        'type'\n",
    "    ]].hvplot.box(\n",
    "        by='type', \n",
    "        groupby='participant',\n",
    "        title='Reaction time for correct responses',\n",
    "        xlabel='Session Type', \n",
    "        ylabel='Resopnse Time (ms)',height=400, width=400)\n",
    "    \n",
    "Flanker_test_boxplot"
   ]
  },
  {
   "cell_type": "markdown",
   "metadata": {},
   "source": [
    "## Error Plot"
   ]
  },
  {
   "cell_type": "code",
   "execution_count": 13,
   "metadata": {},
   "outputs": [
    {
     "data": {},
     "metadata": {},
     "output_type": "display_data"
    },
    {
     "data": {
      "application/vnd.holoviews_exec.v0+json": "",
      "text/html": [
       "<div id='2050'>\n",
       "  <div class=\"bk-root\" id=\"57abfe0e-f786-4a07-b8a3-0ce3f1d5b26c\" data-root-id=\"2050\"></div>\n",
       "</div>\n",
       "<script type=\"application/javascript\">(function(root) {\n",
       "  function embed_document(root) {\n",
       "    var docs_json = {\"4a0ef4d0-212d-4076-bc6b-cd78902513f8\":{\"defs\":[{\"extends\":null,\"module\":null,\"name\":\"ReactiveHTML1\",\"overrides\":[],\"properties\":[]},{\"extends\":null,\"module\":null,\"name\":\"FlexBox1\",\"overrides\":[],\"properties\":[{\"default\":\"flex-start\",\"kind\":null,\"name\":\"align_content\"},{\"default\":\"flex-start\",\"kind\":null,\"name\":\"align_items\"},{\"default\":\"row\",\"kind\":null,\"name\":\"flex_direction\"},{\"default\":\"wrap\",\"kind\":null,\"name\":\"flex_wrap\"},{\"default\":\"flex-start\",\"kind\":null,\"name\":\"justify_content\"}]},{\"extends\":null,\"module\":null,\"name\":\"GridStack1\",\"overrides\":[],\"properties\":[{\"default\":\"warn\",\"kind\":null,\"name\":\"mode\"},{\"default\":null,\"kind\":null,\"name\":\"ncols\"},{\"default\":null,\"kind\":null,\"name\":\"nrows\"},{\"default\":true,\"kind\":null,\"name\":\"allow_resize\"},{\"default\":true,\"kind\":null,\"name\":\"allow_drag\"},{\"default\":[],\"kind\":null,\"name\":\"state\"}]},{\"extends\":null,\"module\":null,\"name\":\"click1\",\"overrides\":[],\"properties\":[{\"default\":\"\",\"kind\":null,\"name\":\"terminal_output\"},{\"default\":\"\",\"kind\":null,\"name\":\"debug_name\"},{\"default\":0,\"kind\":null,\"name\":\"clears\"}]},{\"extends\":null,\"module\":null,\"name\":\"NotificationAreaBase1\",\"overrides\":[],\"properties\":[{\"default\":\"bottom-right\",\"kind\":null,\"name\":\"position\"},{\"default\":0,\"kind\":null,\"name\":\"_clear\"}]},{\"extends\":null,\"module\":null,\"name\":\"NotificationArea1\",\"overrides\":[],\"properties\":[{\"default\":[],\"kind\":null,\"name\":\"notifications\"},{\"default\":\"bottom-right\",\"kind\":null,\"name\":\"position\"},{\"default\":0,\"kind\":null,\"name\":\"_clear\"},{\"default\":[{\"background\":\"#ffc107\",\"icon\":{\"className\":\"fas fa-exclamation-triangle\",\"color\":\"white\",\"tagName\":\"i\"},\"type\":\"warning\"},{\"background\":\"#007bff\",\"icon\":{\"className\":\"fas fa-info-circle\",\"color\":\"white\",\"tagName\":\"i\"},\"type\":\"info\"}],\"kind\":null,\"name\":\"types\"}]},{\"extends\":null,\"module\":null,\"name\":\"Notification\",\"overrides\":[],\"properties\":[{\"default\":null,\"kind\":null,\"name\":\"background\"},{\"default\":3000,\"kind\":null,\"name\":\"duration\"},{\"default\":null,\"kind\":null,\"name\":\"icon\"},{\"default\":\"\",\"kind\":null,\"name\":\"message\"},{\"default\":null,\"kind\":null,\"name\":\"notification_type\"},{\"default\":false,\"kind\":null,\"name\":\"_destroyed\"}]},{\"extends\":null,\"module\":null,\"name\":\"TemplateActions1\",\"overrides\":[],\"properties\":[{\"default\":0,\"kind\":null,\"name\":\"open_modal\"},{\"default\":0,\"kind\":null,\"name\":\"close_modal\"}]},{\"extends\":null,\"module\":null,\"name\":\"MaterialTemplateActions1\",\"overrides\":[],\"properties\":[{\"default\":0,\"kind\":null,\"name\":\"open_modal\"},{\"default\":0,\"kind\":null,\"name\":\"close_modal\"}]}],\"roots\":{\"references\":[{\"attributes\":{\"children\":[{\"id\":\"2019\"}],\"margin\":[0,0,0,0],\"name\":\"Row01075\"},\"id\":\"2053\",\"type\":\"Row\"},{\"attributes\":{\"fill_color\":{\"field\":\"x\",\"transform\":{\"id\":\"2016\"}},\"line_color\":{\"value\":\"#1f77b4\"},\"top\":{\"field\":\"counts\"},\"width\":{\"value\":0.9},\"x\":{\"field\":\"x\"}},\"id\":\"2038\",\"type\":\"VBar\"},{\"attributes\":{\"axis_label\":\"SE\",\"coordinates\":null,\"formatter\":{\"id\":\"2056\"},\"group\":null,\"major_label_policy\":{\"id\":\"2057\"},\"ticker\":{\"id\":\"2033\"}},\"id\":\"2032\",\"type\":\"LinearAxis\"},{\"attributes\":{},\"id\":\"2066\",\"type\":\"Selection\"},{\"attributes\":{},\"id\":\"2027\",\"type\":\"LinearScale\"},{\"attributes\":{\"data\":{\"lower\":[40.08,46.04,42.56,46.52,46.52,43.56,37.6,43.0,47.04,47.52],\"upper\":[47.92,49.96,48.44,48.48,48.48,49.44,47.4,43.0,50.96,49.48],\"x\":[[\"blue\",\"control\"],[\"blue\",\"dehydration\"],[\"green\",\"control\"],[\"green\",\"dehydration\"],[\"orange\",\"control\"],[\"orange\",\"dehydration\"],[\"pink\",\"control\"],[\"pink\",\"dehydration\"],[\"red\",\"control\"],[\"red\",\"dehydration\"]]},\"selected\":{\"id\":\"2066\"},\"selection_policy\":{\"id\":\"2065\"}},\"id\":\"2043\",\"type\":\"ColumnDataSource\"},{\"attributes\":{},\"id\":\"2065\",\"type\":\"UnionRenderers\"},{\"attributes\":{\"fill_alpha\":{\"value\":0.1},\"fill_color\":{\"field\":\"x\",\"transform\":{\"id\":\"2016\"}},\"hatch_alpha\":{\"value\":0.1},\"line_alpha\":{\"value\":0.1},\"line_color\":{\"value\":\"#1f77b4\"},\"top\":{\"field\":\"counts\"},\"width\":{\"value\":0.9},\"x\":{\"field\":\"x\"}},\"id\":\"2039\",\"type\":\"VBar\"},{\"attributes\":{},\"id\":\"2036\",\"type\":\"Toolbar\"},{\"attributes\":{\"end\":100},\"id\":\"2023\",\"type\":\"Range1d\"},{\"attributes\":{\"data\":{\"counts\":[44.0,48.0,45.5,47.5,47.5,46.5,42.5,43.0,49.0,48.5],\"x\":[[\"blue\",\"control\"],[\"blue\",\"dehydration\"],[\"green\",\"control\"],[\"green\",\"dehydration\"],[\"orange\",\"control\"],[\"orange\",\"dehydration\"],[\"pink\",\"control\"],[\"pink\",\"dehydration\"],[\"red\",\"control\"],[\"red\",\"dehydration\"]]},\"selected\":{\"id\":\"2064\"},\"selection_policy\":{\"id\":\"2063\"}},\"id\":\"2017\",\"type\":\"ColumnDataSource\"},{\"attributes\":{\"coordinates\":null,\"data_source\":{\"id\":\"2017\"},\"glyph\":{\"id\":\"2038\"},\"group\":null,\"hover_glyph\":null,\"muted_glyph\":{\"id\":\"2040\"},\"nonselection_glyph\":{\"id\":\"2039\"},\"view\":{\"id\":\"2042\"}},\"id\":\"2041\",\"type\":\"GlyphRenderer\"},{\"attributes\":{\"axis\":{\"id\":\"2032\"},\"coordinates\":null,\"dimension\":1,\"group\":null,\"ticker\":null},\"id\":\"2035\",\"type\":\"Grid\"},{\"attributes\":{\"line_color\":{\"value\":\"purple\"},\"size\":{\"value\":20}},\"id\":\"2047\",\"type\":\"TeeHead\"},{\"attributes\":{},\"id\":\"2025\",\"type\":\"CategoricalScale\"},{\"attributes\":{\"margin\":[5,10,5,10],\"options\":[\"correct\",\"incorrect\"],\"title\":\"answer_type\",\"value\":\"correct\"},\"id\":\"2052\",\"type\":\"panel.models.widgets.CustomSelect\"},{\"attributes\":{\"axis_label\":\"participant/session\",\"coordinates\":null,\"formatter\":{\"id\":\"2059\"},\"group\":null,\"major_label_orientation\":1,\"major_label_policy\":{\"id\":\"2060\"},\"ticker\":{\"id\":\"2030\"}},\"id\":\"2029\",\"type\":\"CategoricalAxis\"},{\"attributes\":{},\"id\":\"2057\",\"type\":\"AllLabels\"},{\"attributes\":{},\"id\":\"2033\",\"type\":\"BasicTicker\"},{\"attributes\":{\"end\":2,\"factors\":[\"dehydration\",\"control\"],\"palette\":[\"salmon\",\"skyblue\"],\"start\":1},\"id\":\"2016\",\"type\":\"CategoricalColorMapper\"},{\"attributes\":{\"factors\":[[\"blue\",\"control\"],[\"blue\",\"dehydration\"],[\"green\",\"control\"],[\"green\",\"dehydration\"],[\"orange\",\"control\"],[\"orange\",\"dehydration\"],[\"pink\",\"control\"],[\"pink\",\"dehydration\"],[\"red\",\"control\"],[\"red\",\"dehydration\"]],\"range_padding\":0.1},\"id\":\"2018\",\"type\":\"FactorRange\"},{\"attributes\":{\"below\":[{\"id\":\"2029\"}],\"center\":[{\"id\":\"2031\"},{\"id\":\"2035\"},{\"id\":\"2044\"}],\"height\":400,\"left\":[{\"id\":\"2032\"}],\"renderers\":[{\"id\":\"2041\"}],\"title\":{\"id\":\"2020\"},\"toolbar\":{\"id\":\"2036\"},\"toolbar_location\":null,\"x_range\":{\"id\":\"2018\"},\"x_scale\":{\"id\":\"2025\"},\"y_range\":{\"id\":\"2023\"},\"y_scale\":{\"id\":\"2027\"}},\"id\":\"2019\",\"subtype\":\"Figure\",\"type\":\"Plot\"},{\"attributes\":{\"line_color\":{\"value\":\"purple\"},\"size\":{\"value\":20}},\"id\":\"2046\",\"type\":\"TeeHead\"},{\"attributes\":{},\"id\":\"2060\",\"type\":\"AllLabels\"},{\"attributes\":{},\"id\":\"2064\",\"type\":\"Selection\"},{\"attributes\":{},\"id\":\"2063\",\"type\":\"UnionRenderers\"},{\"attributes\":{\"axis\":{\"id\":\"2029\"},\"coordinates\":null,\"grid_line_color\":null,\"group\":null,\"ticker\":null},\"id\":\"2031\",\"type\":\"Grid\"},{\"attributes\":{\"fill_alpha\":{\"value\":0.2},\"fill_color\":{\"field\":\"x\",\"transform\":{\"id\":\"2016\"}},\"hatch_alpha\":{\"value\":0.2},\"line_alpha\":{\"value\":0.2},\"line_color\":{\"value\":\"#1f77b4\"},\"top\":{\"field\":\"counts\"},\"width\":{\"value\":0.9},\"x\":{\"field\":\"x\"}},\"id\":\"2040\",\"type\":\"VBar\"},{\"attributes\":{\"coordinates\":null,\"group\":null,\"text\":\"Standard Error of correct answers\"},\"id\":\"2020\",\"type\":\"Title\"},{\"attributes\":{},\"id\":\"2056\",\"type\":\"BasicTickFormatter\"},{\"attributes\":{\"base\":{\"field\":\"x\"},\"coordinates\":null,\"group\":null,\"level\":\"overlay\",\"line_color\":{\"value\":\"purple\"},\"lower\":{\"field\":\"lower\"},\"lower_head\":{\"id\":\"2047\"},\"source\":{\"id\":\"2043\"},\"upper\":{\"field\":\"upper\"},\"upper_head\":{\"id\":\"2046\"}},\"id\":\"2044\",\"type\":\"Whisker\"},{\"attributes\":{\"source\":{\"id\":\"2017\"}},\"id\":\"2042\",\"type\":\"CDSView\"},{\"attributes\":{\"children\":[{\"id\":\"2051\"},{\"id\":\"2053\"}],\"margin\":[0,0,0,0],\"name\":\"Column01071\"},\"id\":\"2050\",\"type\":\"Column\"},{\"attributes\":{},\"id\":\"2059\",\"type\":\"CategoricalTickFormatter\"},{\"attributes\":{\"children\":[{\"id\":\"2052\"}],\"margin\":[0,0,0,0],\"name\":\"Column01076\"},\"id\":\"2051\",\"type\":\"Column\"},{\"attributes\":{},\"id\":\"2030\",\"type\":\"CategoricalTicker\"},{\"attributes\":{\"client_comm_id\":\"e648e4b4743a4acf9d0d8dfb1ed85fd6\",\"comm_id\":\"870fcc4a7ba34ac3ac6ea7c5ee9baaf7\",\"plot_id\":\"2050\"},\"id\":\"2119\",\"type\":\"panel.models.comm_manager.CommManager\"}],\"root_ids\":[\"2050\",\"2119\"]},\"title\":\"Bokeh Application\",\"version\":\"2.4.3\"}};\n",
       "    var render_items = [{\"docid\":\"4a0ef4d0-212d-4076-bc6b-cd78902513f8\",\"root_ids\":[\"2050\"],\"roots\":{\"2050\":\"57abfe0e-f786-4a07-b8a3-0ce3f1d5b26c\"}}];\n",
       "    root.Bokeh.embed.embed_items_notebook(docs_json, render_items);\n",
       "  }\n",
       "  if (root.Bokeh !== undefined && root.Bokeh.Panel !== undefined) {\n",
       "    embed_document(root);\n",
       "  } else {\n",
       "    var attempts = 0;\n",
       "    var timer = setInterval(function(root) {\n",
       "      if (root.Bokeh !== undefined && root.Bokeh.Panel !== undefined) {\n",
       "        clearInterval(timer);\n",
       "        embed_document(root);\n",
       "      } else if (document.readyState == \"complete\") {\n",
       "        attempts++;\n",
       "        if (attempts > 200) {\n",
       "          clearInterval(timer);\n",
       "          console.log(\"Bokeh: ERROR: Unable to run BokehJS code because BokehJS library is missing\");\n",
       "        }\n",
       "      }\n",
       "    }, 25, root)\n",
       "  }\n",
       "})(window);</script>"
      ],
      "text/plain": [
       "Column\n",
       "    [0] Column\n",
       "        [0] Select(name='answer_type', options=['correct', 'incorrect'], value='correct')\n",
       "    [1] Row\n",
       "        [0] Bokeh(Figure, name='interactive01070')"
      ]
     },
     "execution_count": 13,
     "metadata": {
      "application/vnd.holoviews_exec.v0+json": {
       "id": "2050"
      }
     },
     "output_type": "execute_result"
    }
   ],
   "source": [
    "def calculate_standard_error(flanker_df, answer_type=\"correct\"):\n",
    "    flanker_df = flanker_df[flanker_df[\"correctness\"] == answer_type]\n",
    "    flanker_df = flanker_df.groupby([\"participant\", \"type\", \"repeat\"])[\"correctness\"].count().reset_index()\n",
    "    df_mean = flanker_df.groupby(by=[\"participant\", \"type\"]).agg(mean=(\"correctness\", \"mean\"))\n",
    "    df_se = flanker_df.groupby(by=[\"participant\", \"type\"]).agg(se=(\"correctness\", \"sem\"))\n",
    "    upper = df_mean[\"mean\"] + 1.96 * df_se[\"se\"]\n",
    "    lower = df_mean[\"mean\"] - 1.96 * df_se[\"se\"]\n",
    "    data = pd.concat([upper.rename(\"upper\"), lower.rename(\"lower\")], axis=1)\n",
    "    return data\n",
    "\n",
    "def plot_standard_error(plot, data):\n",
    "    x = list(data.index.values)\n",
    "    data_map = {\n",
    "        'x': x,\n",
    "        'upper': data[\"upper\"].tolist(),\n",
    "        'lower': data[\"lower\"].tolist()\n",
    "\n",
    "        }\n",
    "    source = ColumnDataSource(data=data_map)\n",
    "\n",
    "    w = Whisker(source=source, base=\"x\", upper=\"upper\", lower=\"lower\", \n",
    "            line_color='purple', level=\"overlay\")\n",
    "    w.upper_head.line_color = 'purple'\n",
    "    w.lower_head.line_color = 'purple'\n",
    "    w.upper_head.size = w.lower_head.size = 20\n",
    "    plot.add_layout(w)\n",
    "    return plot\n",
    "\n",
    "def flanker_plot_error(answer_type=\"correct\"):  # Roya\n",
    "    flanker_df = create_flanker_dataframe()\n",
    "    data = flanker_calculate_counts(flanker_df, answer_type)\n",
    "    data_se = calculate_standard_error(flanker_df, answer_type)\n",
    "    p = show_plot(data, f\"Standard Error of {answer_type} answers\", \"participant/session\", \"SE\" )\n",
    "    p = plot_standard_error(p, data_se)\n",
    "    return p\n",
    "\n",
    "\n",
    "answer_types =['correct','incorrect']\n",
    "inter_plot = pn.interact(flanker_plot_error, answer_type = answer_types)\n",
    "inter_plot"
   ]
  },
  {
   "cell_type": "markdown",
   "metadata": {},
   "source": [
    "### Stroop Test  Analysis"
   ]
  },
  {
   "cell_type": "code",
   "execution_count": 14,
   "metadata": {},
   "outputs": [],
   "source": [
    "def stroop_test(): # Mahdiye\n",
    "    total_dict = create_merged_df(config)\n",
    "    stroop_df = total_dict['stroop']\n",
    "    stroop_df.drop(stroop_df.columns[[3,7]], axis=1, inplace=True)\n",
    "    stroop_df = stroop_df.set_axis(['participant', 'type','repeat','word name','word color',\n",
    "                                    'name_color match','pressed _key','status','reaction_time'], axis=1)\n",
    "    return stroop_df\n",
    "\n",
    "stroop_df = stroop_test()"
   ]
  },
  {
   "cell_type": "code",
   "execution_count": 15,
   "metadata": {},
   "outputs": [
    {
     "data": {
      "text/html": [
       "<div class=\"bk-root\">\n",
       "        <a href=\"https://bokeh.org\" target=\"_blank\" class=\"bk-logo bk-logo-small bk-logo-notebook\"></a>\n",
       "        <span id=\"2185\">Loading BokehJS ...</span>\n",
       "    </div>\n"
      ]
     },
     "metadata": {},
     "output_type": "display_data"
    },
    {
     "data": {
      "application/javascript": "(function(root) {\n  function now() {\n    return new Date();\n  }\n\n  const force = true;\n\n  if (typeof root._bokeh_onload_callbacks === \"undefined\" || force === true) {\n    root._bokeh_onload_callbacks = [];\n    root._bokeh_is_loading = undefined;\n  }\n\nconst JS_MIME_TYPE = 'application/javascript';\n  const HTML_MIME_TYPE = 'text/html';\n  const EXEC_MIME_TYPE = 'application/vnd.bokehjs_exec.v0+json';\n  const CLASS_NAME = 'output_bokeh rendered_html';\n\n  /**\n   * Render data to the DOM node\n   */\n  function render(props, node) {\n    const script = document.createElement(\"script\");\n    node.appendChild(script);\n  }\n\n  /**\n   * Handle when an output is cleared or removed\n   */\n  function handleClearOutput(event, handle) {\n    const cell = handle.cell;\n\n    const id = cell.output_area._bokeh_element_id;\n    const server_id = cell.output_area._bokeh_server_id;\n    // Clean up Bokeh references\n    if (id != null && id in Bokeh.index) {\n      Bokeh.index[id].model.document.clear();\n      delete Bokeh.index[id];\n    }\n\n    if (server_id !== undefined) {\n      // Clean up Bokeh references\n      const cmd_clean = \"from bokeh.io.state import curstate; print(curstate().uuid_to_server['\" + server_id + \"'].get_sessions()[0].document.roots[0]._id)\";\n      cell.notebook.kernel.execute(cmd_clean, {\n        iopub: {\n          output: function(msg) {\n            const id = msg.content.text.trim();\n            if (id in Bokeh.index) {\n              Bokeh.index[id].model.document.clear();\n              delete Bokeh.index[id];\n            }\n          }\n        }\n      });\n      // Destroy server and session\n      const cmd_destroy = \"import bokeh.io.notebook as ion; ion.destroy_server('\" + server_id + \"')\";\n      cell.notebook.kernel.execute(cmd_destroy);\n    }\n  }\n\n  /**\n   * Handle when a new output is added\n   */\n  function handleAddOutput(event, handle) {\n    const output_area = handle.output_area;\n    const output = handle.output;\n\n    // limit handleAddOutput to display_data with EXEC_MIME_TYPE content only\n    if ((output.output_type != \"display_data\") || (!Object.prototype.hasOwnProperty.call(output.data, EXEC_MIME_TYPE))) {\n      return\n    }\n\n    const toinsert = output_area.element.find(\".\" + CLASS_NAME.split(' ')[0]);\n\n    if (output.metadata[EXEC_MIME_TYPE][\"id\"] !== undefined) {\n      toinsert[toinsert.length - 1].firstChild.textContent = output.data[JS_MIME_TYPE];\n      // store reference to embed id on output_area\n      output_area._bokeh_element_id = output.metadata[EXEC_MIME_TYPE][\"id\"];\n    }\n    if (output.metadata[EXEC_MIME_TYPE][\"server_id\"] !== undefined) {\n      const bk_div = document.createElement(\"div\");\n      bk_div.innerHTML = output.data[HTML_MIME_TYPE];\n      const script_attrs = bk_div.children[0].attributes;\n      for (let i = 0; i < script_attrs.length; i++) {\n        toinsert[toinsert.length - 1].firstChild.setAttribute(script_attrs[i].name, script_attrs[i].value);\n        toinsert[toinsert.length - 1].firstChild.textContent = bk_div.children[0].textContent\n      }\n      // store reference to server id on output_area\n      output_area._bokeh_server_id = output.metadata[EXEC_MIME_TYPE][\"server_id\"];\n    }\n  }\n\n  function register_renderer(events, OutputArea) {\n\n    function append_mime(data, metadata, element) {\n      // create a DOM node to render to\n      const toinsert = this.create_output_subarea(\n        metadata,\n        CLASS_NAME,\n        EXEC_MIME_TYPE\n      );\n      this.keyboard_manager.register_events(toinsert);\n      // Render to node\n      const props = {data: data, metadata: metadata[EXEC_MIME_TYPE]};\n      render(props, toinsert[toinsert.length - 1]);\n      element.append(toinsert);\n      return toinsert\n    }\n\n    /* Handle when an output is cleared or removed */\n    events.on('clear_output.CodeCell', handleClearOutput);\n    events.on('delete.Cell', handleClearOutput);\n\n    /* Handle when a new output is added */\n    events.on('output_added.OutputArea', handleAddOutput);\n\n    /**\n     * Register the mime type and append_mime function with output_area\n     */\n    OutputArea.prototype.register_mime_type(EXEC_MIME_TYPE, append_mime, {\n      /* Is output safe? */\n      safe: true,\n      /* Index of renderer in `output_area.display_order` */\n      index: 0\n    });\n  }\n\n  // register the mime type if in Jupyter Notebook environment and previously unregistered\n  if (root.Jupyter !== undefined) {\n    const events = require('base/js/events');\n    const OutputArea = require('notebook/js/outputarea').OutputArea;\n\n    if (OutputArea.prototype.mime_types().indexOf(EXEC_MIME_TYPE) == -1) {\n      register_renderer(events, OutputArea);\n    }\n  }\n  if (typeof (root._bokeh_timeout) === \"undefined\" || force === true) {\n    root._bokeh_timeout = Date.now() + 5000;\n    root._bokeh_failed_load = false;\n  }\n\n  const NB_LOAD_WARNING = {'data': {'text/html':\n     \"<div style='background-color: #fdd'>\\n\"+\n     \"<p>\\n\"+\n     \"BokehJS does not appear to have successfully loaded. If loading BokehJS from CDN, this \\n\"+\n     \"may be due to a slow or bad network connection. Possible fixes:\\n\"+\n     \"</p>\\n\"+\n     \"<ul>\\n\"+\n     \"<li>re-rerun `output_notebook()` to attempt to load from CDN again, or</li>\\n\"+\n     \"<li>use INLINE resources instead, as so:</li>\\n\"+\n     \"</ul>\\n\"+\n     \"<code>\\n\"+\n     \"from bokeh.resources import INLINE\\n\"+\n     \"output_notebook(resources=INLINE)\\n\"+\n     \"</code>\\n\"+\n     \"</div>\"}};\n\n  function display_loaded() {\n    const el = document.getElementById(\"2185\");\n    if (el != null) {\n      el.textContent = \"BokehJS is loading...\";\n    }\n    if (root.Bokeh !== undefined) {\n      if (el != null) {\n        el.textContent = \"BokehJS \" + root.Bokeh.version + \" successfully loaded.\";\n      }\n    } else if (Date.now() < root._bokeh_timeout) {\n      setTimeout(display_loaded, 100)\n    }\n  }\n\n  function run_callbacks() {\n    try {\n      root._bokeh_onload_callbacks.forEach(function(callback) {\n        if (callback != null)\n          callback();\n      });\n    } finally {\n      delete root._bokeh_onload_callbacks\n    }\n    console.debug(\"Bokeh: all callbacks have finished\");\n  }\n\n  function load_libs(css_urls, js_urls, callback) {\n    if (css_urls == null) css_urls = [];\n    if (js_urls == null) js_urls = [];\n\n    root._bokeh_onload_callbacks.push(callback);\n    if (root._bokeh_is_loading > 0) {\n      console.debug(\"Bokeh: BokehJS is being loaded, scheduling callback at\", now());\n      return null;\n    }\n    if (js_urls == null || js_urls.length === 0) {\n      run_callbacks();\n      return null;\n    }\n    console.debug(\"Bokeh: BokehJS not loaded, scheduling load and callback at\", now());\n    root._bokeh_is_loading = css_urls.length + js_urls.length;\n\n    function on_load() {\n      root._bokeh_is_loading--;\n      if (root._bokeh_is_loading === 0) {\n        console.debug(\"Bokeh: all BokehJS libraries/stylesheets loaded\");\n        run_callbacks()\n      }\n    }\n\n    function on_error(url) {\n      console.error(\"failed to load \" + url);\n    }\n\n    for (let i = 0; i < css_urls.length; i++) {\n      const url = css_urls[i];\n      const element = document.createElement(\"link\");\n      element.onload = on_load;\n      element.onerror = on_error.bind(null, url);\n      element.rel = \"stylesheet\";\n      element.type = \"text/css\";\n      element.href = url;\n      console.debug(\"Bokeh: injecting link tag for BokehJS stylesheet: \", url);\n      document.body.appendChild(element);\n    }\n\n    for (let i = 0; i < js_urls.length; i++) {\n      const url = js_urls[i];\n      const element = document.createElement('script');\n      element.onload = on_load;\n      element.onerror = on_error.bind(null, url);\n      element.async = false;\n      element.src = url;\n      console.debug(\"Bokeh: injecting script tag for BokehJS library: \", url);\n      document.head.appendChild(element);\n    }\n  };\n\n  function inject_raw_css(css) {\n    const element = document.createElement(\"style\");\n    element.appendChild(document.createTextNode(css));\n    document.body.appendChild(element);\n  }\n\n  const js_urls = [\"https://cdn.bokeh.org/bokeh/release/bokeh-2.4.3.min.js\", \"https://cdn.bokeh.org/bokeh/release/bokeh-gl-2.4.3.min.js\", \"https://cdn.bokeh.org/bokeh/release/bokeh-widgets-2.4.3.min.js\", \"https://cdn.bokeh.org/bokeh/release/bokeh-tables-2.4.3.min.js\", \"https://cdn.bokeh.org/bokeh/release/bokeh-mathjax-2.4.3.min.js\", \"https://unpkg.com/@holoviz/panel@0.13.1/dist/panel.min.js\"];\n  const css_urls = [];\n\n  const inline_js = [    function(Bokeh) {\n      Bokeh.set_log_level(\"info\");\n    },\nfunction(Bokeh) {\n    }\n  ];\n\n  function run_inline_js() {\n    if (root.Bokeh !== undefined || force === true) {\n          for (let i = 0; i < inline_js.length; i++) {\n      inline_js[i].call(root, root.Bokeh);\n    }\nif (force === true) {\n        display_loaded();\n      }} else if (Date.now() < root._bokeh_timeout) {\n      setTimeout(run_inline_js, 100);\n    } else if (!root._bokeh_failed_load) {\n      console.log(\"Bokeh: BokehJS failed to load within specified timeout.\");\n      root._bokeh_failed_load = true;\n    } else if (force !== true) {\n      const cell = $(document.getElementById(\"2185\")).parents('.cell').data().cell;\n      cell.output_area.append_execute_result(NB_LOAD_WARNING)\n    }\n  }\n\n  if (root._bokeh_is_loading === 0) {\n    console.debug(\"Bokeh: BokehJS loaded, going straight to plotting\");\n    run_inline_js();\n  } else {\n    load_libs(css_urls, js_urls, function() {\n      console.debug(\"Bokeh: BokehJS plotting callback run at\", now());\n      run_inline_js();\n    });\n  }\n}(window));",
      "application/vnd.bokehjs_load.v0+json": ""
     },
     "metadata": {},
     "output_type": "display_data"
    }
   ],
   "source": [
    "from bokeh.io import output_notebook\n",
    "from bokeh.plotting import figure, show\n",
    "from bokeh.models import ColumnDataSource, Whisker\n",
    "import panel as pn\n",
    "from bokeh.io import output_notebook\n",
    "\n",
    "output_notebook()\n",
    "pn.extension()"
   ]
  },
  {
   "cell_type": "code",
   "execution_count": 16,
   "metadata": {},
   "outputs": [
    {
     "data": {},
     "metadata": {},
     "output_type": "display_data"
    },
    {
     "data": {
      "application/vnd.holoviews_exec.v0+json": "",
      "text/html": [
       "<div id='2224'>\n",
       "  <div class=\"bk-root\" id=\"f1f03fe5-35c0-4513-971c-a3918d44a9ed\" data-root-id=\"2224\"></div>\n",
       "</div>\n",
       "<script type=\"application/javascript\">(function(root) {\n",
       "  function embed_document(root) {\n",
       "    var docs_json = {\"07885518-ec64-425d-b871-46a19cd5f7cc\":{\"defs\":[{\"extends\":null,\"module\":null,\"name\":\"ReactiveHTML1\",\"overrides\":[],\"properties\":[]},{\"extends\":null,\"module\":null,\"name\":\"FlexBox1\",\"overrides\":[],\"properties\":[{\"default\":\"flex-start\",\"kind\":null,\"name\":\"align_content\"},{\"default\":\"flex-start\",\"kind\":null,\"name\":\"align_items\"},{\"default\":\"row\",\"kind\":null,\"name\":\"flex_direction\"},{\"default\":\"wrap\",\"kind\":null,\"name\":\"flex_wrap\"},{\"default\":\"flex-start\",\"kind\":null,\"name\":\"justify_content\"}]},{\"extends\":null,\"module\":null,\"name\":\"GridStack1\",\"overrides\":[],\"properties\":[{\"default\":\"warn\",\"kind\":null,\"name\":\"mode\"},{\"default\":null,\"kind\":null,\"name\":\"ncols\"},{\"default\":null,\"kind\":null,\"name\":\"nrows\"},{\"default\":true,\"kind\":null,\"name\":\"allow_resize\"},{\"default\":true,\"kind\":null,\"name\":\"allow_drag\"},{\"default\":[],\"kind\":null,\"name\":\"state\"}]},{\"extends\":null,\"module\":null,\"name\":\"click1\",\"overrides\":[],\"properties\":[{\"default\":\"\",\"kind\":null,\"name\":\"terminal_output\"},{\"default\":\"\",\"kind\":null,\"name\":\"debug_name\"},{\"default\":0,\"kind\":null,\"name\":\"clears\"}]},{\"extends\":null,\"module\":null,\"name\":\"NotificationAreaBase1\",\"overrides\":[],\"properties\":[{\"default\":\"bottom-right\",\"kind\":null,\"name\":\"position\"},{\"default\":0,\"kind\":null,\"name\":\"_clear\"}]},{\"extends\":null,\"module\":null,\"name\":\"NotificationArea1\",\"overrides\":[],\"properties\":[{\"default\":[],\"kind\":null,\"name\":\"notifications\"},{\"default\":\"bottom-right\",\"kind\":null,\"name\":\"position\"},{\"default\":0,\"kind\":null,\"name\":\"_clear\"},{\"default\":[{\"background\":\"#ffc107\",\"icon\":{\"className\":\"fas fa-exclamation-triangle\",\"color\":\"white\",\"tagName\":\"i\"},\"type\":\"warning\"},{\"background\":\"#007bff\",\"icon\":{\"className\":\"fas fa-info-circle\",\"color\":\"white\",\"tagName\":\"i\"},\"type\":\"info\"}],\"kind\":null,\"name\":\"types\"}]},{\"extends\":null,\"module\":null,\"name\":\"Notification\",\"overrides\":[],\"properties\":[{\"default\":null,\"kind\":null,\"name\":\"background\"},{\"default\":3000,\"kind\":null,\"name\":\"duration\"},{\"default\":null,\"kind\":null,\"name\":\"icon\"},{\"default\":\"\",\"kind\":null,\"name\":\"message\"},{\"default\":null,\"kind\":null,\"name\":\"notification_type\"},{\"default\":false,\"kind\":null,\"name\":\"_destroyed\"}]},{\"extends\":null,\"module\":null,\"name\":\"TemplateActions1\",\"overrides\":[],\"properties\":[{\"default\":0,\"kind\":null,\"name\":\"open_modal\"},{\"default\":0,\"kind\":null,\"name\":\"close_modal\"}]},{\"extends\":null,\"module\":null,\"name\":\"MaterialTemplateActions1\",\"overrides\":[],\"properties\":[{\"default\":0,\"kind\":null,\"name\":\"open_modal\"},{\"default\":0,\"kind\":null,\"name\":\"close_modal\"}]}],\"roots\":{\"references\":[{\"attributes\":{\"children\":[{\"id\":\"2225\"},{\"id\":\"2227\"}],\"margin\":[0,0,0,0],\"name\":\"Column01081\"},\"id\":\"2224\",\"type\":\"Column\"},{\"attributes\":{},\"id\":\"2236\",\"type\":\"Selection\"},{\"attributes\":{\"overlay\":{\"id\":\"2210\"}},\"id\":\"2206\",\"type\":\"BoxZoomTool\"},{\"attributes\":{\"children\":[{\"id\":\"2226\"}],\"margin\":[0,0,0,0],\"name\":\"Column01086\"},\"id\":\"2225\",\"type\":\"Column\"},{\"attributes\":{\"below\":[{\"id\":\"2197\"}],\"center\":[{\"id\":\"2199\"},{\"id\":\"2203\"}],\"height\":350,\"left\":[{\"id\":\"2200\"}],\"renderers\":[{\"id\":\"2222\"}],\"title\":{\"id\":\"2187\"},\"toolbar\":{\"id\":\"2211\"},\"toolbar_location\":null,\"x_range\":{\"id\":\"2189\"},\"x_scale\":{\"id\":\"2193\"},\"y_range\":{\"id\":\"2191\"},\"y_scale\":{\"id\":\"2195\"}},\"id\":\"2186\",\"subtype\":\"Figure\",\"type\":\"Plot\"},{\"attributes\":{\"coordinates\":null,\"group\":null,\"text\":\"Stroop Test blue\"},\"id\":\"2187\",\"type\":\"Title\"},{\"attributes\":{\"coordinates\":null,\"data_source\":{\"id\":\"2218\"},\"glyph\":{\"id\":\"2219\"},\"group\":null,\"hover_glyph\":null,\"muted_glyph\":{\"id\":\"2221\"},\"nonselection_glyph\":{\"id\":\"2220\"},\"view\":{\"id\":\"2223\"}},\"id\":\"2222\",\"type\":\"GlyphRenderer\"},{\"attributes\":{\"tools\":[{\"id\":\"2204\"},{\"id\":\"2205\"},{\"id\":\"2206\"},{\"id\":\"2207\"},{\"id\":\"2208\"},{\"id\":\"2209\"}]},\"id\":\"2211\",\"type\":\"Toolbar\"},{\"attributes\":{\"axis\":{\"id\":\"2197\"},\"coordinates\":null,\"group\":null,\"ticker\":null},\"id\":\"2199\",\"type\":\"Grid\"},{\"attributes\":{},\"id\":\"2230\",\"type\":\"BasicTickFormatter\"},{\"attributes\":{},\"id\":\"2193\",\"type\":\"CategoricalScale\"},{\"attributes\":{},\"id\":\"2204\",\"type\":\"PanTool\"},{\"attributes\":{\"factors\":[\"control\",\"dehydration\"]},\"id\":\"2189\",\"type\":\"FactorRange\"},{\"attributes\":{},\"id\":\"2198\",\"type\":\"CategoricalTicker\"},{\"attributes\":{},\"id\":\"2207\",\"type\":\"SaveTool\"},{\"attributes\":{\"data\":{\"top\":[384,355],\"x\":[\"control\",\"dehydration\"]},\"selected\":{\"id\":\"2236\"},\"selection_policy\":{\"id\":\"2235\"}},\"id\":\"2218\",\"type\":\"ColumnDataSource\"},{\"attributes\":{},\"id\":\"2235\",\"type\":\"UnionRenderers\"},{\"attributes\":{\"axis_label\":\"Reaction time(milliseconds)\",\"coordinates\":null,\"formatter\":{\"id\":\"2230\"},\"group\":null,\"major_label_policy\":{\"id\":\"2231\"},\"ticker\":{\"id\":\"2201\"}},\"id\":\"2200\",\"type\":\"LinearAxis\"},{\"attributes\":{\"margin\":[5,10,5,10],\"options\":[\"blue\",\"red\",\"orange\",\"green\",\"pink\"],\"title\":\"participant\",\"value\":\"blue\"},\"id\":\"2226\",\"type\":\"panel.models.widgets.CustomSelect\"},{\"attributes\":{\"fill_color\":{\"value\":\"blue\"},\"hatch_color\":{\"value\":\"blue\"},\"line_color\":{\"value\":\"white\"},\"top\":{\"field\":\"top\"},\"width\":{\"value\":0.5},\"x\":{\"field\":\"x\"}},\"id\":\"2219\",\"type\":\"VBar\"},{\"attributes\":{\"coordinates\":null,\"formatter\":{\"id\":\"2233\"},\"group\":null,\"major_label_policy\":{\"id\":\"2234\"},\"ticker\":{\"id\":\"2198\"}},\"id\":\"2197\",\"type\":\"CategoricalAxis\"},{\"attributes\":{\"axis\":{\"id\":\"2200\"},\"coordinates\":null,\"dimension\":1,\"group\":null,\"ticker\":null},\"id\":\"2203\",\"type\":\"Grid\"},{\"attributes\":{},\"id\":\"2205\",\"type\":\"WheelZoomTool\"},{\"attributes\":{},\"id\":\"2195\",\"type\":\"LinearScale\"},{\"attributes\":{},\"id\":\"2209\",\"type\":\"HelpTool\"},{\"attributes\":{},\"id\":\"2231\",\"type\":\"AllLabels\"},{\"attributes\":{},\"id\":\"2191\",\"type\":\"DataRange1d\"},{\"attributes\":{\"fill_alpha\":{\"value\":0.2},\"fill_color\":{\"value\":\"blue\"},\"hatch_alpha\":{\"value\":0.2},\"hatch_color\":{\"value\":\"blue\"},\"line_alpha\":{\"value\":0.2},\"line_color\":{\"value\":\"white\"},\"top\":{\"field\":\"top\"},\"width\":{\"value\":0.5},\"x\":{\"field\":\"x\"}},\"id\":\"2221\",\"type\":\"VBar\"},{\"attributes\":{\"children\":[{\"id\":\"2186\"}],\"margin\":[0,0,0,0],\"name\":\"Row01085\"},\"id\":\"2227\",\"type\":\"Row\"},{\"attributes\":{\"fill_alpha\":{\"value\":0.1},\"fill_color\":{\"value\":\"blue\"},\"hatch_alpha\":{\"value\":0.1},\"hatch_color\":{\"value\":\"blue\"},\"line_alpha\":{\"value\":0.1},\"line_color\":{\"value\":\"white\"},\"top\":{\"field\":\"top\"},\"width\":{\"value\":0.5},\"x\":{\"field\":\"x\"}},\"id\":\"2220\",\"type\":\"VBar\"},{\"attributes\":{\"source\":{\"id\":\"2218\"}},\"id\":\"2223\",\"type\":\"CDSView\"},{\"attributes\":{\"bottom_units\":\"screen\",\"coordinates\":null,\"fill_alpha\":0.5,\"fill_color\":\"lightgrey\",\"group\":null,\"left_units\":\"screen\",\"level\":\"overlay\",\"line_alpha\":1.0,\"line_color\":\"black\",\"line_dash\":[4,4],\"line_width\":2,\"right_units\":\"screen\",\"syncable\":false,\"top_units\":\"screen\"},\"id\":\"2210\",\"type\":\"BoxAnnotation\"},{\"attributes\":{},\"id\":\"2208\",\"type\":\"ResetTool\"},{\"attributes\":{},\"id\":\"2234\",\"type\":\"AllLabels\"},{\"attributes\":{},\"id\":\"2201\",\"type\":\"BasicTicker\"},{\"attributes\":{},\"id\":\"2233\",\"type\":\"CategoricalTickFormatter\"},{\"attributes\":{\"client_comm_id\":\"6c0a8b9792fd4d308bc30bc06af0fe2b\",\"comm_id\":\"48cb6d31bdbd4e60b64447bf32e91417\",\"plot_id\":\"2224\"},\"id\":\"2278\",\"type\":\"panel.models.comm_manager.CommManager\"}],\"root_ids\":[\"2224\",\"2278\"]},\"title\":\"Bokeh Application\",\"version\":\"2.4.3\"}};\n",
       "    var render_items = [{\"docid\":\"07885518-ec64-425d-b871-46a19cd5f7cc\",\"root_ids\":[\"2224\"],\"roots\":{\"2224\":\"f1f03fe5-35c0-4513-971c-a3918d44a9ed\"}}];\n",
       "    root.Bokeh.embed.embed_items_notebook(docs_json, render_items);\n",
       "  }\n",
       "  if (root.Bokeh !== undefined && root.Bokeh.Panel !== undefined) {\n",
       "    embed_document(root);\n",
       "  } else {\n",
       "    var attempts = 0;\n",
       "    var timer = setInterval(function(root) {\n",
       "      if (root.Bokeh !== undefined && root.Bokeh.Panel !== undefined) {\n",
       "        clearInterval(timer);\n",
       "        embed_document(root);\n",
       "      } else if (document.readyState == \"complete\") {\n",
       "        attempts++;\n",
       "        if (attempts > 200) {\n",
       "          clearInterval(timer);\n",
       "          console.log(\"Bokeh: ERROR: Unable to run BokehJS code because BokehJS library is missing\");\n",
       "        }\n",
       "      }\n",
       "    }, 25, root)\n",
       "  }\n",
       "})(window);</script>"
      ],
      "text/plain": [
       "Column\n",
       "    [0] Column\n",
       "        [0] Select(name='participant', options=['blue', 'red', ...], value='blue')\n",
       "    [1] Row\n",
       "        [0] Bokeh(Figure, name='interactive01080')"
      ]
     },
     "execution_count": 16,
     "metadata": {
      "application/vnd.holoviews_exec.v0+json": {
       "id": "2224"
      }
     },
     "output_type": "execute_result"
    }
   ],
   "source": [
    "def individual_stroop_bar_plot(participant='blue'):\n",
    "    df = stroop_df[stroop_df['participant']==participant]\n",
    "    \n",
    "    dff= df.groupby('type').min().reset_index()\n",
    "    p = figure(x_range=dff['type'], height=350, toolbar_location=None, \n",
    "               title=f'Stroop Test {participant}', y_axis_label=\"Reaction time(milliseconds)\")\n",
    "    p.vbar(x=dff['type'], bottom=0,top=dff['reaction_time'], width=0.5, line_color='white', color=participant)\n",
    "    return p\n",
    "\n",
    "#interactive plots\n",
    "participants_color =['blue','red','orange','green','pink']\n",
    "inter_plot = pn.interact(individual_stroop_bar_plot, participant = participants_color)\n",
    "inter_plot"
   ]
  },
  {
   "cell_type": "code",
   "execution_count": 17,
   "metadata": {},
   "outputs": [
    {
     "data": {},
     "metadata": {},
     "output_type": "display_data"
    },
    {
     "data": {
      "application/vnd.holoviews_exec.v0+json": "",
      "text/html": [
       "<div id='2372'>\n",
       "  <div class=\"bk-root\" id=\"4946623e-6526-4b91-bbde-9d2290d1c002\" data-root-id=\"2372\"></div>\n",
       "</div>\n",
       "<script type=\"application/javascript\">(function(root) {\n",
       "  function embed_document(root) {\n",
       "    var docs_json = {\"571db390-909d-4097-8661-12b94c0de927\":{\"defs\":[{\"extends\":null,\"module\":null,\"name\":\"ReactiveHTML1\",\"overrides\":[],\"properties\":[]},{\"extends\":null,\"module\":null,\"name\":\"FlexBox1\",\"overrides\":[],\"properties\":[{\"default\":\"flex-start\",\"kind\":null,\"name\":\"align_content\"},{\"default\":\"flex-start\",\"kind\":null,\"name\":\"align_items\"},{\"default\":\"row\",\"kind\":null,\"name\":\"flex_direction\"},{\"default\":\"wrap\",\"kind\":null,\"name\":\"flex_wrap\"},{\"default\":\"flex-start\",\"kind\":null,\"name\":\"justify_content\"}]},{\"extends\":null,\"module\":null,\"name\":\"GridStack1\",\"overrides\":[],\"properties\":[{\"default\":\"warn\",\"kind\":null,\"name\":\"mode\"},{\"default\":null,\"kind\":null,\"name\":\"ncols\"},{\"default\":null,\"kind\":null,\"name\":\"nrows\"},{\"default\":true,\"kind\":null,\"name\":\"allow_resize\"},{\"default\":true,\"kind\":null,\"name\":\"allow_drag\"},{\"default\":[],\"kind\":null,\"name\":\"state\"}]},{\"extends\":null,\"module\":null,\"name\":\"click1\",\"overrides\":[],\"properties\":[{\"default\":\"\",\"kind\":null,\"name\":\"terminal_output\"},{\"default\":\"\",\"kind\":null,\"name\":\"debug_name\"},{\"default\":0,\"kind\":null,\"name\":\"clears\"}]},{\"extends\":null,\"module\":null,\"name\":\"NotificationAreaBase1\",\"overrides\":[],\"properties\":[{\"default\":\"bottom-right\",\"kind\":null,\"name\":\"position\"},{\"default\":0,\"kind\":null,\"name\":\"_clear\"}]},{\"extends\":null,\"module\":null,\"name\":\"NotificationArea1\",\"overrides\":[],\"properties\":[{\"default\":[],\"kind\":null,\"name\":\"notifications\"},{\"default\":\"bottom-right\",\"kind\":null,\"name\":\"position\"},{\"default\":0,\"kind\":null,\"name\":\"_clear\"},{\"default\":[{\"background\":\"#ffc107\",\"icon\":{\"className\":\"fas fa-exclamation-triangle\",\"color\":\"white\",\"tagName\":\"i\"},\"type\":\"warning\"},{\"background\":\"#007bff\",\"icon\":{\"className\":\"fas fa-info-circle\",\"color\":\"white\",\"tagName\":\"i\"},\"type\":\"info\"}],\"kind\":null,\"name\":\"types\"}]},{\"extends\":null,\"module\":null,\"name\":\"Notification\",\"overrides\":[],\"properties\":[{\"default\":null,\"kind\":null,\"name\":\"background\"},{\"default\":3000,\"kind\":null,\"name\":\"duration\"},{\"default\":null,\"kind\":null,\"name\":\"icon\"},{\"default\":\"\",\"kind\":null,\"name\":\"message\"},{\"default\":null,\"kind\":null,\"name\":\"notification_type\"},{\"default\":false,\"kind\":null,\"name\":\"_destroyed\"}]},{\"extends\":null,\"module\":null,\"name\":\"TemplateActions1\",\"overrides\":[],\"properties\":[{\"default\":0,\"kind\":null,\"name\":\"open_modal\"},{\"default\":0,\"kind\":null,\"name\":\"close_modal\"}]},{\"extends\":null,\"module\":null,\"name\":\"MaterialTemplateActions1\",\"overrides\":[],\"properties\":[{\"default\":0,\"kind\":null,\"name\":\"open_modal\"},{\"default\":0,\"kind\":null,\"name\":\"close_modal\"}]}],\"roots\":{\"references\":[{\"attributes\":{\"axis_label_text_font_size\":\"12px\",\"coordinates\":null,\"formatter\":{\"id\":\"2381\"},\"group\":null,\"major_label_policy\":{\"id\":\"2382\"},\"major_label_text_font_size\":\"14px\",\"ticker\":{\"id\":\"2342\"}},\"id\":\"2341\",\"type\":\"CategoricalAxis\"},{\"attributes\":{\"fill_alpha\":{\"value\":0.2},\"fill_color\":{\"value\":\"black\"},\"hatch_alpha\":{\"value\":0.2},\"line_alpha\":{\"value\":0.2},\"size\":{\"value\":6},\"x\":{\"field\":\"type\"},\"y\":{\"field\":\"reaction_time\"}},\"id\":\"2369\",\"type\":\"Scatter\"},{\"attributes\":{\"axis_label\":\"Reaction time(milliseconds)\",\"axis_label_text_font_size\":\"12px\",\"coordinates\":null,\"formatter\":{\"id\":\"2378\"},\"group\":null,\"major_label_policy\":{\"id\":\"2379\"},\"major_label_text_font_size\":\"14px\",\"ticker\":{\"id\":\"2345\"}},\"id\":\"2344\",\"type\":\"LinearAxis\"},{\"attributes\":{\"fill_alpha\":{\"value\":0.5},\"fill_color\":{\"value\":\"black\"},\"hatch_alpha\":{\"value\":0.5},\"line_alpha\":{\"value\":0.5},\"size\":{\"value\":6},\"x\":{\"field\":\"type\"},\"y\":{\"field\":\"reaction_time\"}},\"id\":\"2367\",\"type\":\"Scatter\"},{\"attributes\":{\"children\":[{\"id\":\"2330\"}],\"margin\":[0,0,0,0],\"name\":\"Row01094\"},\"id\":\"2375\",\"type\":\"Row\"},{\"attributes\":{},\"id\":\"2387\",\"type\":\"UnionRenderers\"},{\"attributes\":{\"data\":{\"index\":[58,80,84,88,94,146,157,158],\"lower\":{\"__ndarray__\":\"AAAAAACgPcAAAAAAAJJ2QAAAAAAAknZAAAAAAACSdkAAAAAAAJJ2QAAAAAAAknZAAAAAAACSdkAAAAAAAJJ2QA==\",\"dtype\":\"float64\",\"order\":\"little\",\"shape\":[8]},\"name_color match\":[0,0,0,0,0,0,0,0],\"participant\":[\"blue\",\"blue\",\"blue\",\"blue\",\"blue\",\"blue\",\"blue\",\"blue\"],\"pressed _key\":[1,2,3,3,2,2,2,2],\"q1\":{\"__ndarray__\":\"AAAAAADCg0AAAAAAAHCEQAAAAAAAcIRAAAAAAABwhEAAAAAAAHCEQAAAAAAAcIRAAAAAAABwhEAAAAAAAHCEQA==\",\"dtype\":\"float64\",\"order\":\"little\",\"shape\":[8]},\"q2\":{\"__ndarray__\":\"AAAAAADoikAAAAAAABSIQAAAAAAAFIhAAAAAAAAUiEAAAAAAABSIQAAAAAAAFIhAAAAAAAAUiEAAAAAAABSIQA==\",\"dtype\":\"float64\",\"order\":\"little\",\"shape\":[8]},\"q3\":{\"__ndarray__\":\"AAAAAADGkEAAAAAAAIqKQAAAAAAAiopAAAAAAACKikAAAAAAAIqKQAAAAAAAiopAAAAAAACKikAAAAAAAIqKQA==\",\"dtype\":\"float64\",\"order\":\"little\",\"shape\":[8]},\"reaction_time\":[2000,1169,1249,1336,1523,1276,1173,355],\"repeat\":[\"2\",\"1\",\"1\",\"1\",\"1\",\"2\",\"2\",\"2\"],\"status\":[3,1,1,1,1,1,1,1],\"type\":[\"control\",\"dehydration\",\"dehydration\",\"dehydration\",\"dehydration\",\"dehydration\",\"dehydration\",\"dehydration\"],\"upper\":{\"__ndarray__\":\"AAAAAIAdm0AAAAAAgNiRQAAAAACA2JFAAAAAAIDYkUAAAAAAgNiRQAAAAACA2JFAAAAAAIDYkUAAAAAAgNiRQA==\",\"dtype\":\"float64\",\"order\":\"little\",\"shape\":[8]},\"word color\":[\"red\",\"green\",\"blue\",\"blue\",\"green\",\"green\",\"green\",\"green\"],\"word name\":[\"yellow\",\"yellow\",\"red\",\"red\",\"blue\",\"blue\",\"red\",\"blue\"]},\"selected\":{\"id\":\"2388\"},\"selection_policy\":{\"id\":\"2387\"}},\"id\":\"2365\",\"type\":\"ColumnDataSource\"},{\"attributes\":{\"size\":{\"value\":20}},\"id\":\"2352\",\"type\":\"TeeHead\"},{\"attributes\":{\"coordinates\":null,\"data_source\":{\"id\":\"2329\"},\"glyph\":{\"id\":\"2360\"},\"group\":null,\"hover_glyph\":null,\"muted_glyph\":{\"id\":\"2362\"},\"nonselection_glyph\":{\"id\":\"2361\"},\"view\":{\"id\":\"2364\"}},\"id\":\"2363\",\"type\":\"GlyphRenderer\"},{\"attributes\":{\"data\":{\"index\":[0,1,2,3,4,5,6,7,8,9,10,11,12,13,14,15,16,17,18,19,20,21,22,23,24,25,26,27,28,29,30,31,32,33,34,35,36,37,38,39,40,41,42,43,44,45,46,47,48,49,50,51,52,53,54,55,56,57,58,59,60,61,62,63,64,65,66,67,68,69,70,71,72,73,74,75,76,77,78,79,80,81,82,83,84,85,86,87,88,89,90,91,92,93,94,95,96,97,98,99,100,101,102,103,104,105,106,107,108,109,110,111,112,113,114,115,116,117,118,119,120,121,122,123,124,125,126,127,128,129,130,131,132,133,134,135,136,137,138,139,140,141,142,143,144,145,146,147,148,149,150,151,152,153,154,155,156,157,158,159],\"lower\":{\"__ndarray__\":\"AAAAAACgPcAAAAAAAKA9wAAAAAAAoD3AAAAAAACgPcAAAAAAAKA9wAAAAAAAoD3AAAAAAACgPcAAAAAAAKA9wAAAAAAAoD3AAAAAAACgPcAAAAAAAKA9wAAAAAAAoD3AAAAAAACgPcAAAAAAAKA9wAAAAAAAoD3AAAAAAACgPcAAAAAAAKA9wAAAAAAAoD3AAAAAAACgPcAAAAAAAKA9wAAAAAAAoD3AAAAAAACgPcAAAAAAAKA9wAAAAAAAoD3AAAAAAACgPcAAAAAAAKA9wAAAAAAAoD3AAAAAAACgPcAAAAAAAKA9wAAAAAAAoD3AAAAAAACgPcAAAAAAAKA9wAAAAAAAoD3AAAAAAACgPcAAAAAAAKA9wAAAAAAAoD3AAAAAAACgPcAAAAAAAKA9wAAAAAAAoD3AAAAAAACgPcAAAAAAAKA9wAAAAAAAoD3AAAAAAACgPcAAAAAAAKA9wAAAAAAAoD3AAAAAAACgPcAAAAAAAKA9wAAAAAAAoD3AAAAAAACgPcAAAAAAAKA9wAAAAAAAoD3AAAAAAACgPcAAAAAAAKA9wAAAAAAAoD3AAAAAAACgPcAAAAAAAKA9wAAAAAAAoD3AAAAAAACgPcAAAAAAAKA9wAAAAAAAoD3AAAAAAACgPcAAAAAAAKA9wAAAAAAAoD3AAAAAAACgPcAAAAAAAKA9wAAAAAAAoD3AAAAAAACgPcAAAAAAAKA9wAAAAAAAoD3AAAAAAACgPcAAAAAAAKA9wAAAAAAAoD3AAAAAAACgPcAAAAAAAKA9wAAAAAAAoD3AAAAAAACgPcAAAAAAAKA9wAAAAAAAoD3AAAAAAACgPcAAAAAAAKA9wAAAAAAAknZAAAAAAACSdkAAAAAAAJJ2QAAAAAAAknZAAAAAAACSdkAAAAAAAJJ2QAAAAAAAknZAAAAAAACSdkAAAAAAAJJ2QAAAAAAAknZAAAAAAACSdkAAAAAAAJJ2QAAAAAAAknZAAAAAAACSdkAAAAAAAJJ2QAAAAAAAknZAAAAAAACSdkAAAAAAAJJ2QAAAAAAAknZAAAAAAACSdkAAAAAAAJJ2QAAAAAAAknZAAAAAAACSdkAAAAAAAJJ2QAAAAAAAknZAAAAAAACSdkAAAAAAAJJ2QAAAAAAAknZAAAAAAACSdkAAAAAAAJJ2QAAAAAAAknZAAAAAAACSdkAAAAAAAJJ2QAAAAAAAknZAAAAAAACSdkAAAAAAAJJ2QAAAAAAAknZAAAAAAACSdkAAAAAAAJJ2QAAAAAAAknZAAAAAAACSdkAAAAAAAJJ2QAAAAAAAknZAAAAAAACSdkAAAAAAAJJ2QAAAAAAAknZAAAAAAACSdkAAAAAAAJJ2QAAAAAAAknZAAAAAAACSdkAAAAAAAJJ2QAAAAAAAknZAAAAAAACSdkAAAAAAAJJ2QAAAAAAAknZAAAAAAACSdkAAAAAAAJJ2QAAAAAAAknZAAAAAAACSdkAAAAAAAJJ2QAAAAAAAknZAAAAAAACSdkAAAAAAAJJ2QAAAAAAAknZAAAAAAACSdkAAAAAAAJJ2QAAAAAAAknZAAAAAAACSdkAAAAAAAJJ2QAAAAAAAknZAAAAAAACSdkAAAAAAAJJ2QAAAAAAAknZAAAAAAACSdkAAAAAAAJJ2QAAAAAAAknZAAAAAAACSdkAAAAAAAJJ2QAAAAAAAknZAAAAAAACSdkA=\",\"dtype\":\"float64\",\"order\":\"little\",\"shape\":[160]},\"name_color match\":[0,0,0,0,0,0,0,0,0,0,0,0,0,1,1,1,0,0,0,0,0,1,0,0,0,0,0,0,1,1,0,1,1,0,0,1,0,0,0,0,0,0,0,1,0,1,0,1,0,0,0,1,1,0,0,0,1,0,0,0,0,1,0,0,0,1,0,0,0,0,0,0,0,0,0,0,0,1,0,1,0,0,0,0,0,1,1,1,0,0,0,0,0,1,0,0,0,0,1,0,0,1,1,1,0,0,1,0,0,0,1,0,1,0,0,0,0,0,0,0,0,0,1,0,0,1,0,0,0,1,1,0,1,0,0,0,0,1,0,1,0,0,0,0,0,0,0,1,0,0,0,0,1,0,0,0,0,0,0,0],\"participant\":[\"blue\",\"blue\",\"blue\",\"blue\",\"blue\",\"blue\",\"blue\",\"blue\",\"blue\",\"blue\",\"blue\",\"blue\",\"blue\",\"blue\",\"blue\",\"blue\",\"blue\",\"blue\",\"blue\",\"blue\",\"blue\",\"blue\",\"blue\",\"blue\",\"blue\",\"blue\",\"blue\",\"blue\",\"blue\",\"blue\",\"blue\",\"blue\",\"blue\",\"blue\",\"blue\",\"blue\",\"blue\",\"blue\",\"blue\",\"blue\",\"blue\",\"blue\",\"blue\",\"blue\",\"blue\",\"blue\",\"blue\",\"blue\",\"blue\",\"blue\",\"blue\",\"blue\",\"blue\",\"blue\",\"blue\",\"blue\",\"blue\",\"blue\",\"blue\",\"blue\",\"blue\",\"blue\",\"blue\",\"blue\",\"blue\",\"blue\",\"blue\",\"blue\",\"blue\",\"blue\",\"blue\",\"blue\",\"blue\",\"blue\",\"blue\",\"blue\",\"blue\",\"blue\",\"blue\",\"blue\",\"blue\",\"blue\",\"blue\",\"blue\",\"blue\",\"blue\",\"blue\",\"blue\",\"blue\",\"blue\",\"blue\",\"blue\",\"blue\",\"blue\",\"blue\",\"blue\",\"blue\",\"blue\",\"blue\",\"blue\",\"blue\",\"blue\",\"blue\",\"blue\",\"blue\",\"blue\",\"blue\",\"blue\",\"blue\",\"blue\",\"blue\",\"blue\",\"blue\",\"blue\",\"blue\",\"blue\",\"blue\",\"blue\",\"blue\",\"blue\",\"blue\",\"blue\",\"blue\",\"blue\",\"blue\",\"blue\",\"blue\",\"blue\",\"blue\",\"blue\",\"blue\",\"blue\",\"blue\",\"blue\",\"blue\",\"blue\",\"blue\",\"blue\",\"blue\",\"blue\",\"blue\",\"blue\",\"blue\",\"blue\",\"blue\",\"blue\",\"blue\",\"blue\",\"blue\",\"blue\",\"blue\",\"blue\",\"blue\",\"blue\",\"blue\",\"blue\",\"blue\",\"blue\",\"blue\",\"blue\"],\"pressed _key\":[4,1,3,4,3,2,1,1,1,1,4,1,3,3,2,4,2,4,4,2,2,1,1,3,1,3,3,4,3,2,1,4,2,2,3,3,3,4,2,3,4,3,2,2,4,4,3,4,1,1,4,3,3,4,1,4,2,2,1,3,2,1,2,3,2,2,1,4,4,1,2,4,4,3,2,1,1,3,3,1,2,1,1,1,3,3,2,2,3,1,3,1,3,1,2,3,1,2,2,2,4,1,4,1,2,2,4,2,4,3,4,4,3,4,4,1,4,4,3,4,3,3,4,3,2,1,4,3,1,2,2,2,3,2,3,3,4,2,1,3,4,3,4,3,2,1,2,4,1,3,4,1,4,1,1,4,4,2,2,1],\"q1\":{\"__ndarray__\":\"AAAAAADCg0AAAAAAAMKDQAAAAAAAwoNAAAAAAADCg0AAAAAAAMKDQAAAAAAAwoNAAAAAAADCg0AAAAAAAMKDQAAAAAAAwoNAAAAAAADCg0AAAAAAAMKDQAAAAAAAwoNAAAAAAADCg0AAAAAAAMKDQAAAAAAAwoNAAAAAAADCg0AAAAAAAMKDQAAAAAAAwoNAAAAAAADCg0AAAAAAAMKDQAAAAAAAwoNAAAAAAADCg0AAAAAAAMKDQAAAAAAAwoNAAAAAAADCg0AAAAAAAMKDQAAAAAAAwoNAAAAAAADCg0AAAAAAAMKDQAAAAAAAwoNAAAAAAADCg0AAAAAAAMKDQAAAAAAAwoNAAAAAAADCg0AAAAAAAMKDQAAAAAAAwoNAAAAAAADCg0AAAAAAAMKDQAAAAAAAwoNAAAAAAADCg0AAAAAAAMKDQAAAAAAAwoNAAAAAAADCg0AAAAAAAMKDQAAAAAAAwoNAAAAAAADCg0AAAAAAAMKDQAAAAAAAwoNAAAAAAADCg0AAAAAAAMKDQAAAAAAAwoNAAAAAAADCg0AAAAAAAMKDQAAAAAAAwoNAAAAAAADCg0AAAAAAAMKDQAAAAAAAwoNAAAAAAADCg0AAAAAAAMKDQAAAAAAAwoNAAAAAAADCg0AAAAAAAMKDQAAAAAAAwoNAAAAAAADCg0AAAAAAAMKDQAAAAAAAwoNAAAAAAADCg0AAAAAAAMKDQAAAAAAAwoNAAAAAAADCg0AAAAAAAMKDQAAAAAAAwoNAAAAAAADCg0AAAAAAAMKDQAAAAAAAwoNAAAAAAADCg0AAAAAAAMKDQAAAAAAAwoNAAAAAAADCg0AAAAAAAMKDQAAAAAAAcIRAAAAAAABwhEAAAAAAAHCEQAAAAAAAcIRAAAAAAABwhEAAAAAAAHCEQAAAAAAAcIRAAAAAAABwhEAAAAAAAHCEQAAAAAAAcIRAAAAAAABwhEAAAAAAAHCEQAAAAAAAcIRAAAAAAABwhEAAAAAAAHCEQAAAAAAAcIRAAAAAAABwhEAAAAAAAHCEQAAAAAAAcIRAAAAAAABwhEAAAAAAAHCEQAAAAAAAcIRAAAAAAABwhEAAAAAAAHCEQAAAAAAAcIRAAAAAAABwhEAAAAAAAHCEQAAAAAAAcIRAAAAAAABwhEAAAAAAAHCEQAAAAAAAcIRAAAAAAABwhEAAAAAAAHCEQAAAAAAAcIRAAAAAAABwhEAAAAAAAHCEQAAAAAAAcIRAAAAAAABwhEAAAAAAAHCEQAAAAAAAcIRAAAAAAABwhEAAAAAAAHCEQAAAAAAAcIRAAAAAAABwhEAAAAAAAHCEQAAAAAAAcIRAAAAAAABwhEAAAAAAAHCEQAAAAAAAcIRAAAAAAABwhEAAAAAAAHCEQAAAAAAAcIRAAAAAAABwhEAAAAAAAHCEQAAAAAAAcIRAAAAAAABwhEAAAAAAAHCEQAAAAAAAcIRAAAAAAABwhEAAAAAAAHCEQAAAAAAAcIRAAAAAAABwhEAAAAAAAHCEQAAAAAAAcIRAAAAAAABwhEAAAAAAAHCEQAAAAAAAcIRAAAAAAABwhEAAAAAAAHCEQAAAAAAAcIRAAAAAAABwhEAAAAAAAHCEQAAAAAAAcIRAAAAAAABwhEAAAAAAAHCEQAAAAAAAcIRAAAAAAABwhEAAAAAAAHCEQAAAAAAAcIRAAAAAAABwhEA=\",\"dtype\":\"float64\",\"order\":\"little\",\"shape\":[160]},\"q2\":{\"__ndarray__\":\"AAAAAADoikAAAAAAAOiKQAAAAAAA6IpAAAAAAADoikAAAAAAAOiKQAAAAAAA6IpAAAAAAADoikAAAAAAAOiKQAAAAAAA6IpAAAAAAADoikAAAAAAAOiKQAAAAAAA6IpAAAAAAADoikAAAAAAAOiKQAAAAAAA6IpAAAAAAADoikAAAAAAAOiKQAAAAAAA6IpAAAAAAADoikAAAAAAAOiKQAAAAAAA6IpAAAAAAADoikAAAAAAAOiKQAAAAAAA6IpAAAAAAADoikAAAAAAAOiKQAAAAAAA6IpAAAAAAADoikAAAAAAAOiKQAAAAAAA6IpAAAAAAADoikAAAAAAAOiKQAAAAAAA6IpAAAAAAADoikAAAAAAAOiKQAAAAAAA6IpAAAAAAADoikAAAAAAAOiKQAAAAAAA6IpAAAAAAADoikAAAAAAAOiKQAAAAAAA6IpAAAAAAADoikAAAAAAAOiKQAAAAAAA6IpAAAAAAADoikAAAAAAAOiKQAAAAAAA6IpAAAAAAADoikAAAAAAAOiKQAAAAAAA6IpAAAAAAADoikAAAAAAAOiKQAAAAAAA6IpAAAAAAADoikAAAAAAAOiKQAAAAAAA6IpAAAAAAADoikAAAAAAAOiKQAAAAAAA6IpAAAAAAADoikAAAAAAAOiKQAAAAAAA6IpAAAAAAADoikAAAAAAAOiKQAAAAAAA6IpAAAAAAADoikAAAAAAAOiKQAAAAAAA6IpAAAAAAADoikAAAAAAAOiKQAAAAAAA6IpAAAAAAADoikAAAAAAAOiKQAAAAAAA6IpAAAAAAADoikAAAAAAAOiKQAAAAAAA6IpAAAAAAADoikAAAAAAAOiKQAAAAAAAFIhAAAAAAAAUiEAAAAAAABSIQAAAAAAAFIhAAAAAAAAUiEAAAAAAABSIQAAAAAAAFIhAAAAAAAAUiEAAAAAAABSIQAAAAAAAFIhAAAAAAAAUiEAAAAAAABSIQAAAAAAAFIhAAAAAAAAUiEAAAAAAABSIQAAAAAAAFIhAAAAAAAAUiEAAAAAAABSIQAAAAAAAFIhAAAAAAAAUiEAAAAAAABSIQAAAAAAAFIhAAAAAAAAUiEAAAAAAABSIQAAAAAAAFIhAAAAAAAAUiEAAAAAAABSIQAAAAAAAFIhAAAAAAAAUiEAAAAAAABSIQAAAAAAAFIhAAAAAAAAUiEAAAAAAABSIQAAAAAAAFIhAAAAAAAAUiEAAAAAAABSIQAAAAAAAFIhAAAAAAAAUiEAAAAAAABSIQAAAAAAAFIhAAAAAAAAUiEAAAAAAABSIQAAAAAAAFIhAAAAAAAAUiEAAAAAAABSIQAAAAAAAFIhAAAAAAAAUiEAAAAAAABSIQAAAAAAAFIhAAAAAAAAUiEAAAAAAABSIQAAAAAAAFIhAAAAAAAAUiEAAAAAAABSIQAAAAAAAFIhAAAAAAAAUiEAAAAAAABSIQAAAAAAAFIhAAAAAAAAUiEAAAAAAABSIQAAAAAAAFIhAAAAAAAAUiEAAAAAAABSIQAAAAAAAFIhAAAAAAAAUiEAAAAAAABSIQAAAAAAAFIhAAAAAAAAUiEAAAAAAABSIQAAAAAAAFIhAAAAAAAAUiEAAAAAAABSIQAAAAAAAFIhAAAAAAAAUiEAAAAAAABSIQAAAAAAAFIhAAAAAAAAUiEAAAAAAABSIQAAAAAAAFIhAAAAAAAAUiEA=\",\"dtype\":\"float64\",\"order\":\"little\",\"shape\":[160]},\"q3\":{\"__ndarray__\":\"AAAAAADGkEAAAAAAAMaQQAAAAAAAxpBAAAAAAADGkEAAAAAAAMaQQAAAAAAAxpBAAAAAAADGkEAAAAAAAMaQQAAAAAAAxpBAAAAAAADGkEAAAAAAAMaQQAAAAAAAxpBAAAAAAADGkEAAAAAAAMaQQAAAAAAAxpBAAAAAAADGkEAAAAAAAMaQQAAAAAAAxpBAAAAAAADGkEAAAAAAAMaQQAAAAAAAxpBAAAAAAADGkEAAAAAAAMaQQAAAAAAAxpBAAAAAAADGkEAAAAAAAMaQQAAAAAAAxpBAAAAAAADGkEAAAAAAAMaQQAAAAAAAxpBAAAAAAADGkEAAAAAAAMaQQAAAAAAAxpBAAAAAAADGkEAAAAAAAMaQQAAAAAAAxpBAAAAAAADGkEAAAAAAAMaQQAAAAAAAxpBAAAAAAADGkEAAAAAAAMaQQAAAAAAAxpBAAAAAAADGkEAAAAAAAMaQQAAAAAAAxpBAAAAAAADGkEAAAAAAAMaQQAAAAAAAxpBAAAAAAADGkEAAAAAAAMaQQAAAAAAAxpBAAAAAAADGkEAAAAAAAMaQQAAAAAAAxpBAAAAAAADGkEAAAAAAAMaQQAAAAAAAxpBAAAAAAADGkEAAAAAAAMaQQAAAAAAAxpBAAAAAAADGkEAAAAAAAMaQQAAAAAAAxpBAAAAAAADGkEAAAAAAAMaQQAAAAAAAxpBAAAAAAADGkEAAAAAAAMaQQAAAAAAAxpBAAAAAAADGkEAAAAAAAMaQQAAAAAAAxpBAAAAAAADGkEAAAAAAAMaQQAAAAAAAxpBAAAAAAADGkEAAAAAAAMaQQAAAAAAAxpBAAAAAAADGkEAAAAAAAMaQQAAAAAAAiopAAAAAAACKikAAAAAAAIqKQAAAAAAAiopAAAAAAACKikAAAAAAAIqKQAAAAAAAiopAAAAAAACKikAAAAAAAIqKQAAAAAAAiopAAAAAAACKikAAAAAAAIqKQAAAAAAAiopAAAAAAACKikAAAAAAAIqKQAAAAAAAiopAAAAAAACKikAAAAAAAIqKQAAAAAAAiopAAAAAAACKikAAAAAAAIqKQAAAAAAAiopAAAAAAACKikAAAAAAAIqKQAAAAAAAiopAAAAAAACKikAAAAAAAIqKQAAAAAAAiopAAAAAAACKikAAAAAAAIqKQAAAAAAAiopAAAAAAACKikAAAAAAAIqKQAAAAAAAiopAAAAAAACKikAAAAAAAIqKQAAAAAAAiopAAAAAAACKikAAAAAAAIqKQAAAAAAAiopAAAAAAACKikAAAAAAAIqKQAAAAAAAiopAAAAAAACKikAAAAAAAIqKQAAAAAAAiopAAAAAAACKikAAAAAAAIqKQAAAAAAAiopAAAAAAACKikAAAAAAAIqKQAAAAAAAiopAAAAAAACKikAAAAAAAIqKQAAAAAAAiopAAAAAAACKikAAAAAAAIqKQAAAAAAAiopAAAAAAACKikAAAAAAAIqKQAAAAAAAiopAAAAAAACKikAAAAAAAIqKQAAAAAAAiopAAAAAAACKikAAAAAAAIqKQAAAAAAAiopAAAAAAACKikAAAAAAAIqKQAAAAAAAiopAAAAAAACKikAAAAAAAIqKQAAAAAAAiopAAAAAAACKikAAAAAAAIqKQAAAAAAAiopAAAAAAACKikAAAAAAAIqKQAAAAAAAiopAAAAAAACKikA=\",\"dtype\":\"float64\",\"order\":\"little\",\"shape\":[160]},\"reaction_time\":[879,1163,923,1730,992,1186,689,843,660,797,1115,744,891,1246,954,686,1133,1177,492,1135,517,498,636,942,1233,1207,1035,1082,1104,970,981,709,889,563,952,450,499,813,949,1497,1012,1071,924,433,1186,384,699,733,596,414,786,593,428,1549,777,774,904,488,2000,841,767,1024,1472,700,508,415,621,477,761,1081,1110,837,597,912,980,957,791,1469,420,620,1169,1061,887,534,1249,451,837,451,1336,898,1091,823,847,607,1523,780,799,911,457,442,845,573,783,605,797,677,694,419,825,853,1009,671,834,1040,722,802,741,606,733,805,1140,878,726,827,893,761,820,796,840,836,477,697,664,745,756,896,660,636,710,1121,698,601,581,690,608,511,1276,745,1007,841,802,697,557,625,406,848,662,1173,355,740],\"repeat\":[\"1\",\"1\",\"1\",\"1\",\"1\",\"1\",\"1\",\"1\",\"1\",\"1\",\"1\",\"1\",\"1\",\"1\",\"1\",\"1\",\"1\",\"1\",\"1\",\"1\",\"1\",\"1\",\"1\",\"1\",\"1\",\"1\",\"1\",\"1\",\"1\",\"1\",\"1\",\"1\",\"1\",\"1\",\"1\",\"1\",\"1\",\"1\",\"1\",\"1\",\"2\",\"2\",\"2\",\"2\",\"2\",\"2\",\"2\",\"2\",\"2\",\"2\",\"2\",\"2\",\"2\",\"2\",\"2\",\"2\",\"2\",\"2\",\"2\",\"2\",\"2\",\"2\",\"2\",\"2\",\"2\",\"2\",\"2\",\"2\",\"2\",\"2\",\"2\",\"2\",\"2\",\"2\",\"2\",\"2\",\"2\",\"2\",\"2\",\"2\",\"1\",\"1\",\"1\",\"1\",\"1\",\"1\",\"1\",\"1\",\"1\",\"1\",\"1\",\"1\",\"1\",\"1\",\"1\",\"1\",\"1\",\"1\",\"1\",\"1\",\"1\",\"1\",\"1\",\"1\",\"1\",\"1\",\"1\",\"1\",\"1\",\"1\",\"1\",\"1\",\"1\",\"1\",\"1\",\"1\",\"1\",\"1\",\"1\",\"1\",\"2\",\"2\",\"2\",\"2\",\"2\",\"2\",\"2\",\"2\",\"2\",\"2\",\"2\",\"2\",\"2\",\"2\",\"2\",\"2\",\"2\",\"2\",\"2\",\"2\",\"2\",\"2\",\"2\",\"2\",\"2\",\"2\",\"2\",\"2\",\"2\",\"2\",\"2\",\"2\",\"2\",\"2\",\"2\",\"2\",\"2\",\"2\",\"2\",\"2\"],\"status\":[1,1,1,1,1,1,1,1,1,1,1,1,1,1,1,1,1,1,1,1,1,1,1,2,1,1,1,1,1,1,1,1,1,1,1,1,1,1,1,1,1,1,1,1,1,1,1,1,1,1,1,1,2,1,1,1,1,1,3,1,1,1,1,1,1,1,1,2,1,1,1,1,1,1,1,2,1,1,1,1,1,1,1,1,1,1,1,1,1,1,1,1,1,1,1,1,1,1,1,1,1,1,1,1,1,1,1,1,1,1,1,1,1,1,1,1,1,1,1,1,1,1,1,1,1,1,1,1,1,1,1,1,1,1,1,1,1,1,1,1,1,1,1,1,1,1,1,1,1,1,1,1,1,1,1,1,1,1,1,1],\"type\":[\"control\",\"control\",\"control\",\"control\",\"control\",\"control\",\"control\",\"control\",\"control\",\"control\",\"control\",\"control\",\"control\",\"control\",\"control\",\"control\",\"control\",\"control\",\"control\",\"control\",\"control\",\"control\",\"control\",\"control\",\"control\",\"control\",\"control\",\"control\",\"control\",\"control\",\"control\",\"control\",\"control\",\"control\",\"control\",\"control\",\"control\",\"control\",\"control\",\"control\",\"control\",\"control\",\"control\",\"control\",\"control\",\"control\",\"control\",\"control\",\"control\",\"control\",\"control\",\"control\",\"control\",\"control\",\"control\",\"control\",\"control\",\"control\",\"control\",\"control\",\"control\",\"control\",\"control\",\"control\",\"control\",\"control\",\"control\",\"control\",\"control\",\"control\",\"control\",\"control\",\"control\",\"control\",\"control\",\"control\",\"control\",\"control\",\"control\",\"control\",\"dehydration\",\"dehydration\",\"dehydration\",\"dehydration\",\"dehydration\",\"dehydration\",\"dehydration\",\"dehydration\",\"dehydration\",\"dehydration\",\"dehydration\",\"dehydration\",\"dehydration\",\"dehydration\",\"dehydration\",\"dehydration\",\"dehydration\",\"dehydration\",\"dehydration\",\"dehydration\",\"dehydration\",\"dehydration\",\"dehydration\",\"dehydration\",\"dehydration\",\"dehydration\",\"dehydration\",\"dehydration\",\"dehydration\",\"dehydration\",\"dehydration\",\"dehydration\",\"dehydration\",\"dehydration\",\"dehydration\",\"dehydration\",\"dehydration\",\"dehydration\",\"dehydration\",\"dehydration\",\"dehydration\",\"dehydration\",\"dehydration\",\"dehydration\",\"dehydration\",\"dehydration\",\"dehydration\",\"dehydration\",\"dehydration\",\"dehydration\",\"dehydration\",\"dehydration\",\"dehydration\",\"dehydration\",\"dehydration\",\"dehydration\",\"dehydration\",\"dehydration\",\"dehydration\",\"dehydration\",\"dehydration\",\"dehydration\",\"dehydration\",\"dehydration\",\"dehydration\",\"dehydration\",\"dehydration\",\"dehydration\",\"dehydration\",\"dehydration\",\"dehydration\",\"dehydration\",\"dehydration\",\"dehydration\",\"dehydration\",\"dehydration\",\"dehydration\",\"dehydration\",\"dehydration\",\"dehydration\"],\"upper\":{\"__ndarray__\":\"AAAAAIAdm0AAAAAAgB2bQAAAAACAHZtAAAAAAIAdm0AAAAAAgB2bQAAAAACAHZtAAAAAAIAdm0AAAAAAgB2bQAAAAACAHZtAAAAAAIAdm0AAAAAAgB2bQAAAAACAHZtAAAAAAIAdm0AAAAAAgB2bQAAAAACAHZtAAAAAAIAdm0AAAAAAgB2bQAAAAACAHZtAAAAAAIAdm0AAAAAAgB2bQAAAAACAHZtAAAAAAIAdm0AAAAAAgB2bQAAAAACAHZtAAAAAAIAdm0AAAAAAgB2bQAAAAACAHZtAAAAAAIAdm0AAAAAAgB2bQAAAAACAHZtAAAAAAIAdm0AAAAAAgB2bQAAAAACAHZtAAAAAAIAdm0AAAAAAgB2bQAAAAACAHZtAAAAAAIAdm0AAAAAAgB2bQAAAAACAHZtAAAAAAIAdm0AAAAAAgB2bQAAAAACAHZtAAAAAAIAdm0AAAAAAgB2bQAAAAACAHZtAAAAAAIAdm0AAAAAAgB2bQAAAAACAHZtAAAAAAIAdm0AAAAAAgB2bQAAAAACAHZtAAAAAAIAdm0AAAAAAgB2bQAAAAACAHZtAAAAAAIAdm0AAAAAAgB2bQAAAAACAHZtAAAAAAIAdm0AAAAAAgB2bQAAAAACAHZtAAAAAAIAdm0AAAAAAgB2bQAAAAACAHZtAAAAAAIAdm0AAAAAAgB2bQAAAAACAHZtAAAAAAIAdm0AAAAAAgB2bQAAAAACAHZtAAAAAAIAdm0AAAAAAgB2bQAAAAACAHZtAAAAAAIAdm0AAAAAAgB2bQAAAAACAHZtAAAAAAIAdm0AAAAAAgB2bQAAAAACAHZtAAAAAAIAdm0AAAAAAgB2bQAAAAACA2JFAAAAAAIDYkUAAAAAAgNiRQAAAAACA2JFAAAAAAIDYkUAAAAAAgNiRQAAAAACA2JFAAAAAAIDYkUAAAAAAgNiRQAAAAACA2JFAAAAAAIDYkUAAAAAAgNiRQAAAAACA2JFAAAAAAIDYkUAAAAAAgNiRQAAAAACA2JFAAAAAAIDYkUAAAAAAgNiRQAAAAACA2JFAAAAAAIDYkUAAAAAAgNiRQAAAAACA2JFAAAAAAIDYkUAAAAAAgNiRQAAAAACA2JFAAAAAAIDYkUAAAAAAgNiRQAAAAACA2JFAAAAAAIDYkUAAAAAAgNiRQAAAAACA2JFAAAAAAIDYkUAAAAAAgNiRQAAAAACA2JFAAAAAAIDYkUAAAAAAgNiRQAAAAACA2JFAAAAAAIDYkUAAAAAAgNiRQAAAAACA2JFAAAAAAIDYkUAAAAAAgNiRQAAAAACA2JFAAAAAAIDYkUAAAAAAgNiRQAAAAACA2JFAAAAAAIDYkUAAAAAAgNiRQAAAAACA2JFAAAAAAIDYkUAAAAAAgNiRQAAAAACA2JFAAAAAAIDYkUAAAAAAgNiRQAAAAACA2JFAAAAAAIDYkUAAAAAAgNiRQAAAAACA2JFAAAAAAIDYkUAAAAAAgNiRQAAAAACA2JFAAAAAAIDYkUAAAAAAgNiRQAAAAACA2JFAAAAAAIDYkUAAAAAAgNiRQAAAAACA2JFAAAAAAIDYkUAAAAAAgNiRQAAAAACA2JFAAAAAAIDYkUAAAAAAgNiRQAAAAACA2JFAAAAAAIDYkUAAAAAAgNiRQAAAAACA2JFAAAAAAIDYkUAAAAAAgNiRQAAAAACA2JFAAAAAAIDYkUA=\",\"dtype\":\"float64\",\"order\":\"little\",\"shape\":[160]},\"word color\":[\"yellow\",\"red\",\"blue\",\"yellow\",\"blue\",\"green\",\"red\",\"red\",\"red\",\"red\",\"yellow\",\"red\",\"blue\",\"blue\",\"green\",\"yellow\",\"green\",\"yellow\",\"yellow\",\"green\",\"green\",\"red\",\"red\",\"yellow\",\"red\",\"blue\",\"blue\",\"yellow\",\"blue\",\"green\",\"red\",\"yellow\",\"green\",\"green\",\"blue\",\"blue\",\"blue\",\"yellow\",\"green\",\"blue\",\"yellow\",\"blue\",\"green\",\"green\",\"yellow\",\"yellow\",\"blue\",\"yellow\",\"red\",\"red\",\"yellow\",\"blue\",\"yellow\",\"yellow\",\"red\",\"yellow\",\"green\",\"green\",\"red\",\"blue\",\"green\",\"red\",\"green\",\"blue\",\"green\",\"green\",\"red\",\"red\",\"yellow\",\"red\",\"green\",\"yellow\",\"yellow\",\"blue\",\"green\",\"blue\",\"red\",\"blue\",\"blue\",\"red\",\"green\",\"red\",\"red\",\"red\",\"blue\",\"blue\",\"green\",\"green\",\"blue\",\"red\",\"blue\",\"red\",\"blue\",\"red\",\"green\",\"blue\",\"red\",\"green\",\"green\",\"green\",\"yellow\",\"red\",\"yellow\",\"red\",\"green\",\"green\",\"yellow\",\"green\",\"yellow\",\"blue\",\"yellow\",\"yellow\",\"blue\",\"yellow\",\"yellow\",\"red\",\"yellow\",\"yellow\",\"blue\",\"yellow\",\"blue\",\"blue\",\"yellow\",\"blue\",\"green\",\"red\",\"yellow\",\"blue\",\"red\",\"green\",\"green\",\"green\",\"blue\",\"green\",\"blue\",\"blue\",\"yellow\",\"green\",\"red\",\"blue\",\"yellow\",\"blue\",\"yellow\",\"blue\",\"green\",\"red\",\"green\",\"yellow\",\"red\",\"blue\",\"yellow\",\"red\",\"yellow\",\"red\",\"red\",\"yellow\",\"yellow\",\"green\",\"green\",\"red\"],\"word name\":[\"red\",\"yellow\",\"yellow\",\"green\",\"green\",\"yellow\",\"yellow\",\"green\",\"blue\",\"blue\",\"blue\",\"blue\",\"yellow\",\"blue\",\"green\",\"yellow\",\"blue\",\"green\",\"blue\",\"red\",\"blue\",\"red\",\"green\",\"blue\",\"green\",\"green\",\"yellow\",\"green\",\"blue\",\"green\",\"yellow\",\"yellow\",\"green\",\"red\",\"green\",\"blue\",\"red\",\"red\",\"blue\",\"red\",\"red\",\"yellow\",\"yellow\",\"green\",\"blue\",\"yellow\",\"yellow\",\"yellow\",\"blue\",\"blue\",\"green\",\"blue\",\"yellow\",\"green\",\"yellow\",\"green\",\"green\",\"red\",\"yellow\",\"red\",\"blue\",\"red\",\"blue\",\"green\",\"red\",\"green\",\"green\",\"yellow\",\"blue\",\"green\",\"blue\",\"blue\",\"red\",\"red\",\"yellow\",\"red\",\"blue\",\"blue\",\"green\",\"red\",\"yellow\",\"blue\",\"yellow\",\"green\",\"red\",\"blue\",\"green\",\"green\",\"red\",\"blue\",\"yellow\",\"yellow\",\"green\",\"red\",\"blue\",\"green\",\"green\",\"yellow\",\"green\",\"red\",\"green\",\"red\",\"yellow\",\"red\",\"yellow\",\"red\",\"yellow\",\"red\",\"red\",\"yellow\",\"yellow\",\"red\",\"blue\",\"blue\",\"blue\",\"yellow\",\"red\",\"green\",\"green\",\"blue\",\"red\",\"yellow\",\"yellow\",\"red\",\"blue\",\"red\",\"blue\",\"yellow\",\"green\",\"green\",\"green\",\"red\",\"blue\",\"red\",\"green\",\"yellow\",\"red\",\"green\",\"blue\",\"blue\",\"green\",\"green\",\"blue\",\"green\",\"yellow\",\"blue\",\"blue\",\"yellow\",\"green\",\"red\",\"red\",\"blue\",\"yellow\",\"yellow\",\"yellow\",\"red\",\"green\",\"red\",\"blue\",\"yellow\"]},\"selected\":{\"id\":\"2386\"},\"selection_policy\":{\"id\":\"2385\"}},\"id\":\"2329\",\"type\":\"ColumnDataSource\"},{\"attributes\":{\"bottom\":{\"field\":\"q2\"},\"fill_alpha\":{\"value\":0.1},\"fill_color\":{\"value\":\"blue\"},\"hatch_alpha\":{\"value\":0.1},\"hatch_color\":{\"value\":\"blue\"},\"line_alpha\":{\"value\":0.1},\"top\":{\"field\":\"q1\"},\"width\":{\"value\":0.5},\"x\":{\"field\":\"type\"}},\"id\":\"2361\",\"type\":\"VBar\"},{\"attributes\":{},\"id\":\"2339\",\"type\":\"LinearScale\"},{\"attributes\":{},\"id\":\"2345\",\"type\":\"BasicTicker\"},{\"attributes\":{},\"id\":\"2382\",\"type\":\"AllLabels\"},{\"attributes\":{\"background_fill_color\":\"#eaefef\",\"below\":[{\"id\":\"2341\"}],\"center\":[{\"id\":\"2343\"},{\"id\":\"2347\"},{\"id\":\"2349\"}],\"left\":[{\"id\":\"2344\"}],\"renderers\":[{\"id\":\"2357\"},{\"id\":\"2363\"},{\"id\":\"2370\"}],\"title\":{\"id\":\"2331\"},\"toolbar\":{\"id\":\"2348\"},\"toolbar_location\":null,\"x_range\":{\"id\":\"2333\"},\"x_scale\":{\"id\":\"2337\"},\"y_range\":{\"id\":\"2335\"},\"y_scale\":{\"id\":\"2339\"}},\"id\":\"2330\",\"subtype\":\"Figure\",\"type\":\"Plot\"},{\"attributes\":{\"axis\":{\"id\":\"2344\"},\"coordinates\":null,\"dimension\":1,\"group\":null,\"ticker\":null},\"id\":\"2347\",\"type\":\"Grid\"},{\"attributes\":{\"bottom\":{\"field\":\"q3\"},\"fill_alpha\":{\"value\":0.2},\"fill_color\":{\"value\":\"blue\"},\"hatch_alpha\":{\"value\":0.2},\"hatch_color\":{\"value\":\"blue\"},\"line_alpha\":{\"value\":0.2},\"top\":{\"field\":\"q2\"},\"width\":{\"value\":0.5},\"x\":{\"field\":\"type\"}},\"id\":\"2356\",\"type\":\"VBar\"},{\"attributes\":{\"bottom\":{\"field\":\"q3\"},\"fill_alpha\":{\"value\":0.1},\"fill_color\":{\"value\":\"blue\"},\"hatch_alpha\":{\"value\":0.1},\"hatch_color\":{\"value\":\"blue\"},\"line_alpha\":{\"value\":0.1},\"top\":{\"field\":\"q2\"},\"width\":{\"value\":0.5},\"x\":{\"field\":\"type\"}},\"id\":\"2355\",\"type\":\"VBar\"},{\"attributes\":{\"client_comm_id\":\"542b4ef65330435f873d4e944ce1115d\",\"comm_id\":\"4c3ad38e24144137a20e1e1462c8a2bd\",\"plot_id\":\"2372\"},\"id\":\"2441\",\"type\":\"panel.models.comm_manager.CommManager\"},{\"attributes\":{\"source\":{\"id\":\"2329\"}},\"id\":\"2358\",\"type\":\"CDSView\"},{\"attributes\":{\"size\":{\"value\":20}},\"id\":\"2351\",\"type\":\"TeeHead\"},{\"attributes\":{\"bottom\":{\"field\":\"q2\"},\"fill_alpha\":{\"value\":0.2},\"fill_color\":{\"value\":\"blue\"},\"hatch_alpha\":{\"value\":0.2},\"hatch_color\":{\"value\":\"blue\"},\"line_alpha\":{\"value\":0.2},\"top\":{\"field\":\"q1\"},\"width\":{\"value\":0.5},\"x\":{\"field\":\"type\"}},\"id\":\"2362\",\"type\":\"VBar\"},{\"attributes\":{\"end\":2600.0,\"start\":-100},\"id\":\"2335\",\"type\":\"Range1d\"},{\"attributes\":{},\"id\":\"2348\",\"type\":\"Toolbar\"},{\"attributes\":{\"base\":{\"field\":\"type\"},\"coordinates\":null,\"group\":null,\"lower\":{\"field\":\"lower\"},\"lower_head\":{\"id\":\"2352\"},\"source\":{\"id\":\"2329\"},\"upper\":{\"field\":\"upper\"},\"upper_head\":{\"id\":\"2351\"}},\"id\":\"2349\",\"type\":\"Whisker\"},{\"attributes\":{\"source\":{\"id\":\"2329\"}},\"id\":\"2364\",\"type\":\"CDSView\"},{\"attributes\":{\"coordinates\":null,\"data_source\":{\"id\":\"2329\"},\"glyph\":{\"id\":\"2354\"},\"group\":null,\"hover_glyph\":null,\"muted_glyph\":{\"id\":\"2356\"},\"nonselection_glyph\":{\"id\":\"2355\"},\"view\":{\"id\":\"2358\"}},\"id\":\"2357\",\"type\":\"GlyphRenderer\"},{\"attributes\":{},\"id\":\"2379\",\"type\":\"AllLabels\"},{\"attributes\":{\"children\":[{\"id\":\"2373\"},{\"id\":\"2375\"}],\"margin\":[0,0,0,0],\"name\":\"Column01090\"},\"id\":\"2372\",\"type\":\"Column\"},{\"attributes\":{\"source\":{\"id\":\"2365\"}},\"id\":\"2371\",\"type\":\"CDSView\"},{\"attributes\":{\"factors\":[\"control\",\"dehydration\"]},\"id\":\"2333\",\"type\":\"FactorRange\"},{\"attributes\":{\"fill_alpha\":{\"value\":0.1},\"fill_color\":{\"value\":\"black\"},\"hatch_alpha\":{\"value\":0.1},\"line_alpha\":{\"value\":0.1},\"size\":{\"value\":6},\"x\":{\"field\":\"type\"},\"y\":{\"field\":\"reaction_time\"}},\"id\":\"2368\",\"type\":\"Scatter\"},{\"attributes\":{},\"id\":\"2388\",\"type\":\"Selection\"},{\"attributes\":{},\"id\":\"2337\",\"type\":\"CategoricalScale\"},{\"attributes\":{\"margin\":[5,10,5,10],\"options\":[\"blue\",\"red\",\"orange\",\"green\",\"pink\"],\"title\":\"participant\",\"value\":\"blue\"},\"id\":\"2374\",\"type\":\"panel.models.widgets.CustomSelect\"},{\"attributes\":{},\"id\":\"2385\",\"type\":\"UnionRenderers\"},{\"attributes\":{},\"id\":\"2378\",\"type\":\"BasicTickFormatter\"},{\"attributes\":{},\"id\":\"2386\",\"type\":\"Selection\"},{\"attributes\":{},\"id\":\"2342\",\"type\":\"CategoricalTicker\"},{\"attributes\":{\"bottom\":{\"field\":\"q2\"},\"fill_color\":{\"value\":\"blue\"},\"hatch_color\":{\"value\":\"blue\"},\"top\":{\"field\":\"q1\"},\"width\":{\"value\":0.5},\"x\":{\"field\":\"type\"}},\"id\":\"2360\",\"type\":\"VBar\"},{\"attributes\":{\"coordinates\":null,\"data_source\":{\"id\":\"2365\"},\"glyph\":{\"id\":\"2367\"},\"group\":null,\"hover_glyph\":null,\"muted_glyph\":{\"id\":\"2369\"},\"nonselection_glyph\":{\"id\":\"2368\"},\"view\":{\"id\":\"2371\"}},\"id\":\"2370\",\"type\":\"GlyphRenderer\"},{\"attributes\":{\"coordinates\":null,\"group\":null,\"text\":\"box plot of stroop test blue\"},\"id\":\"2331\",\"type\":\"Title\"},{\"attributes\":{},\"id\":\"2381\",\"type\":\"CategoricalTickFormatter\"},{\"attributes\":{\"axis\":{\"id\":\"2341\"},\"coordinates\":null,\"grid_line_color\":null,\"group\":null,\"ticker\":null},\"id\":\"2343\",\"type\":\"Grid\"},{\"attributes\":{\"bottom\":{\"field\":\"q3\"},\"fill_color\":{\"value\":\"blue\"},\"hatch_color\":{\"value\":\"blue\"},\"top\":{\"field\":\"q2\"},\"width\":{\"value\":0.5},\"x\":{\"field\":\"type\"}},\"id\":\"2354\",\"type\":\"VBar\"},{\"attributes\":{\"children\":[{\"id\":\"2374\"}],\"margin\":[0,0,0,0],\"name\":\"Column01095\"},\"id\":\"2373\",\"type\":\"Column\"}],\"root_ids\":[\"2372\",\"2441\"]},\"title\":\"Bokeh Application\",\"version\":\"2.4.3\"}};\n",
       "    var render_items = [{\"docid\":\"571db390-909d-4097-8661-12b94c0de927\",\"root_ids\":[\"2372\"],\"roots\":{\"2372\":\"4946623e-6526-4b91-bbde-9d2290d1c002\"}}];\n",
       "    root.Bokeh.embed.embed_items_notebook(docs_json, render_items);\n",
       "  }\n",
       "  if (root.Bokeh !== undefined && root.Bokeh.Panel !== undefined) {\n",
       "    embed_document(root);\n",
       "  } else {\n",
       "    var attempts = 0;\n",
       "    var timer = setInterval(function(root) {\n",
       "      if (root.Bokeh !== undefined && root.Bokeh.Panel !== undefined) {\n",
       "        clearInterval(timer);\n",
       "        embed_document(root);\n",
       "      } else if (document.readyState == \"complete\") {\n",
       "        attempts++;\n",
       "        if (attempts > 200) {\n",
       "          clearInterval(timer);\n",
       "          console.log(\"Bokeh: ERROR: Unable to run BokehJS code because BokehJS library is missing\");\n",
       "        }\n",
       "      }\n",
       "    }, 25, root)\n",
       "  }\n",
       "})(window);</script>"
      ],
      "text/plain": [
       "Column\n",
       "    [0] Column\n",
       "        [0] Select(name='participant', options=['blue', 'red', ...], value='blue')\n",
       "    [1] Row\n",
       "        [0] Bokeh(Figure, name='interactive01089')"
      ]
     },
     "execution_count": 17,
     "metadata": {
      "application/vnd.holoviews_exec.v0+json": {
       "id": "2372"
      }
     },
     "output_type": "execute_result"
    }
   ],
   "source": [
    "def individual_stroop_box_plot(participant):\n",
    "    \n",
    "    df = stroop_df[stroop_df['participant']==participant]\n",
    "    kinds = df['type'].unique()\n",
    "    \n",
    "    # compute quantiles\n",
    "    qs = df.groupby('type').reaction_time.quantile([0.25, 0.5, 0.75])\n",
    "    qs = qs.unstack().reset_index()\n",
    "    qs.columns = ['type', \"q1\", \"q2\", \"q3\"]\n",
    "    df = pd.merge(df, qs, on='type', how=\"left\")\n",
    "\n",
    "    # compute IQR outlier bounds\n",
    "    iqr = df.q3 - df.q1\n",
    "    df[\"upper\"] = df.q3 + 1.5*iqr\n",
    "    df[\"lower\"] = df.q1 - 1.5*iqr\n",
    "\n",
    "    source = ColumnDataSource(df)\n",
    "\n",
    "    p = figure(x_range=kinds,y_range=[-100,stroop_df['reaction_time'].max() * 1.3],tools=\"\", toolbar_location=None,\n",
    "                title=\"box plot of stroop test \"+participant,\n",
    "               background_fill_color=\"#eaefef\", y_axis_label=\"Reaction time(milliseconds)\")\n",
    "\n",
    "\n",
    "    # outlier range\n",
    "    whisker = Whisker(base='type', upper=\"upper\", lower=\"lower\", source=source)\n",
    "    whisker.upper_head.size = whisker.lower_head.size = 20\n",
    "    p.add_layout(whisker)\n",
    "\n",
    "    # quantile boxes\n",
    "    p.vbar('type', 0.5, \"q2\", \"q3\", color = participant,bottom=0, source=source, line_color=\"black\")\n",
    "    p.vbar('type', 0.5, \"q1\", \"q2\", color=participant, bottom=0, source=source, line_color=\"black\")\n",
    "    \n",
    "    # outliers\n",
    "    outliers = df[~df.reaction_time.between(df.lower, df.upper)]\n",
    "    p.scatter('type', 'reaction_time', source=outliers, size=6, color=\"black\", alpha=0.5)\n",
    "\n",
    "    p.xgrid.grid_line_color = None\n",
    "    p.axis.major_label_text_font_size=\"14px\"\n",
    "    p.axis.axis_label_text_font_size=\"12px\"\n",
    "\n",
    "    return p\n",
    "    \n",
    "#interactive plots\n",
    "participants_color =['blue','red','orange','green','pink']\n",
    "stroop_boxplot = pn.interact(individual_stroop_box_plot, participant = participants_color)\n",
    "stroop_boxplot"
   ]
  },
  {
   "cell_type": "code",
   "execution_count": 18,
   "metadata": {},
   "outputs": [
    {
     "data": {},
     "metadata": {},
     "output_type": "display_data"
    },
    {
     "data": {
      "application/vnd.holoviews_exec.v0+json": "",
      "text/html": [
       "<div id='2547'>\n",
       "  <div class=\"bk-root\" id=\"f5967b20-208c-4b8b-bbe4-269a15b82c1b\" data-root-id=\"2547\"></div>\n",
       "</div>\n",
       "<script type=\"application/javascript\">(function(root) {\n",
       "  function embed_document(root) {\n",
       "    var docs_json = {\"a8cc1711-da13-470e-a182-ac911f1bf504\":{\"defs\":[{\"extends\":null,\"module\":null,\"name\":\"ReactiveHTML1\",\"overrides\":[],\"properties\":[]},{\"extends\":null,\"module\":null,\"name\":\"FlexBox1\",\"overrides\":[],\"properties\":[{\"default\":\"flex-start\",\"kind\":null,\"name\":\"align_content\"},{\"default\":\"flex-start\",\"kind\":null,\"name\":\"align_items\"},{\"default\":\"row\",\"kind\":null,\"name\":\"flex_direction\"},{\"default\":\"wrap\",\"kind\":null,\"name\":\"flex_wrap\"},{\"default\":\"flex-start\",\"kind\":null,\"name\":\"justify_content\"}]},{\"extends\":null,\"module\":null,\"name\":\"GridStack1\",\"overrides\":[],\"properties\":[{\"default\":\"warn\",\"kind\":null,\"name\":\"mode\"},{\"default\":null,\"kind\":null,\"name\":\"ncols\"},{\"default\":null,\"kind\":null,\"name\":\"nrows\"},{\"default\":true,\"kind\":null,\"name\":\"allow_resize\"},{\"default\":true,\"kind\":null,\"name\":\"allow_drag\"},{\"default\":[],\"kind\":null,\"name\":\"state\"}]},{\"extends\":null,\"module\":null,\"name\":\"click1\",\"overrides\":[],\"properties\":[{\"default\":\"\",\"kind\":null,\"name\":\"terminal_output\"},{\"default\":\"\",\"kind\":null,\"name\":\"debug_name\"},{\"default\":0,\"kind\":null,\"name\":\"clears\"}]},{\"extends\":null,\"module\":null,\"name\":\"NotificationAreaBase1\",\"overrides\":[],\"properties\":[{\"default\":\"bottom-right\",\"kind\":null,\"name\":\"position\"},{\"default\":0,\"kind\":null,\"name\":\"_clear\"}]},{\"extends\":null,\"module\":null,\"name\":\"NotificationArea1\",\"overrides\":[],\"properties\":[{\"default\":[],\"kind\":null,\"name\":\"notifications\"},{\"default\":\"bottom-right\",\"kind\":null,\"name\":\"position\"},{\"default\":0,\"kind\":null,\"name\":\"_clear\"},{\"default\":[{\"background\":\"#ffc107\",\"icon\":{\"className\":\"fas fa-exclamation-triangle\",\"color\":\"white\",\"tagName\":\"i\"},\"type\":\"warning\"},{\"background\":\"#007bff\",\"icon\":{\"className\":\"fas fa-info-circle\",\"color\":\"white\",\"tagName\":\"i\"},\"type\":\"info\"}],\"kind\":null,\"name\":\"types\"}]},{\"extends\":null,\"module\":null,\"name\":\"Notification\",\"overrides\":[],\"properties\":[{\"default\":null,\"kind\":null,\"name\":\"background\"},{\"default\":3000,\"kind\":null,\"name\":\"duration\"},{\"default\":null,\"kind\":null,\"name\":\"icon\"},{\"default\":\"\",\"kind\":null,\"name\":\"message\"},{\"default\":null,\"kind\":null,\"name\":\"notification_type\"},{\"default\":false,\"kind\":null,\"name\":\"_destroyed\"}]},{\"extends\":null,\"module\":null,\"name\":\"TemplateActions1\",\"overrides\":[],\"properties\":[{\"default\":0,\"kind\":null,\"name\":\"open_modal\"},{\"default\":0,\"kind\":null,\"name\":\"close_modal\"}]},{\"extends\":null,\"module\":null,\"name\":\"MaterialTemplateActions1\",\"overrides\":[],\"properties\":[{\"default\":0,\"kind\":null,\"name\":\"open_modal\"},{\"default\":0,\"kind\":null,\"name\":\"close_modal\"}]}],\"roots\":{\"references\":[{\"attributes\":{\"coordinates\":null,\"data_source\":{\"id\":\"2507\"},\"glyph\":{\"id\":\"2542\"},\"group\":null,\"hover_glyph\":null,\"muted_glyph\":{\"id\":\"2544\"},\"nonselection_glyph\":{\"id\":\"2543\"},\"view\":{\"id\":\"2546\"}},\"id\":\"2545\",\"type\":\"GlyphRenderer\"},{\"attributes\":{\"margin\":[5,10,5,10],\"options\":[\"correct\",\"not correct\",\"not answer\"],\"title\":\"ans\",\"value\":\"correct\"},\"id\":\"2549\",\"type\":\"panel.models.widgets.CustomSelect\"},{\"attributes\":{},\"id\":\"2527\",\"type\":\"WheelZoomTool\"},{\"attributes\":{\"axis\":{\"id\":\"2519\"},\"coordinates\":null,\"grid_line_color\":null,\"group\":null,\"ticker\":null},\"id\":\"2521\",\"type\":\"Grid\"},{\"attributes\":{\"factors\":[[\"blue\",\"control\"],[\"blue\",\"dehydration\"],[\"green\",\"control\"],[\"green\",\"dehydration\"],[\"red\",\"control\"],[\"red\",\"dehydration\"],[\"pink\",\"control\"],[\"pink\",\"dehydration\"],[\"orange\",\"control\"],[\"orange\",\"dehydration\"]],\"range_padding\":0.1},\"id\":\"2508\",\"type\":\"FactorRange\"},{\"attributes\":{\"fill_alpha\":{\"value\":0.2},\"fill_color\":{\"field\":\"x\",\"transform\":{\"id\":\"2540\"}},\"hatch_alpha\":{\"value\":0.2},\"line_alpha\":{\"value\":0.2},\"line_color\":{\"value\":\"white\"},\"top\":{\"field\":\"counts\"},\"x\":{\"field\":\"x\"}},\"id\":\"2544\",\"type\":\"VBar\"},{\"attributes\":{},\"id\":\"2515\",\"type\":\"CategoricalScale\"},{\"attributes\":{},\"id\":\"2520\",\"type\":\"CategoricalTicker\"},{\"attributes\":{\"coordinates\":null,\"group\":null,\"text\":\"The number ofcorrectof stroop test\"},\"id\":\"2510\",\"type\":\"Title\"},{\"attributes\":{\"start\":0},\"id\":\"2513\",\"type\":\"DataRange1d\"},{\"attributes\":{\"source\":{\"id\":\"2507\"}},\"id\":\"2546\",\"type\":\"CDSView\"},{\"attributes\":{},\"id\":\"2529\",\"type\":\"SaveTool\"},{\"attributes\":{\"axis_label\":\"correct count\",\"coordinates\":null,\"formatter\":{\"id\":\"2553\"},\"group\":null,\"major_label_policy\":{\"id\":\"2554\"},\"ticker\":{\"id\":\"2523\"}},\"id\":\"2522\",\"type\":\"LinearAxis\"},{\"attributes\":{\"overlay\":{\"id\":\"2532\"}},\"id\":\"2528\",\"type\":\"BoxZoomTool\"},{\"attributes\":{\"children\":[{\"id\":\"2548\"},{\"id\":\"2550\"}],\"margin\":[0,0,0,0],\"name\":\"Column01099\"},\"id\":\"2547\",\"type\":\"Column\"},{\"attributes\":{},\"id\":\"2531\",\"type\":\"HelpTool\"},{\"attributes\":{\"client_comm_id\":\"13cf0b6aed72412191832c7cd82c902a\",\"comm_id\":\"4792097dbec4428a847a0ebe48ec3eec\",\"plot_id\":\"2547\"},\"id\":\"2601\",\"type\":\"panel.models.comm_manager.CommManager\"},{\"attributes\":{\"fill_alpha\":{\"value\":0.1},\"fill_color\":{\"field\":\"x\",\"transform\":{\"id\":\"2540\"}},\"hatch_alpha\":{\"value\":0.1},\"line_alpha\":{\"value\":0.1},\"line_color\":{\"value\":\"white\"},\"top\":{\"field\":\"counts\"},\"x\":{\"field\":\"x\"}},\"id\":\"2543\",\"type\":\"VBar\"},{\"attributes\":{},\"id\":\"2526\",\"type\":\"PanTool\"},{\"attributes\":{},\"id\":\"2554\",\"type\":\"AllLabels\"},{\"attributes\":{\"fill_color\":{\"field\":\"x\",\"transform\":{\"id\":\"2540\"}},\"line_color\":{\"value\":\"white\"},\"top\":{\"field\":\"counts\"},\"x\":{\"field\":\"x\"}},\"id\":\"2542\",\"type\":\"VBar\"},{\"attributes\":{},\"id\":\"2530\",\"type\":\"ResetTool\"},{\"attributes\":{},\"id\":\"2556\",\"type\":\"CategoricalTickFormatter\"},{\"attributes\":{},\"id\":\"2559\",\"type\":\"Selection\"},{\"attributes\":{},\"id\":\"2558\",\"type\":\"UnionRenderers\"},{\"attributes\":{},\"id\":\"2523\",\"type\":\"BasicTicker\"},{\"attributes\":{\"children\":[{\"id\":\"2509\"}],\"margin\":[0,0,0,0],\"name\":\"Row01103\"},\"id\":\"2550\",\"type\":\"Row\"},{\"attributes\":{\"bottom_units\":\"screen\",\"coordinates\":null,\"fill_alpha\":0.5,\"fill_color\":\"lightgrey\",\"group\":null,\"left_units\":\"screen\",\"level\":\"overlay\",\"line_alpha\":1.0,\"line_color\":\"black\",\"line_dash\":[4,4],\"line_width\":2,\"right_units\":\"screen\",\"syncable\":false,\"top_units\":\"screen\"},\"id\":\"2532\",\"type\":\"BoxAnnotation\"},{\"attributes\":{\"end\":2,\"factors\":[\"control\",\"dehydration\"],\"palette\":[\"skyblue\",\"salmon\"],\"start\":1},\"id\":\"2540\",\"type\":\"CategoricalColorMapper\"},{\"attributes\":{\"axis_label\":\"participant, session type\",\"coordinates\":null,\"formatter\":{\"id\":\"2556\"},\"group\":null,\"major_label_orientation\":1,\"major_label_policy\":{\"id\":\"2557\"},\"ticker\":{\"id\":\"2520\"}},\"id\":\"2519\",\"type\":\"CategoricalAxis\"},{\"attributes\":{},\"id\":\"2557\",\"type\":\"AllLabels\"},{\"attributes\":{\"below\":[{\"id\":\"2519\"}],\"center\":[{\"id\":\"2521\"},{\"id\":\"2525\"}],\"height\":500,\"left\":[{\"id\":\"2522\"}],\"renderers\":[{\"id\":\"2545\"}],\"title\":{\"id\":\"2510\"},\"toolbar\":{\"id\":\"2533\"},\"toolbar_location\":null,\"width\":900,\"x_range\":{\"id\":\"2508\"},\"x_scale\":{\"id\":\"2515\"},\"y_range\":{\"id\":\"2513\"},\"y_scale\":{\"id\":\"2517\"}},\"id\":\"2509\",\"subtype\":\"Figure\",\"type\":\"Plot\"},{\"attributes\":{},\"id\":\"2553\",\"type\":\"BasicTickFormatter\"},{\"attributes\":{\"tools\":[{\"id\":\"2526\"},{\"id\":\"2527\"},{\"id\":\"2528\"},{\"id\":\"2529\"},{\"id\":\"2530\"},{\"id\":\"2531\"}]},\"id\":\"2533\",\"type\":\"Toolbar\"},{\"attributes\":{\"data\":{\"counts\":[75,80,75,78,76,71,72,69,76,74],\"x\":[[\"blue\",\"control\"],[\"blue\",\"dehydration\"],[\"green\",\"control\"],[\"green\",\"dehydration\"],[\"red\",\"control\"],[\"red\",\"dehydration\"],[\"pink\",\"control\"],[\"pink\",\"dehydration\"],[\"orange\",\"control\"],[\"orange\",\"dehydration\"]]},\"selected\":{\"id\":\"2559\"},\"selection_policy\":{\"id\":\"2558\"}},\"id\":\"2507\",\"type\":\"ColumnDataSource\"},{\"attributes\":{},\"id\":\"2517\",\"type\":\"LinearScale\"},{\"attributes\":{\"axis\":{\"id\":\"2522\"},\"coordinates\":null,\"dimension\":1,\"group\":null,\"ticker\":null},\"id\":\"2525\",\"type\":\"Grid\"},{\"attributes\":{\"children\":[{\"id\":\"2549\"}],\"margin\":[0,0,0,0],\"name\":\"Column01104\"},\"id\":\"2548\",\"type\":\"Column\"}],\"root_ids\":[\"2547\",\"2601\"]},\"title\":\"Bokeh Application\",\"version\":\"2.4.3\"}};\n",
       "    var render_items = [{\"docid\":\"a8cc1711-da13-470e-a182-ac911f1bf504\",\"root_ids\":[\"2547\"],\"roots\":{\"2547\":\"f5967b20-208c-4b8b-bbe4-269a15b82c1b\"}}];\n",
       "    root.Bokeh.embed.embed_items_notebook(docs_json, render_items);\n",
       "  }\n",
       "  if (root.Bokeh !== undefined && root.Bokeh.Panel !== undefined) {\n",
       "    embed_document(root);\n",
       "  } else {\n",
       "    var attempts = 0;\n",
       "    var timer = setInterval(function(root) {\n",
       "      if (root.Bokeh !== undefined && root.Bokeh.Panel !== undefined) {\n",
       "        clearInterval(timer);\n",
       "        embed_document(root);\n",
       "      } else if (document.readyState == \"complete\") {\n",
       "        attempts++;\n",
       "        if (attempts > 200) {\n",
       "          clearInterval(timer);\n",
       "          console.log(\"Bokeh: ERROR: Unable to run BokehJS code because BokehJS library is missing\");\n",
       "        }\n",
       "      }\n",
       "    }, 25, root)\n",
       "  }\n",
       "})(window);</script>"
      ],
      "text/plain": [
       "Column\n",
       "    [0] Column\n",
       "        [0] Select(name='ans', options=['correct', 'not correct',...], value='correct')\n",
       "    [1] Row\n",
       "        [0] Bokeh(Figure, name='interactive01098')"
      ]
     },
     "execution_count": 18,
     "metadata": {
      "application/vnd.holoviews_exec.v0+json": {
       "id": "2547"
      }
     },
     "output_type": "execute_result"
    }
   ],
   "source": [
    "def status_bar_stroop(ans = 'correct'):\n",
    "    \n",
    "    types = list(stroop_df['type'].unique())\n",
    "    participants = list(stroop_df['participant'].unique())\n",
    "    de_list = []\n",
    "    co_list = []\n",
    "    for participant in participants:\n",
    "        df = stroop_df[stroop_df['participant'] ==participant]\n",
    "        dff = df[df['type'] =='dehydration']\n",
    "        if ans =='correct':\n",
    "            de_list.append(len(dff[dff['status']==1]))\n",
    "            \n",
    "        if ans == 'not correct':\n",
    "            de_list.append(len(dff[dff['status']==2]))\n",
    "            \n",
    "        if ans == 'not answer':\n",
    "            de_list.append(len(dff[dff['status']==3]))\n",
    "            \n",
    "        dff2 = df[df['type'] =='control']\n",
    "        if ans =='correct':\n",
    "            co_list.append(len(dff2[dff2['status']==1]))\n",
    "            \n",
    "        if ans == 'not correct':\n",
    "            co_list.append(len(dff2[dff2['status']==2]))\n",
    "            \n",
    "        if ans == 'not answer':\n",
    "            co_list.append(len(dff2[dff2['status']==3]))\n",
    "    \n",
    "    data = {'participants' : participants,\n",
    "            'control'   : co_list,\n",
    "            'dehydration'   : de_list,\n",
    "            }\n",
    "    data = pd.DataFrame(data)\n",
    "\n",
    "    palette =  [\"skyblue\", \"salmon\"] #colors\n",
    "    x = [ (participant, test) for participant in participants for test in types ]\n",
    "    counts = sum(zip(data['control'], data['dehydration']), ()) # like an hstack\n",
    "\n",
    "    source = ColumnDataSource(data=dict(x=x, counts=counts))\n",
    "    # plot\n",
    "    p = figure(x_range=FactorRange(*x), width=900, height=500, title='The number of' +ans+ 'of stroop test',\n",
    "               toolbar_location=None,y_axis_label= ans+ ' count', x_axis_label=\"participant, session type\")\n",
    "\n",
    "    p.vbar(x='x', top='counts', width=1, source=source, line_color=\"white\",\n",
    "           fill_color=factor_cmap('x', palette=palette, factors=types, start=1, end=2))\n",
    "\n",
    "    p.y_range.start = 0\n",
    "    p.x_range.range_padding = 0.1\n",
    "    p.xaxis.major_label_orientation = 1\n",
    "    p.xgrid.grid_line_color = None\n",
    "    return p\n",
    "\n",
    "answers =['correct','not correct','not answer']\n",
    "stroop_bar_status = pn.interact(status_bar_stroop, ans = answers)\n",
    "stroop_bar_status"
   ]
  },
  {
   "cell_type": "code",
   "execution_count": 19,
   "metadata": {},
   "outputs": [
    {
     "ename": "SyntaxError",
     "evalue": "keyword argument repeated: y_axis_label (605975083.py, line 36)",
     "output_type": "error",
     "traceback": [
      "\u001b[0;36m  Input \u001b[0;32mIn [19]\u001b[0;36m\u001b[0m\n\u001b[0;31m    x_axis_label=\"participant, session type\", y_axis_label=\"Reaction time (milliseconds)\")\u001b[0m\n\u001b[0m                                              ^\u001b[0m\n\u001b[0;31mSyntaxError\u001b[0m\u001b[0;31m:\u001b[0m keyword argument repeated: y_axis_label\n"
     ]
    }
   ],
   "source": [
    "def total_bar_stroop():\n",
    "\n",
    "    df = stroop_df\n",
    "\n",
    "    #create a list of different session types\n",
    "    types = list(df['type'].unique())\n",
    "    \n",
    "    dff = df.groupby(['participant','type']).mean().reset_index()\n",
    "    \n",
    "    # create a list of participants\n",
    "    participants = list(dff['participant'].unique())\n",
    "\n",
    "    #create two list of reaction time regarding session types\n",
    "    control_mean = list(dff[dff['type'] =='control'].reaction_time)\n",
    "    dehydration_mean = list(dff[dff['type'] =='dehydration'].reaction_time)\n",
    "\n",
    "    #create a dictionary of 3 keys and values and then convert into a dataframe\n",
    "    data = {'participants' : participants,\n",
    "            'control'   : control_mean,\n",
    "            'dehydration'   : dehydration_mean,\n",
    "            }\n",
    "    data = pd.DataFrame(data)\n",
    "\n",
    "    palette =  [\"skyblue\", \"salmon\"] #colors\n",
    "\n",
    "    # create a list like:\n",
    "    # [ (\"blue\", \"control\"), (\"Ablue\", \"dehydration\"), (\"red\", \"control\"), (\"red\", \"dehydration\"), ... ]\n",
    "    x = [ (participant, test) for participant in participants for test in types ]\n",
    "    counts = sum(zip(data['control'], data['dehydration']), ()) # like an hstack\n",
    "\n",
    "    source = ColumnDataSource(data=dict(x=x, counts=counts))\n",
    "    # plot\n",
    "    p = figure(x_range=FactorRange(*x), y_range=[0, data['dehydration'].max()+200], width=900, height=500, \n",
    "                title='Average of reaction time stroop test',\n",
    "                toolbar_location=None,y_axis_label=\"Reaction time(milliseconds)\",\n",
    "                x_axis_label=\"participant, session type\", y_axis_label=\"Reaction time (milliseconds)\")\n",
    "\n",
    "    p.vbar(x='x', top='counts', width=1, source=source, line_color=\"white\",\n",
    "           fill_color=factor_cmap('x', palette=palette, factors=types, start=1, end=2))\n",
    "\n",
    "    p.y_range.start = 0\n",
    "    p.x_range.range_padding = 0.1\n",
    "    p.xaxis.major_label_orientation = 1\n",
    "    p.xgrid.grid_line_color = None\n",
    "\n",
    "    return p"
   ]
  },
  {
   "cell_type": "markdown",
   "metadata": {},
   "source": [
    "#### Stroop error bar"
   ]
  },
  {
   "cell_type": "code",
   "execution_count": null,
   "metadata": {},
   "outputs": [],
   "source": [
    "def calculate_standard_error(stroop_df):\n",
    "    \n",
    "    df_mean = stroop_df.groupby(by=[\"participant\", \"type\"]).agg(mean=(\"reaction_time\", \"mean\"))\n",
    "    df_se = stroop_df.groupby(by=[\"participant\", \"type\"]).agg(se=(\"reaction_time\", \"sem\"))\n",
    "    upper = df_mean[\"mean\"] + 1.96 * df_se[\"se\"]\n",
    "    lower = df_mean[\"mean\"] - 1.96 * df_se[\"se\"]\n",
    "    data = pd.concat([upper.rename(\"upper\"), lower.rename(\"lower\")], axis=1)\n",
    "    return data\n",
    "\n",
    "\n",
    "\n",
    "def plot_standard_error(plot, data):\n",
    "    x = list(data.index.values)\n",
    "    data_map = {\n",
    "        'x': x,\n",
    "        'upper': data[\"upper\"].tolist(),\n",
    "        'lower': data[\"lower\"].tolist()\n",
    "\n",
    "        }\n",
    "    source = ColumnDataSource(data=data_map)\n",
    "\n",
    "    w = Whisker(source=source, base=\"x\", upper=\"upper\", lower=\"lower\", \n",
    "            line_color='purple', level=\"overlay\")\n",
    "    w.upper_head.line_color = 'purple'\n",
    "    w.lower_head.line_color = 'purple'\n",
    "    w.upper_head.size = w.lower_head.size = 20\n",
    "    plot.add_layout(w)\n",
    "    return plot\n",
    "\n",
    "def stroop_plot_error_bar():\n",
    "    data_se = calculate_standard_error(stroop_df)\n",
    "    p = total_bar_stroop()\n",
    "    p = plot_standard_error(p, data_se)\n",
    "    return p\n",
    "\n",
    "stroop_barplot = stroop_plot_error_bar()\n",
    "show(stroop_barplot)"
   ]
  },
  {
   "cell_type": "code",
   "execution_count": null,
   "metadata": {},
   "outputs": [],
   "source": [
    "def error_bar(df = stroop_df, required = 'reaction_time',test_name = 'stroop_test'):\n",
    "    \n",
    "    #create new column containing participant and the type of test\n",
    "    df['participant_type'] = df['participant']+' '+df['type']\n",
    "\n",
    "    # calculate SE\n",
    "    dff = df.groupby('participant_type').mean().reset_index()\n",
    "    std = df.groupby('participant_type').std().reset_index()\n",
    "    n = df.groupby('participant_type').count().reset_index()\n",
    "\n",
    "    name_list = list(dff['participant_type'])\n",
    "    mean_list = list(dff[required])\n",
    "    std_list = list(std[required])\n",
    "    n_list = list(n[required])\n",
    "    se_list = std_list/np.sqrt(n_list)\n",
    "\n",
    "    #calculate upper and lower\n",
    "    upper = mean_list + se_list*1.96\n",
    "    lower = mean_list - se_list*1.96\n",
    "    \n",
    "    # create new dataframe\n",
    "    data = {'participants_type' : name_list,\n",
    "            'required_mean' : mean_list,\n",
    "            'SE' : se_list,\n",
    "            'upper' : upper,\n",
    "            'lower' : lower,\n",
    "            }\n",
    "    data = pd.DataFrame(data)\n",
    "\n",
    "    source = ColumnDataSource(data)\n",
    "\n",
    "    # plot\n",
    "\n",
    "    p = figure(x_range= name_list, y_range = [data['lower'].min()-100,data['upper'].max()+100],  width=900, \n",
    "               height=500, title=\"Error bar \"+ test_name, toolbar_location=None, tools=\"\")\n",
    "\n",
    "    p.circle(x='participants_type', y= 'required_mean', width=0.9, color='blue', source=source)\n",
    "\n",
    "    whisker = Whisker(base='participants_type', upper=\"upper\", lower=\"lower\", source=source)\n",
    "    whisker.upper_head.size = whisker.lower_head.size = 20\n",
    "    p.add_layout(whisker)\n",
    "    return p\n",
    "\n",
    "show(error_bar(df = stroop_df, required = 'reaction_time',test_name = 'stroop_test'))\n"
   ]
  },
  {
   "cell_type": "markdown",
   "metadata": {},
   "source": [
    "### Stop Signal Analysis"
   ]
  },
  {
   "cell_type": "code",
   "execution_count": null,
   "metadata": {},
   "outputs": [],
   "source": [
    "\n",
    "column_meanings = {'Column':[0,1,2,3,4,5,6,7],\n",
    "                   'Meaning':['trial type (go or nogo)', \n",
    "                              'required response (left or right)', \n",
    "                              'when the stop signal is shown (or 0 if not)', \n",
    "                              'response time 1', \n",
    "                              'status 1 (1=correct, 2=wrong, 3=timeout)',\n",
    "                              'response time 2 (only in no go trials)',\n",
    "                              'status 2 (only in no go trials; 1=correct, 2=wrong, 3=timeout)',\n",
    "                              '1=trial is correct ; 0=trial is not correct']} \n",
    "\n",
    "column_meanings = pd.DataFrame(column_meanings)\n",
    "column_meanings.set_index('Column', inplace=True)\n",
    "column_meanings\n"
   ]
  },
  {
   "cell_type": "code",
   "execution_count": null,
   "metadata": {},
   "outputs": [],
   "source": [
    "def stop_test(stop_df): # Jacob\n",
    "    \n",
    "    # renaming and reordering columns\n",
    "    stop_df.rename(columns = {0:'trial_type', 1:'correct_resp.', \n",
    "                            2:'stop_signal_delay', 3:'response_time',\n",
    "                            4:'status', 5:'resonse_time_nogo',\n",
    "                            6:'status_nogo', 7:'correct'}, inplace = True)\n",
    "\n",
    "    stop_df = stop_df[['participant', 'type', 'repeat', 'trial_type',\n",
    "                    'correct_resp.', 'correct', 'response_time',\n",
    "                    'status', 'stop_signal_delay', 'resonse_time_nogo',\n",
    "                    'status_nogo']]\n",
    "\n",
    "    # The average resonse time for go trials per trial type\n",
    "    avg_go_resp_time = stop_df[stop_df['trial_type'] == 'go'].groupby([\n",
    "        'participant', 'type','status']).mean()['response_time']\n",
    "\n",
    "\n",
    "    # The average resonse time for no-go trials per correct/incorrect trial\n",
    "    avg_nogo_resp_time = stop_df[stop_df['trial_type'] == 'nogo'].groupby([\n",
    "        'participant', 'type','status_nogo']).mean()['response_time']\n",
    "\n",
    "    # Good to keep in mind that here, status three corresponds with a correct trail\n",
    "    # Since there was no press in a no-go trial.\n",
    "\n",
    "    # Number of errors and time-outs in go trials\n",
    "    errors_timeout_go = stop_df[(stop_df['trial_type'] == 'go') & \n",
    "                                (stop_df['status'] != 1.0)].groupby([\n",
    "                                    'participant', 'type', 'repeat','status']).count()['trial_type']\n",
    "\n",
    "    # Number of errors and time-outs in no-go trials\n",
    "    errors_timeout_nogo = stop_df[stop_df['trial_type'] == 'nogo'].groupby([\n",
    "        'participant', 'type', 'repeat','status_nogo']).count()['trial_type']\n",
    "    \n",
    "    return avg_go_resp_time, avg_nogo_resp_time, errors_timeout_go, errors_timeout_nogo\n",
    "\n",
    "# callig the function\n",
    "avg_go_resp_time, avg_nogo_resp_time, errors_timeout_go, errors_timeout_nogo = stop_test(data_dict['stop'])\n"
   ]
  },
  {
   "cell_type": "code",
   "execution_count": null,
   "metadata": {
    "scrolled": true
   },
   "outputs": [],
   "source": [
    "stop_signal_boxplot = data_dict['stop'][(data_dict['stop']['trial_type'] == 'go') & \n",
    "                                     (data_dict['stop']['correct'] == 1)][['response_time', 'participant', 'type']\n",
    "                                                      ].hvplot.box(by='type', \n",
    "                                                                   groupby='participant',\n",
    "                                                                   title='Reaction time for correct responses',\n",
    "                                                                   xlabel='Session Type', \n",
    "                                                                   ylabel='Resopnse Time (ms)')\n",
    "\n",
    "stop_signal_boxplot"
   ]
  },
  {
   "cell_type": "code",
   "execution_count": null,
   "metadata": {},
   "outputs": [],
   "source": [
    "# TODO: calculate percentage of errors/correct\n",
    "\n",
    "participants = ['blue', 'green', 'red', 'pink', 'orange']\n",
    "session_type = ['control', 'dehydratation']\n",
    "\n",
    "perc_correct = pd.DataFrame(index=[participants])\n"
   ]
  },
  {
   "cell_type": "code",
   "execution_count": null,
   "metadata": {},
   "outputs": [],
   "source": [
    "df = data_dict['stop']\n",
    "correct = len(df[(df['participant'] == 'blue') &\n",
    "    (df['type'] == 'dehydration') &\n",
    "    (df['correct'] == 1)])\n",
    "total = len(df[(df['participant'] == 'blue') &\n",
    "    (df['type'] == 'dehydration')])\n",
    "\n",
    "perc_correct = (correct/total) * 100\n",
    "perc_correct"
   ]
  },
  {
   "cell_type": "markdown",
   "metadata": {},
   "source": [
    "### Verbal Fluency Analysis"
   ]
  },
  {
   "cell_type": "code",
   "execution_count": 26,
   "metadata": {},
   "outputs": [],
   "source": [
    "verbal_df = data_dict['verbal'].copy()\n",
    "verbal_df = verbal_df[verbal_df[1] != 'word count'] # to remove silly headers\n",
    "verbal_df.rename(columns={0:'word_type', 1:'n'}, inplace=True)\n",
    "verbal_df['n'] = verbal_df['n'].astype(int)\n",
    "\n",
    "verbal_avg = verbal_df.groupby(['participant', 'type']).mean().round(2)\n",
    "error_data = verbal_df.describe().transpose()\n",
    "\n",
    "verbal_avg_bar = verbal_avg.hvplot.bar(title='Average number of words produced per session type',\n",
    "                                        xlabel='Participant, Session Type', \n",
    "                                        ylabel ='Number of words').opts(xrotation=25)# * error_data.hvplot.errorbars(y='max', yerr1='std')"
   ]
  },
  {
   "cell_type": "code",
   "execution_count": 27,
   "metadata": {
    "scrolled": true
   },
   "outputs": [
    {
     "data": {},
     "metadata": {},
     "output_type": "display_data"
    },
    {
     "data": {
      "application/vnd.holoviews_exec.v0+json": "",
      "text/html": [
       "<div id='2890'>\n",
       "  <div class=\"bk-root\" id=\"d4868350-b4a3-4c5b-9258-763f5ff19e97\" data-root-id=\"2890\"></div>\n",
       "</div>\n",
       "<script type=\"application/javascript\">(function(root) {\n",
       "  function embed_document(root) {\n",
       "    var docs_json = {\"75a9b104-31e9-4f84-8587-b57d005ad8bc\":{\"defs\":[{\"extends\":null,\"module\":null,\"name\":\"ReactiveHTML1\",\"overrides\":[],\"properties\":[]},{\"extends\":null,\"module\":null,\"name\":\"FlexBox1\",\"overrides\":[],\"properties\":[{\"default\":\"flex-start\",\"kind\":null,\"name\":\"align_content\"},{\"default\":\"flex-start\",\"kind\":null,\"name\":\"align_items\"},{\"default\":\"row\",\"kind\":null,\"name\":\"flex_direction\"},{\"default\":\"wrap\",\"kind\":null,\"name\":\"flex_wrap\"},{\"default\":\"flex-start\",\"kind\":null,\"name\":\"justify_content\"}]},{\"extends\":null,\"module\":null,\"name\":\"GridStack1\",\"overrides\":[],\"properties\":[{\"default\":\"warn\",\"kind\":null,\"name\":\"mode\"},{\"default\":null,\"kind\":null,\"name\":\"ncols\"},{\"default\":null,\"kind\":null,\"name\":\"nrows\"},{\"default\":true,\"kind\":null,\"name\":\"allow_resize\"},{\"default\":true,\"kind\":null,\"name\":\"allow_drag\"},{\"default\":[],\"kind\":null,\"name\":\"state\"}]},{\"extends\":null,\"module\":null,\"name\":\"click1\",\"overrides\":[],\"properties\":[{\"default\":\"\",\"kind\":null,\"name\":\"terminal_output\"},{\"default\":\"\",\"kind\":null,\"name\":\"debug_name\"},{\"default\":0,\"kind\":null,\"name\":\"clears\"}]},{\"extends\":null,\"module\":null,\"name\":\"NotificationAreaBase1\",\"overrides\":[],\"properties\":[{\"default\":\"bottom-right\",\"kind\":null,\"name\":\"position\"},{\"default\":0,\"kind\":null,\"name\":\"_clear\"}]},{\"extends\":null,\"module\":null,\"name\":\"NotificationArea1\",\"overrides\":[],\"properties\":[{\"default\":[],\"kind\":null,\"name\":\"notifications\"},{\"default\":\"bottom-right\",\"kind\":null,\"name\":\"position\"},{\"default\":0,\"kind\":null,\"name\":\"_clear\"},{\"default\":[{\"background\":\"#ffc107\",\"icon\":{\"className\":\"fas fa-exclamation-triangle\",\"color\":\"white\",\"tagName\":\"i\"},\"type\":\"warning\"},{\"background\":\"#007bff\",\"icon\":{\"className\":\"fas fa-info-circle\",\"color\":\"white\",\"tagName\":\"i\"},\"type\":\"info\"}],\"kind\":null,\"name\":\"types\"}]},{\"extends\":null,\"module\":null,\"name\":\"Notification\",\"overrides\":[],\"properties\":[{\"default\":null,\"kind\":null,\"name\":\"background\"},{\"default\":3000,\"kind\":null,\"name\":\"duration\"},{\"default\":null,\"kind\":null,\"name\":\"icon\"},{\"default\":\"\",\"kind\":null,\"name\":\"message\"},{\"default\":null,\"kind\":null,\"name\":\"notification_type\"},{\"default\":false,\"kind\":null,\"name\":\"_destroyed\"}]},{\"extends\":null,\"module\":null,\"name\":\"TemplateActions1\",\"overrides\":[],\"properties\":[{\"default\":0,\"kind\":null,\"name\":\"open_modal\"},{\"default\":0,\"kind\":null,\"name\":\"close_modal\"}]},{\"extends\":null,\"module\":null,\"name\":\"MaterialTemplateActions1\",\"overrides\":[],\"properties\":[{\"default\":0,\"kind\":null,\"name\":\"open_modal\"},{\"default\":0,\"kind\":null,\"name\":\"close_modal\"}]}],\"roots\":{\"references\":[{\"attributes\":{},\"id\":\"2912\",\"type\":\"PanTool\"},{\"attributes\":{\"factors\":[[\"blue\",\"control\"],[\"blue\",\"dehydration\"],[\"green\",\"control\"],[\"green\",\"dehydration\"],[\"orange\",\"control\"],[\"orange\",\"dehydration\"],[\"pink\",\"control\"],[\"pink\",\"dehydration\"],[\"red\",\"control\"],[\"red\",\"dehydration\"]],\"tags\":[[[\"participant\",\"participant\",null],[\"type\",\"type\",null]]]},\"id\":\"2892\",\"type\":\"FactorRange\"},{\"attributes\":{\"tools\":[{\"id\":\"2894\"},{\"id\":\"2911\"},{\"id\":\"2912\"},{\"id\":\"2913\"},{\"id\":\"2914\"},{\"id\":\"2915\"}]},\"id\":\"2917\",\"type\":\"Toolbar\"},{\"attributes\":{},\"id\":\"2936\",\"type\":\"AllLabels\"},{\"attributes\":{\"fill_color\":{\"field\":\"type\",\"transform\":{\"id\":\"2924\"}},\"hatch_color\":{\"field\":\"type\",\"transform\":{\"id\":\"2924\"}},\"top\":{\"field\":\"n\"},\"width\":{\"value\":0.8},\"x\":{\"field\":\"xoffsets\"}},\"id\":\"2928\",\"type\":\"VBar\"},{\"attributes\":{},\"id\":\"2902\",\"type\":\"LinearScale\"},{\"attributes\":{},\"id\":\"2911\",\"type\":\"SaveTool\"},{\"attributes\":{\"below\":[{\"id\":\"2904\"}],\"center\":[{\"id\":\"2906\"},{\"id\":\"2910\"}],\"height\":300,\"left\":[{\"id\":\"2907\"}],\"margin\":[5,5,5,5],\"min_border_bottom\":10,\"min_border_left\":10,\"min_border_right\":10,\"min_border_top\":10,\"renderers\":[{\"id\":\"2931\"}],\"sizing_mode\":\"fixed\",\"title\":{\"id\":\"2896\"},\"toolbar\":{\"id\":\"2917\"},\"width\":700,\"x_range\":{\"id\":\"2892\"},\"x_scale\":{\"id\":\"2900\"},\"y_range\":{\"id\":\"2893\"},\"y_scale\":{\"id\":\"2902\"}},\"id\":\"2895\",\"subtype\":\"Figure\",\"type\":\"Plot\"},{\"attributes\":{},\"id\":\"2938\",\"type\":\"BasicTickFormatter\"},{\"attributes\":{\"margin\":[5,5,5,5],\"name\":\"HSpacer01263\",\"sizing_mode\":\"stretch_width\"},\"id\":\"2891\",\"type\":\"Spacer\"},{\"attributes\":{\"axis\":{\"id\":\"2904\"},\"coordinates\":null,\"grid_line_color\":null,\"group\":null,\"ticker\":null},\"id\":\"2906\",\"type\":\"Grid\"},{\"attributes\":{},\"id\":\"2926\",\"type\":\"Selection\"},{\"attributes\":{},\"id\":\"2939\",\"type\":\"AllLabels\"},{\"attributes\":{\"fill_alpha\":{\"value\":0.1},\"fill_color\":{\"field\":\"type\",\"transform\":{\"id\":\"2924\"}},\"hatch_alpha\":{\"value\":0.1},\"hatch_color\":{\"field\":\"type\",\"transform\":{\"id\":\"2924\"}},\"line_alpha\":{\"value\":0.1},\"top\":{\"field\":\"n\"},\"width\":{\"value\":0.8},\"x\":{\"field\":\"xoffsets\"}},\"id\":\"2929\",\"type\":\"VBar\"},{\"attributes\":{\"axis_label\":\"Number of words\",\"coordinates\":null,\"formatter\":{\"id\":\"2938\"},\"group\":null,\"major_label_policy\":{\"id\":\"2939\"},\"ticker\":{\"id\":\"2908\"}},\"id\":\"2907\",\"type\":\"LinearAxis\"},{\"attributes\":{\"coordinates\":null,\"data_source\":{\"id\":\"2925\"},\"glyph\":{\"id\":\"2928\"},\"group\":null,\"hover_glyph\":null,\"muted_glyph\":{\"id\":\"2930\"},\"nonselection_glyph\":{\"id\":\"2929\"},\"selection_glyph\":{\"id\":\"2933\"},\"view\":{\"id\":\"2932\"}},\"id\":\"2931\",\"type\":\"GlyphRenderer\"},{\"attributes\":{\"children\":[{\"id\":\"2891\"},{\"id\":\"2895\"},{\"id\":\"2950\"}],\"margin\":[0,0,0,0],\"name\":\"Row01259\",\"tags\":[\"embedded\"]},\"id\":\"2890\",\"type\":\"Row\"},{\"attributes\":{},\"id\":\"2905\",\"type\":\"CategoricalTicker\"},{\"attributes\":{\"axis\":{\"id\":\"2907\"},\"coordinates\":null,\"dimension\":1,\"grid_line_color\":null,\"group\":null,\"ticker\":null},\"id\":\"2910\",\"type\":\"Grid\"},{\"attributes\":{},\"id\":\"2908\",\"type\":\"BasicTicker\"},{\"attributes\":{\"factors\":[\"control\",\"dehydration\"],\"palette\":[\"#30a2da\",\"#fc4f30\"]},\"id\":\"2924\",\"type\":\"CategoricalColorMapper\"},{\"attributes\":{\"bottom_units\":\"screen\",\"coordinates\":null,\"fill_alpha\":0.5,\"fill_color\":\"lightgrey\",\"group\":null,\"left_units\":\"screen\",\"level\":\"overlay\",\"line_alpha\":1.0,\"line_color\":\"black\",\"line_dash\":[4,4],\"line_width\":2,\"right_units\":\"screen\",\"syncable\":false,\"top_units\":\"screen\"},\"id\":\"2916\",\"type\":\"BoxAnnotation\"},{\"attributes\":{},\"id\":\"2935\",\"type\":\"CategoricalTickFormatter\"},{\"attributes\":{\"end\":17.804000000000002,\"reset_end\":17.804000000000002,\"reset_start\":0.0,\"tags\":[[[\"n\",\"n\",null]]]},\"id\":\"2893\",\"type\":\"Range1d\"},{\"attributes\":{},\"id\":\"2900\",\"type\":\"CategoricalScale\"},{\"attributes\":{\"axis_label\":\"Participant, Session Type\",\"coordinates\":null,\"formatter\":{\"id\":\"2935\"},\"group\":null,\"major_label_orientation\":0.4363323129985824,\"major_label_policy\":{\"id\":\"2936\"},\"ticker\":{\"id\":\"2905\"}},\"id\":\"2904\",\"type\":\"CategoricalAxis\"},{\"attributes\":{\"source\":{\"id\":\"2925\"}},\"id\":\"2932\",\"type\":\"CDSView\"},{\"attributes\":{\"callback\":null,\"renderers\":[{\"id\":\"2931\"}],\"tags\":[\"hv_created\"],\"tooltips\":[[\"participant\",\"@{participant}\"],[\"type\",\"@{type}\"],[\"n\",\"@{n}\"]]},\"id\":\"2894\",\"type\":\"HoverTool\"},{\"attributes\":{\"margin\":[5,5,5,5],\"name\":\"HSpacer01264\",\"sizing_mode\":\"stretch_width\"},\"id\":\"2950\",\"type\":\"Spacer\"},{\"attributes\":{\"data\":{\"n\":{\"__ndarray__\":\"16NwPQpXLEApXI/C9agpQNejcD0KVyhA7FG4HoUrMUAAAAAAAAAsQOxRuB6FKzFAAAAAAAAAKUAAAAAAAAAoQAAAAAAAACxAKVyPwvWoJUA=\",\"dtype\":\"float64\",\"order\":\"little\",\"shape\":[10]},\"participant\":[\"blue\",\"green\",\"orange\",\"pink\",\"red\",\"blue\",\"green\",\"orange\",\"pink\",\"red\"],\"type\":[\"control\",\"control\",\"control\",\"control\",\"control\",\"dehydration\",\"dehydration\",\"dehydration\",\"dehydration\",\"dehydration\"],\"xoffsets\":[[\"blue\",\"control\"],[\"green\",\"control\"],[\"orange\",\"control\"],[\"pink\",\"control\"],[\"red\",\"control\"],[\"blue\",\"dehydration\"],[\"green\",\"dehydration\"],[\"orange\",\"dehydration\"],[\"pink\",\"dehydration\"],[\"red\",\"dehydration\"]]},\"selected\":{\"id\":\"2926\"},\"selection_policy\":{\"id\":\"2947\"}},\"id\":\"2925\",\"type\":\"ColumnDataSource\"},{\"attributes\":{\"coordinates\":null,\"group\":null,\"text\":\"Average number of words produced per session type\",\"text_color\":\"black\",\"text_font_size\":\"12pt\"},\"id\":\"2896\",\"type\":\"Title\"},{\"attributes\":{},\"id\":\"2913\",\"type\":\"WheelZoomTool\"},{\"attributes\":{\"overlay\":{\"id\":\"2916\"}},\"id\":\"2914\",\"type\":\"BoxZoomTool\"},{\"attributes\":{},\"id\":\"2915\",\"type\":\"ResetTool\"},{\"attributes\":{\"bottom\":{\"value\":0},\"fill_alpha\":{\"value\":1.0},\"fill_color\":{\"field\":\"type\",\"transform\":{\"id\":\"2924\"}},\"hatch_alpha\":{\"value\":1.0},\"hatch_color\":{\"field\":\"type\",\"transform\":{\"id\":\"2924\"}},\"hatch_scale\":{\"value\":12.0},\"hatch_weight\":{\"value\":1.0},\"line_alpha\":{\"value\":1.0},\"line_cap\":{\"value\":\"butt\"},\"line_color\":{\"value\":\"black\"},\"line_dash\":{\"value\":[]},\"line_dash_offset\":{\"value\":0},\"line_join\":{\"value\":\"bevel\"},\"line_width\":{\"value\":1},\"top\":{\"field\":\"n\"},\"width\":{\"value\":0.8},\"x\":{\"field\":\"xoffsets\"}},\"id\":\"2933\",\"type\":\"VBar\"},{\"attributes\":{\"fill_alpha\":{\"value\":0.2},\"fill_color\":{\"field\":\"type\",\"transform\":{\"id\":\"2924\"}},\"hatch_alpha\":{\"value\":0.2},\"hatch_color\":{\"field\":\"type\",\"transform\":{\"id\":\"2924\"}},\"line_alpha\":{\"value\":0.2},\"top\":{\"field\":\"n\"},\"width\":{\"value\":0.8},\"x\":{\"field\":\"xoffsets\"}},\"id\":\"2930\",\"type\":\"VBar\"},{\"attributes\":{},\"id\":\"2947\",\"type\":\"UnionRenderers\"}],\"root_ids\":[\"2890\"]},\"title\":\"Bokeh Application\",\"version\":\"2.4.3\"}};\n",
       "    var render_items = [{\"docid\":\"75a9b104-31e9-4f84-8587-b57d005ad8bc\",\"root_ids\":[\"2890\"],\"roots\":{\"2890\":\"d4868350-b4a3-4c5b-9258-763f5ff19e97\"}}];\n",
       "    root.Bokeh.embed.embed_items_notebook(docs_json, render_items);\n",
       "  }\n",
       "  if (root.Bokeh !== undefined && root.Bokeh.Panel !== undefined) {\n",
       "    embed_document(root);\n",
       "  } else {\n",
       "    var attempts = 0;\n",
       "    var timer = setInterval(function(root) {\n",
       "      if (root.Bokeh !== undefined && root.Bokeh.Panel !== undefined) {\n",
       "        clearInterval(timer);\n",
       "        embed_document(root);\n",
       "      } else if (document.readyState == \"complete\") {\n",
       "        attempts++;\n",
       "        if (attempts > 200) {\n",
       "          clearInterval(timer);\n",
       "          console.log(\"Bokeh: ERROR: Unable to run BokehJS code because BokehJS library is missing\");\n",
       "        }\n",
       "      }\n",
       "    }, 25, root)\n",
       "  }\n",
       "})(window);</script>"
      ],
      "text/plain": [
       ":Bars   [participant,type]   (n)"
      ]
     },
     "execution_count": 27,
     "metadata": {
      "application/vnd.holoviews_exec.v0+json": {
       "id": "2890"
      }
     },
     "output_type": "execute_result"
    }
   ],
   "source": [
    "def verbal_test(verbal_df): # Jacob\n",
    "    verbal_df = data_dict['verbal'].copy()\n",
    "    verbal_df = verbal_df[verbal_df[1] != 'word count'] # to remove silly headers\n",
    "    verbal_df.rename(columns={0:'word_type', 1:'n'}, inplace=True)\n",
    "    verbal_df['n'] = verbal_df['n'].astype(int)\n",
    "\n",
    "    verbal_avg = verbal_df.groupby(['participant', 'type']).mean().round(2)\n",
    "    \n",
    "    verbal_avg_bar = verbal_avg.hvplot.bar(title='Average number of words produced per session type',\n",
    "                                           xlabel='Participant, Session Type', \n",
    "                                           ylabel ='Number of words').opts(xrotation=25)# * verbal_avg.hvplot.errorbars(x=)\n",
    "\n",
    "    return verbal_df, verbal_avg, verbal_avg_bar\n",
    "\n",
    "verbal_df, verbal_avg, verbal_barplot = verbal_test(data_dict['verbal'])\n",
    "verbal_barplot"
   ]
  },
  {
   "cell_type": "markdown",
   "metadata": {},
   "source": [
    "### Digit Span Analysis"
   ]
  },
  {
   "cell_type": "code",
   "execution_count": 33,
   "metadata": {},
   "outputs": [
    {
     "data": {
      "text/html": [
       "\n",
       "  <div class=\"bk-root\" id=\"94bc546e-4c2e-4b34-bb14-ac5dd918a2d5\" data-root-id=\"4969\"></div>\n"
      ]
     },
     "metadata": {},
     "output_type": "display_data"
    },
    {
     "data": {
      "application/javascript": "(function(root) {\n  function embed_document(root) {\n  const docs_json = {\"74833880-8f13-4120-a92f-516bf4e1ff65\":{\"defs\":[{\"extends\":null,\"module\":null,\"name\":\"ReactiveHTML1\",\"overrides\":[],\"properties\":[]},{\"extends\":null,\"module\":null,\"name\":\"FlexBox1\",\"overrides\":[],\"properties\":[{\"default\":\"flex-start\",\"kind\":null,\"name\":\"align_content\"},{\"default\":\"flex-start\",\"kind\":null,\"name\":\"align_items\"},{\"default\":\"row\",\"kind\":null,\"name\":\"flex_direction\"},{\"default\":\"wrap\",\"kind\":null,\"name\":\"flex_wrap\"},{\"default\":\"flex-start\",\"kind\":null,\"name\":\"justify_content\"}]},{\"extends\":null,\"module\":null,\"name\":\"GridStack1\",\"overrides\":[],\"properties\":[{\"default\":\"warn\",\"kind\":null,\"name\":\"mode\"},{\"default\":null,\"kind\":null,\"name\":\"ncols\"},{\"default\":null,\"kind\":null,\"name\":\"nrows\"},{\"default\":true,\"kind\":null,\"name\":\"allow_resize\"},{\"default\":true,\"kind\":null,\"name\":\"allow_drag\"},{\"default\":[],\"kind\":null,\"name\":\"state\"}]},{\"extends\":null,\"module\":null,\"name\":\"click1\",\"overrides\":[],\"properties\":[{\"default\":\"\",\"kind\":null,\"name\":\"terminal_output\"},{\"default\":\"\",\"kind\":null,\"name\":\"debug_name\"},{\"default\":0,\"kind\":null,\"name\":\"clears\"}]},{\"extends\":null,\"module\":null,\"name\":\"NotificationAreaBase1\",\"overrides\":[],\"properties\":[{\"default\":\"bottom-right\",\"kind\":null,\"name\":\"position\"},{\"default\":0,\"kind\":null,\"name\":\"_clear\"}]},{\"extends\":null,\"module\":null,\"name\":\"NotificationArea1\",\"overrides\":[],\"properties\":[{\"default\":[],\"kind\":null,\"name\":\"notifications\"},{\"default\":\"bottom-right\",\"kind\":null,\"name\":\"position\"},{\"default\":0,\"kind\":null,\"name\":\"_clear\"},{\"default\":[{\"background\":\"#ffc107\",\"icon\":{\"className\":\"fas fa-exclamation-triangle\",\"color\":\"white\",\"tagName\":\"i\"},\"type\":\"warning\"},{\"background\":\"#007bff\",\"icon\":{\"className\":\"fas fa-info-circle\",\"color\":\"white\",\"tagName\":\"i\"},\"type\":\"info\"}],\"kind\":null,\"name\":\"types\"}]},{\"extends\":null,\"module\":null,\"name\":\"Notification\",\"overrides\":[],\"properties\":[{\"default\":null,\"kind\":null,\"name\":\"background\"},{\"default\":3000,\"kind\":null,\"name\":\"duration\"},{\"default\":null,\"kind\":null,\"name\":\"icon\"},{\"default\":\"\",\"kind\":null,\"name\":\"message\"},{\"default\":null,\"kind\":null,\"name\":\"notification_type\"},{\"default\":false,\"kind\":null,\"name\":\"_destroyed\"}]},{\"extends\":null,\"module\":null,\"name\":\"TemplateActions1\",\"overrides\":[],\"properties\":[{\"default\":0,\"kind\":null,\"name\":\"open_modal\"},{\"default\":0,\"kind\":null,\"name\":\"close_modal\"}]},{\"extends\":null,\"module\":null,\"name\":\"MaterialTemplateActions1\",\"overrides\":[],\"properties\":[{\"default\":0,\"kind\":null,\"name\":\"open_modal\"},{\"default\":0,\"kind\":null,\"name\":\"close_modal\"}]}],\"roots\":{\"references\":[{\"attributes\":{\"below\":[{\"id\":\"4979\"}],\"center\":[{\"id\":\"4981\"},{\"id\":\"4985\"},{\"id\":\"4995\"}],\"height\":450,\"left\":[{\"id\":\"4982\"}],\"renderers\":[{\"id\":\"4992\"}],\"title\":{\"id\":\"4970\"},\"toolbar\":{\"id\":\"4986\"},\"toolbar_location\":null,\"x_range\":{\"id\":\"4968\"},\"x_scale\":{\"id\":\"4975\"},\"y_range\":{\"id\":\"4973\"},\"y_scale\":{\"id\":\"4977\"}},\"id\":\"4969\",\"subtype\":\"Figure\",\"type\":\"Plot\"},{\"attributes\":{\"axis\":{\"id\":\"4982\"},\"coordinates\":null,\"dimension\":1,\"group\":null,\"ticker\":null},\"id\":\"4985\",\"type\":\"Grid\"},{\"attributes\":{\"data\":{\"counts\":[6.0,6.0,6.0,5.5,5.5,5.5,6.5,5.5,7.5,6.5],\"x\":[[\"blue\",\"control\"],[\"blue\",\"dehydration\"],[\"green\",\"control\"],[\"green\",\"dehydration\"],[\"orange\",\"control\"],[\"orange\",\"dehydration\"],[\"pink\",\"control\"],[\"pink\",\"dehydration\"],[\"red\",\"control\"],[\"red\",\"dehydration\"]]},\"selected\":{\"id\":\"5167\"},\"selection_policy\":{\"id\":\"5166\"}},\"id\":\"4967\",\"type\":\"ColumnDataSource\"},{\"attributes\":{\"fill_alpha\":{\"value\":0.1},\"fill_color\":{\"field\":\"x\",\"transform\":{\"id\":\"4987\"}},\"hatch_alpha\":{\"value\":0.1},\"line_alpha\":{\"value\":0.1},\"line_color\":{\"value\":\"white\"},\"top\":{\"field\":\"counts\"},\"width\":{\"value\":0.9},\"x\":{\"field\":\"x\"}},\"id\":\"4990\",\"type\":\"VBar\"},{\"attributes\":{\"coordinates\":null,\"data_source\":{\"id\":\"4967\"},\"glyph\":{\"id\":\"4989\"},\"group\":null,\"hover_glyph\":null,\"muted_glyph\":{\"id\":\"4991\"},\"nonselection_glyph\":{\"id\":\"4990\"},\"view\":{\"id\":\"4993\"}},\"id\":\"4992\",\"type\":\"GlyphRenderer\"},{\"attributes\":{},\"id\":\"5167\",\"type\":\"Selection\"},{\"attributes\":{\"fill_alpha\":{\"value\":0.2},\"fill_color\":{\"field\":\"x\",\"transform\":{\"id\":\"4987\"}},\"hatch_alpha\":{\"value\":0.2},\"line_alpha\":{\"value\":0.2},\"line_color\":{\"value\":\"white\"},\"top\":{\"field\":\"counts\"},\"width\":{\"value\":0.9},\"x\":{\"field\":\"x\"}},\"id\":\"4991\",\"type\":\"VBar\"},{\"attributes\":{\"axis_label\":\"Participant\",\"coordinates\":null,\"formatter\":{\"id\":\"5162\"},\"group\":null,\"major_label_orientation\":1,\"major_label_policy\":{\"id\":\"5163\"},\"ticker\":{\"id\":\"4980\"}},\"id\":\"4979\",\"type\":\"CategoricalAxis\"},{\"attributes\":{},\"id\":\"5163\",\"type\":\"AllLabels\"},{\"attributes\":{},\"id\":\"5166\",\"type\":\"UnionRenderers\"},{\"attributes\":{\"range_padding\":1,\"start\":0},\"id\":\"4973\",\"type\":\"DataRange1d\"},{\"attributes\":{\"axis\":{\"id\":\"4979\"},\"coordinates\":null,\"grid_line_color\":null,\"group\":null,\"ticker\":null},\"id\":\"4981\",\"type\":\"Grid\"},{\"attributes\":{\"coordinates\":null,\"group\":null,\"text\":\"Digit Span - Longest sequence remembered\"},\"id\":\"4970\",\"type\":\"Title\"},{\"attributes\":{\"data\":{\"lower\":[6.0,4.04,6.0,4.52,4.52,4.52,5.52,4.52,6.52,5.52],\"upper\":[6.0,7.96,6.0,6.48,6.48,6.48,7.48,6.48,8.48,7.48],\"x\":[[\"blue\",\"control\"],[\"blue\",\"dehydration\"],[\"green\",\"control\"],[\"green\",\"dehydration\"],[\"orange\",\"control\"],[\"orange\",\"dehydration\"],[\"pink\",\"control\"],[\"pink\",\"dehydration\"],[\"red\",\"control\"],[\"red\",\"dehydration\"]]},\"selected\":{\"id\":\"5169\"},\"selection_policy\":{\"id\":\"5168\"}},\"id\":\"4994\",\"type\":\"ColumnDataSource\"},{\"attributes\":{\"base\":{\"field\":\"x\"},\"coordinates\":null,\"group\":null,\"level\":\"overlay\",\"line_color\":{\"value\":\"purple\"},\"lower\":{\"field\":\"lower\"},\"lower_head\":{\"id\":\"4998\"},\"source\":{\"id\":\"4994\"},\"upper\":{\"field\":\"upper\"},\"upper_head\":{\"id\":\"4997\"}},\"id\":\"4995\",\"type\":\"Whisker\"},{\"attributes\":{\"line_color\":{\"value\":\"purple\"},\"size\":{\"value\":20}},\"id\":\"4998\",\"type\":\"TeeHead\"},{\"attributes\":{},\"id\":\"4986\",\"type\":\"Toolbar\"},{\"attributes\":{},\"id\":\"4977\",\"type\":\"LinearScale\"},{\"attributes\":{\"line_color\":{\"value\":\"purple\"},\"size\":{\"value\":20}},\"id\":\"4997\",\"type\":\"TeeHead\"},{\"attributes\":{},\"id\":\"5169\",\"type\":\"Selection\"},{\"attributes\":{},\"id\":\"5159\",\"type\":\"BasicTickFormatter\"},{\"attributes\":{\"factors\":[[\"blue\",\"control\"],[\"blue\",\"dehydration\"],[\"green\",\"control\"],[\"green\",\"dehydration\"],[\"orange\",\"control\"],[\"orange\",\"dehydration\"],[\"pink\",\"control\"],[\"pink\",\"dehydration\"],[\"red\",\"control\"],[\"red\",\"dehydration\"]],\"range_padding\":0.1},\"id\":\"4968\",\"type\":\"FactorRange\"},{\"attributes\":{\"end\":2,\"factors\":[\"control\",\"dehydration\"],\"palette\":[\"skyblue\",\"salmon\"],\"start\":1},\"id\":\"4987\",\"type\":\"CategoricalColorMapper\"},{\"attributes\":{},\"id\":\"4980\",\"type\":\"CategoricalTicker\"},{\"attributes\":{},\"id\":\"5160\",\"type\":\"AllLabels\"},{\"attributes\":{\"axis_label\":\"Number of digits (mean)\",\"coordinates\":null,\"formatter\":{\"id\":\"5159\"},\"group\":null,\"major_label_orientation\":\"vertical\",\"major_label_policy\":{\"id\":\"5160\"},\"ticker\":{\"id\":\"4983\"}},\"id\":\"4982\",\"type\":\"LinearAxis\"},{\"attributes\":{\"fill_color\":{\"field\":\"x\",\"transform\":{\"id\":\"4987\"}},\"line_color\":{\"value\":\"white\"},\"top\":{\"field\":\"counts\"},\"width\":{\"value\":0.9},\"x\":{\"field\":\"x\"}},\"id\":\"4989\",\"type\":\"VBar\"},{\"attributes\":{},\"id\":\"5168\",\"type\":\"UnionRenderers\"},{\"attributes\":{},\"id\":\"4975\",\"type\":\"CategoricalScale\"},{\"attributes\":{},\"id\":\"5162\",\"type\":\"CategoricalTickFormatter\"},{\"attributes\":{},\"id\":\"4983\",\"type\":\"BasicTicker\"},{\"attributes\":{\"source\":{\"id\":\"4967\"}},\"id\":\"4993\",\"type\":\"CDSView\"}],\"root_ids\":[\"4969\"]},\"title\":\"Bokeh Application\",\"version\":\"2.4.3\"}};\n  const render_items = [{\"docid\":\"74833880-8f13-4120-a92f-516bf4e1ff65\",\"root_ids\":[\"4969\"],\"roots\":{\"4969\":\"94bc546e-4c2e-4b34-bb14-ac5dd918a2d5\"}}];\n  root.Bokeh.embed.embed_items_notebook(docs_json, render_items);\n  }\n  if (root.Bokeh !== undefined) {\n    embed_document(root);\n  } else {\n    let attempts = 0;\n    const timer = setInterval(function(root) {\n      if (root.Bokeh !== undefined) {\n        clearInterval(timer);\n        embed_document(root);\n      } else {\n        attempts++;\n        if (attempts > 100) {\n          clearInterval(timer);\n          console.log(\"Bokeh: ERROR: Unable to run BokehJS code because BokehJS library is missing\");\n        }\n      }\n    }, 10, root)\n  }\n})(window);",
      "application/vnd.bokehjs_exec.v0+json": ""
     },
     "metadata": {
      "application/vnd.bokehjs_exec.v0+json": {
       "id": "4969"
      }
     },
     "output_type": "display_data"
    },
    {
     "data": {
      "text/html": [
       "\n",
       "  <div class=\"bk-root\" id=\"9c2949db-4136-456b-8cdd-bc611f98bcc2\" data-root-id=\"5237\"></div>\n"
      ]
     },
     "metadata": {},
     "output_type": "display_data"
    },
    {
     "data": {
      "application/javascript": "(function(root) {\n  function embed_document(root) {\n  const docs_json = {\"15e5ad88-8f64-4a52-9111-b29f26eeac44\":{\"defs\":[{\"extends\":null,\"module\":null,\"name\":\"ReactiveHTML1\",\"overrides\":[],\"properties\":[]},{\"extends\":null,\"module\":null,\"name\":\"FlexBox1\",\"overrides\":[],\"properties\":[{\"default\":\"flex-start\",\"kind\":null,\"name\":\"align_content\"},{\"default\":\"flex-start\",\"kind\":null,\"name\":\"align_items\"},{\"default\":\"row\",\"kind\":null,\"name\":\"flex_direction\"},{\"default\":\"wrap\",\"kind\":null,\"name\":\"flex_wrap\"},{\"default\":\"flex-start\",\"kind\":null,\"name\":\"justify_content\"}]},{\"extends\":null,\"module\":null,\"name\":\"GridStack1\",\"overrides\":[],\"properties\":[{\"default\":\"warn\",\"kind\":null,\"name\":\"mode\"},{\"default\":null,\"kind\":null,\"name\":\"ncols\"},{\"default\":null,\"kind\":null,\"name\":\"nrows\"},{\"default\":true,\"kind\":null,\"name\":\"allow_resize\"},{\"default\":true,\"kind\":null,\"name\":\"allow_drag\"},{\"default\":[],\"kind\":null,\"name\":\"state\"}]},{\"extends\":null,\"module\":null,\"name\":\"click1\",\"overrides\":[],\"properties\":[{\"default\":\"\",\"kind\":null,\"name\":\"terminal_output\"},{\"default\":\"\",\"kind\":null,\"name\":\"debug_name\"},{\"default\":0,\"kind\":null,\"name\":\"clears\"}]},{\"extends\":null,\"module\":null,\"name\":\"NotificationAreaBase1\",\"overrides\":[],\"properties\":[{\"default\":\"bottom-right\",\"kind\":null,\"name\":\"position\"},{\"default\":0,\"kind\":null,\"name\":\"_clear\"}]},{\"extends\":null,\"module\":null,\"name\":\"NotificationArea1\",\"overrides\":[],\"properties\":[{\"default\":[],\"kind\":null,\"name\":\"notifications\"},{\"default\":\"bottom-right\",\"kind\":null,\"name\":\"position\"},{\"default\":0,\"kind\":null,\"name\":\"_clear\"},{\"default\":[{\"background\":\"#ffc107\",\"icon\":{\"className\":\"fas fa-exclamation-triangle\",\"color\":\"white\",\"tagName\":\"i\"},\"type\":\"warning\"},{\"background\":\"#007bff\",\"icon\":{\"className\":\"fas fa-info-circle\",\"color\":\"white\",\"tagName\":\"i\"},\"type\":\"info\"}],\"kind\":null,\"name\":\"types\"}]},{\"extends\":null,\"module\":null,\"name\":\"Notification\",\"overrides\":[],\"properties\":[{\"default\":null,\"kind\":null,\"name\":\"background\"},{\"default\":3000,\"kind\":null,\"name\":\"duration\"},{\"default\":null,\"kind\":null,\"name\":\"icon\"},{\"default\":\"\",\"kind\":null,\"name\":\"message\"},{\"default\":null,\"kind\":null,\"name\":\"notification_type\"},{\"default\":false,\"kind\":null,\"name\":\"_destroyed\"}]},{\"extends\":null,\"module\":null,\"name\":\"TemplateActions1\",\"overrides\":[],\"properties\":[{\"default\":0,\"kind\":null,\"name\":\"open_modal\"},{\"default\":0,\"kind\":null,\"name\":\"close_modal\"}]},{\"extends\":null,\"module\":null,\"name\":\"MaterialTemplateActions1\",\"overrides\":[],\"properties\":[{\"default\":0,\"kind\":null,\"name\":\"open_modal\"},{\"default\":0,\"kind\":null,\"name\":\"close_modal\"}]}],\"roots\":{\"references\":[{\"attributes\":{\"below\":[{\"id\":\"5247\"}],\"center\":[{\"id\":\"5249\"},{\"id\":\"5253\"},{\"id\":\"5263\"}],\"height\":450,\"left\":[{\"id\":\"5250\"}],\"renderers\":[{\"id\":\"5260\"}],\"title\":{\"id\":\"5238\"},\"toolbar\":{\"id\":\"5254\"},\"toolbar_location\":null,\"x_range\":{\"id\":\"5236\"},\"x_scale\":{\"id\":\"5243\"},\"y_range\":{\"id\":\"5241\"},\"y_scale\":{\"id\":\"5245\"}},\"id\":\"5237\",\"subtype\":\"Figure\",\"type\":\"Plot\"},{\"attributes\":{\"axis_label\":\"Participant\",\"coordinates\":null,\"formatter\":{\"id\":\"5443\"},\"group\":null,\"major_label_orientation\":1,\"major_label_policy\":{\"id\":\"5444\"},\"ticker\":{\"id\":\"5248\"}},\"id\":\"5247\",\"type\":\"CategoricalAxis\"},{\"attributes\":{},\"id\":\"5441\",\"type\":\"AllLabels\"},{\"attributes\":{\"base\":{\"field\":\"x\"},\"coordinates\":null,\"group\":null,\"level\":\"overlay\",\"line_color\":{\"value\":\"purple\"},\"lower\":{\"field\":\"lower\"},\"lower_head\":{\"id\":\"5266\"},\"source\":{\"id\":\"5262\"},\"upper\":{\"field\":\"upper\"},\"upper_head\":{\"id\":\"5265\"}},\"id\":\"5263\",\"type\":\"Whisker\"},{\"attributes\":{},\"id\":\"5248\",\"type\":\"CategoricalTicker\"},{\"attributes\":{},\"id\":\"5444\",\"type\":\"AllLabels\"},{\"attributes\":{\"range_padding\":1,\"start\":0},\"id\":\"5241\",\"type\":\"DataRange1d\"},{\"attributes\":{\"line_color\":{\"value\":\"purple\"},\"size\":{\"value\":20}},\"id\":\"5266\",\"type\":\"TeeHead\"},{\"attributes\":{\"end\":2,\"factors\":[\"control\",\"dehydration\"],\"palette\":[\"skyblue\",\"salmon\"],\"start\":1},\"id\":\"5255\",\"type\":\"CategoricalColorMapper\"},{\"attributes\":{},\"id\":\"5443\",\"type\":\"CategoricalTickFormatter\"},{\"attributes\":{\"source\":{\"id\":\"5235\"}},\"id\":\"5261\",\"type\":\"CDSView\"},{\"attributes\":{\"axis_label\":\"Number of errors made (mean)\",\"coordinates\":null,\"formatter\":{\"id\":\"5440\"},\"group\":null,\"major_label_orientation\":\"vertical\",\"major_label_policy\":{\"id\":\"5441\"},\"ticker\":{\"id\":\"5251\"}},\"id\":\"5250\",\"type\":\"LinearAxis\"},{\"attributes\":{\"fill_alpha\":{\"value\":0.1},\"fill_color\":{\"field\":\"x\",\"transform\":{\"id\":\"5255\"}},\"hatch_alpha\":{\"value\":0.1},\"line_alpha\":{\"value\":0.1},\"line_color\":{\"value\":\"white\"},\"top\":{\"field\":\"counts\"},\"width\":{\"value\":0.9},\"x\":{\"field\":\"x\"}},\"id\":\"5258\",\"type\":\"VBar\"},{\"attributes\":{\"fill_alpha\":{\"value\":0.2},\"fill_color\":{\"field\":\"x\",\"transform\":{\"id\":\"5255\"}},\"hatch_alpha\":{\"value\":0.2},\"line_alpha\":{\"value\":0.2},\"line_color\":{\"value\":\"white\"},\"top\":{\"field\":\"counts\"},\"width\":{\"value\":0.9},\"x\":{\"field\":\"x\"}},\"id\":\"5259\",\"type\":\"VBar\"},{\"attributes\":{\"axis\":{\"id\":\"5247\"},\"coordinates\":null,\"grid_line_color\":null,\"group\":null,\"ticker\":null},\"id\":\"5249\",\"type\":\"Grid\"},{\"attributes\":{},\"id\":\"5440\",\"type\":\"BasicTickFormatter\"},{\"attributes\":{},\"id\":\"5251\",\"type\":\"BasicTicker\"},{\"attributes\":{},\"id\":\"5447\",\"type\":\"UnionRenderers\"},{\"attributes\":{\"coordinates\":null,\"group\":null,\"text\":\"Digit Span - Erorrs\"},\"id\":\"5238\",\"type\":\"Title\"},{\"attributes\":{},\"id\":\"5245\",\"type\":\"LinearScale\"},{\"attributes\":{},\"id\":\"5449\",\"type\":\"UnionRenderers\"},{\"attributes\":{\"data\":{\"counts\":[0.15384615384615385,0.23636363636363636,0.19871794871794873,0.18333333333333335,0.18333333333333335,0.2062937062937063,0.20833333333333331,0.19805194805194803,0.18823529411764706,0.15],\"x\":[[\"blue\",\"control\"],[\"blue\",\"dehydration\"],[\"green\",\"control\"],[\"green\",\"dehydration\"],[\"orange\",\"control\"],[\"orange\",\"dehydration\"],[\"pink\",\"control\"],[\"pink\",\"dehydration\"],[\"red\",\"control\"],[\"red\",\"dehydration\"]]},\"selected\":{\"id\":\"5448\"},\"selection_policy\":{\"id\":\"5447\"}},\"id\":\"5235\",\"type\":\"ColumnDataSource\"},{\"attributes\":{},\"id\":\"5448\",\"type\":\"Selection\"},{\"attributes\":{\"axis\":{\"id\":\"5250\"},\"coordinates\":null,\"dimension\":1,\"group\":null,\"ticker\":null},\"id\":\"5253\",\"type\":\"Grid\"},{\"attributes\":{\"data\":{\"lower\":[0.15384615384615385,0.16509090909090912,0.13589743589743591,0.15066666666666667,0.15066666666666667,0.15832167832167832,0.12666666666666665,0.16623376623376626,0.1651764705882353,0.11733333333333335],\"upper\":[0.15384615384615385,0.3076363636363636,0.26153846153846155,0.21600000000000003,0.21600000000000003,0.2542657342657343,0.29,0.2298701298701298,0.2112941176470588,0.18266666666666664],\"x\":[[\"blue\",\"control\"],[\"blue\",\"dehydration\"],[\"green\",\"control\"],[\"green\",\"dehydration\"],[\"orange\",\"control\"],[\"orange\",\"dehydration\"],[\"pink\",\"control\"],[\"pink\",\"dehydration\"],[\"red\",\"control\"],[\"red\",\"dehydration\"]]},\"selected\":{\"id\":\"5450\"},\"selection_policy\":{\"id\":\"5449\"}},\"id\":\"5262\",\"type\":\"ColumnDataSource\"},{\"attributes\":{\"line_color\":{\"value\":\"purple\"},\"size\":{\"value\":20}},\"id\":\"5265\",\"type\":\"TeeHead\"},{\"attributes\":{},\"id\":\"5450\",\"type\":\"Selection\"},{\"attributes\":{\"factors\":[[\"blue\",\"control\"],[\"blue\",\"dehydration\"],[\"green\",\"control\"],[\"green\",\"dehydration\"],[\"orange\",\"control\"],[\"orange\",\"dehydration\"],[\"pink\",\"control\"],[\"pink\",\"dehydration\"],[\"red\",\"control\"],[\"red\",\"dehydration\"]],\"range_padding\":0.1},\"id\":\"5236\",\"type\":\"FactorRange\"},{\"attributes\":{},\"id\":\"5254\",\"type\":\"Toolbar\"},{\"attributes\":{},\"id\":\"5243\",\"type\":\"CategoricalScale\"},{\"attributes\":{\"fill_color\":{\"field\":\"x\",\"transform\":{\"id\":\"5255\"}},\"line_color\":{\"value\":\"white\"},\"top\":{\"field\":\"counts\"},\"width\":{\"value\":0.9},\"x\":{\"field\":\"x\"}},\"id\":\"5257\",\"type\":\"VBar\"},{\"attributes\":{\"coordinates\":null,\"data_source\":{\"id\":\"5235\"},\"glyph\":{\"id\":\"5257\"},\"group\":null,\"hover_glyph\":null,\"muted_glyph\":{\"id\":\"5259\"},\"nonselection_glyph\":{\"id\":\"5258\"},\"view\":{\"id\":\"5261\"}},\"id\":\"5260\",\"type\":\"GlyphRenderer\"}],\"root_ids\":[\"5237\"]},\"title\":\"Bokeh Application\",\"version\":\"2.4.3\"}};\n  const render_items = [{\"docid\":\"15e5ad88-8f64-4a52-9111-b29f26eeac44\",\"root_ids\":[\"5237\"],\"roots\":{\"5237\":\"9c2949db-4136-456b-8cdd-bc611f98bcc2\"}}];\n  root.Bokeh.embed.embed_items_notebook(docs_json, render_items);\n  }\n  if (root.Bokeh !== undefined) {\n    embed_document(root);\n  } else {\n    let attempts = 0;\n    const timer = setInterval(function(root) {\n      if (root.Bokeh !== undefined) {\n        clearInterval(timer);\n        embed_document(root);\n      } else {\n        attempts++;\n        if (attempts > 100) {\n          clearInterval(timer);\n          console.log(\"Bokeh: ERROR: Unable to run BokehJS code because BokehJS library is missing\");\n        }\n      }\n    }, 10, root)\n  }\n})(window);",
      "application/vnd.bokehjs_exec.v0+json": ""
     },
     "metadata": {
      "application/vnd.bokehjs_exec.v0+json": {
       "id": "5237"
      }
     },
     "output_type": "display_data"
    }
   ],
   "source": [
    "def digit_test(digit_df): # Karina\n",
    "    '''Function to analyse the Digit Span data and to create a dataframe with the information needed to plot'''\n",
    "    # Change data types\n",
    "    digit_df = digit_df.astype({'participant': 'string',\n",
    "                                'type': 'string',\n",
    "                                'repeat': 'int',\n",
    "                                'seq length':'float',\n",
    "                                'errors': 'float',\n",
    "                                'clicks expected': 'float',\n",
    "                                'clicks observed': 'float'})\n",
    "\n",
    "    digit_df['clicks difference'] = digit_df['clicks observed'] - digit_df['clicks expected']\n",
    "    # Make calculations by column taking the groups into account               \n",
    "    digit_grouped = digit_df.groupby(['participant','type', 'repeat']).agg({'seq length': 'max','errors': 'mean', 'clicks difference':'mean'} )\n",
    "\n",
    "    # Calculte values needed for the analysis\n",
    "    digit_grouped['seq length'] = digit_grouped['seq length'] - 1\n",
    "\n",
    "    # Obtain mean and estandar error\n",
    "    digit_mean_sem = digit_grouped.groupby(['participant', 'type']).agg(['mean','sem'])\n",
    "\n",
    "    return digit_mean_sem\n",
    "\n",
    "#Running function\n",
    "digit_mean_sem = digit_test(digit_df = df_dict[\"digit\"])\n",
    "\n",
    "\n",
    "def digit_barplots(analysis):\n",
    "    '''Function to plot the digit span data with error bars'''\n",
    "\n",
    "    df = digit_mean_sem\n",
    "    # Data for the barplots\n",
    "    participants = df.reset_index().participant.unique().tolist()\n",
    "    sessions_type = df.reset_index().type.unique().tolist()\n",
    "    values = df[analysis]['mean'].tolist()\n",
    "\n",
    "    # Data for the error bars\n",
    "    upper = df[analysis]['mean'] + 1.96 * df[analysis]['sem']\n",
    "    lower = df[analysis]['mean'] - 1.96 * df[analysis]['sem']\n",
    "    data = pd.concat([upper.rename(\"upper\"), lower.rename(\"lower\")], axis=1)\n",
    "\n",
    "    palette=['skyblue', 'salmon']\n",
    "    # Dictionary to change the y labels\n",
    "    y_label = {'seq length': 'Number of digits (mean)',\n",
    "              'errors':'Number of errors made (mean)',\n",
    "              'clicks difference': 'Diference in errors made (mean)'}\n",
    "    # Dictionary to change the plot titles\n",
    "    title = {'seq length': 'Digit Span - Longest sequence remembered',\n",
    "              'errors':'Digit Span - Erorrs',\n",
    "              'clicks difference': 'Digit Span - Diference in errors made (mean)'}\n",
    "\n",
    "    x = [(participant, session) for participant in participants for session in sessions_type]\n",
    "    source = ColumnDataSource(data=dict(x=x, counts=values))\n",
    "    \n",
    "    # Create the barplots\n",
    "    p = figure(x_range=FactorRange(*x), height=450, title=title[analysis],\n",
    "            toolbar_location=None, tools=\"\")\n",
    "\n",
    "    p.vbar(x='x', top='counts', width=0.9, source=source, line_color=\"white\",\n",
    "        fill_color=factor_cmap('x', palette=palette, factors=sessions_type, start=1, end=2))\n",
    "\n",
    "    # customise x-axis\n",
    "    p.xaxis.axis_label = \"Participant\"\n",
    "    p.x_range.range_padding = 0.1\n",
    "    p.xaxis.major_label_orientation = 1\n",
    "    p.xgrid.grid_line_color = None\n",
    "\n",
    "    #  customise y-axis\n",
    "    p.yaxis.axis_label = y_label[analysis]\n",
    "    p.y_range.start = 0\n",
    "    p.yaxis.major_label_orientation = \"vertical\"\n",
    "    p.y_range.range_padding = 1\n",
    "    \n",
    "    # Run the function to add the error bars\n",
    "    p = plot_standard_error(plot=p, data=data)\n",
    "    return (p)\n",
    "\n",
    "p_seq_len = digit_barplots('seq length')\n",
    "show(p_seq_len )\n",
    "\n",
    "p_error = digit_barplots('errors')\n",
    "show(p_error)\n",
    "\n",
    "# # Making interactive the plots \n",
    "#analyses = ['seq length', 'errors']\n",
    "#inter_plot = pn.interact(digit_barplots, analysis=analyses)\n",
    "#inter_plot\n",
    "\n",
    "# # Creating a dashboard\n",
    "# dashboard = pn.template.BootstrapTemplate(title='Title', sidebar_with = 400)\n",
    "# dashboard.sidebar.append(inter_plot[0])\n",
    "# dashboard.main.append(inter_plot[1])\n",
    "# dashboard.show()\n"
   ]
  },
  {
   "cell_type": "markdown",
   "metadata": {},
   "source": [
    "### Dehydration percentage"
   ]
  },
  {
   "cell_type": "code",
   "execution_count": null,
   "metadata": {},
   "outputs": [],
   "source": [
    "# Obtain personal data\n",
    "df_health = df_dict['personal']\n",
    "# Theres one missing value in the green session. Fill it with the correct value\n",
    "df_health[0] = df_health[0].fillna(2)\n",
    "\n",
    "def dehydration_percentage():\n",
    "    '''Function to obtain the % of dehydration per participant per session'''\n",
    "    # Keep only the body weight data and drop NaN\n",
    "    body_weight = df_health[['participant','type', 0, 5]].dropna()\n",
    "    # drop the rows with strings on them (the ones with index ==0 )\n",
    "    body_weight = body_weight[body_weight.index!=0]\n",
    "    # Rename the columns\n",
    "    body_weight.rename(columns={0:'session', 5:'body weight'}, inplace=True)\n",
    "\n",
    "    body_weight = body_weight.astype({'body weight':'float'})\n",
    "    # calculate percentage of dehydration\n",
    "    body_weight['dehydration %'] = (body_weight.groupby(['participant','type','session'])['body weight'].pct_change()) * 100\n",
    "    return body_weight\n",
    "\n"
   ]
  },
  {
   "cell_type": "code",
   "execution_count": null,
   "metadata": {},
   "outputs": [],
   "source": [
    "dehydration_percentage = round(dehydration_percentage.dropna(),2)\n",
    "dehydration_percentage.drop(dehydration_percentage.columns[3], axis=1, inplace=True)\n",
    "dehydration_percentage = dehydration_percentage[dehydration_percentage['type']=='dehydration']\n",
    "dehydration_percentage = dehydration_percentage.T\n",
    "dehydration_percentage.columns = dehydration_percentage.iloc[0] # consider the first row as header\n",
    "dehydration_percentage = dehydration_percentage[1:]\n",
    "dehydration_percentage"
   ]
  },
  {
   "cell_type": "markdown",
   "metadata": {},
   "source": [
    "## Panel"
   ]
  },
  {
   "cell_type": "code",
   "execution_count": null,
   "metadata": {},
   "outputs": [],
   "source": []
  },
  {
   "cell_type": "code",
   "execution_count": null,
   "metadata": {},
   "outputs": [],
   "source": [
    "sample_text = '''\n",
    "Lorem ipsum dolor sit amet, consectetur adipiscing elit. Pellentesque augue eros, tristique ut eros et, bibendum mattis tellus. Integer dui sapien, pulvinar nec ante nec, rutrum feugiat massa. Fusce tristique viverra nunc, sed commodo orci rhoncus sed. Aliquam pellentesque dui lectus, vel gravida eros volutpat vitae. Aliquam faucibus nulla id dolor suscipit elementum. Donec sed ante hendrerit, porta ligula faucibus, venenatis mi. Donec id imperdiet neque. Ut vel blandit urna. Fusce convallis, eros at suscipit aliquam, quam tellus pharetra est, ultrices ultrices dolor mi eu enim. Integer sed rutrum tellus.\n",
    "\n",
    "Etiam non commodo sem. Fusce faucibus tristique mauris, et fermentum quam euismod et. Vestibulum tempor mi neque, et consectetur odio tincidunt ut. Nunc scelerisque sed neque vitae efficitur. Nulla rutrum purus hendrerit, posuere massa ut, pharetra mi. Pellentesque nisi ipsum, pretium ut interdum eget, tempor at dui. Vestibulum a lectus est. Curabitur faucibus id neque ut pharetra. Proin rutrum aliquet scelerisque. Vestibulum id felis at eros accumsan commodo. Vestibulum nec sem felis. Aenean in ullamcorper diam.\n",
    "\n",
    "In commodo nisl turpis, id laoreet elit suscipit eu. Mauris ut interdum odio. Vivamus ultricies lorem ligula, ut consequat sapien tempor non. Aenean pellentesque nulla sit amet sem fermentum auctor. Nulla facilisi. Sed iaculis vehicula neque, sit amet tempor libero fringilla quis. Phasellus malesuada placerat elit nec vestibulum. Etiam eu odio imperdiet, ornare leo sed, suscipit magna. Proin diam ante, imperdiet eu odio ac, consectetur euismod ipsum. Vivamus non odio aliquet, dapibus elit sit amet, viverra diam. Proin posuere orci eget orci tempus, ut eleifend ipsum mattis. Fusce ultrices est vitae nibh aliquet sollicitudin. Duis vehicula erat turpis, ac efficitur turpis sagittis eget.\n",
    "\n",
    "Proin eros sapien, vestibulum at congue a, hendrerit sed lacus. Mauris aliquet egestas mauris, sit amet mattis velit faucibus convallis. Phasellus aliquam sapien eros, quis volutpat velit faucibus ut. Vestibulum pulvinar mollis orci vel fringilla. In dapibus, mi iaculis ornare tincidunt, lacus risus sollicitudin tortor, blandit eleifend tellus arcu id tortor. Cras nec fringilla nunc, a fermentum urna. Vivamus urna ligula, tempus nec dolor sed, fermentum faucibus velit. Nulla convallis vitae turpis in tempor.\n",
    "\n",
    "Integer non faucibus mi, vel gravida felis. Suspendisse vel mi felis. Curabitur dapibus enim ullamcorper consequat vulputate. Suspendisse scelerisque nibh ut luctus iaculis. Sed nunc urna, hendrerit vel sapien nec, imperdiet posuere felis. Cras varius nibh sed tortor congue, et egestas velit lacinia. Mauris purus magna, posuere vel metus non, tempus mattis lacus. Vestibulum turpis justo, posuere nec ante at, facilisis tristique dui. Aenean gravida, eros in luctus lobortis, ipsum lorem ornare felis, vel volutpat ipsum metus vitae erat. Aliquam condimentum aliquam ipsum, at aliquet quam congue quis. Phasellus eu metus velit.\n",
    "'''"
   ]
  },
  {
   "cell_type": "code",
   "execution_count": null,
   "metadata": {},
   "outputs": [],
   "source": [
    "# CSS styling\n",
    "css = '''\n",
    ".sidebar_button .bk-btn-group button {\n",
    "  font-size: 10pt;\n",
    "}\n",
    ".bk-root .bk-btn-default{\n",
    "  border-radius: 25px;\n",
    "}\n",
    "\n",
    ".red_button .bk-btn-default.bk-active {\n",
    "  background-color: #ff5447;\n",
    "  color: white;\n",
    "  border-radius: 25px;\n",
    "}\n",
    ".orange_button .bk-btn-default.bk-active {\n",
    "  background-color: #ff8d54;\n",
    "  color: white;\n",
    "  border-radius: 25px;\n",
    "}\n",
    ".green_button .bk-btn-default.bk-active {\n",
    "  background-color: #67ba65;\n",
    "  color: white;\n",
    "  border-radius: 25px;\n",
    "}\n",
    ".blue_button .bk-btn-default.bk-active {\n",
    "  background-color: #5fc6fa;\n",
    "  color: white;\n",
    "  border-radius: 25px;\n",
    "}\n",
    ".pink_button .bk-btn-default.bk-active {\n",
    "  background-color: #f06ed6;\n",
    "  color: white;\n",
    "  border-radius: 25px;\n",
    "}\n",
    "'''\n",
    "\n",
    "pn.extension(raw_css=[css])\n",
    "\n",
    "dashboard = pn.template.BootstrapTemplate(header_background='#00C9FF',\n",
    "                                        #  theme=DarkTheme,\n",
    "                                          sidebar_width=200)\n",
    "\n",
    "\n",
    "def show_homepage(event):\n",
    "    title.object = f'##{event.obj.name}'\n",
    "    \n",
    "def update_page(event):\n",
    "    print(event)\n",
    "    name = event.name\n",
    "    figure1.clear()\n",
    "    figure1.append(flanker_counts)\n",
    "    title.object = f'##{event.obj.name}'\n",
    "    figures = pn.Row(pn.Column('test2'), pn.Column('test3'))\n",
    "    \n",
    "    \n",
    "\n",
    "# Create sidebar buttons:\n",
    "homepage_btn       = pn.widgets.Button(name='Homepage', width=150, css_classes=['sidebar_button'])\n",
    "stroop_btn         = pn.widgets.Button(name='Stroop test', width=150, css_classes=['sidebar_button'])\n",
    "stop_signal_btn    = pn.widgets.Button(name='Stop Signal test', width=150, css_classes=['sidebar_button'])\n",
    "flanker_btn        = pn.widgets.Button(name='Flanker test', width=150, css_classes=['sidebar_button'])\n",
    "digit_span_btn     = pn.widgets.Button(name='Digit span test', width=150, css_classes=['sidebar_button'])\n",
    "verbal_fluency_btn = pn.widgets.Button(name='Verbal fluency test', width=150, css_classes=['sidebar_button'])\n",
    "\n",
    "# append buttons to sidebar\n",
    "dashboard.sidebar.append(homepage_btn)\n",
    "dashboard.sidebar.append(stroop_btn)\n",
    "dashboard.sidebar.append(stop_signal_btn)\n",
    "dashboard.sidebar.append(flanker_btn)\n",
    "dashboard.sidebar.append(digit_span_btn)\n",
    "dashboard.sidebar.append(verbal_fluency_btn)\n",
    "\n",
    "# create participant options buttons\n",
    "red_btn = pn.widgets.Toggle(name='Red', value=True, width=100, css_classes=['red_button'])\n",
    "orange_btn = pn.widgets.Toggle(name='Orange', value=True, width=100, css_classes=['orange_button'])\n",
    "green_btn = pn.widgets.Toggle(name='Green', value=True, width=100, css_classes=['green_button'])\n",
    "blue_btn = pn.widgets.Toggle(name='Blue', value=True, width=100, css_classes=['blue_button'])\n",
    "pink_btn = pn.widgets.Toggle(name='Pink', value=True, width=100, css_classes=['pink_button'])\n",
    "\n",
    "# make buttons interactive\n",
    "homepage_btn.on_click(show_homepage)\n",
    "stroop_btn.on_click(update_page)\n",
    "# stop_signal_btn.on_click(update_page)\n",
    "# flanker_btn.on_click(update_page)\n",
    "# digit_span_btn.on_click(update_page)\n",
    "# verbal_fluency_btn.on_click(update_page)\n",
    "\n",
    "# fig = figure(height=400, width=400)\n",
    "# fig.circle(x=range(10), y=range(10))\n",
    "\n",
    "# create dashboard objects\n",
    "title = pn.pane.Markdown('##Homepage', width=500)\n",
    "options = pn.Row(red_btn, orange_btn, green_btn, blue_btn, pink_btn)\n",
    "figure1 = pn.Column(stroop_barplot)\n",
    "figure1_text = pn.Row(pn.pane.Markdown('\\n'.join(sample_text.split('\\n')[:4]), width=800))\n",
    "figure2 = pn.Column(stroop_boxplot)\n",
    "figure2_text = pn.Row(pn.pane.Markdown('\\n'.join(sample_text.split('\\n')[:4]), width=800))\n",
    "\n",
    "# append dashboard objects to main dashboard\n",
    "dashboard.main.append(title)\n",
    "dashboard.main.append(options)\n",
    "dashboard.main.append(figure1)\n",
    "dashboard.main.append(figure1_text)\n",
    "dashboard.main.append(figure2)\n",
    "dashboard.main.append(figure2_text)\n",
    "\n",
    "# show dashboard \n",
    "dashboard.show()"
   ]
  },
  {
   "cell_type": "markdown",
   "metadata": {},
   "source": [
    "---"
   ]
  }
 ],
 "metadata": {
  "kernelspec": {
   "display_name": "Python 3",
   "language": "python",
   "name": "python3"
  },
  "language_info": {
   "codemirror_mode": {
    "name": "ipython",
    "version": 3
   },
   "file_extension": ".py",
   "mimetype": "text/x-python",
   "name": "python",
   "nbconvert_exporter": "python",
   "pygments_lexer": "ipython3",
   "version": "3.10.8"
  },
  "vscode": {
   "interpreter": {
    "hash": "6f1aba663bebabb9864b7285f06c2d52daaf5bdef2d066bcc95478fd24a24490"
   }
  }
 },
 "nbformat": 4,
 "nbformat_minor": 4
}
